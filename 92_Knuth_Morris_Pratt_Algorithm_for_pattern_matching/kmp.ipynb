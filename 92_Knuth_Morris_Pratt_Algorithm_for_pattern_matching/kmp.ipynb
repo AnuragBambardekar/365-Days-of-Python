{
 "cells": [
  {
   "attachments": {},
   "cell_type": "markdown",
   "metadata": {},
   "source": [
    "# Knuth Morris Pratt Algorithm"
   ]
  },
  {
   "attachments": {},
   "cell_type": "markdown",
   "metadata": {},
   "source": [
    "The Knuth-Morris-Pratt (KMP) algorithm is a string matching algorithm that finds the occurrences of a pattern within a larger text. The significance of the KMP algorithm is that it has a time complexity of O(n+m) where n is the length of the text and m is the length of the pattern. This makes it more efficient than naive string matching algorithms, which have a time complexity of O(n*m).\n",
    "\n",
    "The KMP algorithm uses a prefix function to preprocess the pattern, which allows it to avoid unnecessary character comparisons when searching for the pattern in the text. The prefix function calculates the length of the longest proper prefix that matches a proper suffix of the pattern, and uses this information to skip over already matched characters in the text."
   ]
  },
  {
   "cell_type": "code",
   "execution_count": 1,
   "metadata": {},
   "outputs": [],
   "source": [
    "def kmp(text, pattern):\n",
    "    n = len(text)\n",
    "    m = len(pattern)\n",
    "    prefix = get_prefix(pattern)\n",
    "    j = 0\n",
    "    for i in range(n):\n",
    "        while j > 0 and text[i] != pattern[j]:\n",
    "            j = prefix[j-1]\n",
    "        if text[i] == pattern[j]:\n",
    "            j += 1\n",
    "        if j == m:\n",
    "            return i - m + 1\n",
    "    return -1\n",
    "\n",
    "def get_prefix(pattern):\n",
    "    m = len(pattern)\n",
    "    prefix = [0] * m\n",
    "    j = 0\n",
    "    for i in range(1, m):\n",
    "        while j > 0 and pattern[i] != pattern[j]:\n",
    "            j = prefix[j-1]\n",
    "        if pattern[i] == pattern[j]:\n",
    "            j += 1\n",
    "        prefix[i] = j\n",
    "    return prefix\n"
   ]
  },
  {
   "cell_type": "code",
   "execution_count": 2,
   "metadata": {},
   "outputs": [
    {
     "name": "stdout",
     "output_type": "stream",
     "text": [
      "Pattern found at index: 10\n"
     ]
    }
   ],
   "source": [
    "text = \"ABABDABACDABABCABAB\"\n",
    "pattern = \"ABABCABAB\"\n",
    "result = kmp(text, pattern)\n",
    "print(\"Pattern found at index:\", result)"
   ]
  },
  {
   "attachments": {},
   "cell_type": "markdown",
   "metadata": {},
   "source": [
    "As for an important application of the KMP algorithm, it is commonly used in **bioinformatics for DNA sequence analysis**. In particular, it is used for finding sequence similarities in DNA and protein sequences, which can be used to identify functional and structural features of biological molecules."
   ]
  },
  {
   "attachments": {},
   "cell_type": "markdown",
   "metadata": {},
   "source": [
    "Find all occurrences of a DNA sequence motif in a larger DNA sequence"
   ]
  },
  {
   "cell_type": "code",
   "execution_count": 3,
   "metadata": {},
   "outputs": [],
   "source": [
    "def find_motif(dna, motif):\n",
    "    positions = []\n",
    "    n = len(dna)\n",
    "    m = len(motif)\n",
    "    prefix = get_prefix(motif)\n",
    "    j = 0\n",
    "    for i in range(n):\n",
    "        while j > 0 and dna[i] != motif[j]:\n",
    "            j = prefix[j-1]\n",
    "        if dna[i] == motif[j]:\n",
    "            j += 1\n",
    "        if j == m:\n",
    "            positions.append(i - m + 1)\n",
    "            j = prefix[j-1]\n",
    "    return positions\n"
   ]
  },
  {
   "cell_type": "code",
   "execution_count": 4,
   "metadata": {},
   "outputs": [
    {
     "name": "stdout",
     "output_type": "stream",
     "text": [
      "Motif found at positions: [0, 13]\n"
     ]
    }
   ],
   "source": [
    "# Example DNA sequence\n",
    "dna = \"ATGCGCTAGCTAGATGCTAGCTAGCTAGCTAG\"\n",
    "\n",
    "# Motif to search for\n",
    "motif = \"ATG\"\n",
    "\n",
    "# Call the find_motif function to get the positions of the motif\n",
    "positions = find_motif(dna, motif)\n",
    "\n",
    "# Print the positions of the motif in the DNA sequence\n",
    "print(\"Motif found at positions:\", positions)\n"
   ]
  },
  {
   "attachments": {},
   "cell_type": "markdown",
   "metadata": {},
   "source": [
    "Regular expressions (regex) and the Knuth-Morris-Pratt (KMP) algorithm are both used for pattern matching in strings, but they differ in their approach and use cases.\n",
    "\n",
    "Regular expressions are a general-purpose pattern matching tool used to match complex patterns in strings. Regex allows the user to specify a pattern using a combination of alphanumeric characters, operators, and wildcards to match against a string. The regex engine then uses a combination of deterministic and non-deterministic algorithms to search the input string for matches. Regex is often used in text processing, data mining, and natural language processing applications.\n",
    "\n",
    "On the other hand, the KMP algorithm is a specialized algorithm used for finding the occurrence of a specific pattern in a string. It works by pre-computing a partial match table, which is then used to find matches efficiently. KMP is often used in bioinformatics, text editors, and image processing applications.\n",
    "\n",
    "In summary, regular expressions are more powerful and flexible than KMP but are slower for simple string matching tasks. KMP is faster and more efficient for specific pattern matching tasks, but it is not as flexible as regex. The choice between the two depends on the specific requirements of the task at hand."
   ]
  },
  {
   "attachments": {},
   "cell_type": "markdown",
   "metadata": {},
   "source": [
    "The choice between regex and the KMP algorithm depends on the specific requirements of the task at hand. Both have their strengths and weaknesses, and one may be better suited than the other depending on the application.\n",
    "\n",
    "If the goal is to find the occurrence of a specific pattern in a string, the KMP algorithm is generally faster and more efficient than regex. However, if the pattern is complex and includes a variety of possible variations, regex may be more appropriate.\n",
    "\n",
    "On the other hand, if the goal is to match complex patterns in a string, such as identifying email addresses or URLs, regex is generally more powerful and flexible than the KMP algorithm. In this case, the KMP algorithm may not be appropriate or even feasible."
   ]
  }
 ],
 "metadata": {
  "kernelspec": {
   "display_name": "Python 3",
   "language": "python",
   "name": "python3"
  },
  "language_info": {
   "codemirror_mode": {
    "name": "ipython",
    "version": 3
   },
   "file_extension": ".py",
   "mimetype": "text/x-python",
   "name": "python",
   "nbconvert_exporter": "python",
   "pygments_lexer": "ipython3",
   "version": "3.10.8"
  },
  "orig_nbformat": 4
 },
 "nbformat": 4,
 "nbformat_minor": 2
}
