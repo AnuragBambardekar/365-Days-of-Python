{
 "cells": [
  {
   "attachments": {},
   "cell_type": "markdown",
   "metadata": {},
   "source": [
    "# OS Module in Python"
   ]
  },
  {
   "attachments": {},
   "cell_type": "markdown",
   "metadata": {},
   "source": [
    "### Some commonly used os commands in Python"
   ]
  },
  {
   "cell_type": "code",
   "execution_count": 1,
   "metadata": {},
   "outputs": [],
   "source": [
    "import os"
   ]
  },
  {
   "cell_type": "code",
   "execution_count": 2,
   "metadata": {},
   "outputs": [
    {
     "name": "stdout",
     "output_type": "stream",
     "text": [
      "['DirEntry', 'F_OK', 'GenericAlias', 'Mapping', 'MutableMapping', 'O_APPEND', 'O_BINARY', 'O_CREAT', 'O_EXCL', 'O_NOINHERIT', 'O_RANDOM', 'O_RDONLY', 'O_RDWR', 'O_SEQUENTIAL', 'O_SHORT_LIVED', 'O_TEMPORARY', 'O_TEXT', 'O_TRUNC', 'O_WRONLY', 'P_DETACH', 'P_NOWAIT', 'P_NOWAITO', 'P_OVERLAY', 'P_WAIT', 'PathLike', 'R_OK', 'SEEK_CUR', 'SEEK_END', 'SEEK_SET', 'TMP_MAX', 'W_OK', 'X_OK', '_AddedDllDirectory', '_Environ', '__all__', '__builtins__', '__cached__', '__doc__', '__file__', '__loader__', '__name__', '__package__', '__spec__', '_check_methods', '_execvpe', '_exists', '_exit', '_fspath', '_get_exports_list', '_walk', '_wrap_close', 'abc', 'abort', 'access', 'add_dll_directory', 'altsep', 'chdir', 'chmod', 'close', 'closerange', 'cpu_count', 'curdir', 'defpath', 'device_encoding', 'devnull', 'dup', 'dup2', 'environ', 'error', 'execl', 'execle', 'execlp', 'execlpe', 'execv', 'execve', 'execvp', 'execvpe', 'extsep', 'fdopen', 'fsdecode', 'fsencode', 'fspath', 'fstat', 'fsync', 'ftruncate', 'get_exec_path', 'get_handle_inheritable', 'get_inheritable', 'get_terminal_size', 'getcwd', 'getcwdb', 'getenv', 'getlogin', 'getpid', 'getppid', 'isatty', 'kill', 'linesep', 'link', 'listdir', 'lseek', 'lstat', 'makedirs', 'mkdir', 'name', 'open', 'pardir', 'path', 'pathsep', 'pipe', 'popen', 'putenv', 'read', 'readlink', 'remove', 'removedirs', 'rename', 'renames', 'replace', 'rmdir', 'scandir', 'sep', 'set_handle_inheritable', 'set_inheritable', 'spawnl', 'spawnle', 'spawnv', 'spawnve', 'st', 'startfile', 'stat', 'stat_result', 'statvfs_result', 'strerror', 'supports_bytes_environ', 'supports_dir_fd', 'supports_effective_ids', 'supports_fd', 'supports_follow_symlinks', 'symlink', 'sys', 'system', 'terminal_size', 'times', 'times_result', 'truncate', 'umask', 'uname_result', 'unlink', 'unsetenv', 'urandom', 'utime', 'waitpid', 'waitstatus_to_exitcode', 'walk', 'write']\n"
     ]
    }
   ],
   "source": [
    "print(dir(os))"
   ]
  },
  {
   "cell_type": "code",
   "execution_count": 5,
   "metadata": {},
   "outputs": [
    {
     "name": "stdout",
     "output_type": "stream",
     "text": [
      "c:\\Users\\anura\\Documents\\VSCode_Workspace\\365-Days-of-Python\\55_OS\n"
     ]
    }
   ],
   "source": [
    "print(os.getcwd()) #Prints current Working directory"
   ]
  },
  {
   "cell_type": "code",
   "execution_count": 8,
   "metadata": {},
   "outputs": [
    {
     "name": "stdout",
     "output_type": "stream",
     "text": [
      "c:\\Users\\anura\\Desktop\n"
     ]
    }
   ],
   "source": [
    "os.chdir('/Users/anura/Desktop')\n",
    "print(os.getcwd())"
   ]
  },
  {
   "attachments": {},
   "cell_type": "markdown",
   "metadata": {},
   "source": [
    "See what files and folders are there on the desktop"
   ]
  },
  {
   "cell_type": "code",
   "execution_count": 9,
   "metadata": {},
   "outputs": [
    {
     "name": "stdout",
     "output_type": "stream",
     "text": [
      "['desktop.ini', 'Discord.lnk', 'Eclipse IDE for Enterprise Java and Web Developers - 2022-06.lnk', 'gmail.docx', 'Grammarly.lnk', 'MS ECE', 'Planner Template.xlsx', 'Postman.lnk', 'ProProctor.lnk', 'Red Dead Redemption 2.lnk', 'Rockstar Games Launcher.lnk', 'Slack.lnk', 'socrates meet.docx', 'sugsns.txt', 'today.txt', 'Visual Studio Code.lnk', 'VSCode_Workspace_backup', 'Where are my files.lnk', 'Zoom.lnk']\n"
     ]
    }
   ],
   "source": [
    "print(os.listdir())"
   ]
  },
  {
   "attachments": {},
   "cell_type": "markdown",
   "metadata": {},
   "source": [
    "Create new Folder in this folder"
   ]
  },
  {
   "cell_type": "code",
   "execution_count": 12,
   "metadata": {},
   "outputs": [],
   "source": [
    "os.chdir('/Users/anura/Documents/VSCode_Workspace/365-Days-of-Python/55_OS')"
   ]
  },
  {
   "cell_type": "code",
   "execution_count": 13,
   "metadata": {},
   "outputs": [],
   "source": [
    "os.mkdir('OS-Demo-1') \n",
    "# os.mkdir('OS-Demo-1/Sub-Dir-1')# returns Error because top level does not exist yet, so use makedirs"
   ]
  },
  {
   "cell_type": "code",
   "execution_count": 21,
   "metadata": {},
   "outputs": [],
   "source": [
    "os.makedirs('OS-Demo-2/Sub-Dir-1')"
   ]
  },
  {
   "attachments": {},
   "cell_type": "markdown",
   "metadata": {},
   "source": [
    "Deleting folders"
   ]
  },
  {
   "cell_type": "code",
   "execution_count": 19,
   "metadata": {},
   "outputs": [],
   "source": [
    "os.rmdir('OS-Demo-2/Sub-Dir-1') # will remove nested directories specifically"
   ]
  },
  {
   "cell_type": "code",
   "execution_count": 22,
   "metadata": {},
   "outputs": [],
   "source": [
    "os.removedirs('OS-Demo-2/Sub-Dir-1') #Deletes the whole directory"
   ]
  },
  {
   "attachments": {},
   "cell_type": "markdown",
   "metadata": {},
   "source": [
    "Rename a file/folder"
   ]
  },
  {
   "cell_type": "code",
   "execution_count": 23,
   "metadata": {},
   "outputs": [],
   "source": [
    "os.rename('test.txt','demo.txt')"
   ]
  },
  {
   "attachments": {},
   "cell_type": "markdown",
   "metadata": {},
   "source": [
    "Print info of demo.txt"
   ]
  },
  {
   "cell_type": "code",
   "execution_count": 24,
   "metadata": {},
   "outputs": [
    {
     "name": "stdout",
     "output_type": "stream",
     "text": [
      "os.stat_result(st_mode=33206, st_ino=28147497671168649, st_dev=168476604, st_nlink=1, st_uid=0, st_gid=0, st_size=0, st_atime=1676645373, st_mtime=1676645373, st_ctime=1676645373)\n"
     ]
    }
   ],
   "source": [
    "print(os.stat('demo.txt'))"
   ]
  },
  {
   "cell_type": "code",
   "execution_count": 25,
   "metadata": {},
   "outputs": [
    {
     "name": "stdout",
     "output_type": "stream",
     "text": [
      "0\n"
     ]
    }
   ],
   "source": [
    "print(os.stat('demo.txt').st_size) #size of file"
   ]
  },
  {
   "cell_type": "code",
   "execution_count": 26,
   "metadata": {},
   "outputs": [
    {
     "name": "stdout",
     "output_type": "stream",
     "text": [
      "1676645373.4803314\n"
     ]
    }
   ],
   "source": [
    "print(os.stat('demo.txt').st_mtime) #last modification time"
   ]
  },
  {
   "cell_type": "code",
   "execution_count": 27,
   "metadata": {},
   "outputs": [
    {
     "name": "stdout",
     "output_type": "stream",
     "text": [
      "2023-02-17 09:49:33.480331\n"
     ]
    }
   ],
   "source": [
    "from datetime import datetime\n",
    "mod_time = os.stat('demo.txt').st_mtime\n",
    "print(datetime.fromtimestamp(mod_time))"
   ]
  },
  {
   "attachments": {},
   "cell_type": "markdown",
   "metadata": {},
   "source": [
    "See the entire Directory Tree"
   ]
  },
  {
   "cell_type": "code",
   "execution_count": 28,
   "metadata": {},
   "outputs": [
    {
     "name": "stdout",
     "output_type": "stream",
     "text": [
      "Current Path:  /Users/anura/Documents/VSCode_Workspace/365-Days-of-Python\n",
      "Directories:  ['.git', '10_Diamond_patterns', '11_Armstrong_Number', '12_Threading_in_python', '13_Multiprocessing_in_python', '14_First50_Armstrong_numbers', '15_Fibonacci_sequence', '16_Find_day_a_date_falls_on', '17_Leap_year', '18_Regular_Expressions', '19_Turtle_Tutorial', '1_Print_commands_in_Python', '20_FontFamilies_in_python', '21_CountdownTimer', '22_Sympy_library_with_LaTeX', '23_Factorial', '24_ConsoleColors', '25_ASCII_Text_&_Art', '26_CaseTypesAndNamingConventions', '27_Text_To_Binary', '28_PermutationsCombinations', '29_DecimalToBinary_conversions', '2_Count_characters_in_Python', '30_DecimalToOctal_conversions', '31_DecimalToHex_conversions', \"32_DecimalTo2'sComplement_conversions\", '33_BinaryArithmetic', \"34_Floyd'sTriangle\", '35_BankingInterests', '365_videoCropperAndvideoToGIF_outputs', '36_Anagrams', '37_VideoToGIF', '38_VideoCropper', '39_TimeZones', '3_Palindrome_words_and_numbers', '40_Translator', '41_Disarium_Number', '42_CAPTCHA', '43_InterestingNumbersInARange', '44_Hangman', '45_Trigonometry', '46_Poker', '47_ResistorCodes', \"48_Ohm's_Law\", '49_DecimalToFraction', '4_LCM_and_HCF', '50_SieveOfEratosthenes', '51_SimulatingPowerballLottery', '52_BINGO', '53_Pytube_library', '54_ProgressBars', '55_OS', '5_Roman_to_Decimal', '6_Temperature_Conversion', '7_Weather_fetching', '8_QRCode_generator_and_reader', '9_Pascals_Triangle', '__pycache__']\n",
      "Files:  ['.gitignore', 'README.md']\n",
      "\n",
      "Current Path:  /Users/anura/Documents/VSCode_Workspace/365-Days-of-Python\\.git\n",
      "Directories:  ['hooks', 'info', 'logs', 'objects', 'refs']\n",
      "Files:  ['COMMIT_EDITMSG', 'config', 'description', 'FETCH_HEAD', 'HEAD', 'index', 'ORIG_HEAD', 'packed-refs']\n",
      "\n",
      "Current Path:  /Users/anura/Documents/VSCode_Workspace/365-Days-of-Python\\.git\\hooks\n",
      "Directories:  []\n",
      "Files:  ['applypatch-msg.sample', 'commit-msg.sample', 'fsmonitor-watchman.sample', 'post-update.sample', 'pre-applypatch.sample', 'pre-commit.sample', 'pre-merge-commit.sample', 'pre-push.sample', 'pre-rebase.sample', 'pre-receive.sample', 'prepare-commit-msg.sample', 'push-to-checkout.sample', 'update.sample']\n",
      "\n",
      "Current Path:  /Users/anura/Documents/VSCode_Workspace/365-Days-of-Python\\.git\\info\n",
      "Directories:  []\n",
      "Files:  ['exclude']\n",
      "\n",
      "Current Path:  /Users/anura/Documents/VSCode_Workspace/365-Days-of-Python\\.git\\logs\n",
      "Directories:  ['refs']\n",
      "Files:  ['HEAD']\n",
      "\n",
      "Current Path:  /Users/anura/Documents/VSCode_Workspace/365-Days-of-Python\\.git\\logs\\refs\n",
      "Directories:  ['heads', 'remotes']\n",
      "Files:  []\n",
      "\n",
      "Current Path:  /Users/anura/Documents/VSCode_Workspace/365-Days-of-Python\\.git\\logs\\refs\\heads\n",
      "Directories:  []\n",
      "Files:  ['main']\n",
      "\n",
      "Current Path:  /Users/anura/Documents/VSCode_Workspace/365-Days-of-Python\\.git\\logs\\refs\\remotes\n",
      "Directories:  ['origin']\n",
      "Files:  []\n",
      "\n",
      "Current Path:  /Users/anura/Documents/VSCode_Workspace/365-Days-of-Python\\.git\\logs\\refs\\remotes\\origin\n",
      "Directories:  []\n",
      "Files:  ['HEAD', 'main']\n",
      "\n",
      "Current Path:  /Users/anura/Documents/VSCode_Workspace/365-Days-of-Python\\.git\\objects\n",
      "Directories:  ['02', '04', '06', '09', '0a', '0c', '0f', '10', '12', '17', '1b', '1c', '1d', '1f', '20', '23', '24', '25', '27', '28', '29', '2b', '2f', '35', '36', '3a', '3b', '3d', '40', '44', '45', '49', '4a', '4c', '50', '51', '55', '56', '57', '5d', '5e', '5f', '62', '65', '66', '6e', '6f', '75', '77', '79', '7a', '7b', '7e', '87', '92', '93', '95', '96', '97', '9a', '9b', '9d', '9e', 'a2', 'a3', 'a5', 'a8', 'aa', 'ab', 'ac', 'b2', 'b6', 'b8', 'b9', 'bb', 'bf', 'c0', 'c1', 'c2', 'c4', 'c5', 'c6', 'c7', 'd2', 'd3', 'd4', 'd6', 'd7', 'db', 'df', 'e0', 'e1', 'e5', 'e7', 'e8', 'ea', 'ed', 'ee', 'ef', 'f0', 'f5', 'f6', 'f7', 'f8', 'fa', 'fe', 'info', 'pack']\n",
      "Files:  []\n",
      "\n",
      "Current Path:  /Users/anura/Documents/VSCode_Workspace/365-Days-of-Python\\.git\\objects\\02\n",
      "Directories:  []\n",
      "Files:  ['e085177028d06c0aa7980e59c54b84abab04b2']\n",
      "\n",
      "Current Path:  /Users/anura/Documents/VSCode_Workspace/365-Days-of-Python\\.git\\objects\\04\n",
      "Directories:  []\n",
      "Files:  ['76260d924e29a962575e66838037c40f9ee25e']\n",
      "\n",
      "Current Path:  /Users/anura/Documents/VSCode_Workspace/365-Days-of-Python\\.git\\objects\\06\n",
      "Directories:  []\n",
      "Files:  ['68283fd6467cff1e7a45314e5bc92361fddd15', '772e888eaf66211fe9f42366312a73f5942b28']\n",
      "\n",
      "Current Path:  /Users/anura/Documents/VSCode_Workspace/365-Days-of-Python\\.git\\objects\\09\n",
      "Directories:  []\n",
      "Files:  ['759506b4e6a50c71922edd08508baac4dae018']\n",
      "\n",
      "Current Path:  /Users/anura/Documents/VSCode_Workspace/365-Days-of-Python\\.git\\objects\\0a\n",
      "Directories:  []\n",
      "Files:  ['315f4b0ea1b6db1381247a3a031fe4a5f03707']\n",
      "\n",
      "Current Path:  /Users/anura/Documents/VSCode_Workspace/365-Days-of-Python\\.git\\objects\\0c\n",
      "Directories:  []\n",
      "Files:  ['28d690bcd5d200df66c2737e35646c29fca97e', '37daaf71fca1dc2aeb23ab8242911f1294f72c']\n",
      "\n",
      "Current Path:  /Users/anura/Documents/VSCode_Workspace/365-Days-of-Python\\.git\\objects\\0f\n",
      "Directories:  []\n",
      "Files:  ['62cf6f2ec91644f640a169d2d25f3ae0b3aae9', 'c553c96d84972bf0de9c02f6d436a244ecc8b1']\n",
      "\n",
      "Current Path:  /Users/anura/Documents/VSCode_Workspace/365-Days-of-Python\\.git\\objects\\10\n",
      "Directories:  []\n",
      "Files:  ['8a334e4896bc8ebf35bc51961cddaa8a8803d6']\n",
      "\n",
      "Current Path:  /Users/anura/Documents/VSCode_Workspace/365-Days-of-Python\\.git\\objects\\12\n",
      "Directories:  []\n",
      "Files:  ['2e16ac2c5c86dbc28a38369312474ad9772300']\n",
      "\n",
      "Current Path:  /Users/anura/Documents/VSCode_Workspace/365-Days-of-Python\\.git\\objects\\17\n",
      "Directories:  []\n",
      "Files:  ['f07a6f8d8a36e9175f470757ee424b0bbf386d']\n",
      "\n",
      "Current Path:  /Users/anura/Documents/VSCode_Workspace/365-Days-of-Python\\.git\\objects\\1b\n",
      "Directories:  []\n",
      "Files:  ['1ae9b13ef9af167bcc09e2055fc26248579ff1']\n",
      "\n",
      "Current Path:  /Users/anura/Documents/VSCode_Workspace/365-Days-of-Python\\.git\\objects\\1c\n",
      "Directories:  []\n",
      "Files:  ['2711404e81aeac6fef82257dd04cdd299f6e6f']\n",
      "\n",
      "Current Path:  /Users/anura/Documents/VSCode_Workspace/365-Days-of-Python\\.git\\objects\\1d\n",
      "Directories:  []\n",
      "Files:  ['d282c55f61c1d1750596e42dde5d442b3fcba8']\n",
      "\n",
      "Current Path:  /Users/anura/Documents/VSCode_Workspace/365-Days-of-Python\\.git\\objects\\1f\n",
      "Directories:  []\n",
      "Files:  ['0257bc96ef970167a7bfbb2d7c794d89db1eff']\n",
      "\n",
      "Current Path:  /Users/anura/Documents/VSCode_Workspace/365-Days-of-Python\\.git\\objects\\20\n",
      "Directories:  []\n",
      "Files:  ['0f8e2c22f2022de187cc40ce37312cfc35aff5']\n",
      "\n",
      "Current Path:  /Users/anura/Documents/VSCode_Workspace/365-Days-of-Python\\.git\\objects\\23\n",
      "Directories:  []\n",
      "Files:  ['10a9a3be9c770ec5fa69ea01939039b5d35ba5']\n",
      "\n",
      "Current Path:  /Users/anura/Documents/VSCode_Workspace/365-Days-of-Python\\.git\\objects\\24\n",
      "Directories:  []\n",
      "Files:  ['b999a61fe4442a852e207d85d293297b0655bb', 'c8d2bda3b16efa7ca81432a28fc5ab43154638']\n",
      "\n",
      "Current Path:  /Users/anura/Documents/VSCode_Workspace/365-Days-of-Python\\.git\\objects\\25\n",
      "Directories:  []\n",
      "Files:  ['133b76ef92552607380bf0d2f16ec2601d4c7b', '881485be482a26b8e14785652851b4211b36bf']\n",
      "\n",
      "Current Path:  /Users/anura/Documents/VSCode_Workspace/365-Days-of-Python\\.git\\objects\\27\n",
      "Directories:  []\n",
      "Files:  ['02eed62feb70335deb108bc8452791f5288e1c', '4c2f0ae70520cd403100e71158fa8a61686672']\n",
      "\n",
      "Current Path:  /Users/anura/Documents/VSCode_Workspace/365-Days-of-Python\\.git\\objects\\28\n",
      "Directories:  []\n",
      "Files:  ['fdde99b2d564ae13bc0d749f6ff1e2589d0d86']\n",
      "\n",
      "Current Path:  /Users/anura/Documents/VSCode_Workspace/365-Days-of-Python\\.git\\objects\\29\n",
      "Directories:  []\n",
      "Files:  ['3411301c95b529a63ce7f9a00fab3d548e6622']\n",
      "\n",
      "Current Path:  /Users/anura/Documents/VSCode_Workspace/365-Days-of-Python\\.git\\objects\\2b\n",
      "Directories:  []\n",
      "Files:  ['8a24cadd75d7452664d0a985d3a63f8e3493b5']\n",
      "\n",
      "Current Path:  /Users/anura/Documents/VSCode_Workspace/365-Days-of-Python\\.git\\objects\\2f\n",
      "Directories:  []\n",
      "Files:  ['b6260bd10fd04a496a1e8d2a1059bf422cd499']\n",
      "\n",
      "Current Path:  /Users/anura/Documents/VSCode_Workspace/365-Days-of-Python\\.git\\objects\\35\n",
      "Directories:  []\n",
      "Files:  ['0bdd70e07f43395467aa5f55b80dceee90b230']\n",
      "\n",
      "Current Path:  /Users/anura/Documents/VSCode_Workspace/365-Days-of-Python\\.git\\objects\\36\n",
      "Directories:  []\n",
      "Files:  ['97153e06e4ffe2a9b2b7bfbc0d2639c378d801']\n",
      "\n",
      "Current Path:  /Users/anura/Documents/VSCode_Workspace/365-Days-of-Python\\.git\\objects\\3a\n",
      "Directories:  []\n",
      "Files:  ['d861af87723a22af55a94c8b4481d078d9d88c']\n",
      "\n",
      "Current Path:  /Users/anura/Documents/VSCode_Workspace/365-Days-of-Python\\.git\\objects\\3b\n",
      "Directories:  []\n",
      "Files:  ['98b457999fc179eafd10526c821399ce9cead0']\n",
      "\n",
      "Current Path:  /Users/anura/Documents/VSCode_Workspace/365-Days-of-Python\\.git\\objects\\3d\n",
      "Directories:  []\n",
      "Files:  ['9eea034e8008acf729fefa460d0d444ab13358']\n",
      "\n",
      "Current Path:  /Users/anura/Documents/VSCode_Workspace/365-Days-of-Python\\.git\\objects\\40\n",
      "Directories:  []\n",
      "Files:  ['e1245842d3e53b45f6fba7f504abe39c93488c']\n",
      "\n",
      "Current Path:  /Users/anura/Documents/VSCode_Workspace/365-Days-of-Python\\.git\\objects\\44\n",
      "Directories:  []\n",
      "Files:  ['5246d042f8e49749cca3661e6ec44dc4a741b3']\n",
      "\n",
      "Current Path:  /Users/anura/Documents/VSCode_Workspace/365-Days-of-Python\\.git\\objects\\45\n",
      "Directories:  []\n",
      "Files:  ['b46504ebfc3860538a3e3fdd1ac228819104c7', 'cf6c45a798ccd35f255084be7b9e174d400199']\n",
      "\n",
      "Current Path:  /Users/anura/Documents/VSCode_Workspace/365-Days-of-Python\\.git\\objects\\49\n",
      "Directories:  []\n",
      "Files:  ['0aaed947a0d785904b9beee82462e0e6a7c83b']\n",
      "\n",
      "Current Path:  /Users/anura/Documents/VSCode_Workspace/365-Days-of-Python\\.git\\objects\\4a\n",
      "Directories:  []\n",
      "Files:  ['c936a67e4ed3a85c2451cebb6e86ad13f125a3']\n",
      "\n",
      "Current Path:  /Users/anura/Documents/VSCode_Workspace/365-Days-of-Python\\.git\\objects\\4c\n",
      "Directories:  []\n",
      "Files:  ['4434032423dee1459db29bf33b3fd310383889']\n",
      "\n",
      "Current Path:  /Users/anura/Documents/VSCode_Workspace/365-Days-of-Python\\.git\\objects\\50\n",
      "Directories:  []\n",
      "Files:  ['48403a541f2cb25d1778c452c241e81f76feaf']\n",
      "\n",
      "Current Path:  /Users/anura/Documents/VSCode_Workspace/365-Days-of-Python\\.git\\objects\\51\n",
      "Directories:  []\n",
      "Files:  ['97bc0377a826093a58ae1d0cc99ffbd88571b0']\n",
      "\n",
      "Current Path:  /Users/anura/Documents/VSCode_Workspace/365-Days-of-Python\\.git\\objects\\55\n",
      "Directories:  []\n",
      "Files:  ['5585d3ec19c1425590f5235175f2f676f483f5']\n",
      "\n",
      "Current Path:  /Users/anura/Documents/VSCode_Workspace/365-Days-of-Python\\.git\\objects\\56\n",
      "Directories:  []\n",
      "Files:  ['4e26e3a1ab245779e0e7a0034de35d4fd6a4b2', 'ae597cc01cc7917e2b8350de1e2b96a3dc4ba3']\n",
      "\n",
      "Current Path:  /Users/anura/Documents/VSCode_Workspace/365-Days-of-Python\\.git\\objects\\57\n",
      "Directories:  []\n",
      "Files:  ['9b88650bcb4cac0c4576f27e3bd20b82bd6792']\n",
      "\n",
      "Current Path:  /Users/anura/Documents/VSCode_Workspace/365-Days-of-Python\\.git\\objects\\5d\n",
      "Directories:  []\n",
      "Files:  ['dc15f76fce230a895d72dcb97d8b8da54d9ffe']\n",
      "\n",
      "Current Path:  /Users/anura/Documents/VSCode_Workspace/365-Days-of-Python\\.git\\objects\\5e\n",
      "Directories:  []\n",
      "Files:  ['12c8c6756c63d7d3ff11143a7d30a4f55abd1e']\n",
      "\n",
      "Current Path:  /Users/anura/Documents/VSCode_Workspace/365-Days-of-Python\\.git\\objects\\5f\n",
      "Directories:  []\n",
      "Files:  ['f3ee3e7319183bd260e3106a533ee1dcf11f6b']\n",
      "\n",
      "Current Path:  /Users/anura/Documents/VSCode_Workspace/365-Days-of-Python\\.git\\objects\\62\n",
      "Directories:  []\n",
      "Files:  ['dbb5a2dc432a5a0ec31f319ce720a8aaee2596']\n",
      "\n",
      "Current Path:  /Users/anura/Documents/VSCode_Workspace/365-Days-of-Python\\.git\\objects\\65\n",
      "Directories:  []\n",
      "Files:  ['ac88e80db2a5aa98def2d313724edc8011cc1e', 'fc43ff8c78feb8bbb32e4ad2376304c288dde2']\n",
      "\n",
      "Current Path:  /Users/anura/Documents/VSCode_Workspace/365-Days-of-Python\\.git\\objects\\66\n",
      "Directories:  []\n",
      "Files:  ['82946dabd13a06e73a7a90a0a59b9138a455fe', 'b86a1961b32157d5447a3634c6a916ee57f3d6']\n",
      "\n",
      "Current Path:  /Users/anura/Documents/VSCode_Workspace/365-Days-of-Python\\.git\\objects\\6e\n",
      "Directories:  []\n",
      "Files:  ['224647b3aa4b6d0285d9a4b7758b17a61b959d', '98bc4f62486a8d869af6b2e48a3808ffd7f75b']\n",
      "\n",
      "Current Path:  /Users/anura/Documents/VSCode_Workspace/365-Days-of-Python\\.git\\objects\\6f\n",
      "Directories:  []\n",
      "Files:  ['238a4e1d915fad73cf9973d6d589f7a06ac8c5', '9363af9f1766e7845ffb7ef7d562a50a4ccccd']\n",
      "\n",
      "Current Path:  /Users/anura/Documents/VSCode_Workspace/365-Days-of-Python\\.git\\objects\\75\n",
      "Directories:  []\n",
      "Files:  ['259a046566acdbecd437d81c8b85d83c6a00e8', '708f40f5c61dfd830d531e5c7908bea79bd123']\n",
      "\n",
      "Current Path:  /Users/anura/Documents/VSCode_Workspace/365-Days-of-Python\\.git\\objects\\77\n",
      "Directories:  []\n",
      "Files:  ['88752187dbeb59573151e203ae1375a04b1b72']\n",
      "\n",
      "Current Path:  /Users/anura/Documents/VSCode_Workspace/365-Days-of-Python\\.git\\objects\\79\n",
      "Directories:  []\n",
      "Files:  ['547bbcbfa2c0f244b4ad9eec5d38e7307ecff5', 'eedc5a9a748fc9207abd89ed9c3d06058193d8']\n",
      "\n",
      "Current Path:  /Users/anura/Documents/VSCode_Workspace/365-Days-of-Python\\.git\\objects\\7a\n",
      "Directories:  []\n",
      "Files:  ['5f15792851056d560e2ac5d3d2886a50cbc021', '850ede35e25066dab2136ad696a30b8538c8f0']\n",
      "\n",
      "Current Path:  /Users/anura/Documents/VSCode_Workspace/365-Days-of-Python\\.git\\objects\\7b\n",
      "Directories:  []\n",
      "Files:  ['2c16207c2d305130c1f0205ad4aeb0aadfdb25']\n",
      "\n",
      "Current Path:  /Users/anura/Documents/VSCode_Workspace/365-Days-of-Python\\.git\\objects\\7e\n",
      "Directories:  []\n",
      "Files:  ['007ab794b760c71c8f2de8cd7ea1fc443791d7']\n",
      "\n",
      "Current Path:  /Users/anura/Documents/VSCode_Workspace/365-Days-of-Python\\.git\\objects\\87\n",
      "Directories:  []\n",
      "Files:  ['9cff81a7cab74349206514ac9e6fbc6ee07373']\n",
      "\n",
      "Current Path:  /Users/anura/Documents/VSCode_Workspace/365-Days-of-Python\\.git\\objects\\92\n",
      "Directories:  []\n",
      "Files:  ['8381e9654fe4a381a01edfeffc743ede38862c', 'aaa4f9d2e7f3b67edcea6745885a0bcc04840e']\n",
      "\n",
      "Current Path:  /Users/anura/Documents/VSCode_Workspace/365-Days-of-Python\\.git\\objects\\93\n",
      "Directories:  []\n",
      "Files:  ['69f087c8c949f2f853ebad4c289fb5db77111b']\n",
      "\n",
      "Current Path:  /Users/anura/Documents/VSCode_Workspace/365-Days-of-Python\\.git\\objects\\95\n",
      "Directories:  []\n",
      "Files:  ['d042b0770f22e2358e318f1924a008170ad448']\n",
      "\n",
      "Current Path:  /Users/anura/Documents/VSCode_Workspace/365-Days-of-Python\\.git\\objects\\96\n",
      "Directories:  []\n",
      "Files:  ['6a7562cc24532963a95b1c0a9c35da1c416675', 'bf5fbb258231788088a80d084c1ec04d8bfea1']\n",
      "\n",
      "Current Path:  /Users/anura/Documents/VSCode_Workspace/365-Days-of-Python\\.git\\objects\\97\n",
      "Directories:  []\n",
      "Files:  ['1b11dc16063d21239de67c2f9b4668b37d3cac']\n",
      "\n",
      "Current Path:  /Users/anura/Documents/VSCode_Workspace/365-Days-of-Python\\.git\\objects\\9a\n",
      "Directories:  []\n",
      "Files:  ['96053629df1012a23912c69a0dd6b7626ccf4e']\n",
      "\n",
      "Current Path:  /Users/anura/Documents/VSCode_Workspace/365-Days-of-Python\\.git\\objects\\9b\n",
      "Directories:  []\n",
      "Files:  ['4397df3f31a6633f4df08fdd9c4f8edaf61347', 'c6e6ea0186238f0d82e61bbd3037fd3af5a16d']\n",
      "\n",
      "Current Path:  /Users/anura/Documents/VSCode_Workspace/365-Days-of-Python\\.git\\objects\\9d\n",
      "Directories:  []\n",
      "Files:  ['47bfe0c73d62f7dc53320d0a5de29689f9b470', '7408b2925afd4fe6b919dead383660bb8f1cbb']\n",
      "\n",
      "Current Path:  /Users/anura/Documents/VSCode_Workspace/365-Days-of-Python\\.git\\objects\\9e\n",
      "Directories:  []\n",
      "Files:  ['4c2df799057eec4a060ac5ef0449e0910c77a3', '505983c8e47f39cf3758c6bf568a679771ef30']\n",
      "\n",
      "Current Path:  /Users/anura/Documents/VSCode_Workspace/365-Days-of-Python\\.git\\objects\\a2\n",
      "Directories:  []\n",
      "Files:  ['062c1d1f5db977666999dc5a5f39e95204e9d4', '2af64da72278287b64752e9d1711ac191e8b8c']\n",
      "\n",
      "Current Path:  /Users/anura/Documents/VSCode_Workspace/365-Days-of-Python\\.git\\objects\\a3\n",
      "Directories:  []\n",
      "Files:  ['274d7f67c77c2be0c81e6d185f610a3fc195ef', 'fcc38fecbcd52b04c5a815bfa6d10d57c08238']\n",
      "\n",
      "Current Path:  /Users/anura/Documents/VSCode_Workspace/365-Days-of-Python\\.git\\objects\\a5\n",
      "Directories:  []\n",
      "Files:  ['7997294f0dc9296db67e6938076f6daacb2fa3']\n",
      "\n",
      "Current Path:  /Users/anura/Documents/VSCode_Workspace/365-Days-of-Python\\.git\\objects\\a8\n",
      "Directories:  []\n",
      "Files:  ['259056cbc1f143b642d908d7e05f2397d2554b']\n",
      "\n",
      "Current Path:  /Users/anura/Documents/VSCode_Workspace/365-Days-of-Python\\.git\\objects\\aa\n",
      "Directories:  []\n",
      "Files:  ['303b24663acf659ecaf1ba0ffcfb52f1b90c1e', '3353ee7f15324d957ddd47813721b2c3c4b10d', '4eb9b55480a5444c68c8e5571e97dc24b93914']\n",
      "\n",
      "Current Path:  /Users/anura/Documents/VSCode_Workspace/365-Days-of-Python\\.git\\objects\\ab\n",
      "Directories:  []\n",
      "Files:  ['132f6ac3bc83a29a9b640bd449f482980ea702']\n",
      "\n",
      "Current Path:  /Users/anura/Documents/VSCode_Workspace/365-Days-of-Python\\.git\\objects\\ac\n",
      "Directories:  []\n",
      "Files:  ['1d0aaa57afb22fa1316537004a855e5d43551c']\n",
      "\n",
      "Current Path:  /Users/anura/Documents/VSCode_Workspace/365-Days-of-Python\\.git\\objects\\b2\n",
      "Directories:  []\n",
      "Files:  ['a4c082754419b0c302c5110bd7a97df89cab36']\n",
      "\n",
      "Current Path:  /Users/anura/Documents/VSCode_Workspace/365-Days-of-Python\\.git\\objects\\b6\n",
      "Directories:  []\n",
      "Files:  ['173309d3b49b9a05bb0016cb75848823599a7b']\n",
      "\n",
      "Current Path:  /Users/anura/Documents/VSCode_Workspace/365-Days-of-Python\\.git\\objects\\b8\n",
      "Directories:  []\n",
      "Files:  ['776c525455ae6e6b17c9a6cbdac9f8e2a94eb6']\n",
      "\n",
      "Current Path:  /Users/anura/Documents/VSCode_Workspace/365-Days-of-Python\\.git\\objects\\b9\n",
      "Directories:  []\n",
      "Files:  ['2c42cc89c6e7f9a43a733d14ce513c951b71c2', 'f2eec50406b574f7428717f2e2db5d14f49474']\n",
      "\n",
      "Current Path:  /Users/anura/Documents/VSCode_Workspace/365-Days-of-Python\\.git\\objects\\bb\n",
      "Directories:  []\n",
      "Files:  ['b70de08ae0084741c26404e7e09e2470a36af9', 'dabfd52616e3b19d62a065492a52279602c2ee']\n",
      "\n",
      "Current Path:  /Users/anura/Documents/VSCode_Workspace/365-Days-of-Python\\.git\\objects\\bf\n",
      "Directories:  []\n",
      "Files:  ['84f87ec28d640c0c6bde84b89b634b65471f27']\n",
      "\n",
      "Current Path:  /Users/anura/Documents/VSCode_Workspace/365-Days-of-Python\\.git\\objects\\c0\n",
      "Directories:  []\n",
      "Files:  ['d54946aea12f4b223f4e11d4e322a69ff18bdb']\n",
      "\n",
      "Current Path:  /Users/anura/Documents/VSCode_Workspace/365-Days-of-Python\\.git\\objects\\c1\n",
      "Directories:  []\n",
      "Files:  ['c38df208fdaf16172177ef1e4d7f497659f8be']\n",
      "\n",
      "Current Path:  /Users/anura/Documents/VSCode_Workspace/365-Days-of-Python\\.git\\objects\\c2\n",
      "Directories:  []\n",
      "Files:  ['a844e3857965457ed6d886959732a50dfa0e18', 'ac11cf9402b73176f7d4fcf21cd8e71326cc5f']\n",
      "\n",
      "Current Path:  /Users/anura/Documents/VSCode_Workspace/365-Days-of-Python\\.git\\objects\\c4\n",
      "Directories:  []\n",
      "Files:  ['7f09a6994dddb215a87689a564bf085601f466']\n",
      "\n",
      "Current Path:  /Users/anura/Documents/VSCode_Workspace/365-Days-of-Python\\.git\\objects\\c5\n",
      "Directories:  []\n",
      "Files:  ['d22906f8d383e04aa68c63c7a35dc361191239']\n",
      "\n",
      "Current Path:  /Users/anura/Documents/VSCode_Workspace/365-Days-of-Python\\.git\\objects\\c6\n",
      "Directories:  []\n",
      "Files:  ['014d2cde9169d8622f3d24b9203399d26fa5e6', 'b1fa30dde53b29348f0afa7e9cc117750713ff', 'd39f45a3381fc0f0b08bfa263a0f833bbfe7a4']\n",
      "\n",
      "Current Path:  /Users/anura/Documents/VSCode_Workspace/365-Days-of-Python\\.git\\objects\\c7\n",
      "Directories:  []\n",
      "Files:  ['690eb56f0206d5bd33a7694deda53ecfb22c0c']\n",
      "\n",
      "Current Path:  /Users/anura/Documents/VSCode_Workspace/365-Days-of-Python\\.git\\objects\\d2\n",
      "Directories:  []\n",
      "Files:  ['980f7de67bd0ba8a379d103edf927b36b58637']\n",
      "\n",
      "Current Path:  /Users/anura/Documents/VSCode_Workspace/365-Days-of-Python\\.git\\objects\\d3\n",
      "Directories:  []\n",
      "Files:  ['bed23f92f98ba2a7a709b323e0e6aa798e488c']\n",
      "\n",
      "Current Path:  /Users/anura/Documents/VSCode_Workspace/365-Days-of-Python\\.git\\objects\\d4\n",
      "Directories:  []\n",
      "Files:  ['253a02486bff6d581b7bb6d6efe0955b264cde', '462e15b824a20f20846738502e50c6eba41067']\n",
      "\n",
      "Current Path:  /Users/anura/Documents/VSCode_Workspace/365-Days-of-Python\\.git\\objects\\d6\n",
      "Directories:  []\n",
      "Files:  ['f342bf5536355d1a9769387ec4d50a90194e26']\n",
      "\n",
      "Current Path:  /Users/anura/Documents/VSCode_Workspace/365-Days-of-Python\\.git\\objects\\d7\n",
      "Directories:  []\n",
      "Files:  ['b3fcb71cde557df46cbf4d2f8baf8e30935fa6', 'd6fba6815da24c868cd4740fcc634f6f93f673']\n",
      "\n",
      "Current Path:  /Users/anura/Documents/VSCode_Workspace/365-Days-of-Python\\.git\\objects\\db\n",
      "Directories:  []\n",
      "Files:  ['50ba459b8507d6c28f833cc516751ea93b15e1', 'f3d438488ed88de728e6a4ad1c23c6dc23ac34']\n",
      "\n",
      "Current Path:  /Users/anura/Documents/VSCode_Workspace/365-Days-of-Python\\.git\\objects\\df\n",
      "Directories:  []\n",
      "Files:  ['d945508fd1e42afba691d1beebb5b96b09b2a2']\n",
      "\n",
      "Current Path:  /Users/anura/Documents/VSCode_Workspace/365-Days-of-Python\\.git\\objects\\e0\n",
      "Directories:  []\n",
      "Files:  ['59e11752f8018f3a987a9679d2dc09f7072c80']\n",
      "\n",
      "Current Path:  /Users/anura/Documents/VSCode_Workspace/365-Days-of-Python\\.git\\objects\\e1\n",
      "Directories:  []\n",
      "Files:  ['1d1512d14f8093b752f5e3d94c9f13f7543927']\n",
      "\n",
      "Current Path:  /Users/anura/Documents/VSCode_Workspace/365-Days-of-Python\\.git\\objects\\e5\n",
      "Directories:  []\n",
      "Files:  ['19c558b80f1a84f63fbb611f14491a8d441089']\n",
      "\n",
      "Current Path:  /Users/anura/Documents/VSCode_Workspace/365-Days-of-Python\\.git\\objects\\e7\n",
      "Directories:  []\n",
      "Files:  ['04884a0f3fbb4c5d3a159e3529e2537728eeea', '0a246ad1a25871b18517aae737627b7bdbb1d4', 'c7cb76c32b6969f24055f16f68f414fcc17501']\n",
      "\n",
      "Current Path:  /Users/anura/Documents/VSCode_Workspace/365-Days-of-Python\\.git\\objects\\e8\n",
      "Directories:  []\n",
      "Files:  ['bde1853ac89ca3e5f6a787cf3fdd002d021f65']\n",
      "\n",
      "Current Path:  /Users/anura/Documents/VSCode_Workspace/365-Days-of-Python\\.git\\objects\\ea\n",
      "Directories:  []\n",
      "Files:  ['1401a436f4699d0d1266bda37f807227adf43d']\n",
      "\n",
      "Current Path:  /Users/anura/Documents/VSCode_Workspace/365-Days-of-Python\\.git\\objects\\ed\n",
      "Directories:  []\n",
      "Files:  ['c81796d480def24fd033a43015971ff0672e6a']\n",
      "\n",
      "Current Path:  /Users/anura/Documents/VSCode_Workspace/365-Days-of-Python\\.git\\objects\\ee\n",
      "Directories:  []\n",
      "Files:  ['93ed965c392fa07b4b9cdde37ee92392032c8f']\n",
      "\n",
      "Current Path:  /Users/anura/Documents/VSCode_Workspace/365-Days-of-Python\\.git\\objects\\ef\n",
      "Directories:  []\n",
      "Files:  ['26b19c345598369df8b21cf6af90c2ce8713b4', '6d3401b03e5a79305919acb1549314757a3adf', '8dac100d6475f6ac7e3be3c095dd6768c1f724']\n",
      "\n",
      "Current Path:  /Users/anura/Documents/VSCode_Workspace/365-Days-of-Python\\.git\\objects\\f0\n",
      "Directories:  []\n",
      "Files:  ['77e3866cca7d9430a9c5860370581e1beacabb']\n",
      "\n",
      "Current Path:  /Users/anura/Documents/VSCode_Workspace/365-Days-of-Python\\.git\\objects\\f5\n",
      "Directories:  []\n",
      "Files:  ['4b3ccb4b96239849c7f207ecf958c6cc74891c']\n",
      "\n",
      "Current Path:  /Users/anura/Documents/VSCode_Workspace/365-Days-of-Python\\.git\\objects\\f6\n",
      "Directories:  []\n",
      "Files:  ['e3010ea5be99b1b820d9bff5de2a827dc778a1']\n",
      "\n",
      "Current Path:  /Users/anura/Documents/VSCode_Workspace/365-Days-of-Python\\.git\\objects\\f7\n",
      "Directories:  []\n",
      "Files:  ['1332d44b06ccba6bec3fc8e3bee7e7a1e407cd']\n",
      "\n",
      "Current Path:  /Users/anura/Documents/VSCode_Workspace/365-Days-of-Python\\.git\\objects\\f8\n",
      "Directories:  []\n",
      "Files:  ['060f4eedfc5d697684985978c799a96a315223']\n",
      "\n",
      "Current Path:  /Users/anura/Documents/VSCode_Workspace/365-Days-of-Python\\.git\\objects\\fa\n",
      "Directories:  []\n",
      "Files:  ['67bbb96d0bb74e16d1ff631df1b4da9a081bd7']\n",
      "\n",
      "Current Path:  /Users/anura/Documents/VSCode_Workspace/365-Days-of-Python\\.git\\objects\\fe\n",
      "Directories:  []\n",
      "Files:  ['e83e8683556a0f831352e9fe546fc1e518e8a7']\n",
      "\n",
      "Current Path:  /Users/anura/Documents/VSCode_Workspace/365-Days-of-Python\\.git\\objects\\info\n",
      "Directories:  []\n",
      "Files:  []\n",
      "\n",
      "Current Path:  /Users/anura/Documents/VSCode_Workspace/365-Days-of-Python\\.git\\objects\\pack\n",
      "Directories:  []\n",
      "Files:  ['pack-839c50fb3c5d0794db23cda42450147b95bf6408.idx', 'pack-839c50fb3c5d0794db23cda42450147b95bf6408.pack']\n",
      "\n",
      "Current Path:  /Users/anura/Documents/VSCode_Workspace/365-Days-of-Python\\.git\\refs\n",
      "Directories:  ['heads', 'remotes', 'tags']\n",
      "Files:  []\n",
      "\n",
      "Current Path:  /Users/anura/Documents/VSCode_Workspace/365-Days-of-Python\\.git\\refs\\heads\n",
      "Directories:  []\n",
      "Files:  ['main']\n",
      "\n",
      "Current Path:  /Users/anura/Documents/VSCode_Workspace/365-Days-of-Python\\.git\\refs\\remotes\n",
      "Directories:  ['origin']\n",
      "Files:  []\n",
      "\n",
      "Current Path:  /Users/anura/Documents/VSCode_Workspace/365-Days-of-Python\\.git\\refs\\remotes\\origin\n",
      "Directories:  []\n",
      "Files:  ['HEAD', 'main']\n",
      "\n",
      "Current Path:  /Users/anura/Documents/VSCode_Workspace/365-Days-of-Python\\.git\\refs\\tags\n",
      "Directories:  []\n",
      "Files:  []\n",
      "\n",
      "Current Path:  /Users/anura/Documents/VSCode_Workspace/365-Days-of-Python\\10_Diamond_patterns\n",
      "Directories:  []\n",
      "Files:  ['diamond.ipynb']\n",
      "\n",
      "Current Path:  /Users/anura/Documents/VSCode_Workspace/365-Days-of-Python\\11_Armstrong_Number\n",
      "Directories:  []\n",
      "Files:  ['armstrongNumber.ipynb']\n",
      "\n",
      "Current Path:  /Users/anura/Documents/VSCode_Workspace/365-Days-of-Python\\12_Threading_in_python\n",
      "Directories:  []\n",
      "Files:  ['fetchingImagesThreading.ipynb', 'photo-1490623970972-ae8bb3da443e.jpg', 'photo-1508693926297-1d61ee3df82a.jpg', 'photo-1517935706615-2717063c2225.jpg', 'photo-1518378892156-2c6bb23677df.jpg', 'photo-1551009175-15bdf9dcb580.jpg', 'photo-1557978557-2068ea6a817e.jpg', 'photo-1557978557-57231f2dbc36.jpg', 'photo-1582585861644-d275d5c108e0.jpg', 'photo-1583211237509-9d5d3bfcd07b.jpg', 'photo-1588733103629-b77afe0425ce.jpg', 'threadingInPython.ipynb', 'threadingInPython.py']\n",
      "\n",
      "Current Path:  /Users/anura/Documents/VSCode_Workspace/365-Days-of-Python\\13_Multiprocessing_in_python\n",
      "Directories:  ['processed', '__pycache__']\n",
      "Files:  ['do_something.py', 'do_something1.py', 'image_processing.ipynb', 'image_processing.py', 'multiprocessing_in_python.ipynb', 'multiprocessing_in_python.py', 'mul_proc1.py', 'mul_proc10.py', 'mul_proc2.py', 'mul_proc3.py', 'mul_proc4.py', 'mul_proc5.py', 'mul_proc6.py', 'mul_proc7.py', 'mul_proc8.py', 'mul_proc9.py', 'photo-1490623970972-ae8bb3da443e.jpg', 'photo-1508693926297-1d61ee3df82a.jpg', 'photo-1517935706615-2717063c2225.jpg', 'photo-1518378892156-2c6bb23677df.jpg', 'photo-1551009175-15bdf9dcb580.jpg', 'photo-1557978557-2068ea6a817e.jpg', 'photo-1557978557-57231f2dbc36.jpg', 'photo-1582585861644-d275d5c108e0.jpg', 'photo-1583211237509-9d5d3bfcd07b.jpg', 'photo-1588733103629-b77afe0425ce.jpg', 'process_images.py']\n",
      "\n",
      "Current Path:  /Users/anura/Documents/VSCode_Workspace/365-Days-of-Python\\13_Multiprocessing_in_python\\processed\n",
      "Directories:  []\n",
      "Files:  ['photo-1490623970972-ae8bb3da443e.jpg', 'photo-1508693926297-1d61ee3df82a.jpg', 'photo-1517935706615-2717063c2225.jpg', 'photo-1518378892156-2c6bb23677df.jpg', 'photo-1551009175-15bdf9dcb580.jpg', 'photo-1557978557-2068ea6a817e.jpg', 'photo-1557978557-57231f2dbc36.jpg', 'photo-1582585861644-d275d5c108e0.jpg', 'photo-1583211237509-9d5d3bfcd07b.jpg', 'photo-1588733103629-b77afe0425ce.jpg']\n",
      "\n",
      "Current Path:  /Users/anura/Documents/VSCode_Workspace/365-Days-of-Python\\13_Multiprocessing_in_python\\__pycache__\n",
      "Directories:  []\n",
      "Files:  ['do_something.cpython-310.pyc', 'do_something1.cpython-310.pyc', 'multiprocessing.cpython-310.pyc', 'process_images.cpython-310.pyc']\n",
      "\n",
      "Current Path:  /Users/anura/Documents/VSCode_Workspace/365-Days-of-Python\\14_First50_Armstrong_numbers\n",
      "Directories:  ['__pycache__']\n",
      "Files:  ['armstrongNo50.ipynb', 'armstrongNos.py', 'first50armstrongnos.ipynb', 'first50armstrongs.py']\n",
      "\n",
      "Current Path:  /Users/anura/Documents/VSCode_Workspace/365-Days-of-Python\\14_First50_Armstrong_numbers\\__pycache__\n",
      "Directories:  []\n",
      "Files:  ['first50armstrongs.cpython-310.pyc']\n",
      "\n",
      "Current Path:  /Users/anura/Documents/VSCode_Workspace/365-Days-of-Python\\15_Fibonacci_sequence\n",
      "Directories:  []\n",
      "Files:  ['fibo_seq.ipynb']\n",
      "\n",
      "Current Path:  /Users/anura/Documents/VSCode_Workspace/365-Days-of-Python\\16_Find_day_a_date_falls_on\n",
      "Directories:  []\n",
      "Files:  ['day_on_date.ipynb']\n",
      "\n",
      "Current Path:  /Users/anura/Documents/VSCode_Workspace/365-Days-of-Python\\17_Leap_year\n",
      "Directories:  []\n",
      "Files:  ['leap_year.ipynb']\n",
      "\n",
      "Current Path:  /Users/anura/Documents/VSCode_Workspace/365-Days-of-Python\\18_Regular_Expressions\n",
      "Directories:  []\n",
      "Files:  ['email_checker.ipynb', 'punctuations_regex.ipynb', 'regex.txt', 'reg_ex.ipynb', 'reg_ex2.ipynb']\n",
      "\n",
      "Current Path:  /Users/anura/Documents/VSCode_Workspace/365-Days-of-Python\\19_Turtle_Tutorial\n",
      "Directories:  ['Images']\n",
      "Files:  ['fancy_star.py', 'interactive_fancy_star.py', 'spotify_logo.py', 'trippy_rainbow.py', 'Turtle_tut1.py', 'Turtle_tut2.py', 'Turtle_tut3.py', 'Turtle_tut4.py', 'Turtle_tut5.py']\n",
      "\n",
      "Current Path:  /Users/anura/Documents/VSCode_Workspace/365-Days-of-Python\\19_Turtle_Tutorial\\Images\n",
      "Directories:  []\n",
      "Files:  ['trippy_rainbow.png', 'tut1_op.png', 'tut4_op_starry_night.png']\n",
      "\n",
      "Current Path:  /Users/anura/Documents/VSCode_Workspace/365-Days-of-Python\\1_Print_commands_in_Python\n",
      "Directories:  []\n",
      "Files:  ['line_continuation_characters.ipynb']\n",
      "\n",
      "Current Path:  /Users/anura/Documents/VSCode_Workspace/365-Days-of-Python\\20_FontFamilies_in_python\n",
      "Directories:  []\n",
      "Files:  ['fontFamilies.ipynb']\n",
      "\n",
      "Current Path:  /Users/anura/Documents/VSCode_Workspace/365-Days-of-Python\\21_CountdownTimer\n",
      "Directories:  ['Images']\n",
      "Files:  ['alarm.mp3', 'anotherCountdownTimer.ipynb', 'countdownTimer.ipynb']\n",
      "\n",
      "Current Path:  /Users/anura/Documents/VSCode_Workspace/365-Days-of-Python\\21_CountdownTimer\\Images\n",
      "Directories:  []\n",
      "Files:  ['countdownTimer_op.png']\n",
      "\n",
      "Current Path:  /Users/anura/Documents/VSCode_Workspace/365-Days-of-Python\\22_Sympy_library_with_LaTeX\n",
      "Directories:  []\n",
      "Files:  ['solving_system_of_eqs.ipynb', 'sympy_tut1.ipynb', 'sympy_vs_math.ipynb']\n",
      "\n",
      "Current Path:  /Users/anura/Documents/VSCode_Workspace/365-Days-of-Python\\23_Factorial\n",
      "Directories:  []\n",
      "Files:  ['factorials.ipynb', 'factorials_using_memoization.ipynb', 'factorial_memoization.py']\n",
      "\n",
      "Current Path:  /Users/anura/Documents/VSCode_Workspace/365-Days-of-Python\\24_ConsoleColors\n",
      "Directories:  ['__pycache__']\n",
      "Files:  ['cc.py', 'consoleColors.ipynb', 'consoleColors.py']\n",
      "\n",
      "Current Path:  /Users/anura/Documents/VSCode_Workspace/365-Days-of-Python\\24_ConsoleColors\\__pycache__\n",
      "Directories:  []\n",
      "Files:  ['cc.cpython-310.pyc']\n",
      "\n",
      "Current Path:  /Users/anura/Documents/VSCode_Workspace/365-Days-of-Python\\25_ASCII_Text_&_Art\n",
      "Directories:  []\n",
      "Files:  ['asciiArt.ipynb', 'asciiText.ipynb', 'image.txt', 'panda.jfif']\n",
      "\n",
      "Current Path:  /Users/anura/Documents/VSCode_Workspace/365-Days-of-Python\\26_CaseTypesAndNamingConventions\n",
      "Directories:  []\n",
      "Files:  ['caseTypes.ipynb']\n",
      "\n",
      "Current Path:  /Users/anura/Documents/VSCode_Workspace/365-Days-of-Python\\27_Text_To_Binary\n",
      "Directories:  []\n",
      "Files:  ['text2Binary.ipynb']\n",
      "\n",
      "Current Path:  /Users/anura/Documents/VSCode_Workspace/365-Days-of-Python\\28_PermutationsCombinations\n",
      "Directories:  []\n",
      "Files:  ['combinationsScratch.ipynb', 'permutationsNcombinations.ipynb', 'permutationsScratch.ipynb']\n",
      "\n",
      "Current Path:  /Users/anura/Documents/VSCode_Workspace/365-Days-of-Python\\29_DecimalToBinary_conversions\n",
      "Directories:  []\n",
      "Files:  ['BinaryToDecimal.ipynb', 'DecimalToBinary.ipynb']\n",
      "\n",
      "Current Path:  /Users/anura/Documents/VSCode_Workspace/365-Days-of-Python\\2_Count_characters_in_Python\n",
      "Directories:  []\n",
      "Files:  ['count_character_occurences.ipynb']\n",
      "\n",
      "Current Path:  /Users/anura/Documents/VSCode_Workspace/365-Days-of-Python\\30_DecimalToOctal_conversions\n",
      "Directories:  []\n",
      "Files:  ['DecimalToOctal.ipynb', 'OctalToDecimal.ipynb']\n",
      "\n",
      "Current Path:  /Users/anura/Documents/VSCode_Workspace/365-Days-of-Python\\31_DecimalToHex_conversions\n",
      "Directories:  []\n",
      "Files:  ['DecimalToHex.ipynb', 'HexToDecimal.ipynb']\n",
      "\n",
      "Current Path:  /Users/anura/Documents/VSCode_Workspace/365-Days-of-Python\\32_DecimalTo2'sComplement_conversions\n",
      "Directories:  []\n",
      "Files:  [\"2'sComplementToDecimal.ipynb\", 'DecimalTo2sComplement.ipynb']\n",
      "\n",
      "Current Path:  /Users/anura/Documents/VSCode_Workspace/365-Days-of-Python\\33_BinaryArithmetic\n",
      "Directories:  []\n",
      "Files:  ['binaryAddition.ipynb', 'binaryDivision.ipynb', 'binaryMultiplication.ipynb', 'binarySubtraction.ipynb']\n",
      "\n",
      "Current Path:  /Users/anura/Documents/VSCode_Workspace/365-Days-of-Python\\34_Floyd'sTriangle\n",
      "Directories:  []\n",
      "Files:  ['floydsTriangle.ipynb']\n",
      "\n",
      "Current Path:  /Users/anura/Documents/VSCode_Workspace/365-Days-of-Python\\35_BankingInterests\n",
      "Directories:  []\n",
      "Files:  ['CompoundInterest.ipynb', 'SimpleInterest.ipynb']\n",
      "\n",
      "Current Path:  /Users/anura/Documents/VSCode_Workspace/365-Days-of-Python\\365_videoCropperAndvideoToGIF_outputs\n",
      "Directories:  []\n",
      "Files:  ['minecraft-perfect-loop.webm', 'minecraft.gif', 'minecraft_highres.gif', 'minecraft_lowres.gif', 'SVG.mkv', 'test.mp4', 'test1.mp4', 'test2.mp4']\n",
      "\n",
      "Current Path:  /Users/anura/Documents/VSCode_Workspace/365-Days-of-Python\\36_Anagrams\n",
      "Directories:  []\n",
      "Files:  ['anagrams.ipynb', 'anagrams2.ipynb', 'words.txt']\n",
      "\n",
      "Current Path:  /Users/anura/Documents/VSCode_Workspace/365-Days-of-Python\\37_VideoToGIF\n",
      "Directories:  []\n",
      "Files:  ['videoToGIF.ipynb']\n",
      "\n",
      "Current Path:  /Users/anura/Documents/VSCode_Workspace/365-Days-of-Python\\38_VideoCropper\n",
      "Directories:  []\n",
      "Files:  ['cropAVideoFrame.ipynb', 'svg.gif']\n",
      "\n",
      "Current Path:  /Users/anura/Documents/VSCode_Workspace/365-Days-of-Python\\39_TimeZones\n",
      "Directories:  []\n",
      "Files:  ['allTimeZones.ipynb']\n",
      "\n",
      "Current Path:  /Users/anura/Documents/VSCode_Workspace/365-Days-of-Python\\3_Palindrome_words_and_numbers\n",
      "Directories:  []\n",
      "Files:  ['palindrome_words.ipynb']\n",
      "\n",
      "Current Path:  /Users/anura/Documents/VSCode_Workspace/365-Days-of-Python\\40_Translator\n",
      "Directories:  []\n",
      "Files:  ['client.py', 'GoogleTranslator.ipynb', 'server.py']\n",
      "\n",
      "Current Path:  /Users/anura/Documents/VSCode_Workspace/365-Days-of-Python\\41_Disarium_Number\n",
      "Directories:  []\n",
      "Files:  ['disariumNumber.ipynb']\n",
      "\n",
      "Current Path:  /Users/anura/Documents/VSCode_Workspace/365-Days-of-Python\\42_CAPTCHA\n",
      "Directories:  []\n",
      "Files:  ['audio3792.wav', 'captcha.ipynb', 'captcha.mp3', 'captcha.png', 'CAPTCHA_hello.png']\n",
      "\n",
      "Current Path:  /Users/anura/Documents/VSCode_Workspace/365-Days-of-Python\\43_InterestingNumbersInARange\n",
      "Directories:  []\n",
      "Files:  ['numbersInARange.ipynb']\n",
      "\n",
      "Current Path:  /Users/anura/Documents/VSCode_Workspace/365-Days-of-Python\\44_Hangman\n",
      "Directories:  ['__pycache__']\n",
      "Files:  ['hangman.ipynb', 'words.py']\n",
      "\n",
      "Current Path:  /Users/anura/Documents/VSCode_Workspace/365-Days-of-Python\\44_Hangman\\__pycache__\n",
      "Directories:  []\n",
      "Files:  ['words.cpython-310.pyc']\n",
      "\n",
      "Current Path:  /Users/anura/Documents/VSCode_Workspace/365-Days-of-Python\\45_Trigonometry\n",
      "Directories:  []\n",
      "Files:  ['functions.ipynb', 'trigo2_function.svg', 'trigo_function.svg', 'values.ipynb']\n",
      "\n",
      "Current Path:  /Users/anura/Documents/VSCode_Workspace/365-Days-of-Python\\46_Poker\n",
      "Directories:  []\n",
      "Files:  ['evaluateHand.ipynb', 'PokerCardRank.jfif']\n",
      "\n",
      "Current Path:  /Users/anura/Documents/VSCode_Workspace/365-Days-of-Python\\47_ResistorCodes\n",
      "Directories:  []\n",
      "Files:  ['resistor-color-chart.png', 'resistors.ipynb', 'resistor_color_codes_chart.webp']\n",
      "\n",
      "Current Path:  /Users/anura/Documents/VSCode_Workspace/365-Days-of-Python\\48_Ohm's_Law\n",
      "Directories:  []\n",
      "Files:  ['ohms-law-chart.webp', 'ohmsLaw.ipynb']\n",
      "\n",
      "Current Path:  /Users/anura/Documents/VSCode_Workspace/365-Days-of-Python\\49_DecimalToFraction\n",
      "Directories:  []\n",
      "Files:  ['decTofrac.ipynb']\n",
      "\n",
      "Current Path:  /Users/anura/Documents/VSCode_Workspace/365-Days-of-Python\\4_LCM_and_HCF\n",
      "Directories:  []\n",
      "Files:  ['lcm_hcf.ipynb']\n",
      "\n",
      "Current Path:  /Users/anura/Documents/VSCode_Workspace/365-Days-of-Python\\50_SieveOfEratosthenes\n",
      "Directories:  []\n",
      "Files:  ['findingPrimes.ipynb']\n",
      "\n",
      "Current Path:  /Users/anura/Documents/VSCode_Workspace/365-Days-of-Python\\51_SimulatingPowerballLottery\n",
      "Directories:  []\n",
      "Files:  ['powerball_sim.ipynb', 'powerball_sim.py', 'powerball_sim_reference.png']\n",
      "\n",
      "Current Path:  /Users/anura/Documents/VSCode_Workspace/365-Days-of-Python\\52_BINGO\n",
      "Directories:  []\n",
      "Files:  ['bingo.ipynb']\n",
      "\n",
      "Current Path:  /Users/anura/Documents/VSCode_Workspace/365-Days-of-Python\\53_Pytube_library\n",
      "Directories:  []\n",
      "Files:  ['.gitignore', 'Kanye West - POWER.mp4', 'pytubeTut1.ipynb']\n",
      "\n",
      "Current Path:  /Users/anura/Documents/VSCode_Workspace/365-Days-of-Python\\54_ProgressBars\n",
      "Directories:  []\n",
      "Files:  ['progressBars.ipynb', 'progressbars.py', 'progressbars2.py']\n",
      "\n",
      "Current Path:  /Users/anura/Documents/VSCode_Workspace/365-Days-of-Python\\55_OS\n",
      "Directories:  ['OS-Demo-1']\n",
      "Files:  ['demo.txt', 'OS_module.ipynb']\n",
      "\n",
      "Current Path:  /Users/anura/Documents/VSCode_Workspace/365-Days-of-Python\\55_OS\\OS-Demo-1\n",
      "Directories:  []\n",
      "Files:  []\n",
      "\n",
      "Current Path:  /Users/anura/Documents/VSCode_Workspace/365-Days-of-Python\\5_Roman_to_Decimal\n",
      "Directories:  []\n",
      "Files:  ['roman_to_dec.ipynb']\n",
      "\n",
      "Current Path:  /Users/anura/Documents/VSCode_Workspace/365-Days-of-Python\\6_Temperature_Conversion\n",
      "Directories:  []\n",
      "Files:  ['temperature_conversion.ipynb']\n",
      "\n",
      "Current Path:  /Users/anura/Documents/VSCode_Workspace/365-Days-of-Python\\7_Weather_fetching\n",
      "Directories:  ['Images']\n",
      "Files:  ['weather_fetching_bs4.ipynb']\n",
      "\n",
      "Current Path:  /Users/anura/Documents/VSCode_Workspace/365-Days-of-Python\\7_Weather_fetching\\Images\n",
      "Directories:  []\n",
      "Files:  ['Inspector_1.png', 'Inspector_2.png', 'Inspector_3_next_few_days_weather.png', 'Inspector_4_next_few_days_weather.png']\n",
      "\n",
      "Current Path:  /Users/anura/Documents/VSCode_Workspace/365-Days-of-Python\\8_QRCode_generator_and_reader\n",
      "Directories:  []\n",
      "Files:  ['myGitHub_link.jpg', 'QRcode_generator.ipynb']\n",
      "\n",
      "Current Path:  /Users/anura/Documents/VSCode_Workspace/365-Days-of-Python\\9_Pascals_Triangle\n",
      "Directories:  []\n",
      "Files:  ['pascals_triangle.ipynb']\n",
      "\n",
      "Current Path:  /Users/anura/Documents/VSCode_Workspace/365-Days-of-Python\\__pycache__\n",
      "Directories:  []\n",
      "Files:  ['threading.cpython-310.pyc']\n",
      "\n"
     ]
    }
   ],
   "source": [
    "for dirpath, dirnames, filenames in os.walk('/Users/anura/Documents/VSCode_Workspace/365-Days-of-Python'): # yields a tuple of 3 values (path, directories within path, files within directory)\n",
    "    print('Current Path: ', dirpath)\n",
    "    print('Directories: ', dirnames)\n",
    "    print('Files: ', filenames)\n",
    "    print()"
   ]
  },
  {
   "attachments": {},
   "cell_type": "markdown",
   "metadata": {},
   "source": [
    "Access home directory location using Environment variables"
   ]
  },
  {
   "attachments": {},
   "cell_type": "markdown",
   "metadata": {},
   "source": [
    "First, access the environment variables"
   ]
  },
  {
   "cell_type": "code",
   "execution_count": 34,
   "metadata": {},
   "outputs": [
    {
     "name": "stdout",
     "output_type": "stream",
     "text": [
      "\\Users\\anura\n"
     ]
    }
   ],
   "source": [
    "print(os.environ.get('HOMEPATH'))"
   ]
  },
  {
   "attachments": {},
   "cell_type": "markdown",
   "metadata": {},
   "source": [
    "In order to create a file, this is not a good method, since you might miss a \\"
   ]
  },
  {
   "cell_type": "code",
   "execution_count": 35,
   "metadata": {},
   "outputs": [
    {
     "name": "stdout",
     "output_type": "stream",
     "text": [
      "\\Users\\anuratest.txt\n"
     ]
    }
   ],
   "source": [
    "file_path = os.environ.get('HOMEPATH') + 'test.txt'\n",
    "print(file_path)"
   ]
  },
  {
   "attachments": {},
   "cell_type": "markdown",
   "metadata": {},
   "source": [
    "Use os.path.join"
   ]
  },
  {
   "cell_type": "code",
   "execution_count": 36,
   "metadata": {},
   "outputs": [
    {
     "name": "stdout",
     "output_type": "stream",
     "text": [
      "\\Users\\anura\\test.txt\n"
     ]
    }
   ],
   "source": [
    "file_path = os.path.join(os.environ.get('HOMEPATH'), 'test.txt')\n",
    "print(file_path)"
   ]
  },
  {
   "cell_type": "code",
   "execution_count": 37,
   "metadata": {},
   "outputs": [
    {
     "name": "stdout",
     "output_type": "stream",
     "text": [
      "test.txt\n"
     ]
    }
   ],
   "source": [
    "print(os.path.basename('/tmp/test.txt'))"
   ]
  },
  {
   "cell_type": "code",
   "execution_count": 38,
   "metadata": {},
   "outputs": [
    {
     "name": "stdout",
     "output_type": "stream",
     "text": [
      "/tmp\n"
     ]
    }
   ],
   "source": [
    "print(os.path.dirname('/tmp/test.txt'))"
   ]
  },
  {
   "cell_type": "code",
   "execution_count": 39,
   "metadata": {},
   "outputs": [
    {
     "name": "stdout",
     "output_type": "stream",
     "text": [
      "('/tmp', 'test.txt')\n"
     ]
    }
   ],
   "source": [
    "print(os.path.split('/tmp/test.txt'))"
   ]
  },
  {
   "cell_type": "code",
   "execution_count": 40,
   "metadata": {},
   "outputs": [
    {
     "name": "stdout",
     "output_type": "stream",
     "text": [
      "False\n"
     ]
    }
   ],
   "source": [
    "print(os.path.exists('/tmp/test.txt'))"
   ]
  },
  {
   "cell_type": "code",
   "execution_count": 42,
   "metadata": {},
   "outputs": [
    {
     "name": "stdout",
     "output_type": "stream",
     "text": [
      "False\n"
     ]
    }
   ],
   "source": [
    "print(os.path.isdir('/tmp/test.txt'))"
   ]
  },
  {
   "cell_type": "code",
   "execution_count": 41,
   "metadata": {},
   "outputs": [
    {
     "name": "stdout",
     "output_type": "stream",
     "text": [
      "False\n"
     ]
    }
   ],
   "source": [
    "print(os.path.isfile('/tmp/test.txt'))"
   ]
  },
  {
   "attachments": {},
   "cell_type": "markdown",
   "metadata": {},
   "source": [
    "Split root and extension"
   ]
  },
  {
   "cell_type": "code",
   "execution_count": 43,
   "metadata": {},
   "outputs": [
    {
     "name": "stdout",
     "output_type": "stream",
     "text": [
      "('/tmp/test', '.txt')\n"
     ]
    }
   ],
   "source": [
    "print(os.path.splitext('/tmp/test.txt'))"
   ]
  },
  {
   "attachments": {},
   "cell_type": "markdown",
   "metadata": {},
   "source": [
    "### Summary\n",
    "\n",
    "+ os.getcwd()                             => get current working directory\n",
    "+ os.chdir(<path>)                        => change directory \n",
    "+ os.listdir()\t                          => list directory\n",
    "+ os.mkdir(<dirname>)                     => create a directory\n",
    "+ os.makedirs(<dirname>)                  => make directories recursively\n",
    "+ os.rmdir(<dirname>)\t                  => remove directory\n",
    "+ os.removedirs(<dirname>)                => remove directory recursively\n",
    "+ os.rename(<from>, <to>)                 => rename file\n",
    "+ os.stat(<filename>)                     => print all info of a file\n",
    "+ os.walk(<path>)\t                      => traverse directory recursively\n",
    "+ os.environ\t\t                      => get environment variables\n",
    "+ os.path.join(<path>, <file>)            => join path without worrying about /\n",
    "+ os.path.basename(<filename>)            => get basename\n",
    "+ os.path.dirname(<filename>)             => get dirname\n",
    "+ os.path.exists(<path-to-file>)          => check if the path exists or not\n",
    "+ os.path.splitext(<path-to-file>)        => split path and file extension\n",
    "+ dir(os)\t\t\t                      => check what methods exists"
   ]
  },
  {
   "cell_type": "markdown",
   "metadata": {},
   "source": []
  }
 ],
 "metadata": {
  "kernelspec": {
   "display_name": "Python 3",
   "language": "python",
   "name": "python3"
  },
  "language_info": {
   "codemirror_mode": {
    "name": "ipython",
    "version": 3
   },
   "file_extension": ".py",
   "mimetype": "text/x-python",
   "name": "python",
   "nbconvert_exporter": "python",
   "pygments_lexer": "ipython3",
   "version": "3.10.7"
  },
  "orig_nbformat": 4,
  "vscode": {
   "interpreter": {
    "hash": "fbfacf25abbc4466cbf6a4ec94f71aa428570133f008ac9f4c86deb26a69bb88"
   }
  }
 },
 "nbformat": 4,
 "nbformat_minor": 2
}
