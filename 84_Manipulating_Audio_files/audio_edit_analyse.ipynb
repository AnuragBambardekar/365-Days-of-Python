{
 "cells": [
  {
   "attachments": {},
   "cell_type": "markdown",
   "metadata": {},
   "source": [
    "# Audio (.mp3) Analysis"
   ]
  },
  {
   "attachments": {},
   "cell_type": "markdown",
   "metadata": {},
   "source": [
    "```pip install pydub```"
   ]
  },
  {
   "cell_type": "code",
   "execution_count": null,
   "metadata": {},
   "outputs": [],
   "source": [
    "from pydub import AudioSegment\n",
    "from pydub.playback import play\n",
    "import keyboard\n",
    "\n",
    "song = AudioSegment.from_mp3(\"rickroll.mp3\")"
   ]
  },
  {
   "attachments": {},
   "cell_type": "markdown",
   "metadata": {},
   "source": [
    "## Slicing the Audio"
   ]
  },
  {
   "cell_type": "code",
   "execution_count": null,
   "metadata": {},
   "outputs": [],
   "source": [
    "# pydub does things in miliseconds\n",
    "ten_seconds = 10 * 1000\n",
    "\n",
    "first_10_seconds = song[:10000]\n",
    "play(first_10_seconds)\n"
   ]
  },
  {
   "cell_type": "code",
   "execution_count": null,
   "metadata": {},
   "outputs": [],
   "source": [
    "last_5_seconds = song[-5000:]\n",
    "play(last_5_seconds)"
   ]
  },
  {
   "cell_type": "code",
   "execution_count": null,
   "metadata": {},
   "outputs": [],
   "source": [
    "# then 3.5 dB quieter\n",
    "quieter = song - 3.5\n",
    "play(quieter)"
   ]
  },
  {
   "cell_type": "code",
   "execution_count": 31,
   "metadata": {},
   "outputs": [
    {
     "name": "stdout",
     "output_type": "stream",
     "text": [
      "208118\n"
     ]
    }
   ],
   "source": [
    "# duration\n",
    "duration_in_milliseconds = len(song)\n",
    "print(duration_in_milliseconds)"
   ]
  },
  {
   "cell_type": "code",
   "execution_count": 32,
   "metadata": {},
   "outputs": [],
   "source": [
    "# split song in 5-second slices\n",
    "slices = song[::5000]"
   ]
  },
  {
   "cell_type": "code",
   "execution_count": 36,
   "metadata": {},
   "outputs": [
    {
     "name": "stdout",
     "output_type": "stream",
     "text": [
      "-16.213980613380937\n"
     ]
    }
   ],
   "source": [
    "sound = AudioSegment.from_file(\"rickroll.mp3\")\n",
    "loudness = sound.dBFS\n",
    "print(loudness)"
   ]
  },
  {
   "cell_type": "code",
   "execution_count": 37,
   "metadata": {},
   "outputs": [
    {
     "name": "stdout",
     "output_type": "stream",
     "text": [
      "2\n"
     ]
    }
   ],
   "source": [
    "channel_count = sound.channels\n",
    "print(channel_count)"
   ]
  },
  {
   "cell_type": "code",
   "execution_count": 38,
   "metadata": {},
   "outputs": [
    {
     "name": "stdout",
     "output_type": "stream",
     "text": [
      "2\n"
     ]
    }
   ],
   "source": [
    "bytes_per_sample = sound.sample_width\n",
    "print(bytes_per_sample)"
   ]
  },
  {
   "cell_type": "code",
   "execution_count": 40,
   "metadata": {},
   "outputs": [
    {
     "name": "stdout",
     "output_type": "stream",
     "text": [
      "False\n"
     ]
    }
   ],
   "source": [
    "print(sound.duration_seconds == (len(sound) / 1000.0))"
   ]
  },
  {
   "cell_type": "code",
   "execution_count": 41,
   "metadata": {},
   "outputs": [],
   "source": [
    "from pydub import AudioSegment\n",
    "sound1 = AudioSegment.from_file(\"rickroll.mp3\")\n",
    "sound2 = AudioSegment.from_file(\"song.mp3\")\n",
    "\n",
    "# default 100 ms crossfade\n",
    "combined = sound1.append(sound2)\n",
    "\n",
    "# 5000 ms crossfade\n",
    "combined_with_5_sec_crossfade = sound1.append(sound2, crossfade=5000)\n",
    "\n",
    "# no crossfade\n",
    "no_crossfade1 = sound1.append(sound2, crossfade=0)\n",
    "\n",
    "# no crossfade\n",
    "no_crossfade2 = sound1 + sound2"
   ]
  },
  {
   "attachments": {},
   "cell_type": "markdown",
   "metadata": {},
   "source": [
    "## Future Implementation\n",
    "- Plot Graphs to analyse sound"
   ]
  }
 ],
 "metadata": {
  "kernelspec": {
   "display_name": "Python 3",
   "language": "python",
   "name": "python3"
  },
  "language_info": {
   "codemirror_mode": {
    "name": "ipython",
    "version": 3
   },
   "file_extension": ".py",
   "mimetype": "text/x-python",
   "name": "python",
   "nbconvert_exporter": "python",
   "pygments_lexer": "ipython3",
   "version": "3.10.8"
  },
  "orig_nbformat": 4
 },
 "nbformat": 4,
 "nbformat_minor": 2
}
