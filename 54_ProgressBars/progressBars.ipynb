{
 "cells": [
  {
   "attachments": {},
   "cell_type": "markdown",
   "metadata": {},
   "source": [
    "# Professional Progress Bars"
   ]
  },
  {
   "cell_type": "code",
   "execution_count": 1,
   "metadata": {},
   "outputs": [],
   "source": [
    "import math\n",
    "import time\n",
    "from tqdm import tqdm"
   ]
  },
  {
   "cell_type": "code",
   "execution_count": 2,
   "metadata": {},
   "outputs": [
    {
     "name": "stderr",
     "output_type": "stream",
     "text": [
      "100%|██████████| 8000/8000 [00:04<00:00, 1633.89it/s] \n"
     ]
    }
   ],
   "source": [
    "results = []\n",
    "for i in tqdm(range(8000)):\n",
    "    results.append(math.factorial(i))"
   ]
  },
  {
   "cell_type": "code",
   "execution_count": 3,
   "metadata": {},
   "outputs": [
    {
     "name": "stderr",
     "output_type": "stream",
     "text": [
      "100%|██████████| 14000/14000 [00:23<00:00, 592.35it/s] \n"
     ]
    }
   ],
   "source": [
    "for i in tqdm(range(14000)):\n",
    "    results.append(math.factorial(i)) \n",
    "    # gets slower because factorial of larger numbers takes time"
   ]
  },
  {
   "cell_type": "code",
   "execution_count": 4,
   "metadata": {},
   "outputs": [
    {
     "name": "stderr",
     "output_type": "stream",
     "text": [
      "100%|██████████| 8000/8000 [00:04<00:00, 1795.90it/s] \n"
     ]
    }
   ],
   "source": [
    "results = [math.factorial(x) for x in tqdm(range(8000))] #list comprehension"
   ]
  }
 ],
 "metadata": {
  "kernelspec": {
   "display_name": "Python 3",
   "language": "python",
   "name": "python3"
  },
  "language_info": {
   "codemirror_mode": {
    "name": "ipython",
    "version": 3
   },
   "file_extension": ".py",
   "mimetype": "text/x-python",
   "name": "python",
   "nbconvert_exporter": "python",
   "pygments_lexer": "ipython3",
   "version": "3.10.7"
  },
  "orig_nbformat": 4,
  "vscode": {
   "interpreter": {
    "hash": "fbfacf25abbc4466cbf6a4ec94f71aa428570133f008ac9f4c86deb26a69bb88"
   }
  }
 },
 "nbformat": 4,
 "nbformat_minor": 2
}
