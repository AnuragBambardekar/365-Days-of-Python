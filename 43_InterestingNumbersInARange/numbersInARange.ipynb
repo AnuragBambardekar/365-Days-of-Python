{
 "cells": [
  {
   "attachments": {},
   "cell_type": "markdown",
   "metadata": {},
   "source": [
    "# Find interesting integers in a Range according to some conditions"
   ]
  },
  {
   "attachments": {},
   "cell_type": "markdown",
   "metadata": {},
   "source": [
    "Python program which returns the number of integers from range a to b, where the integers can be expressed as product of two consecutive integers.\n",
    "\n",
    "Given a=6, b=20, the function should return 3. These integers are 6=2x3, 12=3x4, 20=4x5"
   ]
  },
  {
   "cell_type": "code",
   "execution_count": 10,
   "metadata": {},
   "outputs": [],
   "source": [
    "def count_integers(a, b):\n",
    "    # Checks if both a and b are integers by using the map function and the isinstance method. \n",
    "    # If either a or b is not an integer, the function returns 0.\n",
    "    if not all(map(lambda x: isinstance(x, int), [a, b])):\n",
    "        return 0\n",
    "    \n",
    "    # checks if the values of a and b are within the specified range (a >= 1 and b <= 100000000) \n",
    "    # and if a is less than or equal to b. If either of these conditions is not met, the function returns 0.\n",
    "    if (a < 1) or (b > 100000000) or (a > b):\n",
    "        return 0\n",
    "    \n",
    "    # initialize count to zero\n",
    "    count = 0\n",
    "    numbers = []\n",
    "\n",
    "    # For each integer i in the loop, the function checks if i * (i + 1) is within the range [a, b]. If it is, the function increments count by 1.\n",
    "    # The upper limit of the range is set to the integer value of the square root of b plus 1, \n",
    "    # because any larger number would result in a product that is greater than b.\n",
    "    for i in range(2, int(b ** 0.5) + 1):\n",
    "        if (i * (i + 1) >= a) and (i * (i + 1) <= b):\n",
    "            numbers.append(i)\n",
    "            count += 1\n",
    "    return count, numbers"
   ]
  },
  {
   "cell_type": "code",
   "execution_count": 11,
   "metadata": {},
   "outputs": [
    {
     "data": {
      "text/plain": [
       "(4, [2, 3, 4, 5])"
      ]
     },
     "execution_count": 11,
     "metadata": {},
     "output_type": "execute_result"
    }
   ],
   "source": [
    "count_integers(6,30)"
   ]
  },
  {
   "attachments": {},
   "cell_type": "markdown",
   "metadata": {},
   "source": [
    "Python program which returns the number of prime palindromes (numbers that are both prime and palindromic) within the range [a, b] (inclusive)"
   ]
  },
  {
   "cell_type": "code",
   "execution_count": 6,
   "metadata": {},
   "outputs": [],
   "source": [
    "def count_prime_palindromes(a, b):\n",
    "    if not all(map(lambda x: isinstance(x, int), [a, b])):\n",
    "        return 0\n",
    "    if (a < 1) or (b > 100000000) or (a > b):\n",
    "        return 0\n",
    "    count = 0\n",
    "    pp=[]\n",
    "    for i in range(a, b + 1):\n",
    "        # str(i) == str(i)[::-1] to check palindrome or not\n",
    "        if str(i) == str(i)[::-1] and is_prime(i):\n",
    "            pp.append(i)\n",
    "            count += 1\n",
    "    return count,pp\n",
    "\n",
    "def is_prime(num):\n",
    "    if num <= 1:\n",
    "        return False\n",
    "    for i in range(2, int(num ** 0.5) + 1):\n",
    "        if num % i == 0:\n",
    "            return False\n",
    "    return True\n"
   ]
  },
  {
   "cell_type": "code",
   "execution_count": 7,
   "metadata": {},
   "outputs": [
    {
     "data": {
      "text/plain": [
       "(2, [7, 11])"
      ]
     },
     "execution_count": 7,
     "metadata": {},
     "output_type": "execute_result"
    }
   ],
   "source": [
    "count_prime_palindromes(6,20)"
   ]
  },
  {
   "attachments": {},
   "cell_type": "markdown",
   "metadata": {},
   "source": [
    "Python program which returns the number of perfect squares within the range [a, b] (inclusive)"
   ]
  },
  {
   "cell_type": "code",
   "execution_count": 16,
   "metadata": {},
   "outputs": [],
   "source": [
    "def count_perfect_squares(a, b):\n",
    "    if not all(map(lambda x: isinstance(x, int), [a, b])):\n",
    "        return 0\n",
    "    if (a < 1) or (b > 100000000) or (a > b):\n",
    "        return 0\n",
    "\n",
    "    count = 0\n",
    "    ps=[]\n",
    "\n",
    "    for i in range(1, int(b ** 0.5) + 1):\n",
    "        square = i ** 2\n",
    "        if (square >= a) and (square <= b):\n",
    "            ps.append(i)\n",
    "            count += 1\n",
    "\n",
    "    return count,ps\n"
   ]
  },
  {
   "cell_type": "code",
   "execution_count": 17,
   "metadata": {},
   "outputs": [
    {
     "data": {
      "text/plain": [
       "(2, [3, 4])"
      ]
     },
     "execution_count": 17,
     "metadata": {},
     "output_type": "execute_result"
    }
   ],
   "source": [
    "count_perfect_squares(6,20)"
   ]
  }
 ],
 "metadata": {
  "kernelspec": {
   "display_name": "Python 3",
   "language": "python",
   "name": "python3"
  },
  "language_info": {
   "codemirror_mode": {
    "name": "ipython",
    "version": 3
   },
   "file_extension": ".py",
   "mimetype": "text/x-python",
   "name": "python",
   "nbconvert_exporter": "python",
   "pygments_lexer": "ipython3",
   "version": "3.10.7"
  },
  "orig_nbformat": 4,
  "vscode": {
   "interpreter": {
    "hash": "fbfacf25abbc4466cbf6a4ec94f71aa428570133f008ac9f4c86deb26a69bb88"
   }
  }
 },
 "nbformat": 4,
 "nbformat_minor": 2
}
