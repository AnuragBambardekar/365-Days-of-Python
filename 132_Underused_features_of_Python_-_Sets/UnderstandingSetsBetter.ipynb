{
 "cells": [
  {
   "cell_type": "markdown",
   "metadata": {},
   "source": [
    "# Set"
   ]
  },
  {
   "cell_type": "code",
   "execution_count": 1,
   "metadata": {},
   "outputs": [
    {
     "name": "stdout",
     "output_type": "stream",
     "text": [
      "['banana', 'apple', 'orange', 'mango', 'apple']\n",
      "{'banana', 'orange', 'mango', 'apple'}\n"
     ]
    }
   ],
   "source": [
    "fruitList = [\"banana\",\"apple\",\"orange\",\"mango\",\"apple\"]\n",
    "fruitSet = set(fruitList)\n",
    "\n",
    "print(fruitList)\n",
    "print(fruitSet)"
   ]
  },
  {
   "cell_type": "markdown",
   "metadata": {},
   "source": [
    "## Hashing\n",
    "- Convert data into a number (\"Hash value\")\n",
    "- \"pear\" --> Hash Function --> 234353224"
   ]
  },
  {
   "cell_type": "code",
   "execution_count": 2,
   "metadata": {},
   "outputs": [
    {
     "name": "stdout",
     "output_type": "stream",
     "text": [
      "['banana', 'apple', 'orange', 'mango', 'apple']\n",
      "[7222154592393796185, -9166941420378919369, -188048170590060933, -7114821544802231196, -9166941420378919369]\n"
     ]
    }
   ],
   "source": [
    "fruitList = [\"banana\",\"apple\",\"orange\",\"mango\",\"apple\"]\n",
    "fruitHashVals = [hash(\"banana\"),hash(\"apple\"),hash(\"orange\"),hash(\"mango\"),hash(\"apple\")]\n",
    "\n",
    "print(fruitList)\n",
    "print(fruitHashVals)"
   ]
  },
  {
   "cell_type": "code",
   "execution_count": 3,
   "metadata": {},
   "outputs": [
    {
     "name": "stdout",
     "output_type": "stream",
     "text": [
      "{1: 'pear', 2: 'banana', 3: 'apple'}\n"
     ]
    }
   ],
   "source": [
    "fruitDict = {\n",
    "    1:\"pear\",\n",
    "    2:\"banana\",\n",
    "    3:\"apple\"\n",
    "}\n",
    "\n",
    "print(fruitDict)"
   ]
  },
  {
   "cell_type": "markdown",
   "metadata": {},
   "source": [
    "dict has O(1) lookup time\n",
    "\n",
    "Let's hash the keys"
   ]
  },
  {
   "cell_type": "code",
   "execution_count": 5,
   "metadata": {},
   "outputs": [
    {
     "name": "stdout",
     "output_type": "stream",
     "text": [
      "{8622611088484732096: 'pear', 7222154592393796185: 'banana', -9166941420378919369: 'apple'}\n",
      "apple\n"
     ]
    }
   ],
   "source": [
    "fruitDict = {\n",
    "    hash(\"pear\"):\"pear\",\n",
    "    hash(\"banana\"):\"banana\",\n",
    "    hash(\"apple\"):\"apple\"\n",
    "}\n",
    "\n",
    "print(fruitDict)\n",
    "print(fruitDict[hash(\"apple\")])"
   ]
  },
  {
   "cell_type": "markdown",
   "metadata": {},
   "source": [
    "This is essentially what a set is doing in the background.\n",
    "\n",
    "- This is what's known as a **Hash Table**"
   ]
  },
  {
   "cell_type": "markdown",
   "metadata": {},
   "source": [
    "Let's add another apple to the dict."
   ]
  },
  {
   "cell_type": "code",
   "execution_count": 6,
   "metadata": {},
   "outputs": [
    {
     "name": "stdout",
     "output_type": "stream",
     "text": [
      "{8622611088484732096: 'pear', 7222154592393796185: 'banana', -9166941420378919369: 'apple'}\n"
     ]
    }
   ],
   "source": [
    "fruitDict = {\n",
    "    hash(\"pear\"):\"pear\",\n",
    "    hash(\"banana\"):\"banana\",\n",
    "    hash(\"apple\"):\"apple\",\n",
    "    hash(\"apple\"):\"apple\",\n",
    "}\n",
    "\n",
    "print(fruitDict)"
   ]
  },
  {
   "cell_type": "markdown",
   "metadata": {},
   "source": [
    "In a hash table you cannot have two identical keys, so this is where Python removes duplicates in a set."
   ]
  },
  {
   "cell_type": "markdown",
   "metadata": {},
   "source": [
    "So, what's the benefit?\n",
    "\n",
    "- Look up speed vs list is better."
   ]
  }
 ],
 "metadata": {
  "kernelspec": {
   "display_name": "Python 3",
   "language": "python",
   "name": "python3"
  },
  "language_info": {
   "codemirror_mode": {
    "name": "ipython",
    "version": 3
   },
   "file_extension": ".py",
   "mimetype": "text/x-python",
   "name": "python",
   "nbconvert_exporter": "python",
   "pygments_lexer": "ipython3",
   "version": "3.10.8"
  },
  "orig_nbformat": 4
 },
 "nbformat": 4,
 "nbformat_minor": 2
}
