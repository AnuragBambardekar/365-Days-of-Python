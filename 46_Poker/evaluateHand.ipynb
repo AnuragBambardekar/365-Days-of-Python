{
 "cells": [
  {
   "attachments": {},
   "cell_type": "markdown",
   "metadata": {},
   "source": [
    "# Evaluate & return Rank of a hand of 5 cards dealt in the game of Poker"
   ]
  },
  {
   "attachments": {},
   "cell_type": "markdown",
   "metadata": {},
   "source": [
    "**How to play this game?** <br>\n",
    "Before you get started playing any type of 5-card poker, you’ll need to learn the 10 ways to win. <br>\n",
    "In order from lowest to highest, they are: <br>\n",
    "\n",
    "1. High card.\n",
    "2. Pair of cards, like two 2s.\n",
    "3. Two pairs of cards, like two 5s and two 9s.\n",
    "4. Three of a kind, like three 4s.\n",
    "5. Straight, which is five cards in sequential order. For example, a player might have a 3, 4, 5, 6, and 7 of any suit.\n",
    "6. Flush, which is when a player has five cards of the same suit in any order. For example, a player might have a 2, 7, 10, Jack, and Queen of spades.\n",
    "7. Full house, which is when a player has a pair and a three of a kind.\n",
    "8. Four of a kind, like all four Aces.\n",
    "9. Straight flush, which is when you have five cards in sequential order of the same suit. For example, a player might have a 5, 6, 7, 8, and 9 of clubs.\n",
    "10. Royal Flush, which is a straight flush containing a 10, Jack, Queen, King, and Ace.\n",
    "\n",
    "If two people have the same hand, the person with the higher cards wins. <br>\n",
    "\n",
    "Here's #howto play Texas Hold’Em: <br>\n",
    "- You’ll first need to bet your “ante,” which is your “buy in bet” to play the round. The ante is usually a small bet, like $1 or $5, and it’s decided by the table. <br> \n",
    "- Once everyone has bet their ante, the dealer will deal two cards to each player. Keep these cards secret from everyone else. <br> \n",
    "- Now, every player will take a look at their cards and choose whether or not to bet. Whenever there’s a betting round, you can choose to “fold,” which means not playing this round, “check,” which means matching their bet, or “raise,” which means adding more money to the betting pool. <br> \n",
    "- Players that are unwilling to “check” a bet have to fold; and if everyone but one player “folds,” that player wins! <br> \n",
    "- Once everyone has bet, the dealer will reveal three cards. These cards are known as the “flop.” When you see the flop, start planning what hand you want to make, keeping in mind that there are still two more cards to be revealed. For example, are your cards both diamonds, and did the flop include two diamond cards? In that case, you might want to aim for a flush, which is when you have five cards of the same suit. <br> \n",
    "- After the flop, everyone has the chance to bet again, before the dealer reveals the next card, which is the “turn.” <br> \n",
    "- Bet again if you want to, then the dealer will reveal the “river,” which is the last card. <br> \n",
    "- At this point, you’ll see a total of 7 cards: two in your hands, and five on the table. Now, players will bet once last time, then everyone will reveal their hand. Your goal is to create the highest hand possible out of those seven cards, even if it means only using one card from your hand and four cards from the table. <br> \n",
    "- The player with the best hand wins! <br>\n",
    "\n",
    "\n",
    "~[Source: WikiHow]"
   ]
  },
  {
   "cell_type": "code",
   "execution_count": 11,
   "metadata": {},
   "outputs": [
    {
     "name": "stdout",
     "output_type": "stream",
     "text": [
      "[('8', 'clubs'), ('6', 'diamonds'), ('10', 'diamonds'), ('7', 'spades'), ('5', 'spades')]\n",
      "High Card\n"
     ]
    }
   ],
   "source": [
    "# Define a list of card ranks\n",
    "ranks = ['2', '3', '4', '5', '6', '7', '8', '9', '10', 'J', 'Q', 'K', 'A']\n",
    "\n",
    "# Define a list of card suits\n",
    "suits = ['hearts', 'diamonds', 'spades', 'clubs']\n",
    "\n",
    "# Define a deck of cards as a list of tuples, where each tuple is a rank and a suit\n",
    "deck = [(rank, suit) for rank in ranks for suit in suits]\n",
    "\n",
    "# Define a function to evaluate a hand of 5 cards and return the hand's rank\n",
    "def evaluate_hand(hand):\n",
    "    # Check for an Ace-high straight flush (aka Royal Flush)\n",
    "    royal_flush = False\n",
    "    for suit in suits:\n",
    "        if hand == [('10', suit), ('J', suit), ('Q', suit), ('K', suit), ('A', suit)]:\n",
    "            royal_flush = True\n",
    "    if royal_flush:\n",
    "        return 'Ace-high Straight Flush (Royal Flush)'\n",
    "        \n",
    "    # Check for a straight flush\n",
    "    straight = False\n",
    "    flush = False\n",
    "    for suit in suits:\n",
    "        suit_count = 0\n",
    "        for card in hand:\n",
    "            if card[1] == suit:\n",
    "                suit_count += 1\n",
    "        if suit_count == 5:\n",
    "            flush = True\n",
    "    for i in range(len(ranks) - 4):\n",
    "        if ranks[i:i+5] == [card[0] for card in hand]:\n",
    "            straight = True\n",
    "    if straight and flush:\n",
    "        return 'Straight Flush'\n",
    "    \n",
    "    # Check for four of a kind\n",
    "    for rank in ranks:\n",
    "        count = 0\n",
    "        for card in hand:\n",
    "            if card[0] == rank:\n",
    "                count += 1\n",
    "        if count == 4:\n",
    "            return 'Four of a Kind'\n",
    "    \n",
    "    # Check for a full house\n",
    "    three_of_a_kind = False\n",
    "    two_of_a_kind = False\n",
    "    for rank in ranks:\n",
    "        count = 0\n",
    "        for card in hand:\n",
    "            if card[0] == rank:\n",
    "                count += 1\n",
    "        if count == 3:\n",
    "            three_of_a_kind = True\n",
    "        if count == 2:\n",
    "            two_of_a_kind = True\n",
    "    if three_of_a_kind and two_of_a_kind:\n",
    "        return 'Full House'\n",
    "    \n",
    "    # Check for a flush\n",
    "    if flush:\n",
    "        return 'Flush'\n",
    "    \n",
    "    # Check for a straight\n",
    "    if straight:\n",
    "        return 'Straight'\n",
    "    \n",
    "    # Check for three of a kind\n",
    "    if three_of_a_kind:\n",
    "        return 'Three of a Kind'\n",
    "    \n",
    "    # Check for two pairs\n",
    "    pairs = 0\n",
    "    for rank in ranks:\n",
    "        count = 0\n",
    "        for card in hand:\n",
    "            if card[0] == rank:\n",
    "                count += 1\n",
    "        if count == 2:\n",
    "            pairs += 1\n",
    "    if pairs == 2:\n",
    "        return 'Two Pairs'\n",
    "    \n",
    "    # Check for a pair\n",
    "    if pairs == 1:\n",
    "        return 'Pair'\n",
    "    \n",
    "    # Return high card\n",
    "    return 'High Card'\n",
    "\n",
    "# Draw 5 cards from the deck and evaluate the hand\n",
    "import random\n",
    "hand = random.sample(deck, 5)\n",
    "print(hand)\n",
    "print(evaluate_hand(hand))\n"
   ]
  },
  {
   "attachments": {},
   "cell_type": "markdown",
   "metadata": {},
   "source": [
    "### User enters 5 cards"
   ]
  },
  {
   "cell_type": "code",
   "execution_count": 12,
   "metadata": {},
   "outputs": [],
   "source": [
    "# Get the user's 5 cards\n",
    "hand = []\n",
    "for i in range(5):\n",
    "    while True:\n",
    "        rank = input(\"Enter the rank of card {} (2-10, J, Q, K, A): \".format(i+1))\n",
    "        if rank in ranks:\n",
    "            break\n",
    "        else:\n",
    "            print(\"Invalid rank. Please enter a valid rank.\")\n",
    "    while True:\n",
    "        suit = input(\"Enter the suit of card {} (hearts, diamonds, spades, clubs): \".format(i+1))\n",
    "        if suit in suits:\n",
    "            break\n",
    "        else:\n",
    "            print(\"Invalid suit. Please enter a valid suit.\")\n",
    "    hand.append((rank, suit))\n"
   ]
  },
  {
   "cell_type": "code",
   "execution_count": 13,
   "metadata": {},
   "outputs": [
    {
     "name": "stdout",
     "output_type": "stream",
     "text": [
      "[('10', 'spades'), ('J', 'spades'), ('Q', 'spades'), ('K', 'spades'), ('A', 'spades')]\n",
      "Ace-high Straight Flush (Royal Flush)\n"
     ]
    }
   ],
   "source": [
    "print(hand)\n",
    "print(evaluate_hand(hand))"
   ]
  },
  {
   "attachments": {},
   "cell_type": "markdown",
   "metadata": {},
   "source": [
    "# Did I win?"
   ]
  },
  {
   "cell_type": "code",
   "execution_count": 14,
   "metadata": {},
   "outputs": [
    {
     "name": "stdout",
     "output_type": "stream",
     "text": [
      "Congratulations, you have the highest hand: Ace-high Straight Flush (Royal Flush)!\n"
     ]
    }
   ],
   "source": [
    "hand_ranks = ['Ace-high Straight Flush (Royal Flush)','Straight Flush', 'Four of a Kind', 'Full House', 'Flush', 'Straight', 'Three of a Kind', 'Two Pairs', 'Pair', 'High Card']\n",
    "evaluated_hand = evaluate_hand(hand)\n",
    "hand_index = hand_ranks.index(evaluated_hand)\n",
    "if hand_index == 0:\n",
    "    print(\"Congratulations, you have the highest hand: {}!\".format(evaluated_hand))\n",
    "elif hand_index == len(hand_ranks) - 1:\n",
    "    print(\"Unfortunately, you have the lowest hand: {}.\".format(evaluated_hand))\n",
    "else:\n",
    "    print(\"You have a middle-ranked hand: {}.\".format(evaluated_hand))"
   ]
  }
 ],
 "metadata": {
  "kernelspec": {
   "display_name": "Python 3",
   "language": "python",
   "name": "python3"
  },
  "language_info": {
   "codemirror_mode": {
    "name": "ipython",
    "version": 3
   },
   "file_extension": ".py",
   "mimetype": "text/x-python",
   "name": "python",
   "nbconvert_exporter": "python",
   "pygments_lexer": "ipython3",
   "version": "3.10.7"
  },
  "orig_nbformat": 4,
  "vscode": {
   "interpreter": {
    "hash": "fbfacf25abbc4466cbf6a4ec94f71aa428570133f008ac9f4c86deb26a69bb88"
   }
  }
 },
 "nbformat": 4,
 "nbformat_minor": 2
}
