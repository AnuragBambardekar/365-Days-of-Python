{
 "cells": [
  {
   "attachments": {},
   "cell_type": "markdown",
   "metadata": {},
   "source": [
    "# URL"
   ]
  },
  {
   "attachments": {},
   "cell_type": "markdown",
   "metadata": {},
   "source": [
    "URL stands for Uniform Resource Locator. It is a string of characters that provides the address or location of a resource on the internet. A URL consists of several parts, including the protocol (such as HTTP or HTTPS), the domain name (such as www.example.com), the path to the resource, and any parameters or queries."
   ]
  },
  {
   "cell_type": "code",
   "execution_count": 1,
   "metadata": {},
   "outputs": [
    {
     "name": "stdout",
     "output_type": "stream",
     "text": [
      "Scheme: https\n",
      "Netloc: www.example.com\n",
      "Path: /path/to/resource\n",
      "Query: param1=value1&param2=value2\n"
     ]
    }
   ],
   "source": [
    "import urllib.parse\n",
    "\n",
    "url = \"https://www.example.com/path/to/resource?param1=value1&param2=value2\"\n",
    "\n",
    "# parse the URL into its component parts\n",
    "parsed_url = urllib.parse.urlparse(url)\n",
    "\n",
    "# print the different parts of the URL\n",
    "print(\"Scheme:\", parsed_url.scheme)\n",
    "print(\"Netloc:\", parsed_url.netloc)\n",
    "print(\"Path:\", parsed_url.path)\n",
    "print(\"Query:\", parsed_url.query)\n"
   ]
  },
  {
   "attachments": {},
   "cell_type": "markdown",
   "metadata": {},
   "source": [
    "Building URL's from components"
   ]
  },
  {
   "cell_type": "code",
   "execution_count": 2,
   "metadata": {},
   "outputs": [
    {
     "name": "stdout",
     "output_type": "stream",
     "text": [
      "URL: https://www.example.com/path/to/resource?param1=value1&param2=value2\n"
     ]
    }
   ],
   "source": [
    "import urllib.parse\n",
    "\n",
    "scheme = \"https\"\n",
    "netloc = \"www.example.com\"\n",
    "path = \"/path/to/resource\"\n",
    "params = \"param1=value1&param2=value2\"\n",
    "\n",
    "# construct a URL from its components\n",
    "url = urllib.parse.urlunparse((scheme, netloc, path, \"\", params, \"\"))\n",
    "\n",
    "print(\"URL:\", url)\n"
   ]
  },
  {
   "attachments": {},
   "cell_type": "markdown",
   "metadata": {},
   "source": [
    "Parsing Query Parameters"
   ]
  },
  {
   "cell_type": "code",
   "execution_count": 3,
   "metadata": {},
   "outputs": [
    {
     "name": "stdout",
     "output_type": "stream",
     "text": [
      "param1: ['value1']\n",
      "param2: ['value2']\n"
     ]
    }
   ],
   "source": [
    "import urllib.parse\n",
    "\n",
    "url = \"https://www.example.com/path/to/resource?param1=value1&param2=value2\"\n",
    "\n",
    "# parse the query string into a dictionary\n",
    "query_dict = urllib.parse.parse_qs(urllib.parse.urlparse(url).query)\n",
    "\n",
    "# print the values of the \"param1\" and \"param2\" parameters\n",
    "print(\"param1:\", query_dict.get(\"param1\"))\n",
    "print(\"param2:\", query_dict.get(\"param2\"))\n"
   ]
  },
  {
   "attachments": {},
   "cell_type": "markdown",
   "metadata": {},
   "source": [
    "Resolving Relative URLs"
   ]
  },
  {
   "cell_type": "code",
   "execution_count": 4,
   "metadata": {},
   "outputs": [
    {
     "name": "stdout",
     "output_type": "stream",
     "text": [
      "Resolved URL: https://www.example.com/path/another-page\n"
     ]
    }
   ],
   "source": [
    "import urllib.parse\n",
    "\n",
    "base_url = \"https://www.example.com/path/to/page\"\n",
    "\n",
    "# resolve a relative URL against a base URL\n",
    "resolved_url = urllib.parse.urljoin(base_url, \"../another-page\")\n",
    "\n",
    "print(\"Resolved URL:\", resolved_url)\n"
   ]
  },
  {
   "attachments": {},
   "cell_type": "markdown",
   "metadata": {},
   "source": [
    "Encoding & Decoding URL components"
   ]
  },
  {
   "cell_type": "code",
   "execution_count": 5,
   "metadata": {},
   "outputs": [
    {
     "name": "stdout",
     "output_type": "stream",
     "text": [
      "Encoded query: param1=value+1\n",
      "Decoded query: param1=value+1\n"
     ]
    }
   ],
   "source": [
    "import urllib.parse\n",
    "\n",
    "url = \"https://www.example.com/path/to/resource?param1=value 1\"\n",
    "\n",
    "# encode the query string\n",
    "encoded_query = urllib.parse.urlencode({\"param1\": \"value 1\"})\n",
    "\n",
    "# decode the query string\n",
    "decoded_query = urllib.parse.unquote(encoded_query)\n",
    "\n",
    "print(\"Encoded query:\", encoded_query)\n",
    "print(\"Decoded query:\", decoded_query)\n"
   ]
  },
  {
   "cell_type": "code",
   "execution_count": null,
   "metadata": {},
   "outputs": [],
   "source": []
  }
 ],
 "metadata": {
  "kernelspec": {
   "display_name": "Python 3",
   "language": "python",
   "name": "python3"
  },
  "language_info": {
   "codemirror_mode": {
    "name": "ipython",
    "version": 3
   },
   "file_extension": ".py",
   "mimetype": "text/x-python",
   "name": "python",
   "nbconvert_exporter": "python",
   "pygments_lexer": "ipython3",
   "version": "3.10.8"
  },
  "orig_nbformat": 4
 },
 "nbformat": 4,
 "nbformat_minor": 2
}
