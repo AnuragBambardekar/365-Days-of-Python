{
 "cells": [
  {
   "cell_type": "markdown",
   "metadata": {},
   "source": [
    "# Asterisk and Slash"
   ]
  },
  {
   "cell_type": "markdown",
   "metadata": {},
   "source": [
    "The asterisk (*) and forward slash (/) define whether you can pass positional or keyword arguments to your functions. The Python documentation refers to * and / as both symbols and special parameters."
   ]
  },
  {
   "cell_type": "markdown",
   "metadata": {},
   "source": [
    "The asterisk is designed to force you to pass all subsequent parameters by keyword."
   ]
  },
  {
   "cell_type": "code",
   "execution_count": 16,
   "metadata": {},
   "outputs": [],
   "source": [
    "def asterisk_usage(either, *, keyword_only):\n",
    "    print(either, keyword_only)"
   ]
  },
  {
   "cell_type": "code",
   "execution_count": 17,
   "metadata": {},
   "outputs": [
    {
     "name": "stdout",
     "output_type": "stream",
     "text": [
      "Bob Casey\n"
     ]
    }
   ],
   "source": [
    "asterisk_usage(either=\"Bob\", keyword_only=\"Casey\")"
   ]
  },
  {
   "cell_type": "code",
   "execution_count": 18,
   "metadata": {},
   "outputs": [
    {
     "name": "stdout",
     "output_type": "stream",
     "text": [
      "Bob Casey\n"
     ]
    }
   ],
   "source": [
    "asterisk_usage(\"Bob\", keyword_only=\"Casey\")"
   ]
  },
  {
   "cell_type": "code",
   "execution_count": 19,
   "metadata": {},
   "outputs": [
    {
     "ename": "TypeError",
     "evalue": "asterisk_usage() takes 1 positional argument but 2 were given",
     "output_type": "error",
     "traceback": [
      "\u001b[1;31m---------------------------------------------------------------------------\u001b[0m",
      "\u001b[1;31mTypeError\u001b[0m                                 Traceback (most recent call last)",
      "\u001b[1;32mc:\\Users\\anura\\Documents\\VSCode_Workspace\\365-Days-of-Python\\235_Asterisk_and_Slash\\asterisk_use.ipynb Cell 7\u001b[0m in \u001b[0;36m1\n\u001b[1;32m----> <a href='vscode-notebook-cell:/c%3A/Users/anura/Documents/VSCode_Workspace/365-Days-of-Python/235_Asterisk_and_Slash/asterisk_use.ipynb#W6sZmlsZQ%3D%3D?line=0'>1</a>\u001b[0m asterisk_usage(\u001b[39m\"\u001b[39m\u001b[39mBob\u001b[39m\u001b[39m\"\u001b[39m, \u001b[39m\"\u001b[39m\u001b[39mCasey\u001b[39m\u001b[39m\"\u001b[39m)\n",
      "\u001b[1;31mTypeError\u001b[0m: asterisk_usage() takes 1 positional argument but 2 were given"
     ]
    }
   ],
   "source": [
    "asterisk_usage(\"Bob\", \"Casey\")"
   ]
  },
  {
   "cell_type": "markdown",
   "metadata": {},
   "source": [
    "The slash is used to ensure that you must pass any preceding arguments by position."
   ]
  },
  {
   "cell_type": "code",
   "execution_count": 20,
   "metadata": {},
   "outputs": [],
   "source": [
    "def slash_usage(positional_only, /, either):\n",
    "    print(positional_only, either)"
   ]
  },
  {
   "cell_type": "code",
   "execution_count": 21,
   "metadata": {},
   "outputs": [
    {
     "name": "stdout",
     "output_type": "stream",
     "text": [
      "Bob Casey\n"
     ]
    }
   ],
   "source": [
    "slash_usage(\"Bob\", either=\"Casey\")"
   ]
  },
  {
   "cell_type": "code",
   "execution_count": 22,
   "metadata": {},
   "outputs": [
    {
     "ename": "TypeError",
     "evalue": "slash_usage() got some positional-only arguments passed as keyword arguments: 'positional_only'",
     "output_type": "error",
     "traceback": [
      "\u001b[1;31m---------------------------------------------------------------------------\u001b[0m",
      "\u001b[1;31mTypeError\u001b[0m                                 Traceback (most recent call last)",
      "\u001b[1;32mc:\\Users\\anura\\Documents\\VSCode_Workspace\\365-Days-of-Python\\235_Asterisk_and_Slash\\asterisk_use.ipynb Cell 11\u001b[0m in \u001b[0;36m1\n\u001b[1;32m----> <a href='vscode-notebook-cell:/c%3A/Users/anura/Documents/VSCode_Workspace/365-Days-of-Python/235_Asterisk_and_Slash/asterisk_use.ipynb#X13sZmlsZQ%3D%3D?line=0'>1</a>\u001b[0m slash_usage(positional_only\u001b[39m=\u001b[39m\u001b[39m\"\u001b[39m\u001b[39mBob\u001b[39m\u001b[39m\"\u001b[39m, either\u001b[39m=\u001b[39m\u001b[39m\"\u001b[39m\u001b[39mCasey\u001b[39m\u001b[39m\"\u001b[39m)\n",
      "\u001b[1;31mTypeError\u001b[0m: slash_usage() got some positional-only arguments passed as keyword arguments: 'positional_only'"
     ]
    }
   ],
   "source": [
    "slash_usage(positional_only=\"Bob\", either=\"Casey\")"
   ]
  },
  {
   "cell_type": "code",
   "execution_count": 23,
   "metadata": {},
   "outputs": [
    {
     "name": "stdout",
     "output_type": "stream",
     "text": [
      "Bob Casey\n"
     ]
    }
   ],
   "source": [
    "slash_usage(\"Bob\", \"Casey\")"
   ]
  },
  {
   "cell_type": "markdown",
   "metadata": {},
   "source": [
    "#### Function that accepts only Keyword arguments"
   ]
  },
  {
   "cell_type": "markdown",
   "metadata": {},
   "source": [
    "You can’t include the asterisk as the final parameter when defining your function. However, it can be your first parameter. In that case, you’re specifying that your function will only accept keyword arguments."
   ]
  },
  {
   "cell_type": "code",
   "execution_count": 24,
   "metadata": {},
   "outputs": [],
   "source": [
    "def print_three_members(*, member1, member2, member3):\n",
    "    print(f\"member1 is {member1}\")\n",
    "    print(f\"member2 is {member2}\")\n",
    "    print(f\"member3 is {member3}\")"
   ]
  },
  {
   "cell_type": "code",
   "execution_count": 25,
   "metadata": {},
   "outputs": [
    {
     "name": "stdout",
     "output_type": "stream",
     "text": [
      "member1 is Bob\n",
      "member2 is Casey\n",
      "member3 is John\n"
     ]
    }
   ],
   "source": [
    "print_three_members(member1=\"Bob\", member2=\"Casey\", member3=\"John\")"
   ]
  },
  {
   "cell_type": "code",
   "execution_count": 26,
   "metadata": {},
   "outputs": [
    {
     "name": "stdout",
     "output_type": "stream",
     "text": [
      "member1 is Bob\n",
      "member2 is John\n",
      "member3 is Casey\n"
     ]
    }
   ],
   "source": [
    "print_three_members(member1=\"Bob\", member3=\"Casey\", member2=\"John\")"
   ]
  },
  {
   "cell_type": "code",
   "execution_count": 27,
   "metadata": {},
   "outputs": [
    {
     "ename": "TypeError",
     "evalue": "print_three_members() takes 0 positional arguments but 3 were given",
     "output_type": "error",
     "traceback": [
      "\u001b[1;31m---------------------------------------------------------------------------\u001b[0m",
      "\u001b[1;31mTypeError\u001b[0m                                 Traceback (most recent call last)",
      "\u001b[1;32mc:\\Users\\anura\\Documents\\VSCode_Workspace\\365-Days-of-Python\\235_Asterisk_and_Slash\\asterisk_use.ipynb Cell 18\u001b[0m in \u001b[0;36m1\n\u001b[1;32m----> <a href='vscode-notebook-cell:/c%3A/Users/anura/Documents/VSCode_Workspace/365-Days-of-Python/235_Asterisk_and_Slash/asterisk_use.ipynb#X22sZmlsZQ%3D%3D?line=0'>1</a>\u001b[0m print_three_members(\u001b[39m\"\u001b[39m\u001b[39mBob\u001b[39m\u001b[39m\"\u001b[39m, \u001b[39m\"\u001b[39m\u001b[39mCasey\u001b[39m\u001b[39m\"\u001b[39m, \u001b[39m\"\u001b[39m\u001b[39mJohn\u001b[39m\u001b[39m\"\u001b[39m)\n",
      "\u001b[1;31mTypeError\u001b[0m: print_three_members() takes 0 positional arguments but 3 were given"
     ]
    }
   ],
   "source": [
    "print_three_members(\"Bob\", \"Casey\", \"John\")"
   ]
  },
  {
   "cell_type": "markdown",
   "metadata": {},
   "source": [
    "#### Function that accepts only Positional arguments"
   ]
  },
  {
   "cell_type": "markdown",
   "metadata": {},
   "source": [
    "This time, you can only ever pass member1, member2, and member3 by position. "
   ]
  },
  {
   "cell_type": "code",
   "execution_count": 28,
   "metadata": {},
   "outputs": [],
   "source": [
    "def print_three_members(member1, member2, member3, /):\n",
    "    print(f\"member1 is {member1}\")\n",
    "    print(f\"member2 is {member2}\")\n",
    "    print(f\"member3 is {member3}\")"
   ]
  },
  {
   "cell_type": "code",
   "execution_count": 29,
   "metadata": {},
   "outputs": [
    {
     "name": "stdout",
     "output_type": "stream",
     "text": [
      "member1 is Bob\n",
      "member2 is Casey\n",
      "member3 is John\n"
     ]
    }
   ],
   "source": [
    "print_three_members(\"Bob\", \"Casey\", \"John\")"
   ]
  },
  {
   "cell_type": "code",
   "execution_count": 30,
   "metadata": {},
   "outputs": [
    {
     "ename": "TypeError",
     "evalue": "print_three_members() got some positional-only arguments passed as keyword arguments: 'member1, member2, member3'",
     "output_type": "error",
     "traceback": [
      "\u001b[1;31m---------------------------------------------------------------------------\u001b[0m",
      "\u001b[1;31mTypeError\u001b[0m                                 Traceback (most recent call last)",
      "\u001b[1;32mc:\\Users\\anura\\Documents\\VSCode_Workspace\\365-Days-of-Python\\235_Asterisk_and_Slash\\asterisk_use.ipynb Cell 22\u001b[0m in \u001b[0;36m1\n\u001b[1;32m----> <a href='vscode-notebook-cell:/c%3A/Users/anura/Documents/VSCode_Workspace/365-Days-of-Python/235_Asterisk_and_Slash/asterisk_use.ipynb#X30sZmlsZQ%3D%3D?line=0'>1</a>\u001b[0m print_three_members(member1\u001b[39m=\u001b[39m\u001b[39m\"\u001b[39m\u001b[39mBob\u001b[39m\u001b[39m\"\u001b[39m, member2\u001b[39m=\u001b[39m\u001b[39m\"\u001b[39m\u001b[39mJohn\u001b[39m\u001b[39m\"\u001b[39m, member3\u001b[39m=\u001b[39m\u001b[39m\"\u001b[39m\u001b[39mCasey\u001b[39m\u001b[39m\"\u001b[39m)\n",
      "\u001b[1;31mTypeError\u001b[0m: print_three_members() got some positional-only arguments passed as keyword arguments: 'member1, member2, member3'"
     ]
    }
   ],
   "source": [
    "print_three_members(member1=\"Bob\", member2=\"John\", member3=\"Casey\")"
   ]
  },
  {
   "cell_type": "markdown",
   "metadata": {},
   "source": [
    "## *args"
   ]
  },
  {
   "cell_type": "markdown",
   "metadata": {},
   "source": [
    "The *args parameter allows you to write a function that can accept a varying number of individual positional arguments in each call. Your code packs all of these arguments into a tuple named args."
   ]
  },
  {
   "cell_type": "markdown",
   "metadata": {},
   "source": [
    "The asterisk is the important part of the *args notation. The name args is just a convention that’s commonly used. You’re free to use any variable name in place of args"
   ]
  },
  {
   "cell_type": "code",
   "execution_count": 32,
   "metadata": {},
   "outputs": [],
   "source": [
    "def get_average(*args):\n",
    "    print(args)\n",
    "    return sum(args) / len(args)"
   ]
  },
  {
   "cell_type": "code",
   "execution_count": 33,
   "metadata": {},
   "outputs": [
    {
     "name": "stdout",
     "output_type": "stream",
     "text": [
      "(1, 2, 3)\n"
     ]
    },
    {
     "data": {
      "text/plain": [
       "2.0"
      ]
     },
     "execution_count": 33,
     "metadata": {},
     "output_type": "execute_result"
    }
   ],
   "source": [
    "get_average(1, 2, 3)"
   ]
  },
  {
   "cell_type": "code",
   "execution_count": 34,
   "metadata": {},
   "outputs": [
    {
     "name": "stdout",
     "output_type": "stream",
     "text": [
      "(1, 2, 3, 4, 5, 6)\n"
     ]
    },
    {
     "data": {
      "text/plain": [
       "3.5"
      ]
     },
     "execution_count": 34,
     "metadata": {},
     "output_type": "execute_result"
    }
   ],
   "source": [
    "get_average(1, 2, 3, 4, 5, 6)"
   ]
  },
  {
   "cell_type": "code",
   "execution_count": 35,
   "metadata": {},
   "outputs": [],
   "source": [
    "def print_varying_members(member1, member2, *args, member3):\n",
    "    print(f\"member1 is {member1}\")\n",
    "    print(f\"member2 is {member2}\")\n",
    "    print(f\"member3 is {member3}\")\n",
    "    print(f\"*args contains {args}\")"
   ]
  },
  {
   "cell_type": "code",
   "execution_count": 53,
   "metadata": {},
   "outputs": [
    {
     "name": "stdout",
     "output_type": "stream",
     "text": [
      "member1 is Jake\n",
      "member2 is Walt\n",
      "member3 is Leonard\n",
      "*args contains ()\n"
     ]
    }
   ],
   "source": [
    "print_varying_members(\"Jake\", member2=\"Walt\", member3=\"Leonard\")"
   ]
  },
  {
   "cell_type": "code",
   "execution_count": 54,
   "metadata": {},
   "outputs": [
    {
     "ename": "SyntaxError",
     "evalue": "positional argument follows keyword argument (485360933.py, line 1)",
     "output_type": "error",
     "traceback": [
      "\u001b[1;36m  Cell \u001b[1;32mIn [54], line 1\u001b[1;36m\u001b[0m\n\u001b[1;33m    print_varying_members(member1=\"Jake\", \"Walt\", member3=\"Leonard\")\u001b[0m\n\u001b[1;37m                                                                   ^\u001b[0m\n\u001b[1;31mSyntaxError\u001b[0m\u001b[1;31m:\u001b[0m positional argument follows keyword argument\n"
     ]
    }
   ],
   "source": [
    "print_varying_members(member1=\"Jake\", \"Walt\", member3=\"Leonard\")"
   ]
  },
  {
   "cell_type": "markdown",
   "metadata": {},
   "source": [
    "This code fails because it breaks one of the golden rules. You tried to pass an argument by position after passing another by keyword. Again, the error message explains your error.\n",
    "\n",
    "The main point of *args is to absorb any additional positional arguments that you pass for which there are no defined parameters. However, if you want to pass additional arguments, then you must make sure to pass everything before and including *args by position as well. You can’t pass some by keyword and then others by position, because your positional arguments must always come before your keyword arguments."
   ]
  },
  {
   "cell_type": "code",
   "execution_count": 55,
   "metadata": {},
   "outputs": [
    {
     "name": "stdout",
     "output_type": "stream",
     "text": [
      "member1 is Jake\n",
      "member2 is Walt\n",
      "member3 is Leonard\n",
      "*args contains ('Peter', 'Joey')\n"
     ]
    }
   ],
   "source": [
    "print_varying_members(\"Jake\", \"Walt\", \"Peter\", \"Joey\", member3=\"Leonard\")"
   ]
  },
  {
   "cell_type": "markdown",
   "metadata": {},
   "source": [
    "The asterisk is designed to force you to pass all subsequent arguments by keyword. If you use it alone, then there are no subsequent parameters to accept these arguments. "
   ]
  },
  {
   "cell_type": "code",
   "execution_count": 56,
   "metadata": {},
   "outputs": [
    {
     "ename": "SyntaxError",
     "evalue": "named arguments must follow bare * (3923985570.py, line 1)",
     "output_type": "error",
     "traceback": [
      "\u001b[1;36m  Cell \u001b[1;32mIn [56], line 1\u001b[1;36m\u001b[0m\n\u001b[1;33m    def print_three_members(*):\u001b[0m\n\u001b[1;37m                            ^\u001b[0m\n\u001b[1;31mSyntaxError\u001b[0m\u001b[1;31m:\u001b[0m named arguments must follow bare *\n"
     ]
    }
   ],
   "source": [
    "def print_three_members(*):\n",
    "    pass"
   ]
  },
  {
   "cell_type": "markdown",
   "metadata": {},
   "source": [
    "## Use Both the Asterisk and Slash in a Function Definiton"
   ]
  },
  {
   "cell_type": "code",
   "execution_count": 57,
   "metadata": {},
   "outputs": [],
   "source": [
    "def print_four_members(member1, member2, /, member3, *, member4):\n",
    "    print(f\"member1 is {member1}\")\n",
    "    print(f\"member2 is {member2}\")\n",
    "    print(f\"member3 is {member3}\")\n",
    "    print(f\"member4 is {member4}\")"
   ]
  },
  {
   "cell_type": "code",
   "execution_count": 58,
   "metadata": {},
   "outputs": [
    {
     "name": "stdout",
     "output_type": "stream",
     "text": [
      "member1 is Jake\n",
      "member2 is Walt\n",
      "member3 is Leonard\n",
      "member4 is Joey\n"
     ]
    }
   ],
   "source": [
    "print_four_members(\"Jake\", \"Walt\", member3=\"Leonard\", member4=\"Joey\")"
   ]
  },
  {
   "cell_type": "code",
   "execution_count": 59,
   "metadata": {},
   "outputs": [
    {
     "ename": "SyntaxError",
     "evalue": "invalid syntax (4245099220.py, line 1)",
     "output_type": "error",
     "traceback": [
      "\u001b[1;36m  Cell \u001b[1;32mIn [59], line 1\u001b[1;36m\u001b[0m\n\u001b[1;33m    def print_four_members(member1, member2, *, member3, /, member4):\u001b[0m\n\u001b[1;37m                                                         ^\u001b[0m\n\u001b[1;31mSyntaxError\u001b[0m\u001b[1;31m:\u001b[0m invalid syntax\n"
     ]
    }
   ],
   "source": [
    "def print_four_members(member1, member2, *, member3, /, member4):\n",
    "    pass"
   ]
  },
  {
   "cell_type": "markdown",
   "metadata": {},
   "source": [
    "Asterisk forces you to pass all subsequent parameters by keyword, while the / forces you to pass previous parameters by position. There’s confusion about how you intend to pass member3. Python doesn’t know either, so it gives up!"
   ]
  },
  {
   "cell_type": "code",
   "execution_count": 60,
   "metadata": {},
   "outputs": [],
   "source": [
    "def print_three_members(member1, member2, /, *, member3):\n",
    "    print(f\"member1 is {member1}\")\n",
    "    print(f\"member2 is {member2}\")\n",
    "    print(f\"member3 is {member3}\")"
   ]
  },
  {
   "cell_type": "code",
   "execution_count": 61,
   "metadata": {},
   "outputs": [
    {
     "name": "stdout",
     "output_type": "stream",
     "text": [
      "member1 is Jake\n",
      "member2 is Walt\n",
      "member3 is Leonard\n"
     ]
    }
   ],
   "source": [
    "print_three_members(\"Jake\", \"Walt\", member3=\"Leonard\")"
   ]
  },
  {
   "cell_type": "markdown",
   "metadata": {},
   "source": [
    "## Use Both *args and the Asterisk Together?"
   ]
  },
  {
   "cell_type": "code",
   "execution_count": 62,
   "metadata": {},
   "outputs": [
    {
     "ename": "SyntaxError",
     "evalue": "invalid syntax (2253655509.py, line 1)",
     "output_type": "error",
     "traceback": [
      "\u001b[1;36m  Cell \u001b[1;32mIn [62], line 1\u001b[1;36m\u001b[0m\n\u001b[1;33m    def print_three_members(member1, member2, *args, *, member3):\u001b[0m\n\u001b[1;37m                                                     ^\u001b[0m\n\u001b[1;31mSyntaxError\u001b[0m\u001b[1;31m:\u001b[0m invalid syntax\n"
     ]
    }
   ],
   "source": [
    "def print_three_members(member1, member2, *args, *, member3):\n",
    "    pass"
   ]
  },
  {
   "cell_type": "code",
   "execution_count": 63,
   "metadata": {},
   "outputs": [
    {
     "ename": "SyntaxError",
     "evalue": "invalid syntax (1634847496.py, line 1)",
     "output_type": "error",
     "traceback": [
      "\u001b[1;36m  Cell \u001b[1;32mIn [63], line 1\u001b[1;36m\u001b[0m\n\u001b[1;33m    def print_three_members(member1, member2, *, *args, member3):\u001b[0m\n\u001b[1;37m                                                 ^\u001b[0m\n\u001b[1;31mSyntaxError\u001b[0m\u001b[1;31m:\u001b[0m invalid syntax\n"
     ]
    }
   ],
   "source": [
    "def print_three_members(member1, member2, *, *args, member3):\n",
    "    pass"
   ]
  },
  {
   "cell_type": "markdown",
   "metadata": {},
   "source": [
    "Python is unhappy at having to tell you to pass all subsequent arguments by keyword twice."
   ]
  },
  {
   "cell_type": "markdown",
   "metadata": {},
   "source": [
    "# Why Would You Use the Special Parameters in Your Function?"
   ]
  },
  {
   "cell_type": "code",
   "execution_count": 64,
   "metadata": {},
   "outputs": [],
   "source": [
    "def username(fn, ln, /):\n",
    "    return ln + fn[0]"
   ]
  },
  {
   "cell_type": "code",
   "execution_count": 65,
   "metadata": {},
   "outputs": [
    {
     "name": "stdout",
     "output_type": "stream",
     "text": [
      "BambardekarA\n"
     ]
    }
   ],
   "source": [
    "print(username(\"Anurag\",\"Bambardekar\"))"
   ]
  },
  {
   "cell_type": "code",
   "execution_count": 66,
   "metadata": {},
   "outputs": [
    {
     "ename": "TypeError",
     "evalue": "username() got some positional-only arguments passed as keyword arguments: 'fn, ln'",
     "output_type": "error",
     "traceback": [
      "\u001b[1;31m---------------------------------------------------------------------------\u001b[0m",
      "\u001b[1;31mTypeError\u001b[0m                                 Traceback (most recent call last)",
      "\u001b[1;32mc:\\Users\\anura\\Documents\\VSCode_Workspace\\365-Days-of-Python\\235_Asterisk_and_Slash\\asterisk_use.ipynb Cell 51\u001b[0m in \u001b[0;36m1\n\u001b[1;32m----> <a href='vscode-notebook-cell:/c%3A/Users/anura/Documents/VSCode_Workspace/365-Days-of-Python/235_Asterisk_and_Slash/asterisk_use.ipynb#Y111sZmlsZQ%3D%3D?line=0'>1</a>\u001b[0m \u001b[39mprint\u001b[39m(username(fn\u001b[39m=\u001b[39m\u001b[39m\"\u001b[39m\u001b[39mAnurag\u001b[39m\u001b[39m\"\u001b[39m, ln\u001b[39m=\u001b[39m\u001b[39m\"\u001b[39m\u001b[39mBambardekar\u001b[39m\u001b[39m\"\u001b[39m))\n",
      "\u001b[1;31mTypeError\u001b[0m: username() got some positional-only arguments passed as keyword arguments: 'fn, ln'"
     ]
    }
   ],
   "source": [
    "print(username(fn=\"Anurag\", ln=\"Bambardekar\"))"
   ]
  },
  {
   "cell_type": "markdown",
   "metadata": {},
   "source": [
    "To make sure your username() function accepts arguments by position only, you use the slash as the final parameter. As you can see, if you try and pass arguments by their keywords, then the call fails. The arguments though are always hidden from the user. "
   ]
  },
  {
   "cell_type": "code",
   "execution_count": 67,
   "metadata": {},
   "outputs": [],
   "source": [
    "def username(fn, ln, /, *, initial_last=True):\n",
    "    if initial_last:\n",
    "        return ln + fn[0]\n",
    "    else:\n",
    "        return fn[0] + ln"
   ]
  },
  {
   "cell_type": "code",
   "execution_count": 68,
   "metadata": {},
   "outputs": [
    {
     "data": {
      "text/plain": [
       "'BambardekarA'"
      ]
     },
     "execution_count": 68,
     "metadata": {},
     "output_type": "execute_result"
    }
   ],
   "source": [
    "username(\"Anurag\",\"Bambardekar\")"
   ]
  },
  {
   "cell_type": "code",
   "execution_count": 69,
   "metadata": {},
   "outputs": [
    {
     "data": {
      "text/plain": [
       "'ABambardekar'"
      ]
     },
     "execution_count": 69,
     "metadata": {},
     "output_type": "execute_result"
    }
   ],
   "source": [
    "username(\"Anurag\",\"Bambardekar\", initial_last=False)"
   ]
  }
 ],
 "metadata": {
  "kernelspec": {
   "display_name": "Python 3",
   "language": "python",
   "name": "python3"
  },
  "language_info": {
   "codemirror_mode": {
    "name": "ipython",
    "version": 3
   },
   "file_extension": ".py",
   "mimetype": "text/x-python",
   "name": "python",
   "nbconvert_exporter": "python",
   "pygments_lexer": "ipython3",
   "version": "3.10.8"
  },
  "orig_nbformat": 4
 },
 "nbformat": 4,
 "nbformat_minor": 2
}
