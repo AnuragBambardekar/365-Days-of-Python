{
 "cells": [
  {
   "attachments": {},
   "cell_type": "markdown",
   "metadata": {},
   "source": [
    "# Fetching RSS Feed"
   ]
  },
  {
   "attachments": {},
   "cell_type": "markdown",
   "metadata": {},
   "source": [
    "RSS is a web feed that allows users and applications to access updates to websites in a standardized, computer-readable format."
   ]
  },
  {
   "cell_type": "code",
   "execution_count": 2,
   "metadata": {},
   "outputs": [],
   "source": [
    "import requests\n",
    "from bs4 import BeautifulSoup\n",
    "import json\n",
    "import pandas as pd\n",
    "import numpy as np\n",
    "import time"
   ]
  },
  {
   "attachments": {},
   "cell_type": "markdown",
   "metadata": {},
   "source": [
    "## Fetch Top news from Global News RSS Feed"
   ]
  },
  {
   "cell_type": "code",
   "execution_count": 3,
   "metadata": {},
   "outputs": [],
   "source": [
    "data = pd.read_csv('./rss_urls.csv', encoding='utf-8-sig')"
   ]
  },
  {
   "cell_type": "code",
   "execution_count": 4,
   "metadata": {},
   "outputs": [
    {
     "data": {
      "text/html": [
       "<div>\n",
       "<style scoped>\n",
       "    .dataframe tbody tr th:only-of-type {\n",
       "        vertical-align: middle;\n",
       "    }\n",
       "\n",
       "    .dataframe tbody tr th {\n",
       "        vertical-align: top;\n",
       "    }\n",
       "\n",
       "    .dataframe thead th {\n",
       "        text-align: right;\n",
       "    }\n",
       "</style>\n",
       "<table border=\"1\" class=\"dataframe\">\n",
       "  <thead>\n",
       "    <tr style=\"text-align: right;\">\n",
       "      <th></th>\n",
       "      <th>source sub category</th>\n",
       "      <th>rss</th>\n",
       "      <th>source</th>\n",
       "    </tr>\n",
       "  </thead>\n",
       "  <tbody>\n",
       "    <tr>\n",
       "      <th>0</th>\n",
       "      <td>Global News World</td>\n",
       "      <td>https://globalnews.ca/feed/</td>\n",
       "      <td>Global News</td>\n",
       "    </tr>\n",
       "  </tbody>\n",
       "</table>\n",
       "</div>"
      ],
      "text/plain": [
       "  source sub category                          rss       source\n",
       "0   Global News World  https://globalnews.ca/feed/  Global News"
      ]
     },
     "execution_count": 4,
     "metadata": {},
     "output_type": "execute_result"
    }
   ],
   "source": [
    "data.head()"
   ]
  },
  {
   "cell_type": "code",
   "execution_count": 5,
   "metadata": {},
   "outputs": [],
   "source": [
    "r = requests.get('https://globalnews.ca/feed/')\n",
    "soup = BeautifulSoup(r.content, features='xml')\n",
    "articles = soup.findAll('item')"
   ]
  },
  {
   "cell_type": "code",
   "execution_count": 6,
   "metadata": {},
   "outputs": [
    {
     "name": "stdout",
     "output_type": "stream",
     "text": [
      "Global News - Global News World\n"
     ]
    }
   ],
   "source": [
    "article_list = []\n",
    "for i,x in enumerate(data['rss']):\n",
    "# scraping function\n",
    "    r = requests.get(x)\n",
    "    soup = BeautifulSoup(r.content, features='xml')\n",
    "    articles = soup.findAll('item')\n",
    "    #\n",
    "    for a in articles:\n",
    "        try:\n",
    "            title = a.find('title').text\n",
    "        except Exception:\n",
    "            title = ''\n",
    "        try:\n",
    "            link = a.find('link').text\n",
    "        except Exception:\n",
    "            link = ''\n",
    "        try:\n",
    "            published = a.find('pubDate').text\n",
    "        except Exception:\n",
    "            published = ''   \n",
    "        try:\n",
    "            desc = a.find('description').text\n",
    "        except Exception:\n",
    "            desc= ''\n",
    "        try:\n",
    "            catg = a.find('category').text\n",
    "        except Exception:\n",
    "            catg = ''\n",
    "        try:\n",
    "            id = a.find('guid').text\n",
    "        except Exception:\n",
    "            id = ''\n",
    "        # create an \"article\" object with the data\n",
    "        # from each \"item\"\n",
    "        article = {\n",
    "            'title': title,\n",
    "            'link': link,\n",
    "            'published': published,\n",
    "            'description': desc,\n",
    "            'category': catg,\n",
    "            'source': data['source'].tolist()[i],\n",
    "            'source sub-category': data['source sub category'].tolist()[i],\n",
    "            'id':id\n",
    "            }\n",
    "        # append my \"article_list\" with each \"article\" object\n",
    "        article_list.append(article)\n",
    "        #\n",
    "    df = pd.DataFrame.from_dict(article_list)\n",
    "    print(data['source'].tolist()[i] + ' - ' + data['source sub category'].tolist()[i])\n",
    "    time.sleep(2)\n",
    "    df.to_csv('news_rss.csv', encoding='utf-8-sig', index=False)\n",
    "    time.sleep(5)"
   ]
  },
  {
   "cell_type": "code",
   "execution_count": 7,
   "metadata": {},
   "outputs": [
    {
     "data": {
      "text/html": [
       "<div>\n",
       "<style scoped>\n",
       "    .dataframe tbody tr th:only-of-type {\n",
       "        vertical-align: middle;\n",
       "    }\n",
       "\n",
       "    .dataframe tbody tr th {\n",
       "        vertical-align: top;\n",
       "    }\n",
       "\n",
       "    .dataframe thead th {\n",
       "        text-align: right;\n",
       "    }\n",
       "</style>\n",
       "<table border=\"1\" class=\"dataframe\">\n",
       "  <thead>\n",
       "    <tr style=\"text-align: right;\">\n",
       "      <th></th>\n",
       "      <th>title</th>\n",
       "      <th>link</th>\n",
       "      <th>published</th>\n",
       "      <th>description</th>\n",
       "      <th>category</th>\n",
       "      <th>source</th>\n",
       "      <th>source sub-category</th>\n",
       "      <th>id</th>\n",
       "    </tr>\n",
       "  </thead>\n",
       "  <tbody>\n",
       "    <tr>\n",
       "      <th>0</th>\n",
       "      <td>Saskatoon morning news rewind: Monday, Feb. 27</td>\n",
       "      <td>https://globalnews.ca/news/9513826/saskatoon-h...</td>\n",
       "      <td>Mon, 27 Feb 2023 15:04:49 +0000</td>\n",
       "      <td>Here's a look back on who was on 'Global News ...</td>\n",
       "      <td>Blogs</td>\n",
       "      <td>Global News</td>\n",
       "      <td>Global News World</td>\n",
       "      <td>https://globalnews.ca/?p=9513826</td>\n",
       "    </tr>\n",
       "    <tr>\n",
       "      <th>1</th>\n",
       "      <td>Developer confirms ‘secondary damage’ to Wella...</td>\n",
       "      <td>https://globalnews.ca/news/9513652/secondary-d...</td>\n",
       "      <td>Mon, 27 Feb 2023 15:03:40 +0000</td>\n",
       "      <td>For the second time in February, the developer...</td>\n",
       "      <td>Canada</td>\n",
       "      <td>Global News</td>\n",
       "      <td>Global News World</td>\n",
       "      <td>https://globalnews.ca/?p=9513652</td>\n",
       "    </tr>\n",
       "    <tr>\n",
       "      <th>2</th>\n",
       "      <td>Twitter reportedly cuts 10% of workforce in la...</td>\n",
       "      <td>https://globalnews.ca/news/9513803/twitter-job...</td>\n",
       "      <td>Mon, 27 Feb 2023 14:58:36 +0000</td>\n",
       "      <td>Twitter has laid off at least 200 employees, o...</td>\n",
       "      <td>Economy</td>\n",
       "      <td>Global News</td>\n",
       "      <td>Global News World</td>\n",
       "      <td>https://globalnews.ca/?p=9513803</td>\n",
       "    </tr>\n",
       "    <tr>\n",
       "      <th>3</th>\n",
       "      <td>Feds’ 2023 budget should hike international ai...</td>\n",
       "      <td>https://globalnews.ca/news/9513810/canada-2023...</td>\n",
       "      <td>Mon, 27 Feb 2023 14:57:39 +0000</td>\n",
       "      <td>As of late 2021, Prime Minister Justin Trudeau...</td>\n",
       "      <td>Canada</td>\n",
       "      <td>Global News</td>\n",
       "      <td>Global News World</td>\n",
       "      <td>https://globalnews.ca/?p=9513810</td>\n",
       "    </tr>\n",
       "    <tr>\n",
       "      <th>4</th>\n",
       "      <td>2023 SAG Awards winners: Brendan Fraser, Ke Hu...</td>\n",
       "      <td>https://globalnews.ca/news/9513639/2023-sag-aw...</td>\n",
       "      <td>Mon, 27 Feb 2023 14:53:42 +0000</td>\n",
       "      <td>The SAG Awards, often an Oscar preview, threw ...</td>\n",
       "      <td>Entertainment</td>\n",
       "      <td>Global News</td>\n",
       "      <td>Global News World</td>\n",
       "      <td>https://globalnews.ca/?p=9513639</td>\n",
       "    </tr>\n",
       "  </tbody>\n",
       "</table>\n",
       "</div>"
      ],
      "text/plain": [
       "                                               title  \\\n",
       "0     Saskatoon morning news rewind: Monday, Feb. 27   \n",
       "1  Developer confirms ‘secondary damage’ to Wella...   \n",
       "2  Twitter reportedly cuts 10% of workforce in la...   \n",
       "3  Feds’ 2023 budget should hike international ai...   \n",
       "4  2023 SAG Awards winners: Brendan Fraser, Ke Hu...   \n",
       "\n",
       "                                                link  \\\n",
       "0  https://globalnews.ca/news/9513826/saskatoon-h...   \n",
       "1  https://globalnews.ca/news/9513652/secondary-d...   \n",
       "2  https://globalnews.ca/news/9513803/twitter-job...   \n",
       "3  https://globalnews.ca/news/9513810/canada-2023...   \n",
       "4  https://globalnews.ca/news/9513639/2023-sag-aw...   \n",
       "\n",
       "                         published  \\\n",
       "0  Mon, 27 Feb 2023 15:04:49 +0000   \n",
       "1  Mon, 27 Feb 2023 15:03:40 +0000   \n",
       "2  Mon, 27 Feb 2023 14:58:36 +0000   \n",
       "3  Mon, 27 Feb 2023 14:57:39 +0000   \n",
       "4  Mon, 27 Feb 2023 14:53:42 +0000   \n",
       "\n",
       "                                         description       category  \\\n",
       "0  Here's a look back on who was on 'Global News ...          Blogs   \n",
       "1  For the second time in February, the developer...         Canada   \n",
       "2  Twitter has laid off at least 200 employees, o...        Economy   \n",
       "3  As of late 2021, Prime Minister Justin Trudeau...         Canada   \n",
       "4  The SAG Awards, often an Oscar preview, threw ...  Entertainment   \n",
       "\n",
       "        source source sub-category                                id  \n",
       "0  Global News   Global News World  https://globalnews.ca/?p=9513826  \n",
       "1  Global News   Global News World  https://globalnews.ca/?p=9513652  \n",
       "2  Global News   Global News World  https://globalnews.ca/?p=9513803  \n",
       "3  Global News   Global News World  https://globalnews.ca/?p=9513810  \n",
       "4  Global News   Global News World  https://globalnews.ca/?p=9513639  "
      ]
     },
     "execution_count": 7,
     "metadata": {},
     "output_type": "execute_result"
    }
   ],
   "source": [
    "df.head()"
   ]
  },
  {
   "cell_type": "code",
   "execution_count": 8,
   "metadata": {},
   "outputs": [
    {
     "data": {
      "text/plain": [
       "(10, 8)"
      ]
     },
     "execution_count": 8,
     "metadata": {},
     "output_type": "execute_result"
    }
   ],
   "source": [
    "df.shape"
   ]
  }
 ],
 "metadata": {
  "kernelspec": {
   "display_name": "Python 3",
   "language": "python",
   "name": "python3"
  },
  "language_info": {
   "codemirror_mode": {
    "name": "ipython",
    "version": 3
   },
   "file_extension": ".py",
   "mimetype": "text/x-python",
   "name": "python",
   "nbconvert_exporter": "python",
   "pygments_lexer": "ipython3",
   "version": "3.10.8"
  },
  "orig_nbformat": 4,
  "vscode": {
   "interpreter": {
    "hash": "fbfacf25abbc4466cbf6a4ec94f71aa428570133f008ac9f4c86deb26a69bb88"
   }
  }
 },
 "nbformat": 4,
 "nbformat_minor": 2
}
