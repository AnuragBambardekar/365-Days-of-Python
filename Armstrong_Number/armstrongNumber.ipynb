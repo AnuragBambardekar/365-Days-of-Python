{
 "cells": [
  {
   "attachments": {},
   "cell_type": "markdown",
   "metadata": {},
   "source": [
    "# Armstrong Number"
   ]
  },
  {
   "attachments": {},
   "cell_type": "markdown",
   "metadata": {},
   "source": [
    "An Armstrong number is a number that is the sum of its own digits when each digit is raised to the power of the number of digits. For example, 371 is an Armstrong number because 3^3 + 7^3 + 1^3 = 371.\n",
    "\n",
    "In numerical number theory, the Armstrong number definition is the number in any given number base, which forms the total of the same number, when each of its digits is raised to the power of the number of digits in the number."
   ]
  },
  {
   "cell_type": "code",
   "execution_count": 1,
   "metadata": {},
   "outputs": [],
   "source": [
    "def is_armstrong(num):\n",
    "    # Convert the number to a string so we can iterate through its digits\n",
    "    num_str = str(num)\n",
    "    # Initialize a sum to keep track of the sum of the digits\n",
    "    sum = 0\n",
    "    # Iterate through the digits of the number\n",
    "    for digit in num_str:\n",
    "        # Raise the digit to the power of the number of digits and add it to the sum\n",
    "        sum += int(digit)**len(num_str)\n",
    "    # Return True if the sum is equal to the original number, False otherwise\n",
    "    return sum == num\n"
   ]
  },
  {
   "cell_type": "code",
   "execution_count": 3,
   "metadata": {},
   "outputs": [
    {
     "name": "stdout",
     "output_type": "stream",
     "text": [
      "True\n",
      "False\n",
      "False\n"
     ]
    }
   ],
   "source": [
    "print(is_armstrong(371))  # True\n",
    "print(is_armstrong(123))  # False\n",
    "print(is_armstrong(73268))"
   ]
  },
  {
   "cell_type": "code",
   "execution_count": 1,
   "metadata": {},
   "outputs": [
    {
     "name": "stdout",
     "output_type": "stream",
     "text": [
      "1\n",
      "2\n",
      "3\n",
      "4\n",
      "5\n",
      "6\n",
      "7\n",
      "8\n",
      "9\n",
      "153\n",
      "370\n",
      "371\n",
      "407\n",
      "1634\n",
      "8208\n",
      "9474\n",
      "54748\n",
      "92727\n",
      "93084\n",
      "548834\n",
      "1741725\n",
      "4210818\n",
      "9800817\n",
      "9926315\n",
      "24678050\n",
      "24678051\n",
      "88593477\n",
      "146511208\n",
      "472335975\n",
      "534494836\n",
      "912985153\n",
      "4679307774\n"
     ]
    }
   ],
   "source": [
    "def is_armstrong(num):\n",
    "    # Convert the number to a string so we can iterate through its digits\n",
    "    num_str = str(num)\n",
    "    # Initialize a sum to keep track of the sum of the digits\n",
    "    sum = 0\n",
    "    # Iterate through the digits of the number\n",
    "    for digit in num_str:\n",
    "        # Raise the digit to the power of the number of digits and add it to the sum\n",
    "        sum += int(digit)**len(num_str)\n",
    "    # Return True if the sum is equal to the original number, False otherwise\n",
    "    return sum == num\n",
    "\n",
    "# Initialize a counter to keep track of how many Armstrong numbers we've found\n",
    "count = 0\n",
    "# Initialize a number to start checking at\n",
    "num = 1\n",
    "\n",
    "# Keep looping until we've found 100 Armstrong numbers\n",
    "while count < 50:\n",
    "    # Check if the number is an Armstrong number\n",
    "    if is_armstrong(num):\n",
    "        # If it is, print it and increment the counter\n",
    "        print(num)\n",
    "        count += 1\n",
    "    # Increment the number to check the next one\n",
    "    num += 1\n",
    "\n",
    "# had to abandon execution, since it was taking a lot of time\n",
    "# have to think about some sort of batch processing or better algorithm"
   ]
  }
 ],
 "metadata": {
  "kernelspec": {
   "display_name": "Python 3",
   "language": "python",
   "name": "python3"
  },
  "language_info": {
   "codemirror_mode": {
    "name": "ipython",
    "version": 3
   },
   "file_extension": ".py",
   "mimetype": "text/x-python",
   "name": "python",
   "nbconvert_exporter": "python",
   "pygments_lexer": "ipython3",
   "version": "3.10.7"
  },
  "orig_nbformat": 4,
  "vscode": {
   "interpreter": {
    "hash": "fbfacf25abbc4466cbf6a4ec94f71aa428570133f008ac9f4c86deb26a69bb88"
   }
  }
 },
 "nbformat": 4,
 "nbformat_minor": 2
}
