{
 "cells": [
  {
   "cell_type": "markdown",
   "metadata": {},
   "source": [
    "# exec() vs eval()"
   ]
  },
  {
   "cell_type": "markdown",
   "metadata": {},
   "source": [
    "# eval()\n",
    "\n",
    "eval() evaluates an expression"
   ]
  },
  {
   "cell_type": "code",
   "execution_count": 2,
   "metadata": {},
   "outputs": [
    {
     "data": {
      "text/plain": [
       "'30hello'"
      ]
     },
     "execution_count": 2,
     "metadata": {},
     "output_type": "execute_result"
    }
   ],
   "source": [
    "source: str = 'str(10 + 10 * 2) + \"hello\"'\n",
    "\n",
    "result: str = eval(source)\n",
    "result"
   ]
  },
  {
   "cell_type": "code",
   "execution_count": 4,
   "metadata": {},
   "outputs": [
    {
     "name": "stdout",
     "output_type": "stream",
     "text": [
      "hello\n"
     ]
    }
   ],
   "source": [
    "source: str = 'print(\"hello\")'\n",
    "\n",
    "result: str = eval(source)\n",
    "result"
   ]
  },
  {
   "cell_type": "markdown",
   "metadata": {},
   "source": [
    "### A simple calculator"
   ]
  },
  {
   "cell_type": "code",
   "execution_count": 6,
   "metadata": {},
   "outputs": [
    {
     "name": "stdout",
     "output_type": "stream",
     "text": [
      "43.333333333333336\n"
     ]
    }
   ],
   "source": [
    "user_input: str = input('You:')\n",
    "print(eval(user_input)) # 10 + 10 * (10/3)"
   ]
  },
  {
   "cell_type": "markdown",
   "metadata": {},
   "source": [
    "# exec()\n",
    "\n",
    "exec() simply executes any code that you want to execute."
   ]
  },
  {
   "cell_type": "code",
   "execution_count": 7,
   "metadata": {},
   "outputs": [
    {
     "name": "stdout",
     "output_type": "stream",
     "text": [
      "exec():\n",
      "21-0\n",
      "21-1\n",
      "21-2\n"
     ]
    }
   ],
   "source": [
    "# much more powerful than eval()\n",
    "\n",
    "source: str = \"\"\"\n",
    "print(\"exec():\")\n",
    "x=10\n",
    "y=11\n",
    "\n",
    "for i in range(3):\n",
    "    print(x+y, i, sep='-')\n",
    "\"\"\"\n",
    "exec(source)"
   ]
  },
  {
   "cell_type": "code",
   "execution_count": 8,
   "metadata": {},
   "outputs": [
    {
     "name": "stdout",
     "output_type": "stream",
     "text": [
      "hello world\n"
     ]
    }
   ],
   "source": [
    "source: str = input('You: ')\n",
    "exec(source) # print(\"hello world\")"
   ]
  },
  {
   "cell_type": "markdown",
   "metadata": {},
   "source": [
    "'x' gets generated in global scope --- Major side effect"
   ]
  },
  {
   "cell_type": "code",
   "execution_count": 9,
   "metadata": {},
   "outputs": [
    {
     "name": "stdout",
     "output_type": "stream",
     "text": [
      "exec():\n",
      "21-0\n",
      "21-1\n",
      "21-2\n",
      "None\n",
      "10\n"
     ]
    }
   ],
   "source": [
    "source2: str = \"\"\"\n",
    "print(\"exec():\")\n",
    "a=10\n",
    "b=11\n",
    "\n",
    "for j in range(3):\n",
    "    print(a+b, j, sep='-')\n",
    "\"\"\"\n",
    "result = exec(source2)\n",
    "print(result)\n",
    "print(a)"
   ]
  },
  {
   "cell_type": "markdown",
   "metadata": {},
   "source": [
    "exec() with local and global namespaces"
   ]
  },
  {
   "cell_type": "code",
   "execution_count": 10,
   "metadata": {},
   "outputs": [
    {
     "name": "stdout",
     "output_type": "stream",
     "text": [
      "15\n"
     ]
    }
   ],
   "source": [
    "code = '''\n",
    "x = 5\n",
    "print(x + y)\n",
    "'''\n",
    "global_namespace = {'y': 10}\n",
    "exec(code, global_namespace)"
   ]
  },
  {
   "cell_type": "markdown",
   "metadata": {},
   "source": [
    "eval() with local and global namespaces"
   ]
  },
  {
   "cell_type": "code",
   "execution_count": 11,
   "metadata": {},
   "outputs": [
    {
     "name": "stdout",
     "output_type": "stream",
     "text": [
      "15\n"
     ]
    }
   ],
   "source": [
    "expression = 'x + y'\n",
    "global_namespace = {'x': 5, 'y': 10}\n",
    "result = eval(expression, global_namespace)\n",
    "print(result)"
   ]
  },
  {
   "cell_type": "markdown",
   "metadata": {},
   "source": [
    "# compile()\n",
    "Compile source into a code object that can be executed by exec() or eval()."
   ]
  },
  {
   "cell_type": "markdown",
   "metadata": {},
   "source": [
    "**source** - Required. The source to compile, can be a String, a Bytes object, or an AST object\n",
    "\n",
    "**filename** - Required. The name of the file that the source comes from. If the source does not come from a file, you can write whatever you like\n",
    "\n",
    "**mode** - Required. Legal values:\n",
    "eval - if the source is a single expression\n",
    "exec - if the source is a block of statements\n",
    "single - if the source is a single interactive statement"
   ]
  },
  {
   "cell_type": "code",
   "execution_count": 12,
   "metadata": {},
   "outputs": [
    {
     "name": "stdout",
     "output_type": "stream",
     "text": [
      "0\n",
      "1\n",
      "2\n",
      "3\n",
      "4\n",
      "0\n",
      "1\n",
      "2\n",
      "3\n",
      "4\n",
      "0\n",
      "1\n",
      "2\n",
      "3\n",
      "4\n"
     ]
    }
   ],
   "source": [
    "code = '''\n",
    "for i in range(5):\n",
    "    print(i)\n",
    "'''\n",
    "compiled_code = compile(code, '<string>', 'exec')\n",
    "\n",
    "# Execute the compiled code multiple times\n",
    "for _ in range(3):\n",
    "    exec(compiled_code)"
   ]
  },
  {
   "cell_type": "code",
   "execution_count": 13,
   "metadata": {},
   "outputs": [
    {
     "name": "stdout",
     "output_type": "stream",
     "text": [
      "55\n",
      "88\n"
     ]
    }
   ],
   "source": [
    "x = compile('print(55)\\nprint(88)', 'test', 'exec')\n",
    "exec(x)"
   ]
  },
  {
   "cell_type": "code",
   "execution_count": null,
   "metadata": {},
   "outputs": [],
   "source": []
  }
 ],
 "metadata": {
  "kernelspec": {
   "display_name": "Python 3",
   "language": "python",
   "name": "python3"
  },
  "language_info": {
   "codemirror_mode": {
    "name": "ipython",
    "version": 3
   },
   "file_extension": ".py",
   "mimetype": "text/x-python",
   "name": "python",
   "nbconvert_exporter": "python",
   "pygments_lexer": "ipython3",
   "version": "3.10.8"
  },
  "orig_nbformat": 4
 },
 "nbformat": 4,
 "nbformat_minor": 2
}
