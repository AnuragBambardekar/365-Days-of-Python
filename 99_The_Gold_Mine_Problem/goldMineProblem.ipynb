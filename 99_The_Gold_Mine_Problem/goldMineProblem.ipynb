{
 "cells": [
  {
   "attachments": {},
   "cell_type": "markdown",
   "metadata": {},
   "source": [
    "# The Gold Mine Problem"
   ]
  },
  {
   "attachments": {},
   "cell_type": "markdown",
   "metadata": {},
   "source": [
    "Given a gold mine of n*m dimensions. Each field in this mine contains a positive integer which is the amount of gold in tons. Initially, the miner is in the first column but can be in any row. He can move only (right->,right up /,right down\\) that is from a given cell, the miner can move to the cell diagonally up towards the right or diagonally down towards the right. Find out the maximum amount of gold he can collect. "
   ]
  },
  {
   "attachments": {},
   "cell_type": "markdown",
   "metadata": {},
   "source": [
    "```\n",
    "Input : mat[][] = {{1, 3, 3}, \n",
    "                   {2, 1, 4}, \n",
    "                  {0, 6, 4}}; \n",
    "Output : 12  \n",
    "{(1,0)->(2,1)->(1,2)} \n",
    "\n",
    "Input: mat[][] = { {1, 3, 1, 5}, \n",
    "                   {2, 2, 4, 1}, \n",
    "                   {5, 0, 2, 3}, \n",
    "                   {0, 6, 1, 2}}; \n",
    "Output : 16 \n",
    "(2,0) -> (1,1) -> (1,2) -> (0,3) OR \n",
    "(2,0) -> (3,1) -> (2,2) -> (2,3) \n",
    "\n",
    "Input : mat[][] = {{10, 33, 13, 15}, \n",
    "                  {22, 21, 04, 1}, \n",
    "                  {5, 0, 2, 3}, \n",
    "                  {0, 6, 14, 2}}; \n",
    "Output : 83\n",
    "```"
   ]
  },
  {
   "attachments": {},
   "cell_type": "markdown",
   "metadata": {},
   "source": [
    "# Recursive Method\n",
    "\n",
    "*Time complexity: O(3^N\\*M)* <br>\n",
    " *Auxiliary Space: O(N*M)*"
   ]
  },
  {
   "cell_type": "code",
   "execution_count": 1,
   "metadata": {},
   "outputs": [
    {
     "name": "stdout",
     "output_type": "stream",
     "text": [
      "16\n"
     ]
    }
   ],
   "source": [
    "def collectGold(gold, x, y, n, m):\n",
    "\n",
    "\t# Base condition.\n",
    "\tif ((x < 0) or (x == n) or (y == m)):\n",
    "\t\treturn 0\n",
    "\n",
    "\t# Right upper diagonal\n",
    "\trightUpperDiagonal = collectGold(gold, x - 1, y + 1, n, m)\n",
    "\n",
    "\t# right\n",
    "\tright = collectGold(gold, x, y + 1, n, m)\n",
    "\n",
    "\t# Lower right diagonal\n",
    "\trightLowerDiagonal = collectGold(gold, x + 1, y + 1, n, m)\n",
    "\n",
    "\t# Return the maximum and store the value\n",
    "\treturn gold[x][y] + max(max(rightUpperDiagonal, rightLowerDiagonal), right)\n",
    "\n",
    "\n",
    "def getMaxGold(gold,n,m):\n",
    "\n",
    "\tmaxGold = 0\n",
    "\n",
    "\tfor i in range(n):\n",
    "\n",
    "\t\t# Recursive function call for ith row.\n",
    "\t\tgoldCollected = collectGold(gold, i, 0, n, m)\n",
    "\t\tmaxGold = max(maxGold, goldCollected)\n",
    "\n",
    "\treturn maxGold\n",
    "\n",
    "# Driver Code\n",
    "gold = [[1, 3, 1, 5],\n",
    "\t\t[2, 2, 4, 1],\n",
    "\t\t[5, 0, 2, 3],\n",
    "\t\t[0, 6, 1, 2]\n",
    "]\n",
    "\n",
    "m,n = 4,4\n",
    "print(getMaxGold(gold, n, m))\n"
   ]
  },
  {
   "attachments": {},
   "cell_type": "markdown",
   "metadata": {},
   "source": [
    "# Memoization\n",
    "\n",
    "**Bottom-Up Approach**: The second way is to take an extra space of size m*n and start computing values of states of right, right upper diagonal, and right bottom diagonal and store it in the 2d array. <br>\n",
    "\n",
    "*Time Complexity: O(m*n)* <br>\n",
    "*Auxiliary Space: O(m*n)*"
   ]
  },
  {
   "cell_type": "code",
   "execution_count": 2,
   "metadata": {},
   "outputs": [
    {
     "name": "stdout",
     "output_type": "stream",
     "text": [
      "16\n"
     ]
    }
   ],
   "source": [
    "def collectGold(gold, x, y, n, m, dp):\n",
    "\n",
    "\t# Base condition.\n",
    "\tif ((x < 0) or (x == n) or (y == m)):\n",
    "\t\treturn 0\n",
    "\n",
    "\tif(dp[x][y] != -1):\n",
    "\t\treturn dp[x][y]\n",
    "\n",
    "\t# Right upper diagonal\n",
    "\trightUpperDiagonal = collectGold(gold, x - 1, y + 1, n, m, dp)\n",
    "\n",
    "\t# right\n",
    "\tright = collectGold(gold, x, y + 1, n, m, dp)\n",
    "\n",
    "\t# Lower right diagonal\n",
    "\trightLowerDiagonal = collectGold(gold, x + 1, y + 1, n, m, dp)\n",
    "\n",
    "\t# Return the maximum and store the value\n",
    "\tdp[x][y] = gold[x][y] + max(max(rightUpperDiagonal, rightLowerDiagonal), right)\n",
    "\treturn dp[x][y]\n",
    "\n",
    "\n",
    "def getMaxGold(gold,n,m):\n",
    "\n",
    "\tmaxGold = 0\n",
    "\t# Initialize the dp vector\n",
    "\tdp = [[-1 for i in range(m)]for j in range(n)]\n",
    "\t\n",
    "\tfor i in range(n):\n",
    "\n",
    "\t\t# Recursive function call for ith row.\n",
    "\t\tgoldCollected = collectGold(gold, i, 0, n, m, dp)\n",
    "\t\tmaxGold = max(maxGold, goldCollected)\n",
    "\n",
    "\treturn maxGold\n",
    "\n",
    "# Driver Code\n",
    "\n",
    "gold = [ [1, 3, 1, 5],\n",
    "\t\t[2, 2, 4, 1],\n",
    "\t\t[5, 0, 2, 3],\n",
    "\t\t[0, 6, 1, 2] ]\n",
    "m,n = 4,4\n",
    "print(getMaxGold(gold, n, m))\n"
   ]
  },
  {
   "attachments": {},
   "cell_type": "markdown",
   "metadata": {},
   "source": [
    "# DP Solution"
   ]
  },
  {
   "cell_type": "code",
   "execution_count": 3,
   "metadata": {},
   "outputs": [],
   "source": [
    "def getMaxGold(mat):\n",
    "    rows = len(mat)\n",
    "    cols = len(mat[0])\n",
    "    \n",
    "    # Create a DP table of the same dimensions as mat\n",
    "    # to store the maximum amount of gold at each cell\n",
    "    dp = [[0 for j in range(cols)] for i in range(rows)]\n",
    "    \n",
    "    # Fill the DP table from right to left\n",
    "    for col in range(cols-1, -1, -1):\n",
    "        for row in range(rows):\n",
    "            \n",
    "            # Find the maximum amount of gold that can be collected\n",
    "            # by moving to the right, right-up or right-down cells\n",
    "            if col == cols-1:\n",
    "                right = 0\n",
    "            else:\n",
    "                right = dp[row][col+1]\n",
    "            \n",
    "            if row == 0 or col == cols-1:\n",
    "                right_up = 0\n",
    "            else:\n",
    "                right_up = dp[row-1][col+1]\n",
    "            \n",
    "            if row == rows-1 or col == cols-1:\n",
    "                right_down = 0\n",
    "            else:\n",
    "                right_down = dp[row+1][col+1]\n",
    "            \n",
    "            # Update the DP table with the maximum amount of gold\n",
    "            dp[row][col] = mat[row][col] + max(right, right_up, right_down)\n",
    "    \n",
    "    # Find the maximum amount of gold that can be collected\n",
    "    # by starting at any row in the first column\n",
    "    max_gold = dp[0][0]\n",
    "    for i in range(1, rows):\n",
    "        max_gold = max(max_gold, dp[i][0])\n",
    "    \n",
    "    return max_gold\n"
   ]
  },
  {
   "cell_type": "code",
   "execution_count": 6,
   "metadata": {},
   "outputs": [
    {
     "name": "stdout",
     "output_type": "stream",
     "text": [
      "16\n"
     ]
    }
   ],
   "source": [
    "mat = [ [1, 3, 1, 5],\n",
    "       [2, 2, 4, 1],\n",
    "       [5, 0, 2, 3],\n",
    "       [0, 6, 1, 2] ]\n",
    "print(getMaxGold(mat))  # Output: 16\n"
   ]
  }
 ],
 "metadata": {
  "kernelspec": {
   "display_name": "Python 3",
   "language": "python",
   "name": "python3"
  },
  "language_info": {
   "codemirror_mode": {
    "name": "ipython",
    "version": 3
   },
   "file_extension": ".py",
   "mimetype": "text/x-python",
   "name": "python",
   "nbconvert_exporter": "python",
   "pygments_lexer": "ipython3",
   "version": "3.10.8"
  },
  "orig_nbformat": 4
 },
 "nbformat": 4,
 "nbformat_minor": 2
}
