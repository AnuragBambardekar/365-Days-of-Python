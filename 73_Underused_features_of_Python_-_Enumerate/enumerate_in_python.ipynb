{
 "cells": [
  {
   "attachments": {},
   "cell_type": "markdown",
   "metadata": {},
   "source": [
    "# Some Underused Features of Python - Enumerate"
   ]
  },
  {
   "attachments": {},
   "cell_type": "markdown",
   "metadata": {},
   "source": [
    "enumerate() - used to iterate over a sequence while also keeping track of the index of the current item."
   ]
  },
  {
   "cell_type": "code",
   "execution_count": 1,
   "metadata": {},
   "outputs": [
    {
     "name": "stdout",
     "output_type": "stream",
     "text": [
      "0 Mango\n",
      "1 Apple\n",
      "2 Oranges\n"
     ]
    }
   ],
   "source": [
    "fruits = [\"Mango\", \"Apple\", \"Oranges\"]\n",
    "for i, fruit in enumerate(fruits):\n",
    "    print(i, fruit)"
   ]
  },
  {
   "cell_type": "code",
   "execution_count": 2,
   "metadata": {},
   "outputs": [
    {
     "name": "stdout",
     "output_type": "stream",
     "text": [
      "{'Emmett Jameson': 1, 'Miriam Hardy': 2, 'Aiden Chan': 3, 'Caroline Morales': 4, 'Neil Crawford': 5, 'Lauren Thomas': 6, 'Landon Liu': 7, 'Alice Perez': 8, 'Andrew Patel': 9, 'Vivian Mitchell': 10, 'Austin Shaw': 11, 'Layla Kim': 12, 'Declan Nelson': 13, 'Ruby Bishop': 14, 'Maximo Yu': 15, 'Molly Green': 16, 'Connor Scott': 17, 'Sadie Chen': 18, 'Tristan Reyes': 19, 'Eliseo Hernandez': 20, 'Olivia Clarke': 21, 'Ian Wong': 22, 'Alexandra Kim': 23, 'Colton Guo': 24, 'Bianca Richardson': 25}\n"
     ]
    }
   ],
   "source": [
    "def assign_ids(filename):\n",
    "    # Open the file and read in the names\n",
    "    with open(filename, 'r') as file:\n",
    "        names = [line.strip() for line in file.readlines()]\n",
    "\n",
    "    # Assign IDs to each name using enumerate\n",
    "    name_ids = {}\n",
    "    for i, name in enumerate(names):\n",
    "        name_ids[name] = i + 1  # Start IDs at 1, not 0\n",
    "\n",
    "    # Return the dictionary of name IDs\n",
    "    return name_ids\n",
    "\n",
    "# Example usage\n",
    "name_ids = assign_ids('names.txt')\n",
    "print(name_ids)\n"
   ]
  },
  {
   "attachments": {},
   "cell_type": "markdown",
   "metadata": {},
   "source": [
    "Store it in a DB - Dont run it twice - will produce 'IntegrityError'"
   ]
  },
  {
   "cell_type": "code",
   "execution_count": 3,
   "metadata": {},
   "outputs": [],
   "source": [
    "import sqlite3\n",
    "\n",
    "# Get names from text file\n",
    "# Read the text file and extract names\n",
    "with open('names.txt', 'r') as file:\n",
    "    names = file.read().splitlines()\n",
    "\n",
    "# Connect to the database and create a table\n",
    "conn = sqlite3.connect('names.db')\n",
    "c = conn.cursor()\n",
    "c.execute('''CREATE TABLE IF NOT EXISTS names\n",
    "             (id INTEGER PRIMARY KEY, name TEXT)''')\n",
    "\n",
    "# Insert the names into the database\n",
    "for i, name in enumerate(names):\n",
    "    c.execute('INSERT INTO names (id, name) VALUES (?, ?)', (i+1, name))\n",
    "\n",
    "# Commit the changes and close the connection\n",
    "conn.commit()\n",
    "conn.close()\n"
   ]
  },
  {
   "attachments": {},
   "cell_type": "markdown",
   "metadata": {},
   "source": [
    "View the contents of DB"
   ]
  },
  {
   "cell_type": "code",
   "execution_count": 4,
   "metadata": {},
   "outputs": [
    {
     "name": "stdout",
     "output_type": "stream",
     "text": [
      "Emmett Jameson\n",
      "Miriam Hardy\n",
      "Aiden Chan\n",
      "Caroline Morales\n",
      "Neil Crawford\n",
      "Lauren Thomas\n",
      "Landon Liu\n",
      "Alice Perez\n",
      "Andrew Patel\n",
      "Vivian Mitchell\n",
      "Austin Shaw\n",
      "Layla Kim\n",
      "Declan Nelson\n",
      "Ruby Bishop\n",
      "Maximo Yu\n",
      "Molly Green\n",
      "Connor Scott\n",
      "Sadie Chen\n",
      "Tristan Reyes\n",
      "Eliseo Hernandez\n",
      "Olivia Clarke\n",
      "Ian Wong\n",
      "Alexandra Kim\n",
      "Colton Guo\n",
      "Bianca Richardson\n"
     ]
    }
   ],
   "source": [
    "import sqlite3\n",
    "\n",
    "# Connect to the database and retrieve the names\n",
    "conn = sqlite3.connect('names.db')\n",
    "c = conn.cursor()\n",
    "c.execute('SELECT * FROM names')\n",
    "names = c.fetchall()\n",
    "\n",
    "# Print the names to the console\n",
    "for name in names:\n",
    "    print(name[1])\n",
    "\n",
    "# Close the connection\n",
    "conn.close()\n"
   ]
  },
  {
   "attachments": {},
   "cell_type": "markdown",
   "metadata": {},
   "source": [
    "## Some more operations on enum"
   ]
  },
  {
   "attachments": {},
   "cell_type": "markdown",
   "metadata": {},
   "source": [
    "You can use the enum values as unique identifiers and compare them using the is operator. This is more efficient than comparing strings or integers."
   ]
  },
  {
   "cell_type": "code",
   "execution_count": 7,
   "metadata": {},
   "outputs": [
    {
     "name": "stdout",
     "output_type": "stream",
     "text": [
      "Fruit.APPLE is Fruit.APPLE\n",
      "Fruit.APPLE is not Fruit.BANANA\n"
     ]
    }
   ],
   "source": [
    "from enum import Enum\n",
    "\n",
    "# Enum comparison\n",
    "class Fruit(Enum):\n",
    "    APPLE = 1\n",
    "    BANANA = 2\n",
    "    ORANGE = 3\n",
    "\n",
    "if Fruit.APPLE is Fruit.APPLE:\n",
    "    print(\"Fruit.APPLE is Fruit.APPLE\")\n",
    "if Fruit.APPLE is not Fruit.BANANA:\n",
    "    print(\"Fruit.APPLE is not Fruit.BANANA\")"
   ]
  },
  {
   "attachments": {},
   "cell_type": "markdown",
   "metadata": {},
   "source": [
    "You can iterate over all the enum values using a for loop. This makes it easy to perform operations on all the values of an enum."
   ]
  },
  {
   "cell_type": "code",
   "execution_count": 8,
   "metadata": {},
   "outputs": [
    {
     "name": "stdout",
     "output_type": "stream",
     "text": [
      "Fruit.APPLE\n",
      "Fruit.BANANA\n",
      "Fruit.ORANGE\n"
     ]
    }
   ],
   "source": [
    "# Enum iteration\n",
    "for fruit in Fruit:\n",
    "    print(fruit)"
   ]
  },
  {
   "attachments": {},
   "cell_type": "markdown",
   "metadata": {},
   "source": [
    "Enums are intended to be immutable, and subclassing an enum can potentially change its values, which goes against the immutability principle."
   ]
  },
  {
   "cell_type": "code",
   "execution_count": 12,
   "metadata": {},
   "outputs": [
    {
     "ename": "TypeError",
     "evalue": "RedFruit: cannot extend enumeration 'Fruit'",
     "output_type": "error",
     "traceback": [
      "\u001b[1;31m---------------------------------------------------------------------------\u001b[0m",
      "\u001b[1;31mTypeError\u001b[0m                                 Traceback (most recent call last)",
      "\u001b[1;32mc:\\Users\\anura\\Documents\\VSCode_Workspace\\365-Days-of-Python\\73_Underused_features_of_Python_-_Enumerate\\enumerate_in_python.ipynb Cell 15\u001b[0m in \u001b[0;36m2\n\u001b[0;32m      <a href='vscode-notebook-cell:/c%3A/Users/anura/Documents/VSCode_Workspace/365-Days-of-Python/73_Underused_features_of_Python_-_Enumerate/enumerate_in_python.ipynb#X14sZmlsZQ%3D%3D?line=0'>1</a>\u001b[0m \u001b[39m# Enum subclassing\u001b[39;00m\n\u001b[1;32m----> <a href='vscode-notebook-cell:/c%3A/Users/anura/Documents/VSCode_Workspace/365-Days-of-Python/73_Underused_features_of_Python_-_Enumerate/enumerate_in_python.ipynb#X14sZmlsZQ%3D%3D?line=1'>2</a>\u001b[0m \u001b[39mclass\u001b[39;00m \u001b[39mRedFruit\u001b[39;00m(Fruit):\n\u001b[0;32m      <a href='vscode-notebook-cell:/c%3A/Users/anura/Documents/VSCode_Workspace/365-Days-of-Python/73_Underused_features_of_Python_-_Enumerate/enumerate_in_python.ipynb#X14sZmlsZQ%3D%3D?line=2'>3</a>\u001b[0m     CHERRY \u001b[39m=\u001b[39m \u001b[39m4\u001b[39m\n\u001b[0;32m      <a href='vscode-notebook-cell:/c%3A/Users/anura/Documents/VSCode_Workspace/365-Days-of-Python/73_Underused_features_of_Python_-_Enumerate/enumerate_in_python.ipynb#X14sZmlsZQ%3D%3D?line=3'>4</a>\u001b[0m     STRAWBERRY \u001b[39m=\u001b[39m \u001b[39m5\u001b[39m\n",
      "File \u001b[1;32mc:\\Users\\anura\\AppData\\Local\\Programs\\Python\\Python310\\lib\\enum.py:168\u001b[0m, in \u001b[0;36mEnumMeta.__prepare__\u001b[1;34m(metacls, cls, bases, **kwds)\u001b[0m\n\u001b[0;32m    165\u001b[0m \u001b[39m@classmethod\u001b[39m\n\u001b[0;32m    166\u001b[0m \u001b[39mdef\u001b[39;00m \u001b[39m__prepare__\u001b[39m(metacls, \u001b[39mcls\u001b[39m, bases, \u001b[39m*\u001b[39m\u001b[39m*\u001b[39mkwds):\n\u001b[0;32m    167\u001b[0m     \u001b[39m# check that previous enum members do not exist\u001b[39;00m\n\u001b[1;32m--> 168\u001b[0m     metacls\u001b[39m.\u001b[39;49m_check_for_existing_members(\u001b[39mcls\u001b[39;49m, bases)\n\u001b[0;32m    169\u001b[0m     \u001b[39m# create the namespace dict\u001b[39;00m\n\u001b[0;32m    170\u001b[0m     enum_dict \u001b[39m=\u001b[39m _EnumDict()\n",
      "File \u001b[1;32mc:\\Users\\anura\\AppData\\Local\\Programs\\Python\\Python310\\lib\\enum.py:574\u001b[0m, in \u001b[0;36mEnumMeta._check_for_existing_members\u001b[1;34m(class_name, bases)\u001b[0m\n\u001b[0;32m    572\u001b[0m \u001b[39mfor\u001b[39;00m base \u001b[39min\u001b[39;00m chain\u001b[39m.\u001b[39m\u001b[39m__mro__\u001b[39m:\n\u001b[0;32m    573\u001b[0m     \u001b[39mif\u001b[39;00m \u001b[39missubclass\u001b[39m(base, Enum) \u001b[39mand\u001b[39;00m base\u001b[39m.\u001b[39m_member_names_:\n\u001b[1;32m--> 574\u001b[0m         \u001b[39mraise\u001b[39;00m \u001b[39mTypeError\u001b[39;00m(\n\u001b[0;32m    575\u001b[0m                 \u001b[39m\"\u001b[39m\u001b[39m%s\u001b[39;00m\u001b[39m: cannot extend enumeration \u001b[39m\u001b[39m%r\u001b[39;00m\u001b[39m\"\u001b[39m\n\u001b[0;32m    576\u001b[0m                 \u001b[39m%\u001b[39m (class_name, base\u001b[39m.\u001b[39m\u001b[39m__name__\u001b[39m)\n\u001b[0;32m    577\u001b[0m                 )\n",
      "\u001b[1;31mTypeError\u001b[0m: RedFruit: cannot extend enumeration 'Fruit'"
     ]
    }
   ],
   "source": [
    "# Enum subclassing\n",
    "class RedFruit(Fruit):\n",
    "    CHERRY = 4\n",
    "    STRAWBERRY = 5\n",
    "\n",
    "print(RedFruit.CHERRY)"
   ]
  },
  {
   "attachments": {},
   "cell_type": "markdown",
   "metadata": {},
   "source": [
    "In this example, we define two enums Enum1 and Enum2, each with two members. We then define a new enum called AllEnum, which includes all the members from both enums."
   ]
  },
  {
   "cell_type": "code",
   "execution_count": 13,
   "metadata": {},
   "outputs": [
    {
     "name": "stdout",
     "output_type": "stream",
     "text": [
      "AllEnum.VALUE1\n",
      "AllEnum.VALUE3\n"
     ]
    }
   ],
   "source": [
    "from enum import Enum\n",
    "\n",
    "# Define the first enum\n",
    "class Enum1(Enum):\n",
    "    VALUE1 = 1\n",
    "    VALUE2 = 2\n",
    "\n",
    "# Define the second enum\n",
    "class Enum2(Enum):\n",
    "    VALUE3 = 3\n",
    "    VALUE4 = 4\n",
    "\n",
    "# Define a new enum that includes all the values from both enums\n",
    "class AllEnum(Enum):\n",
    "    VALUE1 = 1\n",
    "    VALUE2 = 2\n",
    "    VALUE3 = 3\n",
    "    VALUE4 = 4\n",
    "\n",
    "# Test the enums\n",
    "print(AllEnum.VALUE1)\n",
    "print(AllEnum.VALUE3)"
   ]
  },
  {
   "attachments": {},
   "cell_type": "markdown",
   "metadata": {},
   "source": [
    "We create an enum called Animal that contains data (number of legs and sound) for each value."
   ]
  },
  {
   "cell_type": "code",
   "execution_count": 14,
   "metadata": {},
   "outputs": [
    {
     "name": "stdout",
     "output_type": "stream",
     "text": [
      "4\n"
     ]
    }
   ],
   "source": [
    "# Enum with data\n",
    "class Animal(Enum):\n",
    "    DOG = {\"legs\": 4, \"sound\": \"bark\"}\n",
    "    CAT = {\"legs\": 4, \"sound\": \"meow\"}\n",
    "\n",
    "print(Animal.DOG.value[\"legs\"])"
   ]
  },
  {
   "attachments": {},
   "cell_type": "markdown",
   "metadata": {},
   "source": [
    "Enum with methods: We create an enum called Direction that defines a method get_opposite that returns the opposite direction."
   ]
  },
  {
   "cell_type": "code",
   "execution_count": 15,
   "metadata": {},
   "outputs": [
    {
     "name": "stdout",
     "output_type": "stream",
     "text": [
      "Direction.SOUTH\n"
     ]
    }
   ],
   "source": [
    "# Enum with methods\n",
    "class Direction(Enum):\n",
    "    NORTH = 0\n",
    "    EAST = 1\n",
    "    SOUTH = 2\n",
    "    WEST = 3\n",
    "\n",
    "    def get_opposite(self):\n",
    "        if self == Direction.NORTH:\n",
    "            return Direction.SOUTH\n",
    "        elif self == Direction.EAST:\n",
    "            return Direction.WEST\n",
    "        elif self == Direction.SOUTH:\n",
    "            return Direction.NORTH\n",
    "        else:\n",
    "            return Direction.EAST\n",
    "\n",
    "print(Direction.NORTH.get_opposite())\n",
    "\n"
   ]
  },
  {
   "attachments": {},
   "cell_type": "markdown",
   "metadata": {},
   "source": [
    "Enum serialization: We serialize an enum value as a JSON string using the name attribute."
   ]
  },
  {
   "cell_type": "code",
   "execution_count": 16,
   "metadata": {},
   "outputs": [
    {
     "name": "stdout",
     "output_type": "stream",
     "text": [
      "\"BLUE\"\n"
     ]
    }
   ],
   "source": [
    "# Enum serialization\n",
    "import json\n",
    "\n",
    "class Color(Enum):\n",
    "    RED = 1\n",
    "    GREEN = 2\n",
    "    BLUE = 3\n",
    "\n",
    "json_string = json.dumps(Color.BLUE.name)\n",
    "print(json_string)"
   ]
  },
  {
   "attachments": {},
   "cell_type": "markdown",
   "metadata": {},
   "source": [
    "Enum with database integration: We define an enum called Gender and use its values to insert data into a SQLite database."
   ]
  },
  {
   "cell_type": "code",
   "execution_count": 1,
   "metadata": {},
   "outputs": [],
   "source": [
    "# Enum with database integration\n",
    "import sqlite3\n",
    "from enum import Enum\n",
    "\n",
    "class Gender(Enum):\n",
    "    MALE = 'male'\n",
    "    FEMALE = 'female'\n",
    "\n",
    "conn = sqlite3.connect('example.db')\n",
    "c = conn.cursor()\n",
    "c.execute('''CREATE TABLE IF NOT EXISTS users\n",
    "             (id INTEGER PRIMARY KEY, name TEXT, gender INTEGER)''')\n",
    "\n",
    "c.execute('INSERT INTO users (id, name, gender) VALUES (?, ?, ?)', (1, 'Alice', Gender.FEMALE.value))\n",
    "c.execute('INSERT INTO users (id, name, gender) VALUES (?, ?, ?)', (2, 'Bob', Gender.MALE.value))\n",
    "\n",
    "conn.commit()\n",
    "conn.close()\n"
   ]
  },
  {
   "cell_type": "code",
   "execution_count": 2,
   "metadata": {},
   "outputs": [
    {
     "name": "stdout",
     "output_type": "stream",
     "text": [
      "(1, 'Alice', 'female')\n",
      "(2, 'Bob', 'male')\n"
     ]
    }
   ],
   "source": [
    "import sqlite3\n",
    "\n",
    "# Connect to the database and retrieve the names\n",
    "conn = sqlite3.connect('example.db')\n",
    "c = conn.cursor()\n",
    "c.execute('SELECT * FROM users')\n",
    "data = c.fetchall()\n",
    "\n",
    "# Print the names to the console\n",
    "for d in data:\n",
    "    print(d)\n",
    "\n",
    "# Close the connection\n",
    "conn.close()"
   ]
  }
 ],
 "metadata": {
  "kernelspec": {
   "display_name": "Python 3",
   "language": "python",
   "name": "python3"
  },
  "language_info": {
   "codemirror_mode": {
    "name": "ipython",
    "version": 3
   },
   "file_extension": ".py",
   "mimetype": "text/x-python",
   "name": "python",
   "nbconvert_exporter": "python",
   "pygments_lexer": "ipython3",
   "version": "3.10.8"
  },
  "orig_nbformat": 4
 },
 "nbformat": 4,
 "nbformat_minor": 2
}
