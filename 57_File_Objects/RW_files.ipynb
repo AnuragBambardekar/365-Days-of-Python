{
 "cells": [
  {
   "attachments": {},
   "cell_type": "markdown",
   "metadata": {},
   "source": [
    "# File Objects - Reading and Writing to Files"
   ]
  },
  {
   "cell_type": "code",
   "execution_count": 3,
   "metadata": {},
   "outputs": [
    {
     "name": "stdout",
     "output_type": "stream",
     "text": [
      "text_file.txt\n"
     ]
    }
   ],
   "source": [
    "f = open('text_file.txt','r') # r=read, w=write, r+=read/write\n",
    "print(f.name)\n",
    "f.close()"
   ]
  },
  {
   "cell_type": "code",
   "execution_count": 5,
   "metadata": {},
   "outputs": [
    {
     "name": "stdout",
     "output_type": "stream",
     "text": [
      "r\n"
     ]
    }
   ],
   "source": [
    "print(f.mode) # Mode of opened file"
   ]
  },
  {
   "attachments": {},
   "cell_type": "markdown",
   "metadata": {},
   "source": [
    "Using above method, it is necessary to explicity close files, or we can end up with leaks. So, we use a context manager"
   ]
  },
  {
   "attachments": {},
   "cell_type": "markdown",
   "metadata": {},
   "source": [
    "Using a Context Manager"
   ]
  },
  {
   "cell_type": "code",
   "execution_count": 9,
   "metadata": {},
   "outputs": [
    {
     "name": "stdout",
     "output_type": "stream",
     "text": [
      "Hello, My name is Anurag\n",
      "True\n"
     ]
    }
   ],
   "source": [
    "with open('text_file.txt', 'r') as f1:\n",
    "    # allow us to use files within block\n",
    "    # automatically closes file when we exit the block\n",
    "    # this is best practice\n",
    "    # pass\n",
    "    f_content = f1.read()\n",
    "    print(f_content)\n",
    "# print(f1.read()) # ValueError: I/O operation on closed file.\n",
    "print(f1.closed) # still accessible, since its closed"
   ]
  },
  {
   "attachments": {},
   "cell_type": "markdown",
   "metadata": {},
   "source": [
    "What if we have a large file to read, but don't want to load all of it into memory"
   ]
  },
  {
   "cell_type": "code",
   "execution_count": 12,
   "metadata": {},
   "outputs": [
    {
     "name": "stdout",
     "output_type": "stream",
     "text": [
      "['Hello, My name is Anurag\\n', 'I am a Graduate Student']\n"
     ]
    }
   ],
   "source": [
    "with open('text_file.txt', 'r') as f2:\n",
    "    f_content = f2.readlines()\n",
    "    print(f_content)"
   ]
  },
  {
   "cell_type": "code",
   "execution_count": 16,
   "metadata": {},
   "outputs": [
    {
     "name": "stdout",
     "output_type": "stream",
     "text": [
      "Hello, My name is Anurag\n",
      "I am a Graduate Student\n"
     ]
    }
   ],
   "source": [
    "with open('text_file.txt', 'r') as f3:\n",
    "    f_content = f3.readline() # single line\n",
    "    print(f_content, end='')\n",
    "\n",
    "    f_content = f3.readline()\n",
    "    print(f_content, end='')"
   ]
  },
  {
   "attachments": {},
   "cell_type": "markdown",
   "metadata": {},
   "source": [
    "Simply iterate over lines in file"
   ]
  },
  {
   "cell_type": "code",
   "execution_count": 22,
   "metadata": {},
   "outputs": [
    {
     "name": "stdout",
     "output_type": "stream",
     "text": [
      "Hello, My name is Anurag\n",
      "I am a Graduate Student\n",
      "This is 3rd line\n",
      "Fourth line\n",
      "Fifth Line\n",
      "6th line\n",
      "Se7enth line\n",
      "Ei8ghth line\n",
      "9th line\n",
      "10th line"
     ]
    }
   ],
   "source": [
    "with open('text_file.txt', 'r') as f4:\n",
    "    for line in f4:\n",
    "        print(line, end='')"
   ]
  },
  {
   "cell_type": "code",
   "execution_count": 23,
   "metadata": {},
   "outputs": [
    {
     "name": "stdout",
     "output_type": "stream",
     "text": [
      "Hello, My name is Anurag\n",
      "I am a Graduate Student\n",
      "This is 3rd line\n",
      "Fourth line\n",
      "Fifth Line\n",
      "6th line\n",
      "Se"
     ]
    }
   ],
   "source": [
    "with open('text_file.txt', 'r') as f5:\n",
    "    f_content = f5.read(100) # first 100 characters\n",
    "    print(f_content, end='')\n"
   ]
  },
  {
   "cell_type": "code",
   "execution_count": 24,
   "metadata": {},
   "outputs": [
    {
     "name": "stdout",
     "output_type": "stream",
     "text": [
      "Hello, My name is Anurag\n",
      "I am a Graduate Student\n",
      "This is 3rd line\n",
      "Fourth line\n",
      "Fifth Line\n",
      "6th line\n",
      "Se7enth line\n",
      "Ei8ghth line\n",
      "9th line\n",
      "10th line"
     ]
    }
   ],
   "source": [
    "with open('text_file.txt', 'r') as f6:\n",
    "    f_content = f6.read(100) # first 100 characters\n",
    "    print(f_content, end='')\n",
    "\n",
    "    f_content = f6.read(100) # first 100 characters\n",
    "    print(f_content, end='')"
   ]
  },
  {
   "cell_type": "code",
   "execution_count": 25,
   "metadata": {},
   "outputs": [],
   "source": [
    "with open('text_file.txt', 'r') as f7:\n",
    "    size_to_read = 100\n",
    "\n",
    "    f_content = f7.read(size_to_read) # first 100 characters\n",
    "    while len(f_content) > 0:\n",
    "        print(f_content, end='')\n"
   ]
  },
  {
   "cell_type": "code",
   "execution_count": 6,
   "metadata": {},
   "outputs": [
    {
     "name": "stdout",
     "output_type": "stream",
     "text": [
      "Hello, My *name is An*urag\n",
      "I am *a Graduate* Student\n",
      "T*his is 3rd* line\n",
      "Four*th line\n",
      "Fi*fth Line\n",
      "6*th line\n",
      "Se*7enth line*\n",
      "Ei8ghth l*ine\n",
      "9th li*ne\n",
      "10th li*ne*"
     ]
    }
   ],
   "source": [
    "with open('text_file.txt', 'r') as f8:\n",
    "    size_to_read = 10\n",
    "\n",
    "    f_content = f8.read(size_to_read)\n",
    "    while len(f_content) > 0:\n",
    "        print(f_content, end='*') # looping through 10 characters at a time\n",
    "        f_content = f8.read(size_to_read)"
   ]
  },
  {
   "cell_type": "code",
   "execution_count": 7,
   "metadata": {},
   "outputs": [
    {
     "name": "stdout",
     "output_type": "stream",
     "text": [
      "10\n"
     ]
    }
   ],
   "source": [
    "with open('text_file.txt', 'r') as f9:\n",
    "    size_to_read = 10\n",
    "\n",
    "    f_content = f9.read(size_to_read)\n",
    "    print(f9.tell())"
   ]
  },
  {
   "cell_type": "code",
   "execution_count": 12,
   "metadata": {},
   "outputs": [
    {
     "name": "stdout",
     "output_type": "stream",
     "text": [
      "Hello, My name is An\n",
      "20\n"
     ]
    }
   ],
   "source": [
    "with open('text_file.txt', 'r') as f10:\n",
    "    size_to_read = 10\n",
    "\n",
    "    f_content = f10.read(size_to_read)\n",
    "    print(f_content, end='')\n",
    "\n",
    "    f_content = f10.read(size_to_read) # picks up at the 10th position\n",
    "    print(f_content)\n",
    "\n",
    "    print(f10.tell())"
   ]
  },
  {
   "attachments": {},
   "cell_type": "markdown",
   "metadata": {},
   "source": [
    "What if we want the second read to be again from beginning of file"
   ]
  },
  {
   "cell_type": "code",
   "execution_count": 13,
   "metadata": {},
   "outputs": [
    {
     "name": "stdout",
     "output_type": "stream",
     "text": [
      "Hello, My Hello, My \n",
      "10\n"
     ]
    }
   ],
   "source": [
    "with open('text_file.txt', 'r') as f10:\n",
    "    size_to_read = 10\n",
    "\n",
    "    f_content = f10.read(size_to_read)\n",
    "    print(f_content, end='')\n",
    "\n",
    "    f10.seek(0)\n",
    "\n",
    "    f_content = f10.read(size_to_read) # picks up at the 10th position\n",
    "    print(f_content)\n",
    "\n",
    "    print(f10.tell())"
   ]
  },
  {
   "attachments": {},
   "cell_type": "markdown",
   "metadata": {},
   "source": [
    "Writing to files"
   ]
  },
  {
   "cell_type": "code",
   "execution_count": 20,
   "metadata": {},
   "outputs": [],
   "source": [
    "with open('text_file2.txt','w') as f11:\n",
    "    f11.write('TEST') # overwrites if file already exists\n",
    "    f11.seek(0) # if not seeking, then following text will concatenate existing text\n",
    "    f11.write('B') # Now this overwrites over existing text, so it will be 'BEST' (only replaced T)\n",
    "    # pass"
   ]
  },
  {
   "attachments": {},
   "cell_type": "markdown",
   "metadata": {},
   "source": [
    "Copying files"
   ]
  },
  {
   "cell_type": "code",
   "execution_count": 21,
   "metadata": {},
   "outputs": [],
   "source": [
    "with open('text_file.txt','r') as rf:\n",
    "    with open('text_file_copy.txt','w') as wf:\n",
    "        for line in rf:\n",
    "            wf.write(line)"
   ]
  },
  {
   "attachments": {},
   "cell_type": "markdown",
   "metadata": {},
   "source": [
    "Copying an image"
   ]
  },
  {
   "cell_type": "code",
   "execution_count": 24,
   "metadata": {},
   "outputs": [],
   "source": [
    "with open('owl.jpg','rb') as rf:        # 'rb' read binary\n",
    "    with open('owl_copy.jpg','wb') as wf:\n",
    "        for line in rf:\n",
    "            wf.write(line)"
   ]
  },
  {
   "attachments": {},
   "cell_type": "markdown",
   "metadata": {},
   "source": [
    "More control over reading/writing"
   ]
  },
  {
   "cell_type": "code",
   "execution_count": 25,
   "metadata": {},
   "outputs": [],
   "source": [
    "with open('owl.jpg','rb') as rf:        # 'rb' read binary\n",
    "    with open('owl_copy2.jpg','wb') as wf:\n",
    "        chunk_size = 4096               # define a chunk size\n",
    "        rf_chunk = rf.read(chunk_size)\n",
    "        while(len(rf_chunk)>0):\n",
    "            wf.write(rf_chunk)\n",
    "            rf_chunk = rf.read(chunk_size)"
   ]
  }
 ],
 "metadata": {
  "kernelspec": {
   "display_name": "Python 3",
   "language": "python",
   "name": "python3"
  },
  "language_info": {
   "codemirror_mode": {
    "name": "ipython",
    "version": 3
   },
   "file_extension": ".py",
   "mimetype": "text/x-python",
   "name": "python",
   "nbconvert_exporter": "python",
   "pygments_lexer": "ipython3",
   "version": "3.10.8"
  },
  "orig_nbformat": 4,
  "vscode": {
   "interpreter": {
    "hash": "fbfacf25abbc4466cbf6a4ec94f71aa428570133f008ac9f4c86deb26a69bb88"
   }
  }
 },
 "nbformat": 4,
 "nbformat_minor": 2
}
