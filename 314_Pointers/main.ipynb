{
 "cells": [
  {
   "cell_type": "markdown",
   "metadata": {},
   "source": [
    "# Pointers in Python?"
   ]
  },
  {
   "cell_type": "markdown",
   "metadata": {},
   "source": [
    "In Python, you don't have traditional pointers as in languages like C or C++. Python uses a different approach to handle variables and objects. However, you can achieve some level of pointer-like behavior using references"
   ]
  },
  {
   "cell_type": "code",
   "execution_count": 1,
   "metadata": {},
   "outputs": [],
   "source": [
    "a=10\n",
    "b=10"
   ]
  },
  {
   "cell_type": "code",
   "execution_count": 2,
   "metadata": {},
   "outputs": [
    {
     "name": "stdout",
     "output_type": "stream",
     "text": [
      "1932930843152\n",
      "1932930843152\n"
     ]
    }
   ],
   "source": [
    "print(id(a))\n",
    "print(id(b))"
   ]
  },
  {
   "cell_type": "code",
   "execution_count": 3,
   "metadata": {},
   "outputs": [],
   "source": [
    "import ctypes\n",
    "a=ctypes.c_long(200)"
   ]
  },
  {
   "cell_type": "code",
   "execution_count": 4,
   "metadata": {},
   "outputs": [
    {
     "name": "stdout",
     "output_type": "stream",
     "text": [
      "200\n",
      "<class 'ctypes.c_long'>\n"
     ]
    }
   ],
   "source": [
    "print(a.value)\n",
    "print(type(a))"
   ]
  },
  {
   "cell_type": "markdown",
   "metadata": {},
   "source": [
    "Now we can use pointers"
   ]
  },
  {
   "cell_type": "code",
   "execution_count": 5,
   "metadata": {},
   "outputs": [
    {
     "name": "stdout",
     "output_type": "stream",
     "text": [
      "<class 'ctypes.wintypes.LP_c_long'>\n"
     ]
    }
   ],
   "source": [
    "ptr = ctypes.pointer(a)\n",
    "print(type(ptr))"
   ]
  },
  {
   "cell_type": "code",
   "execution_count": 6,
   "metadata": {},
   "outputs": [
    {
     "name": "stdout",
     "output_type": "stream",
     "text": [
      "c_long(200)\n"
     ]
    }
   ],
   "source": [
    "print(ptr.contents)"
   ]
  },
  {
   "cell_type": "code",
   "execution_count": 7,
   "metadata": {},
   "outputs": [
    {
     "name": "stdout",
     "output_type": "stream",
     "text": [
      "200\n",
      "1933013913864\n"
     ]
    }
   ],
   "source": [
    "print(ptr.contents.value)\n",
    "print(ctypes.addressof(ptr.contents))"
   ]
  },
  {
   "cell_type": "code",
   "execution_count": 8,
   "metadata": {},
   "outputs": [],
   "source": [
    "ptr.contents.value = 300"
   ]
  },
  {
   "cell_type": "code",
   "execution_count": 9,
   "metadata": {},
   "outputs": [
    {
     "name": "stdout",
     "output_type": "stream",
     "text": [
      "c_long(300)\n"
     ]
    }
   ],
   "source": [
    "print(a)"
   ]
  },
  {
   "cell_type": "code",
   "execution_count": 10,
   "metadata": {},
   "outputs": [
    {
     "name": "stdout",
     "output_type": "stream",
     "text": [
      "300\n"
     ]
    }
   ],
   "source": [
    "ptr_address = ctypes.addressof(ptr.contents)\n",
    "ptr_new = ctypes.cast(ptr_address, ctypes.POINTER(ctypes.c_long))\n",
    "print(ptr_new.contents.value)"
   ]
  },
  {
   "cell_type": "markdown",
   "metadata": {},
   "source": [
    "Working with Arrays"
   ]
  },
  {
   "cell_type": "code",
   "execution_count": 11,
   "metadata": {},
   "outputs": [
    {
     "name": "stdout",
     "output_type": "stream",
     "text": [
      "Sum of array elements: 15\n"
     ]
    }
   ],
   "source": [
    "from ctypes import c_int, POINTER\n",
    "\n",
    "# Define a C function that takes an array and its length\n",
    "def sum_array(arr, length):\n",
    "    result = 0\n",
    "    for i in range(length):\n",
    "        result += arr[i]\n",
    "    return result\n",
    "\n",
    "# Create an array of integers\n",
    "my_array = (c_int * 5)(1, 2, 3, 4, 5)\n",
    "\n",
    "# Create a pointer to the array\n",
    "ptr_to_array = POINTER(c_int)(my_array)\n",
    "\n",
    "# Call the function, passing the pointer and the length of the array\n",
    "total_sum = sum_array(ptr_to_array, len(my_array))\n",
    "print(\"Sum of array elements:\", total_sum)"
   ]
  },
  {
   "cell_type": "markdown",
   "metadata": {},
   "source": [
    "Structures and Pointers"
   ]
  },
  {
   "cell_type": "code",
   "execution_count": 13,
   "metadata": {},
   "outputs": [
    {
     "name": "stdout",
     "output_type": "stream",
     "text": [
      "Original values: 10 20\n",
      "Values through pointer: 10 20\n"
     ]
    }
   ],
   "source": [
    "from ctypes import Structure, c_int, POINTER\n",
    "\n",
    "# Define a simple structure\n",
    "class Point(Structure):\n",
    "    _fields_ = [(\"x\", c_int), (\"y\", c_int)]\n",
    "\n",
    "# Create an instance of the structure\n",
    "my_point = Point(10, 20)\n",
    "\n",
    "# Create a pointer to the structure\n",
    "ptr_to_point = POINTER(Point)(my_point)\n",
    "\n",
    "# Access members through the pointer\n",
    "print(\"Original values:\", my_point.x, my_point.y)\n",
    "print(\"Values through pointer:\", ptr_to_point.contents.x, ptr_to_point.contents.y)\n"
   ]
  },
  {
   "cell_type": "code",
   "execution_count": null,
   "metadata": {},
   "outputs": [],
   "source": []
  }
 ],
 "metadata": {
  "kernelspec": {
   "display_name": "Python 3",
   "language": "python",
   "name": "python3"
  },
  "language_info": {
   "codemirror_mode": {
    "name": "ipython",
    "version": 3
   },
   "file_extension": ".py",
   "mimetype": "text/x-python",
   "name": "python",
   "nbconvert_exporter": "python",
   "pygments_lexer": "ipython3",
   "version": "3.10.8"
  }
 },
 "nbformat": 4,
 "nbformat_minor": 2
}
