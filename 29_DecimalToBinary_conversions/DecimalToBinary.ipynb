{
 "cells": [
  {
   "attachments": {},
   "cell_type": "markdown",
   "metadata": {},
   "source": [
    "# Converting from Base 10 to Base 2 [Decimal to Binary]"
   ]
  },
  {
   "attachments": {},
   "cell_type": "markdown",
   "metadata": {},
   "source": [
    "Using the bin() which gives the binary representation"
   ]
  },
  {
   "cell_type": "code",
   "execution_count": 3,
   "metadata": {},
   "outputs": [
    {
     "name": "stdout",
     "output_type": "stream",
     "text": [
      "100111100010110011010000000010\n"
     ]
    }
   ],
   "source": [
    "def decimal_to_binary(decimal):\n",
    "    return bin(decimal)[2:]\n",
    "\n",
    "decimal_number = 663434242\n",
    "binary_number = decimal_to_binary(decimal_number)\n",
    "print(binary_number)"
   ]
  },
  {
   "cell_type": "code",
   "execution_count": 10,
   "metadata": {},
   "outputs": [
    {
     "name": "stdout",
     "output_type": "stream",
     "text": [
      "b1\n"
     ]
    }
   ],
   "source": [
    "decimal_number = -1\n",
    "binary_number = decimal_to_binary(decimal_number)\n",
    "print(binary_number)"
   ]
  },
  {
   "attachments": {},
   "cell_type": "markdown",
   "metadata": {},
   "source": [
    "Without using bin()"
   ]
  },
  {
   "cell_type": "code",
   "execution_count": 18,
   "metadata": {},
   "outputs": [
    {
     "name": "stdout",
     "output_type": "stream",
     "text": [
      "101\n"
     ]
    }
   ],
   "source": [
    "decimal_number = 5\n",
    "binary_number = \"\"\n",
    "while decimal_number > 0:\n",
    "    binary_number = str(decimal_number % 2) + binary_number\n",
    "    decimal_number = decimal_number // 2 #returns non floating point result\n",
    "print(binary_number)\n"
   ]
  },
  {
   "attachments": {},
   "cell_type": "markdown",
   "metadata": {},
   "source": [
    "For negative Decimal Numbers"
   ]
  },
  {
   "cell_type": "code",
   "execution_count": 27,
   "metadata": {},
   "outputs": [
    {
     "name": "stdout",
     "output_type": "stream",
     "text": [
      "-101\n"
     ]
    }
   ],
   "source": [
    "decimal_number = -5\n",
    "binary_number = \"\"\n",
    "if decimal_number < 0:\n",
    "    decimal_number = abs(decimal_number)\n",
    "    binary_number = \"-\" + binary_number\n",
    "while decimal_number > 0:\n",
    "    binary_number = binary_number + str(decimal_number % 2)\n",
    "    decimal_number = decimal_number // 2\n",
    "print(binary_number)\n"
   ]
  }
 ],
 "metadata": {
  "kernelspec": {
   "display_name": "Python 3",
   "language": "python",
   "name": "python3"
  },
  "language_info": {
   "codemirror_mode": {
    "name": "ipython",
    "version": 3
   },
   "file_extension": ".py",
   "mimetype": "text/x-python",
   "name": "python",
   "nbconvert_exporter": "python",
   "pygments_lexer": "ipython3",
   "version": "3.10.7 (tags/v3.10.7:6cc6b13, Sep  5 2022, 14:08:36) [MSC v.1933 64 bit (AMD64)]"
  },
  "orig_nbformat": 4,
  "vscode": {
   "interpreter": {
    "hash": "fbfacf25abbc4466cbf6a4ec94f71aa428570133f008ac9f4c86deb26a69bb88"
   }
  }
 },
 "nbformat": 4,
 "nbformat_minor": 2
}
