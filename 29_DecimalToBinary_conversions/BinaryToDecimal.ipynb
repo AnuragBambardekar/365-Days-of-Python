{
 "cells": [
  {
   "attachments": {},
   "cell_type": "markdown",
   "metadata": {},
   "source": [
    "# Base 2 to Base 10 [Binary to Decimal]"
   ]
  },
  {
   "cell_type": "code",
   "execution_count": 1,
   "metadata": {},
   "outputs": [
    {
     "name": "stdout",
     "output_type": "stream",
     "text": [
      "21973\n"
     ]
    }
   ],
   "source": [
    "def binary_to_decimal(binary):\n",
    "    return int(binary, 2)\n",
    "\n",
    "binary_number = '101010111010101'\n",
    "decimal_number = binary_to_decimal(binary_number)\n",
    "print(decimal_number)"
   ]
  },
  {
   "cell_type": "code",
   "execution_count": 2,
   "metadata": {},
   "outputs": [
    {
     "name": "stdout",
     "output_type": "stream",
     "text": [
      "-1373\n"
     ]
    }
   ],
   "source": [
    "binary_number = '-10101011101'\n",
    "decimal_number = binary_to_decimal(binary_number)\n",
    "print(decimal_number)"
   ]
  },
  {
   "attachments": {},
   "cell_type": "markdown",
   "metadata": {},
   "source": [
    "Without using int()"
   ]
  },
  {
   "cell_type": "code",
   "execution_count": 3,
   "metadata": {},
   "outputs": [
    {
     "name": "stdout",
     "output_type": "stream",
     "text": [
      "10\n"
     ]
    }
   ],
   "source": [
    "binary_number = 1010\n",
    "decimal = 0\n",
    "binary = str(binary_number)\n",
    "for digit in binary:\n",
    "    decimal = decimal*2 + int(digit)\n",
    "print(decimal)"
   ]
  },
  {
   "attachments": {},
   "cell_type": "markdown",
   "metadata": {},
   "source": [
    "For negative binary representation"
   ]
  },
  {
   "cell_type": "code",
   "execution_count": 4,
   "metadata": {},
   "outputs": [
    {
     "name": "stdout",
     "output_type": "stream",
     "text": [
      "-10\n"
     ]
    }
   ],
   "source": [
    "binary_number = -1010\n",
    "decimal = 0\n",
    "binary = str(binary_number)\n",
    "negative = False\n",
    "if binary[0] == '-':\n",
    "    negative = True\n",
    "    binary = binary[1:]\n",
    "for digit in binary:\n",
    "    decimal = decimal*2 + int(digit)\n",
    "if negative:\n",
    "    decimal = -decimal\n",
    "print(decimal)"
   ]
  }
 ],
 "metadata": {
  "kernelspec": {
   "display_name": "Python 3",
   "language": "python",
   "name": "python3"
  },
  "language_info": {
   "codemirror_mode": {
    "name": "ipython",
    "version": 3
   },
   "file_extension": ".py",
   "mimetype": "text/x-python",
   "name": "python",
   "nbconvert_exporter": "python",
   "pygments_lexer": "ipython3",
   "version": "3.10.7"
  },
  "orig_nbformat": 4,
  "vscode": {
   "interpreter": {
    "hash": "fbfacf25abbc4466cbf6a4ec94f71aa428570133f008ac9f4c86deb26a69bb88"
   }
  }
 },
 "nbformat": 4,
 "nbformat_minor": 2
}
