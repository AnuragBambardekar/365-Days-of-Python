{
 "cells": [
  {
   "attachments": {},
   "cell_type": "markdown",
   "metadata": {},
   "source": [
    "# Base 2 to Base 10 [Binary to Decimal]"
   ]
  },
  {
   "cell_type": "code",
   "execution_count": 1,
   "metadata": {},
   "outputs": [
    {
     "name": "stdout",
     "output_type": "stream",
     "text": [
      "10\n"
     ]
    }
   ],
   "source": [
    "def binary_to_decimal(binary):\n",
    "    return int(binary, 2)\n",
    "\n",
    "binary_number = '1010'\n",
    "decimal_number = binary_to_decimal(binary_number)\n",
    "print(decimal_number)"
   ]
  },
  {
   "cell_type": "code",
   "execution_count": 2,
   "metadata": {},
   "outputs": [
    {
     "name": "stdout",
     "output_type": "stream",
     "text": [
      "-10\n"
     ]
    }
   ],
   "source": [
    "binary_number = '-1010'\n",
    "decimal_number = binary_to_decimal(binary_number)\n",
    "print(decimal_number)"
   ]
  },
  {
   "attachments": {},
   "cell_type": "markdown",
   "metadata": {},
   "source": [
    "Without using the in-built function"
   ]
  },
  {
   "cell_type": "code",
   "execution_count": 2,
   "metadata": {},
   "outputs": [
    {
     "name": "stdout",
     "output_type": "stream",
     "text": [
      "4\n"
     ]
    }
   ],
   "source": [
    "binary_num = \"100\"\n",
    "decimal_num = 0\n",
    "\n",
    "#check whether binary representation is positive or negative\n",
    "if binary_num[0] == '-':\n",
    "    bnum = binary_num[1:]\n",
    "    print(\"Negative Binary Representation\")\n",
    "\n",
    "    #check whether digits are 1's and 0's only also\n",
    "    lst = [1,0]\n",
    "    for i, digit in enumerate(bnum[::-1]):\n",
    "        if not int(digit) in lst:\n",
    "            print(\"Invalid Binary Number\")\n",
    "            break #break to completely discard the binary to decimal conversion\n",
    "        else:\n",
    "            #decimal_num += int(digit,2) * (2 ** i)\n",
    "            #print(i,digit)\n",
    "            decimal_num = decimal_num +  int(digit) * (2**i)\n",
    "            #print(decimal_num)\n",
    "\n",
    "else:\n",
    "    #check whether digits are 1's and 0's only also\n",
    "    lst = [1,0]\n",
    "    for i, digit in enumerate(binary_num[::-1]):\n",
    "        if not int(digit) in lst:\n",
    "            print(\"Invalid Binary Number\")\n",
    "            break #break to completely discard the binary to decimal conversion\n",
    "        else:\n",
    "            #decimal_num += int(digit,2) * (2 ** i)\n",
    "            #print(i,digit)\n",
    "            decimal_num = decimal_num +  int(digit) * (2**i)\n",
    "            #print(decimal_num)\n",
    "\n",
    "#it ignores the invalid binary representation and calculates the decimal equivalent of valid binary representations [1 and 0], unless break is in operation\n",
    "#print(binary_num)\n",
    "if(binary_num[0] == '-'):\n",
    "    decimal_num = -decimal_num\n",
    "    print(decimal_num)\n",
    "else:\n",
    "    print(decimal_num)"
   ]
  },
  {
   "attachments": {},
   "cell_type": "markdown",
   "metadata": {},
   "source": [
    "### First 50 binary numbers"
   ]
  },
  {
   "cell_type": "code",
   "execution_count": 2,
   "metadata": {},
   "outputs": [
    {
     "name": "stdout",
     "output_type": "stream",
     "text": [
      "0\n",
      "1\n",
      "10\n",
      "11\n",
      "100\n",
      "101\n",
      "110\n",
      "111\n",
      "1000\n",
      "1001\n",
      "1010\n",
      "1011\n",
      "1100\n",
      "1101\n",
      "1110\n",
      "1111\n",
      "10000\n",
      "10001\n",
      "10010\n",
      "10011\n",
      "10100\n",
      "10101\n",
      "10110\n",
      "10111\n",
      "11000\n",
      "11001\n",
      "11010\n",
      "11011\n",
      "11100\n",
      "11101\n",
      "11110\n",
      "11111\n",
      "100000\n",
      "100001\n",
      "100010\n",
      "100011\n",
      "100100\n",
      "100101\n",
      "100110\n",
      "100111\n",
      "101000\n",
      "101001\n",
      "101010\n",
      "101011\n",
      "101100\n",
      "101101\n",
      "101110\n",
      "101111\n",
      "110000\n",
      "110001\n"
     ]
    }
   ],
   "source": [
    "for i in range(50):\n",
    "    binary_num = bin(i)\n",
    "    print(binary_num[2:])"
   ]
  }
 ],
 "metadata": {
  "kernelspec": {
   "display_name": "Python 3",
   "language": "python",
   "name": "python3"
  },
  "language_info": {
   "codemirror_mode": {
    "name": "ipython",
    "version": 3
   },
   "file_extension": ".py",
   "mimetype": "text/x-python",
   "name": "python",
   "nbconvert_exporter": "python",
   "pygments_lexer": "ipython3",
   "version": "3.10.7"
  },
  "orig_nbformat": 4,
  "vscode": {
   "interpreter": {
    "hash": "fbfacf25abbc4466cbf6a4ec94f71aa428570133f008ac9f4c86deb26a69bb88"
   }
  }
 },
 "nbformat": 4,
 "nbformat_minor": 2
}
