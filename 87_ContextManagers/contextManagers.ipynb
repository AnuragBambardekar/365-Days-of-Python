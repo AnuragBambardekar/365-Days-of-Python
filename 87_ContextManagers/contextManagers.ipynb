{
 "cells": [
  {
   "attachments": {},
   "cell_type": "markdown",
   "metadata": {},
   "source": [
    "# Context Managers"
   ]
  },
  {
   "attachments": {},
   "cell_type": "markdown",
   "metadata": {},
   "source": [
    "A context manager is an object that manages a resource that needs to be acquired before some operation can be performed and released afterwards. The context manager provides a way to automatically manage the acquisition and release of the resource, even in the presence of exceptions.\n",
    "\n",
    "The typical use case for context managers is when working with files or network sockets, where the resource needs to be closed or released after it has been used.\n",
    "\n",
    "Python provides two ways of defining context managers: using the with statement and defining a class that implements the context manager protocol."
   ]
  },
  {
   "attachments": {},
   "cell_type": "markdown",
   "metadata": {},
   "source": [
    "With Context manager"
   ]
  },
  {
   "cell_type": "code",
   "execution_count": 5,
   "metadata": {},
   "outputs": [
    {
     "name": "stdout",
     "output_type": "stream",
     "text": [
      "apple\n",
      "banana\n",
      "orange\n",
      "mango\n",
      "strawberry\n",
      "cherry\n",
      "lemon\n",
      "tomato\n",
      "raspberry\n",
      "tangerine\n",
      "\n",
      "True\n"
     ]
    }
   ],
   "source": [
    "with open(\"fruits.txt\", \"r\") as file:\n",
    "    print(file.read())\n",
    "print(file.closed)"
   ]
  },
  {
   "attachments": {},
   "cell_type": "markdown",
   "metadata": {},
   "source": [
    "Without Context Manager"
   ]
  },
  {
   "cell_type": "code",
   "execution_count": 6,
   "metadata": {},
   "outputs": [
    {
     "name": "stdout",
     "output_type": "stream",
     "text": [
      "apple\n",
      "banana\n",
      "orange\n",
      "mango\n",
      "strawberry\n",
      "cherry\n",
      "lemon\n",
      "tomato\n",
      "raspberry\n",
      "tangerine\n",
      "\n",
      "False\n"
     ]
    }
   ],
   "source": [
    "file = open(\"fruits.txt\", \"r\")\n",
    "print(file.read())\n",
    "print(file.closed)"
   ]
  },
  {
   "attachments": {},
   "cell_type": "markdown",
   "metadata": {},
   "source": [
    "### Custom Context Manager"
   ]
  },
  {
   "attachments": {},
   "cell_type": "markdown",
   "metadata": {},
   "source": [
    "In this example, the File class acquires a resource in its constructor and releases it in its __exit__ method. The __enter__ method returns the acquired resource, which can be used within the with block."
   ]
  },
  {
   "cell_type": "code",
   "execution_count": 1,
   "metadata": {},
   "outputs": [
    {
     "name": "stdout",
     "output_type": "stream",
     "text": [
      "Opening contextManagers.ipynb...\n",
      "contextManagers.ipynb\n",
      "Closing contextManagers.ipynb...\n",
      "Done!\n"
     ]
    }
   ],
   "source": [
    "class File:\n",
    "    def __init__(self, name: str):\n",
    "        self.name =  name\n",
    "\n",
    "    def __enter__(self):\n",
    "        print(f\"Opening {self.name}...\")\n",
    "        return self\n",
    "    \n",
    "    def __exit__(self, exc_type, exc_val, exc_tb):# Exceptions\n",
    "        print(f\"Closing {self.name}...\")\n",
    "\n",
    "if __name__ == \"__main__\":\n",
    "    with File('contextManagers.ipynb') as file:\n",
    "        print(file.name)\n",
    "\n",
    "    print(\"Done!\")"
   ]
  },
  {
   "attachments": {},
   "cell_type": "markdown",
   "metadata": {},
   "source": [
    "Another Implementation of custom Context Manager"
   ]
  },
  {
   "cell_type": "code",
   "execution_count": 13,
   "metadata": {},
   "outputs": [
    {
     "name": "stdout",
     "output_type": "stream",
     "text": [
      "Opening fruits.txt...\n",
      "Closing fruits.txt...\n",
      "True\n"
     ]
    }
   ],
   "source": [
    "class FileStream:\n",
    "    def __init__(self, path, mode):\n",
    "        self.name =  path\n",
    "        self.path =  path\n",
    "        self.mode =  mode\n",
    "\n",
    "    def __enter__(self):\n",
    "        print(f\"Opening {self.name}...\")\n",
    "        self.filestream = open(self.path, self.mode)\n",
    "        return self.filestream\n",
    "    \n",
    "    def __exit__(self, exc_type, exc_val, exc_tb):# Exceptions\n",
    "        self.filestream.close()\n",
    "        print(f\"Closing {self.name}...\")\n",
    "\n",
    "with FileStream(\"fruits.txt\", \"a\") as f: # r, w, a\n",
    "    f.write(\"longan\")\n",
    "\n",
    "print(f.closed)"
   ]
  },
  {
   "attachments": {},
   "cell_type": "markdown",
   "metadata": {},
   "source": [
    "A Better way"
   ]
  },
  {
   "cell_type": "code",
   "execution_count": 16,
   "metadata": {},
   "outputs": [
    {
     "name": "stdout",
     "output_type": "stream",
     "text": [
      "True\n"
     ]
    }
   ],
   "source": [
    "from contextlib import contextmanager\n",
    "@contextmanager\n",
    "def filestream(path, mode):\n",
    "    f = open(path, mode)\n",
    "    yield f\n",
    "    f.close()\n",
    "\n",
    "with filestream(\"fruits.txt\", \"a\") as file:\n",
    "    file.write(\"\\ntamarind\")\n",
    "\n",
    "print(file.closed)"
   ]
  }
 ],
 "metadata": {
  "kernelspec": {
   "display_name": "Python 3",
   "language": "python",
   "name": "python3"
  },
  "language_info": {
   "codemirror_mode": {
    "name": "ipython",
    "version": 3
   },
   "file_extension": ".py",
   "mimetype": "text/x-python",
   "name": "python",
   "nbconvert_exporter": "python",
   "pygments_lexer": "ipython3",
   "version": "3.10.8"
  },
  "orig_nbformat": 4
 },
 "nbformat": 4,
 "nbformat_minor": 2
}
