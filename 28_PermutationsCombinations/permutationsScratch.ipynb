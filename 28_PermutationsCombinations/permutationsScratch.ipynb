{
 "cells": [
  {
   "attachments": {},
   "cell_type": "markdown",
   "metadata": {},
   "source": [
    "# Permutations from Scratch"
   ]
  },
  {
   "cell_type": "code",
   "execution_count": 3,
   "metadata": {},
   "outputs": [
    {
     "name": "stdout",
     "output_type": "stream",
     "text": [
      "['abc', 'acb', 'bac', 'bca', 'cba', 'cab']\n"
     ]
    }
   ],
   "source": [
    "def permute(string, l, r):\n",
    "    permutations = []\n",
    "    if l == r:\n",
    "        permutations.append(string)\n",
    "    else:\n",
    "        for i in range(l, r):\n",
    "            string = list(string)\n",
    "            string[l], string[i] = string[i], string[l]\n",
    "            permutations.extend(permute(\"\".join(string), l+1, r))\n",
    "            string[l], string[i] = string[i], string[l]\n",
    "    return permutations\n",
    "\n",
    "string = \"abc\"\n",
    "n = len(string)\n",
    "permutations = permute(string, 0, n)\n",
    "print(permutations)\n"
   ]
  },
  {
   "cell_type": "code",
   "execution_count": null,
   "metadata": {},
   "outputs": [],
   "source": []
  }
 ],
 "metadata": {
  "kernelspec": {
   "display_name": "Python 3",
   "language": "python",
   "name": "python3"
  },
  "language_info": {
   "codemirror_mode": {
    "name": "ipython",
    "version": 3
   },
   "file_extension": ".py",
   "mimetype": "text/x-python",
   "name": "python",
   "nbconvert_exporter": "python",
   "pygments_lexer": "ipython3",
   "version": "3.10.7"
  },
  "orig_nbformat": 4,
  "vscode": {
   "interpreter": {
    "hash": "fbfacf25abbc4466cbf6a4ec94f71aa428570133f008ac9f4c86deb26a69bb88"
   }
  }
 },
 "nbformat": 4,
 "nbformat_minor": 2
}
