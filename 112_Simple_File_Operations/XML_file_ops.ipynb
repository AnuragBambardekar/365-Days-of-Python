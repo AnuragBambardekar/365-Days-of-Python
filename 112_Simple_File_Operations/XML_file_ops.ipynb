{
 "cells": [
  {
   "attachments": {},
   "cell_type": "markdown",
   "metadata": {},
   "source": [
    "# XML - Extended Markup Language"
   ]
  },
  {
   "attachments": {},
   "cell_type": "markdown",
   "metadata": {},
   "source": [
    "Reading from XML file"
   ]
  },
  {
   "cell_type": "code",
   "execution_count": 3,
   "metadata": {},
   "outputs": [
    {
     "name": "stdout",
     "output_type": "stream",
     "text": [
      "to {}\n",
      "from {}\n",
      "heading {}\n",
      "body {}\n"
     ]
    }
   ],
   "source": [
    "import xml.etree.ElementTree as ET\n",
    "\n",
    "# Reading an XML file\n",
    "tree = ET.parse('example.xml')\n",
    "root = tree.getroot()\n",
    "for child in root:\n",
    "    print(child.tag, child.attrib)"
   ]
  },
  {
   "cell_type": "code",
   "execution_count": 17,
   "metadata": {},
   "outputs": [],
   "source": [
    "import xml.etree.ElementTree as ET\n",
    "\n",
    "# Create XML file from scratch\n",
    "root = ET.Element('root')\n",
    "\n",
    "# Add child elements and attributes\n",
    "child1 = ET.SubElement(root, 'child1')\n",
    "child1.set('name', 'Alice')\n",
    "child1.text = 'Hello, Alice!'\n",
    "\n",
    "child2 = ET.SubElement(root, 'child2')\n",
    "child2.set('name', 'Bob')\n",
    "child2.text = 'Hello, Bob!'\n",
    "\n",
    "# Write XML file to disk\n",
    "tree = ET.ElementTree(root)\n",
    "tree.write('example2.xml')\n"
   ]
  },
  {
   "attachments": {},
   "cell_type": "markdown",
   "metadata": {},
   "source": [
    "Updating XML"
   ]
  },
  {
   "cell_type": "code",
   "execution_count": 18,
   "metadata": {},
   "outputs": [],
   "source": [
    "import xml.etree.ElementTree as ET\n",
    "\n",
    "# Parse an XML file\n",
    "tree = ET.parse('example2.xml')\n",
    "root = tree.getroot()\n",
    "\n",
    "# Update XML file\n",
    "for child in root:\n",
    "    if child.attrib['name'] == 'Alice':\n",
    "        child.text = 'Hello, Alice! How are you?'\n",
    "\n",
    "# Write updated XML file to disk\n",
    "tree.write('example2.xml')\n"
   ]
  },
  {
   "attachments": {},
   "cell_type": "markdown",
   "metadata": {},
   "source": [
    "Appending/Adding new item"
   ]
  },
  {
   "cell_type": "code",
   "execution_count": 19,
   "metadata": {},
   "outputs": [],
   "source": [
    "import xml.etree.ElementTree as ET\n",
    "\n",
    "# Parse an XML file\n",
    "tree = ET.parse('example2.xml')\n",
    "root = tree.getroot()\n",
    "\n",
    "# Create a new element and add it to the root\n",
    "child3 = ET.SubElement(root, 'child3')\n",
    "child3.set('name', 'Jake')\n",
    "child3.text = 'Hello, Jake from StateFarm!'\n",
    "# root.append(child3)\n",
    "\n",
    "# Write updated XML file to disk\n",
    "tree.write('example2.xml')\n"
   ]
  },
  {
   "cell_type": "code",
   "execution_count": null,
   "metadata": {},
   "outputs": [],
   "source": []
  }
 ],
 "metadata": {
  "kernelspec": {
   "display_name": "Python 3",
   "language": "python",
   "name": "python3"
  },
  "language_info": {
   "codemirror_mode": {
    "name": "ipython",
    "version": 3
   },
   "file_extension": ".py",
   "mimetype": "text/x-python",
   "name": "python",
   "nbconvert_exporter": "python",
   "pygments_lexer": "ipython3",
   "version": "3.10.8"
  },
  "orig_nbformat": 4
 },
 "nbformat": 4,
 "nbformat_minor": 2
}
