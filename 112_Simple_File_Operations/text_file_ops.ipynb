{
 "cells": [
  {
   "attachments": {},
   "cell_type": "markdown",
   "metadata": {},
   "source": [
    "# File Operations"
   ]
  },
  {
   "attachments": {},
   "cell_type": "markdown",
   "metadata": {},
   "source": [
    "### Merging two text files"
   ]
  },
  {
   "cell_type": "code",
   "execution_count": 3,
   "metadata": {},
   "outputs": [],
   "source": [
    "# Open the first file in read mode\n",
    "with open('file1.txt', 'r') as file1:\n",
    "\n",
    "    # Read the contents of the first file\n",
    "    file1_contents = file1.read()\n",
    "\n",
    "    # Open the second file in read mode\n",
    "    with open('file2.txt', 'r') as file2:\n",
    "\n",
    "        # Read the contents of the second file\n",
    "        file2_contents = file2.read()\n",
    "\n",
    "        # Append text file 2's content from a new line\n",
    "        file1_contents += '\\n\\n'\n",
    "\n",
    "        # Merge the contents of the two files\n",
    "        merged_contents = file1_contents + file2_contents\n",
    "\n",
    "        # Open a new file in write mode\n",
    "        with open('merged.txt', 'w') as merged_file:\n",
    "\n",
    "            # Write the merged contents to the new file\n",
    "            merged_file.write(merged_contents)\n"
   ]
  },
  {
   "attachments": {},
   "cell_type": "markdown",
   "metadata": {},
   "source": [
    "### Counting words in a text file"
   ]
  },
  {
   "cell_type": "code",
   "execution_count": 4,
   "metadata": {},
   "outputs": [
    {
     "name": "stdout",
     "output_type": "stream",
     "text": [
      "Number of words in the file: 621\n"
     ]
    }
   ],
   "source": [
    "with open('merged.txt', 'r') as file:\n",
    "    contents = file.read()\n",
    "    words = contents.split()\n",
    "    num_words = len(words)\n",
    "    print('Number of words in the file:', num_words)\n"
   ]
  },
  {
   "attachments": {},
   "cell_type": "markdown",
   "metadata": {},
   "source": [
    "### Reversing the lines in a text file"
   ]
  },
  {
   "cell_type": "code",
   "execution_count": 5,
   "metadata": {},
   "outputs": [],
   "source": [
    "with open('merged.txt', 'r') as file:\n",
    "    lines = file.readlines()\n",
    "    lines.reverse()\n",
    "    with open('merged_reversed.txt', 'w') as reversed_file:\n",
    "        for line in lines:\n",
    "            reversed_file.write(line)\n"
   ]
  },
  {
   "attachments": {},
   "cell_type": "markdown",
   "metadata": {},
   "source": [
    "### Finding and replacing text in a file"
   ]
  },
  {
   "cell_type": "code",
   "execution_count": 10,
   "metadata": {},
   "outputs": [],
   "source": [
    "with open('merged.txt', 'r') as file:\n",
    "    contents = file.read()\n",
    "    modified_contents = contents.replace('he', 'YOLO')\n",
    "    with open('merged_modified.txt', 'w') as modified_file:\n",
    "        modified_file.write(modified_contents)\n"
   ]
  }
 ],
 "metadata": {
  "kernelspec": {
   "display_name": "Python 3",
   "language": "python",
   "name": "python3"
  },
  "language_info": {
   "codemirror_mode": {
    "name": "ipython",
    "version": 3
   },
   "file_extension": ".py",
   "mimetype": "text/x-python",
   "name": "python",
   "nbconvert_exporter": "python",
   "pygments_lexer": "ipython3",
   "version": "3.10.8"
  },
  "orig_nbformat": 4
 },
 "nbformat": 4,
 "nbformat_minor": 2
}
