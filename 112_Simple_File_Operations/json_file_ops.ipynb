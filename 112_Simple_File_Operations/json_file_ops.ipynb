{
 "cells": [
  {
   "attachments": {},
   "cell_type": "markdown",
   "metadata": {},
   "source": [
    "# JSON - JavaScript Object Notation"
   ]
  },
  {
   "attachments": {},
   "cell_type": "markdown",
   "metadata": {},
   "source": [
    "JSON is an open standard file format and data interchange format that uses human-readable text to store and transmit data objects consisting of attribute–value pairs and arrays."
   ]
  },
  {
   "attachments": {},
   "cell_type": "markdown",
   "metadata": {},
   "source": [
    "Writing to a JSON"
   ]
  },
  {
   "cell_type": "code",
   "execution_count": 4,
   "metadata": {},
   "outputs": [],
   "source": [
    "import json\n",
    "\n",
    "# create a dictionary\n",
    "data = {\"name\": \"John\", \"age\": 30, \"city\": \"New York\"}\n",
    "\n",
    "# open a file for writing\n",
    "with open(\"data.json\", \"w\") as f:\n",
    "    # write the dictionary to the file in JSON format\n",
    "    json.dump(data, f)\n"
   ]
  },
  {
   "attachments": {},
   "cell_type": "markdown",
   "metadata": {},
   "source": [
    "Reading & Overwriting"
   ]
  },
  {
   "cell_type": "code",
   "execution_count": 5,
   "metadata": {},
   "outputs": [
    {
     "name": "stdout",
     "output_type": "stream",
     "text": [
      "{'name': 'John', 'age': 30, 'city': 'New York'}\n"
     ]
    }
   ],
   "source": [
    "import json\n",
    "\n",
    "# Reading a JSON file\n",
    "with open('data.json', 'r') as file:\n",
    "    data = json.load(file)\n",
    "    print(data)\n",
    "\n",
    "# Writing to a JSON file\n",
    "data = {\n",
    "    'Name': 'John',\n",
    "    'Age': 25,\n",
    "    'Country': 'USA'\n",
    "}\n",
    "\n",
    "with open('data.json', 'w') as file:\n",
    "    json.dump(data, file)\n"
   ]
  },
  {
   "attachments": {},
   "cell_type": "markdown",
   "metadata": {},
   "source": [
    "Appending"
   ]
  },
  {
   "cell_type": "code",
   "execution_count": 6,
   "metadata": {},
   "outputs": [],
   "source": [
    "import json\n",
    "\n",
    "# open the file for reading and writing\n",
    "with open(\"data.json\", \"r+\") as f:\n",
    "    # load the existing data from the file\n",
    "    existing_data = json.load(f)\n",
    "\n",
    "    # add some new data to the dictionary\n",
    "    existing_data[\"email\"] = \"john@example.com\"\n",
    "    existing_data[\"phone\"] = \"555-1234\"\n",
    "\n",
    "    # move the file pointer back to the beginning of the file\n",
    "    f.seek(0)\n",
    "\n",
    "    # write the updated dictionary back to the file\n",
    "    json.dump(existing_data, f)\n",
    "\n",
    "    # truncate the file to remove any remaining data\n",
    "    f.truncate()\n"
   ]
  },
  {
   "attachments": {},
   "cell_type": "markdown",
   "metadata": {},
   "source": [
    "Adding New Data"
   ]
  },
  {
   "cell_type": "code",
   "execution_count": 8,
   "metadata": {},
   "outputs": [],
   "source": [
    "import json\n",
    "\n",
    "# create a new dictionary with some data to append\n",
    "new_data = {\"name\": \"Jane\", \"age\": 25, \"city\": \"Chicago\"}\n",
    "\n",
    "# open the file for reading and writing\n",
    "with open(\"data.json\", \"r+\") as f:\n",
    "    # load the existing data from the file\n",
    "    existing_data = json.load(f)\n",
    "\n",
    "    # check if the existing data is a list; if not, create one\n",
    "    if not isinstance(existing_data, list):\n",
    "        existing_data = [existing_data]\n",
    "\n",
    "    # append the new data to the existing list\n",
    "    existing_data.append(new_data)\n",
    "\n",
    "    # move the file pointer back to the beginning of the file\n",
    "    f.seek(0)\n",
    "\n",
    "    # write the updated list back to the file\n",
    "    json.dump(existing_data, f)\n",
    "\n",
    "    # truncate the file to remove any remaining data\n",
    "    f.truncate()\n"
   ]
  },
  {
   "cell_type": "code",
   "execution_count": null,
   "metadata": {},
   "outputs": [],
   "source": []
  }
 ],
 "metadata": {
  "kernelspec": {
   "display_name": "Python 3",
   "language": "python",
   "name": "python3"
  },
  "language_info": {
   "codemirror_mode": {
    "name": "ipython",
    "version": 3
   },
   "file_extension": ".py",
   "mimetype": "text/x-python",
   "name": "python",
   "nbconvert_exporter": "python",
   "pygments_lexer": "ipython3",
   "version": "3.10.8"
  },
  "orig_nbformat": 4
 },
 "nbformat": 4,
 "nbformat_minor": 2
}
