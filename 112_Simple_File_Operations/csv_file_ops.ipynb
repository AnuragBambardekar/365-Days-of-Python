{
 "cells": [
  {
   "attachments": {},
   "cell_type": "markdown",
   "metadata": {},
   "source": [
    "# CSV - Comma Separated Value - Operations"
   ]
  },
  {
   "attachments": {},
   "cell_type": "markdown",
   "metadata": {},
   "source": [
    "Writing to a CSV file"
   ]
  },
  {
   "cell_type": "code",
   "execution_count": 2,
   "metadata": {},
   "outputs": [
    {
     "name": "stdout",
     "output_type": "stream",
     "text": [
      "['Name', 'Age', 'Country']\n",
      "['John', '25', 'USA']\n",
      "['Jane', '30', 'Canada']\n"
     ]
    }
   ],
   "source": [
    "import csv\n",
    "\n",
    "# Reading a CSV file\n",
    "with open('example.csv', 'r') as file:\n",
    "    reader = csv.reader(file)\n",
    "    for row in reader:\n",
    "        print(row)\n",
    "\n",
    "# Writing to a CSV file\n",
    "with open('example.csv', 'w', newline='') as file:\n",
    "    writer = csv.writer(file)\n",
    "    writer.writerow(['Name', 'Age', 'Country'])\n",
    "    writer.writerow(['John', 25, 'USA'])\n",
    "    writer.writerow(['Jane', 30, 'Canada'])\n",
    "\n"
   ]
  },
  {
   "attachments": {},
   "cell_type": "markdown",
   "metadata": {},
   "source": [
    "Reading CSV and writing it to a dictionary\n"
   ]
  },
  {
   "cell_type": "code",
   "execution_count": 3,
   "metadata": {},
   "outputs": [
    {
     "name": "stdout",
     "output_type": "stream",
     "text": [
      "{'Name': 'John', 'Age': '25', 'Country': 'USA'}\n",
      "{'Name': 'Jane', 'Age': '30', 'Country': 'Canada'}\n"
     ]
    }
   ],
   "source": [
    "import csv\n",
    "\n",
    "with open('example.csv', 'r') as file:\n",
    "    reader = csv.DictReader(file)\n",
    "    for row in reader:\n",
    "        print(row)\n",
    "\n"
   ]
  },
  {
   "attachments": {},
   "cell_type": "markdown",
   "metadata": {},
   "source": [
    "Writing dictionary to a CSV\n"
   ]
  },
  {
   "cell_type": "code",
   "execution_count": 4,
   "metadata": {},
   "outputs": [],
   "source": [
    "import csv\n",
    "\n",
    "data = [{'Name': 'John', 'Age': 25, 'Country': 'USA'},\n",
    "        {'Name': 'Joe', 'Age': 30, 'Country': 'Canada'}]\n",
    "\n",
    "with open('example2.csv', 'w', newline='') as file:\n",
    "    fieldnames = ['Name', 'Age', 'Country']\n",
    "    writer = csv.DictWriter(file, fieldnames=fieldnames)\n",
    "    writer.writeheader()\n",
    "    for row in data:\n",
    "        writer.writerow(row)\n",
    "\n"
   ]
  },
  {
   "attachments": {},
   "cell_type": "markdown",
   "metadata": {},
   "source": [
    "Writing to CSV with a different delimiter\n"
   ]
  },
  {
   "cell_type": "code",
   "execution_count": 5,
   "metadata": {},
   "outputs": [],
   "source": [
    "import csv\n",
    "\n",
    "with open('example3_semicolon.csv', 'w', newline='') as file:\n",
    "    writer = csv.writer(file, delimiter=';')\n",
    "    writer.writerow(['Name', 'Age', 'Country'])\n",
    "    writer.writerow(['John', 25, 'USA'])\n",
    "    writer.writerow(['Jane', 30, 'Canada'])\n",
    "\n"
   ]
  },
  {
   "cell_type": "code",
   "execution_count": 6,
   "metadata": {},
   "outputs": [
    {
     "name": "stdout",
     "output_type": "stream",
     "text": [
      "['Name', 'Age', 'Country']\n",
      "['John', '25', 'USA']\n",
      "['Jane', '30', 'Canada']\n"
     ]
    }
   ],
   "source": [
    "import csv\n",
    "\n",
    "with open('example3_semicolon.csv', 'r') as file:\n",
    "    reader = csv.reader(file, delimiter=';')\n",
    "    for row in reader:\n",
    "        print(row)"
   ]
  },
  {
   "cell_type": "code",
   "execution_count": null,
   "metadata": {},
   "outputs": [],
   "source": []
  }
 ],
 "metadata": {
  "kernelspec": {
   "display_name": "Python 3",
   "language": "python",
   "name": "python3"
  },
  "language_info": {
   "codemirror_mode": {
    "name": "ipython",
    "version": 3
   },
   "file_extension": ".py",
   "mimetype": "text/x-python",
   "name": "python",
   "nbconvert_exporter": "python",
   "pygments_lexer": "ipython3",
   "version": "3.10.8"
  },
  "orig_nbformat": 4
 },
 "nbformat": 4,
 "nbformat_minor": 2
}
