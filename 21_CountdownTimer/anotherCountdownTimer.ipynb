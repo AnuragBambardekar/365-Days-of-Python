{
 "cells": [
  {
   "cell_type": "code",
   "execution_count": 21,
   "metadata": {},
   "outputs": [],
   "source": [
    "import threading\n",
    "import time\n",
    "import tkinter as tk\n",
    "from win10toast import ToastNotifier #pip install win10toast\n",
    "from playsound import playsound #pip install playsound\n",
    "from pygame import mixer\n",
    "import concurrent.futures\n",
    "\n",
    "mixer.init()\n",
    "mixer.music.load(\"alarm.mp3\")"
   ]
  },
  {
   "cell_type": "code",
   "execution_count": 67,
   "metadata": {},
   "outputs": [],
   "source": [
    "class CountdownTimer:\n",
    "\n",
    "    def __init__(self):\n",
    "        self.root = tk.Tk()\n",
    "        self.root.geometry(\"460x260\")\n",
    "        self.root.configure(background=\"green\", cursor=\"dot blue\")\n",
    "        self.root.title(\"Countdown Timer\")\n",
    "\n",
    "        self.time_entry = tk.Entry(self.root, font=(\"Candara\", 30), background=\"black\", foreground=\"green\", insertbackground=\"red\")\n",
    "        self.time_entry.grid(row=0, column=0, columnspan=2, padx=5, pady=5)\n",
    "\n",
    "        self.start_button = tk.Button(self.root, font=(\"Candara\", 30), text=\"Start\", background=\"black\", foreground=\"green\", command=self.start_thread)\n",
    "        # why thread?, or else it will block the UI, stop the counter when moving the GUI\n",
    "        self.start_button.grid(row=1, column=0, padx=5, pady=5)\n",
    "\n",
    "        self.stop_button = tk.Button(self.root, font=(\"Candara\", 30), text=\"Stop\", background=\"black\", foreground=\"green\", command=self.stop)\n",
    "        self.stop_button.grid(row=1, column=1, padx=5, pady=5)\n",
    "\n",
    "        self.clear_Text = tk.Button(self.root, font=(\"Candara\", 30), text=\"Reset\", background=\"black\", foreground=\"green\", command=lambda: self.time_entry.delete(0,tk.END))\n",
    "        self.clear_Text.grid(row=2, column=0, padx=5, pady=5)\n",
    "\n",
    "        self.time_label = tk.Label(self.root, font=(\"Candara\", 30), text=\"Time: 00:00:00\", background=\"black\", foreground=\"green\")\n",
    "        self.time_label.grid(row=2, column=1, columnspan=2, padx=5, pady=5)\n",
    "\n",
    "        self.stop_loop = False\n",
    "\n",
    "        self.root.mainloop()\n",
    "    \n",
    "    def start_thread(self):\n",
    "        t = threading.Thread(target=self.start)\n",
    "        t.start()\n",
    "\n",
    "    def start(self):\n",
    "        self.stop_loop = False\n",
    "\n",
    "        hours, minutes, seconds = 0,0,0\n",
    "        string_split = self.time_entry.get().split(\":\")\n",
    "        if len(string_split) == 3:\n",
    "            hours = int(string_split[0])\n",
    "            minutes = int(string_split[1])\n",
    "            seconds = int(string_split[2])\n",
    "\n",
    "        elif len(string_split) == 2:\n",
    "            minutes = int(string_split[0])\n",
    "            seconds = int(string_split[1])\n",
    "\n",
    "        elif len(string_split) == 1:\n",
    "            seconds = int(string_split[0])\n",
    "        \n",
    "        else:\n",
    "            print(\"Invalid Time format!\")\n",
    "            return\n",
    "\n",
    "        full_seconds = hours * 3600 + minutes * 60 + seconds\n",
    "\n",
    "        while full_seconds > 0 and not self.stop_loop:\n",
    "            full_seconds -= 1\n",
    "\n",
    "            minutes, seconds = divmod(full_seconds, 60)\n",
    "            hours, minutes = divmod(minutes, 60)\n",
    "\n",
    "            self.time_label.config(text=f\"Time: {hours:02d}:{minutes:02d}:{seconds:02d}\")\n",
    "            self.root.update()\n",
    "            time.sleep(1)\n",
    "\n",
    "        if not self.stop_loop:\n",
    "            def notify():\n",
    "                toast = ToastNotifier()\n",
    "                toast.show_toast(\"CountdownTimer\", \"Time is up!\", duration=10)\n",
    "\n",
    "            #play sound\n",
    "            def sound():\n",
    "                #playsound(\"alarm.mp3\")\n",
    "                mixer.music.play()\n",
    "\n",
    "            with concurrent.futures.ThreadPoolExecutor() as executor:\n",
    "                f1 = executor.submit(notify)\n",
    "                f2 = executor.submit(sound)\n",
    "            \n",
    "            \n",
    "\n",
    "    def stop(self):\n",
    "        self.stop_loop = True\n",
    "        self.time_label.config(text=\"Time: 00:00:00\")\n",
    "        self.time_entry.delete(0,tk.END)\n",
    "        mixer.music.stop()\n",
    "\n"
   ]
  },
  {
   "cell_type": "code",
   "execution_count": 69,
   "metadata": {},
   "outputs": [
    {
     "data": {
      "text/plain": [
       "<__main__.CountdownTimer at 0x23006e1de70>"
      ]
     },
     "execution_count": 69,
     "metadata": {},
     "output_type": "execute_result"
    }
   ],
   "source": [
    "CountdownTimer()"
   ]
  }
 ],
 "metadata": {
  "kernelspec": {
   "display_name": "Python 3",
   "language": "python",
   "name": "python3"
  },
  "language_info": {
   "codemirror_mode": {
    "name": "ipython",
    "version": 3
   },
   "file_extension": ".py",
   "mimetype": "text/x-python",
   "name": "python",
   "nbconvert_exporter": "python",
   "pygments_lexer": "ipython3",
   "version": "3.10.7"
  },
  "orig_nbformat": 4,
  "vscode": {
   "interpreter": {
    "hash": "fbfacf25abbc4466cbf6a4ec94f71aa428570133f008ac9f4c86deb26a69bb88"
   }
  }
 },
 "nbformat": 4,
 "nbformat_minor": 2
}
