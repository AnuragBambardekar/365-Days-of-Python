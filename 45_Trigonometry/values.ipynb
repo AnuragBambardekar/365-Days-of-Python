{
 "cells": [
  {
   "attachments": {},
   "cell_type": "markdown",
   "metadata": {},
   "source": [
    "# Trigonometric Functions of Common Angles"
   ]
  },
  {
   "cell_type": "code",
   "execution_count": 15,
   "metadata": {},
   "outputs": [
    {
     "name": "stdout",
     "output_type": "stream",
     "text": [
      "Angle α \tSin α\tCos α\tTan α\n",
      "0\t\t0.00\t1.00\t0.00\n",
      "45\t\t0.71\t0.71\t1.00\n",
      "60\t\t0.87\t0.50\t1.73\n",
      "90\t\t1.00\t0.00\t16331239353195370.00\n",
      "120\t\t0.87\t-0.50\t-1.73\n",
      "180\t\t0.00\t-1.00\t-0.00\n",
      "270\t\t-1.00\t-0.00\t5443746451065123.00\n",
      "360\t\t-0.00\t1.00\t-0.00\n"
     ]
    }
   ],
   "source": [
    "import numpy as np\n",
    "\n",
    "angles = [0, 45, 60, 90, 120, 180, 270, 360]\n",
    "angle_values = [angle * np.pi / 180 for angle in angles]\n",
    "\n",
    "sine_values = np.sin(angle_values)\n",
    "cosine_values = np.cos(angle_values)\n",
    "tangent_values = np.tan(angle_values)\n",
    "\n",
    "print('Angle α \\tSin α\\tCos α\\tTan α')\n",
    "for i in range(len(angles)):\n",
    "    print('{}\\t\\t{:.2f}\\t{:.2f}\\t{:.2f}'.format(angles[i], sine_values[i], cosine_values[i], tangent_values[i])) #{:.2f} to truncate the tan results\n"
   ]
  },
  {
   "cell_type": "code",
   "execution_count": 22,
   "metadata": {},
   "outputs": [
    {
     "name": "stdout",
     "output_type": "stream",
     "text": [
      "Angle (in Degrees) \tSin\n",
      "0°\t\t\t0\n",
      "30°\t\t\t0.50\n",
      "45°\t\t\t0.71\n",
      "60°\t\t\t0.87\n",
      "90°\t\t\t1.0\n",
      "180°\t\t\t0\n",
      "270°\t\t\t-1.0\n",
      "360°\t\t\t0\n"
     ]
    }
   ],
   "source": [
    "import sympy as sp\n",
    "\n",
    "angles = [0, 30, 45, 60, 90, 180, 270, 360]\n",
    "\n",
    "print('Angle (in Degrees) \\tSin')\n",
    "for angle in angles:\n",
    "    sin_value = sp.sin(sp.pi * angle / 180)\n",
    "    cos_value = sp.sin(sp.pi * angle / 180)\n",
    "    fraction_sin_value = sp.N(sin_value, n=2)\n",
    "    print(f'{angle}°\\t\\t\\t{fraction_sin_value}')\n"
   ]
  },
  {
   "cell_type": "code",
   "execution_count": 53,
   "metadata": {},
   "outputs": [
    {
     "name": "stdout",
     "output_type": "stream",
     "text": [
      "Angle (in Degrees) \t sin \t cos \t tan \t csc \t sec \t cot\n",
      "0°\t\t\t 0\t 1.0\t 0\t oo\t 1.0\t oo\n",
      "30°\t\t\t 0.50\t 0.87\t 0.58\t 2.0\t 1.2\t 1.7\n",
      "45°\t\t\t 0.71\t 0.71\t 1.0\t 1.4\t 1.4\t 1.0\n",
      "60°\t\t\t 0.87\t 0.50\t 1.7\t 1.2\t 2.0\t 0.58\n",
      "90°\t\t\t 1.0\t 0\t oo\t 1.0\t oo\t 0\n",
      "180°\t\t\t 0\t -1.0\t 0\t oo\t -1.0\t oo\n",
      "270°\t\t\t -1.0\t 0\t oo\t -1.0\t oo\t 0\n",
      "360°\t\t\t 0\t 1.0\t 0\t oo\t 1.0\t oo\n"
     ]
    }
   ],
   "source": [
    "from sympy.interactive import printing\n",
    "printing.init_printing(use_latex = True)\n",
    "import sympy as sp\n",
    "\n",
    "angles = [0, 30, 45, 60, 90, 180, 270, 360]\n",
    "\n",
    "print('Angle (in Degrees) \\t',sp.sin,'\\t',sp.cos,'\\t',sp.tan,'\\t',sp.csc,'\\t',sp.sec,'\\t',sp.cot)\n",
    "for angle in angles:\n",
    "    sin_value = sp.sin(sp.pi * angle / 180)\n",
    "    cos_value = sp.cos(sp.pi * angle / 180)\n",
    "    tan_value = sp.tan(sp.pi * angle / 180)\n",
    "    cosec_value = 1 / sin_value\n",
    "    sec_value = 1 / cos_value\n",
    "    cotan_value = 1 / tan_value\n",
    "    \n",
    "    fraction_sin_value = sp.N(sin_value, n=2)\n",
    "    fraction_cos_value = sp.N(cos_value, n=2)\n",
    "    fraction_tan_value = sp.N(tan_value, n=2)\n",
    "    fraction_cosec_value = sp.N(cosec_value, n=2)\n",
    "    fraction_sec_value = sp.N(sec_value, n=2)\n",
    "    fraction_cotan_value = sp.N(cotan_value, n=2)\n",
    "\n",
    "    if (type(fraction_tan_value) == (sp.core.numbers.ComplexInfinity)):\n",
    "        fraction_tan_value = sp.oo\n",
    "    if (type(fraction_cosec_value) == (sp.core.numbers.ComplexInfinity)):\n",
    "        fraction_cosec_value = sp.oo\n",
    "    if (type(fraction_sec_value) == (sp.core.numbers.ComplexInfinity)):\n",
    "        fraction_sec_value = sp.oo\n",
    "    if (type(fraction_cotan_value) == (sp.core.numbers.ComplexInfinity)):\n",
    "        fraction_cotan_value = sp.oo\n",
    "    \n",
    "    print(f'{angle}°\\t\\t\\t {fraction_sin_value}\\t {fraction_cos_value}\\t {fraction_tan_value}\\t {fraction_cosec_value}\\t {fraction_sec_value}\\t {fraction_cotan_value}')\n",
    "\n",
    "    \n"
   ]
  },
  {
   "cell_type": "code",
   "execution_count": 94,
   "metadata": {},
   "outputs": [
    {
     "data": {
      "image/png": "[encoded data removed]",
      "text/latex": [
       "$\\displaystyle \\sin{\\left(0 \\right)} = 0$"
      ],
      "text/plain": [
       "sin(0) = 0"
      ]
     },
     "metadata": {},
     "output_type": "display_data"
    },
    {
     "data": {
      "image/png": "[encoded data removed]",
      "text/latex": [
       "$\\displaystyle \\sin{\\left(30 \\right)} = 0.5$"
      ],
      "text/plain": [
       "sin(30) = 0.5"
      ]
     },
     "metadata": {},
     "output_type": "display_data"
    },
    {
     "data": {
      "image/png": "[encoded data removed]",
      "text/latex": [
       "$\\displaystyle \\sin{\\left(45 \\right)} = 0.71$"
      ],
      "text/plain": [
       "sin(45) = 0.71"
      ]
     },
     "metadata": {},
     "output_type": "display_data"
    },
    {
     "data": {
      "image/png": "[encoded data removed]",
      "text/latex": [
       "$\\displaystyle \\sin{\\left(60 \\right)} = 0.87$"
      ],
      "text/plain": [
       "sin(60) = 0.87"
      ]
     },
     "metadata": {},
     "output_type": "display_data"
    },
    {
     "data": {
      "image/png": "[encoded data removed]",
      "text/latex": [
       "$\\displaystyle \\sin{\\left(90 \\right)} = 1.0$"
      ],
      "text/plain": [
       "sin(90) = 1.0"
      ]
     },
     "metadata": {},
     "output_type": "display_data"
    },
    {
     "data": {
      "image/png": "[encoded data removed]",
      "text/latex": [
       "$\\displaystyle \\sin{\\left(180 \\right)} = 0$"
      ],
      "text/plain": [
       "sin(180) = 0"
      ]
     },
     "metadata": {},
     "output_type": "display_data"
    },
    {
     "data": {
      "image/png": "[encoded data removed]",
      "text/latex": [
       "$\\displaystyle \\sin{\\left(270 \\right)} = -1.0$"
      ],
      "text/plain": [
       "sin(270) = -1.0"
      ]
     },
     "metadata": {},
     "output_type": "display_data"
    },
    {
     "data": {
      "image/png": "[encoded data removed]",
      "text/latex": [
       "$\\displaystyle \\sin{\\left(360 \\right)} = 0$"
      ],
      "text/plain": [
       "sin(360) = 0"
      ]
     },
     "metadata": {},
     "output_type": "display_data"
    }
   ],
   "source": [
    "from sympy.interactive import printing\n",
    "printing.init_printing(use_latex = True)\n",
    "import sympy as sp\n",
    "\n",
    "angles = [0, 30, 45, 60, 90, 180, 270, 360]\n",
    "\n",
    "\n",
    "for angle in angles:\n",
    "    sin_value = sp.sin(sp.pi * angle / 180)\n",
    "    cos_value = sp.cos(sp.pi * angle / 180)\n",
    "    tan_value = sp.tan(sp.pi * angle / 180)\n",
    "    cosec_value = 1 / sin_value\n",
    "    sec_value = 1 / cos_value\n",
    "    cotan_value = 1 / tan_value\n",
    "    \n",
    "    fraction_sin_value = sp.N(sin_value, n=2)\n",
    "    fraction_cos_value = sp.N(cos_value, n=2)\n",
    "    fraction_tan_value = sp.N(tan_value, n=2)\n",
    "    fraction_cosec_value = sp.N(cosec_value, n=2)\n",
    "    fraction_sec_value = sp.N(sec_value, n=2)\n",
    "    fraction_cotan_value = sp.N(cotan_value, n=2)\n",
    "\n",
    "    if (type(fraction_tan_value) == (sp.core.numbers.ComplexInfinity)):\n",
    "        fraction_tan_value = sp.oo\n",
    "    if (type(fraction_cosec_value) == (sp.core.numbers.ComplexInfinity)):\n",
    "        fraction_cosec_value = sp.oo\n",
    "    if (type(fraction_sec_value) == (sp.core.numbers.ComplexInfinity)):\n",
    "        fraction_sec_value = sp.oo\n",
    "    if (type(fraction_cotan_value) == (sp.core.numbers.ComplexInfinity)):\n",
    "        fraction_cotan_value = sp.oo\n",
    "\n",
    "    # display(sp.sin,sp.cos,sp.tan,sp.csc,sp.sec,sp.cot)    \n",
    "    # display(angle, fraction_sin_value, fraction_cos_value, fraction_tan_value, fraction_cosec_value, fraction_sec_value, fraction_cotan_value)\n",
    "\n",
    "    a = sp.symbols(str(angle))\n",
    "    lhs_expr=sp.sin(a)\n",
    "    # display(lhs_expr)\n",
    "\n",
    "    expression = sp.Eq(lhs_expr, fraction_sin_value)\n",
    "    display(expression)"
   ]
  }
 ],
 "metadata": {
  "kernelspec": {
   "display_name": "Python 3",
   "language": "python",
   "name": "python3"
  },
  "language_info": {
   "name": "python",
   "version": "3.10.7"
  },
  "orig_nbformat": 4,
  "vscode": {
   "interpreter": {
    "hash": "fbfacf25abbc4466cbf6a4ec94f71aa428570133f008ac9f4c86deb26a69bb88"
   }
  }
 },
 "nbformat": 4,
 "nbformat_minor": 2
}
