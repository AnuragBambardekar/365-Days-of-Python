{
 "cells": [
  {
   "cell_type": "markdown",
   "metadata": {},
   "source": [
    "# Local vs Global"
   ]
  },
  {
   "cell_type": "code",
   "execution_count": 1,
   "metadata": {},
   "outputs": [
    {
     "name": "stdout",
     "output_type": "stream",
     "text": [
      "0\n",
      "4\n",
      "0\n"
     ]
    }
   ],
   "source": [
    "x = 0\n",
    "\n",
    "def foo():\n",
    "    x=4 # if commented, then x is printed as 0\n",
    "    print(x) # 4 --> Local scope\n",
    "\n",
    "print(x) # 0 --> Global scope\n",
    "foo()\n",
    "print(x) # 0 --> Global scope"
   ]
  },
  {
   "cell_type": "code",
   "execution_count": 1,
   "metadata": {},
   "outputs": [
    {
     "name": "stdout",
     "output_type": "stream",
     "text": [
      "0\n",
      "7\n",
      "2\n",
      "0\n"
     ]
    }
   ],
   "source": [
    "x = 0\n",
    "\n",
    "def foo():\n",
    "    x=2\n",
    "    def bar():\n",
    "        x=7\n",
    "        print(x)\n",
    "    bar()\n",
    "    print(x)\n",
    "\n",
    "print(x) # 0 --> Global scope\n",
    "foo()\n",
    "print(x) # 0 --> Global scope"
   ]
  },
  {
   "cell_type": "code",
   "execution_count": 2,
   "metadata": {},
   "outputs": [
    {
     "name": "stdout",
     "output_type": "stream",
     "text": [
      "0\n",
      "2\n",
      "2\n",
      "0\n"
     ]
    }
   ],
   "source": [
    "x = 0\n",
    "\n",
    "def foo():\n",
    "    x=2\n",
    "    def bar():\n",
    "        print(x)\n",
    "    bar()\n",
    "    print(x)\n",
    "\n",
    "print(x) # 0 --> Global scope\n",
    "foo()\n",
    "print(x) # 0 --> Global scope"
   ]
  },
  {
   "cell_type": "markdown",
   "metadata": {},
   "source": [
    "## global keyword"
   ]
  },
  {
   "cell_type": "code",
   "execution_count": 3,
   "metadata": {},
   "outputs": [
    {
     "name": "stdout",
     "output_type": "stream",
     "text": [
      "0\n",
      "2\n",
      "2\n",
      "2\n"
     ]
    }
   ],
   "source": [
    "x = 0\n",
    "\n",
    "def foo():\n",
    "    global x\n",
    "    x=2\n",
    "    def bar():\n",
    "        print(x)\n",
    "    bar()\n",
    "    print(x)\n",
    "\n",
    "print(x) # 0 --> Global scope\n",
    "foo()\n",
    "print(x) # 2 --> New Global scope"
   ]
  },
  {
   "cell_type": "code",
   "execution_count": 4,
   "metadata": {},
   "outputs": [
    {
     "name": "stdout",
     "output_type": "stream",
     "text": [
      "0\n",
      "7\n",
      "2\n",
      "2\n"
     ]
    }
   ],
   "source": [
    "x = 0\n",
    "\n",
    "def foo():\n",
    "    global x\n",
    "    x=2\n",
    "    def bar():\n",
    "        x = 7\n",
    "        print(x)\n",
    "    bar()\n",
    "    print(x)\n",
    "\n",
    "print(x) # 0 --> Global scope\n",
    "foo()\n",
    "print(x) # 2 --> New Global scope"
   ]
  },
  {
   "cell_type": "code",
   "execution_count": 5,
   "metadata": {},
   "outputs": [
    {
     "name": "stdout",
     "output_type": "stream",
     "text": [
      "0\n",
      "7\n",
      "7\n",
      "7\n"
     ]
    }
   ],
   "source": [
    "x = 0\n",
    "\n",
    "def foo():\n",
    "    global x\n",
    "    x=2\n",
    "    def bar():\n",
    "        global x\n",
    "        x = 7\n",
    "        print(x)\n",
    "    bar()\n",
    "    print(x)\n",
    "\n",
    "print(x) # 0 --> Global scope\n",
    "foo()\n",
    "print(x) # 2 --> New Global scope"
   ]
  },
  {
   "cell_type": "code",
   "execution_count": 7,
   "metadata": {},
   "outputs": [
    {
     "name": "stdout",
     "output_type": "stream",
     "text": [
      "13\n"
     ]
    }
   ],
   "source": [
    "def add_7(x):\n",
    "    global result\n",
    "    result = x+7\n",
    "\n",
    "result = 65\n",
    "add_7(6)\n",
    "print(result)"
   ]
  },
  {
   "cell_type": "markdown",
   "metadata": {},
   "source": [
    "**global** keyword is used to indicate that a variable declared inside a function should refer to a global variable with the same name, rather than creating a new local variable within the function's scope. While using global can be useful in certain situations, it's generally considered a good practice to avoid it whenever possible due to several reasons:\n",
    "\n",
    "- Readability and Maintainability: When you use global variables, it becomes harder to understand and maintain your code. It's not immediately clear where a variable is defined or modified, which can lead to confusion and errors, especially in larger codebases.\n",
    "\n",
    "- Scope Confusion: Using global variables can lead to scope-related issues. If a variable is modified unexpectedly somewhere else in the code, it can introduce bugs that are difficult to trace.\n",
    "\n",
    "- Encapsulation: One of the principles of good software design is encapsulation, which means that the internal workings of a function or module should be hidden as much as possible. Using global variables breaks encapsulation and can lead to tightly coupled code."
   ]
  },
  {
   "cell_type": "markdown",
   "metadata": {},
   "source": [
    "However, there are scenarios where using global variables might be beneficial:\n",
    "\n",
    "- Constants: If you have values that truly should remain constant throughout your program, using global variables for them can be reasonable.\n",
    "\n",
    "- Configuration: Storing global configuration settings that don't change during runtime can make sense.\n",
    "\n",
    "- Caching: In some cases, using global variables for caching purposes might lead to performance improvements.\n",
    "\n",
    "- Sharing State: If you have a well-defined, controlled context where sharing state using global variables is safe and makes the code more readable, it could be considered."
   ]
  }
 ],
 "metadata": {
  "kernelspec": {
   "display_name": "Python 3",
   "language": "python",
   "name": "python3"
  },
  "language_info": {
   "codemirror_mode": {
    "name": "ipython",
    "version": 3
   },
   "file_extension": ".py",
   "mimetype": "text/x-python",
   "name": "python",
   "nbconvert_exporter": "python",
   "pygments_lexer": "ipython3",
   "version": "3.10.8"
  },
  "orig_nbformat": 4
 },
 "nbformat": 4,
 "nbformat_minor": 2
}
