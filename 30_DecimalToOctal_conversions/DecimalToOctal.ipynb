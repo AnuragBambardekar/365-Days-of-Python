{
 "cells": [
  {
   "attachments": {},
   "cell_type": "markdown",
   "metadata": {},
   "source": [
    "# Converting from Base 10 to Base 8 [Decimal to Binary]"
   ]
  },
  {
   "cell_type": "code",
   "execution_count": 4,
   "metadata": {},
   "outputs": [
    {
     "name": "stdout",
     "output_type": "stream",
     "text": [
      "10\n"
     ]
    }
   ],
   "source": [
    "def decimal_to_octal(decimal):\n",
    "    return oct(decimal)[2:]\n",
    "\n",
    "decimal_number = 8\n",
    "octal_number = decimal_to_octal(decimal_number)\n",
    "print(octal_number)"
   ]
  },
  {
   "cell_type": "code",
   "execution_count": 13,
   "metadata": {},
   "outputs": [
    {
     "name": "stdout",
     "output_type": "stream",
     "text": [
      "10\n"
     ]
    }
   ],
   "source": [
    "decimal_number = -8\n",
    "octal_number = decimal_to_octal(decimal_number)\n",
    "print(octal_number[1:])"
   ]
  },
  {
   "attachments": {},
   "cell_type": "markdown",
   "metadata": {},
   "source": [
    "Without using oct() [I know the code can be structured better, will work on improving it later, but for now it gets the job done.]"
   ]
  },
  {
   "cell_type": "code",
   "execution_count": 24,
   "metadata": {},
   "outputs": [
    {
     "name": "stdout",
     "output_type": "stream",
     "text": [
      "-12\n"
     ]
    }
   ],
   "source": [
    "decimal_number = -10\n",
    "octal_number = \"\"\n",
    "\n",
    "#For negative decimals\n",
    "if decimal_number < 0:\n",
    "    decimal_number = abs(decimal_number)\n",
    "    while decimal_number > 0:\n",
    "        octal_number = octal_number + str(decimal_number % 8) \n",
    "        decimal_number = decimal_number // 8\n",
    "\n",
    "    octal_number = octal_number[::-1]\n",
    "    octal_number = int(octal_number)\n",
    "    octal_number = -octal_number\n",
    "    print(octal_number)\n",
    "\n",
    "# For positive decimals\n",
    "elif decimal_number >= 0:\n",
    "    while decimal_number >= 0:\n",
    "        octal_number = octal_number + str(decimal_number % 8) \n",
    "        decimal_number = decimal_number // 8\n",
    "    octal_number = octal_number[::-1]\n",
    "    print(octal_number)\n"
   ]
  }
 ],
 "metadata": {
  "kernelspec": {
   "display_name": "Python 3",
   "language": "python",
   "name": "python3"
  },
  "language_info": {
   "codemirror_mode": {
    "name": "ipython",
    "version": 3
   },
   "file_extension": ".py",
   "mimetype": "text/x-python",
   "name": "python",
   "nbconvert_exporter": "python",
   "pygments_lexer": "ipython3",
   "version": "3.10.7 (tags/v3.10.7:6cc6b13, Sep  5 2022, 14:08:36) [MSC v.1933 64 bit (AMD64)]"
  },
  "orig_nbformat": 4,
  "vscode": {
   "interpreter": {
    "hash": "fbfacf25abbc4466cbf6a4ec94f71aa428570133f008ac9f4c86deb26a69bb88"
   }
  }
 },
 "nbformat": 4,
 "nbformat_minor": 2
}
