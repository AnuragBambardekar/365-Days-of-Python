{
 "cells": [
  {
   "attachments": {},
   "cell_type": "markdown",
   "metadata": {},
   "source": [
    "# Base 8 to Base 10 [Octal to Decimal]"
   ]
  },
  {
   "cell_type": "code",
   "execution_count": 4,
   "metadata": {},
   "outputs": [
    {
     "name": "stdout",
     "output_type": "stream",
     "text": [
      "10\n"
     ]
    }
   ],
   "source": [
    "def octal_to_decimal(octal):\n",
    "    return int(octal, 8)\n",
    "\n",
    "octal_number = '12'\n",
    "decimal_number = octal_to_decimal(octal_number)\n",
    "print(decimal_number)"
   ]
  },
  {
   "cell_type": "code",
   "execution_count": 5,
   "metadata": {},
   "outputs": [
    {
     "name": "stdout",
     "output_type": "stream",
     "text": [
      "-10\n"
     ]
    }
   ],
   "source": [
    "octal_number = '-12'\n",
    "decimal_number = octal_to_decimal(octal_number)\n",
    "print(decimal_number)"
   ]
  },
  {
   "attachments": {},
   "cell_type": "markdown",
   "metadata": {},
   "source": [
    "Without using the in-built function"
   ]
  },
  {
   "cell_type": "code",
   "execution_count": 2,
   "metadata": {},
   "outputs": [
    {
     "name": "stdout",
     "output_type": "stream",
     "text": [
      "Negative Octal Representation\n",
      "-17\n"
     ]
    }
   ],
   "source": [
    "octal_num = \"-19\"\n",
    "decimal_num = 0\n",
    "\n",
    "#check whether octal representation is positive or negative\n",
    "if octal_num[0] == '-':\n",
    "    bnum = octal_num[1:]\n",
    "    print(\"Negative Octal Representation\")\n",
    "\n",
    "    for i, digit in enumerate(bnum[::-1]):\n",
    "        if not int(digit) in range(0,10):\n",
    "            print(\"Invalid Octal Number\")\n",
    "            break #break to completely discard the octal to decimal conversion\n",
    "        else:\n",
    "            #decimal_num += int(digit,2) * (2 ** i)\n",
    "            #print(i,digit)\n",
    "            decimal_num = decimal_num +  int(digit) * (8**i)\n",
    "            #print(decimal_num)\n",
    "\n",
    "else:\n",
    "    for i, digit in enumerate(octal_num[::-1]):\n",
    "        if not int(digit) in range(0,10):\n",
    "            print(\"Invalid Octal Number\")\n",
    "            break #break to completely discard the octal to decimal conversion\n",
    "        else:\n",
    "            #decimal_num += int(digit,2) * (2 ** i)\n",
    "            #print(i,digit)\n",
    "            decimal_num = decimal_num +  int(digit) * (8**i)\n",
    "            #print(decimal_num)\n",
    "\n",
    "#it ignores the invalid octal representation and calculates the decimal equivalent of valid binary representations [1 and 0], unless break is in operation\n",
    "#print(binary_num)\n",
    "if(octal_num[0] == '-'):\n",
    "    decimal_num = -decimal_num\n",
    "    print(decimal_num)\n",
    "else:\n",
    "    print(decimal_num)"
   ]
  },
  {
   "attachments": {},
   "cell_type": "markdown",
   "metadata": {},
   "source": [
    "### First 50 Octal Numbers"
   ]
  },
  {
   "cell_type": "code",
   "execution_count": 8,
   "metadata": {},
   "outputs": [
    {
     "name": "stdout",
     "output_type": "stream",
     "text": [
      "0 0\n",
      "1 1\n",
      "2 2\n",
      "3 3\n",
      "4 4\n",
      "5 5\n",
      "6 6\n",
      "7 7\n",
      "8 10\n",
      "9 11\n",
      "10 12\n",
      "11 13\n",
      "12 14\n",
      "13 15\n",
      "14 16\n",
      "15 17\n",
      "16 20\n",
      "17 21\n",
      "18 22\n",
      "19 23\n",
      "20 24\n",
      "21 25\n",
      "22 26\n",
      "23 27\n",
      "24 30\n",
      "25 31\n",
      "26 32\n",
      "27 33\n",
      "28 34\n",
      "29 35\n",
      "30 36\n",
      "31 37\n",
      "32 40\n",
      "33 41\n",
      "34 42\n",
      "35 43\n",
      "36 44\n",
      "37 45\n",
      "38 46\n",
      "39 47\n",
      "40 50\n",
      "41 51\n",
      "42 52\n",
      "43 53\n",
      "44 54\n",
      "45 55\n",
      "46 56\n",
      "47 57\n",
      "48 60\n",
      "49 61\n"
     ]
    }
   ],
   "source": [
    "for i in range(50):\n",
    "    octal_num = oct(i)\n",
    "    print(i,octal_num[2:])"
   ]
  },
  {
   "cell_type": "code",
   "execution_count": null,
   "metadata": {},
   "outputs": [],
   "source": []
  }
 ],
 "metadata": {
  "kernelspec": {
   "display_name": "Python 3",
   "language": "python",
   "name": "python3"
  },
  "language_info": {
   "codemirror_mode": {
    "name": "ipython",
    "version": 3
   },
   "file_extension": ".py",
   "mimetype": "text/x-python",
   "name": "python",
   "nbconvert_exporter": "python",
   "pygments_lexer": "ipython3",
   "version": "3.10.7 (tags/v3.10.7:6cc6b13, Sep  5 2022, 14:08:36) [MSC v.1933 64 bit (AMD64)]"
  },
  "orig_nbformat": 4,
  "vscode": {
   "interpreter": {
    "hash": "fbfacf25abbc4466cbf6a4ec94f71aa428570133f008ac9f4c86deb26a69bb88"
   }
  }
 },
 "nbformat": 4,
 "nbformat_minor": 2
}
