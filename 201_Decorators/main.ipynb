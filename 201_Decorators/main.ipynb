{
 "cells": [
  {
   "cell_type": "markdown",
   "metadata": {},
   "source": [
    "# Decorators"
   ]
  },
  {
   "cell_type": "markdown",
   "metadata": {},
   "source": [
    "A decorator is a function that takes another function and extends the behavior of the latter function without explicitly modifying it."
   ]
  },
  {
   "cell_type": "code",
   "execution_count": 1,
   "metadata": {},
   "outputs": [],
   "source": [
    "def outer_function():\n",
    "    message = \"hello\"\n",
    "\n",
    "    def inner_function():\n",
    "        print(message)\n",
    "    return inner_function()"
   ]
  },
  {
   "cell_type": "code",
   "execution_count": 2,
   "metadata": {},
   "outputs": [
    {
     "name": "stdout",
     "output_type": "stream",
     "text": [
      "hello\n"
     ]
    }
   ],
   "source": [
    "outer_function()"
   ]
  },
  {
   "cell_type": "markdown",
   "metadata": {},
   "source": [
    "## Closure\n",
    "\n",
    "A closure is a function object that remembers values in the enclosing scope even if they are not present in memory. It \"closes over\" the variables from its enclosing lexical scope, allowing the function to access and manipulate those variables even after the scope where it was defined has finished executing."
   ]
  },
  {
   "cell_type": "code",
   "execution_count": 3,
   "metadata": {},
   "outputs": [
    {
     "name": "stdout",
     "output_type": "stream",
     "text": [
      "15\n"
     ]
    }
   ],
   "source": [
    "def outer_function(x):\n",
    "    def inner_function(y):\n",
    "        return x + y\n",
    "    return inner_function # notice that () are not used in this case\n",
    "\n",
    "closure_instance = outer_function(10)\n",
    "result = closure_instance(5)\n",
    "print(result)"
   ]
  },
  {
   "cell_type": "markdown",
   "metadata": {},
   "source": [
    "## Decorators"
   ]
  },
  {
   "cell_type": "code",
   "execution_count": 7,
   "metadata": {},
   "outputs": [
    {
     "name": "stdout",
     "output_type": "stream",
     "text": [
      "display function ran\n"
     ]
    }
   ],
   "source": [
    "def decorator_func(original_func):\n",
    "    def wrapper_func():\n",
    "        return original_func()\n",
    "    return wrapper_func\n",
    "\n",
    "def display():\n",
    "    print('display function ran')\n",
    "\n",
    "decorated_display = decorator_func(display)\n",
    "decorated_display()"
   ]
  },
  {
   "cell_type": "markdown",
   "metadata": {},
   "source": [
    "Decorating our functions allow us to add additional functionalities."
   ]
  },
  {
   "cell_type": "code",
   "execution_count": 9,
   "metadata": {},
   "outputs": [
    {
     "name": "stdout",
     "output_type": "stream",
     "text": [
      "wrapper executed this before\n",
      "display function ran\n"
     ]
    }
   ],
   "source": [
    "def decorator_func(original_func):\n",
    "    def wrapper_func():\n",
    "        print('wrapper executed this before'.format(original_func.__name__))\n",
    "        return original_func()\n",
    "    return wrapper_func\n",
    "\n",
    "def display():\n",
    "    print('display function ran')\n",
    "\n",
    "decorated_display = decorator_func(display)\n",
    "decorated_display()"
   ]
  },
  {
   "cell_type": "markdown",
   "metadata": {},
   "source": [
    "We can also use @decorator_func"
   ]
  },
  {
   "cell_type": "code",
   "execution_count": 10,
   "metadata": {},
   "outputs": [
    {
     "name": "stdout",
     "output_type": "stream",
     "text": [
      "wrapper executed this before\n",
      "display function ran\n"
     ]
    }
   ],
   "source": [
    "def decorator_func(original_func):\n",
    "    def wrapper_func():\n",
    "        print('wrapper executed this before'.format(original_func.__name__))\n",
    "        return original_func()\n",
    "    return wrapper_func\n",
    "\n",
    "@decorator_func\n",
    "def display():\n",
    "    print('display function ran')\n",
    "\n",
    "display()"
   ]
  },
  {
   "cell_type": "code",
   "execution_count": 12,
   "metadata": {},
   "outputs": [
    {
     "name": "stdout",
     "output_type": "stream",
     "text": [
      "wrapper executed this before\n",
      "display function ran\n"
     ]
    },
    {
     "ename": "TypeError",
     "evalue": "decorator_func.<locals>.wrapper_func() takes 0 positional arguments but 2 were given",
     "output_type": "error",
     "traceback": [
      "\u001b[1;31m---------------------------------------------------------------------------\u001b[0m",
      "\u001b[1;31mTypeError\u001b[0m                                 Traceback (most recent call last)",
      "\u001b[1;32mc:\\Users\\anura\\Documents\\VSCode_Workspace\\365-Days-of-Python\\201_Decorators\\main.ipynb Cell 13\u001b[0m in \u001b[0;36m1\n\u001b[0;32m     <a href='vscode-notebook-cell:/c%3A/Users/anura/Documents/VSCode_Workspace/365-Days-of-Python/201_Decorators/main.ipynb#X15sZmlsZQ%3D%3D?line=12'>13</a>\u001b[0m     \u001b[39mprint\u001b[39m(\u001b[39m'\u001b[39m\u001b[39mdisplay info ran with arguments (\u001b[39m\u001b[39m{}\u001b[39;00m\u001b[39m,\u001b[39m\u001b[39m{}\u001b[39;00m\u001b[39m)\u001b[39m\u001b[39m'\u001b[39m\u001b[39m.\u001b[39mformat(name,age))\n\u001b[0;32m     <a href='vscode-notebook-cell:/c%3A/Users/anura/Documents/VSCode_Workspace/365-Days-of-Python/201_Decorators/main.ipynb#X15sZmlsZQ%3D%3D?line=14'>15</a>\u001b[0m display()\n\u001b[1;32m---> <a href='vscode-notebook-cell:/c%3A/Users/anura/Documents/VSCode_Workspace/365-Days-of-Python/201_Decorators/main.ipynb#X15sZmlsZQ%3D%3D?line=15'>16</a>\u001b[0m display_info(\u001b[39m'\u001b[39m\u001b[39mJohn\u001b[39m\u001b[39m'\u001b[39m,\u001b[39m25\u001b[39m)\n",
      "\u001b[1;31mTypeError\u001b[0m: decorator_func.<locals>.wrapper_func() takes 0 positional arguments but 2 were given"
     ]
    }
   ],
   "source": [
    "def decorator_func(original_func):\n",
    "    def wrapper_func():\n",
    "        print('wrapper executed this before'.format(original_func.__name__))\n",
    "        return original_func()\n",
    "    return wrapper_func\n",
    "\n",
    "@decorator_func\n",
    "def display():\n",
    "    print('display function ran')\n",
    "\n",
    "@decorator_func\n",
    "def display_info(name,age):\n",
    "    print('display info ran with arguments ({},{})'.format(name,age))\n",
    "\n",
    "display()\n",
    "display_info('John',25)"
   ]
  },
  {
   "cell_type": "markdown",
   "metadata": {},
   "source": [
    "Add *args, **kwargs to function"
   ]
  },
  {
   "cell_type": "code",
   "execution_count": 13,
   "metadata": {},
   "outputs": [
    {
     "name": "stdout",
     "output_type": "stream",
     "text": [
      "wrapper executed this before\n",
      "display function ran\n",
      "wrapper executed this before\n",
      "display info ran with arguments (John,25)\n"
     ]
    }
   ],
   "source": [
    "def decorator_func(original_func):\n",
    "    def wrapper_func(*args, **kwargs):\n",
    "        print('wrapper executed this before {}'.format(original_func.__name__))\n",
    "        return original_func(*args, **kwargs)\n",
    "    return wrapper_func\n",
    "\n",
    "@decorator_func\n",
    "def display():\n",
    "    print('display function ran')\n",
    "\n",
    "@decorator_func\n",
    "def display_info(name,age):\n",
    "    print('display info ran with arguments ({},{})'.format(name,age))\n",
    "\n",
    "display()\n",
    "display_info('John',25)"
   ]
  },
  {
   "cell_type": "markdown",
   "metadata": {},
   "source": [
    "## Classes as decorators\n",
    "\n",
    "We can also use classes as decorators"
   ]
  },
  {
   "cell_type": "code",
   "execution_count": 16,
   "metadata": {},
   "outputs": [
    {
     "name": "stdout",
     "output_type": "stream",
     "text": [
      "call method executed this before display\n",
      "display function ran\n",
      "call method executed this before display_info\n",
      "display info ran with arguments (John,25)\n"
     ]
    }
   ],
   "source": [
    "def decorator_func(original_func):\n",
    "    def wrapper_func(*args, **kwargs):\n",
    "        print('wrapper executed this before'.format(original_func.__name__))\n",
    "        return original_func(*args, **kwargs)\n",
    "    return wrapper_func\n",
    "\n",
    "class decorator_class(object):\n",
    "    def __init__(self, original_func):\n",
    "        self.original_func = original_func\n",
    "\n",
    "    def __call__(self, *args, **kwargs):\n",
    "        print('call method executed this before {}'.format(self.original_func.__name__))\n",
    "        return self.original_func(*args, **kwargs)\n",
    "\n",
    "@decorator_class\n",
    "def display():\n",
    "    print('display function ran')\n",
    "\n",
    "@decorator_class\n",
    "def display_info(name,age):\n",
    "    print('display info ran with arguments ({},{})'.format(name,age))\n",
    "\n",
    "display()\n",
    "display_info('John',25)\n",
    "\n"
   ]
  },
  {
   "cell_type": "markdown",
   "metadata": {},
   "source": [
    "We'll stick to decorator functions"
   ]
  },
  {
   "cell_type": "markdown",
   "metadata": {},
   "source": [
    "## Logging\n",
    "\n",
    "Avoid having to implement logging functionality everytime you implement a function"
   ]
  },
  {
   "cell_type": "code",
   "execution_count": 21,
   "metadata": {},
   "outputs": [
    {
     "name": "stdout",
     "output_type": "stream",
     "text": [
      "display info ran with arguments (John,25)\n"
     ]
    }
   ],
   "source": [
    "def my_logger(orig_func):\n",
    "    import logging\n",
    "    logging.basicConfig(filename='{}.log'.format(orig_func.__name__), level=logging.INFO)\n",
    "\n",
    "    def wrapper(*args, **kwargs):\n",
    "        logging.info('Ran wiith args: {}, and kwargs: {}'.format(args, kwargs))\n",
    "        return orig_func(*args, **kwargs)\n",
    "    return wrapper\n",
    "\n",
    "# @decorator_func\n",
    "# def display():\n",
    "#     print('display function ran')\n",
    "\n",
    "@my_logger\n",
    "def display_info(name,age):\n",
    "    print('display info ran with arguments ({},{})'.format(name,age))\n",
    "\n",
    "# display()\n",
    "display_info('John',25)"
   ]
  },
  {
   "cell_type": "markdown",
   "metadata": {},
   "source": [
    "## Timer"
   ]
  },
  {
   "cell_type": "code",
   "execution_count": 23,
   "metadata": {},
   "outputs": [
    {
     "name": "stdout",
     "output_type": "stream",
     "text": [
      "display info ran with arguments (John,25)\n",
      "display_info ran in: 1.0020818710327148sec\n"
     ]
    }
   ],
   "source": [
    "def my_timer(orig_func):\n",
    "    import time\n",
    "    def wrapper(*args, **kwargs):\n",
    "        t1 = time.time()\n",
    "        result = orig_func(*args, **kwargs)\n",
    "        t2 = time.time() - t1\n",
    "        print(\"{} ran in: {}sec\".format(orig_func.__name__, t2))\n",
    "        return result\n",
    "    return wrapper\n",
    "\n",
    "# @decorator_func\n",
    "# def display():\n",
    "#     print('display function ran')\n",
    "\n",
    "import time\n",
    "\n",
    "@my_timer\n",
    "def display_info(name,age):\n",
    "    time.sleep(1)\n",
    "    print('display info ran with arguments ({},{})'.format(name,age))\n",
    "\n",
    "# display()\n",
    "display_info('John',25)"
   ]
  },
  {
   "cell_type": "code",
   "execution_count": 24,
   "metadata": {},
   "outputs": [
    {
     "name": "stdout",
     "output_type": "stream",
     "text": [
      "display info ran with arguments (John,25)\n",
      "wrapper ran in: 1.0041089057922363sec\n"
     ]
    }
   ],
   "source": [
    "import time\n",
    "\n",
    "@my_timer\n",
    "@my_logger\n",
    "def display_info(name,age):\n",
    "    time.sleep(1)\n",
    "    print('display info ran with arguments ({},{})'.format(name,age))\n",
    "\n",
    "# display()\n",
    "display_info('John',25)"
   ]
  },
  {
   "cell_type": "markdown",
   "metadata": {},
   "source": [
    "wrapper ran? we want display_info() ran in ..."
   ]
  },
  {
   "cell_type": "code",
   "execution_count": 25,
   "metadata": {},
   "outputs": [
    {
     "name": "stdout",
     "output_type": "stream",
     "text": [
      "display info ran with arguments (John,25)\n",
      "display_info ran in: 1.0022780895233154sec\n"
     ]
    }
   ],
   "source": [
    "@my_logger\n",
    "@my_timer\n",
    "def display_info(name,age):\n",
    "    time.sleep(1)\n",
    "    print('display info ran with arguments ({},{})'.format(name,age))\n",
    "\n",
    "# display()\n",
    "display_info('John',25)"
   ]
  },
  {
   "cell_type": "code",
   "execution_count": 26,
   "metadata": {},
   "outputs": [
    {
     "name": "stdout",
     "output_type": "stream",
     "text": [
      "display info ran with arguments (Hank,25)\n",
      "display_info ran in: 1.0036816596984863sec\n"
     ]
    }
   ],
   "source": [
    "from functools import wraps\n",
    "\n",
    "def my_timer(orig_func):\n",
    "    import time\n",
    "\n",
    "    @wraps(orig_func)\n",
    "    def wrapper(*args, **kwargs):\n",
    "        t1 = time.time()\n",
    "        result = orig_func(*args, **kwargs)\n",
    "        t2 = time.time() - t1\n",
    "        print(\"{} ran in: {}sec\".format(orig_func.__name__, t2))\n",
    "        return result\n",
    "    return wrapper\n",
    "\n",
    "def my_logger(orig_func):\n",
    "    import logging\n",
    "    logging.basicConfig(filename='{}.log'.format(orig_func.__name__), level=logging.INFO)\n",
    "\n",
    "    @wraps(orig_func)\n",
    "    def wrapper(*args, **kwargs):\n",
    "        logging.info('Ran wiith args: {}, and kwargs: {}'.format(args, kwargs))\n",
    "        return orig_func(*args, **kwargs)\n",
    "    return wrapper\n",
    "\n",
    "@my_logger\n",
    "@my_timer\n",
    "def display_info(name,age):\n",
    "    time.sleep(1)\n",
    "    print('display info ran with arguments ({},{})'.format(name,age))\n",
    "\n",
    "# display()\n",
    "display_info('Hank',25)"
   ]
  },
  {
   "cell_type": "code",
   "execution_count": 27,
   "metadata": {},
   "outputs": [
    {
     "name": "stdout",
     "output_type": "stream",
     "text": [
      "display_info\n"
     ]
    }
   ],
   "source": [
    "print(display_info.__name__)"
   ]
  }
 ],
 "metadata": {
  "kernelspec": {
   "display_name": "Python 3",
   "language": "python",
   "name": "python3"
  },
  "language_info": {
   "codemirror_mode": {
    "name": "ipython",
    "version": 3
   },
   "file_extension": ".py",
   "mimetype": "text/x-python",
   "name": "python",
   "nbconvert_exporter": "python",
   "pygments_lexer": "ipython3",
   "version": "3.10.8"
  },
  "orig_nbformat": 4
 },
 "nbformat": 4,
 "nbformat_minor": 2
}
