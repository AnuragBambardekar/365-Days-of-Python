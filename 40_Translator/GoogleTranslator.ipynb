{
 "cells": [
  {
   "attachments": {},
   "cell_type": "markdown",
   "metadata": {},
   "source": [
    "# Google Translator"
   ]
  },
  {
   "attachments": {},
   "cell_type": "markdown",
   "metadata": {},
   "source": [
    "**pip install googletrans==3.1.0a0**"
   ]
  },
  {
   "cell_type": "code",
   "execution_count": 14,
   "metadata": {},
   "outputs": [
    {
     "name": "stdout",
     "output_type": "stream",
     "text": [
      "{'af': 'afrikaans', 'sq': 'albanian', 'am': 'amharic', 'ar': 'arabic', 'hy': 'armenian', 'az': 'azerbaijani', 'eu': 'basque', 'be': 'belarusian', 'bn': 'bengali', 'bs': 'bosnian', 'bg': 'bulgarian', 'ca': 'catalan', 'ceb': 'cebuano', 'ny': 'chichewa', 'zh-cn': 'chinese (simplified)', 'zh-tw': 'chinese (traditional)', 'co': 'corsican', 'hr': 'croatian', 'cs': 'czech', 'da': 'danish', 'nl': 'dutch', 'en': 'english', 'eo': 'esperanto', 'et': 'estonian', 'tl': 'filipino', 'fi': 'finnish', 'fr': 'french', 'fy': 'frisian', 'gl': 'galician', 'ka': 'georgian', 'de': 'german', 'el': 'greek', 'gu': 'gujarati', 'ht': 'haitian creole', 'ha': 'hausa', 'haw': 'hawaiian', 'iw': 'hebrew', 'he': 'hebrew', 'hi': 'hindi', 'hmn': 'hmong', 'hu': 'hungarian', 'is': 'icelandic', 'ig': 'igbo', 'id': 'indonesian', 'ga': 'irish', 'it': 'italian', 'ja': 'japanese', 'jw': 'javanese', 'kn': 'kannada', 'kk': 'kazakh', 'km': 'khmer', 'ko': 'korean', 'ku': 'kurdish (kurmanji)', 'ky': 'kyrgyz', 'lo': 'lao', 'la': 'latin', 'lv': 'latvian', 'lt': 'lithuanian', 'lb': 'luxembourgish', 'mk': 'macedonian', 'mg': 'malagasy', 'ms': 'malay', 'ml': 'malayalam', 'mt': 'maltese', 'mi': 'maori', 'mr': 'marathi', 'mn': 'mongolian', 'my': 'myanmar (burmese)', 'ne': 'nepali', 'no': 'norwegian', 'or': 'odia', 'ps': 'pashto', 'fa': 'persian', 'pl': 'polish', 'pt': 'portuguese', 'pa': 'punjabi', 'ro': 'romanian', 'ru': 'russian', 'sm': 'samoan', 'gd': 'scots gaelic', 'sr': 'serbian', 'st': 'sesotho', 'sn': 'shona', 'sd': 'sindhi', 'si': 'sinhala', 'sk': 'slovak', 'sl': 'slovenian', 'so': 'somali', 'es': 'spanish', 'su': 'sundanese', 'sw': 'swahili', 'sv': 'swedish', 'tg': 'tajik', 'ta': 'tamil', 'te': 'telugu', 'th': 'thai', 'tr': 'turkish', 'uk': 'ukrainian', 'ur': 'urdu', 'ug': 'uyghur', 'uz': 'uzbek', 'vi': 'vietnamese', 'cy': 'welsh', 'xh': 'xhosa', 'yi': 'yiddish', 'yo': 'yoruba', 'zu': 'zulu'}\n",
      "langCode   Language  \n",
      "af         afrikaans \n",
      "sq         albanian  \n",
      "am         amharic   \n",
      "ar         arabic    \n",
      "hy         armenian  \n",
      "az         azerbaijani\n",
      "eu         basque    \n",
      "be         belarusian\n",
      "bn         bengali   \n",
      "bs         bosnian   \n",
      "bg         bulgarian \n",
      "ca         catalan   \n",
      "ceb        cebuano   \n",
      "ny         chichewa  \n",
      "zh-cn      chinese (simplified)\n",
      "zh-tw      chinese (traditional)\n",
      "co         corsican  \n",
      "hr         croatian  \n",
      "cs         czech     \n",
      "da         danish    \n",
      "nl         dutch     \n",
      "en         english   \n",
      "eo         esperanto \n",
      "et         estonian  \n",
      "tl         filipino  \n",
      "fi         finnish   \n",
      "fr         french    \n",
      "fy         frisian   \n",
      "gl         galician  \n",
      "ka         georgian  \n",
      "de         german    \n",
      "el         greek     \n",
      "gu         gujarati  \n",
      "ht         haitian creole\n",
      "ha         hausa     \n",
      "haw        hawaiian  \n",
      "iw         hebrew    \n",
      "he         hebrew    \n",
      "hi         hindi     \n",
      "hmn        hmong     \n",
      "hu         hungarian \n",
      "is         icelandic \n",
      "ig         igbo      \n",
      "id         indonesian\n",
      "ga         irish     \n",
      "it         italian   \n",
      "ja         japanese  \n",
      "jw         javanese  \n",
      "kn         kannada   \n",
      "kk         kazakh    \n",
      "km         khmer     \n",
      "ko         korean    \n",
      "ku         kurdish (kurmanji)\n",
      "ky         kyrgyz    \n",
      "lo         lao       \n",
      "la         latin     \n",
      "lv         latvian   \n",
      "lt         lithuanian\n",
      "lb         luxembourgish\n",
      "mk         macedonian\n",
      "mg         malagasy  \n",
      "ms         malay     \n",
      "ml         malayalam \n",
      "mt         maltese   \n",
      "mi         maori     \n",
      "mr         marathi   \n",
      "mn         mongolian \n",
      "my         myanmar (burmese)\n",
      "ne         nepali    \n",
      "no         norwegian \n",
      "or         odia      \n",
      "ps         pashto    \n",
      "fa         persian   \n",
      "pl         polish    \n",
      "pt         portuguese\n",
      "pa         punjabi   \n",
      "ro         romanian  \n",
      "ru         russian   \n",
      "sm         samoan    \n",
      "gd         scots gaelic\n",
      "sr         serbian   \n",
      "st         sesotho   \n",
      "sn         shona     \n",
      "sd         sindhi    \n",
      "si         sinhala   \n",
      "sk         slovak    \n",
      "sl         slovenian \n",
      "so         somali    \n",
      "es         spanish   \n",
      "su         sundanese \n",
      "sw         swahili   \n",
      "sv         swedish   \n",
      "tg         tajik     \n",
      "ta         tamil     \n",
      "te         telugu    \n",
      "th         thai      \n",
      "tr         turkish   \n",
      "uk         ukrainian \n",
      "ur         urdu      \n",
      "ug         uyghur    \n",
      "uz         uzbek     \n",
      "vi         vietnamese\n",
      "cy         welsh     \n",
      "xh         xhosa     \n",
      "yi         yiddish   \n",
      "yo         yoruba    \n",
      "zu         zulu      \n"
     ]
    }
   ],
   "source": [
    "import googletrans\n",
    "print(googletrans.LANGUAGES)\n",
    "\n",
    "x = googletrans.LANGUAGES\n",
    "\n",
    "# Print the names of the columns.\n",
    "print(\"{:<10} {:<10}\".format('langCode', 'Language'))\n",
    " \n",
    "# print each data item.\n",
    "for key, value in x.items():\n",
    "    print(\"{:<10} {:<10}\".format(key, value))"
   ]
  },
  {
   "cell_type": "code",
   "execution_count": 2,
   "metadata": {},
   "outputs": [],
   "source": [
    "translator = googletrans.Translator()"
   ]
  },
  {
   "cell_type": "code",
   "execution_count": 3,
   "metadata": {},
   "outputs": [],
   "source": [
    "text = \"Good Morning! Would you like to have a cup of coffee?\""
   ]
  },
  {
   "cell_type": "code",
   "execution_count": 5,
   "metadata": {},
   "outputs": [
    {
     "name": "stdout",
     "output_type": "stream",
     "text": [
      "शुभ प्रभात! क्या आप एक कप कॉफी लेना चाहेंगे?\n"
     ]
    }
   ],
   "source": [
    "translation = translator.translate(text, dest='hi')\n",
    "print(translation.text)"
   ]
  },
  {
   "cell_type": "code",
   "execution_count": 15,
   "metadata": {},
   "outputs": [
    {
     "name": "stdout",
     "output_type": "stream",
     "text": [
      "Detected(lang=ko, confidence=1)\n",
      "ko\n",
      "Translated(src=ko, dest=en, text=This sentence is written in Korean., pronunciation=None, extra_data=\"{'translat...\")\n"
     ]
    }
   ],
   "source": [
    "dec_lan = translator.detect('이 문장은 한글로 쓰여졌습니다.')\n",
    "print(dec_lan)\n",
    "print(dec_lan.lang)\n",
    "translation = translator.translate(\"이 문장은 한글로 쓰여졌습니다.\", dest=\"en\")\n",
    "print(translation)"
   ]
  },
  {
   "cell_type": "code",
   "execution_count": null,
   "metadata": {},
   "outputs": [],
   "source": []
  }
 ],
 "metadata": {
  "kernelspec": {
   "display_name": "Python 3",
   "language": "python",
   "name": "python3"
  },
  "language_info": {
   "codemirror_mode": {
    "name": "ipython",
    "version": 3
   },
   "file_extension": ".py",
   "mimetype": "text/x-python",
   "name": "python",
   "nbconvert_exporter": "python",
   "pygments_lexer": "ipython3",
   "version": "3.10.7"
  },
  "orig_nbformat": 4,
  "vscode": {
   "interpreter": {
    "hash": "fbfacf25abbc4466cbf6a4ec94f71aa428570133f008ac9f4c86deb26a69bb88"
   }
  }
 },
 "nbformat": 4,
 "nbformat_minor": 2
}
