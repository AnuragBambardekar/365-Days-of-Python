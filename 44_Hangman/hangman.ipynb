{
 "cells": [
  {
   "attachments": {},
   "cell_type": "markdown",
   "metadata": {},
   "source": [
    "# Hangman"
   ]
  },
  {
   "attachments": {},
   "cell_type": "markdown",
   "metadata": {},
   "source": [
    "Hangman is a guessing game for two or more players. One player thinks of a word, phrase or sentence and the other(s) tries to guess it by suggesting letters within a certain number of guesses. Originally a Paper-and-pencil game, there are now electronic versions. [Source: Wikipedia] <br>\n",
    "\n",
    "The American game show Wheel of Fortune was inspired by hangman."
   ]
  },
  {
   "attachments": {},
   "cell_type": "markdown",
   "metadata": {},
   "source": [
    "The idea of hangman is that one player thinks of a word and tells the other player how many letters it has. The second player repeatedly guesses letters. If a guessed letter is in the word, the word chooser must reveal the position of every occurrence of the letter in the word. If it is not, then the chooser takes great pleasure in drawing a component of a gallows with a man hanging from it. If the gallows and man are complete before the word is fully guessed, the second player has been hanged and loses."
   ]
  },
  {
   "attachments": {},
   "cell_type": "markdown",
   "metadata": {},
   "source": [
    "A set is a collection of unique elements in Python. Sets are unordered, which means that their elements have no index and can be changed or rearranged. The main advantage of sets is that they do not allow duplicate elements, so they are commonly used to remove duplicates from a list. Additionally, sets provide fast membership tests, so they are commonly used for tasks such as checking if an element is in a collection or finding the intersection of two collections. "
   ]
  },
  {
   "cell_type": "code",
   "execution_count": 8,
   "metadata": {},
   "outputs": [
    {
     "name": "stdout",
     "output_type": "stream",
     "text": [
      "You have 8 attempts left.\n",
      "Used letters: \n",
      "Word: _ _ _ _ \n",
      "You have 7 attempts left.\n",
      "Used letters: c\n",
      "Word: _ _ _ _ \n",
      "You have 6 attempts left.\n",
      "Used letters: c o\n",
      "Word: _ _ _ _ \n",
      "You have 6 attempts left.\n",
      "Used letters: a c o\n",
      "Word: _ a _ _ \n",
      "You have 5 attempts left.\n",
      "Used letters: a c o t\n",
      "Word: _ a _ _ \n",
      "You have 5 attempts left.\n",
      "Used letters: a c m o t\n",
      "Word: m a _ _ \n",
      "You have 4 attempts left.\n",
      "Used letters: a c m o r t\n",
      "Word: m a _ _ \n",
      "You have 3 attempts left.\n",
      "Used letters: a c l m o r t\n",
      "Word: m a _ _ \n",
      "You have 2 attempts left.\n",
      "Used letters: a c l m o p r t\n",
      "Word: m a _ _ \n",
      "You have 1 attempts left.\n",
      "Used letters: a c k l m o p r t\n",
      "Word: m a _ _ \n",
      "You lost! The word was mass\n"
     ]
    }
   ],
   "source": [
    "import random\n",
    "from words import word_list\n",
    "\n",
    "def get_word():\n",
    "    # words = ['America', 'India', 'Australia', 'Africa', 'Singapore']\n",
    "    return random.choice(word_list)\n",
    "\n",
    "def play(word):\n",
    "    word_letters = set(word)\n",
    "    alphabet = set('abcdefghijklmnopqrstuvwxyz')\n",
    "    used_letters = set()\n",
    "    attempts = 8\n",
    "    while len(word_letters) > 0 and attempts > 0:\n",
    "        print(\"You have\", attempts, \"attempts left.\")\n",
    "        print(\"Used letters:\", ' '.join(sorted(used_letters)))\n",
    "        print(\"Word:\", end=' ')\n",
    "        for letter in word:\n",
    "            if letter in used_letters:\n",
    "                print(letter, end=' ')\n",
    "            else:\n",
    "                print('_', end=' ')\n",
    "        print()\n",
    "        guess = input(\"Guess a letter:\").lower()\n",
    "        if guess in alphabet - used_letters:\n",
    "            used_letters.add(guess)\n",
    "            if guess in word_letters:\n",
    "                word_letters.remove(guess)\n",
    "            else:\n",
    "                attempts -= 1\n",
    "        else:\n",
    "            print(\"You have already used that letter. Try again.\")\n",
    "    if attempts == 0:\n",
    "        print(\"You lost! The word was\", word)\n",
    "    else:\n",
    "        print(\"You won! The word was\", word)\n",
    "\n",
    "word = get_word()\n",
    "word = word.lower()\n",
    "play(word)\n"
   ]
  },
  {
   "cell_type": "code",
   "execution_count": null,
   "metadata": {},
   "outputs": [],
   "source": []
  }
 ],
 "metadata": {
  "kernelspec": {
   "display_name": "Python 3",
   "language": "python",
   "name": "python3"
  },
  "language_info": {
   "codemirror_mode": {
    "name": "ipython",
    "version": 3
   },
   "file_extension": ".py",
   "mimetype": "text/x-python",
   "name": "python",
   "nbconvert_exporter": "python",
   "pygments_lexer": "ipython3",
   "version": "3.10.7"
  },
  "orig_nbformat": 4,
  "vscode": {
   "interpreter": {
    "hash": "fbfacf25abbc4466cbf6a4ec94f71aa428570133f008ac9f4c86deb26a69bb88"
   }
  }
 },
 "nbformat": 4,
 "nbformat_minor": 2
}
