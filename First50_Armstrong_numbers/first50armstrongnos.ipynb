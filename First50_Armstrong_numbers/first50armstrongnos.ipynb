{
 "cells": [
  {
   "cell_type": "code",
   "execution_count": 1,
   "metadata": {},
   "outputs": [
    {
     "name": "stdout",
     "output_type": "stream",
     "text": [
      "0\n",
      "1\n",
      "2\n",
      "3\n",
      "4\n",
      "5\n",
      "6\n",
      "7\n",
      "8\n",
      "9\n",
      "153\n",
      "370\n",
      "371\n",
      "407\n",
      "1634\n",
      "8208\n",
      "9474\n",
      "Finished in 3.34298509999644 seconds.\n"
     ]
    }
   ],
   "source": [
    "from PIL import Image, ImageFilter\n",
    "import time\n",
    "import concurrent.futures\n",
    "import sys  \n",
    "sys.path.insert(0, '365-Days-of-Python\\First50_Armstrong_numbers\\first50armstrongs.py')\n",
    "from first50armstrongs import is_armstrong as is_armstrong\n",
    "import numpy as np\n",
    "\n",
    "\n",
    "if __name__ == \"__main__\":\n",
    "    t1 = time.perf_counter()\n",
    "\n",
    "    with concurrent.futures.ProcessPoolExecutor() as executor:\n",
    "        # secs = [5,4,3,2,1,371,343]\n",
    "        secs = np.arange(start=0, stop=10000)\n",
    "        # results = [executor.submit(is_armstrong, sec) for sec in secs]\n",
    "        results = executor.map(is_armstrong, secs)\n",
    "\n",
    "        for result in results:\n",
    "            if(result != None):\n",
    "                print(result)\n",
    "        \"\"\" if(f1.result() != None):\n",
    "            print(f1.result()) \"\"\"\n",
    "    \n",
    "    \"\"\" for f in concurrent.futures.as_completed(results):\n",
    "        if(f.result() != None):\n",
    "            print(f.result()) \"\"\"\n",
    "\n",
    "        \n",
    "\n",
    "    t2 = time.perf_counter()\n",
    "\n",
    "    print(f\"Finished in {t2-t1} seconds.\")"
   ]
  },
  {
   "cell_type": "code",
   "execution_count": 2,
   "metadata": {},
   "outputs": [
    {
     "name": "stdout",
     "output_type": "stream",
     "text": [
      "54748\n",
      "92727\n",
      "93084\n",
      "Finished in 23.947830999997677 seconds.\n"
     ]
    }
   ],
   "source": [
    "from PIL import Image, ImageFilter\n",
    "import time\n",
    "import concurrent.futures\n",
    "import sys  \n",
    "sys.path.insert(0, '365-Days-of-Python\\First50_Armstrong_numbers\\first50armstrongs.py')\n",
    "from first50armstrongs import is_armstrong as is_armstrong\n",
    "import numpy as np\n",
    "\n",
    "\n",
    "if __name__ == \"__main__\":\n",
    "    t1 = time.perf_counter()\n",
    "\n",
    "    with concurrent.futures.ProcessPoolExecutor() as executor:\n",
    "        # secs = [5,4,3,2,1,371,343]\n",
    "        secs = np.arange(start=10000, stop=100000)\n",
    "        # results = [executor.submit(is_armstrong, sec) for sec in secs]\n",
    "        results = executor.map(is_armstrong, secs)\n",
    "\n",
    "        for result in results:\n",
    "            if(result != None):\n",
    "                print(result)\n",
    "        \"\"\" if(f1.result() != None):\n",
    "            print(f1.result()) \"\"\"\n",
    "    \n",
    "    \"\"\" for f in concurrent.futures.as_completed(results):\n",
    "        if(f.result() != None):\n",
    "            print(f.result()) \"\"\"\n",
    "\n",
    "        \n",
    "\n",
    "    t2 = time.perf_counter()\n",
    "\n",
    "    print(f\"Finished in {t2-t1} seconds.\")"
   ]
  },
  {
   "cell_type": "code",
   "execution_count": 3,
   "metadata": {},
   "outputs": [
    {
     "name": "stdout",
     "output_type": "stream",
     "text": [
      "548834\n",
      "Finished in 223.8094354000059 seconds.\n"
     ]
    }
   ],
   "source": [
    "import time\n",
    "import concurrent.futures\n",
    "import sys  \n",
    "sys.path.insert(0, '365-Days-of-Python\\First50_Armstrong_numbers\\first50armstrongs.py')\n",
    "from first50armstrongs import is_armstrong as is_armstrong\n",
    "import numpy as np\n",
    "\n",
    "\n",
    "if __name__ == \"__main__\":\n",
    "    t1 = time.perf_counter()\n",
    "\n",
    "    with concurrent.futures.ProcessPoolExecutor() as executor:\n",
    "        # secs = [5,4,3,2,1,371,343]\n",
    "        secs = np.arange(start=100000, stop=1000000)\n",
    "        # results = [executor.submit(is_armstrong, sec) for sec in secs]\n",
    "        results = executor.map(is_armstrong, secs)\n",
    "\n",
    "        for result in results:\n",
    "            if(result != None):\n",
    "                print(result)\n",
    "        \"\"\" if(f1.result() != None):\n",
    "            print(f1.result()) \"\"\"\n",
    "    \n",
    "    \"\"\" for f in concurrent.futures.as_completed(results):\n",
    "        if(f.result() != None):\n",
    "            print(f.result()) \"\"\"\n",
    "\n",
    "        \n",
    "\n",
    "    t2 = time.perf_counter()\n",
    "\n",
    "    print(f\"Finished in {t2-t1} seconds.\")"
   ]
  },
  {
   "cell_type": "code",
   "execution_count": 1,
   "metadata": {},
   "outputs": [
    {
     "name": "stdout",
     "output_type": "stream",
     "text": [
      "1741725\n",
      "4210818\n",
      "9800817\n",
      "9926315\n",
      "Finished in 9676.538590600001 seconds.\n"
     ]
    }
   ],
   "source": [
    "import time\n",
    "import concurrent.futures\n",
    "import sys  \n",
    "sys.path.insert(0, '365-Days-of-Python\\First50_Armstrong_numbers\\first50armstrongs.py')\n",
    "from first50armstrongs import is_armstrong as is_armstrong\n",
    "import numpy as np\n",
    "\n",
    "\n",
    "if __name__ == \"__main__\":\n",
    "    t1 = time.perf_counter()\n",
    "\n",
    "    with concurrent.futures.ProcessPoolExecutor() as executor:\n",
    "        # secs = [5,4,3,2,1,371,343]\n",
    "        secs = np.arange(start=1000000, stop=10000000)\n",
    "        # results = [executor.submit(is_armstrong, sec) for sec in secs]\n",
    "        results = executor.map(is_armstrong, secs)\n",
    "\n",
    "        for result in results:\n",
    "            if(result != None):\n",
    "                print(result)\n",
    "        \"\"\" if(f1.result() != None):\n",
    "            print(f1.result()) \"\"\"\n",
    "    \n",
    "    \"\"\" for f in concurrent.futures.as_completed(results):\n",
    "        if(f.result() != None):\n",
    "            print(f.result()) \"\"\"\n",
    "\n",
    "        \n",
    "\n",
    "    t2 = time.perf_counter()\n",
    "\n",
    "    print(f\"Finished in {t2-t1} seconds.\")"
   ]
  },
  {
   "cell_type": "code",
   "execution_count": 2,
   "metadata": {},
   "outputs": [
    {
     "ename": "RuntimeError",
     "evalue": "can't allocate lock",
     "output_type": "error",
     "traceback": [
      "\u001b[1;31m---------------------------------------------------------------------------\u001b[0m",
      "\u001b[1;31mRuntimeError\u001b[0m                              Traceback (most recent call last)",
      "Cell \u001b[1;32mIn [2], line 16\u001b[0m\n\u001b[0;32m     14\u001b[0m secs \u001b[39m=\u001b[39m np\u001b[39m.\u001b[39marange(start\u001b[39m=\u001b[39m\u001b[39m10000000\u001b[39m, stop\u001b[39m=\u001b[39m\u001b[39m50000000\u001b[39m)\n\u001b[0;32m     15\u001b[0m \u001b[39m# results = [executor.submit(is_armstrong, sec) for sec in secs]\u001b[39;00m\n\u001b[1;32m---> 16\u001b[0m results \u001b[39m=\u001b[39m executor\u001b[39m.\u001b[39mmap(is_armstrong, secs)\n\u001b[0;32m     18\u001b[0m \u001b[39mfor\u001b[39;00m result \u001b[39min\u001b[39;00m results:\n\u001b[0;32m     19\u001b[0m     \u001b[39mif\u001b[39;00m(result \u001b[39m!=\u001b[39m \u001b[39mNone\u001b[39;00m):\n",
      "File \u001b[1;32mc:\\Users\\anura\\AppData\\Local\\Programs\\Python\\Python310\\lib\\concurrent\\futures\\_base.py:610\u001b[0m, in \u001b[0;36mExecutor.map\u001b[1;34m(self, fn, timeout, chunksize, *iterables)\u001b[0m\n\u001b[0;32m    607\u001b[0m \u001b[39mif\u001b[39;00m timeout \u001b[39mis\u001b[39;00m \u001b[39mnot\u001b[39;00m \u001b[39mNone\u001b[39;00m:\n\u001b[0;32m    608\u001b[0m     end_time \u001b[39m=\u001b[39m timeout \u001b[39m+\u001b[39m time\u001b[39m.\u001b[39mmonotonic()\n\u001b[1;32m--> 610\u001b[0m fs \u001b[39m=\u001b[39m [\u001b[39mself\u001b[39m\u001b[39m.\u001b[39msubmit(fn, \u001b[39m*\u001b[39margs) \u001b[39mfor\u001b[39;00m args \u001b[39min\u001b[39;00m \u001b[39mzip\u001b[39m(\u001b[39m*\u001b[39miterables)]\n\u001b[0;32m    612\u001b[0m \u001b[39m# Yield must be hidden in closure so that the futures are submitted\u001b[39;00m\n\u001b[0;32m    613\u001b[0m \u001b[39m# before the first iterator value is required.\u001b[39;00m\n\u001b[0;32m    614\u001b[0m \u001b[39mdef\u001b[39;00m \u001b[39mresult_iterator\u001b[39m():\n",
      "File \u001b[1;32mc:\\Users\\anura\\AppData\\Local\\Programs\\Python\\Python310\\lib\\concurrent\\futures\\_base.py:610\u001b[0m, in \u001b[0;36m<listcomp>\u001b[1;34m(.0)\u001b[0m\n\u001b[0;32m    607\u001b[0m \u001b[39mif\u001b[39;00m timeout \u001b[39mis\u001b[39;00m \u001b[39mnot\u001b[39;00m \u001b[39mNone\u001b[39;00m:\n\u001b[0;32m    608\u001b[0m     end_time \u001b[39m=\u001b[39m timeout \u001b[39m+\u001b[39m time\u001b[39m.\u001b[39mmonotonic()\n\u001b[1;32m--> 610\u001b[0m fs \u001b[39m=\u001b[39m [\u001b[39mself\u001b[39;49m\u001b[39m.\u001b[39;49msubmit(fn, \u001b[39m*\u001b[39;49margs) \u001b[39mfor\u001b[39;00m args \u001b[39min\u001b[39;00m \u001b[39mzip\u001b[39m(\u001b[39m*\u001b[39miterables)]\n\u001b[0;32m    612\u001b[0m \u001b[39m# Yield must be hidden in closure so that the futures are submitted\u001b[39;00m\n\u001b[0;32m    613\u001b[0m \u001b[39m# before the first iterator value is required.\u001b[39;00m\n\u001b[0;32m    614\u001b[0m \u001b[39mdef\u001b[39;00m \u001b[39mresult_iterator\u001b[39m():\n",
      "File \u001b[1;32mc:\\Users\\anura\\AppData\\Local\\Programs\\Python\\Python310\\lib\\concurrent\\futures\\thread.py:172\u001b[0m, in \u001b[0;36mThreadPoolExecutor.submit\u001b[1;34m(self, fn, *args, **kwargs)\u001b[0m\n\u001b[0;32m    168\u001b[0m \u001b[39mif\u001b[39;00m _shutdown:\n\u001b[0;32m    169\u001b[0m     \u001b[39mraise\u001b[39;00m \u001b[39mRuntimeError\u001b[39;00m(\u001b[39m'\u001b[39m\u001b[39mcannot schedule new futures after \u001b[39m\u001b[39m'\u001b[39m\n\u001b[0;32m    170\u001b[0m                        \u001b[39m'\u001b[39m\u001b[39minterpreter shutdown\u001b[39m\u001b[39m'\u001b[39m)\n\u001b[1;32m--> 172\u001b[0m f \u001b[39m=\u001b[39m _base\u001b[39m.\u001b[39;49mFuture()\n\u001b[0;32m    173\u001b[0m w \u001b[39m=\u001b[39m _WorkItem(f, fn, args, kwargs)\n\u001b[0;32m    175\u001b[0m \u001b[39mself\u001b[39m\u001b[39m.\u001b[39m_work_queue\u001b[39m.\u001b[39mput(w)\n",
      "File \u001b[1;32mc:\\Users\\anura\\AppData\\Local\\Programs\\Python\\Python310\\lib\\concurrent\\futures\\_base.py:332\u001b[0m, in \u001b[0;36mFuture.__init__\u001b[1;34m(self)\u001b[0m\n\u001b[0;32m    330\u001b[0m \u001b[39mdef\u001b[39;00m \u001b[39m__init__\u001b[39m(\u001b[39mself\u001b[39m):\n\u001b[0;32m    331\u001b[0m     \u001b[39m\"\"\"Initializes the future. Should not be called by clients.\"\"\"\u001b[39;00m\n\u001b[1;32m--> 332\u001b[0m     \u001b[39mself\u001b[39m\u001b[39m.\u001b[39m_condition \u001b[39m=\u001b[39m threading\u001b[39m.\u001b[39;49mCondition()\n\u001b[0;32m    333\u001b[0m     \u001b[39mself\u001b[39m\u001b[39m.\u001b[39m_state \u001b[39m=\u001b[39m PENDING\n\u001b[0;32m    334\u001b[0m     \u001b[39mself\u001b[39m\u001b[39m.\u001b[39m_result \u001b[39m=\u001b[39m \u001b[39mNone\u001b[39;00m\n",
      "File \u001b[1;32mc:\\Users\\anura\\AppData\\Local\\Programs\\Python\\Python310\\lib\\threading.py:238\u001b[0m, in \u001b[0;36mCondition.__init__\u001b[1;34m(self, lock)\u001b[0m\n\u001b[0;32m    236\u001b[0m \u001b[39mdef\u001b[39;00m \u001b[39m__init__\u001b[39m(\u001b[39mself\u001b[39m, lock\u001b[39m=\u001b[39m\u001b[39mNone\u001b[39;00m):\n\u001b[0;32m    237\u001b[0m     \u001b[39mif\u001b[39;00m lock \u001b[39mis\u001b[39;00m \u001b[39mNone\u001b[39;00m:\n\u001b[1;32m--> 238\u001b[0m         lock \u001b[39m=\u001b[39m RLock()\n\u001b[0;32m    239\u001b[0m     \u001b[39mself\u001b[39m\u001b[39m.\u001b[39m_lock \u001b[39m=\u001b[39m lock\n\u001b[0;32m    240\u001b[0m     \u001b[39m# Export the lock's acquire() and release() methods\u001b[39;00m\n",
      "File \u001b[1;32mc:\\Users\\anura\\AppData\\Local\\Programs\\Python\\Python310\\lib\\threading.py:101\u001b[0m, in \u001b[0;36mRLock\u001b[1;34m(*args, **kwargs)\u001b[0m\n\u001b[0;32m     99\u001b[0m \u001b[39mif\u001b[39;00m _CRLock \u001b[39mis\u001b[39;00m \u001b[39mNone\u001b[39;00m:\n\u001b[0;32m    100\u001b[0m     \u001b[39mreturn\u001b[39;00m _PyRLock(\u001b[39m*\u001b[39margs, \u001b[39m*\u001b[39m\u001b[39m*\u001b[39mkwargs)\n\u001b[1;32m--> 101\u001b[0m \u001b[39mreturn\u001b[39;00m _CRLock(\u001b[39m*\u001b[39margs, \u001b[39m*\u001b[39m\u001b[39m*\u001b[39mkwargs)\n",
      "\u001b[1;31mRuntimeError\u001b[0m: can't allocate lock"
     ]
    }
   ],
   "source": [
    "import time\n",
    "import concurrent.futures\n",
    "import sys  \n",
    "sys.path.insert(0, '365-Days-of-Python\\First50_Armstrong_numbers\\first50armstrongs.py')\n",
    "from first50armstrongs import is_armstrong as is_armstrong\n",
    "import numpy as np\n",
    "\n",
    "\n",
    "if __name__ == \"__main__\":\n",
    "    t1 = time.perf_counter()\n",
    "\n",
    "    with concurrent.futures.ThreadPoolExecutor() as executor:\n",
    "        # secs = [5,4,3,2,1,371,343]\n",
    "        secs = np.arange(start=10000000, stop=50000000)\n",
    "        # results = [executor.submit(is_armstrong, sec) for sec in secs]\n",
    "        results = executor.map(is_armstrong, secs)\n",
    "\n",
    "        for result in results:\n",
    "            if(result != None):\n",
    "                print(result)\n",
    "        \"\"\" if(f1.result() != None):\n",
    "            print(f1.result()) \"\"\"\n",
    "    \n",
    "    \"\"\" for f in concurrent.futures.as_completed(results):\n",
    "        if(f.result() != None):\n",
    "            print(f.result()) \"\"\"\n",
    "\n",
    "        \n",
    "\n",
    "    t2 = time.perf_counter()\n",
    "\n",
    "    print(f\"Finished in {t2-t1} seconds.\")"
   ]
  }
 ],
 "metadata": {
  "kernelspec": {
   "display_name": "Python 3",
   "language": "python",
   "name": "python3"
  },
  "language_info": {
   "codemirror_mode": {
    "name": "ipython",
    "version": 3
   },
   "file_extension": ".py",
   "mimetype": "text/x-python",
   "name": "python",
   "nbconvert_exporter": "python",
   "pygments_lexer": "ipython3",
   "version": "3.10.7"
  },
  "orig_nbformat": 4,
  "vscode": {
   "interpreter": {
    "hash": "fbfacf25abbc4466cbf6a4ec94f71aa428570133f008ac9f4c86deb26a69bb88"
   }
  }
 },
 "nbformat": 4,
 "nbformat_minor": 2
}
