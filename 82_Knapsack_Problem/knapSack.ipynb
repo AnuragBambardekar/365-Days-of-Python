{
 "cells": [
  {
   "attachments": {},
   "cell_type": "markdown",
   "metadata": {},
   "source": [
    "# The Knapsack Problem"
   ]
  },
  {
   "attachments": {},
   "cell_type": "markdown",
   "metadata": {},
   "source": [
    "The knapsack problem is the following problem in combinatorial optimization:\n",
    "\n",
    "```Given a set of items, each with a weight and a value, determine which items to include in the collection so that the total weight is less than or equal to a given limit and the total value is as large as possible.```\n",
    "\n",
    "It derives its name from the problem faced by someone who is constrained by a fixed-size knapsack and must fill it with the most valuable items. The problem often arises in resource allocation where the decision-makers have to choose from a set of non-divisible projects or tasks under a fixed budget or time constraint, respectively. ~[Wikipedia]"
   ]
  },
  {
   "attachments": {},
   "cell_type": "markdown",
   "metadata": {},
   "source": [
    "Simply put, We are given N items where each item has some weight and profit associated with it. We are also given a bag with capacity W, [i.e., the bag can hold at most W weight in it]. The target is to put the items into the bag such that the sum of profits associated with them is the maximum possible. \n",
    "\n",
    "```Note: The constraint here is we can either put an item completely into the bag or cannot put it at all [It is not possible to put a part of an item into the bag].``` \n",
    "\n",
    "~ [Geeks4Geeks]"
   ]
  },
  {
   "attachments": {},
   "cell_type": "markdown",
   "metadata": {},
   "source": [
    "Input: N = 3, W = 4, profit[ ] = {1, 2, 3}, weight[ ] = {4, 5, 1} <br>\n",
    "Output: 3 <br>\n",
    "Explanation: There are two items which have weight less than or equal to 4. If we select the item with weight 4, the possible profit is 1. And if we select the item with weight 1, the possible profit is 3. So the maximum possible profit is 3. \n",
    "\n",
    "```Note that we cannot put both the items with weight 4 and 1 together as the capacity of the bag is 4.```"
   ]
  },
  {
   "cell_type": "code",
   "execution_count": 1,
   "metadata": {},
   "outputs": [],
   "source": [
    "# Define the function for solving the Knapsack problem\n",
    "def knapsack_problem(weights, values, capacity):\n",
    "    # Create a list of zeros with length equal to capacity + 1\n",
    "    # This will be used to store the maximum value that can be obtained for each capacity\n",
    "    max_values = [0] * (capacity + 1)\n",
    "    \n",
    "    # Iterate over each item in the given set of items\n",
    "    for i in range(len(weights)):\n",
    "        # Iterate over each possible capacity from the maximum down to the weight of the item\n",
    "        for j in range(capacity, weights[i] - 1, -1):\n",
    "            # Calculate the maximum value that can be obtained for this capacity\n",
    "            max_values[j] = max(max_values[j], max_values[j - weights[i]] + values[i])\n",
    "    \n",
    "    # Return the maximum value that can be obtained for the given capacity\n",
    "    return max_values[capacity]"
   ]
  },
  {
   "cell_type": "code",
   "execution_count": 2,
   "metadata": {},
   "outputs": [
    {
     "name": "stdout",
     "output_type": "stream",
     "text": [
      "220\n"
     ]
    }
   ],
   "source": [
    "weights = [10, 20, 30]\n",
    "values = [60, 100, 120]\n",
    "capacity = 50\n",
    "result = knapsack_problem(weights, values, capacity)\n",
    "print(result)"
   ]
  },
  {
   "attachments": {},
   "cell_type": "markdown",
   "metadata": {},
   "source": [
    "The time complexity of the Knapsack problem algorithm implemented in the code is O(N * C), where N is the number of items and C is the capacity of the knapsack. This is because for each item, the algorithm considers all capacities between the item's weight and the maximum capacity of the knapsack.\n",
    "\n",
    "The space complexity of the algorithm is O(C), as it uses a one-dimensional list of length C+1 to store the maximum value that can be obtained for each capacity.\n",
    "\n",
    "Therefore, the time complexity of the algorithm is polynomial in the size of the input, and the space complexity is linear in the size of the input. This makes the algorithm efficient for moderate-sized inputs. However, for very large inputs, the time and space requirements of the algorithm may become prohibitive. In such cases, more advanced techniques, such as dynamic programming with memoization, may be necessary to solve the problem efficiently."
   ]
  },
  {
   "attachments": {},
   "cell_type": "markdown",
   "metadata": {},
   "source": [
    "## Using Recursion"
   ]
  },
  {
   "cell_type": "code",
   "execution_count": 3,
   "metadata": {},
   "outputs": [],
   "source": [
    "def knapsack_problem_recursion(weights, values, capacity):\n",
    "    # Base case: no items or no capacity\n",
    "    if capacity == 0 or len(weights) == 0:\n",
    "        return 0\n",
    "\n",
    "    # If the weight of the last item is more than the remaining capacity,\n",
    "    # skip the last item and recursively solve for the remaining items\n",
    "    if weights[-1] > capacity:\n",
    "        return knapsack_problem_recursion(weights[:-1], values[:-1], capacity)\n",
    "\n",
    "    # If the last item can be included, consider two cases:\n",
    "    # 1. Include the last item and recursively solve for the remaining items with reduced capacity\n",
    "    # 2. Skip the last item and recursively solve for the remaining items with the same capacity\n",
    "    return max(\n",
    "        values[-1] + knapsack_problem_recursion(weights[:-1], values[:-1], capacity - weights[-1]), \n",
    "        knapsack_problem_recursion(weights[:-1], values[:-1], capacity)\n",
    "    )\n"
   ]
  },
  {
   "cell_type": "code",
   "execution_count": 4,
   "metadata": {},
   "outputs": [
    {
     "name": "stdout",
     "output_type": "stream",
     "text": [
      "220\n"
     ]
    }
   ],
   "source": [
    "weights = [10, 20, 30]\n",
    "values = [60, 100, 120]\n",
    "capacity = 50\n",
    "result = knapsack_problem_recursion(weights, values, capacity)\n",
    "print(result) "
   ]
  },
  {
   "attachments": {},
   "cell_type": "markdown",
   "metadata": {},
   "source": [
    "Time Complexity: O(2^N) <br>\n",
    "Auxiliary Space: O(N), Stack space required for recursion <br>\n",
    "Using recursion computes the same subproblems again and again. "
   ]
  },
  {
   "attachments": {},
   "cell_type": "markdown",
   "metadata": {},
   "source": [
    "## Future Work:\n",
    "- explore memoization\n",
    "- explore dynamic programming"
   ]
  }
 ],
 "metadata": {
  "kernelspec": {
   "display_name": "Python 3",
   "language": "python",
   "name": "python3"
  },
  "language_info": {
   "codemirror_mode": {
    "name": "ipython",
    "version": 3
   },
   "file_extension": ".py",
   "mimetype": "text/x-python",
   "name": "python",
   "nbconvert_exporter": "python",
   "pygments_lexer": "ipython3",
   "version": "3.10.8"
  },
  "orig_nbformat": 4
 },
 "nbformat": 4,
 "nbformat_minor": 2
}
