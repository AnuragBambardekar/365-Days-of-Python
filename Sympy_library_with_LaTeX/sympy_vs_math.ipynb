{
 "cells": [
  {
   "cell_type": "code",
   "execution_count": 86,
   "metadata": {},
   "outputs": [],
   "source": [
    "from sympy.interactive import printing\n",
    "printing.init_printing(use_latex = True)\n",
    "\n",
    "import math\n",
    "import sympy as sp\n",
    "from sympy import symbols, factor, expand, diff, integrate, limit, oo, Eq, solve, dsolve, Function, Matrix"
   ]
  },
  {
   "cell_type": "code",
   "execution_count": 26,
   "metadata": {},
   "outputs": [
    {
     "data": {
      "image/png": "[encoded data removed]",
      "text/latex": [
       "$\\displaystyle 4.0$"
      ],
      "text/plain": [
       "4.0"
      ]
     },
     "metadata": {},
     "output_type": "display_data"
    },
    {
     "data": {
      "image/png": "[encoded data removed]",
      "text/latex": [
       "$\\displaystyle 4$"
      ],
      "text/plain": [
       "4"
      ]
     },
     "metadata": {},
     "output_type": "display_data"
    }
   ],
   "source": [
    "display(math.sqrt(16))\n",
    "display(sp.sqrt(16))"
   ]
  },
  {
   "cell_type": "code",
   "execution_count": 27,
   "metadata": {},
   "outputs": [
    {
     "data": {
      "image/png": "[encoded data removed]",
      "text/latex": [
       "$\\displaystyle 3.87298334620742$"
      ],
      "text/plain": [
       "3.872983346207417"
      ]
     },
     "metadata": {},
     "output_type": "display_data"
    },
    {
     "data": {
      "image/png": "[encoded data removed]",
      "text/latex": [
       "$\\displaystyle \\sqrt{15}$"
      ],
      "text/plain": [
       "√15"
      ]
     },
     "metadata": {},
     "output_type": "display_data"
    }
   ],
   "source": [
    "display(math.sqrt(15))\n",
    "display(sp.sqrt(15))"
   ]
  },
  {
   "attachments": {},
   "cell_type": "markdown",
   "metadata": {},
   "source": [
    "#### Sympy"
   ]
  },
  {
   "cell_type": "code",
   "execution_count": 28,
   "metadata": {},
   "outputs": [
    {
     "data": {
      "image/png": "[encoded data removed]",
      "text/latex": [
       "$\\displaystyle 2 x + y$"
      ],
      "text/plain": [
       "2⋅x + y"
      ]
     },
     "metadata": {},
     "output_type": "display_data"
    },
    {
     "data": {
      "image/png": "[encoded data removed]",
      "text/latex": [
       "$\\displaystyle 2 x$"
      ],
      "text/plain": [
       "2⋅x"
      ]
     },
     "metadata": {},
     "output_type": "display_data"
    },
    {
     "data": {
      "image/png": "[encoded data removed]",
      "text/latex": [
       "$\\displaystyle x + y$"
      ],
      "text/plain": [
       "x + y"
      ]
     },
     "metadata": {},
     "output_type": "display_data"
    }
   ],
   "source": [
    "x = symbols(\"x\")\n",
    "y = symbols(\"y\")\n",
    "\n",
    "expression1 = 2*x+y\n",
    "display(expression1)\n",
    "display(expression1-y)\n",
    "display(expression1-x)"
   ]
  },
  {
   "cell_type": "code",
   "execution_count": 29,
   "metadata": {},
   "outputs": [
    {
     "data": {
      "image/png": "[encoded data removed]",
      "text/latex": [
       "$\\displaystyle 2 x + 2 y$"
      ],
      "text/plain": [
       "2⋅x + 2⋅y"
      ]
     },
     "metadata": {},
     "output_type": "display_data"
    }
   ],
   "source": [
    "expression2 = 2*(x+y)\n",
    "display(expression2)"
   ]
  },
  {
   "cell_type": "code",
   "execution_count": 30,
   "metadata": {},
   "outputs": [
    {
     "data": {
      "image/png": "[encoded data removed]",
      "text/latex": [
       "$\\displaystyle 2 \\left(x + y\\right)$"
      ],
      "text/plain": [
       "2⋅(x + y)"
      ]
     },
     "metadata": {},
     "output_type": "display_data"
    }
   ],
   "source": [
    "display(factor(expression2))"
   ]
  },
  {
   "cell_type": "code",
   "execution_count": 31,
   "metadata": {},
   "outputs": [
    {
     "data": {
      "image/png": "[encoded data removed]",
      "text/latex": [
       "$\\displaystyle 2 x + 2 y$"
      ],
      "text/plain": [
       "2⋅x + 2⋅y"
      ]
     },
     "metadata": {},
     "output_type": "display_data"
    }
   ],
   "source": [
    "display(expand(expression2))"
   ]
  },
  {
   "attachments": {},
   "cell_type": "markdown",
   "metadata": {},
   "source": [
    "#### Derivatives and Integrals"
   ]
  },
  {
   "cell_type": "code",
   "execution_count": 37,
   "metadata": {},
   "outputs": [
    {
     "data": {
      "image/png": "[encoded data removed]",
      "text/latex": [
       "$\\displaystyle x^{2}$"
      ],
      "text/plain": [
       " 2\n",
       "x "
      ]
     },
     "metadata": {},
     "output_type": "display_data"
    },
    {
     "data": {
      "image/png": "[encoded data removed]",
      "text/latex": [
       "$\\displaystyle \\frac{d}{d x} x^{2}$"
      ],
      "text/plain": [
       "d ⎛ 2⎞\n",
       "──⎝x ⎠\n",
       "dx    "
      ]
     },
     "metadata": {},
     "output_type": "display_data"
    }
   ],
   "source": [
    "formula = x**2\n",
    "display(formula)\n",
    "f = sp.Derivative(x**2,x)\n",
    "display(f)"
   ]
  },
  {
   "cell_type": "code",
   "execution_count": 33,
   "metadata": {},
   "outputs": [
    {
     "data": {
      "image/png": "[encoded data removed]",
      "text/latex": [
       "$\\displaystyle 2 x$"
      ],
      "text/plain": [
       "2⋅x"
      ]
     },
     "metadata": {},
     "output_type": "display_data"
    }
   ],
   "source": [
    "display(diff(formula))"
   ]
  },
  {
   "cell_type": "code",
   "execution_count": 38,
   "metadata": {},
   "outputs": [
    {
     "data": {
      "image/png": "[encoded data removed]",
      "text/latex": [
       "$\\displaystyle 45 x^{4} + 2 x + 5$"
      ],
      "text/plain": [
       "    4          \n",
       "45⋅x  + 2⋅x + 5"
      ]
     },
     "metadata": {},
     "output_type": "display_data"
    }
   ],
   "source": [
    "display(diff(x**2 + 5*x + 16 + x**5 * 9))"
   ]
  },
  {
   "cell_type": "code",
   "execution_count": 40,
   "metadata": {},
   "outputs": [
    {
     "data": {
      "image/png": "[encoded data removed]",
      "text/latex": [
       "$\\displaystyle 2 x$"
      ],
      "text/plain": [
       "2⋅x"
      ]
     },
     "metadata": {},
     "output_type": "display_data"
    }
   ],
   "source": [
    "display(diff(x**2 + y**2, x)) # differente w.r.t. x"
   ]
  },
  {
   "cell_type": "code",
   "execution_count": 41,
   "metadata": {},
   "outputs": [
    {
     "data": {
      "image/png": "[encoded data removed]",
      "text/latex": [
       "$\\displaystyle 2 x y^{2}$"
      ],
      "text/plain": [
       "     2\n",
       "2⋅x⋅y "
      ]
     },
     "metadata": {},
     "output_type": "display_data"
    }
   ],
   "source": [
    "display(diff(x**2 * y**2, x)) # differente w.r.t. x"
   ]
  },
  {
   "cell_type": "code",
   "execution_count": 42,
   "metadata": {},
   "outputs": [
    {
     "data": {
      "image/png": "[encoded data removed]",
      "text/latex": [
       "$\\displaystyle 2 x^{2} y$"
      ],
      "text/plain": [
       "   2  \n",
       "2⋅x ⋅y"
      ]
     },
     "metadata": {},
     "output_type": "display_data"
    }
   ],
   "source": [
    "display(diff(x**2 * y**2, y)) # differente w.r.t. y"
   ]
  },
  {
   "cell_type": "code",
   "execution_count": 43,
   "metadata": {},
   "outputs": [
    {
     "data": {
      "image/png": "[encoded data removed]",
      "text/latex": [
       "$\\displaystyle e^{x}$"
      ],
      "text/plain": [
       " x\n",
       "ℯ "
      ]
     },
     "metadata": {},
     "output_type": "display_data"
    }
   ],
   "source": [
    "display(diff(sp.exp(x)))"
   ]
  },
  {
   "cell_type": "code",
   "execution_count": 45,
   "metadata": {},
   "outputs": [
    {
     "data": {
      "image/png": "[encoded data removed]",
      "text/latex": [
       "$\\displaystyle - \\sin{\\left(x \\right)} + \\cos{\\left(x \\right)}$"
      ],
      "text/plain": [
       "-sin(x) + cos(x)"
      ]
     },
     "metadata": {},
     "output_type": "display_data"
    }
   ],
   "source": [
    "display(diff(sp.sin(x) + sp.cos(x)))"
   ]
  },
  {
   "cell_type": "code",
   "execution_count": 46,
   "metadata": {},
   "outputs": [
    {
     "data": {
      "image/png": "[encoded data removed]",
      "text/latex": [
       "$\\displaystyle \\frac{x^{3}}{3}$"
      ],
      "text/plain": [
       " 3\n",
       "x \n",
       "──\n",
       "3 "
      ]
     },
     "metadata": {},
     "output_type": "display_data"
    }
   ],
   "source": [
    "display(integrate(formula))"
   ]
  },
  {
   "cell_type": "code",
   "execution_count": 48,
   "metadata": {},
   "outputs": [
    {
     "data": {
      "image/png": "[encoded data removed]",
      "text/latex": [
       "$\\displaystyle \\frac{2^{x}}{\\log{\\left(2 \\right)}} + 2^{y} x$"
      ],
      "text/plain": [
       "   x         \n",
       "  2       y  \n",
       "────── + 2 ⋅x\n",
       "log(2)       "
      ]
     },
     "metadata": {},
     "output_type": "display_data"
    }
   ],
   "source": [
    "display(integrate(2 ** x + 2 ** y, x))"
   ]
  },
  {
   "cell_type": "code",
   "execution_count": 50,
   "metadata": {},
   "outputs": [
    {
     "data": {
      "image/png": "[encoded data removed]",
      "text/latex": [
       "$\\displaystyle \\frac{1000}{3}$"
      ],
      "text/plain": [
       "1000/3"
      ]
     },
     "metadata": {},
     "output_type": "display_data"
    }
   ],
   "source": [
    "display(integrate(x ** 2 , (x, 0, 10))) #specify limits"
   ]
  },
  {
   "cell_type": "code",
   "execution_count": 52,
   "metadata": {},
   "outputs": [
    {
     "data": {
      "image/png": "[encoded data removed]",
      "text/latex": [
       "$\\displaystyle \\left\\langle -2, 2\\right\\rangle$"
      ],
      "text/plain": [
       "<-2, 2>"
      ]
     },
     "metadata": {},
     "output_type": "display_data"
    }
   ],
   "source": [
    "display(integrate(sp.sin(x), (x, -oo, oo))) #specify limits"
   ]
  },
  {
   "cell_type": "code",
   "execution_count": 53,
   "metadata": {},
   "outputs": [
    {
     "data": {
      "image/png": "[encoded data removed]",
      "text/latex": [
       "$\\displaystyle \\frac{\\sqrt{2} \\sqrt{\\pi}}{2}$"
      ],
      "text/plain": [
       "√2⋅√π\n",
       "─────\n",
       "  2  "
      ]
     },
     "metadata": {},
     "output_type": "display_data"
    }
   ],
   "source": [
    "display(integrate(sp.sin(x**2), (x, -oo, oo))) #specify limits"
   ]
  },
  {
   "cell_type": "code",
   "execution_count": 55,
   "metadata": {},
   "outputs": [
    {
     "data": {
      "image/png": "[encoded data removed]",
      "text/latex": [
       "$\\displaystyle \\int\\limits_{0}^{\\infty} \\frac{1}{x^{4} + 1}\\, dx$"
      ],
      "text/plain": [
       "∞          \n",
       "⌠          \n",
       "⎮   1      \n",
       "⎮ ────── dx\n",
       "⎮  4       \n",
       "⎮ x  + 1   \n",
       "⌡          \n",
       "0          "
      ]
     },
     "metadata": {},
     "output_type": "display_data"
    },
    {
     "data": {
      "image/png": "[encoded data removed]",
      "text/latex": [
       "$\\displaystyle \\frac{\\sqrt{2} \\pi}{4}$"
      ],
      "text/plain": [
       "√2⋅π\n",
       "────\n",
       " 4  "
      ]
     },
     "metadata": {},
     "output_type": "display_data"
    }
   ],
   "source": [
    "display(sp.Integral(1/ (x**4 + 1), (x, 0, oo)))\n",
    "display(integrate(1/ (x**4 + 1), (x, 0, oo))) #specify limits"
   ]
  },
  {
   "attachments": {},
   "cell_type": "markdown",
   "metadata": {},
   "source": [
    "#### Limits"
   ]
  },
  {
   "cell_type": "code",
   "execution_count": 59,
   "metadata": {},
   "outputs": [
    {
     "data": {
      "image/png": "[encoded data removed]",
      "text/latex": [
       "$\\displaystyle \\lim_{x \\to 0^+} x$"
      ],
      "text/plain": [
       " lim x\n",
       "x─→0⁺ "
      ]
     },
     "metadata": {},
     "output_type": "display_data"
    },
    {
     "data": {
      "image/png": "[encoded data removed]",
      "text/latex": [
       "$\\displaystyle 0$"
      ],
      "text/plain": [
       "0"
      ]
     },
     "metadata": {},
     "output_type": "display_data"
    }
   ],
   "source": [
    "display(sp.Limit(x,x,0))\n",
    "display(limit(x,x,0))"
   ]
  },
  {
   "cell_type": "code",
   "execution_count": 60,
   "metadata": {},
   "outputs": [
    {
     "data": {
      "image/png": "[encoded data removed]",
      "text/latex": [
       "$\\displaystyle \\lim_{x \\to 5^+} x$"
      ],
      "text/plain": [
       " lim x\n",
       "x─→5⁺ "
      ]
     },
     "metadata": {},
     "output_type": "display_data"
    },
    {
     "data": {
      "image/png": "[encoded data removed]",
      "text/latex": [
       "$\\displaystyle 5$"
      ],
      "text/plain": [
       "5"
      ]
     },
     "metadata": {},
     "output_type": "display_data"
    }
   ],
   "source": [
    "display(sp.Limit(x,x,5))\n",
    "display(limit(x,x,5))"
   ]
  },
  {
   "cell_type": "code",
   "execution_count": 61,
   "metadata": {},
   "outputs": [
    {
     "data": {
      "image/png": "[encoded data removed]",
      "text/latex": [
       "$\\displaystyle \\lim_{x \\to 5^+} x^{2}$"
      ],
      "text/plain": [
       "      2\n",
       " lim x \n",
       "x─→5⁺  "
      ]
     },
     "metadata": {},
     "output_type": "display_data"
    },
    {
     "data": {
      "image/png": "[encoded data removed]",
      "text/latex": [
       "$\\displaystyle 25$"
      ],
      "text/plain": [
       "25"
      ]
     },
     "metadata": {},
     "output_type": "display_data"
    }
   ],
   "source": [
    "display(sp.Limit(x**2,x,5))\n",
    "display(limit(x**2,x,5))"
   ]
  },
  {
   "cell_type": "code",
   "execution_count": 62,
   "metadata": {},
   "outputs": [
    {
     "data": {
      "image/png": "[encoded data removed]",
      "text/latex": [
       "$\\displaystyle \\lim_{x \\to 0^+}\\left(\\frac{50}{x}\\right)$"
      ],
      "text/plain": [
       "     ⎛50⎞\n",
       " lim ⎜──⎟\n",
       "x─→0⁺⎝x ⎠"
      ]
     },
     "metadata": {},
     "output_type": "display_data"
    },
    {
     "data": {
      "image/png": "[encoded data removed]",
      "text/latex": [
       "$\\displaystyle \\infty$"
      ],
      "text/plain": [
       "∞"
      ]
     },
     "metadata": {},
     "output_type": "display_data"
    }
   ],
   "source": [
    "display(sp.Limit(50/x,x,0))\n",
    "display(limit(50/x,x,0))"
   ]
  },
  {
   "cell_type": "code",
   "execution_count": 63,
   "metadata": {},
   "outputs": [
    {
     "data": {
      "image/png": "[encoded data removed]",
      "text/latex": [
       "$\\displaystyle \\lim_{x \\to \\infty}\\left(\\frac{50}{x}\\right)$"
      ],
      "text/plain": [
       "    ⎛50⎞\n",
       "lim ⎜──⎟\n",
       "x─→∞⎝x ⎠"
      ]
     },
     "metadata": {},
     "output_type": "display_data"
    },
    {
     "data": {
      "image/png": "[encoded data removed]",
      "text/latex": [
       "$\\displaystyle 0$"
      ],
      "text/plain": [
       "0"
      ]
     },
     "metadata": {},
     "output_type": "display_data"
    }
   ],
   "source": [
    "display(sp.Limit(50/x,x,oo))\n",
    "display(limit(50/x,x,oo))"
   ]
  },
  {
   "cell_type": "code",
   "execution_count": 64,
   "metadata": {},
   "outputs": [
    {
     "data": {
      "image/png": "[encoded data removed]",
      "text/latex": [
       "$\\displaystyle \\lim_{x \\to 0^+}\\left(\\frac{\\sin{\\left(x \\right)}}{x}\\right)$"
      ],
      "text/plain": [
       "     ⎛sin(x)⎞\n",
       " lim ⎜──────⎟\n",
       "x─→0⁺⎝  x   ⎠"
      ]
     },
     "metadata": {},
     "output_type": "display_data"
    },
    {
     "data": {
      "image/png": "[encoded data removed]",
      "text/latex": [
       "$\\displaystyle 1$"
      ],
      "text/plain": [
       "1"
      ]
     },
     "metadata": {},
     "output_type": "display_data"
    }
   ],
   "source": [
    "display(sp.Limit(sp.sin(x)/x,x,0))\n",
    "display(limit(sp.sin(x)/x,x,0))"
   ]
  },
  {
   "cell_type": "code",
   "execution_count": 65,
   "metadata": {},
   "outputs": [
    {
     "data": {
      "image/png": "[encoded data removed]",
      "text/latex": [
       "$\\displaystyle \\lim_{x \\to 0^+} \\sin{\\left(x \\right)}$"
      ],
      "text/plain": [
       " lim sin(x)\n",
       "x─→0⁺      "
      ]
     },
     "metadata": {},
     "output_type": "display_data"
    },
    {
     "data": {
      "image/png": "[encoded data removed]",
      "text/latex": [
       "$\\displaystyle 0$"
      ],
      "text/plain": [
       "0"
      ]
     },
     "metadata": {},
     "output_type": "display_data"
    }
   ],
   "source": [
    "display(sp.Limit(sp.sin(x),x,0))\n",
    "display(limit(sp.sin(x),x,0))"
   ]
  },
  {
   "attachments": {},
   "cell_type": "markdown",
   "metadata": {},
   "source": [
    "#### Solving Equations"
   ]
  },
  {
   "cell_type": "code",
   "execution_count": 72,
   "metadata": {},
   "outputs": [
    {
     "data": {
      "image/png": "[encoded data removed]",
      "text/latex": [
       "$\\displaystyle 3 x + 5$"
      ],
      "text/plain": [
       "3⋅x + 5"
      ]
     },
     "metadata": {},
     "output_type": "display_data"
    },
    {
     "data": {
      "image/png": "[encoded data removed]",
      "text/latex": [
       "$\\displaystyle \\left[ - \\frac{5}{3}\\right]$"
      ],
      "text/plain": [
       "[-5/3]"
      ]
     },
     "metadata": {},
     "output_type": "display_data"
    }
   ],
   "source": [
    "display(expand(2*x+x+5))\n",
    "display(solve(2*x+x+5))"
   ]
  },
  {
   "cell_type": "code",
   "execution_count": 73,
   "metadata": {},
   "outputs": [
    {
     "data": {
      "image/png": "[encoded data removed]",
      "text/latex": [
       "$\\displaystyle \\left[ -4, \\  4\\right]$"
      ],
      "text/plain": [
       "[-4, 4]"
      ]
     },
     "metadata": {},
     "output_type": "display_data"
    }
   ],
   "source": [
    "display(solve(Eq(x**2, 16)))"
   ]
  },
  {
   "cell_type": "code",
   "execution_count": 74,
   "metadata": {},
   "outputs": [
    {
     "data": {
      "image/png": "[encoded data removed]",
      "text/latex": [
       "$\\displaystyle \\left[ - \\sqrt{y}, \\  \\sqrt{y}\\right]$"
      ],
      "text/plain": [
       "[-√y, √y]"
      ]
     },
     "metadata": {},
     "output_type": "display_data"
    }
   ],
   "source": [
    "display(solve(Eq(x**2, y), x))"
   ]
  },
  {
   "cell_type": "code",
   "execution_count": 75,
   "metadata": {},
   "outputs": [
    {
     "data": {
      "image/png": "[encoded data removed]",
      "text/latex": [
       "$\\displaystyle \\left[ 2 \\cdot \\sqrt[3]{2}, \\  - \\sqrt[3]{2} - \\sqrt[3]{2} \\sqrt{3} i, \\  - \\sqrt[3]{2} + \\sqrt[3]{2} \\sqrt{3} i\\right]$"
      ],
      "text/plain": [
       "⎡  3 ___    3 ___   3 ___         3 ___   3 ___     ⎤\n",
       "⎣2⋅╲╱ 2 , - ╲╱ 2  - ╲╱ 2 ⋅√3⋅ⅈ, - ╲╱ 2  + ╲╱ 2 ⋅√3⋅ⅈ⎦"
      ]
     },
     "metadata": {},
     "output_type": "display_data"
    }
   ],
   "source": [
    "display(solve(Eq(x**3, 16)))"
   ]
  },
  {
   "cell_type": "code",
   "execution_count": 76,
   "metadata": {},
   "outputs": [
    {
     "data": {
      "image/png": "[encoded data removed]",
      "text/latex": [
       "$\\displaystyle \\left[ \\right]$"
      ],
      "text/plain": [
       "[]"
      ]
     },
     "metadata": {},
     "output_type": "display_data"
    }
   ],
   "source": [
    "display(solve(Eq(x-1, x)))"
   ]
  },
  {
   "cell_type": "code",
   "execution_count": 78,
   "metadata": {},
   "outputs": [
    {
     "data": {
      "image/png": "[encoded data removed]",
      "text/latex": [
       "$\\displaystyle \\left[ \\sqrt[17]{15}, \\  - \\sqrt[17]{15} \\cos{\\left(\\frac{\\pi}{17} \\right)} - \\sqrt[17]{15} i \\sin{\\left(\\frac{\\pi}{17} \\right)}, \\  - \\sqrt[17]{15} \\cos{\\left(\\frac{\\pi}{17} \\right)} + \\sqrt[17]{15} i \\sin{\\left(\\frac{\\pi}{17} \\right)}, \\  \\sqrt[17]{15} \\cos{\\left(\\frac{2 \\pi}{17} \\right)} - \\sqrt[17]{15} i \\sin{\\left(\\frac{2 \\pi}{17} \\right)}, \\  \\sqrt[17]{15} \\cos{\\left(\\frac{2 \\pi}{17} \\right)} + \\sqrt[17]{15} i \\sin{\\left(\\frac{2 \\pi}{17} \\right)}, \\  - \\sqrt[17]{15} \\cos{\\left(\\frac{3 \\pi}{17} \\right)} - \\sqrt[17]{15} i \\sin{\\left(\\frac{3 \\pi}{17} \\right)}, \\  - \\sqrt[17]{15} \\cos{\\left(\\frac{3 \\pi}{17} \\right)} + \\sqrt[17]{15} i \\sin{\\left(\\frac{3 \\pi}{17} \\right)}, \\  \\sqrt[17]{15} \\cos{\\left(\\frac{4 \\pi}{17} \\right)} - \\sqrt[17]{15} i \\sin{\\left(\\frac{4 \\pi}{17} \\right)}, \\  \\sqrt[17]{15} \\cos{\\left(\\frac{4 \\pi}{17} \\right)} + \\sqrt[17]{15} i \\sin{\\left(\\frac{4 \\pi}{17} \\right)}, \\  - \\sqrt[17]{15} \\cos{\\left(\\frac{5 \\pi}{17} \\right)} - \\sqrt[17]{15} i \\sin{\\left(\\frac{5 \\pi}{17} \\right)}, \\  - \\sqrt[17]{15} \\cos{\\left(\\frac{5 \\pi}{17} \\right)} + \\sqrt[17]{15} i \\sin{\\left(\\frac{5 \\pi}{17} \\right)}, \\  \\sqrt[17]{15} \\cos{\\left(\\frac{6 \\pi}{17} \\right)} - \\sqrt[17]{15} i \\sin{\\left(\\frac{6 \\pi}{17} \\right)}, \\  \\sqrt[17]{15} \\cos{\\left(\\frac{6 \\pi}{17} \\right)} + \\sqrt[17]{15} i \\sin{\\left(\\frac{6 \\pi}{17} \\right)}, \\  - \\sqrt[17]{15} \\cos{\\left(\\frac{7 \\pi}{17} \\right)} - \\sqrt[17]{15} i \\sin{\\left(\\frac{7 \\pi}{17} \\right)}, \\  - \\sqrt[17]{15} \\cos{\\left(\\frac{7 \\pi}{17} \\right)} + \\sqrt[17]{15} i \\sin{\\left(\\frac{7 \\pi}{17} \\right)}, \\  \\sqrt[17]{15} \\cos{\\left(\\frac{8 \\pi}{17} \\right)} - \\sqrt[17]{15} i \\sin{\\left(\\frac{8 \\pi}{17} \\right)}, \\  \\sqrt[17]{15} \\cos{\\left(\\frac{8 \\pi}{17} \\right)} + \\sqrt[17]{15} i \\sin{\\left(\\frac{8 \\pi}{17} \\right)}\\right]$"
      ],
      "text/plain": [
       "⎡17____    17____    ⎛π ⎞   17____      ⎛π ⎞    17____    ⎛π ⎞   17____      ⎛\n",
       "⎢╲╱ 15 , - ╲╱ 15 ⋅cos⎜──⎟ - ╲╱ 15 ⋅ⅈ⋅sin⎜──⎟, - ╲╱ 15 ⋅cos⎜──⎟ + ╲╱ 15 ⋅ⅈ⋅sin⎜\n",
       "⎣                    ⎝17⎠               ⎝17⎠              ⎝17⎠               ⎝\n",
       "\n",
       "π ⎞  17____    ⎛2⋅π⎞   17____      ⎛2⋅π⎞  17____    ⎛2⋅π⎞   17____      ⎛2⋅π⎞ \n",
       "──⎟, ╲╱ 15 ⋅cos⎜───⎟ - ╲╱ 15 ⋅ⅈ⋅sin⎜───⎟, ╲╱ 15 ⋅cos⎜───⎟ + ╲╱ 15 ⋅ⅈ⋅sin⎜───⎟,\n",
       "17⎠            ⎝ 17⎠               ⎝ 17⎠            ⎝ 17⎠               ⎝ 17⎠ \n",
       "\n",
       "   17____    ⎛3⋅π⎞   17____      ⎛3⋅π⎞    17____    ⎛3⋅π⎞   17____      ⎛3⋅π⎞ \n",
       " - ╲╱ 15 ⋅cos⎜───⎟ - ╲╱ 15 ⋅ⅈ⋅sin⎜───⎟, - ╲╱ 15 ⋅cos⎜───⎟ + ╲╱ 15 ⋅ⅈ⋅sin⎜───⎟,\n",
       "             ⎝ 17⎠               ⎝ 17⎠              ⎝ 17⎠               ⎝ 17⎠ \n",
       "\n",
       " 17____    ⎛4⋅π⎞   17____      ⎛4⋅π⎞  17____    ⎛4⋅π⎞   17____      ⎛4⋅π⎞    1\n",
       " ╲╱ 15 ⋅cos⎜───⎟ - ╲╱ 15 ⋅ⅈ⋅sin⎜───⎟, ╲╱ 15 ⋅cos⎜───⎟ + ╲╱ 15 ⋅ⅈ⋅sin⎜───⎟, - ╲\n",
       "           ⎝ 17⎠               ⎝ 17⎠            ⎝ 17⎠               ⎝ 17⎠     \n",
       "\n",
       "7____    ⎛5⋅π⎞   17____      ⎛5⋅π⎞    17____    ⎛5⋅π⎞   17____      ⎛5⋅π⎞  17_\n",
       "╱ 15 ⋅cos⎜───⎟ - ╲╱ 15 ⋅ⅈ⋅sin⎜───⎟, - ╲╱ 15 ⋅cos⎜───⎟ + ╲╱ 15 ⋅ⅈ⋅sin⎜───⎟, ╲╱ \n",
       "         ⎝ 17⎠               ⎝ 17⎠              ⎝ 17⎠               ⎝ 17⎠     \n",
       "\n",
       "___    ⎛6⋅π⎞   17____      ⎛6⋅π⎞  17____    ⎛6⋅π⎞   17____      ⎛6⋅π⎞    17___\n",
       "15 ⋅cos⎜───⎟ - ╲╱ 15 ⋅ⅈ⋅sin⎜───⎟, ╲╱ 15 ⋅cos⎜───⎟ + ╲╱ 15 ⋅ⅈ⋅sin⎜───⎟, - ╲╱ 15\n",
       "       ⎝ 17⎠               ⎝ 17⎠            ⎝ 17⎠               ⎝ 17⎠         \n",
       "\n",
       "_    ⎛7⋅π⎞   17____      ⎛7⋅π⎞    17____    ⎛7⋅π⎞   17____      ⎛7⋅π⎞  17____ \n",
       " ⋅cos⎜───⎟ - ╲╱ 15 ⋅ⅈ⋅sin⎜───⎟, - ╲╱ 15 ⋅cos⎜───⎟ + ╲╱ 15 ⋅ⅈ⋅sin⎜───⎟, ╲╱ 15 ⋅\n",
       "     ⎝ 17⎠               ⎝ 17⎠              ⎝ 17⎠               ⎝ 17⎠         \n",
       "\n",
       "   ⎛8⋅π⎞   17____      ⎛8⋅π⎞  17____    ⎛8⋅π⎞   17____      ⎛8⋅π⎞⎤\n",
       "cos⎜───⎟ - ╲╱ 15 ⋅ⅈ⋅sin⎜───⎟, ╲╱ 15 ⋅cos⎜───⎟ + ╲╱ 15 ⋅ⅈ⋅sin⎜───⎟⎥\n",
       "   ⎝ 17⎠               ⎝ 17⎠            ⎝ 17⎠               ⎝ 17⎠⎦"
      ]
     },
     "metadata": {},
     "output_type": "display_data"
    }
   ],
   "source": [
    "display(solve(Eq(x**17, 15),x))"
   ]
  },
  {
   "attachments": {},
   "cell_type": "markdown",
   "metadata": {},
   "source": [
    "#### Differential Equations"
   ]
  },
  {
   "cell_type": "code",
   "execution_count": 83,
   "metadata": {},
   "outputs": [],
   "source": [
    "t = symbols(\"t\")\n",
    "y = Function(\"y\")"
   ]
  },
  {
   "cell_type": "code",
   "execution_count": 85,
   "metadata": {},
   "outputs": [
    {
     "data": {
      "image/png": "[encoded data removed]",
      "text/latex": [
       "$\\displaystyle - y{\\left(t \\right)} + \\frac{d^{2}}{d t^{2}} y{\\left(t \\right)} = e^{t}$"
      ],
      "text/plain": [
       "          2           \n",
       "         d           t\n",
       "-y(t) + ───(y(t)) = ℯ \n",
       "          2           \n",
       "        dt            "
      ]
     },
     "metadata": {},
     "output_type": "display_data"
    },
    {
     "data": {
      "image/png": "[encoded data removed]",
      "text/latex": [
       "$\\displaystyle y{\\left(t \\right)}$"
      ],
      "text/plain": [
       "y(t)"
      ]
     },
     "metadata": {},
     "output_type": "display_data"
    },
    {
     "data": {
      "image/png": "[encoded data removed]",
      "text/latex": [
       "$\\displaystyle y{\\left(t \\right)} = C_{2} e^{- t} + \\left(C_{1} + \\frac{t}{2}\\right) e^{t}$"
      ],
      "text/plain": [
       "           -t   ⎛     t⎞  t\n",
       "y(t) = C₂⋅ℯ   + ⎜C₁ + ─⎟⋅ℯ \n",
       "                ⎝     2⎠   "
      ]
     },
     "metadata": {},
     "output_type": "display_data"
    }
   ],
   "source": [
    "display(Eq(y(t).diff(t,t)-y(t), sp.exp(t)), y(t))\n",
    "display(dsolve(Eq(y(t).diff(t,t)-y(t), sp.exp(t)), y(t)))"
   ]
  },
  {
   "attachments": {},
   "cell_type": "markdown",
   "metadata": {},
   "source": [
    "#### Matrices - Eigen Values"
   ]
  },
  {
   "cell_type": "code",
   "execution_count": 89,
   "metadata": {},
   "outputs": [
    {
     "data": {
      "image/png": "[encoded data removed]",
      "text/latex": [
       "$\\displaystyle \\left[\\begin{matrix}1 & 2\\\\2 & 2\\end{matrix}\\right]$"
      ],
      "text/plain": [
       "⎡1  2⎤\n",
       "⎢    ⎥\n",
       "⎣2  2⎦"
      ]
     },
     "metadata": {},
     "output_type": "display_data"
    },
    {
     "data": {
      "image/png": "[encoded data removed]",
      "text/latex": [
       "$\\displaystyle \\left\\{ \\frac{3}{2} - \\frac{\\sqrt{17}}{2} : 1, \\  \\frac{3}{2} + \\frac{\\sqrt{17}}{2} : 1\\right\\}$"
      ],
      "text/plain": [
       "⎧3   √17     3   √17   ⎫\n",
       "⎨─ - ───: 1, ─ + ───: 1⎬\n",
       "⎩2    2      2    2    ⎭"
      ]
     },
     "metadata": {},
     "output_type": "display_data"
    },
    {
     "data": {
      "image/png": "[encoded data removed]",
      "text/latex": [
       "$\\displaystyle -2$"
      ],
      "text/plain": [
       "-2"
      ]
     },
     "metadata": {},
     "output_type": "display_data"
    }
   ],
   "source": [
    "display(Matrix([[1,2],[2,2]]))\n",
    "display(Matrix([[1,2],[2,2]]).eigenvals())\n",
    "display(Matrix([[1,2],[2,2]]).det())\n"
   ]
  }
 ],
 "metadata": {
  "kernelspec": {
   "display_name": "Python 3",
   "language": "python",
   "name": "python3"
  },
  "language_info": {
   "codemirror_mode": {
    "name": "ipython",
    "version": 3
   },
   "file_extension": ".py",
   "mimetype": "text/x-python",
   "name": "python",
   "nbconvert_exporter": "python",
   "pygments_lexer": "ipython3",
   "version": "3.10.7"
  },
  "orig_nbformat": 4,
  "vscode": {
   "interpreter": {
    "hash": "fbfacf25abbc4466cbf6a4ec94f71aa428570133f008ac9f4c86deb26a69bb88"
   }
  }
 },
 "nbformat": 4,
 "nbformat_minor": 2
}
