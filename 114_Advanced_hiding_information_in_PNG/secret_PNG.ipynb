{
 "cells": [
  {
   "attachments": {},
   "cell_type": "markdown",
   "metadata": {},
   "source": [
    "# PNG"
   ]
  },
  {
   "attachments": {},
   "cell_type": "markdown",
   "metadata": {},
   "source": [
    "PNG (Portable Network Graphics) is a file format for digital images that was developed as a replacement for the GIF format, which had limitations such as a limited color palette and patent issues. PNG files support a wide range of color depths, including 24-bit RGB and 32-bit RGBA, and offer lossless compression, meaning that the image quality is not degraded when the file is compressed.\n",
    "\n",
    "PNG files are widely used for web graphics and digital art, as they offer good image quality and transparency support. They are also commonly used for logos, icons, and other types of graphics that require a transparent background. PNG files can be opened and edited using a variety of software programs, including Adobe Photoshop, GIMP, and Microsoft Paint.\n",
    "\n",
    "One potential drawback of PNG files is that they can have larger file sizes compared to other image formats such as JPEG, which can make them slower to load on websites or take up more storage space on a device. However, this can be mitigated by using compression techniques such as PNGOUT or OptiPNG to reduce the file size without affecting the image quality."
   ]
  },
  {
   "attachments": {},
   "cell_type": "markdown",
   "metadata": {},
   "source": [
    "The first and last bytes of every PNG file are not necessarily the same. The first 8 bytes of a PNG file, known as the PNG signature, should always be the hexadecimal values 89 50 4E 47 0D 0A 1A 0A, which represent the ASCII characters \"‰PNG\\r\\n\\x1A\\n\". This signature is used to identify the file as a PNG file and ensure that it is properly recognized by software programs.\n",
    "\n",
    "However, the last bytes of a PNG file can vary depending on the contents of the file. The last 4 bytes of a PNG file are typically a CRC (cyclic redundancy check) code that is used to verify the integrity of the data within the file. This CRC code is calculated based on the contents of the file, so it will be different for each PNG file."
   ]
  },
  {
   "attachments": {},
   "cell_type": "markdown",
   "metadata": {},
   "source": [
    "**From NeuralNine's tutorial video** <br>\n",
    "First 8 bytes: 89 50 4e 47 0d 0a 1a 0a (PNG file signature) <br>\n",
    "Last 12 bytes: 00 00 00 00 49 45 4e 44 ae 42 60 82 (...IEND.B`.|) <br>\n",
    "\n",
    "Then Chunks: <br>\n",
    "IHDR = Header <br>\n",
    "PLTE = Palette Table <br>\n",
    "IDAT = Image Data <br>\n",
    "IEND = End of File <br>\n",
    "\n",
    "... secret message"
   ]
  },
  {
   "attachments": {},
   "cell_type": "markdown",
   "metadata": {},
   "source": [
    "Run ```hexdump apple.png``` on Linux terminal"
   ]
  },
  {
   "cell_type": "code",
   "execution_count": 4,
   "metadata": {},
   "outputs": [],
   "source": [
    "end_hex = b\"\\x00\\x00\\x00\\x49\\x45\\x4e\\x44\\xae\\x42\\x60\\x82\"\n",
    "\n",
    "with open(\"apple.png\",'ab') as f:\n",
    "    f.write(b\"Hello World! This is my secret message!\")\n"
   ]
  },
  {
   "attachments": {},
   "cell_type": "markdown",
   "metadata": {},
   "source": [
    "Secret message is now embedded, let's read its contents"
   ]
  },
  {
   "cell_type": "code",
   "execution_count": 5,
   "metadata": {},
   "outputs": [
    {
     "name": "stdout",
     "output_type": "stream",
     "text": [
      "b'Hello World! This is my secret message!'\n"
     ]
    }
   ],
   "source": [
    "with open('apple.png','rb') as f:\n",
    "    content = f.read()\n",
    "    offset = content.index(end_hex)\n",
    "    f.seek(offset + len(end_hex))\n",
    "    print(f.read())"
   ]
  },
  {
   "attachments": {},
   "cell_type": "markdown",
   "metadata": {},
   "source": [
    "## Embed a .jar in Image"
   ]
  },
  {
   "cell_type": "code",
   "execution_count": 6,
   "metadata": {},
   "outputs": [],
   "source": [
    "with open('apple_1.png','ab') as f, open('rars1_6.jar','rb') as e:\n",
    "    f.write(e.read())"
   ]
  },
  {
   "cell_type": "code",
   "execution_count": 7,
   "metadata": {},
   "outputs": [],
   "source": [
    "with open('apple_1.png','rb') as f:\n",
    "    content = f.read()\n",
    "    offset = content.index(end_hex)\n",
    "    f.seek(offset + len(end_hex))\n",
    "\n",
    "    with open('newjar.jar','wb') as e:\n",
    "        e.write(f.read())"
   ]
  },
  {
   "cell_type": "code",
   "execution_count": null,
   "metadata": {},
   "outputs": [],
   "source": []
  }
 ],
 "metadata": {
  "kernelspec": {
   "display_name": "Python 3",
   "language": "python",
   "name": "python3"
  },
  "language_info": {
   "codemirror_mode": {
    "name": "ipython",
    "version": 3
   },
   "file_extension": ".py",
   "mimetype": "text/x-python",
   "name": "python",
   "nbconvert_exporter": "python",
   "pygments_lexer": "ipython3",
   "version": "3.10.8"
  },
  "orig_nbformat": 4
 },
 "nbformat": 4,
 "nbformat_minor": 2
}
