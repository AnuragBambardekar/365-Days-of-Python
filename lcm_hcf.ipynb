{
 "cells": [
  {
   "attachments": {},
   "cell_type": "markdown",
   "metadata": {},
   "source": [
    "# Least Common Multiple"
   ]
  },
  {
   "cell_type": "code",
   "execution_count": 1,
   "metadata": {},
   "outputs": [
    {
     "name": "stdout",
     "output_type": "stream",
     "text": [
      "48\n"
     ]
    }
   ],
   "source": [
    "def lcm(a,b):\n",
    "    max_num = max(a,b)\n",
    "    lcm = max_num\n",
    "    while(True):\n",
    "        if((lcm % a == 0) and (lcm % b == 0)):\n",
    "            break\n",
    "        lcm = lcm + 1\n",
    "    return lcm\n",
    "\n",
    "a=int(input(\"Enter 1st Number:\"))\n",
    "b=int(input(\"Enter 2nd Number:\"))\n",
    "print(lcm(a,b))"
   ]
  },
  {
   "attachments": {},
   "cell_type": "markdown",
   "metadata": {},
   "source": [
    "The least common multiple (LCM) is the smallest number that is a multiple of two or more numbers. For example, the LCM of 15 and 20 is 60, because 60 is the smallest number that is a multiple of both 15 and 20."
   ]
  },
  {
   "attachments": {},
   "cell_type": "markdown",
   "metadata": {},
   "source": [
    "# Highest Common Factor"
   ]
  },
  {
   "cell_type": "code",
   "execution_count": 3,
   "metadata": {},
   "outputs": [
    {
     "name": "stdout",
     "output_type": "stream",
     "text": [
      "5\n"
     ]
    }
   ],
   "source": [
    "def hcf(a, b):\n",
    "    min_num = min(a, b)\n",
    "    hcf = 1\n",
    "    for i in range(1, min_num + 1):\n",
    "        if a % i == 0 and b % i == 0:\n",
    "            hcf = i\n",
    "    return hcf\n",
    "\n",
    "#print(hcf(15, 20))  # Output: 5\n",
    "a=int(input(\"Enter 1st Number:\"))\n",
    "b=int(input(\"Enter 2nd Number:\"))\n",
    "print(hcf(a,b))"
   ]
  },
  {
   "attachments": {},
   "cell_type": "markdown",
   "metadata": {},
   "source": [
    "The highest common factor (HCF) and the greatest common divisor (GCD) are two different terms that refer to the same concept.\n",
    "\n",
    "The HCF is the highest number that is a common factor of two or more numbers. For example, the HCF of 15 and 20 is 5, because 5 is the highest number that is a factor of both 15 and 20.\n",
    "\n",
    "The GCD is the highest number that is a common divisor of two or more numbers. For example, the GCD of 15 and 20 is 5, because 5 is the highest number that is a divisor of both 15 and 20."
   ]
  }
 ],
 "metadata": {
  "kernelspec": {
   "display_name": "Python 3",
   "language": "python",
   "name": "python3"
  },
  "language_info": {
   "codemirror_mode": {
    "name": "ipython",
    "version": 3
   },
   "file_extension": ".py",
   "mimetype": "text/x-python",
   "name": "python",
   "nbconvert_exporter": "python",
   "pygments_lexer": "ipython3",
   "version": "3.10.7"
  },
  "orig_nbformat": 4,
  "vscode": {
   "interpreter": {
    "hash": "fbfacf25abbc4466cbf6a4ec94f71aa428570133f008ac9f4c86deb26a69bb88"
   }
  }
 },
 "nbformat": 4,
 "nbformat_minor": 2
}
