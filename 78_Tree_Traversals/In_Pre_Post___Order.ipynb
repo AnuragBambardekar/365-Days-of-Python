{
 "cells": [
  {
   "attachments": {},
   "cell_type": "markdown",
   "metadata": {},
   "source": [
    "# Tree Traversals"
   ]
  },
  {
   "attachments": {},
   "cell_type": "markdown",
   "metadata": {},
   "source": [
    "Trees can be traversed in different ways. Tree traversal refers to the process of visiting all the nodes in a tree data structure in a specific order. There are three common types of tree traversal: preorder, inorder, and postorder."
   ]
  },
  {
   "attachments": {},
   "cell_type": "markdown",
   "metadata": {},
   "source": [
    "## Inorder Traversal\n",
    "**Algorithm**<br>\n",
    "In an inorder traversal,  <br>\n",
    "1. the algorithm recursively visits the **left** subtree, <br>\n",
    "2. then visits the **root** node, <br>\n",
    "3. and finally recursively visits the **right** subtree. <br>"
   ]
  },
  {
   "cell_type": "code",
   "execution_count": 4,
   "metadata": {},
   "outputs": [
    {
     "name": "stdout",
     "output_type": "stream",
     "text": [
      "\n",
      "Inorder traversal of binary tree is\n",
      "4\n",
      "2\n",
      "5\n",
      "1\n",
      "3\n"
     ]
    }
   ],
   "source": [
    "class Node:\n",
    "    def __init__(self, key):\n",
    "        self.left = None\n",
    "        self.right = None\n",
    "        self.val = key\n",
    " \n",
    " \n",
    "# A function to do inorder tree traversal\n",
    "def inorder(root):\n",
    "    if root is None:\n",
    "        return\n",
    "    # Left Child\n",
    "    inorder(root.left)\n",
    "    # Root Node\n",
    "    print(root.val),\n",
    "    # Right Child\n",
    "    inorder(root.right)\n",
    " \n",
    " \n",
    "# Driver code\n",
    "if __name__ == \"__main__\":\n",
    "    root = Node(1)\n",
    "    root.left = Node(2)\n",
    "    root.right = Node(3)\n",
    "    root.left.left = Node(4)\n",
    "    root.left.right = Node(5)\n",
    " \n",
    "    # Function call\n",
    "    print(\"\\nInorder traversal of binary tree is\")\n",
    "    inorder(root)"
   ]
  },
  {
   "attachments": {},
   "cell_type": "markdown",
   "metadata": {},
   "source": [
    "## Preorder Traversal\n",
    "**Algorithm**<br>\n",
    "In a preorder traversal, <br>\n",
    "1. the algorithm visits the **root** node first, <br>\n",
    "2. then recursively visits the **left** subtree, <br>\n",
    "3. and finally recursively visits the **right** subtree. <br>"
   ]
  },
  {
   "cell_type": "code",
   "execution_count": 5,
   "metadata": {},
   "outputs": [
    {
     "name": "stdout",
     "output_type": "stream",
     "text": [
      "Preorder traversal of binary tree is\n",
      "1\n",
      "2\n",
      "4\n",
      "5\n",
      "3\n"
     ]
    }
   ],
   "source": [
    "class Node:\n",
    "    def __init__(self, key):\n",
    "        self.left = None\n",
    "        self.right = None\n",
    "        self.val = key\n",
    " \n",
    " \n",
    "# A function to do preorder tree traversal\n",
    "def preorder(root):\n",
    "    if root is None:\n",
    "        return\n",
    "    # Root node\n",
    "    print(root.val),\n",
    "    # Left Child\n",
    "    preorder(root.left)\n",
    "    # Right Child\n",
    "    preorder(root.right)\n",
    " \n",
    " \n",
    "# Driver code\n",
    "if __name__ == \"__main__\":\n",
    "    root = Node(1)\n",
    "    root.left = Node(2)\n",
    "    root.right = Node(3)\n",
    "    root.left.left = Node(4)\n",
    "    root.left.right = Node(5)\n",
    " \n",
    "    # Function call\n",
    "    print(\"Preorder traversal of binary tree is\")\n",
    "    preorder(root)"
   ]
  },
  {
   "attachments": {},
   "cell_type": "markdown",
   "metadata": {},
   "source": [
    "## Postorder Traversal\n",
    "**Algorithm**<br>\n",
    "In a postorder traversal, <br>\n",
    "1. the algorithm recursively visits the **left** subtree, <br>\n",
    "2. then recursively visits the **right** subtree, <br>\n",
    "3. and finally visits the **root** node. <br>"
   ]
  },
  {
   "cell_type": "code",
   "execution_count": 6,
   "metadata": {},
   "outputs": [
    {
     "name": "stdout",
     "output_type": "stream",
     "text": [
      "\n",
      "Postorder traversal of binary tree is\n",
      "4\n",
      "5\n",
      "2\n",
      "3\n",
      "1\n"
     ]
    }
   ],
   "source": [
    "class Node:\n",
    "    def __init__(self, key):\n",
    "        self.left = None\n",
    "        self.right = None\n",
    "        self.val = key\n",
    " \n",
    "# A function to do postorder tree traversal\n",
    "def postorder(root):\n",
    "    if root is None:\n",
    "        return\n",
    "    # Left Child\n",
    "    postorder(root.left)\n",
    "    # Right Child\n",
    "    postorder(root.right)\n",
    "    # Root\n",
    "    print(root.val)\n",
    " \n",
    " \n",
    "# Driver code\n",
    "if __name__ == \"__main__\":\n",
    "    root = Node(1)\n",
    "    root.left = Node(2)\n",
    "    root.right = Node(3)\n",
    "    root.left.left = Node(4)\n",
    "    root.left.right = Node(5)\n",
    " \n",
    "    # Function call\n",
    "    print(\"\\nPostorder traversal of binary tree is\")\n",
    "    postorder(root)"
   ]
  },
  {
   "cell_type": "code",
   "execution_count": null,
   "metadata": {},
   "outputs": [],
   "source": []
  }
 ],
 "metadata": {
  "kernelspec": {
   "display_name": "Python 3",
   "language": "python",
   "name": "python3"
  },
  "language_info": {
   "codemirror_mode": {
    "name": "ipython",
    "version": 3
   },
   "file_extension": ".py",
   "mimetype": "text/x-python",
   "name": "python",
   "nbconvert_exporter": "python",
   "pygments_lexer": "ipython3",
   "version": "3.10.8"
  },
  "orig_nbformat": 4
 },
 "nbformat": 4,
 "nbformat_minor": 2
}
