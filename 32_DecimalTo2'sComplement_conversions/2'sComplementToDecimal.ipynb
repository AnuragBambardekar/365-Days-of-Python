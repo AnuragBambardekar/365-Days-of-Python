{
 "cells": [
  {
   "attachments": {},
   "cell_type": "markdown",
   "metadata": {},
   "source": [
    "# 2's Complement [Base 2] to Decimal"
   ]
  },
  {
   "cell_type": "code",
   "execution_count": 9,
   "metadata": {},
   "outputs": [
    {
     "name": "stdout",
     "output_type": "stream",
     "text": [
      "5\n",
      "-5\n",
      "13\n",
      "-3\n"
     ]
    }
   ],
   "source": [
    "def twos_complement_to_decimal(binary):\n",
    "    decimal = int(binary, 2)\n",
    "    #print(decimal) # -5 = 251\n",
    "    if binary[0] == '1':\n",
    "        #print(~decimal) # will invert the bits of 251 [1111 1011] (=-5) to [0000 0100]\n",
    "        #print(len(binary)) # 8 bits\n",
    "        #print(int(\"1\"*len(binary),2)) #255 used as a mask\n",
    "        #print((~decimal & int(\"1\"*len(binary),2))) # [0000 0100 & 1111 1111] will give 0000 0100 and then we add 1 to it so 0000 0101\n",
    "        decimal = -((~decimal & int(\"1\"*len(binary),2)) + 1)\n",
    "    return decimal\n",
    "\n",
    "print(twos_complement_to_decimal('00000101'))  # 5\n",
    "print(twos_complement_to_decimal('11111011'))  # -5\n",
    "print(twos_complement_to_decimal('00001101'))  # 13\n",
    "print(twos_complement_to_decimal('11111101'))  # -3"
   ]
  },
  {
   "cell_type": "code",
   "execution_count": null,
   "metadata": {},
   "outputs": [],
   "source": []
  }
 ],
 "metadata": {
  "kernelspec": {
   "display_name": "Python 3",
   "language": "python",
   "name": "python3"
  },
  "language_info": {
   "codemirror_mode": {
    "name": "ipython",
    "version": 3
   },
   "file_extension": ".py",
   "mimetype": "text/x-python",
   "name": "python",
   "nbconvert_exporter": "python",
   "pygments_lexer": "ipython3",
   "version": "3.10.7"
  },
  "orig_nbformat": 4,
  "vscode": {
   "interpreter": {
    "hash": "fbfacf25abbc4466cbf6a4ec94f71aa428570133f008ac9f4c86deb26a69bb88"
   }
  }
 },
 "nbformat": 4,
 "nbformat_minor": 2
}
