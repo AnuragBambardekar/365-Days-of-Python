{
 "cells": [
  {
   "attachments": {},
   "cell_type": "markdown",
   "metadata": {},
   "source": [
    "# Decimal to Base 2 [2s complement representation]"
   ]
  },
  {
   "cell_type": "code",
   "execution_count": 1,
   "metadata": {},
   "outputs": [
    {
     "name": "stdout",
     "output_type": "stream",
     "text": [
      "Decimal (Base 10):  5\n",
      "Binary representation:  00000101\n",
      "Decimal (Base 10):  -5\n",
      "2's complement representation:  11111011\n",
      "Decimal (Base 10):  4\n",
      "Binary representation:  00000100\n",
      "Decimal (Base 10):  -4\n",
      "2's complement representation:  11111100\n"
     ]
    }
   ],
   "source": [
    "def decimal_to_twos_complement(decimal, bits):\n",
    "    # bits is used to specify the number of bits to use in the two's complement representation.\n",
    "    # two's complement representation only works for integers and only for a fixed number of bits -127 to 128\n",
    "    \n",
    "    # check for positive decimal\n",
    "    # zfill() : used to add leading zeros to a string to make it a certain width. The method takes an integer as an argument, which specifies the width of the final string. If the string is shorter than the specified width, zeroes are added to the left of the string until it reaches the desired width. If the string is already longer than the specified width, it remains unchanged\n",
    "\n",
    "    print(\"Decimal (Base 10): \", decimal)\n",
    "    # print(\"Number of bits: \", bits)\n",
    "\n",
    "    if decimal >= 0:\n",
    "        binary = bin(decimal)[2:].zfill(bits)\n",
    "    else:\n",
    "        decimal = abs(decimal)\n",
    "        binary = bin(decimal)[2:].zfill(bits)\n",
    "        complement = ''.join(['1' if x == '0' else '0' for x in binary]) #inverting the bits\n",
    "        binary = complement\n",
    "        binary =  bin(int(binary,2) + 1)[2:].zfill(bits)\n",
    "    return binary\n",
    "\n",
    "print(\"Binary representation: \",decimal_to_twos_complement(5, 8))\n",
    "print(\"2's complement representation: \",decimal_to_twos_complement(-5, 8)) \n",
    "print(\"Binary representation: \",decimal_to_twos_complement(4, 8))\n",
    "print(\"2's complement representation: \",decimal_to_twos_complement(-4, 8))\n"
   ]
  }
 ],
 "metadata": {
  "kernelspec": {
   "display_name": "Python 3",
   "language": "python",
   "name": "python3"
  },
  "language_info": {
   "codemirror_mode": {
    "name": "ipython",
    "version": 3
   },
   "file_extension": ".py",
   "mimetype": "text/x-python",
   "name": "python",
   "nbconvert_exporter": "python",
   "pygments_lexer": "ipython3",
   "version": "3.10.7 (tags/v3.10.7:6cc6b13, Sep  5 2022, 14:08:36) [MSC v.1933 64 bit (AMD64)]"
  },
  "orig_nbformat": 4,
  "vscode": {
   "interpreter": {
    "hash": "fbfacf25abbc4466cbf6a4ec94f71aa428570133f008ac9f4c86deb26a69bb88"
   }
  }
 },
 "nbformat": 4,
 "nbformat_minor": 2
}
