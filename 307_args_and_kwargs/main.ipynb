{
 "cells": [
  {
   "cell_type": "markdown",
   "metadata": {},
   "source": [
    "# args and kwargs"
   ]
  },
  {
   "cell_type": "markdown",
   "metadata": {},
   "source": [
    "*args = allows you to pass multiple non-key arguments\n",
    "**kwargs = allows you to pass multiple keyword arguments\n",
    "\n",
    "* unpacking operator\n",
    "1. positional \n",
    "2. default \n",
    "3. keyword \n",
    "4. arbitrary"
   ]
  },
  {
   "cell_type": "code",
   "execution_count": 1,
   "metadata": {},
   "outputs": [
    {
     "ename": "TypeError",
     "evalue": "add() takes 2 positional arguments but 3 were given",
     "output_type": "error",
     "traceback": [
      "\u001b[1;31m---------------------------------------------------------------------------\u001b[0m",
      "\u001b[1;31mTypeError\u001b[0m                                 Traceback (most recent call last)",
      "\u001b[1;32mc:\\Users\\anura\\Documents\\VSCode_Workspace\\365-Days-of-Python\\307_args_and_kwargs\\main.ipynb Cell 3\u001b[0m line \u001b[0;36m4\n\u001b[0;32m      <a href='vscode-notebook-cell:/c%3A/Users/anura/Documents/VSCode_Workspace/365-Days-of-Python/307_args_and_kwargs/main.ipynb#W0sZmlsZQ%3D%3D?line=0'>1</a>\u001b[0m \u001b[39mdef\u001b[39;00m \u001b[39madd\u001b[39m(a,b):\n\u001b[0;32m      <a href='vscode-notebook-cell:/c%3A/Users/anura/Documents/VSCode_Workspace/365-Days-of-Python/307_args_and_kwargs/main.ipynb#W0sZmlsZQ%3D%3D?line=1'>2</a>\u001b[0m     \u001b[39mreturn\u001b[39;00m a\u001b[39m+\u001b[39mb\n\u001b[1;32m----> <a href='vscode-notebook-cell:/c%3A/Users/anura/Documents/VSCode_Workspace/365-Days-of-Python/307_args_and_kwargs/main.ipynb#W0sZmlsZQ%3D%3D?line=3'>4</a>\u001b[0m \u001b[39mprint\u001b[39m(add(\u001b[39m1\u001b[39m,\u001b[39m2\u001b[39m,\u001b[39m3\u001b[39m))\n",
      "\u001b[1;31mTypeError\u001b[0m: add() takes 2 positional arguments but 3 were given"
     ]
    }
   ],
   "source": [
    "def add(a,b):\n",
    "    return a+b\n",
    "\n",
    "print(add(1,2,3)) # TypeError: add() takes 2 positional arguments but 3 were given"
   ]
  },
  {
   "cell_type": "code",
   "execution_count": 5,
   "metadata": {},
   "outputs": [
    {
     "name": "stdout",
     "output_type": "stream",
     "text": [
      "<class 'tuple'>\n",
      "15\n"
     ]
    }
   ],
   "source": [
    "def add(*nums): # *args -> *nums\n",
    "    print(type(nums))\n",
    "    total=0\n",
    "    for num in nums:\n",
    "        total += num\n",
    "\n",
    "    return total\n",
    "\n",
    "print(add(1,2,3,4,5))"
   ]
  },
  {
   "cell_type": "code",
   "execution_count": 7,
   "metadata": {},
   "outputs": [
    {
     "name": "stdout",
     "output_type": "stream",
     "text": [
      "Dr. YOLO Bamba VI "
     ]
    }
   ],
   "source": [
    "def display_name(*args):\n",
    "    for arg in args:\n",
    "        print(arg, end=\" \")\n",
    "\n",
    "display_name(\"Dr.\",\"YOLO\",\"Bamba\",\"VI\")"
   ]
  },
  {
   "cell_type": "code",
   "execution_count": 13,
   "metadata": {},
   "outputs": [
    {
     "name": "stdout",
     "output_type": "stream",
     "text": [
      "<class 'dict'>\n",
      "street: 1 Turing St.\n",
      "apt: 101\n",
      "city: Newark\n",
      "state: NJ\n",
      "zipcode: 01893\n"
     ]
    }
   ],
   "source": [
    "def print_address(**kwargs):\n",
    "    print(type(kwargs))\n",
    "    # for value in kwargs.values():\n",
    "    #     print(value)\n",
    "    # for key in kwargs.keys():\n",
    "    #     print(key)\n",
    "    for key,value in kwargs.items():\n",
    "        print(f\"{key}: {value}\")\n",
    "\n",
    "\n",
    "print_address(street=\"1 Turing St.\", \n",
    "              apt=\"101\", # can add features easily\n",
    "              city=\"Newark\", \n",
    "              state=\"NJ\", \n",
    "              zipcode=\"01893\")\n"
   ]
  },
  {
   "cell_type": "code",
   "execution_count": 23,
   "metadata": {},
   "outputs": [
    {
     "name": "stdout",
     "output_type": "stream",
     "text": [
      "Dr. YOLO Bamba VI \n",
      "1 Turing St. #101\n",
      "Newark NJ, 01893\n",
      "Dr. YOLO Bamba VI \n",
      "1 Turing St.\n",
      "PO BOX 999\n",
      "Newark NJ, 01893\n"
     ]
    }
   ],
   "source": [
    "def shipping_label(*args, **kwargs): # cannot be (**kwargs, *args)\n",
    "    for arg in args:\n",
    "        print(arg, end=\" \")\n",
    "    print()\n",
    "    # for value in kwargs.values():\n",
    "    #     print(value, end=\" \")\n",
    "\n",
    "    if \"apt\" in kwargs:\n",
    "        print(f\"{kwargs.get('street')} {kwargs.get('apt')}\")\n",
    "    elif \"pobox\" in kwargs:\n",
    "        print(f\"{kwargs.get('street')}\")\n",
    "        print(f\"{kwargs.get('pobox')}\")\n",
    "    else:\n",
    "        print(f\"{kwargs.get('street')}\")\n",
    "    print(f\"{kwargs.get('city')} {kwargs.get('state')}, {kwargs.get('zipcode')}\")\n",
    "\n",
    "\n",
    "shipping_label(\"Dr.\",\"YOLO\",\"Bamba\",\"VI\",\n",
    "                street=\"1 Turing St.\", \n",
    "                apt=\"#101\", # can add features easily\n",
    "                city=\"Newark\", \n",
    "                state=\"NJ\", \n",
    "                zipcode=\"01893\")\n",
    "\n",
    "shipping_label(\"Dr.\",\"YOLO\",\"Bamba\",\"VI\",\n",
    "                street=\"1 Turing St.\", \n",
    "                # apt=\"#101\", # can add features easily\n",
    "                pobox = \"PO BOX 999\",\n",
    "                city=\"Newark\", \n",
    "                state=\"NJ\", \n",
    "                zipcode=\"01893\")"
   ]
  },
  {
   "cell_type": "code",
   "execution_count": null,
   "metadata": {},
   "outputs": [],
   "source": []
  }
 ],
 "metadata": {
  "kernelspec": {
   "display_name": "Python 3",
   "language": "python",
   "name": "python3"
  },
  "language_info": {
   "codemirror_mode": {
    "name": "ipython",
    "version": 3
   },
   "file_extension": ".py",
   "mimetype": "text/x-python",
   "name": "python",
   "nbconvert_exporter": "python",
   "pygments_lexer": "ipython3",
   "version": "3.10.8"
  }
 },
 "nbformat": 4,
 "nbformat_minor": 2
}
