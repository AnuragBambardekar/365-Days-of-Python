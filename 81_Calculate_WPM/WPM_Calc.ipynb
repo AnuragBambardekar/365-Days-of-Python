{
 "cells": [
  {
   "attachments": {},
   "cell_type": "markdown",
   "metadata": {},
   "source": [
    "# WPM Calculator"
   ]
  },
  {
   "cell_type": "code",
   "execution_count": 1,
   "metadata": {},
   "outputs": [
    {
     "name": "stdout",
     "output_type": "stream",
     "text": [
      "Type the following sentence:\n",
      "The quick brown fox jumps over the lazy dog\n",
      "You typed 9 words in 11.08 seconds.\n",
      "That's a typing speed of 48.76 words per minute!\n"
     ]
    }
   ],
   "source": [
    "import time\n",
    "\n",
    "def calculate_wpm(words_typed, time_elapsed):\n",
    "    minutes_elapsed = time_elapsed / 60.0\n",
    "    wpm = words_typed / minutes_elapsed\n",
    "    return wpm\n",
    "\n",
    "def main():\n",
    "    print(\"Type the following sentence:\")\n",
    "    sentence = \"The quick brown fox jumps over the lazy dog\"\n",
    "    print(sentence)\n",
    "    \n",
    "    input(\"Press Enter to start the timer...\")\n",
    "    \n",
    "    start_time = time.time()\n",
    "    \n",
    "    user_input = input(\"Type the sentence above and press Enter when done:\\n\")\n",
    "    \n",
    "    end_time = time.time()\n",
    "    \n",
    "    time_elapsed = end_time - start_time\n",
    "    \n",
    "    words_typed = len(user_input.split())\n",
    "    \n",
    "    wpm = calculate_wpm(words_typed, time_elapsed)\n",
    "    \n",
    "    print(f\"You typed {words_typed} words in {time_elapsed:.2f} seconds.\")\n",
    "    print(f\"That's a typing speed of {wpm:.2f} words per minute!\")\n",
    "\n",
    "if __name__ == \"__main__\":\n",
    "    main()"
   ]
  },
  {
   "attachments": {},
   "cell_type": "markdown",
   "metadata": {},
   "source": [
    "## Accuracy of sentence included"
   ]
  },
  {
   "cell_type": "code",
   "execution_count": null,
   "metadata": {},
   "outputs": [],
   "source": [
    "import time\n",
    "\n",
    "def calculate_wpm(words_typed, time_elapsed):\n",
    "    minutes_elapsed = time_elapsed / 60.0\n",
    "    wpm = words_typed / minutes_elapsed\n",
    "    return wpm\n",
    "\n",
    "def calculate_accuracy(sentence, user_input):\n",
    "    sentence_words = sentence.split()\n",
    "    user_words = user_input.split()\n",
    "    num_correct = 0\n",
    "    for i in range(min(len(sentence_words), len(user_words))):\n",
    "        if sentence_words[i] == user_words[i]:\n",
    "            num_correct += 1\n",
    "    accuracy = (num_correct / len(sentence_words)) * 100.0\n",
    "    return accuracy\n",
    "\n",
    "def main():\n",
    "    print(\"Type the following sentence:\")\n",
    "    sentence = \"The quick brown fox jumps over the lazy dog\"\n",
    "    print(sentence)\n",
    "    \n",
    "    input(\"Press Enter to start the timer...\")\n",
    "    \n",
    "    start_time = time.time()\n",
    "    \n",
    "    user_input = input(\"Type the sentence above and press Enter when done:\\n\")\n",
    "    \n",
    "    end_time = time.time()\n",
    "    \n",
    "    time_elapsed = end_time - start_time\n",
    "    \n",
    "    words_typed = len(user_input.split())\n",
    "    \n",
    "    wpm = calculate_wpm(words_typed, time_elapsed)\n",
    "    \n",
    "    accuracy = calculate_accuracy(sentence, user_input)\n",
    "    \n",
    "    print(f\"You typed {words_typed} words in {time_elapsed:.2f} seconds.\")\n",
    "    print(f\"That's a typing speed of {wpm:.2f} words per minute!\")\n",
    "    print(f\"Your accuracy was {accuracy:.2f}%.\")\n",
    "\n",
    "if __name__ == \"__main__\":\n",
    "    main()"
   ]
  },
  {
   "attachments": {},
   "cell_type": "markdown",
   "metadata": {},
   "source": [
    "## Future Scope - Courtesy: ChatGPT"
   ]
  },
  {
   "attachments": {},
   "cell_type": "markdown",
   "metadata": {},
   "source": [
    "Difficulty levels: The current program uses a fixed sentence for the user to type. Adding the ability to choose from different difficulty levels or categories (e.g. sports, history, literature, etc.) could make the program more engaging and challenging. \n",
    "\n",
    "Leaderboard: Adding a leaderboard that tracks the highest WPM and accuracy achieved by different users could add a competitive element to the program and motivate users to improve their typing skills.\n",
    "\n",
    "Error highlighting: The current program only calculates the accuracy percentage, but highlighting the words that were typed incorrectly could help users identify and correct their mistakes more easily.\n",
    "\n",
    "Practice mode: Adding a practice mode that generates random sentences for the user to type could help users improve their typing speed and accuracy over time.\n",
    "\n",
    "Typing statistics: Providing users with more detailed typing statistics (e.g. average typing speed, most commonly mistyped words, etc.) could help them identify areas for improvement and track their progress over time."
   ]
  },
  {
   "attachments": {},
   "cell_type": "markdown",
   "metadata": {},
   "source": [
    "## Add Difficulty/Levels feature"
   ]
  },
  {
   "cell_type": "code",
   "execution_count": 3,
   "metadata": {},
   "outputs": [
    {
     "name": "stdout",
     "output_type": "stream",
     "text": [
      "Choose a difficulty level: \n",
      "1. Easy\n",
      "2. Medium\n",
      "3. Hard\n",
      "Type the following sentence (medium difficulty):\n",
      "She sells seashells by the seashore\n",
      "You typed 6 words in 7.19 seconds.\n",
      "That's a typing speed of 50.10 words per minute!\n",
      "Your accuracy was 100.00%.\n"
     ]
    }
   ],
   "source": [
    "import random\n",
    "import time\n",
    "\n",
    "def calculate_wpm(words_typed, time_elapsed):\n",
    "    minutes_elapsed = time_elapsed / 60.0\n",
    "    wpm = words_typed / minutes_elapsed\n",
    "    return wpm\n",
    "\n",
    "def calculate_accuracy(sentence, user_input):\n",
    "    sentence_words = sentence.split()\n",
    "    user_words = user_input.split()\n",
    "    num_correct = 0\n",
    "    for i in range(min(len(sentence_words), len(user_words))):\n",
    "        if sentence_words[i] == user_words[i]:\n",
    "            num_correct += 1\n",
    "    accuracy = (num_correct / len(sentence_words)) * 100.0\n",
    "    return accuracy\n",
    "\n",
    "def get_sentence(difficulty):\n",
    "    sentences = {\n",
    "        'easy': \"The quick brown fox jumps over the lazy dog\",\n",
    "        'medium': \"She sells seashells by the seashore\",\n",
    "        'hard': \"The five boxing wizards jump quickly\"\n",
    "    }\n",
    "    return sentences[difficulty]\n",
    "\n",
    "def main():\n",
    "    print(\"Choose a difficulty level: \")\n",
    "    print(\"1. Easy\")\n",
    "    print(\"2. Medium\")\n",
    "    print(\"3. Hard\")\n",
    "    \n",
    "    difficulty_choice = input(\"Enter the number corresponding to your choice: \")\n",
    "    \n",
    "    if difficulty_choice == \"1\":\n",
    "        difficulty = \"easy\"\n",
    "    elif difficulty_choice == \"2\":\n",
    "        difficulty = \"medium\"\n",
    "    elif difficulty_choice == \"3\":\n",
    "        difficulty = \"hard\"\n",
    "    else:\n",
    "        print(\"Invalid choice. Please try again.\")\n",
    "        return\n",
    "    \n",
    "    sentence = get_sentence(difficulty)\n",
    "    print(f\"Type the following sentence ({difficulty} difficulty):\")\n",
    "    print(sentence)\n",
    "    \n",
    "    input(\"Press Enter to start the timer...\")\n",
    "    \n",
    "    start_time = time.time()\n",
    "    \n",
    "    user_input = input(\"Type the sentence above and press Enter when done:\\n\")\n",
    "    \n",
    "    end_time = time.time()\n",
    "    \n",
    "    time_elapsed = end_time - start_time\n",
    "    \n",
    "    words_typed = len(user_input.split())\n",
    "    \n",
    "    wpm = calculate_wpm(words_typed, time_elapsed)\n",
    "    \n",
    "    accuracy = calculate_accuracy(sentence, user_input)\n",
    "    \n",
    "    print(f\"You typed {words_typed} words in {time_elapsed:.2f} seconds.\")\n",
    "    print(f\"That's a typing speed of {wpm:.2f} words per minute!\")\n",
    "    print(f\"Your accuracy was {accuracy:.2f}%.\")\n",
    "\n",
    "if __name__ == \"__main__\":\n",
    "    main()\n"
   ]
  },
  {
   "attachments": {},
   "cell_type": "markdown",
   "metadata": {},
   "source": [
    "### Remarks: \n",
    "- Write script to automatically generate sentences/paragraphs using nltk perhaps"
   ]
  }
 ],
 "metadata": {
  "kernelspec": {
   "display_name": "Python 3",
   "language": "python",
   "name": "python3"
  },
  "language_info": {
   "codemirror_mode": {
    "name": "ipython",
    "version": 3
   },
   "file_extension": ".py",
   "mimetype": "text/x-python",
   "name": "python",
   "nbconvert_exporter": "python",
   "pygments_lexer": "ipython3",
   "version": "3.10.8"
  },
  "orig_nbformat": 4
 },
 "nbformat": 4,
 "nbformat_minor": 2
}
