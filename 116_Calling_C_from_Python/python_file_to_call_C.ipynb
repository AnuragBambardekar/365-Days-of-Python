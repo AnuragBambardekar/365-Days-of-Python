{
 "cells": [
  {
   "attachments": {},
   "cell_type": "markdown",
   "metadata": {},
   "source": [
    "# Calling C code from Python"
   ]
  },
  {
   "cell_type": "code",
   "execution_count": null,
   "metadata": {},
   "outputs": [],
   "source": [
    "from ctypes import CDLL\n",
    "\n",
    "# Load the shared library (.so file on Linux, .dll file on Windows)\n",
    "lib = CDLL('116_Calling_C_from_Python\\libsum.so')\n",
    "\n",
    "# Call the 'add' function from the shared library\n",
    "sum = lib.add(2, 3)\n",
    "\n",
    "# Print the result\n",
    "print(\"The sum is\", sum)\n"
   ]
  },
  {
   "attachments": {},
   "cell_type": "markdown",
   "metadata": {},
   "source": [
    "Cannot see the output here, trying it in a .py extension did give me the result"
   ]
  }
 ],
 "metadata": {
  "kernelspec": {
   "display_name": "Python 3",
   "language": "python",
   "name": "python3"
  },
  "language_info": {
   "name": "python",
   "version": "3.10.8"
  },
  "orig_nbformat": 4
 },
 "nbformat": 4,
 "nbformat_minor": 2
}
