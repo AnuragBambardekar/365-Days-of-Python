{
 "cells": [
  {
   "attachments": {},
   "cell_type": "markdown",
   "metadata": {},
   "source": [
    "# QR Code Generator"
   ]
  },
  {
   "attachments": {},
   "cell_type": "markdown",
   "metadata": {},
   "source": [
    "A Quick Response code is a two-dimensional pictographic code used for its fast readability and comparatively large storage capacity."
   ]
  },
  {
   "cell_type": "code",
   "execution_count": 1,
   "metadata": {},
   "outputs": [],
   "source": [
    "import qrcode"
   ]
  },
  {
   "cell_type": "code",
   "execution_count": 2,
   "metadata": {},
   "outputs": [],
   "source": [
    "qr = qrcode.QRCode(\n",
    "    version=1, # The version parameter is an integer from 1 to 40 that controls the size of the QR Code (the smallest, version 1, is a 21x21 matrix).\n",
    "    error_correction=qrcode.constants.ERROR_CORRECT_L, # The error_correction parameter controls the error correction used for the QR Code. [Here, About 7% or less errors can be corrected.]\n",
    "    box_size=10, # he box_size parameter controls how many pixels each “box” of the QR code is\n",
    "    border=4 # The border parameter controls how many boxes thick the border should be (the default is 4, which is the minimum according to the specs).\n",
    ")\n",
    "\n",
    "qr.add_data(\"https://github.com/AnuragBambardekar/365-Days-of-Python\")\n",
    "\n",
    "img = qr.make_image(fill_color=\"green\", back_color=\"white\")\n",
    "img.save(\"myGitHub_link.jpg\")"
   ]
  }
 ],
 "metadata": {
  "kernelspec": {
   "display_name": "Python 3",
   "language": "python",
   "name": "python3"
  },
  "language_info": {
   "codemirror_mode": {
    "name": "ipython",
    "version": 3
   },
   "file_extension": ".py",
   "mimetype": "text/x-python",
   "name": "python",
   "nbconvert_exporter": "python",
   "pygments_lexer": "ipython3",
   "version": "3.10.7"
  },
  "orig_nbformat": 4,
  "vscode": {
   "interpreter": {
    "hash": "fbfacf25abbc4466cbf6a4ec94f71aa428570133f008ac9f4c86deb26a69bb88"
   }
  }
 },
 "nbformat": 4,
 "nbformat_minor": 2
}
