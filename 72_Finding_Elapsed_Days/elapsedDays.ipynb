{
 "cells": [
  {
   "attachments": {},
   "cell_type": "markdown",
   "metadata": {},
   "source": [
    "# Elapsed Days"
   ]
  },
  {
   "cell_type": "code",
   "execution_count": 1,
   "metadata": {},
   "outputs": [
    {
     "name": "stdout",
     "output_type": "stream",
     "text": [
      "18\n"
     ]
    }
   ],
   "source": [
    "from datetime import date\n",
    "\n",
    "def elapsed_days(date1, date2):\n",
    "    delta = date2 - date1\n",
    "    return delta.days\n",
    "\n",
    "# Example usage\n",
    "date1 = date(2022, 2, 15)\n",
    "date2 = date(2022, 3, 5)\n",
    "print(elapsed_days(date1, date2))  # Output: 18\n"
   ]
  },
  {
   "attachments": {},
   "cell_type": "markdown",
   "metadata": {},
   "source": [
    "You want to calculate the number of elapsed days between two dates. However, you also want to exclude weekends (Saturdays and Sundays) from the calculation, as well as any specified holidays. You also want to account for the possibility that the start date and end date might fall on weekends or holidays."
   ]
  },
  {
   "cell_type": "code",
   "execution_count": 2,
   "metadata": {},
   "outputs": [
    {
     "name": "stdout",
     "output_type": "stream",
     "text": [
      "Elapsed days: 6\n"
     ]
    }
   ],
   "source": [
    "import datetime\n",
    "\n",
    "def elapsed_days(start_date, end_date, holidays=[]):\n",
    "    \"\"\"\n",
    "    Calculate the number of elapsed days between two dates, excluding weekends and holidays.\n",
    "    \"\"\"\n",
    "    days = 0\n",
    "    one_day = datetime.timedelta(days=1)\n",
    "    current_date = start_date\n",
    "    while current_date <= end_date:\n",
    "        if current_date.weekday() not in [5, 6] and current_date not in holidays:\n",
    "            days += 1\n",
    "        current_date += one_day\n",
    "    return days\n",
    "\n",
    "# Example usage:\n",
    "start_date = datetime.date(2023, 3, 1)  # March 1, 2023\n",
    "end_date = datetime.date(2023, 3, 10)  # March 10, 2023\n",
    "holidays = [\n",
    "    datetime.date(2023, 3, 4),  # March 4, 2023 (Saturday)\n",
    "    datetime.date(2023, 3, 6),  # March 6, 2023 (Monday)\n",
    "    datetime.date(2023, 3, 8),  # March 8, 2023 (Wednesday)\n",
    "]\n",
    "days_elapsed = elapsed_days(start_date, end_date, holidays)\n",
    "print(f\"Elapsed days: {days_elapsed}\")  # Output: Elapsed days: 5"
   ]
  },
  {
   "attachments": {},
   "cell_type": "markdown",
   "metadata": {},
   "source": [
    "Calculate my age"
   ]
  },
  {
   "cell_type": "code",
   "execution_count": 11,
   "metadata": {},
   "outputs": [
    {
     "name": "stdout",
     "output_type": "stream",
     "text": [
      "Your age is: 24\n"
     ]
    }
   ],
   "source": [
    "import datetime\n",
    "\n",
    "def calculate_age(birthdate):\n",
    "    today = datetime.date.today()\n",
    "    age = today.year - birthdate.year - ((today.month, today.day) < (birthdate.month, birthdate.day))\n",
    "    return age\n",
    "\n",
    "def main():\n",
    "    birthdate_str = input(\"Enter your birthdate in YYYY-MM-DD format: \")\n",
    "    birthdate = datetime.datetime.strptime(birthdate_str, '%Y-%m-%d').date()\n",
    "    age = calculate_age(birthdate)\n",
    "    print(\"Your age is:\", age)\n",
    "\n",
    "if __name__ == \"__main__\":\n",
    "    main()\n"
   ]
  }
 ],
 "metadata": {
  "kernelspec": {
   "display_name": "Python 3",
   "language": "python",
   "name": "python3"
  },
  "language_info": {
   "codemirror_mode": {
    "name": "ipython",
    "version": 3
   },
   "file_extension": ".py",
   "mimetype": "text/x-python",
   "name": "python",
   "nbconvert_exporter": "python",
   "pygments_lexer": "ipython3",
   "version": "3.10.8"
  },
  "orig_nbformat": 4
 },
 "nbformat": 4,
 "nbformat_minor": 2
}
