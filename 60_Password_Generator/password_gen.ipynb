{
 "cells": [
  {
   "attachments": {},
   "cell_type": "markdown",
   "metadata": {},
   "source": [
    "# Password (Random) Generator"
   ]
  },
  {
   "cell_type": "code",
   "execution_count": 1,
   "metadata": {},
   "outputs": [
    {
     "name": "stdout",
     "output_type": "stream",
     "text": [
      "Your new password is: %Kl1ZESiCD\n"
     ]
    }
   ],
   "source": [
    "import random\n",
    "\n",
    "# Ask the user how many characters they want in their password\n",
    "num_chars = int(input(\"How many characters do you want in your password? \"))\n",
    "\n",
    "# Define the characters that can be used in the password\n",
    "lowercase_letters = 'abcdefghijklmnopqrstuvwxyz'\n",
    "uppercase_letters = 'ABCDEFGHIJKLMNOPQRSTUVWXYZ'\n",
    "digits = '0123456789'\n",
    "special_chars = '!@#$%^&*()'\n",
    "\n",
    "# Create a list of all the available characters\n",
    "available_chars = lowercase_letters + uppercase_letters + digits + special_chars\n",
    "\n",
    "# Generate a password by randomly selecting characters from the list\n",
    "password = ''.join(random.choice(available_chars) for i in range(num_chars))\n",
    "\n",
    "# Print the password to the console\n",
    "print(f\"Your new password is: {password}\")\n"
   ]
  },
  {
   "attachments": {},
   "cell_type": "markdown",
   "metadata": {},
   "source": [
    "## Adding more user control over password creation"
   ]
  },
  {
   "cell_type": "code",
   "execution_count": 2,
   "metadata": {},
   "outputs": [
    {
     "name": "stdout",
     "output_type": "stream",
     "text": [
      "Your new password is: 8hU1kfsU\n"
     ]
    }
   ],
   "source": [
    "import random\n",
    "import string\n",
    "\n",
    "def generate_password(length, use_lowercase=True, use_uppercase=True, use_digits=True, use_symbols=True):\n",
    "    \"\"\"\n",
    "    Generate a random password of the specified length, using the specified character types.\n",
    "    \"\"\"\n",
    "    # Define the character sets to use based on the user's input\n",
    "    lowercase_letters = string.ascii_lowercase if use_lowercase else ''\n",
    "    uppercase_letters = string.ascii_uppercase if use_uppercase else ''\n",
    "    digits = string.digits if use_digits else ''\n",
    "    symbols = string.punctuation if use_symbols else ''\n",
    "\n",
    "    # Make sure that at least one character type is enabled\n",
    "    if not (lowercase_letters or uppercase_letters or digits or symbols):\n",
    "        raise ValueError(\"At least one character type must be enabled\")\n",
    "\n",
    "    # Combine the character sets into a single string\n",
    "    available_chars = lowercase_letters + uppercase_letters + digits + symbols\n",
    "\n",
    "    # Generate a password by randomly selecting characters from the list\n",
    "    password = ''.join(random.choice(available_chars) for i in range(length))\n",
    "\n",
    "    return password\n",
    "\n",
    "def main():\n",
    "    # Ask the user how many characters they want in their password\n",
    "    while True:\n",
    "        try:\n",
    "            num_chars = int(input(\"How many characters do you want in your password? \"))\n",
    "            if num_chars <= 0:\n",
    "                raise ValueError(\"Password length must be a positive integer\")\n",
    "            break\n",
    "        except ValueError:\n",
    "            print(\"Please enter a positive integer\")\n",
    "\n",
    "    # Ask the user which character types they want to use\n",
    "    while True:\n",
    "        use_lowercase = input(\"Use lowercase letters? (y/n) \").lower() in ['y', 'yes']\n",
    "        use_uppercase = input(\"Use uppercase letters? (y/n) \").lower() in ['y', 'yes']\n",
    "        use_digits = input(\"Use digits? (y/n) \").lower() in ['y', 'yes']\n",
    "        use_symbols = input(\"Use symbols? (y/n) \").lower() in ['y', 'yes']\n",
    "\n",
    "        try:\n",
    "            password = generate_password(num_chars, use_lowercase, use_uppercase, use_digits, use_symbols)\n",
    "            break\n",
    "        except ValueError as e:\n",
    "            print(e)\n",
    "\n",
    "    # Print the password to the console\n",
    "    print(f\"Your new password is: {password}\")\n",
    "\n",
    "if __name__ == '__main__':\n",
    "    main()\n"
   ]
  }
 ],
 "metadata": {
  "kernelspec": {
   "display_name": "Python 3",
   "language": "python",
   "name": "python3"
  },
  "language_info": {
   "codemirror_mode": {
    "name": "ipython",
    "version": 3
   },
   "file_extension": ".py",
   "mimetype": "text/x-python",
   "name": "python",
   "nbconvert_exporter": "python",
   "pygments_lexer": "ipython3",
   "version": "3.10.8"
  },
  "orig_nbformat": 4,
  "vscode": {
   "interpreter": {
    "hash": "fbfacf25abbc4466cbf6a4ec94f71aa428570133f008ac9f4c86deb26a69bb88"
   }
  }
 },
 "nbformat": 4,
 "nbformat_minor": 2
}
