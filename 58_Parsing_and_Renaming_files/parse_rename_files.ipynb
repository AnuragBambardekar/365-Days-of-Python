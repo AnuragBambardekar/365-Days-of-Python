{
 "cells": [
  {
   "attachments": {},
   "cell_type": "markdown",
   "metadata": {},
   "source": [
    "# Parsing and Renaming Files"
   ]
  },
  {
   "cell_type": "code",
   "execution_count": 1,
   "metadata": {},
   "outputs": [
    {
     "name": "stdout",
     "output_type": "stream",
     "text": [
      "c:\\Users\\anura\\Documents\\VSCode_Workspace\\365-Days-of-Python\\58_Parsing_and_Renaming_files\n"
     ]
    }
   ],
   "source": [
    "import os\n",
    "print(os.getcwd())"
   ]
  },
  {
   "attachments": {},
   "cell_type": "markdown",
   "metadata": {},
   "source": [
    "List files in directory"
   ]
  },
  {
   "cell_type": "code",
   "execution_count": 49,
   "metadata": {},
   "outputs": [
    {
     "name": "stdout",
     "output_type": "stream",
     "text": [
      "tucktools (0).jfif\n",
      "tucktools (1).jfif\n",
      "tucktools (10).jfif\n",
      "tucktools (11).jfif\n",
      "tucktools (12).jfif\n",
      "tucktools (13).jfif\n",
      "tucktools (14).jfif\n",
      "tucktools (15).jfif\n",
      "tucktools (16).jfif\n",
      "tucktools (2).jfif\n",
      "tucktools (3).jfif\n",
      "tucktools (4).jfif\n",
      "tucktools (5).jfif\n",
      "tucktools (6).jfif\n",
      "tucktools (7).jfif\n",
      "tucktools (8).jfif\n",
      "tucktools (9).jfif\n"
     ]
    }
   ],
   "source": [
    "os.chdir('C:/Users/anura/Documents/VSCode_Workspace/365-Days-of-Python/58_Parsing_and_Renaming_files/images')\n",
    "\n",
    "for f in os.listdir():\n",
    "    print(f)"
   ]
  },
  {
   "attachments": {},
   "cell_type": "markdown",
   "metadata": {},
   "source": [
    "Returns tuple"
   ]
  },
  {
   "cell_type": "code",
   "execution_count": 50,
   "metadata": {},
   "outputs": [
    {
     "name": "stdout",
     "output_type": "stream",
     "text": [
      "('tucktools (0)', '.jfif')\n",
      "('tucktools (1)', '.jfif')\n",
      "('tucktools (10)', '.jfif')\n",
      "('tucktools (11)', '.jfif')\n",
      "('tucktools (12)', '.jfif')\n",
      "('tucktools (13)', '.jfif')\n",
      "('tucktools (14)', '.jfif')\n",
      "('tucktools (15)', '.jfif')\n",
      "('tucktools (16)', '.jfif')\n",
      "('tucktools (2)', '.jfif')\n",
      "('tucktools (3)', '.jfif')\n",
      "('tucktools (4)', '.jfif')\n",
      "('tucktools (5)', '.jfif')\n",
      "('tucktools (6)', '.jfif')\n",
      "('tucktools (7)', '.jfif')\n",
      "('tucktools (8)', '.jfif')\n",
      "('tucktools (9)', '.jfif')\n"
     ]
    }
   ],
   "source": [
    "for f in os.listdir():\n",
    "    print(os.path.splitext(f))"
   ]
  },
  {
   "cell_type": "code",
   "execution_count": 51,
   "metadata": {},
   "outputs": [
    {
     "name": "stdout",
     "output_type": "stream",
     "text": [
      "tucktools (0)\n",
      "tucktools (1)\n",
      "tucktools (10)\n",
      "tucktools (11)\n",
      "tucktools (12)\n",
      "tucktools (13)\n",
      "tucktools (14)\n",
      "tucktools (15)\n",
      "tucktools (16)\n",
      "tucktools (2)\n",
      "tucktools (3)\n",
      "tucktools (4)\n",
      "tucktools (5)\n",
      "tucktools (6)\n",
      "tucktools (7)\n",
      "tucktools (8)\n",
      "tucktools (9)\n"
     ]
    }
   ],
   "source": [
    "for f in os.listdir():\n",
    "    file_name, file_ext = os.path.splitext(f)\n",
    "    print(file_name)"
   ]
  },
  {
   "cell_type": "code",
   "execution_count": 52,
   "metadata": {},
   "outputs": [
    {
     "name": "stdout",
     "output_type": "stream",
     "text": [
      "['tucktools ', '0)']\n",
      "['tucktools ', '1)']\n",
      "['tucktools ', '10)']\n",
      "['tucktools ', '11)']\n",
      "['tucktools ', '12)']\n",
      "['tucktools ', '13)']\n",
      "['tucktools ', '14)']\n",
      "['tucktools ', '15)']\n",
      "['tucktools ', '16)']\n",
      "['tucktools ', '2)']\n",
      "['tucktools ', '3)']\n",
      "['tucktools ', '4)']\n",
      "['tucktools ', '5)']\n",
      "['tucktools ', '6)']\n",
      "['tucktools ', '7)']\n",
      "['tucktools ', '8)']\n",
      "['tucktools ', '9)']\n"
     ]
    }
   ],
   "source": [
    "for f in os.listdir():\n",
    "    file_name, file_ext = os.path.splitext(f)\n",
    "    print(file_name.split('('))"
   ]
  },
  {
   "cell_type": "code",
   "execution_count": 53,
   "metadata": {},
   "outputs": [
    {
     "name": "stdout",
     "output_type": "stream",
     "text": [
      "tucktools \n",
      "0)\n",
      "tucktools \n",
      "1)\n",
      "tucktools \n",
      "10)\n",
      "tucktools \n",
      "11)\n",
      "tucktools \n",
      "12)\n",
      "tucktools \n",
      "13)\n",
      "tucktools \n",
      "14)\n",
      "tucktools \n",
      "15)\n",
      "tucktools \n",
      "16)\n",
      "tucktools \n",
      "2)\n",
      "tucktools \n",
      "3)\n",
      "tucktools \n",
      "4)\n",
      "tucktools \n",
      "5)\n",
      "tucktools \n",
      "6)\n",
      "tucktools \n",
      "7)\n",
      "tucktools \n",
      "8)\n",
      "tucktools \n",
      "9)\n"
     ]
    }
   ],
   "source": [
    "for f in os.listdir():\n",
    "    file_name, file_ext = os.path.splitext(f)\n",
    "\n",
    "    f_title, f_num = file_name.split('(')\n",
    "    print(f_title)\n",
    "    print(f_num)"
   ]
  },
  {
   "attachments": {},
   "cell_type": "markdown",
   "metadata": {},
   "source": [
    "Rename as a Formatted String"
   ]
  },
  {
   "cell_type": "code",
   "execution_count": 54,
   "metadata": {},
   "outputs": [
    {
     "name": "stdout",
     "output_type": "stream",
     "text": [
      "Owl - 00\n",
      "Owl - 01\n",
      "Owl - 10\n",
      "Owl - 11\n",
      "Owl - 12\n",
      "Owl - 13\n",
      "Owl - 14\n",
      "Owl - 15\n",
      "Owl - 16\n",
      "Owl - 02\n",
      "Owl - 03\n",
      "Owl - 04\n",
      "Owl - 05\n",
      "Owl - 06\n",
      "Owl - 07\n",
      "Owl - 08\n",
      "Owl - 09\n"
     ]
    }
   ],
   "source": [
    "num = 1\n",
    "for f in os.listdir():\n",
    "    file_name, file_ext = os.path.splitext(f)\n",
    "\n",
    "    f_title, f_num = file_name.split('(')\n",
    "\n",
    "    # Remove ) from f_num\n",
    "    new_fnum = f_num.replace(')','')\n",
    "    new_fnum = new_fnum.zfill(2)\n",
    "    # print(new_fnum)\n",
    "\n",
    "    # Rename f_title to 'Owl'\n",
    "    new_f_title = f_title.replace('tucktools','Owl')\n",
    "    # print(new_f_title)\n",
    "\n",
    "    # Rename altogether as a formatted string\n",
    "    # print('#{} {}- {}'.format(num, new_f_title, new_fnum))\n",
    "    # num += 1\n",
    "    print('{}- {}'.format(new_f_title, new_fnum))\n",
    "\n",
    "    new_name = '{}- {}.png'.format(new_f_title, new_fnum)\n",
    "\n",
    "    os.rename(f, new_name)\n",
    "    "
   ]
  }
 ],
 "metadata": {
  "kernelspec": {
   "display_name": "Python 3",
   "language": "python",
   "name": "python3"
  },
  "language_info": {
   "codemirror_mode": {
    "name": "ipython",
    "version": 3
   },
   "file_extension": ".py",
   "mimetype": "text/x-python",
   "name": "python",
   "nbconvert_exporter": "python",
   "pygments_lexer": "ipython3",
   "version": "3.10.8"
  },
  "orig_nbformat": 4,
  "vscode": {
   "interpreter": {
    "hash": "fbfacf25abbc4466cbf6a4ec94f71aa428570133f008ac9f4c86deb26a69bb88"
   }
  }
 },
 "nbformat": 4,
 "nbformat_minor": 2
}
