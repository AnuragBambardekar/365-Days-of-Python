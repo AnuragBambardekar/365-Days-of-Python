{
 "cells": [
  {
   "cell_type": "markdown",
   "metadata": {},
   "source": [
    "# Bitwise Operators and its Applications"
   ]
  },
  {
   "cell_type": "code",
   "execution_count": 1,
   "metadata": {},
   "outputs": [],
   "source": [
    "n1 = 28\n",
    "n2 = 19"
   ]
  },
  {
   "cell_type": "code",
   "execution_count": 2,
   "metadata": {},
   "outputs": [
    {
     "name": "stdout",
     "output_type": "stream",
     "text": [
      "0b11100\n",
      "0b10011\n"
     ]
    }
   ],
   "source": [
    "print(bin(n1))\n",
    "print(bin(n2))"
   ]
  },
  {
   "cell_type": "code",
   "execution_count": 3,
   "metadata": {},
   "outputs": [
    {
     "name": "stdout",
     "output_type": "stream",
     "text": [
      "11100\n",
      "10011\n"
     ]
    }
   ],
   "source": [
    "print(bin(n1)[2:])\n",
    "print(bin(n2)[2:])"
   ]
  },
  {
   "cell_type": "code",
   "execution_count": 4,
   "metadata": {},
   "outputs": [],
   "source": [
    "n3 = 28323\n",
    "n4 = 19972"
   ]
  },
  {
   "cell_type": "code",
   "execution_count": 5,
   "metadata": {},
   "outputs": [
    {
     "name": "stdout",
     "output_type": "stream",
     "text": [
      "110111010100011\n",
      "100111000000100\n"
     ]
    }
   ],
   "source": [
    "print(bin(n3)[2:])\n",
    "print(bin(n4)[2:])"
   ]
  },
  {
   "cell_type": "code",
   "execution_count": 6,
   "metadata": {},
   "outputs": [
    {
     "name": "stdout",
     "output_type": "stream",
     "text": [
      "100111000000000\n"
     ]
    }
   ],
   "source": [
    "# AND (1 AND 1 = 1)\n",
    "n5 = n3 & n4\n",
    "print(bin(n5)[2:])"
   ]
  },
  {
   "cell_type": "code",
   "execution_count": 7,
   "metadata": {},
   "outputs": [
    {
     "name": "stdout",
     "output_type": "stream",
     "text": [
      "110111010100111\n"
     ]
    }
   ],
   "source": [
    "# OR (1 OR 1 = 1, 0 OR 0 = 0)\n",
    "n6 = n3 | n4\n",
    "print(bin(n6)[2:])"
   ]
  },
  {
   "cell_type": "code",
   "execution_count": 10,
   "metadata": {},
   "outputs": [
    {
     "name": "stdout",
     "output_type": "stream",
     "text": [
      "010000010100111\n"
     ]
    }
   ],
   "source": [
    "# XOR (1 XOR 0 = 1, 0 XOR 1 = 1)\n",
    "n7 = n3 ^ n4\n",
    "print(\"0\"+bin(n7)[2:])"
   ]
  },
  {
   "cell_type": "code",
   "execution_count": 11,
   "metadata": {},
   "outputs": [
    {
     "name": "stdout",
     "output_type": "stream",
     "text": [
      "110111010100100\n"
     ]
    }
   ],
   "source": [
    "# NOT\n",
    "print(bin(~n3)[3:])"
   ]
  },
  {
   "cell_type": "code",
   "execution_count": 13,
   "metadata": {},
   "outputs": [
    {
     "name": "stdout",
     "output_type": "stream",
     "text": [
      "0b1010\n"
     ]
    }
   ],
   "source": [
    "# SHIFT\n",
    "number = 10\n",
    "print(bin(number))"
   ]
  },
  {
   "cell_type": "code",
   "execution_count": 14,
   "metadata": {},
   "outputs": [
    {
     "name": "stdout",
     "output_type": "stream",
     "text": [
      "0b10100\n"
     ]
    }
   ],
   "source": [
    "print(bin(number<<1))"
   ]
  },
  {
   "cell_type": "code",
   "execution_count": 16,
   "metadata": {},
   "outputs": [
    {
     "name": "stdout",
     "output_type": "stream",
     "text": [
      "0b101\n"
     ]
    }
   ],
   "source": [
    "number = 10\n",
    "print(bin(number>>1))"
   ]
  }
 ],
 "metadata": {
  "kernelspec": {
   "display_name": "Python 3",
   "language": "python",
   "name": "python3"
  },
  "language_info": {
   "codemirror_mode": {
    "name": "ipython",
    "version": 3
   },
   "file_extension": ".py",
   "mimetype": "text/x-python",
   "name": "python",
   "nbconvert_exporter": "python",
   "pygments_lexer": "ipython3",
   "version": "3.10.8"
  }
 },
 "nbformat": 4,
 "nbformat_minor": 2
}
