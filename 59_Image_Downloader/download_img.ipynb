{
 "cells": [
  {
   "attachments": {},
   "cell_type": "markdown",
   "metadata": {},
   "source": [
    "# Image Downloader - given a User prompt"
   ]
  },
  {
   "cell_type": "code",
   "execution_count": 1,
   "metadata": {},
   "outputs": [
    {
     "name": "stdout",
     "output_type": "stream",
     "text": [
      "10 dog images downloaded successfully in the dog_images directory.\n"
     ]
    }
   ],
   "source": [
    "import requests\n",
    "import os\n",
    "\n",
    "def download_images(prompt):\n",
    "    # parse the prompt to extract the number and search term\n",
    "    num_images = int(prompt.split()[1])\n",
    "    search_term = prompt.split()[2]\n",
    "\n",
    "    # create a new directory to store the images\n",
    "    directory = f\"{search_term}_images\"\n",
    "    if not os.path.exists(directory):\n",
    "        os.makedirs(directory)\n",
    "\n",
    "    # use the requests module to download the images\n",
    "    for i in range(num_images):\n",
    "        response = requests.get(f\"https://source.unsplash.com/800x600/?{search_term}\")\n",
    "        with open(f\"{directory}/image{i+1}.jpg\", \"wb\") as f:\n",
    "            f.write(response.content)\n",
    "\n",
    "    print(f\"{num_images} {search_term} images downloaded successfully in the {directory} directory.\")\n",
    "\n",
    "# prompt the user for input\n",
    "prompt = input(\"Enter a prompt in the format: 'download 10 dog images': \")\n",
    "\n",
    "# call the download_images function with the user input\n",
    "download_images(prompt)\n"
   ]
  },
  {
   "attachments": {},
   "cell_type": "markdown",
   "metadata": {},
   "source": [
    "For Downloading different images (dogs, cats)"
   ]
  },
  {
   "cell_type": "code",
   "execution_count": 2,
   "metadata": {},
   "outputs": [
    {
     "name": "stdout",
     "output_type": "stream",
     "text": [
      "10 dog+car+images images downloaded successfully in the dog+car+images_images directory.\n"
     ]
    }
   ],
   "source": [
    "import requests\n",
    "import os\n",
    "\n",
    "def download_images(prompt):\n",
    "    # parse the prompt to extract the number and search term\n",
    "    num_images = int(prompt.split()[1])\n",
    "    search_terms = prompt.split()[2:]\n",
    "    search_term = \"+\".join(search_terms).lower()\n",
    "\n",
    "    # create a new directory to store the images\n",
    "    directory = f\"{search_term}_images\"\n",
    "    if not os.path.exists(directory):\n",
    "        os.makedirs(directory)\n",
    "\n",
    "    # use the requests module to download the images\n",
    "    for i in range(num_images):\n",
    "        response = requests.get(f\"https://source.unsplash.com/800x600/?{search_term}\")\n",
    "        with open(f\"{directory}/image{i+1}.jpg\", \"wb\") as f:\n",
    "            f.write(response.content)\n",
    "\n",
    "    print(f\"{num_images} {search_term} images downloaded successfully in the {directory} directory.\")\n",
    "\n",
    "# prompt the user for input\n",
    "prompt = input(\"Enter a prompt in the format: 'download 10 dog images' or 'download 10 dog+cat images': \")\n",
    "\n",
    "# call the download_images function with the user input\n",
    "download_images(prompt)\n"
   ]
  }
 ],
 "metadata": {
  "kernelspec": {
   "display_name": "Python 3",
   "language": "python",
   "name": "python3"
  },
  "language_info": {
   "codemirror_mode": {
    "name": "ipython",
    "version": 3
   },
   "file_extension": ".py",
   "mimetype": "text/x-python",
   "name": "python",
   "nbconvert_exporter": "python",
   "pygments_lexer": "ipython3",
   "version": "3.10.8"
  },
  "orig_nbformat": 4,
  "vscode": {
   "interpreter": {
    "hash": "fbfacf25abbc4466cbf6a4ec94f71aa428570133f008ac9f4c86deb26a69bb88"
   }
  }
 },
 "nbformat": 4,
 "nbformat_minor": 2
}
