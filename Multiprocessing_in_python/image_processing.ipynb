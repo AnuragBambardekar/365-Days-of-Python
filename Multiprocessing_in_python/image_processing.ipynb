{
 "cells": [
  {
   "cell_type": "code",
   "execution_count": 2,
   "metadata": {},
   "outputs": [
    {
     "name": "stdout",
     "output_type": "stream",
     "text": [
      "photo-1517935706615-2717063c2225.jpg was processed...\n",
      "photo-1583211237509-9d5d3bfcd07b.jpg was processed...\n",
      "photo-1582585861644-d275d5c108e0.jpg was processed...\n",
      "photo-1557978557-2068ea6a817e.jpg was processed...\n",
      "photo-1557978557-57231f2dbc36.jpg was processed...\n",
      "photo-1518378892156-2c6bb23677df.jpg was processed...\n",
      "photo-1508693926297-1d61ee3df82a.jpg was processed...\n",
      "photo-1588733103629-b77afe0425ce.jpg was processed...\n",
      "photo-1551009175-15bdf9dcb580.jpg was processed...\n",
      "photo-1490623970972-ae8bb3da443e.jpg was processed...\n",
      "Finished in 6.390490299992962 seconds.\n"
     ]
    }
   ],
   "source": [
    "from PIL import Image, ImageFilter\n",
    "import time\n",
    "\n",
    "img_names = [\n",
    "    'photo-1517935706615-2717063c2225.jpg',\n",
    "    'photo-1583211237509-9d5d3bfcd07b.jpg',\n",
    "    'photo-1582585861644-d275d5c108e0.jpg',\n",
    "    'photo-1557978557-2068ea6a817e.jpg',\n",
    "    'photo-1557978557-57231f2dbc36.jpg',\n",
    "    'photo-1518378892156-2c6bb23677df.jpg',\n",
    "    'photo-1508693926297-1d61ee3df82a.jpg',\n",
    "    'photo-1588733103629-b77afe0425ce.jpg',\n",
    "    'photo-1551009175-15bdf9dcb580.jpg',\n",
    "    'photo-1490623970972-ae8bb3da443e.jpg',\n",
    "]\n",
    "\n",
    "t1 = time.perf_counter()\n",
    "\n",
    "size = (1200,1200) #set image resize size\n",
    "\n",
    "for img_name in img_names:\n",
    "    img = Image.open(img_name)\n",
    "    img = img.filter(ImageFilter.GaussianBlur(15))\n",
    "    img.thumbnail(size) #Resizing image\n",
    "    img.save(f'processed/{img_name}')\n",
    "    print(f'{img_name} was processed...')\n",
    "\n",
    "t2 = time.perf_counter()\n",
    "\n",
    "print(f\"Finished in {t2-t1} seconds.\")"
   ]
  },
  {
   "attachments": {},
   "cell_type": "markdown",
   "metadata": {},
   "source": [
    "Both I/O bound and CPU bound"
   ]
  },
  {
   "attachments": {},
   "cell_type": "markdown",
   "metadata": {},
   "source": [
    "Using Multiprocessing"
   ]
  },
  {
   "cell_type": "code",
   "execution_count": 5,
   "metadata": {},
   "outputs": [
    {
     "name": "stdout",
     "output_type": "stream",
     "text": [
      "Finished in 1.5922807000169996 seconds.\n"
     ]
    }
   ],
   "source": [
    "from PIL import Image, ImageFilter\n",
    "import time\n",
    "import concurrent.futures\n",
    "import sys  \n",
    "sys.path.insert(0, 'Multiprocessing_in_python\\process_images.py')\n",
    "from process_images import process_image as process_image\n",
    "\n",
    "\n",
    "if __name__ == \"__main__\":\n",
    "    t1 = time.perf_counter()\n",
    "    with concurrent.futures.ProcessPoolExecutor() as executor:\n",
    "        executor.map(process_image, img_names)\n",
    "\n",
    "    t2 = time.perf_counter()\n",
    "\n",
    "    print(f\"Finished in {t2-t1} seconds.\")"
   ]
  },
  {
   "attachments": {},
   "cell_type": "markdown",
   "metadata": {},
   "source": [
    "Using Threading"
   ]
  },
  {
   "cell_type": "code",
   "execution_count": 6,
   "metadata": {},
   "outputs": [
    {
     "name": "stdout",
     "output_type": "stream",
     "text": [
      "photo-1557978557-2068ea6a817e.jpg was processed...\n",
      "photo-1517935706615-2717063c2225.jpg was processed...\n",
      "photo-1588733103629-b77afe0425ce.jpg was processed...\n",
      "photo-1518378892156-2c6bb23677df.jpg was processed...\n",
      "photo-1583211237509-9d5d3bfcd07b.jpg was processed...\n",
      "photo-1557978557-57231f2dbc36.jpg was processed...\n",
      "photo-1551009175-15bdf9dcb580.jpg was processed...\n",
      "photo-1582585861644-d275d5c108e0.jpg was processed...\n",
      "photo-1490623970972-ae8bb3da443e.jpg was processed...\n",
      "photo-1508693926297-1d61ee3df82a.jpg was processed...\n",
      "Finished in 1.3085566000081599 seconds.\n"
     ]
    }
   ],
   "source": [
    "from PIL import Image, ImageFilter\n",
    "import time\n",
    "import concurrent.futures\n",
    "import sys  \n",
    "sys.path.insert(0, 'Multiprocessing_in_python\\process_images.py')\n",
    "from process_images import process_image as process_image\n",
    "\n",
    "\n",
    "if __name__ == \"__main__\":\n",
    "    t1 = time.perf_counter()\n",
    "    with concurrent.futures.ThreadPoolExecutor() as executor:\n",
    "        executor.map(process_image, img_names)\n",
    "\n",
    "    t2 = time.perf_counter()\n",
    "\n",
    "    print(f\"Finished in {t2-t1} seconds.\")"
   ]
  },
  {
   "attachments": {},
   "cell_type": "markdown",
   "metadata": {},
   "source": [
    "Actually, this task was more I/O bound than CPU bound, so multi-threading was better"
   ]
  }
 ],
 "metadata": {
  "kernelspec": {
   "display_name": "Python 3",
   "language": "python",
   "name": "python3"
  },
  "language_info": {
   "codemirror_mode": {
    "name": "ipython",
    "version": 3
   },
   "file_extension": ".py",
   "mimetype": "text/x-python",
   "name": "python",
   "nbconvert_exporter": "python",
   "pygments_lexer": "ipython3",
   "version": "3.10.7"
  },
  "orig_nbformat": 4,
  "vscode": {
   "interpreter": {
    "hash": "fbfacf25abbc4466cbf6a4ec94f71aa428570133f008ac9f4c86deb26a69bb88"
   }
  }
 },
 "nbformat": 4,
 "nbformat_minor": 2
}
