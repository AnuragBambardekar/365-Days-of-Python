{
 "cells": [
  {
   "attachments": {},
   "cell_type": "markdown",
   "metadata": {},
   "source": [
    "# File Organization"
   ]
  },
  {
   "cell_type": "code",
   "execution_count": 2,
   "metadata": {},
   "outputs": [
    {
     "name": "stdout",
     "output_type": "stream",
     "text": [
      "c:\\Users\\anura\\Documents\\VSCode_Workspace\\365-Days-of-Python\\89_FileOrganizing\n"
     ]
    }
   ],
   "source": [
    "import os\n",
    "print(os.getcwd())"
   ]
  },
  {
   "cell_type": "code",
   "execution_count": 3,
   "metadata": {},
   "outputs": [],
   "source": [
    "os.chdir('/Users/anura/Documents/VSCode_Workspace/365-Days-of-Python/89_FileOrganizing/video_files')"
   ]
  },
  {
   "cell_type": "code",
   "execution_count": 4,
   "metadata": {},
   "outputs": [
    {
     "name": "stdout",
     "output_type": "stream",
     "text": [
      "c:\\Users\\anura\\Documents\\VSCode_Workspace\\365-Days-of-Python\\89_FileOrganizing\\video_files\n"
     ]
    }
   ],
   "source": [
    "print(os.getcwd())"
   ]
  },
  {
   "cell_type": "code",
   "execution_count": 5,
   "metadata": {},
   "outputs": [
    {
     "name": "stdout",
     "output_type": "stream",
     "text": [
      "['1-eugwtfrebs-sample-15s.mp3', '2-lykvuspqpp-sample-3s.mp3', '3-qsrjxjqkoq-sample-9s.mp3', '4-ufsblxinhe-sample-12s.mp3', '5-ydndowxkqp-sample-6s.mp3']\n"
     ]
    }
   ],
   "source": [
    "print(os.listdir())"
   ]
  },
  {
   "cell_type": "code",
   "execution_count": 6,
   "metadata": {},
   "outputs": [
    {
     "name": "stdout",
     "output_type": "stream",
     "text": [
      "1-eugwtfrebs-sample-15s.mp3\n",
      "2-lykvuspqpp-sample-3s.mp3\n",
      "3-qsrjxjqkoq-sample-9s.mp3\n",
      "4-ufsblxinhe-sample-12s.mp3\n",
      "5-ydndowxkqp-sample-6s.mp3\n"
     ]
    }
   ],
   "source": [
    "for file in os.listdir():\n",
    "    print(file)"
   ]
  },
  {
   "cell_type": "code",
   "execution_count": 7,
   "metadata": {},
   "outputs": [
    {
     "name": "stdout",
     "output_type": "stream",
     "text": [
      "1-eugwtfrebs-sample-15s\n",
      ".mp3\n",
      "2-lykvuspqpp-sample-3s\n",
      ".mp3\n",
      "3-qsrjxjqkoq-sample-9s\n",
      ".mp3\n",
      "4-ufsblxinhe-sample-12s\n",
      ".mp3\n",
      "5-ydndowxkqp-sample-6s\n",
      ".mp3\n"
     ]
    }
   ],
   "source": [
    "for file in os.listdir():\n",
    "    name,ext = os.path.splitext(file)\n",
    "    print(name)\n",
    "    print(ext)"
   ]
  },
  {
   "cell_type": "code",
   "execution_count": 8,
   "metadata": {},
   "outputs": [
    {
     "name": "stdout",
     "output_type": "stream",
     "text": [
      "['1', 'eugwtfrebs', 'sample', '15s']\n",
      "['2', 'lykvuspqpp', 'sample', '3s']\n",
      "['3', 'qsrjxjqkoq', 'sample', '9s']\n",
      "['4', 'ufsblxinhe', 'sample', '12s']\n",
      "['5', 'ydndowxkqp', 'sample', '6s']\n"
     ]
    }
   ],
   "source": [
    "for file in os.listdir():\n",
    "    name,ext = os.path.splitext(file)\n",
    "    splitted = name.split(\"-\")\n",
    "    print(splitted)"
   ]
  },
  {
   "attachments": {},
   "cell_type": "markdown",
   "metadata": {},
   "source": [
    "Remove spaces, if any"
   ]
  },
  {
   "cell_type": "code",
   "execution_count": 9,
   "metadata": {},
   "outputs": [
    {
     "name": "stdout",
     "output_type": "stream",
     "text": [
      "['1', 'eugwtfrebs', 'sample', '15s']\n",
      "['2', 'lykvuspqpp', 'sample', '3s']\n",
      "['3', 'qsrjxjqkoq', 'sample', '9s']\n",
      "['4', 'ufsblxinhe', 'sample', '12s']\n",
      "['5', 'ydndowxkqp', 'sample', '6s']\n"
     ]
    }
   ],
   "source": [
    "for file in os.listdir():\n",
    "    name,ext = os.path.splitext(file)\n",
    "    splitted = name.split(\"-\")\n",
    "    splitted = [s.strip() for s in splitted]\n",
    "    print(splitted)"
   ]
  },
  {
   "cell_type": "code",
   "execution_count": 13,
   "metadata": {},
   "outputs": [
    {
     "name": "stdout",
     "output_type": "stream",
     "text": [
      "1-sample-eugwtfrebs-15s.mp3\n",
      "2-sample-lykvuspqpp-3s.mp3\n",
      "3-sample-qsrjxjqkoq-9s.mp3\n",
      "4-sample-ufsblxinhe-12s.mp3\n",
      "5-sample-ydndowxkqp-6s.mp3\n"
     ]
    }
   ],
   "source": [
    "for file in os.listdir():\n",
    "    name,ext = os.path.splitext(file)\n",
    "    splitted = name.split(\"-\")\n",
    "    splitted = [s.strip() for s in splitted]\n",
    "    new_name = f\"{splitted[0]}-{splitted[2]}-{splitted[1]}-{splitted[3]}{ext}\"\n",
    "    print(new_name)"
   ]
  },
  {
   "attachments": {},
   "cell_type": "markdown",
   "metadata": {},
   "source": [
    "Want atleast two digits"
   ]
  },
  {
   "cell_type": "code",
   "execution_count": 14,
   "metadata": {},
   "outputs": [
    {
     "name": "stdout",
     "output_type": "stream",
     "text": [
      "01-sample-eugwtfrebs-15s.mp3\n",
      "02-sample-lykvuspqpp-3s.mp3\n",
      "03-sample-qsrjxjqkoq-9s.mp3\n",
      "04-sample-ufsblxinhe-12s.mp3\n",
      "05-sample-ydndowxkqp-6s.mp3\n"
     ]
    }
   ],
   "source": [
    "for file in os.listdir():\n",
    "    name,ext = os.path.splitext(file)\n",
    "    splitted = name.split(\"-\")\n",
    "    splitted = [s.strip() for s in splitted]\n",
    "    new_name = f\"{splitted[0].zfill(2)}-{splitted[2]}-{splitted[1]}-{splitted[3]}{ext}\"\n",
    "    print(new_name)"
   ]
  },
  {
   "attachments": {},
   "cell_type": "markdown",
   "metadata": {},
   "source": [
    "## Rename the File"
   ]
  },
  {
   "cell_type": "code",
   "execution_count": 15,
   "metadata": {},
   "outputs": [],
   "source": [
    "for file in os.listdir():\n",
    "    name,ext = os.path.splitext(file)\n",
    "    splitted = name.split(\"-\")\n",
    "    splitted = [s.strip() for s in splitted]\n",
    "    new_name = f\"{splitted[0].zfill(2)}-{splitted[2]}-{splitted[1]}-{splitted[3]}{ext}\"\n",
    "    os.rename(file, new_name)"
   ]
  },
  {
   "attachments": {},
   "cell_type": "markdown",
   "metadata": {},
   "source": [
    "Import Pathlib"
   ]
  },
  {
   "cell_type": "code",
   "execution_count": 16,
   "metadata": {},
   "outputs": [],
   "source": [
    "os.chdir('/Users/anura/Documents/VSCode_Workspace/365-Days-of-Python/89_FileOrganizing/video_files/test_files/')"
   ]
  },
  {
   "cell_type": "code",
   "execution_count": 18,
   "metadata": {},
   "outputs": [],
   "source": [
    "from pathlib import Path\n",
    "for file in os.listdir():\n",
    "    f = Path(file)\n",
    "    name,ext = f.stem, f.suffix\n",
    "    splitted = name.split(\"-\")\n",
    "    splitted = [s.strip() for s in splitted]\n",
    "    new_name = f\"{splitted[0].zfill(2)}-{splitted[2]}-{splitted[1]}-{splitted[3]}{ext}\"\n",
    "    f.rename(new_name)"
   ]
  },
  {
   "attachments": {},
   "cell_type": "markdown",
   "metadata": {},
   "source": [
    "## Moving"
   ]
  },
  {
   "cell_type": "code",
   "execution_count": 19,
   "metadata": {},
   "outputs": [],
   "source": [
    "os.chdir('/Users/anura/Documents/VSCode_Workspace/365-Days-of-Python/89_FileOrganizing/video_files/test_files_2/')"
   ]
  },
  {
   "cell_type": "code",
   "execution_count": 20,
   "metadata": {},
   "outputs": [],
   "source": [
    "from pathlib import Path\n",
    "\n",
    "Path(\"data\").mkdir(exist_ok = True)"
   ]
  },
  {
   "cell_type": "code",
   "execution_count": 22,
   "metadata": {},
   "outputs": [],
   "source": [
    "if not os.path.exists(\"dataset\"):\n",
    "    os.mkdir(\"dataset\")"
   ]
  },
  {
   "cell_type": "code",
   "execution_count": 23,
   "metadata": {},
   "outputs": [
    {
     "name": "stdout",
     "output_type": "stream",
     "text": [
      "1-eugwtfrebs-sample-15s.mp3\n",
      "2-lykvuspqpp-sample-3s.mp3\n",
      "3-qsrjxjqkoq-sample-9s.mp3\n",
      "4-ufsblxinhe-sample-12s.mp3\n",
      "5-ydndowxkqp-sample-6s.mp3\n",
      "data\n",
      "dataset\n"
     ]
    }
   ],
   "source": [
    "for file in os.listdir():\n",
    "    print(file)"
   ]
  },
  {
   "attachments": {},
   "cell_type": "markdown",
   "metadata": {},
   "source": [
    "Move all files inside data folder"
   ]
  },
  {
   "cell_type": "code",
   "execution_count": 24,
   "metadata": {},
   "outputs": [],
   "source": [
    "import shutil\n",
    "for file in os.listdir():\n",
    "    if file == \"data\":\n",
    "        continue\n",
    "    shutil.move(file,\"data\")"
   ]
  },
  {
   "cell_type": "code",
   "execution_count": 32,
   "metadata": {},
   "outputs": [],
   "source": [
    "os.chdir('/Users/anura/Documents/VSCode_Workspace/365-Days-of-Python/89_FileOrganizing/video_files/test_files_2/data/dataset/')"
   ]
  },
  {
   "cell_type": "code",
   "execution_count": 33,
   "metadata": {},
   "outputs": [],
   "source": [
    "if not os.path.exists(\"data2\"):\n",
    "    os.mkdir(\"data2\")"
   ]
  },
  {
   "cell_type": "code",
   "execution_count": 34,
   "metadata": {},
   "outputs": [
    {
     "data": {
      "text/plain": [
       "'c:\\\\Users\\\\anura\\\\Documents\\\\VSCode_Workspace\\\\365-Days-of-Python\\\\89_FileOrganizing\\\\video_files\\\\test_files_2\\\\data\\\\dataset'"
      ]
     },
     "execution_count": 34,
     "metadata": {},
     "output_type": "execute_result"
    }
   ],
   "source": [
    "os.getcwd()"
   ]
  },
  {
   "cell_type": "code",
   "execution_count": 35,
   "metadata": {},
   "outputs": [],
   "source": [
    "for file in os.listdir():\n",
    "    if file == \"data2\":\n",
    "        continue\n",
    "    shutil.copy2(file,\"data2\")"
   ]
  },
  {
   "cell_type": "code",
   "execution_count": 36,
   "metadata": {},
   "outputs": [
    {
     "ename": "OSError",
     "evalue": "[WinError 145] The directory is not empty: 'data2'",
     "output_type": "error",
     "traceback": [
      "\u001b[1;31m---------------------------------------------------------------------------\u001b[0m",
      "\u001b[1;31mOSError\u001b[0m                                   Traceback (most recent call last)",
      "\u001b[1;32mc:\\Users\\anura\\Documents\\VSCode_Workspace\\365-Days-of-Python\\89_FileOrganizing\\fileOrganizerOS.ipynb Cell 30\u001b[0m in \u001b[0;36m1\n\u001b[1;32m----> <a href='vscode-notebook-cell:/c%3A/Users/anura/Documents/VSCode_Workspace/365-Days-of-Python/89_FileOrganizing/fileOrganizerOS.ipynb#X46sZmlsZQ%3D%3D?line=0'>1</a>\u001b[0m os\u001b[39m.\u001b[39mrmdir(\u001b[39m\"\u001b[39m\u001b[39mdata2\u001b[39m\u001b[39m\"\u001b[39m)\n",
      "\u001b[1;31mOSError\u001b[0m: [WinError 145] The directory is not empty: 'data2'"
     ]
    }
   ],
   "source": [
    "os.rmdir(\"data2\")"
   ]
  },
  {
   "cell_type": "code",
   "execution_count": 37,
   "metadata": {},
   "outputs": [],
   "source": [
    "shutil.rmtree(\"data2\")"
   ]
  },
  {
   "attachments": {},
   "cell_type": "markdown",
   "metadata": {},
   "source": [
    "Random Word Generator"
   ]
  },
  {
   "cell_type": "code",
   "execution_count": 12,
   "metadata": {},
   "outputs": [
    {
     "data": {
      "text/plain": [
       "'gcodfpkovt'"
      ]
     },
     "execution_count": 12,
     "metadata": {},
     "output_type": "execute_result"
    }
   ],
   "source": [
    "import random\n",
    "import string\n",
    "\n",
    "def get_random_string(length):\n",
    "    # choose from all lowercase letter\n",
    "    letters = string.ascii_lowercase\n",
    "    result_str = ''.join(random.choice(letters) for i in range(length))\n",
    "    return result_str\n",
    "get_random_string(10)"
   ]
  },
  {
   "cell_type": "code",
   "execution_count": null,
   "metadata": {},
   "outputs": [],
   "source": []
  }
 ],
 "metadata": {
  "kernelspec": {
   "display_name": "Python 3",
   "language": "python",
   "name": "python3"
  },
  "language_info": {
   "codemirror_mode": {
    "name": "ipython",
    "version": 3
   },
   "file_extension": ".py",
   "mimetype": "text/x-python",
   "name": "python",
   "nbconvert_exporter": "python",
   "pygments_lexer": "ipython3",
   "version": "3.10.8"
  },
  "orig_nbformat": 4
 },
 "nbformat": 4,
 "nbformat_minor": 2
}
