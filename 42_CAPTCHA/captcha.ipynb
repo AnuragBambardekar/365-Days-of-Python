{
 "cells": [
  {
   "attachments": {},
   "cell_type": "markdown",
   "metadata": {},
   "source": [
    "# CAPTCHA - Completely Automated Public Turing test to tell Computers and Humans Apart"
   ]
  },
  {
   "attachments": {},
   "cell_type": "markdown",
   "metadata": {},
   "source": [
    "**The term was coined in 2003 by Luis von Ahn, Manuel Blum, Nicholas J. Hopper, and John Langford.** <br>\n",
    "- This form of CAPTCHA requires entering a sequence of letters or numbers in a distorted image. Because the test is administered by a computer, in contrast to the standard Turing test that is administered by a human, a CAPTCHA is sometimes described as a reverse Turing test.\n",
    "- It takes the average person approximately 10 seconds to solve a typical CAPTCHA.\n",
    "- CAPTCHA is used to prevent spam on websites such as promotion spam, registration spam, and data scraping.\n",
    "- CAPTCHA helps to reduce the likelihood of bots abusing websites with spam.\n",
    "- Many websites use CAPTCHA to prevent bot raiding and it is effective in doing so.\n",
    "- The design of CAPTCHA allows humans to complete it, while most robots cannot."
   ]
  },
  {
   "attachments": {},
   "cell_type": "markdown",
   "metadata": {},
   "source": [
    "### Generating an Image CAPTCHA"
   ]
  },
  {
   "attachments": {},
   "cell_type": "markdown",
   "metadata": {},
   "source": [
    "pip install captcha"
   ]
  },
  {
   "cell_type": "code",
   "execution_count": 1,
   "metadata": {},
   "outputs": [],
   "source": [
    "from captcha.image import ImageCaptcha"
   ]
  },
  {
   "cell_type": "code",
   "execution_count": 4,
   "metadata": {},
   "outputs": [],
   "source": [
    "image = ImageCaptcha(width=300, height=100) #image size\n",
    "captcha_text = input(\"Enter CAPTCHA text to be rendered: \")\n",
    "\n",
    "#generate image of text\n",
    "data = image.generate(captcha_text)\n",
    "image.write(captcha_text,f\"CAPTCHA_{captcha_text}.png\")"
   ]
  },
  {
   "cell_type": "code",
   "execution_count": 11,
   "metadata": {},
   "outputs": [
    {
     "data": {
      "image/png": "[encoded data removed]",
      "text/plain": [
       "<PIL.PngImagePlugin.PngImageFile image mode=RGB size=300x100>"
      ]
     },
     "metadata": {},
     "output_type": "display_data"
    }
   ],
   "source": [
    "from PIL import Image\n",
    "import os\n",
    "from IPython.display import display\n",
    "\n",
    "folder = './'\n",
    "\n",
    "for filename in os.listdir(folder):\n",
    "    if filename.endswith('.png') or filename.endswith('.jpg'):\n",
    "        image = Image.open(os.path.join(folder, filename))\n",
    "        # image.show()\n",
    "        display(image)\n"
   ]
  },
  {
   "attachments": {},
   "cell_type": "markdown",
   "metadata": {},
   "source": [
    "#### Using PIL library"
   ]
  },
  {
   "cell_type": "code",
   "execution_count": 13,
   "metadata": {},
   "outputs": [],
   "source": [
    "import random\n",
    "import string\n",
    "from PIL import Image, ImageDraw, ImageFont\n",
    "\n",
    "def random_string(string_length=6):\n",
    "    letters = string.ascii_letters + string.digits\n",
    "    return ''.join(random.choice(letters) for i in range(string_length))\n",
    "\n",
    "def generate_captcha(text):\n",
    "    width = 200\n",
    "    height = 50\n",
    "    image = Image.new('RGB', (width, height), color='white')\n",
    "    draw = ImageDraw.Draw(image)\n",
    "    font = ImageFont.truetype('arial.ttf', 36)\n",
    "    draw.text((10, 10), text, font=font, fill='black')\n",
    "    draw.line([(0, height/2), (width, height/2)], fill='black', width=2)\n",
    "    return image\n",
    "\n",
    "text = random_string()\n",
    "captcha = generate_captcha(text)\n",
    "captcha.show()\n",
    "captcha.save('captcha.png')\n"
   ]
  },
  {
   "attachments": {},
   "cell_type": "markdown",
   "metadata": {},
   "source": [
    "### Audio CAPTCHA"
   ]
  },
  {
   "cell_type": "code",
   "execution_count": 15,
   "metadata": {},
   "outputs": [
    {
     "data": {
      "text/plain": [
       "100582"
      ]
     },
     "execution_count": 15,
     "metadata": {},
     "output_type": "execute_result"
    }
   ],
   "source": [
    "\n",
    "# Import the following modules\n",
    "from captcha.audio import AudioCaptcha\n",
    " \n",
    "# Create an audio instance\n",
    "audio = AudioCaptcha() \n",
    " \n",
    "# Audio captcha text\n",
    "captcha_text = \"3792\" #Only works for Digits\n",
    " \n",
    "# generate the audio of the given text\n",
    "audio_data = audio.generate(captcha_text)\n",
    " \n",
    "# Give the name of the audio file\n",
    "audio_file = \"audio\"+captcha_text+'.wav'\n",
    " \n",
    "# Finally write the audio file and save it\n",
    "audio.write(captcha_text, audio_file)"
   ]
  },
  {
   "attachments": {},
   "cell_type": "markdown",
   "metadata": {},
   "source": [
    "Google Text To Speech library to create Text Audio CAPTCHA's"
   ]
  },
  {
   "cell_type": "code",
   "execution_count": 18,
   "metadata": {},
   "outputs": [],
   "source": [
    "from gtts import gTTS\n",
    "import os\n",
    "\n",
    "def generate_audio_captcha(text):\n",
    "    tts = gTTS(text=text, lang='en')\n",
    "    tts.save(\"captcha.mp3\")\n",
    "    os.system(\"start captcha.mp3\")\n",
    "\n",
    "text = \"Hello, I am Bamba!\"\n",
    "generate_audio_captcha(text)"
   ]
  }
 ],
 "metadata": {
  "kernelspec": {
   "display_name": "Python 3",
   "language": "python",
   "name": "python3"
  },
  "language_info": {
   "codemirror_mode": {
    "name": "ipython",
    "version": 3
   },
   "file_extension": ".py",
   "mimetype": "text/x-python",
   "name": "python",
   "nbconvert_exporter": "python",
   "pygments_lexer": "ipython3",
   "version": "3.10.7"
  },
  "orig_nbformat": 4,
  "vscode": {
   "interpreter": {
    "hash": "fbfacf25abbc4466cbf6a4ec94f71aa428570133f008ac9f4c86deb26a69bb88"
   }
  }
 },
 "nbformat": 4,
 "nbformat_minor": 2
}
