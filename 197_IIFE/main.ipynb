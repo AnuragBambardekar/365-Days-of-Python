{
 "cells": [
  {
   "cell_type": "markdown",
   "metadata": {},
   "source": [
    "# IIFE - Immediately Invoked Function Expression\n",
    "\n",
    "IIFE is not a built-in feature of the Python language like it is in some other programming languages, such as JavaScript.\n",
    "\n",
    "In languages like JavaScript, an IIFE allows you to define a function and immediately invoke it without explicitly assigning it to a variable. This is commonly used to create a new scope and encapsulate variables, preventing them from polluting the global scope."
   ]
  },
  {
   "cell_type": "markdown",
   "metadata": {},
   "source": [
    "In Python, a lambda function is a small, anonymous function that can be defined without a name. It is also sometimes referred to as an \"anonymous function\" or a \"lambda expression.\" The lambda function is a way to create functions on the fly without the need for a formal function definition.\n",
    "\n",
    "The lambda function can take any number of arguments but must contain only a single expression.\n",
    "\n",
    "Lambda functions are often used when you need a simple, one-line function that is not required to be defined separately. They are typically used in situations where a function is needed as an argument to another function, such as in the map(), filter(), and reduce() functions."
   ]
  },
  {
   "cell_type": "code",
   "execution_count": 1,
   "metadata": {},
   "outputs": [
    {
     "name": "stdout",
     "output_type": "stream",
     "text": [
      "Started at: 10:44:31\n"
     ]
    }
   ],
   "source": [
    "from datetime import datetime\n",
    "\n",
    "@lambda _: _()\n",
    "def func() -> str:\n",
    "    time_text: str = f\"Started at: {datetime.now():%H:%M:%S}\"\n",
    "    print(time_text)\n",
    "    return time_text"
   ]
  },
  {
   "cell_type": "markdown",
   "metadata": {},
   "source": [
    "We can also use the function as a variable"
   ]
  },
  {
   "cell_type": "code",
   "execution_count": 2,
   "metadata": {},
   "outputs": [
    {
     "name": "stdout",
     "output_type": "stream",
     "text": [
      "Started at: 10:44:31\n"
     ]
    }
   ],
   "source": [
    "print(func)"
   ]
  },
  {
   "cell_type": "markdown",
   "metadata": {},
   "source": [
    "We don't really have a use for this in Python"
   ]
  }
 ],
 "metadata": {
  "kernelspec": {
   "display_name": "Python 3",
   "language": "python",
   "name": "python3"
  },
  "language_info": {
   "codemirror_mode": {
    "name": "ipython",
    "version": 3
   },
   "file_extension": ".py",
   "mimetype": "text/x-python",
   "name": "python",
   "nbconvert_exporter": "python",
   "pygments_lexer": "ipython3",
   "version": "3.10.8"
  },
  "orig_nbformat": 4
 },
 "nbformat": 4,
 "nbformat_minor": 2
}
