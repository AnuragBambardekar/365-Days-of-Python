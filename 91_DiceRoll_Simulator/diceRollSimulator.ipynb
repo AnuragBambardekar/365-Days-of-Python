{
 "cells": [
  {
   "attachments": {},
   "cell_type": "markdown",
   "metadata": {},
   "source": [
    "# Dice Roll Simulator"
   ]
  },
  {
   "cell_type": "code",
   "execution_count": 1,
   "metadata": {},
   "outputs": [
    {
     "name": "stdout",
     "output_type": "stream",
     "text": [
      "You rolled a 3\n"
     ]
    }
   ],
   "source": [
    "import random\n",
    "\n",
    "# roll the die\n",
    "roll = random.randint(1, 6)\n",
    "\n",
    "# print the result\n",
    "print(\"You rolled a \" + str(roll))"
   ]
  },
  {
   "attachments": {},
   "cell_type": "markdown",
   "metadata": {},
   "source": [
    "Multiple die"
   ]
  },
  {
   "cell_type": "code",
   "execution_count": 2,
   "metadata": {},
   "outputs": [
    {
     "name": "stdout",
     "output_type": "stream",
     "text": [
      "You rolled a 4 and a 5\n"
     ]
    }
   ],
   "source": [
    "import random\n",
    "\n",
    "# roll two dice\n",
    "roll1 = random.randint(1, 6)\n",
    "roll2 = random.randint(1, 6)\n",
    "\n",
    "# print the results\n",
    "print(\"You rolled a \" + str(roll1) + \" and a \" + str(roll2))\n"
   ]
  },
  {
   "attachments": {},
   "cell_type": "markdown",
   "metadata": {},
   "source": [
    "Custom die"
   ]
  },
  {
   "cell_type": "code",
   "execution_count": 3,
   "metadata": {},
   "outputs": [
    {
     "name": "stdout",
     "output_type": "stream",
     "text": [
      "You rolled a 5\n"
     ]
    }
   ],
   "source": [
    "import random\n",
    "\n",
    "# ask the user for the number of sides on the die\n",
    "num_sides = int(input(\"How many sides does the die have? \"))\n",
    "\n",
    "# roll the die\n",
    "roll = random.randint(1, num_sides)\n",
    "\n",
    "# print the result\n",
    "print(\"You rolled a \" + str(roll))\n"
   ]
  },
  {
   "attachments": {},
   "cell_type": "markdown",
   "metadata": {},
   "source": [
    "Weighted Die"
   ]
  },
  {
   "cell_type": "code",
   "execution_count": 4,
   "metadata": {},
   "outputs": [
    {
     "name": "stdout",
     "output_type": "stream",
     "text": [
      "You rolled a 1\n"
     ]
    }
   ],
   "source": [
    "import random\n",
    "\n",
    "# define the weights for each number on the die\n",
    "weights = [0.3, 0.3, 0.3, 0.1, 0.1, 0.1]\n",
    "\n",
    "# generate a random number between 0 and 1\n",
    "rand_num = random.random()\n",
    "\n",
    "# assign each number on the die a probability of landing based on its weight\n",
    "cumulative_prob = 0\n",
    "for i in range(len(weights)):\n",
    "    cumulative_prob += weights[i]\n",
    "    if rand_num < cumulative_prob:\n",
    "        roll = i + 1\n",
    "        break\n",
    "\n",
    "# print the result\n",
    "print(\"You rolled a \" + str(roll))\n"
   ]
  },
  {
   "attachments": {},
   "cell_type": "markdown",
   "metadata": {},
   "source": [
    "Rolling dice with different numbers of sides: \n",
    "\n",
    "We can modify the program to simulate rolling different types of dice with different numbers of sides. We can ask the user to input the number of dice they want to roll and the number of sides each die has, and then generate a random integer between 1 and the user-specified number of sides for each die. "
   ]
  },
  {
   "cell_type": "code",
   "execution_count": 5,
   "metadata": {},
   "outputs": [
    {
     "name": "stdout",
     "output_type": "stream",
     "text": [
      "You rolled: 3 3 2 4 2 \n"
     ]
    }
   ],
   "source": [
    "import random\n",
    "\n",
    "# ask the user for the number of dice and sides\n",
    "num_dice = int(input(\"How many dice do you want to roll? \"))\n",
    "sides = []\n",
    "for i in range(num_dice):\n",
    "    sides.append(int(input(\"How many sides does die \" + str(i+1) + \" have? \")))\n",
    "\n",
    "# roll the dice\n",
    "rolls = []\n",
    "for i in range(num_dice):\n",
    "    rolls.append(random.randint(1, sides[i]))\n",
    "\n",
    "# print the results\n",
    "result = \"You rolled: \"\n",
    "for i in range(num_dice):\n",
    "    result += str(rolls[i]) + \" \"\n",
    "print(result)\n"
   ]
  },
  {
   "attachments": {},
   "cell_type": "markdown",
   "metadata": {},
   "source": [
    "Multiplayer dice rolling: \n",
    "\n",
    "We can modify the program to simulate rolling dice for multiple players in a game. We can ask the user to input the number of players, and then for each player, we can ask for their name and the number of dice they want to roll. We can then generate a random integer between 1 and 6 for each die rolled by each player, and print out the results for each player."
   ]
  },
  {
   "cell_type": "code",
   "execution_count": 8,
   "metadata": {},
   "outputs": [
    {
     "name": "stdout",
     "output_type": "stream",
     "text": [
      "anurag rolled: 2 5 \n",
      "bob rolled: 4 2 4 \n",
      "harry rolled: 4 2 3 6 3 \n"
     ]
    }
   ],
   "source": [
    "import random\n",
    "\n",
    "# ask the user for the number of players\n",
    "num_players = int(input(\"How many players are there? \"))\n",
    "\n",
    "# roll the dice for each player\n",
    "for i in range(num_players):\n",
    "    # ask for the player's name and number of dice\n",
    "    name = input(\"What is player \" + str(i+1) + \"'s name? \")\n",
    "    num_dice = int(input(\"How many dice does \" + name + \" want to roll? \"))\n",
    "    \n",
    "    # roll the dice\n",
    "    rolls = []\n",
    "    for j in range(num_dice):\n",
    "        rolls.append(random.randint(1, 6))\n",
    "    \n",
    "    # print the results for the player\n",
    "    result = name + \" rolled: \"\n",
    "    for j in range(num_dice):\n",
    "        result += str(rolls[j]) + \" \"\n",
    "    print(result)\n"
   ]
  },
  {
   "attachments": {},
   "cell_type": "markdown",
   "metadata": {},
   "source": [
    "Rolling dice with different probabilities: \n",
    "\n",
    "We can modify the program to simulate rolling dice with different probabilities of landing on each face. We can ask the user to input the probability of landing on each face of the die, and then generate a random number between 0 and 1 and compare it to the cumulative probabilities to determine which face the die lands on."
   ]
  },
  {
   "cell_type": "code",
   "execution_count": 9,
   "metadata": {},
   "outputs": [
    {
     "name": "stdout",
     "output_type": "stream",
     "text": [
      "You rolled a 2\n"
     ]
    }
   ],
   "source": [
    "import random\n",
    "\n",
    "# ask the user for the probabilities of landing on each face\n",
    "probabilities = []\n",
    "for i in range(6):\n",
    "    probabilities.append(float(input(\"What is the probability of landing on \" + str(i+1) + \"? \")))\n",
    "\n",
    "# calculate the cumulative probabilities\n",
    "cumulative_probs = [probabilities[0]]\n",
    "for i in range(1, 6):\n",
    "    cumulative_probs.append(cumulative_probs[i-1] + probabilities[i])\n",
    "\n",
    "# roll the die\n",
    "rand_num = random.random()\n",
    "for i in range(6):\n",
    "    if rand_num < cumulative_probs[i]:\n",
    "        roll = i + 1\n",
    "        break\n",
    "\n",
    "# print the result\n",
    "print(\"You rolled a \" + str(roll))\n"
   ]
  }
 ],
 "metadata": {
  "kernelspec": {
   "display_name": "Python 3",
   "language": "python",
   "name": "python3"
  },
  "language_info": {
   "codemirror_mode": {
    "name": "ipython",
    "version": 3
   },
   "file_extension": ".py",
   "mimetype": "text/x-python",
   "name": "python",
   "nbconvert_exporter": "python",
   "pygments_lexer": "ipython3",
   "version": "3.10.8"
  },
  "orig_nbformat": 4
 },
 "nbformat": 4,
 "nbformat_minor": 2
}
