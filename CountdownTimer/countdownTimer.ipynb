{
 "cells": [
  {
   "attachments": {},
   "cell_type": "markdown",
   "metadata": {},
   "source": [
    "# Countdown Timer"
   ]
  },
  {
   "cell_type": "code",
   "execution_count": 3,
   "metadata": {},
   "outputs": [],
   "source": [
    "import time as time"
   ]
  },
  {
   "cell_type": "code",
   "execution_count": 4,
   "metadata": {},
   "outputs": [],
   "source": [
    "def countdown(seconds):\n",
    "    while seconds:\n",
    "        mins,secs = divmod(seconds,60)\n",
    "        time_f = '{:02d}:{:02d}'.format(mins,secs)\n",
    "        print(time_f, end='\\r')\n",
    "        time.sleep(1)\n",
    "        seconds -= 1\n",
    "    print(\"TIME IS UP!!\")\n"
   ]
  },
  {
   "cell_type": "code",
   "execution_count": 5,
   "metadata": {},
   "outputs": [
    {
     "name": "stdout",
     "output_type": "stream",
     "text": [
      "TIME IS UP!!\n"
     ]
    }
   ],
   "source": [
    "num = int(input(\"Set your timer in seconds: \"))\n",
    "countdown(num)"
   ]
  },
  {
   "cell_type": "markdown",
   "metadata": {},
   "source": []
  }
 ],
 "metadata": {
  "kernelspec": {
   "display_name": "Python 3",
   "language": "python",
   "name": "python3"
  },
  "language_info": {
   "codemirror_mode": {
    "name": "ipython",
    "version": 3
   },
   "file_extension": ".py",
   "mimetype": "text/x-python",
   "name": "python",
   "nbconvert_exporter": "python",
   "pygments_lexer": "ipython3",
   "version": "3.10.7"
  },
  "orig_nbformat": 4,
  "vscode": {
   "interpreter": {
    "hash": "fbfacf25abbc4466cbf6a4ec94f71aa428570133f008ac9f4c86deb26a69bb88"
   }
  }
 },
 "nbformat": 4,
 "nbformat_minor": 2
}
