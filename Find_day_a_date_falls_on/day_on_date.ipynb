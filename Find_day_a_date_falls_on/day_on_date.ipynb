{
 "cells": [
  {
   "attachments": {},
   "cell_type": "markdown",
   "metadata": {},
   "source": [
    "# To find what day a date falls on"
   ]
  },
  {
   "cell_type": "code",
   "execution_count": 1,
   "metadata": {},
   "outputs": [
    {
     "name": "stdout",
     "output_type": "stream",
     "text": [
      "1998-10-08 falls on a Thursday.\n"
     ]
    }
   ],
   "source": [
    "from datetime import datetime\n",
    "\n",
    "date_string = input(\"Enter a date in the format YYYY-MM-DD: \")\n",
    "date_object = datetime.strptime(date_string, \"%Y-%m-%d\")\n",
    "\n",
    "weekday_int = date_object.weekday()\n",
    "weekday_str = datetime.strftime(date_object, \"%A\")\n",
    "\n",
    "print(f\"{date_string} falls on a {weekday_str}.\")\n"
   ]
  },
  {
   "attachments": {},
   "cell_type": "markdown",
   "metadata": {},
   "source": [
    "## Without using datetime library"
   ]
  },
  {
   "attachments": {},
   "cell_type": "markdown",
   "metadata": {},
   "source": [
    "## We can use Zeller's Congruence\n",
    "It is an algorithm for calculating the day of the week for any given date. <br>\n",
    "**Formula:-** <br>\n",
    "```h = (day + (13 * (month + 1)) // 5 + k + (k / 4) + (j / 4) + (5 * j)) % 7```\n",
    "\n",
    "variable h is the calculated day of the week, with 0 representing Saturday, 1 representing Sunday, 2 representing Monday, and so on. Once you get the h you can use it with days array to return the day name."
   ]
  },
  {
   "attachments": {},
   "cell_type": "markdown",
   "metadata": {},
   "source": [
    "### Algorithm:\n",
    "- If month is less than 3, it means that the date is in January or February. Because the Zeller's congruence algorithm is based on the idea that March is the first month of the year, this section of code is used to \"shift\" the date into the next year so that it can be correctly calculated. <br>\n",
    "\n",
    "- Specifically, it increments the month variable by 12 and decrements the year variable by 1, which effectively \"moves\" the date from January or February of the given year to January or February of the following year.  <br>\n",
    "\n",
    "- k is the year modulo of 100 (it gives the last two digits of year)  <br>\n",
    "\n",
    "- j is the year integer division by 100 ( it gives the first two digits of year)  <br>"
   ]
  },
  {
   "attachments": {},
   "cell_type": "markdown",
   "metadata": {},
   "source": [
    "Let's check for 08 October, 1998 so, year=1998, month=10, day=8"
   ]
  },
  {
   "cell_type": "code",
   "execution_count": 5,
   "metadata": {},
   "outputs": [],
   "source": [
    "def find_day_of_week(year, month, day):\n",
    "    if month < 3:\n",
    "        month = month + 12\n",
    "        year = year - 1\n",
    "    k = year % 100 # k=98\n",
    "    j = year // 100 # j=19\n",
    "    h = (day + (13 * (month + 1)) // 5 + k + (k // 4) + (j // 4) + (5 * j)) % 7\n",
    "    print(h)\n",
    "    days = [\"Saturday\", \"Sunday\", \"Monday\", \"Tuesday\", \"Wednesday\", \"Thursday\", \"Friday\"]\n",
    "    return days[h]\n"
   ]
  },
  {
   "attachments": {},
   "cell_type": "markdown",
   "metadata": {},
   "source": [
    "### Working of the example:\n",
    "- h is the calculated day of the week, with 0 representing Saturday, 1 representing Sunday, 2 representing Monday, and so on.\n",
    "day is the day of the month (an integer from 1 to 31)\n",
    "\n",
    "- month is the month of the year (an integer from 1 to 12)\n",
    "\n",
    "- k is the last two digits of the year (e.g. for the year 1998, k = 98)\n",
    "\n",
    "- j is the first two digits of the year (e.g. for the year 1998, j = 19)"
   ]
  },
  {
   "attachments": {},
   "cell_type": "markdown",
   "metadata": {},
   "source": [
    "- The first part of the formula, (day + (13 * (month + 1)) // 5), is used to calculate an intermediate value based on the month and day of the date. \n",
    "\n",
    "- The (month + 1) part is used because the Zeller's congruence algorithm is based on the idea that March is the first month of the year.\n",
    "\n",
    "- The next part of the formula, (k + (k // 4) + (j // 4) + (5 * j)) is used to calculate an intermediate value based on the year of the date. k and j are used in this calculation because the formula takes into account both the last two digits of the year (k) and the first two digits of the year (j). The (k // 4) and (j // 4) parts are used because the Zeller's congruence takes into account the fact that a year is a leap year if it is divisible by 4.\n",
    "\n",
    "- Finally, the formula uses the modulus operator (%) to divide the sum of the intermediate values by 7. The remainder of this division is the value of h.\n",
    "\n",
    "- It's worth noting that the first part of the equation (day + (13 * (month + 1)) // 5) is related to the century change, before it the dates were counted differently, and this part of the equation handles this. And remaining part of the equation is for the year, month, and day calculation."
   ]
  },
  {
   "cell_type": "code",
   "execution_count": 7,
   "metadata": {},
   "outputs": [
    {
     "name": "stdout",
     "output_type": "stream",
     "text": [
      "5\n"
     ]
    },
    {
     "data": {
      "text/plain": [
       "'Thursday'"
      ]
     },
     "execution_count": 7,
     "metadata": {},
     "output_type": "execute_result"
    }
   ],
   "source": [
    "find_day_of_week(1998,10,8)"
   ]
  },
  {
   "attachments": {},
   "cell_type": "markdown",
   "metadata": {},
   "source": [
    "### Cases where this might fail: \n",
    "- Like any mathematical formula, it is not perfect and may fail in certain cases.\n",
    "\n",
    "- The main scenario where the Zeller's congruence formula may fail is when working with dates before the adoption of the Gregorian calendar, which was introduced in 1582 and is currently used by most of the world. \n",
    "\n",
    "- Another instance where the Zeller's congruence may fail is when working with dates in certain historical calendars, like the Julian calendar which was used in Europe before the Gregorian calendar, the dates are calculated differently.\n",
    "\n",
    "- It might also fail when working with certain calendars that used different systems for determining leap years. For example, the Julian calendar used a leap year rule of every 4 years, whereas the Hebrew calendar uses a leap year rule based on the Metonic cycle (a period of 19 years) and observational rules.\n",
    "\n",
    "- In such scenarios, it would be necessary to use a different algorithm or formula that is specifically designed to work with the calendar system being used."
   ]
  }
 ],
 "metadata": {
  "kernelspec": {
   "display_name": "Python 3",
   "language": "python",
   "name": "python3"
  },
  "language_info": {
   "codemirror_mode": {
    "name": "ipython",
    "version": 3
   },
   "file_extension": ".py",
   "mimetype": "text/x-python",
   "name": "python",
   "nbconvert_exporter": "python",
   "pygments_lexer": "ipython3",
   "version": "3.10.7"
  },
  "orig_nbformat": 4,
  "vscode": {
   "interpreter": {
    "hash": "fbfacf25abbc4466cbf6a4ec94f71aa428570133f008ac9f4c86deb26a69bb88"
   }
  }
 },
 "nbformat": 4,
 "nbformat_minor": 2
}
