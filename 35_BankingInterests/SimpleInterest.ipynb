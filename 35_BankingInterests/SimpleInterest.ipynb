{
 "cells": [
  {
   "attachments": {},
   "cell_type": "markdown",
   "metadata": {},
   "source": [
    "# Simple Interest"
   ]
  },
  {
   "cell_type": "code",
   "execution_count": 10,
   "metadata": {},
   "outputs": [
    {
     "name": "stdout",
     "output_type": "stream",
     "text": [
      "Principal amount:  300000.0\n",
      "Rate of Interest :  4.0\n",
      "Time :  30.0  years\n",
      "========================\n",
      "Annual Simple Interest accrued:  12000.0\n",
      "Final Amount with Simple Interest:  360000.0\n"
     ]
    }
   ],
   "source": [
    "def simple_interest(principal, rate, time):\n",
    "    return principal * rate * time / 100\n",
    "\n",
    "p = float(input(\"Enter the principal amount: \"))\n",
    "r = float(input(\"Enter the rate of interest: \"))\n",
    "t = float(input(\"Enter the time (in years): \"))\n",
    "\n",
    "# Convert decimal years to equivalent number of years\n",
    "t = int(t) + (t % 1) * 365 / 365\n",
    "\n",
    "si = simple_interest(p, r, t)\n",
    "\n",
    "print(\"Principal amount: \", p)\n",
    "print(\"Rate of Interest : \", r)\n",
    "print(\"Time : \", t, \" years\")\n",
    "print(\"========================\")\n",
    "print(\"Annual Simple Interest accrued: \", simple_interest(p, r, 1))\n",
    "print(\"Final Amount with Simple Interest: \", si)\n"
   ]
  }
 ],
 "metadata": {
  "kernelspec": {
   "display_name": "Python 3",
   "language": "python",
   "name": "python3"
  },
  "language_info": {
   "codemirror_mode": {
    "name": "ipython",
    "version": 3
   },
   "file_extension": ".py",
   "mimetype": "text/x-python",
   "name": "python",
   "nbconvert_exporter": "python",
   "pygments_lexer": "ipython3",
   "version": "3.10.7 (tags/v3.10.7:6cc6b13, Sep  5 2022, 14:08:36) [MSC v.1933 64 bit (AMD64)]"
  },
  "orig_nbformat": 4,
  "vscode": {
   "interpreter": {
    "hash": "fbfacf25abbc4466cbf6a4ec94f71aa428570133f008ac9f4c86deb26a69bb88"
   }
  }
 },
 "nbformat": 4,
 "nbformat_minor": 2
}
