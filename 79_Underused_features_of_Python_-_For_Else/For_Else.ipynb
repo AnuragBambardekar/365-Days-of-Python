{
 "cells": [
  {
   "attachments": {},
   "cell_type": "markdown",
   "metadata": {},
   "source": [
    "# For...Else Statement in Python"
   ]
  },
  {
   "attachments": {},
   "cell_type": "markdown",
   "metadata": {},
   "source": [
    "The else statement in a for loop is executed after the loop has finished iterating over the entire sequence. \n",
    "\n",
    "However, the else block is not executed if the loop is terminated by a break statement. \n",
    "\n",
    "The else block can be used to execute code that needs to be executed after the loop has finished, regardless of whether or not the loop was terminated by a break statement."
   ]
  },
  {
   "cell_type": "code",
   "execution_count": 1,
   "metadata": {},
   "outputs": [],
   "source": [
    "nums = [12,55,66,75,23,88,434,4521,453,689,99,183]"
   ]
  },
  {
   "cell_type": "code",
   "execution_count": 3,
   "metadata": {},
   "outputs": [
    {
     "name": "stdout",
     "output_type": "stream",
     "text": [
      "12 is not divisible by 5!\n",
      "Found a number: 55 is divisible by 5!\n",
      "No number divisible by 5 was found!\n"
     ]
    }
   ],
   "source": [
    "for number in nums:\n",
    "    if number %5 == 0:\n",
    "        print(f\"Found a number: {number} is divisible by 5!\")\n",
    "        break\n",
    "    else:\n",
    "        print(f\"{number} is not divisible by 5!\")\n",
    "\n",
    "print(\"No number divisible by 5 was found!\")"
   ]
  },
  {
   "attachments": {},
   "cell_type": "markdown",
   "metadata": {},
   "source": [
    "We don't want the last statement to be printed every time"
   ]
  },
  {
   "cell_type": "code",
   "execution_count": 6,
   "metadata": {},
   "outputs": [
    {
     "name": "stdout",
     "output_type": "stream",
     "text": [
      "12 is not divisible by 5!\n",
      "53 is not divisible by 5!\n",
      "66 is not divisible by 5!\n",
      "72 is not divisible by 5!\n",
      "23 is not divisible by 5!\n",
      "88 is not divisible by 5!\n",
      "434 is not divisible by 5!\n",
      "4521 is not divisible by 5!\n",
      "453 is not divisible by 5!\n",
      "689 is not divisible by 5!\n",
      "99 is not divisible by 5!\n",
      "183 is not divisible by 5!\n",
      "No number divisible by 5 was found!\n"
     ]
    }
   ],
   "source": [
    "nums = [12,53,66,72,23,88,434,4521,453,689,99,183]\n",
    "found = False # flag\n",
    "for number in nums:\n",
    "    if number %5 == 0:\n",
    "        print(f\"Found a number: {number} is divisible by 5!\")\n",
    "        found = True\n",
    "        break\n",
    "    else:\n",
    "        print(f\"{number} is not divisible by 5!\")\n",
    "\n",
    "if not found:\n",
    "    print(\"No number divisible by 5 was found!\")"
   ]
  },
  {
   "attachments": {},
   "cell_type": "markdown",
   "metadata": {},
   "source": [
    "Instead of using a ```helper``` variable (flag), we can use the ```else``` block with ```for```"
   ]
  },
  {
   "cell_type": "code",
   "execution_count": 8,
   "metadata": {},
   "outputs": [
    {
     "name": "stdout",
     "output_type": "stream",
     "text": [
      "12 is not divisible by 5!\n",
      "53 is not divisible by 5!\n",
      "66 is not divisible by 5!\n",
      "72 is not divisible by 5!\n",
      "23 is not divisible by 5!\n",
      "88 is not divisible by 5!\n",
      "434 is not divisible by 5!\n",
      "4521 is not divisible by 5!\n",
      "453 is not divisible by 5!\n",
      "689 is not divisible by 5!\n",
      "99 is not divisible by 5!\n",
      "183 is not divisible by 5!\n",
      "No number divisible by 5 was found!\n"
     ]
    }
   ],
   "source": [
    "nums = [12,53,66,72,23,88,434,4521,453,689,99,183]\n",
    "for number in nums:\n",
    "    if number %5 == 0:\n",
    "        print(f\"Found a number: {number} is divisible by 5!\")\n",
    "        break\n",
    "    else:\n",
    "        print(f\"{number} is not divisible by 5!\")\n",
    "else:\n",
    "    print(\"No number divisible by 5 was found!\") # always executes if break statement is not reached"
   ]
  },
  {
   "attachments": {},
   "cell_type": "markdown",
   "metadata": {},
   "source": [
    "Another Demo"
   ]
  },
  {
   "cell_type": "code",
   "execution_count": 10,
   "metadata": {},
   "outputs": [
    {
     "name": "stdout",
     "output_type": "stream",
     "text": [
      "0\n",
      "1\n",
      "2\n",
      "3\n",
      "4\n",
      "5\n",
      "6\n",
      "7\n",
      "8\n",
      "9\n",
      "Loop completed without manual intervention!\n"
     ]
    }
   ],
   "source": [
    "import threading\n",
    "import time\n",
    "\n",
    "done = False\n",
    "def end_loop():\n",
    "    global done\n",
    "    input(\"Press enter to terminate loop...\\n\")\n",
    "    done=True\n",
    "\n",
    "threading.Thread(target=end_loop).start()\n",
    "\n",
    "for i in range(10):\n",
    "    print(i)\n",
    "    if done:\n",
    "        break\n",
    "    time.sleep(1)\n",
    "else:\n",
    "    print(\"Loop completed without manual intervention!\")"
   ]
  },
  {
   "attachments": {},
   "cell_type": "markdown",
   "metadata": {},
   "source": [
    "## Checking if number is a prime"
   ]
  },
  {
   "cell_type": "code",
   "execution_count": 11,
   "metadata": {},
   "outputs": [
    {
     "name": "stdout",
     "output_type": "stream",
     "text": [
      "11 is a prime number\n"
     ]
    }
   ],
   "source": [
    "num = 11\n",
    "\n",
    "for i in range(2, num):\n",
    "    if num % i == 0:\n",
    "        print(num, \"is not a prime number\")\n",
    "        break\n",
    "else:\n",
    "    print(num, \"is a prime number\")\n"
   ]
  },
  {
   "attachments": {},
   "cell_type": "markdown",
   "metadata": {},
   "source": [
    "## Checking if 2 lists have any common elements"
   ]
  },
  {
   "cell_type": "code",
   "execution_count": 12,
   "metadata": {},
   "outputs": [
    {
     "name": "stdout",
     "output_type": "stream",
     "text": [
      "The two lists have no common elements\n"
     ]
    }
   ],
   "source": [
    "list1 = [1, 2, 3, 4, 5]\n",
    "list2 = [6, 7, 8, 9, 10]\n",
    "\n",
    "for num in list1:\n",
    "    if num in list2:\n",
    "        print(\"The two lists have at least one common element\")\n",
    "        break\n",
    "else:\n",
    "    print(\"The two lists have no common elements\")"
   ]
  },
  {
   "attachments": {},
   "cell_type": "markdown",
   "metadata": {},
   "source": [
    "## Finding the first even number in a list"
   ]
  },
  {
   "cell_type": "code",
   "execution_count": 13,
   "metadata": {},
   "outputs": [
    {
     "name": "stdout",
     "output_type": "stream",
     "text": [
      "The first even number is 8\n"
     ]
    }
   ],
   "source": [
    "numbers = [1, 3, 5, 7, 8, 9, 11]\n",
    "\n",
    "for num in numbers:\n",
    "    if num % 2 == 0:\n",
    "        print(\"The first even number is\", num)\n",
    "        break\n",
    "else:\n",
    "    print(\"There are no even numbers in the list\")"
   ]
  },
  {
   "cell_type": "code",
   "execution_count": null,
   "metadata": {},
   "outputs": [],
   "source": []
  }
 ],
 "metadata": {
  "kernelspec": {
   "display_name": "Python 3",
   "language": "python",
   "name": "python3"
  },
  "language_info": {
   "codemirror_mode": {
    "name": "ipython",
    "version": 3
   },
   "file_extension": ".py",
   "mimetype": "text/x-python",
   "name": "python",
   "nbconvert_exporter": "python",
   "pygments_lexer": "ipython3",
   "version": "3.10.8"
  },
  "orig_nbformat": 4
 },
 "nbformat": 4,
 "nbformat_minor": 2
}
