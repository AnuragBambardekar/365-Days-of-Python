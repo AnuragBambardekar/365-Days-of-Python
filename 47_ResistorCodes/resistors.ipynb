{
 "cells": [
  {
   "attachments": {},
   "cell_type": "markdown",
   "metadata": {},
   "source": [
    "# Decoding Resistor Color codes"
   ]
  },
  {
   "cell_type": "code",
   "execution_count": 58,
   "metadata": {},
   "outputs": [],
   "source": [
    "def calculate_resistance(colors):\n",
    "    # BB ROY from Great Britain has a Very Good Wife.\n",
    "    color_codes = {\n",
    "        'black': 0, # BK \n",
    "        'brown': 1, # BN\n",
    "        'red': 2,   # RD\n",
    "        'orange': 3,# OG\n",
    "        'yellow': 4,# YE\n",
    "        'green': 5, # GN\n",
    "        'blue': 6,  # BU\n",
    "        'violet': 7,# VT\n",
    "        'gray': 8,  # GY\n",
    "        'white': 9  # WH\n",
    "    }\n",
    "\n",
    "    # Multipliers\n",
    "    mult_color_codes = {\n",
    "        'black': 0,  # x 1\n",
    "        'brown': 1,  # x 10\n",
    "        'red': 2,    # x 100\n",
    "        'orange': 3, # x 1000 (1K)\n",
    "        'yellow': 4, # x 10000 (10K)\n",
    "        'green': 5,  # x 100000 (100K)\n",
    "        'blue': 6,   # x 1000000 (1M)\n",
    "        'violet': 7, # x 10000000 (10M)\n",
    "        'gray': 8,   # x 100000000 (100M)\n",
    "        'white': 9,  # x 1000000000 (1G)\n",
    "        'gold': -1,  # x 0.1\n",
    "        'silver': -2,# x 0.01\n",
    "        'pink': -3   # x 0.001\n",
    "    }\n",
    "\n",
    "    # Tolerance\n",
    "    tolerance_color_codes = {\n",
    "        'brown': 1,     # +/- 1%        F\n",
    "        'red': 2,       # +/- 2%        G\n",
    "        'orange': 0.05, # +/- 0.05%     W\n",
    "        'yellow': 0.02, # +/- 0.02%     P\n",
    "        'green': 0.5,   # +/- 0.5%      D\n",
    "        'blue': 0.25,   # +/- 0.25%     C\n",
    "        'violet': 0.1,  # +/- 0.1%      B\n",
    "        'gray': 0.01,   # +/- 0.01%     L(A)   \n",
    "        'gold': 5,      # +/- 5%        J\n",
    "        'silver': 10,   # +/- 10%       K\n",
    "        'none': 20,     # +/- 20%       M\n",
    "    }\n",
    "\n",
    "    # Tempearature Coefficient\n",
    "    tempCoeff_color_codes = {\n",
    "        'black': 250, # 250 (U)\n",
    "        'brown': 100, # 100 (S)\n",
    "        'red': 50,    # 50 (R)\n",
    "        'orange': 15, # 15 (P)\n",
    "        'yellow': 25, # 25 (Q)\n",
    "        'green': 20,  # 20 (Z)\n",
    "        'blue': 10,   # 10 (Z)\n",
    "        'violet': 5,  # 5 (M)\n",
    "        'grey': 1     # 1 (K)\n",
    "    }\n",
    "\n",
    "    # Zero Ohm Resistor\n",
    "    if len(colors) == 1 and colors[0] == 'black':\n",
    "        return 0\n",
    "    \n",
    "    # 3 Band Resistor\n",
    "    if len(colors) == 3:\n",
    "        resistance = (color_codes[colors[0]] * 10 + color_codes[colors[1]]) * 10**mult_color_codes[colors[2]]\n",
    "        return resistance, tolerance_color_codes['none']\n",
    "\n",
    "    # 4 Band Resistor\n",
    "    if len(colors) == 4:\n",
    "        resistance = (color_codes[colors[0]] * 10 + color_codes[colors[1]]) * 10**mult_color_codes[colors[2]]\n",
    "        return resistance, tolerance_color_codes[colors[3]]\n",
    "\n",
    "    # 5 Band Resistor\n",
    "    if len(colors) == 5:\n",
    "        resistance = (color_codes[colors[0]] * 100 + color_codes[colors[1]] * 10 + color_codes[colors[2]]) * 10**mult_color_codes[colors[3]]\n",
    "        return resistance, tolerance_color_codes[colors[4]]\n",
    "\n",
    "    # 6 Band Resistor - Military Band\n",
    "    if len(colors) == 6:\n",
    "        resistance = (color_codes[colors[0]] * 100 + color_codes[colors[1]] * 10 + color_codes[colors[2]]) * 10**mult_color_codes[colors[3]]\n",
    "        return resistance, tolerance_color_codes[colors[4]], tempCoeff_color_codes[colors[5]]"
   ]
  },
  {
   "attachments": {},
   "cell_type": "markdown",
   "metadata": {},
   "source": [
    "### Zero Ohm Resistor"
   ]
  },
  {
   "cell_type": "code",
   "execution_count": 59,
   "metadata": {},
   "outputs": [
    {
     "name": "stdout",
     "output_type": "stream",
     "text": [
      "The resistor value is: 0 ohms\n"
     ]
    }
   ],
   "source": [
    "colors = ['black']\n",
    "resistance = calculate_resistance(colors)\n",
    "print(f\"The resistor value is: {resistance} ohms\")"
   ]
  },
  {
   "attachments": {},
   "cell_type": "markdown",
   "metadata": {},
   "source": [
    "### 3 Bands"
   ]
  },
  {
   "cell_type": "code",
   "execution_count": 60,
   "metadata": {},
   "outputs": [
    {
     "name": "stdout",
     "output_type": "stream",
     "text": [
      "The resistor value is: 47000 ohms ± 20% tolerance\n"
     ]
    }
   ],
   "source": [
    "colors = ['yellow','violet','orange']\n",
    "resistance, tolerance = calculate_resistance(colors)\n",
    "print(f\"The resistor value is: {resistance} ohms ± {tolerance}% tolerance\")"
   ]
  },
  {
   "cell_type": "code",
   "execution_count": 61,
   "metadata": {},
   "outputs": [
    {
     "name": "stdout",
     "output_type": "stream",
     "text": [
      "The resistor value is: 5.2 ohms ± 20% tolerance\n"
     ]
    }
   ],
   "source": [
    "colors = ['green','red','gold']\n",
    "resistance, tolerance  = calculate_resistance(colors)\n",
    "print(f\"The resistor value is: {resistance} ohms ± {tolerance}% tolerance\")"
   ]
  },
  {
   "attachments": {},
   "cell_type": "markdown",
   "metadata": {},
   "source": [
    "### 4 bands"
   ]
  },
  {
   "cell_type": "code",
   "execution_count": 62,
   "metadata": {},
   "outputs": [
    {
     "name": "stdout",
     "output_type": "stream",
     "text": [
      "The resistor value is: 5.2 ohms ± 1% tolerance\n"
     ]
    }
   ],
   "source": [
    "colors = ['green','red','gold','brown']\n",
    "resistance, tolerance  = calculate_resistance(colors)\n",
    "print(f\"The resistor value is: {resistance} ohms ± {tolerance}% tolerance\")"
   ]
  },
  {
   "attachments": {},
   "cell_type": "markdown",
   "metadata": {},
   "source": [
    "### 5 Bands"
   ]
  },
  {
   "cell_type": "code",
   "execution_count": 64,
   "metadata": {},
   "outputs": [
    {
     "name": "stdout",
     "output_type": "stream",
     "text": [
      "The resistor value is: 5260 ohms ± 1% tolerance\n"
     ]
    }
   ],
   "source": [
    "colors = ['green','red','blue','brown','brown']\n",
    "resistance, tolerance  = calculate_resistance(colors)\n",
    "print(f\"The resistor value is: {resistance} ohms ± {tolerance}% tolerance\")"
   ]
  },
  {
   "attachments": {},
   "cell_type": "markdown",
   "metadata": {},
   "source": [
    "### 6 Bands"
   ]
  },
  {
   "cell_type": "code",
   "execution_count": 66,
   "metadata": {},
   "outputs": [
    {
     "name": "stdout",
     "output_type": "stream",
     "text": [
      "The resistor value is: 5260 ohms ± 1% tolerance, 100 ppm/K\n"
     ]
    }
   ],
   "source": [
    "colors = ['green','red','blue','brown','brown','brown']\n",
    "resistance, tolerance, temp_coeff  = calculate_resistance(colors)\n",
    "print(f\"The resistor value is: {resistance} ohms ± {tolerance}% tolerance, {temp_coeff} ppm/K\")"
   ]
  }
 ],
 "metadata": {
  "kernelspec": {
   "display_name": "Python 3",
   "language": "python",
   "name": "python3"
  },
  "language_info": {
   "codemirror_mode": {
    "name": "ipython",
    "version": 3
   },
   "file_extension": ".py",
   "mimetype": "text/x-python",
   "name": "python",
   "nbconvert_exporter": "python",
   "pygments_lexer": "ipython3",
   "version": "3.10.7"
  },
  "orig_nbformat": 4,
  "vscode": {
   "interpreter": {
    "hash": "fbfacf25abbc4466cbf6a4ec94f71aa428570133f008ac9f4c86deb26a69bb88"
   }
  }
 },
 "nbformat": 4,
 "nbformat_minor": 2
}
