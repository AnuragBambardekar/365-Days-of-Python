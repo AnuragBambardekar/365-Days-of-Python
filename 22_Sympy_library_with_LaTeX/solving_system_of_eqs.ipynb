{
 "cells": [
  {
   "attachments": {},
   "cell_type": "markdown",
   "metadata": {},
   "source": [
    "# Solving Systems of Equations"
   ]
  },
  {
   "cell_type": "code",
   "execution_count": 2,
   "metadata": {},
   "outputs": [],
   "source": [
    "from sympy.interactive import printing\n",
    "printing.init_printing(use_latex = True)\n",
    "from sympy import Eq,solve_linear_system,Matrix\n",
    "from numpy import linalg\n",
    "import numpy as np\n",
    "import sympy as sp"
   ]
  },
  {
   "attachments": {},
   "cell_type": "markdown",
   "metadata": {},
   "source": [
    "#### Using sympy"
   ]
  },
  {
   "cell_type": "code",
   "execution_count": 15,
   "metadata": {},
   "outputs": [
    {
     "data": {
      "image/png": "[encoded data removed]",
      "text/latex": [
       "$\\displaystyle 2 x - y = -4$"
      ],
      "text/plain": [
       "2⋅x - y = -4"
      ]
     },
     "metadata": {},
     "output_type": "display_data"
    },
    {
     "data": {
      "image/png": "[encoded data removed]",
      "text/latex": [
       "$\\displaystyle 3 x - 1 = -2$"
      ],
      "text/plain": [
       "3⋅x - 1 = -2"
      ]
     },
     "metadata": {},
     "output_type": "display_data"
    },
    {
     "name": "stdout",
     "output_type": "stream",
     "text": [
      "===========================\n"
     ]
    },
    {
     "data": {
      "image/png": "[encoded data removed]",
      "text/latex": [
       "$\\displaystyle \\left[ 2, \\  -1, \\  -4\\right]$"
      ],
      "text/plain": [
       "[2, -1, -4]"
      ]
     },
     "metadata": {},
     "output_type": "display_data"
    },
    {
     "data": {
      "image/png": "[encoded data removed]",
      "text/latex": [
       "$\\displaystyle \\left[ 2, \\  -1, \\  -4, \\  2, \\  -1, \\  -4\\right]$"
      ],
      "text/plain": [
       "[2, -1, -4, 2, -1, -4]"
      ]
     },
     "metadata": {},
     "output_type": "display_data"
    },
    {
     "data": {
      "text/plain": [
       "array([ 3, -1, -2])"
      ]
     },
     "metadata": {},
     "output_type": "display_data"
    },
    {
     "data": {
      "text/plain": [
       "array([ 6, -2, -4])"
      ]
     },
     "metadata": {},
     "output_type": "display_data"
    },
    {
     "name": "stdout",
     "output_type": "stream",
     "text": [
      "===========================\n"
     ]
    },
    {
     "data": {
      "image/png": "[encoded data removed]",
      "text/latex": [
       "$\\displaystyle \\left[\\begin{matrix}2 & -1 & -4\\\\3 & -1 & -2\\end{matrix}\\right]$"
      ],
      "text/plain": [
       "⎡2  -1  -4⎤\n",
       "⎢         ⎥\n",
       "⎣3  -1  -2⎦"
      ]
     },
     "metadata": {},
     "output_type": "display_data"
    },
    {
     "data": {
      "image/png": "[encoded data removed]",
      "text/latex": [
       "$\\displaystyle \\left\\{ x : 2, \\  y : 8\\right\\}$"
      ],
      "text/plain": [
       "{x: 2, y: 8}"
      ]
     },
     "execution_count": 15,
     "metadata": {},
     "output_type": "execute_result"
    }
   ],
   "source": [
    "eq1 = sp.Function('eq1')\n",
    "eq2 = sp.Function('eq2')\n",
    "x, y =sp.symbols('x y')\n",
    "\n",
    "eq1 = Eq(2*x-y, -4)\n",
    "eq2 = Eq(3*x-1, -2)\n",
    "display(eq1)\n",
    "display(eq2)\n",
    "\n",
    "row1 = [2,-1,-4]\n",
    "row2 = [3,-1,-2]\n",
    "row3 = np.array([3,-1,-2]) #also allows this with another list\n",
    "\n",
    "print(\"===========================\")\n",
    "display(row1)\n",
    "display(2*row1)\n",
    "display(row3)\n",
    "display(2*row3)\n",
    "print(\"===========================\")\n",
    "\n",
    "system = Matrix((row1,row2))\n",
    "display(system)\n",
    "\n",
    "#Solving the system of equations\n",
    "solve_linear_system(system,x,y)"
   ]
  },
  {
   "attachments": {},
   "cell_type": "markdown",
   "metadata": {},
   "source": [
    "#### Using numpy"
   ]
  },
  {
   "cell_type": "code",
   "execution_count": 12,
   "metadata": {},
   "outputs": [
    {
     "data": {
      "text/plain": [
       "array([[ 2, -1],\n",
       "       [ 3, -1]])"
      ]
     },
     "metadata": {},
     "output_type": "display_data"
    },
    {
     "data": {
      "text/plain": [
       "array([2., 8.])"
      ]
     },
     "metadata": {},
     "output_type": "display_data"
    },
    {
     "name": "stdout",
     "output_type": "stream",
     "text": [
      "2 , 8\n"
     ]
    }
   ],
   "source": [
    "nrow1 = [2,-1]\n",
    "nrow2 = [3,-1]\n",
    "nmat = np.array([nrow1,nrow2])\n",
    "display(nmat)\n",
    "\n",
    "const = np.array([-4,-2])\n",
    "\n",
    "result = linalg.solve(nmat,const)\n",
    "display(result)\n",
    "\n",
    "xval = int(result[0])\n",
    "yval = int(result[1])\n",
    "print(xval,\",\", yval)"
   ]
  },
  {
   "cell_type": "code",
   "execution_count": null,
   "metadata": {},
   "outputs": [],
   "source": [
    "\n"
   ]
  }
 ],
 "metadata": {
  "kernelspec": {
   "display_name": "Python 3",
   "language": "python",
   "name": "python3"
  },
  "language_info": {
   "codemirror_mode": {
    "name": "ipython",
    "version": 3
   },
   "file_extension": ".py",
   "mimetype": "text/x-python",
   "name": "python",
   "nbconvert_exporter": "python",
   "pygments_lexer": "ipython3",
   "version": "3.10.7"
  },
  "orig_nbformat": 4,
  "vscode": {
   "interpreter": {
    "hash": "fbfacf25abbc4466cbf6a4ec94f71aa428570133f008ac9f4c86deb26a69bb88"
   }
  }
 },
 "nbformat": 4,
 "nbformat_minor": 2
}
