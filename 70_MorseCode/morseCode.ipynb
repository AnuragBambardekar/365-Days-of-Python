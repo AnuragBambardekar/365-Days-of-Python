{
 "cells": [
  {
   "attachments": {},
   "cell_type": "markdown",
   "metadata": {},
   "source": [
    "# Morse Code"
   ]
  },
  {
   "cell_type": "code",
   "execution_count": 1,
   "metadata": {},
   "outputs": [],
   "source": [
    "from playsound import playsound\n",
    "import time"
   ]
  },
  {
   "attachments": {},
   "cell_type": "markdown",
   "metadata": {},
   "source": [
    "Morse-Beep Dictionary"
   ]
  },
  {
   "cell_type": "code",
   "execution_count": 3,
   "metadata": {},
   "outputs": [],
   "source": [
    "translate_dict = {'A': ',-', 'B': '-...', 'C':'-.-.', 'D':'-..', 'E':'.',\n",
    "                  'F': '..-.', 'G': '--.', 'H': '....', 'I': '..', 'J': '.---',\n",
    "                  'K': '-.-', 'L': '.-..', 'M': '--', 'N': '-.', 'O': '---',\n",
    "                  'P': '.--.', 'Q': '--.-', 'R': '.-.', 'S': '...', 'T': '-',\n",
    "                  'U': '..-', 'V': '...-', 'W': '.--', 'X': '-..-', 'Y': '-.--',\n",
    "                  'Z': '--..', '1': '.----', '2': '..---', '3': '...--', '4': '....-',\n",
    "                  '5': '.....', '6': '-....', '7': '--...', '8': '---..', '9': '----.',\n",
    "                  '0': '-----', \" \": \"/\"}"
   ]
  },
  {
   "attachments": {},
   "cell_type": "markdown",
   "metadata": {},
   "source": [
    "Translation - From Text to Morse [Encoding]"
   ]
  },
  {
   "cell_type": "code",
   "execution_count": 4,
   "metadata": {},
   "outputs": [],
   "source": [
    "message = \"Hello World\""
   ]
  },
  {
   "cell_type": "code",
   "execution_count": 5,
   "metadata": {},
   "outputs": [
    {
     "name": "stdout",
     "output_type": "stream",
     "text": [
      ".... . .-.. .-.. --- / .-- --- .-. .-.. -..\n"
     ]
    }
   ],
   "source": [
    "message = \" \".join(translate_dict[c] for c in message.upper())\n",
    "print(message)"
   ]
  },
  {
   "attachments": {},
   "cell_type": "markdown",
   "metadata": {},
   "source": [
    "Play the Morse Code"
   ]
  },
  {
   "cell_type": "code",
   "execution_count": 8,
   "metadata": {},
   "outputs": [],
   "source": [
    "def play_morse_code(message):\n",
    "    for c in message:\n",
    "        if c == \".\":\n",
    "            playsound(\"./beepShort.wav\") # Not supported format (probably .mp3 will work)\n",
    "            time.sleep(0.3)\n",
    "        elif c == \"-\":\n",
    "            playsound(\"./beepLong.wav\")\n",
    "            time.sleep(0.3)\n",
    "        elif c == \"/\" or c == \" \":\n",
    "            time.sleep(0.5)\n",
    "        else :\n",
    "            print(\"Invalid Character Detected! \") # Fail earlier in Keyerror"
   ]
  },
  {
   "cell_type": "code",
   "execution_count": null,
   "metadata": {},
   "outputs": [],
   "source": [
    "import winsound\n",
    "\n",
    "def play_morse_code2(message):\n",
    "    for c in message:\n",
    "        if c == \".\":\n",
    "            frequency = 2500  # Set frequency to 2500 Hertz\n",
    "            duration = 500  # Set duration to 1000 milliseconds (1 second)\n",
    "\n",
    "            winsound.Beep(frequency, duration)\n",
    "            time.sleep(0.1)\n",
    "        elif c == \"-\":\n",
    "            frequency = 2500  # Set frequency to 2500 Hertz\n",
    "            duration = 850  # Set duration to 1000 milliseconds (1 second)\n",
    "\n",
    "            winsound.Beep(frequency, duration)\n",
    "            time.sleep(0.1)\n",
    "        elif c == \"/\" or c == \" \":\n",
    "            time.sleep(0.3)\n",
    "        else :\n",
    "            print(\"Invalid Character Detected! \") # Fail earlier in Keyerror"
   ]
  },
  {
   "cell_type": "code",
   "execution_count": 20,
   "metadata": {},
   "outputs": [
    {
     "name": "stdout",
     "output_type": "stream",
     "text": [
      ".... . .-.. .-.. --- / .-- --- .-. .-.. -..\n"
     ]
    }
   ],
   "source": [
    "print(message)\n",
    "play_morse_code2(message)"
   ]
  },
  {
   "attachments": {},
   "cell_type": "markdown",
   "metadata": {},
   "source": [
    "Translate it back [Decoder]"
   ]
  },
  {
   "cell_type": "code",
   "execution_count": 21,
   "metadata": {},
   "outputs": [
    {
     "name": "stdout",
     "output_type": "stream",
     "text": [
      "HELLO WORLD\n"
     ]
    }
   ],
   "source": [
    "reverse_dict = {v: k  for k, v in translate_dict.items()}\n",
    "original_message = \"\".join(reverse_dict[c] for c in message.split(\" \"))\n",
    "print(original_message)"
   ]
  }
 ],
 "metadata": {
  "kernelspec": {
   "display_name": "Python 3",
   "language": "python",
   "name": "python3"
  },
  "language_info": {
   "codemirror_mode": {
    "name": "ipython",
    "version": 3
   },
   "file_extension": ".py",
   "mimetype": "text/x-python",
   "name": "python",
   "nbconvert_exporter": "python",
   "pygments_lexer": "ipython3",
   "version": "3.10.8"
  },
  "orig_nbformat": 4
 },
 "nbformat": 4,
 "nbformat_minor": 2
}
