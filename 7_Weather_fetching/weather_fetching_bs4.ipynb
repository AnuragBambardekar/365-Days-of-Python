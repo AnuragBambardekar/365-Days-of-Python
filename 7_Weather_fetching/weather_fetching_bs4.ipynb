{
 "cells": [
  {
   "attachments": {},
   "cell_type": "markdown",
   "metadata": {},
   "source": [
    "# Weather Fetching using BeautifulSoup4 [Web scraping]"
   ]
  },
  {
   "cell_type": "code",
   "execution_count": 75,
   "metadata": {},
   "outputs": [],
   "source": [
    "# google also scrapes weather data from weather.com\n",
    "from bs4 import BeautifulSoup as bs\n",
    "import requests"
   ]
  },
  {
   "cell_type": "code",
   "execution_count": 76,
   "metadata": {},
   "outputs": [],
   "source": [
    "USER_AGENT = \"Mozilla/5.0 (Windows NT 10.0; Win64; x64) AppleWebKit/537.36 (KHTML, like Gecko) Chrome/108.0.0.0 Safari/537.36\"\n",
    "LANGUAGE = \"en-US,en;q=0.5\""
   ]
  },
  {
   "cell_type": "code",
   "execution_count": 77,
   "metadata": {},
   "outputs": [],
   "source": [
    "def get_weather_data(url):\n",
    "    session = requests.Session()\n",
    "    session.headers['User-Agent'] = USER_AGENT\n",
    "    session.headers['Accept-Language'] = LANGUAGE\n",
    "    session.headers['Content-Language'] = LANGUAGE\n",
    "    html = session.get(url)\n",
    "\n",
    "    soup = bs(html.text, \"html.parser\")\n",
    "    result = {}\n",
    "\n",
    "    result['region'] = soup.find(\"div\", attrs = {\"id\":\"wob_loc\"}).text\n",
    "    result['dateTime'] = soup.find(\"div\", attrs = {\"id\":\"wob_dts\"}).text\n",
    "    result['description'] = soup.find(\"span\", attrs = {\"id\":\"wob_dc\"}).text\n",
    "    result['current_temp'] = soup.find(\"span\", attrs={\"id\": \"wob_tm\"}).text\n",
    "    result['current_temp_unit'] = soup.find(\"a\", attrs={\"class\": \"wob_t\"}).text\n",
    "    result['current_temp1'] = soup.find(\"span\", attrs={\"id\": \"wob_ttm\"}).text\n",
    "    result['precipitation'] = soup.find(\"span\", attrs={\"id\": \"wob_pp\"}).text\n",
    "    result['humidity'] = soup.find(\"span\", attrs={\"id\": \"wob_hm\"}).text\n",
    "    result['wind'] = soup.find(\"span\", attrs={\"id\": \"wob_ws\"}).text\n",
    "\n",
    "    #Next few Days' forecast\n",
    "    next_days = []\n",
    "    days = soup.find(\"div\", attrs={\"id\": \"wob_dp\"})\n",
    "    \n",
    "    for day in days.findAll(\"div\", attrs={\"class\": \"wob_df\"}):\n",
    "        nameofDay = day.findAll(\"div\")[0].attrs['aria-label']\n",
    "        \n",
    "        weather = day.find(\"img\").attrs[\"alt\"]\n",
    "        temp = day.findAll(\"span\", {\"class\": \"wob_t\"})\n",
    "\n",
    "        max_tempC = temp[1].text # maximum temparature in Celsius\n",
    "        max_tempF = temp[0].text\n",
    "        \n",
    "        min_tempC = temp[3].text # minimum temparature in Celsius\n",
    "        min_tempF = temp[2].text\n",
    "        next_days.append({\"name\": nameofDay, \"weather\": weather, \"max_tempC\": max_tempC, \"min_tempC\": min_tempC, \"max_tempF\": max_tempF, \"min_tempF\": min_tempF })\n",
    "    \n",
    "    result['next_days'] = next_days\n",
    "\n",
    "    return result\n"
   ]
  },
  {
   "cell_type": "code",
   "execution_count": 78,
   "metadata": {},
   "outputs": [],
   "source": [
    "URL = \"https://www.google.com/search?lr=lang_en&ie=UTF-8&q=weather\"\n",
    "region = input(\"Enter region name: \")\n",
    "URL += region\n",
    "data = get_weather_data(URL)"
   ]
  },
  {
   "cell_type": "code",
   "execution_count": 79,
   "metadata": {},
   "outputs": [
    {
     "name": "stdout",
     "output_type": "stream",
     "text": [
      "Region Name:  New York, NY\n",
      "Current Date and Time:  Friday 9:00 PM\n",
      "Description of weather:  Clear\n",
      "Temperature in Fahrenheit:  53°F\n",
      "Temperature in Celcius:  12°C\n",
      "Precipitation:  3%\n",
      "Humidity:  55%\n",
      "Wind:  5 mph\n",
      "\u001b[1mForecast over Next 8 days:\u001b[0m\n",
      "======================================== Friday ========================================\n",
      "Description: Scattered showers\n",
      "Max temperature: 16°C [60°F]\n",
      "Min temperature: 7°C [45°F]\n",
      "======================================== Saturday ========================================\n",
      "Description: Rain\n",
      "Max temperature: 11°C [52°F]\n",
      "Min temperature: 9°C [48°F]\n",
      "======================================== Sunday ========================================\n",
      "Description: Partly cloudy\n",
      "Max temperature: 12°C [53°F]\n",
      "Min temperature: 4°C [39°F]\n",
      "======================================== Monday ========================================\n",
      "Description: Mostly cloudy\n",
      "Max temperature: 11°C [52°F]\n",
      "Min temperature: 6°C [43°F]\n",
      "======================================== Tuesday ========================================\n",
      "Description: Scattered showers\n",
      "Max temperature: 13°C [55°F]\n",
      "Min temperature: 12°C [53°F]\n",
      "======================================== Wednesday ========================================\n",
      "Description: Rain\n",
      "Max temperature: 16°C [61°F]\n",
      "Min temperature: 9°C [48°F]\n",
      "======================================== Thursday ========================================\n",
      "Description: Mostly cloudy\n",
      "Max temperature: 11°C [51°F]\n",
      "Min temperature: 4°C [39°F]\n",
      "======================================== Friday ========================================\n",
      "Description: Mostly cloudy\n",
      "Max temperature: 6°C [43°F]\n",
      "Min temperature: 0°C [32°F]\n"
     ]
    }
   ],
   "source": [
    "print(\"Region Name: \", data[\"region\"])\n",
    "print(\"Current Date and Time: \", data[\"dateTime\"])\n",
    "print(\"Description of weather: \", data[\"description\"])\n",
    "print(\"Temperature in Fahrenheit: \", data[\"current_temp\"] + data[\"current_temp_unit\"])\n",
    "print(\"Temperature in Celcius: \", data[\"current_temp1\"]+\"°C\")\n",
    "print(\"Precipitation: \", data[\"precipitation\"])\n",
    "print(\"Humidity: \", data[\"humidity\"])\n",
    "print(\"Wind: \", data[\"wind\"])\n",
    "#print(data[\"next_days\"])\n",
    "\n",
    "print(\"\\033[1m\"+\"Forecast over Next 8 days:\"+\"\\033[0m\") #Bold Text Unicode \\033[1m and \\033[0m\n",
    "for dayweather in data[\"next_days\"]:\n",
    "    print(\"=\"*40, dayweather[\"name\"], \"=\"*40) #============Friday============= and so on...\n",
    "    print(\"Description:\", dayweather[\"weather\"])\n",
    "    print(f\"Max temperature: {dayweather['max_tempC']}°C [{dayweather['max_tempF']}°F]\")\n",
    "    print(f\"Min temperature: {dayweather['min_tempC']}°C [{dayweather['min_tempF']}°F]\")"
   ]
  }
 ],
 "metadata": {
  "kernelspec": {
   "display_name": "Python 3",
   "language": "python",
   "name": "python3"
  },
  "language_info": {
   "codemirror_mode": {
    "name": "ipython",
    "version": 3
   },
   "file_extension": ".py",
   "mimetype": "text/x-python",
   "name": "python",
   "nbconvert_exporter": "python",
   "pygments_lexer": "ipython3",
   "version": "3.10.7"
  },
  "orig_nbformat": 4,
  "vscode": {
   "interpreter": {
    "hash": "fbfacf25abbc4466cbf6a4ec94f71aa428570133f008ac9f4c86deb26a69bb88"
   }
  }
 },
 "nbformat": 4,
 "nbformat_minor": 2
}
