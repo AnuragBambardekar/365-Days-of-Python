{
 "cells": [
  {
   "attachments": {},
   "cell_type": "markdown",
   "metadata": {},
   "source": [
    "# Backslash \\"
   ]
  },
  {
   "attachments": {},
   "cell_type": "markdown",
   "metadata": {},
   "source": [
    "The backslash \\ is a typographical mark used mainly in computing and mathematics. It is the mirror image of the common slash /. It is a relatively recent mark, first documented in the 1930s. It is sometimes called a hack, whack, escape (from C/UNIX), reverse slash, slosh, downwhack, backslant, backwhack, bash, reverse slant, and reversed virgule.\n",
    "<br>\n",
    "~Wikipedia"
   ]
  },
  {
   "attachments": {},
   "cell_type": "markdown",
   "metadata": {},
   "source": [
    "Get text in '' quotations"
   ]
  },
  {
   "cell_type": "code",
   "execution_count": 2,
   "metadata": {},
   "outputs": [
    {
     "name": "stdout",
     "output_type": "stream",
     "text": [
      "text 'hello'\n"
     ]
    }
   ],
   "source": [
    "text: str = 'text \\'hello\\''\n",
    "print(text)"
   ]
  },
  {
   "cell_type": "code",
   "execution_count": 3,
   "metadata": {},
   "outputs": [
    {
     "name": "stdout",
     "output_type": "stream",
     "text": [
      "text \"hello\"\n"
     ]
    }
   ],
   "source": [
    "text: str = 'text \\\"hello\\\"'\n",
    "print(text)"
   ]
  },
  {
   "attachments": {},
   "cell_type": "markdown",
   "metadata": {},
   "source": [
    "Need to have even amount of \\"
   ]
  },
  {
   "cell_type": "code",
   "execution_count": 5,
   "metadata": {},
   "outputs": [
    {
     "name": "stdout",
     "output_type": "stream",
     "text": [
      "\\\n"
     ]
    }
   ],
   "source": [
    "text: str = '\\\\'\n",
    "print(text)"
   ]
  },
  {
   "cell_type": "code",
   "execution_count": 7,
   "metadata": {},
   "outputs": [
    {
     "name": "stdout",
     "output_type": "stream",
     "text": [
      "text\n",
      "text\n"
     ]
    }
   ],
   "source": [
    "text: str = 'text\\ntext'\n",
    "print(text)"
   ]
  },
  {
   "cell_type": "code",
   "execution_count": 11,
   "metadata": {},
   "outputs": [
    {
     "name": "stdout",
     "output_type": "stream",
     "text": [
      "texttext\n"
     ]
    }
   ],
   "source": [
    "text: str = 'text'\n",
    "print(text, end='')\n",
    "print(text)"
   ]
  },
  {
   "attachments": {},
   "cell_type": "markdown",
   "metadata": {},
   "source": [
    "Tabs"
   ]
  },
  {
   "cell_type": "code",
   "execution_count": 12,
   "metadata": {},
   "outputs": [
    {
     "name": "stdout",
     "output_type": "stream",
     "text": [
      "text\ttext\n"
     ]
    }
   ],
   "source": [
    "text: str = 'text\\ttext'\n",
    "print(text)"
   ]
  },
  {
   "attachments": {},
   "cell_type": "markdown",
   "metadata": {},
   "source": [
    "Carriage Return - move new text all the way to the beginning <br>\n",
    "Replaces word"
   ]
  },
  {
   "cell_type": "code",
   "execution_count": 13,
   "metadata": {},
   "outputs": [
    {
     "name": "stdout",
     "output_type": "stream",
     "text": [
      "new_text\n"
     ]
    }
   ],
   "source": [
    "text: str = 'text\\rnew_text'\n",
    "print(text)"
   ]
  },
  {
   "cell_type": "code",
   "execution_count": 14,
   "metadata": {},
   "outputs": [
    {
     "name": "stdout",
     "output_type": "stream",
     "text": [
      "lext\n"
     ]
    }
   ],
   "source": [
    "text: str = 'text\\rl'\n",
    "print(text)"
   ]
  },
  {
   "attachments": {},
   "cell_type": "markdown",
   "metadata": {},
   "source": [
    "Vertical Tab"
   ]
  },
  {
   "cell_type": "code",
   "execution_count": 15,
   "metadata": {},
   "outputs": [
    {
     "name": "stdout",
     "output_type": "stream",
     "text": [
      "text\u000btext2\u000bhello\n"
     ]
    }
   ],
   "source": [
    "text: str = 'text\\vtext2\\vhello'\n",
    "print(text)"
   ]
  },
  {
   "attachments": {},
   "cell_type": "markdown",
   "metadata": {},
   "source": [
    "Backspace"
   ]
  },
  {
   "cell_type": "code",
   "execution_count": 16,
   "metadata": {},
   "outputs": [
    {
     "name": "stdout",
     "output_type": "stream",
     "text": [
      "textext2\n"
     ]
    }
   ],
   "source": [
    "text: str = 'text\\btext2'\n",
    "print(text)"
   ]
  },
  {
   "attachments": {},
   "cell_type": "markdown",
   "metadata": {},
   "source": [
    "Form Feeding - Used for new pages on printers (not used a lot in modern day programming) <br>\n",
    "\n",
    "Form feed, represented by the ASCII control character \\f, is a character that is used as a page separator in printed documents or computer-generated output.\n",
    "\n",
    "In the context of a printed document, a form feed character indicates the end of a page and the beginning of a new page. When a printer encounters a form feed character, it advances the paper to the top of the next page.\n",
    "\n",
    "In the context of computer-generated output, a form feed character can be used to insert a page break in text files or other types of output. This is particularly useful for generating reports or other types of documents that need to be printed or viewed in a formatted way.\n",
    "\n",
    "However, the use of form feed is relatively uncommon in modern computer systems and document formats. Most modern word processors and text editors use other mechanisms, such as page breaks or style sheets, to separate pages and format documents."
   ]
  },
  {
   "cell_type": "code",
   "execution_count": 17,
   "metadata": {},
   "outputs": [
    {
     "name": "stdout",
     "output_type": "stream",
     "text": [
      "text\ftext2\fhello\n"
     ]
    }
   ],
   "source": [
    "text: str = 'text\\ftext2\\fhello'\n",
    "print(text)"
   ]
  },
  {
   "attachments": {},
   "cell_type": "markdown",
   "metadata": {},
   "source": [
    "Alarm bell - Run it in CMD"
   ]
  },
  {
   "cell_type": "code",
   "execution_count": 19,
   "metadata": {},
   "outputs": [
    {
     "name": "stdout",
     "output_type": "stream",
     "text": [
      "text\u0007\n"
     ]
    }
   ],
   "source": [
    "text: str = 'text\\a'\n",
    "print(text)"
   ]
  },
  {
   "attachments": {},
   "cell_type": "markdown",
   "metadata": {},
   "source": [
    "Hex values"
   ]
  },
  {
   "cell_type": "code",
   "execution_count": 21,
   "metadata": {},
   "outputs": [
    {
     "name": "stdout",
     "output_type": "stream",
     "text": [
      "HELLO WORLD\n"
     ]
    }
   ],
   "source": [
    "text: str = \"\\x48\\x45\\x4C\\x4C\\x4F\\x20\\x57\\x4F\\x52\\x4C\\x44\"\n",
    "print(text)"
   ]
  },
  {
   "attachments": {},
   "cell_type": "markdown",
   "metadata": {},
   "source": [
    "Octal Values"
   ]
  },
  {
   "cell_type": "code",
   "execution_count": 22,
   "metadata": {},
   "outputs": [
    {
     "name": "stdout",
     "output_type": "stream",
     "text": [
      "@\n"
     ]
    }
   ],
   "source": [
    "text: str = \"\\100\"\n",
    "print(text)"
   ]
  },
  {
   "attachments": {},
   "cell_type": "markdown",
   "metadata": {},
   "source": [
    "For continuing lines of code"
   ]
  },
  {
   "cell_type": "code",
   "execution_count": 23,
   "metadata": {},
   "outputs": [
    {
     "name": "stdout",
     "output_type": "stream",
     "text": [
      "texttext2\n"
     ]
    }
   ],
   "source": [
    "text: str = \"text\" + \\\n",
    "    'text2'\n",
    "print(text)"
   ]
  },
  {
   "cell_type": "code",
   "execution_count": 24,
   "metadata": {},
   "outputs": [],
   "source": [
    "if 10 > 10 and \\\n",
    "    3 > 3:\n",
    "    pass"
   ]
  },
  {
   "attachments": {},
   "cell_type": "markdown",
   "metadata": {},
   "source": [
    "## More Examples"
   ]
  },
  {
   "cell_type": "code",
   "execution_count": 25,
   "metadata": {},
   "outputs": [
    {
     "name": "stdout",
     "output_type": "stream",
     "text": [
      "She said, \"Hello!\"\n",
      "This is a long string that spans multiple lines.\n",
      "Σ\n",
      "C:\\Users\\Username\\Documents\n"
     ]
    }
   ],
   "source": [
    "# Escaping special characters\n",
    "print(\"She said, \\\"Hello!\\\"\")  # Output: She said, \"Hello!\"\n",
    "\n",
    "# Creating multiline strings\n",
    "multiline_str = \"This is a long string \\\n",
    "that spans multiple lines.\"\n",
    "print(multiline_str)  # Output: This is a long string that spans multiple lines.\n",
    "\n",
    "# Specifying Unicode characters\n",
    "unicode_str = \"\\u03a3\"  # represents Greek capital letter sigma\n",
    "print(unicode_str)  # Output: Σ\n",
    "\n",
    "# Specifying raw strings\n",
    "raw_str = r\"C:\\Users\\Username\\Documents\"\n",
    "print(raw_str)  # Output: C:\\Users\\Username\\Documents"
   ]
  },
  {
   "attachments": {},
   "cell_type": "markdown",
   "metadata": {},
   "source": [
    "Regular Expressions"
   ]
  },
  {
   "cell_type": "code",
   "execution_count": 27,
   "metadata": {},
   "outputs": [
    {
     "name": "stdout",
     "output_type": "stream",
     "text": [
      "['quick', 'brown', 'jumps']\n"
     ]
    }
   ],
   "source": [
    "# Regular expressions\n",
    "import re\n",
    "\n",
    "text = \"The quick brown fox jumps over the lazy dog.\"\n",
    "pattern = r\"\\b\\w{5}\\b\"  # Matches all 5-letter words\n",
    "# \\b - represents a word boundary, which is a zero-width assertion that matches the position between a word character (as defined by \\w) and a non-word character (as defined by \\W).\n",
    "# \\w - \\w represents a word character, which includes all alphanumeric characters (letters and digits) and underscore (_)\n",
    "\n",
    "matches = re.findall(pattern, text)\n",
    "print(matches)  # Output: ['quick', 'brown', 'jumps']"
   ]
  },
  {
   "attachments": {},
   "cell_type": "markdown",
   "metadata": {},
   "source": [
    "Printing Greek Letters"
   ]
  },
  {
   "cell_type": "code",
   "execution_count": 28,
   "metadata": {},
   "outputs": [
    {
     "name": "stdout",
     "output_type": "stream",
     "text": [
      "Σ\n"
     ]
    }
   ],
   "source": [
    "print('\\N{GREEK CAPITAL LETTER SIGMA}')"
   ]
  },
  {
   "attachments": {},
   "cell_type": "markdown",
   "metadata": {},
   "source": [
    "## Printing all Greek Letters"
   ]
  },
  {
   "cell_type": "code",
   "execution_count": 29,
   "metadata": {},
   "outputs": [
    {
     "name": "stdout",
     "output_type": "stream",
     "text": [
      "Α\n",
      "Β\n",
      "Γ\n",
      "Δ\n",
      "Ε\n",
      "Ζ\n",
      "Η\n",
      "Θ\n",
      "Ι\n",
      "Κ\n",
      "Λ\n",
      "Μ\n",
      "Ν\n",
      "Ξ\n",
      "Ο\n",
      "Π\n",
      "Ρ\n",
      "΢\n",
      "Σ\n",
      "Τ\n",
      "Υ\n",
      "Φ\n",
      "Χ\n",
      "Ψ\n"
     ]
    }
   ],
   "source": [
    "for i in range(913, 937):\n",
    "    print(chr(i))"
   ]
  },
  {
   "cell_type": "code",
   "execution_count": null,
   "metadata": {},
   "outputs": [],
   "source": []
  }
 ],
 "metadata": {
  "kernelspec": {
   "display_name": "Python 3",
   "language": "python",
   "name": "python3"
  },
  "language_info": {
   "codemirror_mode": {
    "name": "ipython",
    "version": 3
   },
   "file_extension": ".py",
   "mimetype": "text/x-python",
   "name": "python",
   "nbconvert_exporter": "python",
   "pygments_lexer": "ipython3",
   "version": "3.10.8"
  },
  "orig_nbformat": 4
 },
 "nbformat": 4,
 "nbformat_minor": 2
}
