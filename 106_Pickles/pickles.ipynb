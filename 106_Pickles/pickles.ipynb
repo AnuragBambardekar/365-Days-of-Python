{
 "cells": [
  {
   "attachments": {},
   "cell_type": "markdown",
   "metadata": {},
   "source": [
    "# Pickles"
   ]
  },
  {
   "attachments": {},
   "cell_type": "markdown",
   "metadata": {},
   "source": [
    "A pickle is a module used for serializing and de-serializing objects. Serialization refers to the process of converting an object to a byte stream, and de-serialization refers to the process of reconstructing the object from a byte stream. Pickling allows you to save a Python object to a file or database and then load it back into memory as needed."
   ]
  },
  {
   "cell_type": "code",
   "execution_count": 2,
   "metadata": {},
   "outputs": [],
   "source": [
    "import pickle\n",
    "import json"
   ]
  },
  {
   "cell_type": "code",
   "execution_count": 3,
   "metadata": {},
   "outputs": [
    {
     "name": "stdout",
     "output_type": "stream",
     "text": [
      "Banana: 100\n"
     ]
    }
   ],
   "source": [
    "class Fruit:\n",
    "    def __init__(self, name: str, calories: float):\n",
    "        self.name = name\n",
    "        self.calories = calories\n",
    "    \n",
    "    def describe_fruit(self):\n",
    "        print(self.name, self.calories, sep=': ')\n",
    "\n",
    "if __name__ == \"__main__\":\n",
    "    fruit: Fruit = Fruit('Banana', 100)\n",
    "    fruit.describe_fruit()\n",
    "\n",
    "    fruit.calories = 150\n",
    "\n",
    "    with open('banana.json', 'w') as file:\n",
    "        # add data to json file\n",
    "        data = {'name': fruit.name, 'calories':fruit.calories}\n",
    "        json.dump(data, file)"
   ]
  },
  {
   "attachments": {},
   "cell_type": "markdown",
   "metadata": {},
   "source": [
    "Retrieving json contents"
   ]
  },
  {
   "cell_type": "code",
   "execution_count": 4,
   "metadata": {},
   "outputs": [
    {
     "name": "stdout",
     "output_type": "stream",
     "text": [
      "{'name': 'Banana', 'calories': 150}\n"
     ]
    }
   ],
   "source": [
    "with open('banana.json', 'r') as file:\n",
    "    # rad data from json file\n",
    "    data = json.load(file)\n",
    "    print(data)"
   ]
  },
  {
   "attachments": {},
   "cell_type": "markdown",
   "metadata": {},
   "source": [
    "We just went through a lot of steps for this: <br>\n",
    "- Creating json\n",
    "- Reading json\n",
    "- Then, we also need to put it in the Fruit object"
   ]
  },
  {
   "attachments": {},
   "cell_type": "markdown",
   "metadata": {},
   "source": [
    "We can instead put the fruit in a file and load it when needed."
   ]
  },
  {
   "cell_type": "code",
   "execution_count": 6,
   "metadata": {},
   "outputs": [],
   "source": [
    "with open('data.pickle', 'wb') as file:\n",
    "    pickle.dump(fruit, file) # fruit object is going to be serialized\n",
    "    # serialize means converting object to bytes"
   ]
  },
  {
   "cell_type": "code",
   "execution_count": 10,
   "metadata": {},
   "outputs": [
    {
     "name": "stdout",
     "output_type": "stream",
     "text": [
      "Banana: 150\n"
     ]
    }
   ],
   "source": [
    "class Fruit:\n",
    "    def __init__(self, name: str, calories: float):\n",
    "        self.name = name\n",
    "        self.calories = calories\n",
    "    \n",
    "    def describe_fruit(self):\n",
    "        print(self.name, self.calories, sep=': ')\n",
    "\n",
    "if __name__ == \"__main__\":\n",
    "    with open('data.pickle', 'rb') as file:\n",
    "        # pickle.dump(fruit, file)\n",
    "        fruit: Fruit = pickle.load(file)\n",
    "\n",
    "    fruit.describe_fruit()"
   ]
  },
  {
   "cell_type": "code",
   "execution_count": 11,
   "metadata": {},
   "outputs": [
    {
     "name": "stdout",
     "output_type": "stream",
     "text": [
      "Banana: 200\n"
     ]
    }
   ],
   "source": [
    "fruit.calories = 200\n",
    "fruit.describe_fruit()"
   ]
  },
  {
   "attachments": {},
   "cell_type": "markdown",
   "metadata": {},
   "source": [
    "Important to load pickle data that you absolutely trust."
   ]
  },
  {
   "cell_type": "code",
   "execution_count": 12,
   "metadata": {},
   "outputs": [],
   "source": [
    "with open('data.pickle', 'wb') as file:\n",
    "    pickle.dump(fruit, file)"
   ]
  },
  {
   "cell_type": "code",
   "execution_count": 14,
   "metadata": {},
   "outputs": [
    {
     "name": "stdout",
     "output_type": "stream",
     "text": [
      "Banana: 350\n"
     ]
    }
   ],
   "source": [
    "fruit.calories += 150\n",
    "fruit.describe_fruit()"
   ]
  },
  {
   "cell_type": "code",
   "execution_count": null,
   "metadata": {},
   "outputs": [],
   "source": []
  }
 ],
 "metadata": {
  "kernelspec": {
   "display_name": "Python 3",
   "language": "python",
   "name": "python3"
  },
  "language_info": {
   "codemirror_mode": {
    "name": "ipython",
    "version": 3
   },
   "file_extension": ".py",
   "mimetype": "text/x-python",
   "name": "python",
   "nbconvert_exporter": "python",
   "pygments_lexer": "ipython3",
   "version": "3.10.8"
  },
  "orig_nbformat": 4
 },
 "nbformat": 4,
 "nbformat_minor": 2
}
