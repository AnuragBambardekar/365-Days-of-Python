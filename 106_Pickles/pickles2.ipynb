{
 "cells": [
  {
   "cell_type": "code",
   "execution_count": 1,
   "metadata": {},
   "outputs": [
    {
     "name": "stdout",
     "output_type": "stream",
     "text": [
      "{'name': 'John', 'age': 35, 'gender': 'male'}\n"
     ]
    }
   ],
   "source": [
    "import pickle\n",
    "\n",
    "# define a dictionary object\n",
    "person = {'name': 'John', 'age': 35, 'gender': 'male'}\n",
    "\n",
    "# serialize the object and save it to a file\n",
    "with open('person.pickle', 'wb') as f:\n",
    "    pickle.dump(person, f)\n",
    "\n",
    "# de-serialize the object from the file\n",
    "with open('person.pickle', 'rb') as f:\n",
    "    loaded_person = pickle.load(f)\n",
    "\n",
    "# print the loaded object\n",
    "print(loaded_person)\n"
   ]
  },
  {
   "attachments": {},
   "cell_type": "markdown",
   "metadata": {},
   "source": [
    "Use cases of pickling include:\n",
    "\n",
    "Caching: Pickling is useful for caching expensive computations. You can save the results of a computation to a file or database and then load it back into memory as needed, rather than re-computing it every time.\n",
    "\n",
    "Messaging: Pickling is also useful for sending messages between processes or machines. You can serialize an object, send it over a network, and then de-serialize it on the receiving end.\n",
    "\n",
    "Object Persistence: Pickling is commonly used for saving and loading machine learning models in scikit-learn, TensorFlow, and PyTorch, so that they can be reused later.\n",
    "\n",
    "Configuration files: Pickling can be used to store configuration data for your application, allowing you to save and load the data easily."
   ]
  },
  {
   "attachments": {},
   "cell_type": "markdown",
   "metadata": {},
   "source": [
    "# Fibonacci"
   ]
  },
  {
   "cell_type": "code",
   "execution_count": 2,
   "metadata": {},
   "outputs": [
    {
     "name": "stdout",
     "output_type": "stream",
     "text": [
      "9227465\n",
      "Time taken: 1.4633269309997559\n"
     ]
    }
   ],
   "source": [
    "import time\n",
    "\n",
    "def fib(n):\n",
    "    if n < 2:\n",
    "        return n\n",
    "    return fib(n-1) + fib(n-2)\n",
    "\n",
    "start_time = time.time()\n",
    "print(fib(35))\n",
    "print(\"Time taken:\", time.time() - start_time)\n"
   ]
  },
  {
   "attachments": {},
   "cell_type": "markdown",
   "metadata": {},
   "source": [
    "With Caching using pickling"
   ]
  },
  {
   "cell_type": "code",
   "execution_count": 3,
   "metadata": {},
   "outputs": [
    {
     "name": "stdout",
     "output_type": "stream",
     "text": [
      "Cached fib_2.pickle\n",
      "Cached fib_3.pickle\n",
      "Loaded fib_2.pickle from cache\n",
      "Cached fib_4.pickle\n",
      "Loaded fib_3.pickle from cache\n",
      "Cached fib_5.pickle\n",
      "Loaded fib_4.pickle from cache\n",
      "Cached fib_6.pickle\n",
      "Loaded fib_5.pickle from cache\n",
      "Cached fib_7.pickle\n",
      "Loaded fib_6.pickle from cache\n",
      "Cached fib_8.pickle\n",
      "Loaded fib_7.pickle from cache\n",
      "Cached fib_9.pickle\n",
      "Loaded fib_8.pickle from cache\n",
      "Cached fib_10.pickle\n",
      "Loaded fib_9.pickle from cache\n",
      "Cached fib_11.pickle\n",
      "Loaded fib_10.pickle from cache\n",
      "Cached fib_12.pickle\n",
      "Loaded fib_11.pickle from cache\n",
      "Cached fib_13.pickle\n",
      "Loaded fib_12.pickle from cache\n",
      "Cached fib_14.pickle\n",
      "Loaded fib_13.pickle from cache\n",
      "Cached fib_15.pickle\n",
      "Loaded fib_14.pickle from cache\n",
      "Cached fib_16.pickle\n",
      "Loaded fib_15.pickle from cache\n",
      "Cached fib_17.pickle\n",
      "Loaded fib_16.pickle from cache\n",
      "Cached fib_18.pickle\n",
      "Loaded fib_17.pickle from cache\n",
      "Cached fib_19.pickle\n",
      "Loaded fib_18.pickle from cache\n",
      "Cached fib_20.pickle\n",
      "Loaded fib_19.pickle from cache\n",
      "Cached fib_21.pickle\n",
      "Loaded fib_20.pickle from cache\n",
      "Cached fib_22.pickle\n",
      "Loaded fib_21.pickle from cache\n",
      "Cached fib_23.pickle\n",
      "Loaded fib_22.pickle from cache\n",
      "Cached fib_24.pickle\n",
      "Loaded fib_23.pickle from cache\n",
      "Cached fib_25.pickle\n",
      "Loaded fib_24.pickle from cache\n",
      "Cached fib_26.pickle\n",
      "Loaded fib_25.pickle from cache\n",
      "Cached fib_27.pickle\n",
      "Loaded fib_26.pickle from cache\n",
      "Cached fib_28.pickle\n",
      "Loaded fib_27.pickle from cache\n",
      "Cached fib_29.pickle\n",
      "Loaded fib_28.pickle from cache\n",
      "Cached fib_30.pickle\n",
      "Loaded fib_29.pickle from cache\n",
      "Cached fib_31.pickle\n",
      "Loaded fib_30.pickle from cache\n",
      "Cached fib_32.pickle\n",
      "Loaded fib_31.pickle from cache\n",
      "Cached fib_33.pickle\n",
      "Loaded fib_32.pickle from cache\n",
      "Cached fib_34.pickle\n",
      "Loaded fib_33.pickle from cache\n",
      "Cached fib_35.pickle\n",
      "9227465\n",
      "Time taken: 0.16018033027648926\n",
      "Loaded fib_30.pickle from cache\n",
      "832040\n",
      "Time taken: 0.0\n"
     ]
    }
   ],
   "source": [
    "import pickle\n",
    "import time\n",
    "\n",
    "def fib(n):\n",
    "    if n < 2:\n",
    "        return n\n",
    "    filename = f'fib_{n}.pickle'\n",
    "    try:\n",
    "        with open(filename, 'rb') as f:\n",
    "            result = pickle.load(f)\n",
    "        print(f\"Loaded {filename} from cache\")\n",
    "    except FileNotFoundError:\n",
    "        result = fib(n-1) + fib(n-2)\n",
    "        with open(filename, 'wb') as f:\n",
    "            pickle.dump(result, f)\n",
    "        print(f\"Cached {filename}\")\n",
    "    return result\n",
    "\n",
    "start_time = time.time()\n",
    "print(fib(35))\n",
    "print(\"Time taken:\", time.time() - start_time)\n",
    "\n",
    "start_time = time.time()\n",
    "print(fib(30))\n",
    "print(\"Time taken:\", time.time() - start_time)\n"
   ]
  },
  {
   "cell_type": "code",
   "execution_count": null,
   "metadata": {},
   "outputs": [],
   "source": []
  }
 ],
 "metadata": {
  "kernelspec": {
   "display_name": "Python 3",
   "language": "python",
   "name": "python3"
  },
  "language_info": {
   "codemirror_mode": {
    "name": "ipython",
    "version": 3
   },
   "file_extension": ".py",
   "mimetype": "text/x-python",
   "name": "python",
   "nbconvert_exporter": "python",
   "pygments_lexer": "ipython3",
   "version": "3.10.8"
  },
  "orig_nbformat": 4
 },
 "nbformat": 4,
 "nbformat_minor": 2
}
