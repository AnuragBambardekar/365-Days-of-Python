{
 "cells": [
  {
   "attachments": {},
   "cell_type": "markdown",
   "metadata": {},
   "source": [
    "# Bisect Algorithm"
   ]
  },
  {
   "attachments": {},
   "cell_type": "markdown",
   "metadata": {},
   "source": [
    "Purpose is to find a position in list where an element needs to be inserted to keep the list sorted."
   ]
  },
  {
   "cell_type": "code",
   "execution_count": 1,
   "metadata": {},
   "outputs": [],
   "source": [
    "import bisect"
   ]
  },
  {
   "attachments": {},
   "cell_type": "markdown",
   "metadata": {},
   "source": [
    "bisect_left(a, x, lo=0, hi=len(a)): This function returns the index where the item x should be inserted in list a to maintain sorted order. If x is already present, it returns the index where the leftmost occurrence of x is found. The lo and hi parameters are optional and specify the range of the list to consider.\n",
    "\n",
    "bisect_right(a, x, lo=0, hi=len(a)): This function returns the index where the item x should be inserted in list a to maintain sorted order. If x is already present, it returns the index immediately following the rightmost occurrence of x. The lo and hi parameters are optional and specify the range of the list to consider."
   ]
  },
  {
   "attachments": {},
   "cell_type": "markdown",
   "metadata": {},
   "source": [
    "insort_left and insort_right are used to insert elements into the list while maintaining sorted order. \n",
    "\n",
    "bisect_left and bisect_right are used to find the insertion points for elements in the list."
   ]
  },
  {
   "attachments": {},
   "cell_type": "markdown",
   "metadata": {},
   "source": [
    "<font color='red'>bisect module assumes the list is already sorted, so make sure to sort the list before using these functions if it's not already sorted. </font>"
   ]
  },
  {
   "cell_type": "code",
   "execution_count": 5,
   "metadata": {},
   "outputs": [
    {
     "name": "stdout",
     "output_type": "stream",
     "text": [
      "[1, 3, 4, 5, 7, 9]\n",
      "4\n",
      "[1, 3, 4, 5, 7, 7, 9]\n",
      "6\n"
     ]
    }
   ],
   "source": [
    "my_list = [1, 3, 5, 7, 9]\n",
    "\n",
    "# Inserting an element while maintaining sorted order\n",
    "bisect.insort_left(my_list, 4)\n",
    "print(my_list)  # Output: [1, 3, 4, 5, 7, 9]\n",
    "\n",
    "# Finding the insertion point for an element\n",
    "index = bisect.bisect_left(my_list, 6)\n",
    "print(index)  # Output: 4\n",
    "\n",
    "# Inserting an element after the rightmost occurrence\n",
    "bisect.insort_right(my_list, 7)\n",
    "print(my_list)  # Output: [1, 3, 4, 5, 7, 7, 9]\n",
    "\n",
    "# Finding the insertion point for an element\n",
    "index = bisect.bisect_right(my_list, 7)\n",
    "print(index)  # Output: 6"
   ]
  },
  {
   "attachments": {},
   "cell_type": "markdown",
   "metadata": {},
   "source": [
    "Time Complexity: O(log(n)), Bisect method works on the concept of binary search\n",
    "\n",
    "Auxiliary Space:  O(1)"
   ]
  },
  {
   "attachments": {},
   "cell_type": "markdown",
   "metadata": {},
   "source": [
    "## Binary Search"
   ]
  },
  {
   "attachments": {},
   "cell_type": "markdown",
   "metadata": {},
   "source": [
    "### First Occurence"
   ]
  },
  {
   "cell_type": "code",
   "execution_count": 7,
   "metadata": {},
   "outputs": [
    {
     "name": "stdout",
     "output_type": "stream",
     "text": [
      "First occurrence of 4 is present at 2\n"
     ]
    }
   ],
   "source": [
    "from bisect import bisect_left\n",
    " \n",
    "def BinarySearch(a, x):\n",
    "    i = bisect_left(a, x)\n",
    "    if i != len(a) and a[i] == x:\n",
    "        return i\n",
    "    else:\n",
    "        return -1\n",
    " \n",
    "a  = [1, 2, 4, 4, 8]\n",
    "x = int(4)\n",
    "res = BinarySearch(a, x)\n",
    "if res == -1:\n",
    "    print(x, \"is absent\")\n",
    "else:\n",
    "    print(\"First occurrence of\", x, \"is present at\", res)"
   ]
  },
  {
   "attachments": {},
   "cell_type": "markdown",
   "metadata": {},
   "source": [
    "### Last Occurence"
   ]
  },
  {
   "cell_type": "code",
   "execution_count": 6,
   "metadata": {},
   "outputs": [
    {
     "name": "stdout",
     "output_type": "stream",
     "text": [
      "Last occurrence of 4 is present at 3\n"
     ]
    }
   ],
   "source": [
    "from bisect import bisect_right\n",
    " \n",
    "def BinarySearch(a, x):\n",
    "    i = bisect_right(a, x)\n",
    "    if i != 0 and a[i-1] == x:\n",
    "        return (i-1)\n",
    "    else:\n",
    "        return -1\n",
    " \n",
    "a  = [1, 2, 4, 4]\n",
    "x = int(4)\n",
    "res = BinarySearch(a, x)\n",
    "if res == -1:\n",
    "    print(x, \"is absent\")\n",
    "else:\n",
    "    print(\"Last occurrence of\", x, \"is present at\", res)"
   ]
  }
 ],
 "metadata": {
  "kernelspec": {
   "display_name": "Python 3",
   "language": "python",
   "name": "python3"
  },
  "language_info": {
   "codemirror_mode": {
    "name": "ipython",
    "version": 3
   },
   "file_extension": ".py",
   "mimetype": "text/x-python",
   "name": "python",
   "nbconvert_exporter": "python",
   "pygments_lexer": "ipython3",
   "version": "3.10.8"
  },
  "orig_nbformat": 4
 },
 "nbformat": 4,
 "nbformat_minor": 2
}
