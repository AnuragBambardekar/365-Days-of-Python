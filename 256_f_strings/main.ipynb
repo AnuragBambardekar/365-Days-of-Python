{
 "cells": [
  {
   "cell_type": "markdown",
   "metadata": {},
   "source": [
    "# String Formatting"
   ]
  },
  {
   "cell_type": "code",
   "execution_count": 1,
   "metadata": {},
   "outputs": [
    {
     "name": "stdout",
     "output_type": "stream",
     "text": [
      "Hello Bamba\n"
     ]
    }
   ],
   "source": [
    "name = \"Bamba\"\n",
    "print(f\"Hello {name}\")"
   ]
  },
  {
   "cell_type": "code",
   "execution_count": 2,
   "metadata": {},
   "outputs": [
    {
     "name": "stdout",
     "output_type": "stream",
     "text": [
      "30\n"
     ]
    }
   ],
   "source": [
    "print(f\"{10+20}\")"
   ]
  },
  {
   "cell_type": "code",
   "execution_count": 3,
   "metadata": {},
   "outputs": [
    {
     "name": "stdout",
     "output_type": "stream",
     "text": [
      "Hello Hello\n"
     ]
    }
   ],
   "source": [
    "def hello():\n",
    "    return 'Hello'\n",
    "print(f\"Hello {hello()}\")"
   ]
  },
  {
   "cell_type": "code",
   "execution_count": 4,
   "metadata": {},
   "outputs": [
    {
     "name": "stdout",
     "output_type": "stream",
     "text": [
      "Here is a calculation: 20+40 = 60\n"
     ]
    }
   ],
   "source": [
    "print('Here is a calculation: 20+40 = '+str(20+40))"
   ]
  },
  {
   "cell_type": "code",
   "execution_count": 5,
   "metadata": {},
   "outputs": [
    {
     "name": "stdout",
     "output_type": "stream",
     "text": [
      "Here is a calculation: 20+40 = 60\n"
     ]
    }
   ],
   "source": [
    "print(f'Here is a calculation: 20+40 = {20+40}')"
   ]
  },
  {
   "cell_type": "code",
   "execution_count": 7,
   "metadata": {},
   "outputs": [
    {
     "name": "stdout",
     "output_type": "stream",
     "text": [
      "Here is a calculation: 20+40 = 60\n"
     ]
    }
   ],
   "source": [
    "print(f'Here is a calculation: {20+40 = }')"
   ]
  },
  {
   "cell_type": "code",
   "execution_count": 8,
   "metadata": {},
   "outputs": [
    {
     "name": "stdout",
     "output_type": "stream",
     "text": [
      "Here is some data: value=10\n"
     ]
    }
   ],
   "source": [
    "value = 10\n",
    "print(f\"Here is some data: {value=}\")"
   ]
  },
  {
   "cell_type": "code",
   "execution_count": 9,
   "metadata": {},
   "outputs": [
    {
     "name": "stdout",
     "output_type": "stream",
     "text": [
      "Function call: mysquare(10)=100\n"
     ]
    }
   ],
   "source": [
    "def mysquare(n):\n",
    "    return n**2\n",
    "\n",
    "print(f\"Function call: {mysquare(10)=}\")"
   ]
  },
  {
   "cell_type": "code",
   "execution_count": 10,
   "metadata": {},
   "outputs": [
    {
     "name": "stdout",
     "output_type": "stream",
     "text": [
      "[DEBUG] i = 0, mysquare(i) = 0\n",
      "[DEBUG] i = 1, mysquare(i) = 1\n",
      "[DEBUG] i = 2, mysquare(i) = 4\n",
      "[DEBUG] i = 3, mysquare(i) = 9\n",
      "[DEBUG] i = 4, mysquare(i) = 16\n",
      "[DEBUG] i = 5, mysquare(i) = 25\n",
      "[DEBUG] i = 6, mysquare(i) = 36\n",
      "[DEBUG] i = 7, mysquare(i) = 49\n",
      "[DEBUG] i = 8, mysquare(i) = 64\n",
      "[DEBUG] i = 9, mysquare(i) = 81\n"
     ]
    }
   ],
   "source": [
    "for i in range(10):\n",
    "    value = i*mysquare(i)\n",
    "    print(f\"[DEBUG] {i = }, {mysquare(i) = }\")"
   ]
  },
  {
   "cell_type": "code",
   "execution_count": null,
   "metadata": {},
   "outputs": [],
   "source": []
  }
 ],
 "metadata": {
  "kernelspec": {
   "display_name": "Python 3",
   "language": "python",
   "name": "python3"
  },
  "language_info": {
   "codemirror_mode": {
    "name": "ipython",
    "version": 3
   },
   "file_extension": ".py",
   "mimetype": "text/x-python",
   "name": "python",
   "nbconvert_exporter": "python",
   "pygments_lexer": "ipython3",
   "version": "3.10.8"
  },
  "orig_nbformat": 4
 },
 "nbformat": 4,
 "nbformat_minor": 2
}
