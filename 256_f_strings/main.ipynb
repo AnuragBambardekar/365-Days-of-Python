{
 "cells": [
  {
   "cell_type": "markdown",
   "metadata": {},
   "source": [
    "# String Formatting"
   ]
  },
  {
   "cell_type": "code",
   "execution_count": 1,
   "metadata": {},
   "outputs": [
    {
     "name": "stdout",
     "output_type": "stream",
     "text": [
      "Hello Bamba\n"
     ]
    }
   ],
   "source": [
    "name = \"Bamba\"\n",
    "print(f\"Hello {name}\")"
   ]
  },
  {
   "cell_type": "code",
   "execution_count": 2,
   "metadata": {},
   "outputs": [
    {
     "name": "stdout",
     "output_type": "stream",
     "text": [
      "30\n"
     ]
    }
   ],
   "source": [
    "print(f\"{10+20}\")"
   ]
  },
  {
   "cell_type": "code",
   "execution_count": 3,
   "metadata": {},
   "outputs": [
    {
     "name": "stdout",
     "output_type": "stream",
     "text": [
      "Hello Hello\n"
     ]
    }
   ],
   "source": [
    "def hello():\n",
    "    return 'Hello'\n",
    "print(f\"Hello {hello()}\")"
   ]
  },
  {
   "cell_type": "code",
   "execution_count": 4,
   "metadata": {},
   "outputs": [
    {
     "name": "stdout",
     "output_type": "stream",
     "text": [
      "Here is a calculation: 20+40 = 60\n"
     ]
    }
   ],
   "source": [
    "print('Here is a calculation: 20+40 = '+str(20+40))"
   ]
  },
  {
   "cell_type": "code",
   "execution_count": 5,
   "metadata": {},
   "outputs": [
    {
     "name": "stdout",
     "output_type": "stream",
     "text": [
      "Here is a calculation: 20+40 = 60\n"
     ]
    }
   ],
   "source": [
    "print(f'Here is a calculation: 20+40 = {20+40}')"
   ]
  },
  {
   "cell_type": "code",
   "execution_count": 7,
   "metadata": {},
   "outputs": [
    {
     "name": "stdout",
     "output_type": "stream",
     "text": [
      "Here is a calculation: 20+40 = 60\n"
     ]
    }
   ],
   "source": [
    "print(f'Here is a calculation: {20+40 = }')"
   ]
  },
  {
   "cell_type": "code",
   "execution_count": 8,
   "metadata": {},
   "outputs": [
    {
     "name": "stdout",
     "output_type": "stream",
     "text": [
      "Here is some data: value=10\n"
     ]
    }
   ],
   "source": [
    "value = 10\n",
    "print(f\"Here is some data: {value=}\")"
   ]
  },
  {
   "cell_type": "code",
   "execution_count": 9,
   "metadata": {},
   "outputs": [
    {
     "name": "stdout",
     "output_type": "stream",
     "text": [
      "Function call: mysquare(10)=100\n"
     ]
    }
   ],
   "source": [
    "def mysquare(n):\n",
    "    return n**2\n",
    "\n",
    "print(f\"Function call: {mysquare(10)=}\")"
   ]
  },
  {
   "cell_type": "code",
   "execution_count": 10,
   "metadata": {},
   "outputs": [
    {
     "name": "stdout",
     "output_type": "stream",
     "text": [
      "[DEBUG] i = 0, mysquare(i) = 0\n",
      "[DEBUG] i = 1, mysquare(i) = 1\n",
      "[DEBUG] i = 2, mysquare(i) = 4\n",
      "[DEBUG] i = 3, mysquare(i) = 9\n",
      "[DEBUG] i = 4, mysquare(i) = 16\n",
      "[DEBUG] i = 5, mysquare(i) = 25\n",
      "[DEBUG] i = 6, mysquare(i) = 36\n",
      "[DEBUG] i = 7, mysquare(i) = 49\n",
      "[DEBUG] i = 8, mysquare(i) = 64\n",
      "[DEBUG] i = 9, mysquare(i) = 81\n"
     ]
    }
   ],
   "source": [
    "for i in range(10):\n",
    "    value = i*mysquare(i)\n",
    "    print(f\"[DEBUG] {i = }, {mysquare(i) = }\")"
   ]
  },
  {
   "cell_type": "code",
   "execution_count": 14,
   "metadata": {},
   "outputs": [
    {
     "name": "stdout",
     "output_type": "stream",
     "text": [
      "BAMBA               \n",
      "               BAMBA\n",
      "       BAMBA        \n"
     ]
    }
   ],
   "source": [
    "number: float = 10000.123456\n",
    "text: str = 'BAMBA'\n",
    "\n",
    "print(f\"{text:<20}\")\n",
    "print(f\"{text:>20}\")\n",
    "print(f\"{text:^20}\")"
   ]
  },
  {
   "cell_type": "code",
   "execution_count": 15,
   "metadata": {},
   "outputs": [
    {
     "name": "stdout",
     "output_type": "stream",
     "text": [
      "BAMBA_______________\n",
      "_______________BAMBA\n",
      "_______BAMBA________\n"
     ]
    }
   ],
   "source": [
    "print(f\"{text:_<20}\")\n",
    "print(f\"{text:_>20}\")\n",
    "print(f\"{text:_^20}\")"
   ]
  },
  {
   "cell_type": "code",
   "execution_count": 19,
   "metadata": {},
   "outputs": [
    {
     "name": "stdout",
     "output_type": "stream",
     "text": [
      "10000.12\n",
      "1000012.35%\n",
      "10,000.123456\n"
     ]
    }
   ],
   "source": [
    "print(f\"{number:.2f}\")\n",
    "print(f\"{number:.2%}\")\n",
    "print(f\"{number:,}\")"
   ]
  },
  {
   "cell_type": "code",
   "execution_count": 21,
   "metadata": {},
   "outputs": [
    {
     "name": "stdout",
     "output_type": "stream",
     "text": [
      "1e+06\n",
      "1.000000e+06\n"
     ]
    }
   ],
   "source": [
    "number: float = 1_000_000\n",
    "print(f\"{number:.0e}\")\n",
    "print(f\"{number:e}\")"
   ]
  },
  {
   "cell_type": "code",
   "execution_count": 23,
   "metadata": {},
   "outputs": [
    {
     "name": "stdout",
     "output_type": "stream",
     "text": [
      "11-09-2023 11:05:09\n"
     ]
    }
   ],
   "source": [
    "import datetime\n",
    "\n",
    "current_date = datetime.datetime.now()\n",
    "print(f\"{current_date:%d-%m-%Y %H:%M:%S}\")"
   ]
  },
  {
   "cell_type": "code",
   "execution_count": 26,
   "metadata": {},
   "outputs": [
    {
     "name": "stdout",
     "output_type": "stream",
     "text": [
      "100       \n",
      "       100\n"
     ]
    }
   ],
   "source": [
    "number = 100\n",
    "number2 = 10\n",
    "\n",
    "print(f\"{number:<{number2}}\")\n",
    "print(f\"{number:{number2}}\")"
   ]
  }
 ],
 "metadata": {
  "kernelspec": {
   "display_name": "Python 3",
   "language": "python",
   "name": "python3"
  },
  "language_info": {
   "codemirror_mode": {
    "name": "ipython",
    "version": 3
   },
   "file_extension": ".py",
   "mimetype": "text/x-python",
   "name": "python",
   "nbconvert_exporter": "python",
   "pygments_lexer": "ipython3",
   "version": "3.10.8"
  },
  "orig_nbformat": 4
 },
 "nbformat": 4,
 "nbformat_minor": 2
}
