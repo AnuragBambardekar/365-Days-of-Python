{
 "cells": [
  {
   "attachments": {},
   "cell_type": "markdown",
   "metadata": {},
   "source": [
    "# Using threading to fetch images"
   ]
  },
  {
   "cell_type": "code",
   "execution_count": 1,
   "metadata": {},
   "outputs": [
    {
     "name": "stdout",
     "output_type": "stream",
     "text": [
      "photo-1517935706615-2717063c2225.jpg was downloaded...\n",
      "photo-1583211237509-9d5d3bfcd07b.jpg was downloaded...\n",
      "photo-1582585861644-d275d5c108e0.jpg was downloaded...\n",
      "photo-1557978557-2068ea6a817e.jpg was downloaded...\n",
      "photo-1557978557-57231f2dbc36.jpg was downloaded...\n",
      "photo-1518378892156-2c6bb23677df.jpg was downloaded...\n",
      "photo-1508693926297-1d61ee3df82a.jpg was downloaded...\n",
      "photo-1588733103629-b77afe0425ce.jpg was downloaded...\n",
      "photo-1551009175-15bdf9dcb580.jpg was downloaded...\n",
      "photo-1490623970972-ae8bb3da443e.jpg was downloaded...\n",
      "Finished in 13.606813299993519 seconds.\n"
     ]
    }
   ],
   "source": [
    "import requests\n",
    "import time\n",
    "\n",
    "img_urls = [\n",
    "    'https://images.unsplash.com/photo-1517935706615-2717063c2225',\n",
    "    'https://images.unsplash.com/photo-1583211237509-9d5d3bfcd07b',\n",
    "    'https://images.unsplash.com/photo-1582585861644-d275d5c108e0',\n",
    "    'https://images.unsplash.com/photo-1557978557-2068ea6a817e',\n",
    "    'https://images.unsplash.com/photo-1557978557-57231f2dbc36',\n",
    "    'https://images.unsplash.com/photo-1518378892156-2c6bb23677df',\n",
    "    'https://images.unsplash.com/photo-1508693926297-1d61ee3df82a',\n",
    "    'https://images.unsplash.com/photo-1588733103629-b77afe0425ce',\n",
    "    'https://images.unsplash.com/photo-1551009175-15bdf9dcb580',\n",
    "    'https://images.unsplash.com/photo-1490623970972-ae8bb3da443e',\n",
    "]\n",
    "\n",
    "t1 = time.perf_counter()\n",
    "\n",
    "for img_url in img_urls:\n",
    "    img_bytes = requests.get(img_url).content\n",
    "    img_name = img_url.split('/')[3]\n",
    "    img_name = f\"{img_name}.jpg\"\n",
    "\n",
    "    with open(img_name, 'wb') as img_file:\n",
    "        img_file.write(img_bytes)\n",
    "        print(f\"{img_name} was downloaded...\")\n",
    "\n",
    "t2 = time.perf_counter()\n",
    "\n",
    "print(f\"Finished in {t2-t1} seconds.\")"
   ]
  },
  {
   "attachments": {},
   "cell_type": "markdown",
   "metadata": {},
   "source": [
    "## Now Use Threads to achieve speedup"
   ]
  },
  {
   "cell_type": "code",
   "execution_count": 2,
   "metadata": {},
   "outputs": [
    {
     "name": "stdout",
     "output_type": "stream",
     "text": [
      "photo-1583211237509-9d5d3bfcd07b.jpg was downloaded...\n",
      "photo-1518378892156-2c6bb23677df.jpg was downloaded...\n",
      "photo-1557978557-2068ea6a817e.jpg was downloaded...\n",
      "photo-1551009175-15bdf9dcb580.jpg was downloaded...\n",
      "photo-1557978557-57231f2dbc36.jpg was downloaded...\n",
      "photo-1582585861644-d275d5c108e0.jpg was downloaded...\n",
      "photo-1508693926297-1d61ee3df82a.jpg was downloaded...\n",
      "photo-1517935706615-2717063c2225.jpg was downloaded...\n",
      "photo-1490623970972-ae8bb3da443e.jpg was downloaded...\n",
      "photo-1588733103629-b77afe0425ce.jpg was downloaded...\n",
      "Finished in 10.704295600007754 seconds.\n"
     ]
    }
   ],
   "source": [
    "import requests\n",
    "import concurrent.futures\n",
    "import time\n",
    "\n",
    "img_urls = [\n",
    "    'https://images.unsplash.com/photo-1517935706615-2717063c2225',\n",
    "    'https://images.unsplash.com/photo-1583211237509-9d5d3bfcd07b',\n",
    "    'https://images.unsplash.com/photo-1582585861644-d275d5c108e0',\n",
    "    'https://images.unsplash.com/photo-1557978557-2068ea6a817e',\n",
    "    'https://images.unsplash.com/photo-1557978557-57231f2dbc36',\n",
    "    'https://images.unsplash.com/photo-1518378892156-2c6bb23677df',\n",
    "    'https://images.unsplash.com/photo-1508693926297-1d61ee3df82a',\n",
    "    'https://images.unsplash.com/photo-1588733103629-b77afe0425ce',\n",
    "    'https://images.unsplash.com/photo-1551009175-15bdf9dcb580',\n",
    "    'https://images.unsplash.com/photo-1490623970972-ae8bb3da443e',\n",
    "]\n",
    "\n",
    "t1 = time.perf_counter()\n",
    "\n",
    "def download_image(img_url):\n",
    "    img_bytes = requests.get(img_url).content\n",
    "    img_name = img_url.split('/')[3]\n",
    "    img_name = f\"{img_name}.jpg\"\n",
    "\n",
    "    with open(img_name, 'wb') as img_file:\n",
    "        img_file.write(img_bytes)\n",
    "        print(f\"{img_name} was downloaded...\")\n",
    "\n",
    "#Create a thread pool and map the URLs\n",
    "with concurrent.futures.ThreadPoolExecutor() as executor:\n",
    "    executor.map(download_image, img_urls)\n",
    "\n",
    "t2 = time.perf_counter()\n",
    "\n",
    "print(f\"Finished in {t2-t1} seconds.\")"
   ]
  },
  {
   "attachments": {},
   "cell_type": "markdown",
   "metadata": {},
   "source": [
    "Speedup achieved!! Decreased from 13 seconds to 10 seconds."
   ]
  }
 ],
 "metadata": {
  "kernelspec": {
   "display_name": "Python 3",
   "language": "python",
   "name": "python3"
  },
  "language_info": {
   "codemirror_mode": {
    "name": "ipython",
    "version": 3
   },
   "file_extension": ".py",
   "mimetype": "text/x-python",
   "name": "python",
   "nbconvert_exporter": "python",
   "pygments_lexer": "ipython3",
   "version": "3.10.7"
  },
  "orig_nbformat": 4,
  "vscode": {
   "interpreter": {
    "hash": "fbfacf25abbc4466cbf6a4ec94f71aa428570133f008ac9f4c86deb26a69bb88"
   }
  }
 },
 "nbformat": 4,
 "nbformat_minor": 2
}
