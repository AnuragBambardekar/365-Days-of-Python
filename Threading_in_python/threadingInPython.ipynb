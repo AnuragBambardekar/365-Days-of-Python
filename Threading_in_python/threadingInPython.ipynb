{
 "cells": [
  {
   "attachments": {},
   "cell_type": "markdown",
   "metadata": {},
   "source": [
    "# Threading"
   ]
  },
  {
   "cell_type": "code",
   "execution_count": 1,
   "metadata": {},
   "outputs": [
    {
     "name": "stdout",
     "output_type": "stream",
     "text": [
      "Sleeping 1 second...\n",
      "Done Sleeping!\n",
      "Sleeping 1 second...\n",
      "Done Sleeping!\n",
      "Finished in 2.02 second(s)\n"
     ]
    }
   ],
   "source": [
    "import time\n",
    "start = time.perf_counter()\n",
    "def do_something():\n",
    "    print(\"Sleeping 1 second...\")\n",
    "    time.sleep(1)\n",
    "    print(\"Done Sleeping!\")\n",
    "\n",
    "do_something()\n",
    "do_something()\n",
    "\n",
    "finish = time.perf_counter()\n",
    "print(f\"Finished in {round(finish-start,2)} second(s)\")"
   ]
  },
  {
   "cell_type": "code",
   "execution_count": 4,
   "metadata": {},
   "outputs": [
    {
     "name": "stdout",
     "output_type": "stream",
     "text": [
      "Sleeping 1 second...\n",
      "Sleeping 1 second...\n",
      "Finished in 0.0 second(s)\n"
     ]
    },
    {
     "name": "stdout",
     "output_type": "stream",
     "text": [
      "Done Sleeping!Done Sleeping!\n",
      "\n"
     ]
    }
   ],
   "source": [
    "import threading\n",
    "import time\n",
    "start = time.perf_counter()\n",
    "def do_something():\n",
    "    print(\"Sleeping 1 second...\")\n",
    "    time.sleep(1)\n",
    "    print(\"Done Sleeping!\")\n",
    "\n",
    "#Create Threads\n",
    "t1 = threading.Thread(target=do_something) #pass the function by itself unexecuted\n",
    "t2 = threading.Thread(target=do_something) #pass the function by itself unexecuted\n",
    "\n",
    "#Run threads\n",
    "t1.start()\n",
    "t2.start()\n",
    "\n",
    "finish = time.perf_counter()\n",
    "print(f\"Finished in {round(finish-start,2)} second(s)\") "
   ]
  },
  {
   "attachments": {},
   "cell_type": "markdown",
   "metadata": {},
   "source": [
    "Started both threads, and ran the threads concurrently.\n",
    "While the threads were sleeping, it ran the finsih time and executed print statement and that is why we got zero seconds. And after printing, threads came out from sleep and printed Done Sleeping!\n",
    "\n",
    "Now I want to see threads to finish before calculating the finish time, so use join method to make sure threads complete and then calculate the finish time.\n"
   ]
  },
  {
   "cell_type": "code",
   "execution_count": 6,
   "metadata": {},
   "outputs": [
    {
     "name": "stdout",
     "output_type": "stream",
     "text": [
      "Sleeping 1 second...\n",
      "Sleeping 1 second...\n",
      "Done Sleeping!Done Sleeping!\n",
      "\n",
      "Finished in 1.02 second(s)\n"
     ]
    }
   ],
   "source": [
    "import threading\n",
    "import time\n",
    "start = time.perf_counter()\n",
    "def do_something():\n",
    "    print(\"Sleeping 1 second...\")\n",
    "    time.sleep(1)\n",
    "    print(\"Done Sleeping!\")\n",
    "\n",
    "#Create Threads\n",
    "t1 = threading.Thread(target=do_something) #pass the function by itself unexecuted\n",
    "t2 = threading.Thread(target=do_something) #pass the function by itself unexecuted\n",
    "\n",
    "#Run threads\n",
    "t1.start()\n",
    "t2.start()\n",
    "\n",
    "#Join method\n",
    "t1.join()\n",
    "t2.join()\n",
    "\n",
    "finish = time.perf_counter()\n",
    "print(f\"Finished in {round(finish-start,2)} second(s)\") "
   ]
  },
  {
   "attachments": {},
   "cell_type": "markdown",
   "metadata": {},
   "source": [
    "Not a big speedup achieved, earlier it executed in 2 seconds, now it executed in 1 second. Let's try running the thread 10 times with threads."
   ]
  },
  {
   "cell_type": "code",
   "execution_count": 7,
   "metadata": {},
   "outputs": [
    {
     "name": "stdout",
     "output_type": "stream",
     "text": [
      "Sleeping 1 second...\n",
      "Sleeping 1 second...\n",
      "Sleeping 1 second...\n",
      "Sleeping 1 second...\n",
      "Sleeping 1 second...\n",
      "Sleeping 1 second...\n",
      "Sleeping 1 second...\n",
      "Sleeping 1 second...\n",
      "Sleeping 1 second...\n",
      "Sleeping 1 second...\n",
      "Done Sleeping!\n",
      "Done Sleeping!\n",
      "Done Sleeping!\n",
      "Done Sleeping!\n",
      "Done Sleeping!\n",
      "Done Sleeping!\n",
      "Done Sleeping!\n",
      "Done Sleeping!\n",
      "Done Sleeping!\n",
      "Done Sleeping!\n",
      "Finished in 1.02 second(s)\n"
     ]
    }
   ],
   "source": [
    "import threading\n",
    "import time\n",
    "start = time.perf_counter()\n",
    "def do_something():\n",
    "    print(\"Sleeping 1 second...\")\n",
    "    time.sleep(1)\n",
    "    print(\"Done Sleeping!\")\n",
    "\n",
    "#append all threads\n",
    "threads = []\n",
    "\n",
    "#start all threads\n",
    "for _ in range(10):\n",
    "    t = threading.Thread(target=do_something)\n",
    "    t.start()\n",
    "    threads.append(t) #append each thread we started\n",
    "\n",
    "#Run join\n",
    "for thread in threads:\n",
    "    thread.join()\n",
    "\n",
    "finish = time.perf_counter()\n",
    "print(f\"Finished in {round(finish-start,2)} second(s)\") "
   ]
  },
  {
   "attachments": {},
   "cell_type": "markdown",
   "metadata": {},
   "source": [
    "Script still finished in 1 second, which would normally take 10 seconds"
   ]
  },
  {
   "attachments": {},
   "cell_type": "markdown",
   "metadata": {},
   "source": [
    "With Arguments that specify sleep time in seconds"
   ]
  },
  {
   "cell_type": "code",
   "execution_count": 8,
   "metadata": {},
   "outputs": [
    {
     "name": "stdout",
     "output_type": "stream",
     "text": [
      "Sleeping 1.5 second(s)...Sleeping 1.5 second(s)...\n",
      "\n",
      "Sleeping 1.5 second(s)...\n",
      "Sleeping 1.5 second(s)...\n",
      "Sleeping 1.5 second(s)...\n",
      "Sleeping 1.5 second(s)...\n",
      "Sleeping 1.5 second(s)...\n",
      "Sleeping 1.5 second(s)...\n",
      "Sleeping 1.5 second(s)...\n",
      "Sleeping 1.5 second(s)...\n",
      "Done Sleeping!\n",
      "Done Sleeping!\n",
      "Done Sleeping!\n",
      "Done Sleeping!\n",
      "Done Sleeping!\n",
      "Done Sleeping!\n",
      "Done Sleeping!\n",
      "Done Sleeping!\n",
      "Done Sleeping!\n",
      "Done Sleeping!\n",
      "Finished in 1.52 second(s)\n"
     ]
    }
   ],
   "source": [
    "import threading\n",
    "import time\n",
    "start = time.perf_counter()\n",
    "def do_something(seconds):\n",
    "    print(f\"Sleeping {seconds} second(s)...\")\n",
    "    time.sleep(seconds)\n",
    "    print(\"Done Sleeping!\")\n",
    "\n",
    "#append all threads\n",
    "threads = []\n",
    "\n",
    "#start all threads\n",
    "for _ in range(10):\n",
    "    t = threading.Thread(target=do_something, args=[1.5]) #sleep for 1.5 seconds\n",
    "    t.start()\n",
    "    threads.append(t) #append each thread we started\n",
    "\n",
    "#Run join\n",
    "for thread in threads:\n",
    "    thread.join()\n",
    "\n",
    "finish = time.perf_counter()\n",
    "print(f\"Finished in {round(finish-start,2)} second(s)\") "
   ]
  },
  {
   "attachments": {},
   "cell_type": "markdown",
   "metadata": {},
   "source": [
    "Faster and easier way of using Threads - ThreadPoolExecutor\n",
    "futures object encapsulates the execution of the function and we can grab the result from it."
   ]
  },
  {
   "cell_type": "code",
   "execution_count": 10,
   "metadata": {},
   "outputs": [
    {
     "name": "stdout",
     "output_type": "stream",
     "text": [
      "Sleeping 1 second(s)...\n",
      "Sleeping 1 second(s)...\n",
      "Done Sleeping!\n",
      "Done Sleeping!\n",
      "Finished in 1.01 second(s)\n"
     ]
    }
   ],
   "source": [
    "import concurrent.futures\n",
    "import time\n",
    "start = time.perf_counter()\n",
    "def do_something(seconds):\n",
    "    print(f\"Sleeping {seconds} second(s)...\")\n",
    "    time.sleep(seconds)\n",
    "    return \"Done Sleeping!\"\n",
    "\n",
    "with concurrent.futures.ThreadPoolExecutor() as executor:\n",
    "    f1 = executor.submit(do_something, 1) #1 second\n",
    "    f2 = executor.submit(do_something, 1) #1 second\n",
    "    print(f1.result())\n",
    "    print(f2.result())\n",
    "\n",
    "finish = time.perf_counter()\n",
    "print(f\"Finished in {round(finish-start,2)} second(s)\") "
   ]
  },
  {
   "cell_type": "code",
   "execution_count": 11,
   "metadata": {},
   "outputs": [
    {
     "name": "stdout",
     "output_type": "stream",
     "text": [
      "Sleeping 1 second(s)...\n",
      "Sleeping 1 second(s)...\n",
      "Sleeping 1 second(s)...\n",
      "Sleeping 1 second(s)...\n",
      "Sleeping 1 second(s)...\n",
      "Sleeping 1 second(s)...\n",
      "Sleeping 1 second(s)...\n",
      "Sleeping 1 second(s)...\n",
      "Sleeping 1 second(s)...\n",
      "Sleeping 1 second(s)...\n",
      "Done Sleeping!\n",
      "Done Sleeping!\n",
      "Done Sleeping!\n",
      "Done Sleeping!\n",
      "Done Sleeping!\n",
      "Done Sleeping!\n",
      "Done Sleeping!\n",
      "Done Sleeping!\n",
      "Done Sleeping!\n",
      "Done Sleeping!\n",
      "Finished in 1.01 second(s)\n"
     ]
    }
   ],
   "source": [
    "import concurrent.futures\n",
    "import time\n",
    "start = time.perf_counter()\n",
    "def do_something(seconds):\n",
    "    print(f\"Sleeping {seconds} second(s)...\")\n",
    "    time.sleep(seconds)\n",
    "    return \"Done Sleeping!\"\n",
    "\n",
    "with concurrent.futures.ThreadPoolExecutor() as executor:\n",
    "    results = [executor.submit(do_something, 1) for _ in range(10)] #list comprehension. run 10 times\n",
    "\n",
    "    for f in concurrent.futures.as_completed(results):\n",
    "        print(f.result())\n",
    "\n",
    "finish = time.perf_counter()\n",
    "print(f\"Finished in {round(finish-start,2)} second(s)\") "
   ]
  },
  {
   "attachments": {},
   "cell_type": "markdown",
   "metadata": {},
   "source": [
    "To Prove that this is being completed in order"
   ]
  },
  {
   "cell_type": "code",
   "execution_count": 13,
   "metadata": {},
   "outputs": [
    {
     "name": "stdout",
     "output_type": "stream",
     "text": [
      "Sleeping 5 second(s)...\n",
      "Sleeping 4 second(s)...\n",
      "Sleeping 3 second(s)...\n",
      "Sleeping 2 second(s)...\n",
      "Sleeping 1 second(s)...\n",
      "Done Sleeping! 1\n",
      "Done Sleeping! 2\n",
      "Done Sleeping! 3\n",
      "Done Sleeping! 4\n",
      "Done Sleeping! 5\n",
      "Finished in 5.02 second(s)\n"
     ]
    }
   ],
   "source": [
    "import concurrent.futures\n",
    "import time\n",
    "start = time.perf_counter()\n",
    "def do_something(seconds):\n",
    "    print(f\"Sleeping {seconds} second(s)...\")\n",
    "    time.sleep(seconds)\n",
    "    return f\"Done Sleeping! {seconds}\"\n",
    "\n",
    "with concurrent.futures.ThreadPoolExecutor() as executor:\n",
    "    secondss = [5,4,3,2,1]\n",
    "    results = [executor.submit(do_something, sec) for sec in (secondss)] #list comprehension. run 10 times\n",
    "\n",
    "    for f in concurrent.futures.as_completed(results):\n",
    "        print(f.result())\n",
    "\n",
    "finish = time.perf_counter()\n",
    "print(f\"Finished in {round(finish-start,2)} second(s)\") "
   ]
  },
  {
   "attachments": {},
   "cell_type": "markdown",
   "metadata": {},
   "source": [
    "Done sleeping 1 was completed first, and rest are printed in order of completion"
   ]
  },
  {
   "cell_type": "code",
   "execution_count": 14,
   "metadata": {},
   "outputs": [
    {
     "name": "stdout",
     "output_type": "stream",
     "text": [
      "Sleeping 5 second(s)...\n",
      "Sleeping 4 second(s)...\n",
      "Sleeping 3 second(s)...\n",
      "Sleeping 2 second(s)...\n",
      "Sleeping 1 second(s)...\n",
      "Done Sleeping! 5\n",
      "Done Sleeping! 4\n",
      "Done Sleeping! 3\n",
      "Done Sleeping! 2\n",
      "Done Sleeping! 1\n",
      "Finished in 5.03 second(s)\n"
     ]
    }
   ],
   "source": [
    "import concurrent.futures\n",
    "import time\n",
    "start = time.perf_counter()\n",
    "def do_something(seconds):\n",
    "    print(f\"Sleeping {seconds} second(s)...\")\n",
    "    time.sleep(seconds)\n",
    "    return f\"Done Sleeping! {seconds}\"\n",
    "\n",
    "with concurrent.futures.ThreadPoolExecutor() as executor:\n",
    "    secondss = [5,4,3,2,1]\n",
    "    results = executor.map(do_something, secondss) #map will return the order in which it was started\n",
    "    \n",
    "    for result in results:\n",
    "        print(result)\n",
    "\n",
    "finish = time.perf_counter()\n",
    "print(f\"Finished in {round(finish-start,2)} second(s)\") "
   ]
  },
  {
   "attachments": {},
   "cell_type": "markdown",
   "metadata": {},
   "source": [
    "Slept for 5 seconds first, so in order completion."
   ]
  },
  {
   "cell_type": "code",
   "execution_count": 15,
   "metadata": {},
   "outputs": [
    {
     "name": "stdout",
     "output_type": "stream",
     "text": [
      "Sleeping 5 second(s)...\n",
      "Sleeping 4 second(s)...\n",
      "Sleeping 3 second(s)...\n",
      "Sleeping 2 second(s)...\n",
      "Sleeping 1 second(s)...\n",
      "Finished in 5.0 second(s)\n"
     ]
    }
   ],
   "source": [
    "import concurrent.futures\n",
    "import time\n",
    "start = time.perf_counter()\n",
    "def do_something(seconds):\n",
    "    print(f\"Sleeping {seconds} second(s)...\")\n",
    "    time.sleep(seconds)\n",
    "    return f\"Done Sleeping! {seconds}\"\n",
    "\n",
    "with concurrent.futures.ThreadPoolExecutor() as executor:\n",
    "    secondss = [5,4,3,2,1]\n",
    "    results = executor.map(do_something, secondss) #map will return the order in which it was started\n",
    "\n",
    "finish = time.perf_counter()\n",
    "print(f\"Finished in {round(finish-start,2)} second(s)\") "
   ]
  },
  {
   "attachments": {},
   "cell_type": "markdown",
   "metadata": {},
   "source": [
    "Doesn't print out finished in 0 seconds like earlier, because result is stored in context now."
   ]
  },
  {
   "cell_type": "markdown",
   "metadata": {},
   "source": []
  }
 ],
 "metadata": {
  "kernelspec": {
   "display_name": "Python 3",
   "language": "python",
   "name": "python3"
  },
  "language_info": {
   "codemirror_mode": {
    "name": "ipython",
    "version": 3
   },
   "file_extension": ".py",
   "mimetype": "text/x-python",
   "name": "python",
   "nbconvert_exporter": "python",
   "pygments_lexer": "ipython3",
   "version": "3.10.7"
  },
  "orig_nbformat": 4,
  "vscode": {
   "interpreter": {
    "hash": "fbfacf25abbc4466cbf6a4ec94f71aa428570133f008ac9f4c86deb26a69bb88"
   }
  }
 },
 "nbformat": 4,
 "nbformat_minor": 2
}
