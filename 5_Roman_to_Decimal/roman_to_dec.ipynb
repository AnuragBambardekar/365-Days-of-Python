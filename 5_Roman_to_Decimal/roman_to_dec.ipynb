{
 "cells": [
  {
   "attachments": {},
   "cell_type": "markdown",
   "metadata": {},
   "source": [
    "# Roman Numbers to Decimal"
   ]
  },
  {
   "cell_type": "code",
   "execution_count": 6,
   "metadata": {},
   "outputs": [
    {
     "data": {
      "text/plain": [
       "19"
      ]
     },
     "execution_count": 6,
     "metadata": {},
     "output_type": "execute_result"
    }
   ],
   "source": [
    "def convert(romanNo):\n",
    "\n",
    "    #Create dictionary with Roman numeral values\n",
    "    values = {'I':1, 'V':5, 'X':10, 'L':50, 'C':100, 'D':500, 'M':1000}\n",
    "\n",
    "    #Initialize sum = 0\n",
    "    sum=0\n",
    "\n",
    "    #Loop through the roman numerals\n",
    "    for i in range(len(romanNo)):\n",
    "        numeral = romanNo[i]\n",
    "        #print(numeral)\n",
    "        value = values[numeral]\n",
    "        #print(value)\n",
    "\n",
    "        #if next numeral is greater than current, subtract current value from sum\n",
    "        if i < len(romanNo) - 1 and values[romanNo[i+1]] > value:\n",
    "            sum -= value\n",
    "        else:\n",
    "            sum += value\n",
    "    return sum\n",
    "\n",
    "roman = input(\"Enter Roman Number: \")\n",
    "convert(roman)"
   ]
  }
 ],
 "metadata": {
  "kernelspec": {
   "display_name": "Python 3",
   "language": "python",
   "name": "python3"
  },
  "language_info": {
   "codemirror_mode": {
    "name": "ipython",
    "version": 3
   },
   "file_extension": ".py",
   "mimetype": "text/x-python",
   "name": "python",
   "nbconvert_exporter": "python",
   "pygments_lexer": "ipython3",
   "version": "3.10.7"
  },
  "orig_nbformat": 4,
  "vscode": {
   "interpreter": {
    "hash": "fbfacf25abbc4466cbf6a4ec94f71aa428570133f008ac9f4c86deb26a69bb88"
   }
  }
 },
 "nbformat": 4,
 "nbformat_minor": 2
}
