{
 "cells": [
  {
   "attachments": {},
   "cell_type": "markdown",
   "metadata": {},
   "source": [
    "# Converting U.S. customary units to SI units"
   ]
  },
  {
   "attachments": {},
   "cell_type": "markdown",
   "metadata": {},
   "source": [
    "## About U.S. Customary Units\n",
    "U.S. customary units is the main system of units of measurement used to measure things in the United States and U.S. territories (except in Puerto Rico and Guam, where the metric system is also officially used and is dominant).\n",
    "\n",
    "The system of Imperial units, on which the U.S. customary units are based, is very similar but there are some differences.\n",
    "\n",
    "Length or distance units include the inch, foot, yard and mile.\n",
    "\n",
    "Land units include square miles (2589998.47032 square meter) and acres (4046.8726 square meter).\n",
    "\n",
    "Common volume units are the teaspoon, tablespoon (3 teaspoons), fluid ounce (two tablespoons), cup (8 ounces), pint (2 cups, or 16 fluid ounces), quart (2 pints, or 32 fluid ounces), US gallon (16 cups, 128 fluid ounces, or 3.8 liters).\n",
    "\n",
    "A barrel is the unit to measure oil.\n",
    "\n",
    "Temperature is measured in degrees Fahrenheit (°F).\n",
    "\n",
    "Units of weight and mass include the pound (453.6 grams), which contains 16 ounces."
   ]
  },
  {
   "attachments": {},
   "cell_type": "markdown",
   "metadata": {},
   "source": [
    "## About SI units\n",
    "MKS, or SI units are based on meters (m), kilograms (kg) , and seconds (s) \n",
    "\n",
    "The SI is not static; it is a living set of standards where units are created and definitions are modified with international agreement as measurement technology progresses."
   ]
  },
  {
   "cell_type": "code",
   "execution_count": 110,
   "metadata": {},
   "outputs": [],
   "source": [
    "def convert_us_to_si(value, unit):\n",
    "    us_to_si_factors = {\n",
    "        'in': (0.0254, 'm'),  # inch to meter\n",
    "        'ft': (0.3048, 'm'),  # foot to meter\n",
    "        'yd': (0.9144, 'm'),  # yard to meter\n",
    "        'mi': (1609.344, 'm'),  # mile to meter\n",
    "        'oz': (0.02835, 'kg'),  # ounce to kilogram\n",
    "        'lb': (0.453592, 'kg'),  # pound to kilogram\n",
    "        's': (1, 's'),  # second to second\n",
    "        'min': (60, 's'),  # minute to second\n",
    "        'h': (3600, 's'),  # hour to second\n",
    "        'fath': (1.8288, 'm'),  # fathom to meter\n",
    "        'league': (4828.032, 'm'),  # league to meter\n",
    "        'fluid oz': (0.0295735, 'L'),  # fluid ounce to liter\n",
    "        'cup': (0.236588, 'L'),  # cup to liter\n",
    "        'pint': (0.473176, 'L'),  # pint to liter\n",
    "        'quart': (0.946353, 'L'),  # quart to liter\n",
    "        'gallon': (3.78541, 'L'),  # gallon to liter\n",
    "        'fahrenheit': ((lambda x: (x - 32) * 5/9), '°C'),  # Fahrenheit to Celsius\n",
    "        'acre': (4046.86, 'm²'),  # acre to square meter\n",
    "        'hp': (745.7, 'W'),  # horsepower to watt\n",
    "    }\n",
    "    factor = us_to_si_factors.get(unit, (1, ''))\n",
    "    if(unit == 'fahrenheit'):\n",
    "        value_si = (factor[0](value))\n",
    "        # print(value_si)\n",
    "        return value_si, factor[1]\n",
    "    value_si = value * (factor[0](value) if callable(factor[0]) else factor[0])\n",
    "    return value_si, factor[1]\n"
   ]
  },
  {
   "cell_type": "code",
   "execution_count": 103,
   "metadata": {},
   "outputs": [
    {
     "data": {
      "text/plain": [
       "(0.17779999999999999, 'm')"
      ]
     },
     "execution_count": 103,
     "metadata": {},
     "output_type": "execute_result"
    }
   ],
   "source": [
    "convert_us_to_si(7, 'in')"
   ]
  },
  {
   "cell_type": "code",
   "execution_count": 76,
   "metadata": {},
   "outputs": [
    {
     "data": {
      "text/plain": [
       "(2.1336, 'm')"
      ]
     },
     "execution_count": 76,
     "metadata": {},
     "output_type": "execute_result"
    }
   ],
   "source": [
    "convert_us_to_si(7, 'ft')"
   ]
  },
  {
   "cell_type": "code",
   "execution_count": 77,
   "metadata": {},
   "outputs": [
    {
     "data": {
      "text/plain": [
       "(6.4008, 'm')"
      ]
     },
     "execution_count": 77,
     "metadata": {},
     "output_type": "execute_result"
    }
   ],
   "source": [
    "convert_us_to_si(7, 'yd')"
   ]
  },
  {
   "cell_type": "code",
   "execution_count": 78,
   "metadata": {},
   "outputs": [
    {
     "data": {
      "text/plain": [
       "(11265.408, 'm')"
      ]
     },
     "execution_count": 78,
     "metadata": {},
     "output_type": "execute_result"
    }
   ],
   "source": [
    "convert_us_to_si(7, 'mi')"
   ]
  },
  {
   "cell_type": "code",
   "execution_count": 79,
   "metadata": {},
   "outputs": [
    {
     "data": {
      "text/plain": [
       "(12.8016, 'm')"
      ]
     },
     "execution_count": 79,
     "metadata": {},
     "output_type": "execute_result"
    }
   ],
   "source": [
    "convert_us_to_si(7,'fath')"
   ]
  },
  {
   "cell_type": "code",
   "execution_count": 80,
   "metadata": {},
   "outputs": [
    {
     "data": {
      "text/plain": [
       "(33796.224, 'm')"
      ]
     },
     "execution_count": 80,
     "metadata": {},
     "output_type": "execute_result"
    }
   ],
   "source": [
    "convert_us_to_si(7,'league')"
   ]
  },
  {
   "cell_type": "code",
   "execution_count": 81,
   "metadata": {},
   "outputs": [
    {
     "data": {
      "text/plain": [
       "(0.19845000000000002, 'kg')"
      ]
     },
     "execution_count": 81,
     "metadata": {},
     "output_type": "execute_result"
    }
   ],
   "source": [
    "convert_us_to_si(7,'oz')"
   ]
  },
  {
   "cell_type": "code",
   "execution_count": 82,
   "metadata": {},
   "outputs": [
    {
     "data": {
      "text/plain": [
       "(3.175144, 'kg')"
      ]
     },
     "execution_count": 82,
     "metadata": {},
     "output_type": "execute_result"
    }
   ],
   "source": [
    "convert_us_to_si(7,'lb')"
   ]
  },
  {
   "cell_type": "code",
   "execution_count": 83,
   "metadata": {},
   "outputs": [
    {
     "data": {
      "text/plain": [
       "(7, 's')"
      ]
     },
     "execution_count": 83,
     "metadata": {},
     "output_type": "execute_result"
    }
   ],
   "source": [
    "convert_us_to_si(7,'s')"
   ]
  },
  {
   "cell_type": "code",
   "execution_count": 84,
   "metadata": {},
   "outputs": [
    {
     "data": {
      "text/plain": [
       "(420, 's')"
      ]
     },
     "execution_count": 84,
     "metadata": {},
     "output_type": "execute_result"
    }
   ],
   "source": [
    "convert_us_to_si(7,'min')"
   ]
  },
  {
   "cell_type": "code",
   "execution_count": 85,
   "metadata": {},
   "outputs": [
    {
     "data": {
      "text/plain": [
       "(25200, 's')"
      ]
     },
     "execution_count": 85,
     "metadata": {},
     "output_type": "execute_result"
    }
   ],
   "source": [
    "convert_us_to_si(7,'h')"
   ]
  },
  {
   "cell_type": "code",
   "execution_count": 86,
   "metadata": {},
   "outputs": [
    {
     "data": {
      "text/plain": [
       "(0.2070145, 'L')"
      ]
     },
     "execution_count": 86,
     "metadata": {},
     "output_type": "execute_result"
    }
   ],
   "source": [
    "convert_us_to_si(7,'fluid oz')"
   ]
  },
  {
   "cell_type": "code",
   "execution_count": 87,
   "metadata": {},
   "outputs": [
    {
     "data": {
      "text/plain": [
       "(1.656116, 'L')"
      ]
     },
     "execution_count": 87,
     "metadata": {},
     "output_type": "execute_result"
    }
   ],
   "source": [
    "convert_us_to_si(7,'cup')"
   ]
  },
  {
   "cell_type": "code",
   "execution_count": 88,
   "metadata": {},
   "outputs": [
    {
     "data": {
      "text/plain": [
       "(3.312232, 'L')"
      ]
     },
     "execution_count": 88,
     "metadata": {},
     "output_type": "execute_result"
    }
   ],
   "source": [
    "convert_us_to_si(7,'pint')"
   ]
  },
  {
   "cell_type": "code",
   "execution_count": 89,
   "metadata": {},
   "outputs": [
    {
     "data": {
      "text/plain": [
       "(6.624471, 'L')"
      ]
     },
     "execution_count": 89,
     "metadata": {},
     "output_type": "execute_result"
    }
   ],
   "source": [
    "convert_us_to_si(7,'quart')"
   ]
  },
  {
   "cell_type": "code",
   "execution_count": 90,
   "metadata": {},
   "outputs": [
    {
     "data": {
      "text/plain": [
       "(26.497870000000002, 'L')"
      ]
     },
     "execution_count": 90,
     "metadata": {},
     "output_type": "execute_result"
    }
   ],
   "source": [
    "convert_us_to_si(7,'gallon')"
   ]
  },
  {
   "cell_type": "code",
   "execution_count": 91,
   "metadata": {},
   "outputs": [
    {
     "data": {
      "text/plain": [
       "(28328.02, 'm²')"
      ]
     },
     "execution_count": 91,
     "metadata": {},
     "output_type": "execute_result"
    }
   ],
   "source": [
    "convert_us_to_si(7,'acre')"
   ]
  },
  {
   "cell_type": "code",
   "execution_count": 92,
   "metadata": {},
   "outputs": [
    {
     "data": {
      "text/plain": [
       "(5219.900000000001, 'W')"
      ]
     },
     "execution_count": 92,
     "metadata": {},
     "output_type": "execute_result"
    }
   ],
   "source": [
    "convert_us_to_si(7,'hp')"
   ]
  },
  {
   "cell_type": "code",
   "execution_count": 111,
   "metadata": {},
   "outputs": [
    {
     "data": {
      "text/plain": [
       "(20.0, '°C')"
      ]
     },
     "execution_count": 111,
     "metadata": {},
     "output_type": "execute_result"
    }
   ],
   "source": [
    "convert_us_to_si(68, 'fahrenheit')"
   ]
  },
  {
   "cell_type": "code",
   "execution_count": 112,
   "metadata": {},
   "outputs": [
    {
     "data": {
      "text/plain": [
       "(-17.77777777777778, '°C')"
      ]
     },
     "execution_count": 112,
     "metadata": {},
     "output_type": "execute_result"
    }
   ],
   "source": [
    "convert_us_to_si(0, 'fahrenheit')"
   ]
  }
 ],
 "metadata": {
  "kernelspec": {
   "display_name": "Python 3",
   "language": "python",
   "name": "python3"
  },
  "language_info": {
   "codemirror_mode": {
    "name": "ipython",
    "version": 3
   },
   "file_extension": ".py",
   "mimetype": "text/x-python",
   "name": "python",
   "nbconvert_exporter": "python",
   "pygments_lexer": "ipython3",
   "version": "3.10.8"
  },
  "orig_nbformat": 4
 },
 "nbformat": 4,
 "nbformat_minor": 2
}
