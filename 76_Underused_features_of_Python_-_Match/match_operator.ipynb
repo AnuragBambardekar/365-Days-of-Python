{
 "cells": [
  {
   "attachments": {},
   "cell_type": "markdown",
   "metadata": {},
   "source": [
    "# Match operator/keyword in Python"
   ]
  },
  {
   "attachments": {},
   "cell_type": "markdown",
   "metadata": {},
   "source": [
    "A powerful tool for pattern matching and offers more capabilities than simple if-elif chains or switch statements. The match statement allows you to match patterns and execute code based on those patterns.\n",
    "\n",
    "The match statement is similar to a switch statement in other programming languages, but is more flexible and powerful. With the match statement, you can match not only on the value of a variable, but also on the type, structure, and content of the variable."
   ]
  },
  {
   "cell_type": "code",
   "execution_count": 1,
   "metadata": {},
   "outputs": [
    {
     "name": "stdout",
     "output_type": "stream",
     "text": [
      "Hello to you too!\n"
     ]
    }
   ],
   "source": [
    "command = 'Hello, World!'\n",
    "match command:\n",
    "    case 'Hello, World!':\n",
    "        print('Hello to you too!')\n",
    "    case 'Goodbye, World!':\n",
    "        print('See you later')\n",
    "    case other:\n",
    "        print('No match found')"
   ]
  },
  {
   "cell_type": "code",
   "execution_count": 3,
   "metadata": {},
   "outputs": [
    {
     "name": "stdout",
     "output_type": "stream",
     "text": [
      "Processing string: hello\n",
      "Processing integer 42\n",
      "Processing unknown 3.14\n"
     ]
    }
   ],
   "source": [
    "def process_value(value):\n",
    "    match value:\n",
    "        case \"hello\":\n",
    "            print(f\"Processing string: {value}\")\n",
    "        case 42:\n",
    "            print(f\"Processing integer {value}\")\n",
    "        case _:\n",
    "            print(f\"Processing unknown {value}\")\n",
    "\n",
    "process_value(\"hello\")  # Output: Processing string 'hello'\n",
    "process_value(42)       # Output: Processing integer 42\n",
    "process_value(3.14)     # Output: Processing unknown value"
   ]
  },
  {
   "attachments": {},
   "cell_type": "markdown",
   "metadata": {},
   "source": [
    "## Guessing a random number"
   ]
  },
  {
   "cell_type": "code",
   "execution_count": 5,
   "metadata": {},
   "outputs": [
    {
     "name": "stdout",
     "output_type": "stream",
     "text": [
      "8\n",
      "hi 5\n",
      "8\n",
      "Number is higher than the guess!\n",
      "hi 6\n",
      "8\n",
      "Number is higher than the guess!\n",
      "hi 9\n",
      "8\n",
      "Number is lower than the guess!\n",
      "hi 8\n",
      "8\n",
      "Congratulations, you guessed the number in 4 attempts!\n",
      "Thanks for playing!\n"
     ]
    }
   ],
   "source": [
    "import random\n",
    "\n",
    "def play_game():\n",
    "    num_to_guess = random.randint(1, 10)\n",
    "    print(num_to_guess)\n",
    "    attempts = 0\n",
    "    while True:\n",
    "        guess = input(\"Guess a number between 1 and 10: \")\n",
    "        match guess:\n",
    "            case str(g) if not g.isdigit():\n",
    "                print(\"Please enter a valid number.\")\n",
    "                continue\n",
    "            case str(g):\n",
    "                guess = int(g)\n",
    "                print(\"hi\",guess)\n",
    "                print(num_to_guess)\n",
    "                attempts += 1\n",
    "                if guess == num_to_guess:\n",
    "                    print(f\"Congratulations, you guessed the number in {attempts} attempts!\")\n",
    "                    match input(\"Would you like to play again? (y/n) \"):\n",
    "                        case \"y\" | \"yes\":\n",
    "                            play_game()\n",
    "                        case \"n\" | \"no\":\n",
    "                            print(\"Thanks for playing!\")\n",
    "                            break\n",
    "                if guess < num_to_guess:\n",
    "                    print(\"Number is higher than the guess!\")\n",
    "                    continue\n",
    "                if guess > num_to_guess:\n",
    "                    print(\"Number is lower than the guess!\")\n",
    "                    continue\n",
    "play_game()\n"
   ]
  },
  {
   "attachments": {},
   "cell_type": "markdown",
   "metadata": {},
   "source": [
    "## Sort (Move) different file formats accordingly into sub folders"
   ]
  },
  {
   "cell_type": "code",
   "execution_count": 6,
   "metadata": {},
   "outputs": [
    {
     "name": "stdout",
     "output_type": "stream",
     "text": [
      "Moved owl.jpg to images\\owl.jpg\n",
      "Moved owl_copy.jpg to images\\owl_copy.jpg\n",
      "Unknown file extension for text_file.txt\n",
      "Unknown file extension for text_file2.txt\n"
     ]
    }
   ],
   "source": [
    "import os\n",
    "\n",
    "def sort_file(file_path):\n",
    "    match os.path.splitext(file_path)[1]:\n",
    "        case '.jpg' | '.png' | '.gif':\n",
    "            images_folder = 'images'\n",
    "            if not os.path.exists(images_folder):\n",
    "                os.makedirs(images_folder)\n",
    "            new_file_path = os.path.join(images_folder, os.path.basename(file_path))\n",
    "            os.rename(file_path, new_file_path)\n",
    "            print(f\"Moved {file_path} to {new_file_path}\")\n",
    "        case '.mp3' | '.wav':\n",
    "            music_folder = 'music'\n",
    "            if not os.path.exists(music_folder):\n",
    "                os.makedirs(music_folder)\n",
    "            new_file_path = os.path.join(music_folder, os.path.basename(file_path))\n",
    "            os.rename(file_path, new_file_path)\n",
    "            print(f\"Moved {file_path} to {new_file_path}\")\n",
    "        case '.pdf' | '.docx':\n",
    "            documents_folder = 'documents'\n",
    "            if not os.path.exists(documents_folder):\n",
    "                os.makedirs(documents_folder)\n",
    "            new_file_path = os.path.join(documents_folder, os.path.basename(file_path))\n",
    "            os.rename(file_path, new_file_path)\n",
    "            print(f\"Moved {file_path} to {new_file_path}\")\n",
    "        case _:\n",
    "            print(f\"Unknown file extension for {file_path}\")\n",
    "\n",
    "# Example usage\n",
    "sort_file('owl.jpg')\n",
    "sort_file('owl_copy.jpg')\n",
    "sort_file('text_file.txt')\n",
    "sort_file('text_file2.txt')\n"
   ]
  }
 ],
 "metadata": {
  "kernelspec": {
   "display_name": "Python 3",
   "language": "python",
   "name": "python3"
  },
  "language_info": {
   "codemirror_mode": {
    "name": "ipython",
    "version": 3
   },
   "file_extension": ".py",
   "mimetype": "text/x-python",
   "name": "python",
   "nbconvert_exporter": "python",
   "pygments_lexer": "ipython3",
   "version": "3.10.8"
  },
  "orig_nbformat": 4
 },
 "nbformat": 4,
 "nbformat_minor": 2
}
