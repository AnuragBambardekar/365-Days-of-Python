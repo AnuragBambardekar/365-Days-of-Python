{
 "cells": [
  {
   "attachments": {},
   "cell_type": "markdown",
   "metadata": {},
   "source": [
    "# Pascal's Triangle\n",
    "\n",
    "Pascal’s Triangle is the triangular arrangement of numbers that gives the coefficients in the expansion of any binomial expression. The numbers are so arranged that they reflect as a triangle."
   ]
  },
  {
   "attachments": {},
   "cell_type": "markdown",
   "metadata": {},
   "source": [
    "## Pascal's Triangle Properties\n",
    "\n",
    "- Each number is the sum of the two numbers above it.\n",
    "- Outside numbers are all 1.\n",
    "- Triangle is symmetric\n",
    "- Fibonacci numbers are along the diagonals\n",
    "- Sum of the rows gives the powers of 2"
   ]
  },
  {
   "attachments": {},
   "cell_type": "markdown",
   "metadata": {},
   "source": [
    "### Pascal Triangle [Right-angled] "
   ]
  },
  {
   "cell_type": "code",
   "execution_count": 104,
   "metadata": {},
   "outputs": [],
   "source": [
    "def pascal_triangle(n):\n",
    "  # Create a list to store the rows of the triangle\n",
    "  rows = []\n",
    "\n",
    "  # Create a list to store the current row\n",
    "  current_row = [1]\n",
    "\n",
    "  # Add the first row to the list\n",
    "  rows.append(current_row)\n",
    "\n",
    "  # Loop through the remaining rows\n",
    "  for i in range(1, n):\n",
    "    # Create a new list to store the next row\n",
    "    next_row = []\n",
    "\n",
    "    # The first element in the next row is always 1\n",
    "    next_row.append(1)\n",
    "\n",
    "    # Loop through the elements in the current row\n",
    "    for j in range(len(current_row)-1):\n",
    "      # The next element is the sum of the two elements above it\n",
    "      next_row.append(current_row[j] + current_row[j+1])\n",
    "\n",
    "    # The last element in the next row is always 1\n",
    "    next_row.append(1)\n",
    "\n",
    "    # Set the current row to the next row\n",
    "    current_row = next_row\n",
    "\n",
    "    # Add the next row to the list\n",
    "    rows.append(next_row)\n",
    "    #print(rows)\n",
    "\n",
    "  return rows\n"
   ]
  },
  {
   "attachments": {},
   "cell_type": "markdown",
   "metadata": {},
   "source": [
    "### Attempt to print a perfect Pascal Triangle"
   ]
  },
  {
   "cell_type": "code",
   "execution_count": 105,
   "metadata": {},
   "outputs": [],
   "source": [
    "def print_triangle(lists):\n",
    "\n",
    "  print(\"Here: \",lists)\n",
    "\n",
    "  # Find the maximum length of the lists\n",
    "  max_len = max(len(l) for l in lists)\n",
    "  print(\"Length of list: \",max_len)\n",
    "\n",
    "  for i, l in enumerate(lists):\n",
    "    print(l, \" length: \",len(l))\n",
    "\n",
    "  # Calculate the number of spaces to insert before each list\n",
    "  spaces = [int((max_len - len(l)) * 2) + (i > 0) for i, l in enumerate(lists)]\n",
    "  print(\"Spaces: \",spaces)\n",
    "\n",
    "  # Print each list with the appropriate number of spaces before it\n",
    "  for i, l in enumerate(lists):\n",
    "    print(\" \" * spaces[i], l)\n"
   ]
  },
  {
   "cell_type": "code",
   "execution_count": 106,
   "metadata": {},
   "outputs": [
    {
     "name": "stdout",
     "output_type": "stream",
     "text": [
      "Here:  [[1], [1, 1], [1, 2, 1], [1, 3, 3, 1]]\n",
      "Length of list:  4\n",
      "[1]  length:  1\n",
      "[1, 1]  length:  2\n",
      "[1, 2, 1]  length:  3\n",
      "[1, 3, 3, 1]  length:  4\n",
      "Spaces:  [6, 5, 3, 1]\n",
      "       [1]\n",
      "      [1, 1]\n",
      "    [1, 2, 1]\n",
      "  [1, 3, 3, 1]\n"
     ]
    }
   ],
   "source": [
    "# Get the rows of Pascal's triangle with 5 rows\n",
    "rows = pascal_triangle(4)\n",
    "\n",
    "# Print the rows in a triangle shape\n",
    "print_triangle(rows)"
   ]
  },
  {
   "attachments": {},
   "cell_type": "markdown",
   "metadata": {},
   "source": [
    "# Perfect Pascal Triangle"
   ]
  },
  {
   "cell_type": "code",
   "execution_count": 110,
   "metadata": {},
   "outputs": [
    {
     "name": "stdout",
     "output_type": "stream",
     "text": [
      "       1   \n",
      "     1   1   \n",
      "   1   2   1   \n",
      " 1   3   3   1   \n"
     ]
    }
   ],
   "source": [
    "n=int(input(\"Enter number of rows: \"))\n",
    "for line in range(1, n + 1):  \n",
    "    #print(\"line: \",line)\n",
    "    c = 1   \n",
    "    #print(\"c: \",c)\n",
    "    x=n\n",
    "    #print(\"x: \",x)\n",
    "    y=line\n",
    "    #print(\"y: \",y)\n",
    "    print(\"  \"*(n-line), end=\"\") #This line adds spaces before each line end to avoid \\n\n",
    "    \n",
    "    for i in range(1, line + 1): \n",
    "        #print(\"i: \",i,\", c: \",c)\n",
    "        print(str(c).center(4), end = \"\") #This center aligns each digit\n",
    "        c = int(c * (line - i) / i) #last value computed is 0 but it never prints since loop is in the last iteration\n",
    "        #print(c)\n",
    "    print(\" \") "
   ]
  }
 ],
 "metadata": {
  "kernelspec": {
   "display_name": "Python 3",
   "language": "python",
   "name": "python3"
  },
  "language_info": {
   "codemirror_mode": {
    "name": "ipython",
    "version": 3
   },
   "file_extension": ".py",
   "mimetype": "text/x-python",
   "name": "python",
   "nbconvert_exporter": "python",
   "pygments_lexer": "ipython3",
   "version": "3.10.7"
  },
  "orig_nbformat": 4,
  "vscode": {
   "interpreter": {
    "hash": "fbfacf25abbc4466cbf6a4ec94f71aa428570133f008ac9f4c86deb26a69bb88"
   }
  }
 },
 "nbformat": 4,
 "nbformat_minor": 2
}
