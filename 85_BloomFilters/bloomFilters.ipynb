{
 "cells": [
  {
   "attachments": {},
   "cell_type": "markdown",
   "metadata": {},
   "source": [
    "# Bloom Filters"
   ]
  },
  {
   "attachments": {},
   "cell_type": "markdown",
   "metadata": {},
   "source": [
    "- A lightweight version of a hash table\n",
    "- Efficient insertions and lookups\n",
    "- More space efficient than hash table, but this comes at the cost of having \"false positives\" for entry lookup\n",
    "- Will never get a false negative\n",
    "- This is a probabilistic Data structure"
   ]
  },
  {
   "attachments": {},
   "cell_type": "markdown",
   "metadata": {},
   "source": [
    "## Whys use Bloom Filters?\n",
    "- Allows for fast lookups and insertions\n",
    "- Care about how much space the Data structure uses\n",
    "- Don't care if data structure sometimes indicates an item is present when in fact it is not.\n",
    "\n",
    "Example:<br>\n",
    "-Keep track of IP addresses that are blocked and I dont care if a blocked IP address is occasionally able to access my website, but I do care if someone not on the blocked list is unable to access the site.\n",
    "\n",
    "- Password Validators [Strong/Weak]"
   ]
  },
  {
   "cell_type": "code",
   "execution_count": null,
   "metadata": {},
   "outputs": [],
   "source": []
  }
 ],
 "metadata": {
  "kernelspec": {
   "display_name": "Python 3",
   "language": "python",
   "name": "python3"
  },
  "language_info": {
   "codemirror_mode": {
    "name": "ipython",
    "version": 3
   },
   "file_extension": ".py",
   "mimetype": "text/x-python",
   "name": "python",
   "nbconvert_exporter": "python",
   "pygments_lexer": "ipython3",
   "version": "3.10.8"
  },
  "orig_nbformat": 4
 },
 "nbformat": 4,
 "nbformat_minor": 2
}
