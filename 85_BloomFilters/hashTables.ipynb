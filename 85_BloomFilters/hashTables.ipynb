{
 "cells": [
  {
   "attachments": {},
   "cell_type": "markdown",
   "metadata": {},
   "source": [
    "## Hash Table/ Hash Map Refresher\n",
    "- Hash Tables store key-value pairs\n",
    "- Key is generated using hash function\n",
    "- implemented using dictionary in Python\n",
    "- elements of dictionary is not ordered"
   ]
  },
  {
   "cell_type": "code",
   "execution_count": 1,
   "metadata": {},
   "outputs": [
    {
     "name": "stdout",
     "output_type": "stream",
     "text": [
      "{'bob': '001', 'alice': '002', 'joe': '003'}\n"
     ]
    },
    {
     "data": {
      "text/plain": [
       "dict"
      ]
     },
     "execution_count": 1,
     "metadata": {},
     "output_type": "execute_result"
    }
   ],
   "source": [
    "mydict = {'bob':'001', 'alice':'002', 'joe':'003'}\n",
    "print(mydict)\n",
    "type(mydict)"
   ]
  },
  {
   "cell_type": "code",
   "execution_count": 2,
   "metadata": {},
   "outputs": [
    {
     "name": "stdout",
     "output_type": "stream",
     "text": [
      "{}\n"
     ]
    },
    {
     "data": {
      "text/plain": [
       "dict"
      ]
     },
     "execution_count": 2,
     "metadata": {},
     "output_type": "execute_result"
    }
   ],
   "source": [
    "newdict = dict()\n",
    "print(newdict)\n",
    "type(newdict)"
   ]
  },
  {
   "cell_type": "code",
   "execution_count": 3,
   "metadata": {},
   "outputs": [
    {
     "name": "stdout",
     "output_type": "stream",
     "text": [
      "{'bob': '001', 'alice': '002'}\n"
     ]
    }
   ],
   "source": [
    "newdict = dict(bob='001', alice='002')\n",
    "print(newdict)"
   ]
  },
  {
   "cell_type": "code",
   "execution_count": 4,
   "metadata": {},
   "outputs": [
    {
     "name": "stdout",
     "output_type": "stream",
     "text": [
      "{'Employee': {'Alice': {'ID': '001', 'Salary': '2000', 'Designation': 'Team Lead'}, 'Dave': {'ID': '002', 'Salary': '1000', 'Designation': 'Associate'}}}\n"
     ]
    }
   ],
   "source": [
    "#Nested dictionaries\n",
    "empdetails = {'Employee':{'Alice':{'ID':'001','Salary':'2000','Designation':'Team Lead'}\n",
    "                          ,'Dave':{'ID':'002','Salary':'1000','Designation':'Associate'}\n",
    "                          }\n",
    "            }\n",
    "print(empdetails)"
   ]
  },
  {
   "cell_type": "code",
   "execution_count": 5,
   "metadata": {},
   "outputs": [
    {
     "data": {
      "text/plain": [
       "'002'"
      ]
     },
     "execution_count": 5,
     "metadata": {},
     "output_type": "execute_result"
    }
   ],
   "source": [
    "# Accessing elements from Dictionary or Hash Tables\n",
    "mydict['alice']"
   ]
  },
  {
   "cell_type": "code",
   "execution_count": 6,
   "metadata": {},
   "outputs": [
    {
     "name": "stdout",
     "output_type": "stream",
     "text": [
      "{'bob': '001', 'alice': '002', 'joe': '003'}\n"
     ]
    }
   ],
   "source": [
    "print(mydict)"
   ]
  },
  {
   "cell_type": "code",
   "execution_count": 7,
   "metadata": {},
   "outputs": [
    {
     "name": "stdout",
     "output_type": "stream",
     "text": [
      "dict_keys(['bob', 'alice', 'joe'])\n"
     ]
    }
   ],
   "source": [
    "print(mydict.keys())"
   ]
  },
  {
   "cell_type": "code",
   "execution_count": 8,
   "metadata": {},
   "outputs": [
    {
     "name": "stdout",
     "output_type": "stream",
     "text": [
      "dict_values(['001', '002', '003'])\n"
     ]
    }
   ],
   "source": [
    "print(mydict.values())"
   ]
  },
  {
   "cell_type": "code",
   "execution_count": 9,
   "metadata": {},
   "outputs": [
    {
     "name": "stdout",
     "output_type": "stream",
     "text": [
      "001\n"
     ]
    }
   ],
   "source": [
    "print(mydict.get('bob'))"
   ]
  },
  {
   "cell_type": "code",
   "execution_count": 10,
   "metadata": {},
   "outputs": [
    {
     "name": "stdout",
     "output_type": "stream",
     "text": [
      "bob\n",
      "alice\n",
      "joe\n"
     ]
    }
   ],
   "source": [
    "# Using for loop\n",
    "for x in mydict:\n",
    "    print (x)"
   ]
  },
  {
   "cell_type": "code",
   "execution_count": 11,
   "metadata": {},
   "outputs": [
    {
     "name": "stdout",
     "output_type": "stream",
     "text": [
      "001\n",
      "002\n",
      "003\n"
     ]
    }
   ],
   "source": [
    "for x in mydict.values():\n",
    "    print (x)"
   ]
  },
  {
   "cell_type": "code",
   "execution_count": 12,
   "metadata": {},
   "outputs": [
    {
     "name": "stdout",
     "output_type": "stream",
     "text": [
      "bob 001\n",
      "alice 002\n",
      "joe 003\n"
     ]
    }
   ],
   "source": [
    "for x,y in mydict.items():\n",
    "    print(x,y)"
   ]
  },
  {
   "cell_type": "code",
   "execution_count": 14,
   "metadata": {},
   "outputs": [
    {
     "name": "stdout",
     "output_type": "stream",
     "text": [
      "{'bob': '004', 'alice': '002', 'joe': '003', 'Chris': '001'}\n"
     ]
    }
   ],
   "source": [
    "# Performing operations on hash Tables\n",
    "# Updating\n",
    "mydict['bob'] = '004'\n",
    "mydict['Chris'] = '001'\n",
    "print(mydict)"
   ]
  },
  {
   "cell_type": "code",
   "execution_count": 15,
   "metadata": {},
   "outputs": [
    {
     "data": {
      "text/plain": [
       "'004'"
      ]
     },
     "execution_count": 15,
     "metadata": {},
     "output_type": "execute_result"
    }
   ],
   "source": [
    "#Deleting\n",
    "mydict.pop('bob')"
   ]
  },
  {
   "cell_type": "code",
   "execution_count": 16,
   "metadata": {},
   "outputs": [
    {
     "data": {
      "text/plain": [
       "('Chris', '001')"
      ]
     },
     "execution_count": 16,
     "metadata": {},
     "output_type": "execute_result"
    }
   ],
   "source": [
    "mydict.popitem() # Last item deleted"
   ]
  },
  {
   "cell_type": "code",
   "execution_count": 17,
   "metadata": {},
   "outputs": [],
   "source": [
    "del mydict['alice']"
   ]
  },
  {
   "cell_type": "code",
   "execution_count": 18,
   "metadata": {},
   "outputs": [
    {
     "name": "stdout",
     "output_type": "stream",
     "text": [
      "{'joe': '003'}\n"
     ]
    }
   ],
   "source": [
    "print(mydict)"
   ]
  },
  {
   "cell_type": "code",
   "execution_count": 19,
   "metadata": {},
   "outputs": [
    {
     "name": "stdout",
     "output_type": "stream",
     "text": [
      "                 Alice       Dave\n",
      "ID                 001        002\n",
      "Salary            2000       1000\n",
      "Designation  Team Lead  Associate\n"
     ]
    }
   ],
   "source": [
    "# Converting dict to dataframe\n",
    "import pandas as pd\n",
    "df = pd.DataFrame(empdetails['Employee'])\n",
    "print(df)"
   ]
  },
  {
   "attachments": {},
   "cell_type": "markdown",
   "metadata": {},
   "source": [
    "Whenever two keys have the same hash value, it is considered a collision."
   ]
  },
  {
   "attachments": {},
   "cell_type": "markdown",
   "metadata": {},
   "source": [
    "## Hashing Functions"
   ]
  },
  {
   "attachments": {},
   "cell_type": "markdown",
   "metadata": {},
   "source": [
    "**Division Method:** This is one of the simplest hashing methods, where the key is divided by the table size and the remainder is used as the index in the hash table. The table size should ideally be a prime number to minimize collisions. For example, if we have a table size of 5 and a key of 15, we can compute the index as 15 % 5 = 0. This means the value corresponding to key 15 will be stored in the 0th index of the hash table.\n",
    "\n",
    "**Mid Square Method:** This method involves squaring the key, taking the middle bits, and using that as the index in the hash table. For example, if we have a key of 15 and a table size of 5, we can square the key to get 225, take the middle digit to get 2, and use that as the index in the hash table. So the value corresponding to key 15 will be stored in the 2nd index of the hash table.\n",
    "\n",
    "**Folding Method:** This method involves breaking the key into smaller pieces, adding those pieces together, and using the sum as the index in the hash table. This is typically done by taking digits from the beginning or end of the key and adding them together. For example, if we have a key of 15789 and a table size of 5, we can break the key into 15 and 789, add them together to get 804, and use that as the index in the hash table. So the value corresponding to key 15789 will be stored in the 4th index of the hash table.\n",
    "\n",
    "**Multiplication Method:** This method involves multiplying the key by a constant factor, taking the fractional part of the result, and using that as the index in the hash table. The constant factor should be between 0 and 1, and should ideally be a \"magic number\" chosen to minimize collisions. For example, if we have a key of 15 and a table size of 5, we can multiply the key by 0.618033 (a common choice for the constant factor), take the fractional part of the result to get 0.090495, and use that as the index in the hash table. So the value corresponding to key 15 will be stored in the 0th index of the hash table."
   ]
  },
  {
   "cell_type": "code",
   "execution_count": 2,
   "metadata": {},
   "outputs": [
    {
     "name": "stdout",
     "output_type": "stream",
     "text": [
      "Division method - key 15: foo\n",
      "Division method - key 7: bar\n",
      "Mid square method - key 15: foo\n",
      "Mid square method - key 7: bar\n",
      "Folding method - key 15: foo\n",
      "Folding method - key 7: bar\n",
      "Multiplication method - key 15: foo\n",
      "Multiplication method - key 7: bar\n"
     ]
    }
   ],
   "source": [
    "class HashTable:\n",
    "    def __init__(self, size):\n",
    "        self.size = size\n",
    "        self.table = [None] * size\n",
    "\n",
    "    def hash_division(self, key):\n",
    "        return key % self.size\n",
    "\n",
    "    def hash_mid_square(self, key):\n",
    "        squared = key * key\n",
    "        digits = str(squared)\n",
    "        while len(digits) < 2 * self.size:\n",
    "            digits = \"0\" + digits\n",
    "        mid = len(digits) // 2\n",
    "        return int(digits[mid - self.size // 2:mid + self.size // 2]) % self.size\n",
    "\n",
    "    def hash_folding(self, key):\n",
    "        str_key = str(key)\n",
    "        chunks = [int(str_key[i:i+4]) for i in range(0, len(str_key), 4)]\n",
    "        folded = sum(chunks)\n",
    "        return folded % self.size\n",
    "\n",
    "    def hash_multiplication(self, key):\n",
    "        A = 0.61803398875  # golden ratio\n",
    "        product = key * A\n",
    "        fractional_part = product - int(product)\n",
    "        return int(self.size * fractional_part)\n",
    "\n",
    "    def insert(self, key, value):\n",
    "        index = self.hash_division(key)\n",
    "        # index = self.hash_mid_square(key)\n",
    "        # index = self.hash_folding(key)\n",
    "        # index = self.hash_multiplication(key)\n",
    "        self.table[index] = value\n",
    "\n",
    "    def get(self, key):\n",
    "        index = self.hash_division(key)\n",
    "        # index = self.hash_mid_square(key)\n",
    "        # index = self.hash_folding(key)\n",
    "        # index = self.hash_multiplication(key)\n",
    "        return self.table[index]\n",
    "\n",
    "# Example usage\n",
    "\n",
    "# Using division method\n",
    "table = HashTable(5)\n",
    "table.insert(15, \"foo\")\n",
    "table.insert(7, \"bar\")\n",
    "print(\"Division method - key 15:\", table.get(15))  # Output: foo\n",
    "print(\"Division method - key 7:\",table.get(7))  # Output: bar\n",
    "\n",
    "# Using mid square method\n",
    "table = HashTable(5)\n",
    "table.insert(15, \"foo\")\n",
    "table.insert(7, \"bar\")\n",
    "print(\"Mid square method - key 15:\", table.get(15))  # Output: foo\n",
    "print(\"Mid square method - key 7:\", table.get(7))  # Output: bar\n",
    "\n",
    "# Using folding method\n",
    "table = HashTable(5)\n",
    "table.insert(15, \"foo\")\n",
    "table.insert(7, \"bar\")\n",
    "print(\"Folding method - key 15:\", table.get(15))  # Output: foo\n",
    "print(\"Folding method - key 7:\", table.get(7))  # Output: bar\n",
    "\n",
    "# Using multiplication method\n",
    "table = HashTable(5)\n",
    "table.insert(15, \"foo\")\n",
    "table.insert(7, \"bar\")\n",
    "print(\"Multiplication method - key 15:\", table.get(15))  # Output: foo\n",
    "print(\"Multiplication method - key 7:\", table.get(7))  # Output: bar\n"
   ]
  }
 ],
 "metadata": {
  "kernelspec": {
   "display_name": "Python 3",
   "language": "python",
   "name": "python3"
  },
  "language_info": {
   "codemirror_mode": {
    "name": "ipython",
    "version": 3
   },
   "file_extension": ".py",
   "mimetype": "text/x-python",
   "name": "python",
   "nbconvert_exporter": "python",
   "pygments_lexer": "ipython3",
   "version": "3.10.8"
  },
  "orig_nbformat": 4
 },
 "nbformat": 4,
 "nbformat_minor": 2
}
