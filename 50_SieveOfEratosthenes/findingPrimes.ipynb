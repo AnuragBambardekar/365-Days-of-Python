{
 "cells": [
  {
   "attachments": {},
   "cell_type": "markdown",
   "metadata": {},
   "source": [
    "# The Sieve of Eratosthenes for finding Prime Numbers"
   ]
  },
  {
   "attachments": {},
   "cell_type": "markdown",
   "metadata": {},
   "source": [
    "The Sieve of Eratosthenes is an ancient algorithm used for finding all prime numbers up to a specified limit. It was first described by the Greek mathematician Eratosthenes around 200 BC. The algorithm is based on the observation that all primes greater than 3 are of the form 6k ± 1 for some integer k.\n",
    "\n",
    "The basic idea of the Sieve of Eratosthenes is to generate a list of all numbers from 2 to the specified limit and then iteratively mark as composite (i.e. not prime) the multiples of each prime number. At the end of the process, the numbers that are still unmarked are the prime numbers.\n",
    "\n",
    "The algorithm starts by marking 2 as prime, and then repeatedly finding the next smallest prime and marking its multiples as composite. The algorithm stops when all the numbers up to the specified limit have been processed.\n",
    "\n",
    "The Sieve of Eratosthenes is considered to be a very efficient way of finding all prime numbers up to a large limit, and is still widely used today for various applications in computer science and cryptography."
   ]
  },
  {
   "cell_type": "code",
   "execution_count": 1,
   "metadata": {},
   "outputs": [
    {
     "name": "stdout",
     "output_type": "stream",
     "text": [
      "Prime numbers up to 50 are:\n",
      "[2, 3, 5, 7, 11, 13, 17, 19, 23, 29, 31, 37, 41, 43, 47]\n"
     ]
    }
   ],
   "source": [
    "def sieve_of_eratosthenes(n):\n",
    "    primes = [True for i in range(n + 1)] # boolean array\n",
    "    # algorithm starts with p = 2 and iterates through all the numbers until p * p is greater than n. If primes[p] is True\n",
    "    p = 2\n",
    "    while (p * p <= n):\n",
    "        if (primes[p] == True):\n",
    "            # marks all the multiples of p as False in the primes array\n",
    "            for i in range(p * p, n + 1, p):\n",
    "                primes[i] = False \n",
    "        p += 1 # process continues until all the non-prime numbers have been marked as False in the primes array\n",
    "    prime_numbers = []\n",
    "    # collect all the numbers in the primes array that are True and returns them as a list of prime numbers.\n",
    "    for p in range(2, n + 1):\n",
    "        if primes[p]:\n",
    "            prime_numbers.append(p)\n",
    "    return prime_numbers\n",
    "\n",
    "n = int(input(\"Enter the maximum number to check for primes: \"))\n",
    "print(\"Prime numbers up to\", n, \"are:\")\n",
    "print(sieve_of_eratosthenes(n))\n"
   ]
  },
  {
   "attachments": {},
   "cell_type": "markdown",
   "metadata": {},
   "source": [
    "### Prime Factorization using Sieve of Eratosthenes"
   ]
  },
  {
   "cell_type": "code",
   "execution_count": 2,
   "metadata": {},
   "outputs": [
    {
     "name": "stdout",
     "output_type": "stream",
     "text": [
      "The prime factorization of 10 is:\n",
      "[2, 5]\n"
     ]
    }
   ],
   "source": [
    "def sieve_of_eratosthenes(n):\n",
    "    primes = [True for i in range(n + 1)]\n",
    "    p = 2\n",
    "    while (p * p <= n):\n",
    "        if (primes[p] == True):\n",
    "            for i in range(p * p, n + 1, p):\n",
    "                primes[i] = False\n",
    "        p += 1\n",
    "    return primes\n",
    "\n",
    "def factorize(n, primes):\n",
    "    factors = []\n",
    "    for i in range(2, n + 1):\n",
    "        if primes[i] and n % i == 0:\n",
    "            while n % i == 0:\n",
    "                factors.append(i)\n",
    "                n = n // i\n",
    "    return factors\n",
    "\n",
    "n = int(input(\"Enter the number to factorize: \"))\n",
    "primes = sieve_of_eratosthenes(n)\n",
    "factors = factorize(n, primes)\n",
    "print(\"The prime factorization of\", n, \"is:\")\n",
    "print(factors)\n"
   ]
  }
 ],
 "metadata": {
  "kernelspec": {
   "display_name": "Python 3",
   "language": "python",
   "name": "python3"
  },
  "language_info": {
   "codemirror_mode": {
    "name": "ipython",
    "version": 3
   },
   "file_extension": ".py",
   "mimetype": "text/x-python",
   "name": "python",
   "nbconvert_exporter": "python",
   "pygments_lexer": "ipython3",
   "version": "3.10.7"
  },
  "orig_nbformat": 4,
  "vscode": {
   "interpreter": {
    "hash": "fbfacf25abbc4466cbf6a4ec94f71aa428570133f008ac9f4c86deb26a69bb88"
   }
  }
 },
 "nbformat": 4,
 "nbformat_minor": 2
}
