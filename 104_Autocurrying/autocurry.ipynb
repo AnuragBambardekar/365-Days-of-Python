{
 "cells": [
  {
   "attachments": {},
   "cell_type": "markdown",
   "metadata": {},
   "source": [
    "# Autocurrying"
   ]
  },
  {
   "attachments": {},
   "cell_type": "markdown",
   "metadata": {},
   "source": [
    "Autocurrying is a functional programming technique where a function that takes multiple arguments can be partially applied to its arguments, returning a new function that takes the remaining arguments.\n",
    "\n",
    "Python does not have built-in support for autocurrying, but it can be implemented using various techniques. One way to implement autocurrying in Python is to use closures and nested functions."
   ]
  },
  {
   "attachments": {},
   "cell_type": "markdown",
   "metadata": {},
   "source": [
    "Currying - One argument per function <br>\n",
    "add(1,2,3) -> add(1)(2)(3)"
   ]
  },
  {
   "cell_type": "code",
   "execution_count": 1,
   "metadata": {},
   "outputs": [
    {
     "name": "stdout",
     "output_type": "stream",
     "text": [
      "1110\n"
     ]
    }
   ],
   "source": [
    "def add(a,b,c):\n",
    "    return a+b+c\n",
    "print(add(10,100,1000))"
   ]
  },
  {
   "attachments": {},
   "cell_type": "markdown",
   "metadata": {},
   "source": [
    "Binding function arguments - Chain of functions"
   ]
  },
  {
   "cell_type": "code",
   "execution_count": 2,
   "metadata": {},
   "outputs": [
    {
     "name": "stdout",
     "output_type": "stream",
     "text": [
      "1110\n"
     ]
    }
   ],
   "source": [
    "from functools import partial\n",
    "\n",
    "add_10 = partial(add,10)\n",
    "add_10_100 = partial(add_10,100)\n",
    "print(add_10_100(1000))"
   ]
  },
  {
   "attachments": {},
   "cell_type": "markdown",
   "metadata": {},
   "source": [
    "This was not elegant, so lets use a decorator"
   ]
  },
  {
   "cell_type": "code",
   "execution_count": 8,
   "metadata": {},
   "outputs": [
    {
     "name": "stdout",
     "output_type": "stream",
     "text": [
      "1110\n"
     ]
    }
   ],
   "source": [
    "from inspect import signature # to check how many args\n",
    "\n",
    "def curry(fnc):\n",
    "    def inner(arg):\n",
    "        if len(signature(fnc).parameters) == 1:\n",
    "            return fnc(arg)\n",
    "        return curry(partial(fnc, arg))\n",
    "    return inner\n",
    "\n",
    "@curry\n",
    "def add1(a,b,c):\n",
    "    return a+b+c\n",
    "\n",
    "print(add1(10)(100)(1000))"
   ]
  },
  {
   "cell_type": "code",
   "execution_count": 7,
   "metadata": {},
   "outputs": [
    {
     "name": "stdout",
     "output_type": "stream",
     "text": [
      "1110\n"
     ]
    }
   ],
   "source": [
    "add_10 = add(10)\n",
    "add_10_100 = add_10(100)\n",
    "print(add_10_100(1000))"
   ]
  },
  {
   "attachments": {},
   "cell_type": "markdown",
   "metadata": {},
   "source": [
    "One common use case is in functional programming, where functions are often passed as arguments to other functions. Autocurrying can make it easier to write higher-order functions that accept functions with varying numbers of arguments. It can also make it easier to compose functions by allowing the output of one function to be passed directly as input to another function.\n",
    "\n",
    "Another use case is in data processing pipelines, where a series of functions are applied to a dataset. Autocurrying can make it easier to write functions that accept partial inputs, allowing them to be used as part of a larger pipeline.\n",
    "\n",
    "Autocurrying can also be useful in situations where a function is used repeatedly with the same arguments, but with varying additional arguments. By partially applying the function to the initial arguments, it can be reused with different additional arguments without having to repeat the initial arguments each time."
   ]
  },
  {
   "cell_type": "code",
   "execution_count": 9,
   "metadata": {},
   "outputs": [
    {
     "name": "stdout",
     "output_type": "stream",
     "text": [
      "7\n"
     ]
    }
   ],
   "source": [
    "def add(x):\n",
    "    def curried(y):\n",
    "        return x + y\n",
    "    return curried\n",
    "\n",
    "# Use autocurrying to generate a sequence of functions that add a fixed value\n",
    "add_1 = add(1)\n",
    "add_2 = add(2)\n",
    "add_3 = add(3)\n",
    "\n",
    "# Apply the generated functions to a value\n",
    "result = add_3(add_2(add_1(1)))\n",
    "\n",
    "print(result)  # Output: 7\n"
   ]
  },
  {
   "cell_type": "code",
   "execution_count": 10,
   "metadata": {},
   "outputs": [
    {
     "name": "stdout",
     "output_type": "stream",
     "text": [
      "[2, 4]\n"
     ]
    }
   ],
   "source": [
    "def filter_by(predicate):\n",
    "    def curried(data):\n",
    "        return filter(predicate, data)\n",
    "    return curried\n",
    "\n",
    "data = [1, 2, 3, 4, 5]\n",
    "\n",
    "# Define a function that filters even numbers\n",
    "is_even = lambda x: x % 2 == 0\n",
    "\n",
    "# Use autocurrying to create a reusable function that filters by even numbers\n",
    "filter_even = filter_by(is_even)\n",
    "\n",
    "# Apply the filter to the data\n",
    "result = list(filter_even(data))\n",
    "\n",
    "print(result)  # Output: [2, 4]\n"
   ]
  },
  {
   "cell_type": "code",
   "execution_count": 12,
   "metadata": {},
   "outputs": [
    {
     "name": "stdout",
     "output_type": "stream",
     "text": [
      "[9, 12, 15, 18, 21]\n"
     ]
    }
   ],
   "source": [
    "from functools import reduce\n",
    "\n",
    "def pipeline(*funcs):\n",
    "    def curried(data):\n",
    "        return reduce(lambda x, f: f(x), funcs, data)\n",
    "    return curried\n",
    "\n",
    "def add(x):\n",
    "    def curried(y):\n",
    "        return x + y\n",
    "    return curried\n",
    "\n",
    "def multiply(x):\n",
    "    def curried(y):\n",
    "        return x * y\n",
    "    return curried\n",
    "\n",
    "data = [1, 2, 3, 4, 5]\n",
    "\n",
    "# Define a pipeline that adds 2 and multiplies by 3\n",
    "pipe = pipeline(add(2), multiply(3))\n",
    "\n",
    "# Apply the pipeline to the data\n",
    "result = list(map(pipe, data))\n",
    "\n",
    "print(result)  # Output: [9, 12, 15, 18, 21]\n"
   ]
  },
  {
   "cell_type": "code",
   "execution_count": null,
   "metadata": {},
   "outputs": [],
   "source": []
  }
 ],
 "metadata": {
  "kernelspec": {
   "display_name": "Python 3",
   "language": "python",
   "name": "python3"
  },
  "language_info": {
   "codemirror_mode": {
    "name": "ipython",
    "version": 3
   },
   "file_extension": ".py",
   "mimetype": "text/x-python",
   "name": "python",
   "nbconvert_exporter": "python",
   "pygments_lexer": "ipython3",
   "version": "3.10.8"
  },
  "orig_nbformat": 4
 },
 "nbformat": 4,
 "nbformat_minor": 2
}
