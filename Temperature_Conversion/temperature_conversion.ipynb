{
 "cells": [
  {
   "attachments": {},
   "cell_type": "markdown",
   "metadata": {},
   "source": [
    "# Temperature Conversion"
   ]
  },
  {
   "attachments": {},
   "cell_type": "markdown",
   "metadata": {},
   "source": [
    "Celsius (°C): The Celsius scale is based on the temperature at which water freezes (0 °C) and boils (100 °C) at sea level. <br>\n",
    "Fahrenheit (°F): The Fahrenheit scale is based on the temperature at which water freezes (32 °F) and boils (212 °F) at sea level. <br>\n",
    "Kelvin (K): The Kelvin scale is based on the temperature at which water freezes (273.15 K) and boils (373.15 K) at sea level. The unit of measurement in the Kelvin scale is the same as the degree Celsius, but the zero point is absolute zero (0 K), which is the temperature at which all matter has minimal energy. <br>\n",
    "Rankine (°R): The Rankine scale is based on the temperature at which water freezes (491.67 °R) and boils (671.67 °R) at sea level. The unit of measurement in the Rankine scale is the same as the degree Fahrenheit, but the zero point is absolute zero (0 °R), which is the temperature at which all matter has minimal energy. <br>"
   ]
  },
  {
   "attachments": {},
   "cell_type": "markdown",
   "metadata": {},
   "source": [
    "# Fahrenheit to Celcius"
   ]
  },
  {
   "cell_type": "code",
   "execution_count": 4,
   "metadata": {},
   "outputs": [
    {
     "data": {
      "text/plain": [
       "5.0"
      ]
     },
     "execution_count": 4,
     "metadata": {},
     "output_type": "execute_result"
    }
   ],
   "source": [
    "def convert(s):\n",
    "    f = float(s)\n",
    "    celcius = (f-32)*5/9\n",
    "    return celcius\n",
    "\n",
    "fahrenheit = input(\"Enter Fahrenheit: \")\n",
    "convert(fahrenheit)"
   ]
  },
  {
   "attachments": {},
   "cell_type": "markdown",
   "metadata": {},
   "source": [
    "# Celcius to Fahrenheit"
   ]
  },
  {
   "cell_type": "code",
   "execution_count": 3,
   "metadata": {},
   "outputs": [
    {
     "name": "stdout",
     "output_type": "stream",
     "text": [
      "5.0 degrees Celsius is equivalent to 41.00 degrees Fahrenheit.\n"
     ]
    }
   ],
   "source": [
    "# Convert a temperature from Celsius to Fahrenheit\n",
    "C = float(input(\"Enter Celcius: \"))\n",
    "F = C * 9 / 5 + 32\n",
    "print(f\"{C} degrees Celsius is equivalent to {F:.2f} degrees Fahrenheit.\")"
   ]
  },
  {
   "attachments": {},
   "cell_type": "markdown",
   "metadata": {},
   "source": [
    "# Celcius to Kelvin"
   ]
  },
  {
   "cell_type": "code",
   "execution_count": 5,
   "metadata": {},
   "outputs": [
    {
     "name": "stdout",
     "output_type": "stream",
     "text": [
      "5.0 degrees Celsius is equivalent to 278.15 degrees Kelvin.\n"
     ]
    }
   ],
   "source": [
    "C = float(input(\"Enter Celcius: \"))\n",
    "K = C + 273.15\n",
    "print(f\"{C} degrees Celsius is equivalent to {K:.2f} degrees Kelvin.\")"
   ]
  },
  {
   "attachments": {},
   "cell_type": "markdown",
   "metadata": {},
   "source": [
    "# Celcius to Rankine"
   ]
  },
  {
   "cell_type": "code",
   "execution_count": 6,
   "metadata": {},
   "outputs": [
    {
     "name": "stdout",
     "output_type": "stream",
     "text": [
      "5.0 degrees Celsius is equivalent to 500.67 degrees Rankine.\n"
     ]
    }
   ],
   "source": [
    "# Convert a temperature from Celsius to Rankine\n",
    "C = float(input(\"Enter Celcius: \"))\n",
    "R = (C + 273.15) * 9 / 5\n",
    "print(f\"{C} degrees Celsius is equivalent to {R:.2f} degrees Rankine.\")\n"
   ]
  }
 ],
 "metadata": {
  "kernelspec": {
   "display_name": "Python 3",
   "language": "python",
   "name": "python3"
  },
  "language_info": {
   "codemirror_mode": {
    "name": "ipython",
    "version": 3
   },
   "file_extension": ".py",
   "mimetype": "text/x-python",
   "name": "python",
   "nbconvert_exporter": "python",
   "pygments_lexer": "ipython3",
   "version": "3.10.7 (tags/v3.10.7:6cc6b13, Sep  5 2022, 14:08:36) [MSC v.1933 64 bit (AMD64)]"
  },
  "orig_nbformat": 4,
  "vscode": {
   "interpreter": {
    "hash": "fbfacf25abbc4466cbf6a4ec94f71aa428570133f008ac9f4c86deb26a69bb88"
   }
  }
 },
 "nbformat": 4,
 "nbformat_minor": 2
}
