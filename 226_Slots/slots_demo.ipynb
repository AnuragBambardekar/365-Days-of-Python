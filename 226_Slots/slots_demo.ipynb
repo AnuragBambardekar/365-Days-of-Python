{
 "cells": [
  {
   "cell_type": "markdown",
   "metadata": {},
   "source": [
    "# ```__slots__```"
   ]
  },
  {
   "cell_type": "code",
   "execution_count": 1,
   "metadata": {},
   "outputs": [
    {
     "name": "stdout",
     "output_type": "stream",
     "text": [
      "Male\n"
     ]
    }
   ],
   "source": [
    "class Profile:\n",
    "    def __init__(self, name, age) -> None:\n",
    "        self.name = name\n",
    "        self.age = age\n",
    "\n",
    "profile = Profile(\"Bamba\", 24)\n",
    "profile.gender = \"Male\"\n",
    "print(profile.gender) "
   ]
  },
  {
   "cell_type": "markdown",
   "metadata": {},
   "source": [
    "If we intended to have the gender attribute as a part of the Profile class, you should modify the class definition like this:"
   ]
  },
  {
   "cell_type": "code",
   "execution_count": 2,
   "metadata": {},
   "outputs": [
    {
     "ename": "AttributeError",
     "evalue": "'Profile' object has no attribute 'gender'",
     "output_type": "error",
     "traceback": [
      "\u001b[1;31m---------------------------------------------------------------------------\u001b[0m",
      "\u001b[1;31mAttributeError\u001b[0m                            Traceback (most recent call last)",
      "\u001b[1;32mc:\\Users\\anura\\Documents\\VSCode_Workspace\\365-Days-of-Python\\226_Slots\\slots_demo.ipynb Cell 4\u001b[0m in \u001b[0;36m8\n\u001b[0;32m      <a href='vscode-notebook-cell:/c%3A/Users/anura/Documents/VSCode_Workspace/365-Days-of-Python/226_Slots/slots_demo.ipynb#W2sZmlsZQ%3D%3D?line=4'>5</a>\u001b[0m         \u001b[39mself\u001b[39m\u001b[39m.\u001b[39mage \u001b[39m=\u001b[39m age\n\u001b[0;32m      <a href='vscode-notebook-cell:/c%3A/Users/anura/Documents/VSCode_Workspace/365-Days-of-Python/226_Slots/slots_demo.ipynb#W2sZmlsZQ%3D%3D?line=6'>7</a>\u001b[0m profile \u001b[39m=\u001b[39m Profile(\u001b[39m\"\u001b[39m\u001b[39mBamba\u001b[39m\u001b[39m\"\u001b[39m, \u001b[39m24\u001b[39m)\n\u001b[1;32m----> <a href='vscode-notebook-cell:/c%3A/Users/anura/Documents/VSCode_Workspace/365-Days-of-Python/226_Slots/slots_demo.ipynb#W2sZmlsZQ%3D%3D?line=7'>8</a>\u001b[0m profile\u001b[39m.\u001b[39mgender \u001b[39m=\u001b[39m \u001b[39m\"\u001b[39m\u001b[39mMale\u001b[39m\u001b[39m\"\u001b[39m\n\u001b[0;32m      <a href='vscode-notebook-cell:/c%3A/Users/anura/Documents/VSCode_Workspace/365-Days-of-Python/226_Slots/slots_demo.ipynb#W2sZmlsZQ%3D%3D?line=8'>9</a>\u001b[0m \u001b[39mprint\u001b[39m(profile\u001b[39m.\u001b[39mgender)\n",
      "\u001b[1;31mAttributeError\u001b[0m: 'Profile' object has no attribute 'gender'"
     ]
    }
   ],
   "source": [
    "class Profile:\n",
    "    __slots__ = (\"name\", \"age\")\n",
    "    def __init__(self, name, age) -> None:\n",
    "        self.name = name\n",
    "        self.age = age\n",
    "\n",
    "profile = Profile(\"Bamba\", 24)\n",
    "profile.gender = \"Male\"\n",
    "print(profile.gender) "
   ]
  },
  {
   "cell_type": "markdown",
   "metadata": {},
   "source": [
    "In this version of the code, the ```__slots__``` attribute is used to explicitly define the allowed attributes of the Profile class. With ```__slots__```, you're restricting the class to only have the attributes listed within it. This can help in reducing memory consumption and improving performance when you know in advance the attributes that your class will have."
   ]
  },
  {
   "cell_type": "code",
   "execution_count": 4,
   "metadata": {},
   "outputs": [
    {
     "name": "stdout",
     "output_type": "stream",
     "text": [
      "Male\n"
     ]
    }
   ],
   "source": [
    "class Profile:\n",
    "    __slots__ = (\"name\", \"age\", \"gender\")\n",
    "    def __init__(self, name, age) -> None:\n",
    "        self.name = name\n",
    "        self.age = age\n",
    "        self.gender = \"male\"\n",
    "\n",
    "profile = Profile(\"Bamba\", 24)\n",
    "profile.gender = \"Male\"\n",
    "print(profile.gender) "
   ]
  },
  {
   "cell_type": "markdown",
   "metadata": {},
   "source": [
    "## dict vs slots (in context of Class)\n",
    "\n",
    "Each class has a dict by default"
   ]
  },
  {
   "cell_type": "code",
   "execution_count": 5,
   "metadata": {},
   "outputs": [
    {
     "name": "stdout",
     "output_type": "stream",
     "text": [
      "{'name': 'Bamba', 'age': 24}\n"
     ]
    }
   ],
   "source": [
    "class Profile:\n",
    "    def __init__(self, name, age) -> None:\n",
    "        self.name = name\n",
    "        self.age = age\n",
    "\n",
    "profile = Profile(\"Bamba\", 24)\n",
    "print(profile.__dict__)"
   ]
  },
  {
   "cell_type": "code",
   "execution_count": 6,
   "metadata": {},
   "outputs": [
    {
     "name": "stdout",
     "output_type": "stream",
     "text": [
      "{'name': 'Bamba', 'age': 24, 'gender': 'male'}\n"
     ]
    }
   ],
   "source": [
    "profile.gender = \"male\"\n",
    "print(profile.__dict__)"
   ]
  },
  {
   "cell_type": "markdown",
   "metadata": {},
   "source": [
    "So, every class has a dict."
   ]
  },
  {
   "cell_type": "markdown",
   "metadata": {},
   "source": [
    "Having slots, overrides the dict"
   ]
  },
  {
   "cell_type": "code",
   "execution_count": 7,
   "metadata": {},
   "outputs": [
    {
     "ename": "AttributeError",
     "evalue": "'Profile' object has no attribute '__dict__'",
     "output_type": "error",
     "traceback": [
      "\u001b[1;31m---------------------------------------------------------------------------\u001b[0m",
      "\u001b[1;31mAttributeError\u001b[0m                            Traceback (most recent call last)",
      "\u001b[1;32mc:\\Users\\anura\\Documents\\VSCode_Workspace\\365-Days-of-Python\\226_Slots\\slots_demo.ipynb Cell 11\u001b[0m in \u001b[0;36m8\n\u001b[0;32m      <a href='vscode-notebook-cell:/c%3A/Users/anura/Documents/VSCode_Workspace/365-Days-of-Python/226_Slots/slots_demo.ipynb#X11sZmlsZQ%3D%3D?line=4'>5</a>\u001b[0m         \u001b[39mself\u001b[39m\u001b[39m.\u001b[39mage \u001b[39m=\u001b[39m age\n\u001b[0;32m      <a href='vscode-notebook-cell:/c%3A/Users/anura/Documents/VSCode_Workspace/365-Days-of-Python/226_Slots/slots_demo.ipynb#X11sZmlsZQ%3D%3D?line=6'>7</a>\u001b[0m profile \u001b[39m=\u001b[39m Profile(\u001b[39m\"\u001b[39m\u001b[39mBamba\u001b[39m\u001b[39m\"\u001b[39m, \u001b[39m24\u001b[39m)\n\u001b[1;32m----> <a href='vscode-notebook-cell:/c%3A/Users/anura/Documents/VSCode_Workspace/365-Days-of-Python/226_Slots/slots_demo.ipynb#X11sZmlsZQ%3D%3D?line=7'>8</a>\u001b[0m \u001b[39mprint\u001b[39m(profile\u001b[39m.\u001b[39m\u001b[39m__dict__\u001b[39m)\n",
      "\u001b[1;31mAttributeError\u001b[0m: 'Profile' object has no attribute '__dict__'"
     ]
    }
   ],
   "source": [
    "class Profile:\n",
    "    __slots__ = (\"name\", \"age\")\n",
    "    def __init__(self, name, age) -> None:\n",
    "        self.name = name\n",
    "        self.age = age\n",
    "\n",
    "profile = Profile(\"Bamba\", 24)\n",
    "print(profile.__dict__)"
   ]
  },
  {
   "cell_type": "markdown",
   "metadata": {},
   "source": [
    "But, it has the slots"
   ]
  },
  {
   "cell_type": "code",
   "execution_count": 8,
   "metadata": {},
   "outputs": [
    {
     "name": "stdout",
     "output_type": "stream",
     "text": [
      "('name', 'age')\n"
     ]
    }
   ],
   "source": [
    "print(profile.__slots__)"
   ]
  },
  {
   "cell_type": "markdown",
   "metadata": {},
   "source": [
    "Also, lets do a size comparison"
   ]
  },
  {
   "cell_type": "code",
   "execution_count": 9,
   "metadata": {},
   "outputs": [
    {
     "name": "stdout",
     "output_type": "stream",
     "text": [
      "88\n"
     ]
    }
   ],
   "source": [
    "class Profile:\n",
    "    def __init__(self, name, age) -> None:\n",
    "        self.name = name\n",
    "        self.age = age\n",
    "\n",
    "profile = Profile(\"Bamba\", 24)\n",
    "print(profile.__dict__.__sizeof__())"
   ]
  },
  {
   "cell_type": "code",
   "execution_count": 10,
   "metadata": {},
   "outputs": [
    {
     "name": "stdout",
     "output_type": "stream",
     "text": [
      "40\n"
     ]
    }
   ],
   "source": [
    "class Profile:\n",
    "    __slots__ = (\"name\", \"age\")\n",
    "    def __init__(self, name, age) -> None:\n",
    "        self.name = name\n",
    "        self.age = age\n",
    "\n",
    "profile = Profile(\"Bamba\", 24)\n",
    "print(profile.__slots__.__sizeof__())"
   ]
  },
  {
   "cell_type": "markdown",
   "metadata": {},
   "source": [
    "The objects take same memory.\n",
    "It's just that slots and dict take different memory spaces."
   ]
  },
  {
   "cell_type": "markdown",
   "metadata": {},
   "source": [
    "```__slots__```: When you use ```__slots__``` in a class, you're essentially telling Python to allocate memory only for the attributes listed in ```__slots__```. This can significantly reduce the memory overhead for instances of the class, especially when you have a large number of instances. However, keep in mind that using ```__slots__``` comes with some trade-offs, such as the inability to dynamically add new attributes to instances.\n",
    "\n",
    "```__dict__```: By default, each instance of a class has a ```__dict__``` attribute that stores its attributes and their values in a dictionary-like structure. This allows you to dynamically add, modify, or delete attributes at runtime. However, this flexibility comes at the cost of increased memory usage, as the dictionary needs to store attribute names as keys in addition to their values."
   ]
  },
  {
   "cell_type": "markdown",
   "metadata": {},
   "source": [
    "### Using timeit to measure performance"
   ]
  },
  {
   "cell_type": "code",
   "execution_count": 11,
   "metadata": {},
   "outputs": [],
   "source": [
    "from timeit import timeit"
   ]
  },
  {
   "cell_type": "markdown",
   "metadata": {},
   "source": [
    "Without slots"
   ]
  },
  {
   "cell_type": "code",
   "execution_count": 13,
   "metadata": {},
   "outputs": [
    {
     "name": "stdout",
     "output_type": "stream",
     "text": [
      "0.018193299998529255\n"
     ]
    }
   ],
   "source": [
    "setup = \"\"\"\n",
    "class Profile:\n",
    "    def __init__(self, name, age) -> None:\n",
    "        self.name = name\n",
    "        self.age = age\n",
    "\"\"\"\n",
    "\n",
    "code = \"\"\"\n",
    "profile = Profile(\"Bamba\", 24)\n",
    "\"\"\"\n",
    "\n",
    "t = timeit(code, setup=setup, number=100000)\n",
    "print(t)"
   ]
  },
  {
   "cell_type": "markdown",
   "metadata": {},
   "source": [
    "With slots"
   ]
  },
  {
   "cell_type": "code",
   "execution_count": 14,
   "metadata": {},
   "outputs": [
    {
     "name": "stdout",
     "output_type": "stream",
     "text": [
      "0.013574300013715401\n"
     ]
    }
   ],
   "source": [
    "setup = \"\"\"\n",
    "class Profile:\n",
    "    __slots__ = (\"name\", \"age\")\n",
    "    def __init__(self, name, age) -> None:\n",
    "        self.name = name\n",
    "        self.age = age\n",
    "\"\"\"\n",
    "\n",
    "code = \"\"\"\n",
    "profile = Profile(\"Bamba\", 24)\n",
    "\"\"\"\n",
    "\n",
    "t = timeit(code, setup=setup, number=100000)\n",
    "print(t)"
   ]
  },
  {
   "cell_type": "markdown",
   "metadata": {},
   "source": [
    "Not much of an improvement, but when scaling up for large applications might make a difference."
   ]
  }
 ],
 "metadata": {
  "kernelspec": {
   "display_name": "Python 3",
   "language": "python",
   "name": "python3"
  },
  "language_info": {
   "codemirror_mode": {
    "name": "ipython",
    "version": 3
   },
   "file_extension": ".py",
   "mimetype": "text/x-python",
   "name": "python",
   "nbconvert_exporter": "python",
   "pygments_lexer": "ipython3",
   "version": "3.10.8"
  },
  "orig_nbformat": 4
 },
 "nbformat": 4,
 "nbformat_minor": 2
}
