{
 "cells": [
  {
   "attachments": {},
   "cell_type": "markdown",
   "metadata": {},
   "source": [
    "# XML - Extensible Markup Language"
   ]
  },
  {
   "attachments": {},
   "cell_type": "markdown",
   "metadata": {},
   "source": [
    "Useful way to store data. It is a markup language and file format for storing, transmitting, and reconstructing arbitrary data. It defines a set of rules for encoding documents in a format that is both human-readable and machine-readable."
   ]
  },
  {
   "cell_type": "code",
   "execution_count": 1,
   "metadata": {},
   "outputs": [],
   "source": [
    "import xml.etree.ElementTree as et"
   ]
  },
  {
   "cell_type": "code",
   "execution_count": 2,
   "metadata": {},
   "outputs": [
    {
     "data": {
      "text/plain": [
       "['C14NWriterTarget',\n",
       " 'Comment',\n",
       " 'Element',\n",
       " 'ElementPath',\n",
       " 'ElementTree',\n",
       " 'HTML_EMPTY',\n",
       " 'PI',\n",
       " 'ParseError',\n",
       " 'ProcessingInstruction',\n",
       " 'QName',\n",
       " 'SubElement',\n",
       " 'TreeBuilder',\n",
       " 'VERSION',\n",
       " 'XML',\n",
       " 'XMLID',\n",
       " 'XMLParser',\n",
       " 'XMLPullParser',\n",
       " '_Element_Py',\n",
       " '_ListDataStream',\n",
       " '__all__',\n",
       " '__builtins__',\n",
       " '__cached__',\n",
       " '__doc__',\n",
       " '__file__',\n",
       " '__loader__',\n",
       " '__name__',\n",
       " '__package__',\n",
       " '__spec__',\n",
       " '_escape_attrib',\n",
       " '_escape_attrib_c14n',\n",
       " '_escape_attrib_html',\n",
       " '_escape_cdata',\n",
       " '_escape_cdata_c14n',\n",
       " '_get_writer',\n",
       " '_looks_like_prefix_name',\n",
       " '_namespace_map',\n",
       " '_namespaces',\n",
       " '_raise_serialization_error',\n",
       " '_serialize',\n",
       " '_serialize_html',\n",
       " '_serialize_text',\n",
       " '_serialize_xml',\n",
       " '_set_factories',\n",
       " 'canonicalize',\n",
       " 'collections',\n",
       " 'contextlib',\n",
       " 'dump',\n",
       " 'fromstring',\n",
       " 'fromstringlist',\n",
       " 'indent',\n",
       " 'io',\n",
       " 'iselement',\n",
       " 'iterparse',\n",
       " 'parse',\n",
       " 're',\n",
       " 'register_namespace',\n",
       " 'sys',\n",
       " 'tostring',\n",
       " 'tostringlist',\n",
       " 'warnings']"
      ]
     },
     "execution_count": 2,
     "metadata": {},
     "output_type": "execute_result"
    }
   ],
   "source": [
    "dir(et)"
   ]
  },
  {
   "attachments": {},
   "cell_type": "markdown",
   "metadata": {},
   "source": [
    "## Use inspect module by python to Inspect what is in the ElementTree Module"
   ]
  },
  {
   "cell_type": "code",
   "execution_count": 3,
   "metadata": {},
   "outputs": [],
   "source": [
    "import xml.etree.ElementTree as et\n",
    "from inspect import getmembers, isclass, isfunction"
   ]
  },
  {
   "attachments": {},
   "cell_type": "markdown",
   "metadata": {},
   "source": [
    "Display Classes in ElementTree module"
   ]
  },
  {
   "cell_type": "code",
   "execution_count": 4,
   "metadata": {},
   "outputs": [
    {
     "name": "stdout",
     "output_type": "stream",
     "text": [
      "C14NWriterTarget\n",
      "Element\n",
      "ElementTree\n",
      "ParseError\n",
      "QName\n",
      "TreeBuilder\n",
      "XMLParser\n",
      "XMLPullParser\n"
     ]
    }
   ],
   "source": [
    "for(name, member) in getmembers(et, isclass):\n",
    "    if not name.startswith(\"_\"):\n",
    "        print(name)"
   ]
  },
  {
   "attachments": {},
   "cell_type": "markdown",
   "metadata": {},
   "source": [
    "XML = Tree of Elements\n",
    "Each node is an element. ```<user></user>```"
   ]
  },
  {
   "attachments": {},
   "cell_type": "markdown",
   "metadata": {},
   "source": [
    "Display functions in ElementTree Module"
   ]
  },
  {
   "cell_type": "code",
   "execution_count": 5,
   "metadata": {},
   "outputs": [
    {
     "name": "stdout",
     "output_type": "stream",
     "text": [
      "Comment\n",
      "PI\n",
      "ProcessingInstruction\n",
      "XML\n",
      "XMLID\n",
      "canonicalize\n",
      "dump\n",
      "fromstring\n",
      "fromstringlist\n",
      "indent\n",
      "iselement\n",
      "iterparse\n",
      "parse\n",
      "register_namespace\n",
      "tostring\n",
      "tostringlist\n"
     ]
    }
   ],
   "source": [
    "for(name, member) in getmembers(et, isfunction):\n",
    "    if not name.startswith(\"_\"):\n",
    "        print(name)"
   ]
  },
  {
   "cell_type": "code",
   "execution_count": 6,
   "metadata": {},
   "outputs": [],
   "source": [
    "import xml.etree.ElementTree as et"
   ]
  },
  {
   "cell_type": "code",
   "execution_count": 9,
   "metadata": {},
   "outputs": [
    {
     "name": "stdout",
     "output_type": "stream",
     "text": [
      "b'<crypto coin=\"MONEY!!!\">\\n    <investor>Warren Buffett</investor>\\n    <investor>Peter Thiel</investor>\\n    <investor>Ray Dalio</investor>\\n    <investor>Mark Cuban</investor>\\n    <investor>Chris Sacca</investor>\\n    <investor>Tim Ferriss</investor>\\n    <investor>Ben Horowitz</investor>\\n    <investor>Naval Ravikant</investor>\\n    <investor>Chamath Palihapitiya</investor>\\n    <investor>Mary Meeker</investor>\\n    <investor>Marc Andreessen</investor>\\n    <investor>Reid Hoffman</investor>\\n    <investor>Bill Gurley</investor>\\n    <investor>Paul Graham</investor>\\n    <investor>Michael Moritz</investor>\\n</crypto>'\n"
     ]
    }
   ],
   "source": [
    "tree = et.parse('hodlers.xml')\n",
    "root = tree.getroot()\n",
    "print(et.tostring(root)) # Returns Byte string"
   ]
  },
  {
   "cell_type": "code",
   "execution_count": 11,
   "metadata": {},
   "outputs": [
    {
     "name": "stdout",
     "output_type": "stream",
     "text": [
      "Crypto name = MONEY!!!\n"
     ]
    }
   ],
   "source": [
    "coin = root.get('coin') # returns an attribute value\n",
    "print(\"Crypto name = {val}\".format(val=coin))"
   ]
  },
  {
   "cell_type": "code",
   "execution_count": 12,
   "metadata": {},
   "outputs": [
    {
     "name": "stdout",
     "output_type": "stream",
     "text": [
      "{'coin': 'MONEY!!!', 'launched': '20230226'}\n"
     ]
    }
   ],
   "source": [
    "# Set an attribute value\n",
    "root.set('launched','20230226')\n",
    "print(root.attrib)"
   ]
  },
  {
   "cell_type": "code",
   "execution_count": 13,
   "metadata": {},
   "outputs": [],
   "source": [
    "# Save updated XML\n",
    "tree.write('hodlers.xml')"
   ]
  },
  {
   "cell_type": "code",
   "execution_count": 14,
   "metadata": {},
   "outputs": [],
   "source": [
    "# Add 'id' attribute to each investor\n",
    "id = 1\n",
    "for investor in tree.findall('investor'):\n",
    "    investor.set('id',str(id))\n",
    "    id+=1\n",
    "\n",
    "# Save XML\n",
    "tree.write('hodlers.xml')"
   ]
  },
  {
   "cell_type": "code",
   "execution_count": 15,
   "metadata": {},
   "outputs": [],
   "source": [
    "# If you have regrets, you can delete attributes\n",
    "for investor in tree.findall('investor'):\n",
    "    del(investor.attrib['id'])\n",
    "\n",
    "# Save XML\n",
    "tree.write('hodlers.xml')"
   ]
  },
  {
   "cell_type": "code",
   "execution_count": 16,
   "metadata": {},
   "outputs": [],
   "source": [
    "# Add new investors to XML\n",
    "\n",
    "# Add investor 1\n",
    "investor1 = et.fromstring(\"<investor>Allen Duffy</investor>\")\n",
    "root.append(investor1)\n",
    "\n",
    "# Save XML\n",
    "tree.write('hodlers.xml')"
   ]
  },
  {
   "cell_type": "code",
   "execution_count": 17,
   "metadata": {},
   "outputs": [],
   "source": [
    "# Add investor 2 using constructor\n",
    "investor2 = et.Element(\"investor\")\n",
    "investor2.text = \"Karl Amber\"\n",
    "root.append(investor2)\n",
    "\n",
    "# Save XML\n",
    "tree.write('hodlers.xml')"
   ]
  },
  {
   "cell_type": "code",
   "execution_count": 18,
   "metadata": {},
   "outputs": [],
   "source": [
    "# Add ids once more\n",
    "for (id,investor) in enumerate(root.findall('investor')):\n",
    "    investor.set('id',str(id))\n",
    "\n",
    "# Save XML\n",
    "tree.write('hodlers.xml')"
   ]
  },
  {
   "cell_type": "code",
   "execution_count": 19,
   "metadata": {},
   "outputs": [
    {
     "name": "stdout",
     "output_type": "stream",
     "text": [
      "Chris Sacca\n"
     ]
    }
   ],
   "source": [
    "# Select Investor 4\n",
    "investor = root.find(\".//investor[@id='4']\")\n",
    "print(investor.text)"
   ]
  }
 ],
 "metadata": {
  "kernelspec": {
   "display_name": "Python 3",
   "language": "python",
   "name": "python3"
  },
  "language_info": {
   "codemirror_mode": {
    "name": "ipython",
    "version": 3
   },
   "file_extension": ".py",
   "mimetype": "text/x-python",
   "name": "python",
   "nbconvert_exporter": "python",
   "pygments_lexer": "ipython3",
   "version": "3.10.8"
  },
  "orig_nbformat": 4,
  "vscode": {
   "interpreter": {
    "hash": "fbfacf25abbc4466cbf6a4ec94f71aa428570133f008ac9f4c86deb26a69bb88"
   }
  }
 },
 "nbformat": 4,
 "nbformat_minor": 2
}
