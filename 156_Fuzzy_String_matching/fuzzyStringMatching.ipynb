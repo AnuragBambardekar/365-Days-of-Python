{
 "cells": [
  {
   "attachments": {},
   "cell_type": "markdown",
   "metadata": {},
   "source": [
    "# Fuzzy String Matching"
   ]
  },
  {
   "attachments": {},
   "cell_type": "markdown",
   "metadata": {},
   "source": [
    "The fuzzy string matching algorithm seeks to determine the degree of closeness between two different strings. This is discovered using a distance metric known as the “edit distance.” The edit distance determines how close two strings are by finding the minimum number of “edits” required to transform one string to another. "
   ]
  },
  {
   "attachments": {},
   "cell_type": "markdown",
   "metadata": {},
   "source": [
    "For example, the edit distance between “London” and “Londin” is one since replacing the “i” with an “o” leads to an exact match. "
   ]
  },
  {
   "attachments": {},
   "cell_type": "markdown",
   "metadata": {},
   "source": [
    "There are different variations of how to calculate edit distance. For instance, there is the Levenshtein distance, Hamming distance, Jaro distance, and more."
   ]
  },
  {
   "attachments": {},
   "cell_type": "markdown",
   "metadata": {},
   "source": [
    "## The Levenshtein Distance\n",
    "\n",
    "It’s a metric named after Vladimir Levenshtein, who originally considered it in 1965 to measure the difference between two sequences of words. We can use it to discover the minimum number of edits that you need to do to change a one-word sequence into the other. "
   ]
  },
  {
   "attachments": {
    "image.png": {
     "image/png": "[encoded data removed]"
    }
   },
   "cell_type": "markdown",
   "metadata": {},
   "source": [
    "The Levenshtein distance between two strings a,b (of length |a| and |b| respectively) is given by lev(a,b) where <br> <br>\n",
    "![image.png](attachment:image.png)"
   ]
  },
  {
   "attachments": {},
   "cell_type": "markdown",
   "metadata": {},
   "source": [
    "## Relevance\n",
    "\n",
    "TheFuzz still holds as one of the most advanced open-source libraries for fuzzy string matching in Python. It was first developed by SeatGeek for the purpose of distinguishing whether two ticket listings with similar names were for the same event. \n",
    "\n",
    "In accordance with FuzzyWuzzy, TheFuzz uses the Levenshtein edit distance to calculate the degree of closeness between two strings. It also provides features for determining string similarity in various situations, as you will see in this tutorial."
   ]
  },
  {
   "attachments": {},
   "cell_type": "markdown",
   "metadata": {},
   "source": [
    "## Examples"
   ]
  },
  {
   "attachments": {},
   "cell_type": "markdown",
   "metadata": {},
   "source": [
    "### String Matching"
   ]
  },
  {
   "cell_type": "code",
   "execution_count": 1,
   "metadata": {},
   "outputs": [
    {
     "name": "stdout",
     "output_type": "stream",
     "text": [
      "91\n",
      "100\n",
      "91\n",
      "91\n"
     ]
    },
    {
     "name": "stderr",
     "output_type": "stream",
     "text": [
      "c:\\Users\\anura\\AppData\\Local\\Programs\\Python\\Python310\\lib\\site-packages\\thefuzz\\fuzz.py:11: UserWarning: Using slow pure-python SequenceMatcher. Install python-Levenshtein to remove this warning\n",
      "  warnings.warn('Using slow pure-python SequenceMatcher. Install python-Levenshtein to remove this warning')\n"
     ]
    }
   ],
   "source": [
    "from thefuzz import fuzz\n",
    "\n",
    "string1 = \"apple\"\n",
    "string2 = \"apples\"\n",
    "\n",
    "# Calculate the similarity ratio between the two strings\n",
    "similarity_ratio = fuzz.ratio(string1, string2)\n",
    "print(similarity_ratio)  # Output: 91\n",
    "\n",
    "# Calculate the similarity using a partial ratio\n",
    "partial_ratio = fuzz.partial_ratio(string1, string2)\n",
    "print(partial_ratio)  # Output: 100\n",
    "\n",
    "# Calculate the similarity using token sort ratio\n",
    "token_sort_ratio = fuzz.token_sort_ratio(string1, string2)\n",
    "print(token_sort_ratio)  # Output: 91\n",
    "\n",
    "# Calculate the similarity using token set ratio\n",
    "token_set_ratio = fuzz.token_set_ratio(string1, string2)\n",
    "print(token_set_ratio)  # Output: 100"
   ]
  },
  {
   "attachments": {},
   "cell_type": "markdown",
   "metadata": {},
   "source": [
    "### String Matching in a list"
   ]
  },
  {
   "cell_type": "code",
   "execution_count": 2,
   "metadata": {},
   "outputs": [
    {
     "name": "stdout",
     "output_type": "stream",
     "text": [
      "apples\n",
      "apples\n"
     ]
    }
   ],
   "source": [
    "string = \"apple\"\n",
    "string_list = [\"apples\", \"banana\", \"orange\", \"pineapple\"]\n",
    "\n",
    "# Find the closest match in the list using fuzz ratio\n",
    "closest_match = max(string_list, key=lambda x: fuzz.ratio(string, x))\n",
    "print(closest_match)  # Output: \"apples\"\n",
    "\n",
    "# Find the closest match in the list using fuzz partial ratio\n",
    "closest_partial_match = max(string_list, key=lambda x: fuzz.partial_ratio(string, x))\n",
    "print(closest_partial_match)  # Output: \"apples\"\n"
   ]
  },
  {
   "attachments": {},
   "cell_type": "markdown",
   "metadata": {},
   "source": [
    "### String Matching with threshold"
   ]
  },
  {
   "cell_type": "code",
   "execution_count": 3,
   "metadata": {},
   "outputs": [
    {
     "name": "stdout",
     "output_type": "stream",
     "text": [
      "Strings are not similar\n"
     ]
    }
   ],
   "source": [
    "string1 = \"apple\"\n",
    "string2 = \"applesauce\"\n",
    "\n",
    "# Calculate the similarity ratio and check if it exceeds a threshold\n",
    "similarity_ratio = fuzz.ratio(string1, string2)\n",
    "threshold = 80\n",
    "\n",
    "if similarity_ratio >= threshold:\n",
    "    print(\"Strings are similar\")\n",
    "else:\n",
    "    print(\"Strings are not similar\")"
   ]
  },
  {
   "attachments": {},
   "cell_type": "markdown",
   "metadata": {},
   "source": [
    "### Record Duplication"
   ]
  },
  {
   "cell_type": "code",
   "execution_count": 4,
   "metadata": {},
   "outputs": [
    {
     "name": "stdout",
     "output_type": "stream",
     "text": [
      "Records are not duplicates\n"
     ]
    }
   ],
   "source": [
    "record1 = {\"name\": \"John Doe\", \"email\": \"jdoe@example.com\"}\n",
    "record2 = {\"name\": \"John D.\", \"email\": \"johndoe@example.com\"}\n",
    "record3 = {\"name\": \"Jane Smith\", \"email\": \"janesmith@example.com\"}\n",
    "\n",
    "# Check the similarity ratio between two records based on name\n",
    "name_similarity_ratio = fuzz.ratio(record1[\"name\"], record2[\"name\"])\n",
    "threshold = 90\n",
    "\n",
    "if name_similarity_ratio >= threshold:\n",
    "    print(\"Possible duplicate records:\", record1, record2)\n",
    "else:\n",
    "    print(\"Records are not duplicates\")\n",
    "\n",
    "# You can apply the same approach for other fields such as email"
   ]
  }
 ],
 "metadata": {
  "kernelspec": {
   "display_name": "Python 3",
   "language": "python",
   "name": "python3"
  },
  "language_info": {
   "codemirror_mode": {
    "name": "ipython",
    "version": 3
   },
   "file_extension": ".py",
   "mimetype": "text/x-python",
   "name": "python",
   "nbconvert_exporter": "python",
   "pygments_lexer": "ipython3",
   "version": "3.10.8"
  },
  "orig_nbformat": 4
 },
 "nbformat": 4,
 "nbformat_minor": 2
}
