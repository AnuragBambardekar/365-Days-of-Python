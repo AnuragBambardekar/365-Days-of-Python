{
 "cells": [
  {
   "cell_type": "code",
   "execution_count": 1,
   "metadata": {},
   "outputs": [],
   "source": [
    "COLORS = {\n",
    "    \"red\":\"\\x1b[31m\",\n",
    "    \"green\":\"\\x1b[32m\",\n",
    "    \"yellow\":\"\\x1b[33m\",\n",
    "    \"blue\":\"\\x1b[34m\",\n",
    "    \"purple\":\"\\x1b[35m\",\n",
    "    \"cyan\":\"\\x1b[36m\",\n",
    "}"
   ]
  },
  {
   "cell_type": "code",
   "execution_count": 9,
   "metadata": {},
   "outputs": [
    {
     "name": "stdout",
     "output_type": "stream",
     "text": [
      "\u001b[31mhello \u001b[34mworld\n"
     ]
    }
   ],
   "source": [
    "def colorText(text):\n",
    "    for color in COLORS:\n",
    "        text = text.replace(\"[[\"+color+\"]]\", COLORS[color])\n",
    "    return text\n",
    "\n",
    "hello=\"[[red]]hello [[blue]]world\"\n",
    "print(colorText(hello))\n"
   ]
  },
  {
   "cell_type": "code",
   "execution_count": 10,
   "metadata": {},
   "outputs": [
    {
     "name": "stdout",
     "output_type": "stream",
     "text": [
      "\n",
      "\u001b[32m .----------------.  .----------------.  .----------------.  .----------------.  .----------------.  .-----------------.\n",
      "\u001b[32m| .--------------. || .--------------. || .--------------. || .--------------. || .--------------. || .--------------. |\n",
      "\u001b[34m| |   ______     | || |  ____  ____  | || |  _________   | || |  ____  ____  | || |     ____     | || | ____  _____  | |\n",
      "\u001b[36m| |  |_   __ \\   | || | |_  _||_  _| | || | |  _   _  |  | || | |_   ||   _| | || |   .'    `.   | || ||_   \\|_   _| | |\n",
      "\u001b[36m| |    | |__) |  | || |   \\ \\  / /   | || | |_/ | | \\_|  | || |   | |__| |   | || |  /  .--.  \\  | || |  |   \\ | |   | |\n",
      "\u001b[31m| |    |  ___/   | || |    \\ \\/ /    | || |     | |      | || |   |  __  |   | || |  | |    | |  | || |  | |\\ \\| |   | |\n",
      "\u001b[31m| |   _| |_      | || |    _|  |_    | || |    _| |_     | || |  _| |  | |_  | || |  \\  `--'  /  | || | _| |_\\   |_  | |\n",
      "\u001b[35m| |  |_____|     | || |   |______|   | || |   |_____|    | || | |____||____| | || |   `.____.'   | || ||_____|\\____| | |\n",
      "\u001b[35m| |              | || |              | || |              | || |              | || |              | || |              | |\n",
      "\u001b[33m| '--------------' || '--------------' || '--------------' || '--------------' || '--------------' || '--------------' |\n",
      "\u001b[33m '----------------'  '----------------'  '----------------'  '----------------'  '----------------'  '----------------' \n",
      "\n"
     ]
    }
   ],
   "source": [
    "f = open(\"image.txt\",\"r\")\n",
    "ascii = \"\".join(f.readlines())\n",
    "\n",
    "print(colorText(ascii))"
   ]
  }
 ],
 "metadata": {
  "kernelspec": {
   "display_name": "Python 3",
   "language": "python",
   "name": "python3"
  },
  "language_info": {
   "codemirror_mode": {
    "name": "ipython",
    "version": 3
   },
   "file_extension": ".py",
   "mimetype": "text/x-python",
   "name": "python",
   "nbconvert_exporter": "python",
   "pygments_lexer": "ipython3",
   "version": "3.10.7 (tags/v3.10.7:6cc6b13, Sep  5 2022, 14:08:36) [MSC v.1933 64 bit (AMD64)]"
  },
  "orig_nbformat": 4,
  "vscode": {
   "interpreter": {
    "hash": "fbfacf25abbc4466cbf6a4ec94f71aa428570133f008ac9f4c86deb26a69bb88"
   }
  }
 },
 "nbformat": 4,
 "nbformat_minor": 2
}
