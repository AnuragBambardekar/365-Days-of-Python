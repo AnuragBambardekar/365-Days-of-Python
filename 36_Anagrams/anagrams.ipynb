{
 "cells": [
  {
   "attachments": {},
   "cell_type": "markdown",
   "metadata": {},
   "source": [
    "# Check whether two words are Anagrams"
   ]
  },
  {
   "attachments": {},
   "cell_type": "markdown",
   "metadata": {},
   "source": [
    "### Without using sorted function"
   ]
  },
  {
   "cell_type": "code",
   "execution_count": 3,
   "metadata": {},
   "outputs": [],
   "source": [
    "def isAnagram():\n",
    "    word1 = input(\"Enter first word: \")\n",
    "    word2 = input(\"Enter second word: \")\n",
    "\n",
    "    if(len(word1) != len(word2)):\n",
    "        return \"Words are not of the same length\"\n",
    "    \n",
    "    for char in word1:\n",
    "        if char not in word2:\n",
    "            return \"Not an Anagram\"\n",
    "    return \"Anagram!\""
   ]
  },
  {
   "cell_type": "code",
   "execution_count": 6,
   "metadata": {},
   "outputs": [
    {
     "data": {
      "text/plain": [
       "False"
      ]
     },
     "execution_count": 6,
     "metadata": {},
     "output_type": "execute_result"
    }
   ],
   "source": [
    "isAnagram()"
   ]
  },
  {
   "attachments": {},
   "cell_type": "markdown",
   "metadata": {},
   "source": [
    "### Finding Anagrams For a String in a List of Strings"
   ]
  },
  {
   "cell_type": "code",
   "execution_count": 7,
   "metadata": {},
   "outputs": [
    {
     "name": "stdout",
     "output_type": "stream",
     "text": [
      "['enlist', 'silent', 'listen']\n"
     ]
    }
   ],
   "source": [
    "def is_anagram(word1, word2):\n",
    "    return sorted(word1) == sorted(word2)\n",
    "\n",
    "def find_anagrams(word, word_list):\n",
    "    return [w for w in word_list if is_anagram(word, w)]\n",
    "\n",
    "word = \"listen\"\n",
    "word_list = [\"enlist\", \"silent\", \"listen\", \"hello\", \"world\"]\n",
    "\n",
    "print(find_anagrams(word, word_list))"
   ]
  },
  {
   "attachments": {},
   "cell_type": "markdown",
   "metadata": {},
   "source": [
    "### Using sorted function"
   ]
  },
  {
   "cell_type": "code",
   "execution_count": 10,
   "metadata": {},
   "outputs": [
    {
     "name": "stdout",
     "output_type": "stream",
     "text": [
      "The two strings are anagrams of each other.\n"
     ]
    }
   ],
   "source": [
    "first_string = input(\"Provide the first string: \")\n",
    "second_string = input(\"Provide the second string: \") \n",
    "\n",
    "if sorted(first_string) == sorted(second_string):\n",
    "    print(\"The two strings are anagrams of each other.\")\n",
    "else:\n",
    "    print(\"The two strings are not anagrams of each other.\")"
   ]
  },
  {
   "cell_type": "code",
   "execution_count": null,
   "metadata": {},
   "outputs": [],
   "source": []
  }
 ],
 "metadata": {
  "kernelspec": {
   "display_name": "Python 3",
   "language": "python",
   "name": "python3"
  },
  "language_info": {
   "codemirror_mode": {
    "name": "ipython",
    "version": 3
   },
   "file_extension": ".py",
   "mimetype": "text/x-python",
   "name": "python",
   "nbconvert_exporter": "python",
   "pygments_lexer": "ipython3",
   "version": "3.10.7"
  },
  "orig_nbformat": 4,
  "vscode": {
   "interpreter": {
    "hash": "fbfacf25abbc4466cbf6a4ec94f71aa428570133f008ac9f4c86deb26a69bb88"
   }
  }
 },
 "nbformat": 4,
 "nbformat_minor": 2
}
