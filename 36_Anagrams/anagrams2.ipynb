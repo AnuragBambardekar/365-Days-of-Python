{
 "cells": [
  {
   "attachments": {},
   "cell_type": "markdown",
   "metadata": {},
   "source": [
    "# Generate Anagrams of words"
   ]
  },
  {
   "attachments": {},
   "cell_type": "markdown",
   "metadata": {},
   "source": [
    "### Using itertools"
   ]
  },
  {
   "cell_type": "code",
   "execution_count": 25,
   "metadata": {},
   "outputs": [
    {
     "data": {
      "text/plain": [
       "['cat', 'cta', 'act', 'atc', 'tca', 'tac']"
      ]
     },
     "execution_count": 25,
     "metadata": {},
     "output_type": "execute_result"
    }
   ],
   "source": [
    "from itertools import permutations\n",
    "[''.join(element) for element in list(permutations('cat'))] "
   ]
  },
  {
   "attachments": {},
   "cell_type": "markdown",
   "metadata": {},
   "source": [
    "### Importing a dictionary of english words"
   ]
  },
  {
   "cell_type": "code",
   "execution_count": 1,
   "metadata": {},
   "outputs": [
    {
     "name": "stdout",
     "output_type": "stream",
     "text": [
      "466550\n"
     ]
    }
   ],
   "source": [
    "from collections import Counter\n",
    "import sys\n",
    "import time\n",
    "\n",
    "with open('words.txt', 'r') as f:\n",
    "    dictionary = f.read()\n",
    "\n",
    "dictionary = [x.lower() for x in dictionary.split('\\n')]\n",
    "print(len(dictionary))"
   ]
  },
  {
   "attachments": {},
   "cell_type": "markdown",
   "metadata": {},
   "source": [
    "### Find all possible anagrams [Computationally expensive, Runs into Memory error for bigger words and phrases]"
   ]
  },
  {
   "cell_type": "code",
   "execution_count": 20,
   "metadata": {},
   "outputs": [
    {
     "name": "stdout",
     "output_type": "stream",
     "text": [
      "['bob', 'bbo', 'obb', 'obb', 'bbo', 'bob']\n"
     ]
    }
   ],
   "source": [
    "def generate_anagrams(word):\n",
    "    if len(word) == 1:\n",
    "        return [word]\n",
    "    else:\n",
    "        anagrams = []\n",
    "        for i, letter in enumerate(word):\n",
    "            #print(i,letter)\n",
    "            #print(word[:i])\n",
    "            #print(word[i+1:])\n",
    "            #print(\"==============\")\n",
    "            for anagram in generate_anagrams(word[:i] + word[i+1:]):\n",
    "                anagrams.append(letter + anagram)\n",
    "                #print(anagrams)\n",
    "                #print(\"==============\")\n",
    "        return anagrams\n",
    "\n",
    "word = \"bob\"\n",
    "print(generate_anagrams(word))"
   ]
  },
  {
   "attachments": {},
   "cell_type": "markdown",
   "metadata": {},
   "source": [
    "### Check dictionary entries to find legitimate words [only works for a single word now]"
   ]
  },
  {
   "cell_type": "code",
   "execution_count": 24,
   "metadata": {},
   "outputs": [
    {
     "name": "stdout",
     "output_type": "stream",
     "text": [
      "['kory', 'roky']\n"
     ]
    }
   ],
   "source": [
    "def is_anagram(word1, word2):\n",
    "    return sorted(word1) == sorted(word2)\n",
    "\n",
    "def find_anagrams(word, word_list):\n",
    "    return [w for w in word_list if is_anagram(word, w)]\n",
    "\n",
    "def read_dictionary(file_path):\n",
    "    with open(file_path, \"r\") as f:\n",
    "        return [word.strip().lower() for word in f]\n",
    "\n",
    "word = \"york\"\n",
    "word_list = read_dictionary(\"words.txt\")\n",
    "anagrams = find_anagrams(word, word_list)\n",
    "print([a for a in anagrams if a != word])"
   ]
  },
  {
   "attachments": {},
   "cell_type": "markdown",
   "metadata": {},
   "source": [
    "### Creating a dictionary of Anagrams"
   ]
  },
  {
   "cell_type": "code",
   "execution_count": 47,
   "metadata": {},
   "outputs": [],
   "source": [
    "def get_anagram_from_dictionary_keys(word, keys):\n",
    "    #print(word,keys)\n",
    "    for key in keys:\n",
    "        if sorted(word) == sorted(key):\n",
    "            #print(\"key returned\")\n",
    "            return key\n",
    "    #print(\"none\")\n",
    "    return None \n",
    "\n",
    "def create_anagrams_dictionary(words):\n",
    "    anagrams = {}\n",
    "\n",
    "    for word in words:\n",
    "        word = word.lower()\n",
    "        #print(\"==================\")\n",
    "        #print(word)\n",
    "        #print(anagrams.keys())\n",
    "        #print(\"==================\")\n",
    "        dict_key_for_word = get_anagram_from_dictionary_keys(word, anagrams.keys())\n",
    "\n",
    "        if dict_key_for_word:\n",
    "            anagrams[dict_key_for_word].append(word)\n",
    "            #print(anagrams)\n",
    "        else:\n",
    "            anagrams[word] = [] #store unique word\n",
    "            #print(anagrams)\n",
    "\n",
    "    return anagrams "
   ]
  },
  {
   "cell_type": "code",
   "execution_count": 48,
   "metadata": {},
   "outputs": [
    {
     "name": "stdout",
     "output_type": "stream",
     "text": [
      "{'cat': ['tac', 'atc'], 'hello': ['olleh'], 'tiger': ['regit'], 'elephant': ['eplehant']}\n"
     ]
    }
   ],
   "source": [
    "words = ['cat', 'hello', 'tiger', 'olleh', 'tac', 'atc', 'regit', 'elephant', 'eplehant']\n",
    "print(create_anagrams_dictionary(words)) "
   ]
  }
 ],
 "metadata": {
  "kernelspec": {
   "display_name": "Python 3",
   "language": "python",
   "name": "python3"
  },
  "language_info": {
   "codemirror_mode": {
    "name": "ipython",
    "version": 3
   },
   "file_extension": ".py",
   "mimetype": "text/x-python",
   "name": "python",
   "nbconvert_exporter": "python",
   "pygments_lexer": "ipython3",
   "version": "3.10.7"
  },
  "orig_nbformat": 4,
  "vscode": {
   "interpreter": {
    "hash": "fbfacf25abbc4466cbf6a4ec94f71aa428570133f008ac9f4c86deb26a69bb88"
   }
  }
 },
 "nbformat": 4,
 "nbformat_minor": 2
}
