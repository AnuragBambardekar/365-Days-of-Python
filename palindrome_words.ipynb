{
 "cells": [
  {
   "attachments": {},
   "cell_type": "markdown",
   "metadata": {},
   "source": [
    "# Palindrome Words"
   ]
  },
  {
   "cell_type": "code",
   "execution_count": 2,
   "metadata": {},
   "outputs": [
    {
     "name": "stdout",
     "output_type": "stream",
     "text": [
      "['nitin', 'mom']\n"
     ]
    }
   ],
   "source": [
    "def palindrome(string):\n",
    "    for i in (\",.'?/><}{{}}'\"):\n",
    "        string = string.replace(i,\"\")\n",
    "    palindrome = []\n",
    "    words = string.split(' ')\n",
    "    for word in words:\n",
    "        word = word.lower()\n",
    "        if word == word[::-1]:\n",
    "            palindrome.append(word)\n",
    "    return palindrome\n",
    "\n",
    "string = input(\"Enter a sentence: \")\n",
    "print(palindrome(string))"
   ]
  },
  {
   "cell_type": "code",
   "execution_count": 5,
   "metadata": {},
   "outputs": [
    {
     "name": "stdout",
     "output_type": "stream",
     "text": [
      "Input string: nitin\n",
      "Reversed is: nitin\n",
      "palindrome!\n"
     ]
    }
   ],
   "source": [
    "newString = input(\"Enter a string: \")\n",
    "print(\"Input string: \"+newString)\n",
    "print(\"Reversed is: \"+newString[::-1])\n",
    "if(newString == newString[::-1]):\n",
    "    print(\"palindrome!\")\n",
    "else:\n",
    "    print(\"Not a Palindrome!\")"
   ]
  },
  {
   "cell_type": "code",
   "execution_count": 18,
   "metadata": {},
   "outputs": [
    {
     "name": "stdout",
     "output_type": "stream",
     "text": [
      "1234\n",
      "4321\n",
      "Not a Palindrome\n"
     ]
    }
   ],
   "source": [
    "#Palindrome number\n",
    "newNumber = int(input(\"Enter a number: \"))\n",
    "print(newNumber)\n",
    "copy_n = newNumber\n",
    "result=0\n",
    "\n",
    "while(newNumber!=0):\n",
    "    digit = newNumber%10\n",
    "    result = result*10+digit\n",
    "    newNumber=int(newNumber/10)\n",
    "print(result)\n",
    "\n",
    "if(result != copy_n):\n",
    "    print(\"Not a Palindrome\")\n",
    "else:\n",
    "    print(\"Palindrome!\")"
   ]
  },
  {
   "cell_type": "code",
   "execution_count": 19,
   "metadata": {},
   "outputs": [
    {
     "name": "stdout",
     "output_type": "stream",
     "text": [
      "Palindrome!\n"
     ]
    }
   ],
   "source": [
    "number = input() \n",
    "\n",
    "if number == number[::-1]: \n",
    "    print(\"Palindrome!\") \n",
    "else: \n",
    "    print(\"Not a Palindrome\") "
   ]
  }
 ],
 "metadata": {
  "kernelspec": {
   "display_name": "Python 3",
   "language": "python",
   "name": "python3"
  },
  "language_info": {
   "codemirror_mode": {
    "name": "ipython",
    "version": 3
   },
   "file_extension": ".py",
   "mimetype": "text/x-python",
   "name": "python",
   "nbconvert_exporter": "python",
   "pygments_lexer": "ipython3",
   "version": "3.10.7"
  },
  "orig_nbformat": 4,
  "vscode": {
   "interpreter": {
    "hash": "fbfacf25abbc4466cbf6a4ec94f71aa428570133f008ac9f4c86deb26a69bb88"
   }
  }
 },
 "nbformat": 4,
 "nbformat_minor": 2
}
