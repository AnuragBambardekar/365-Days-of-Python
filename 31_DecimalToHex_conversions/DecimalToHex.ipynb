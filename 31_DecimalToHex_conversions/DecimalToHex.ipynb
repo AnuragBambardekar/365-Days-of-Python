{
 "cells": [
  {
   "attachments": {},
   "cell_type": "markdown",
   "metadata": {},
   "source": [
    "# Converting from Base 10 to Base 16 [Decimal to Hexadecimal]"
   ]
  },
  {
   "cell_type": "code",
   "execution_count": 2,
   "metadata": {},
   "outputs": [
    {
     "name": "stdout",
     "output_type": "stream",
     "text": [
      "f\n"
     ]
    }
   ],
   "source": [
    "def decimal_to_hexa(decimal):\n",
    "    return hex(decimal)[2:]\n",
    "\n",
    "decimal_number = 15\n",
    "hexadecimal_number = decimal_to_hexa(decimal_number)\n",
    "print(hexadecimal_number)"
   ]
  },
  {
   "cell_type": "code",
   "execution_count": 3,
   "metadata": {},
   "outputs": [
    {
     "name": "stdout",
     "output_type": "stream",
     "text": [
      "a\n"
     ]
    }
   ],
   "source": [
    "decimal_number = -10\n",
    "hexadecimal_number = decimal_to_hexa(decimal_number)\n",
    "print(hexadecimal_number[1:])"
   ]
  },
  {
   "attachments": {},
   "cell_type": "markdown",
   "metadata": {},
   "source": [
    "Without using hex()"
   ]
  },
  {
   "cell_type": "code",
   "execution_count": 10,
   "metadata": {},
   "outputs": [
    {
     "name": "stdout",
     "output_type": "stream",
     "text": [
      "42\n"
     ]
    }
   ],
   "source": [
    "decimal_number = 66\n",
    "\n",
    "hex_key = {0: '0', 1: '1', 2: '2', 3: '3', 4: '4', 5: '5', 6: '6', 7: '7', 8: '8', 9: '9', 10: 'A', 11: 'B', 12: 'C', 13: 'D', 14: 'E', 15: 'F'}\n",
    "\n",
    "def decimal_to_hexadecimal(decimal):\n",
    "    hexadecimal = ''\n",
    "\n",
    "    if(decimal < 0):\n",
    "        decimal = abs(decimal)\n",
    "        while(decimal > 0):\n",
    "            remainder = decimal % 16\n",
    "            hexadecimal = hex_key[remainder] + hexadecimal\n",
    "            decimal = decimal // 16\n",
    "        \n",
    "        hexadecimal = int(hexadecimal)\n",
    "        hexadecimal = -hexadecimal \n",
    "        return hexadecimal\n",
    "    \n",
    "    elif (decimal >= 0):\n",
    "        while(decimal > 0):\n",
    "            remainder = decimal % 16\n",
    "            hexadecimal = hex_key[remainder] + hexadecimal\n",
    "            decimal = decimal // 16\n",
    "        return hexadecimal\n",
    " \n",
    "print(decimal_to_hexadecimal(decimal_number))"
   ]
  },
  {
   "cell_type": "code",
   "execution_count": null,
   "metadata": {},
   "outputs": [],
   "source": []
  }
 ],
 "metadata": {
  "kernelspec": {
   "display_name": "Python 3",
   "language": "python",
   "name": "python3"
  },
  "language_info": {
   "codemirror_mode": {
    "name": "ipython",
    "version": 3
   },
   "file_extension": ".py",
   "mimetype": "text/x-python",
   "name": "python",
   "nbconvert_exporter": "python",
   "pygments_lexer": "ipython3",
   "version": "3.10.7"
  },
  "orig_nbformat": 4,
  "vscode": {
   "interpreter": {
    "hash": "fbfacf25abbc4466cbf6a4ec94f71aa428570133f008ac9f4c86deb26a69bb88"
   }
  }
 },
 "nbformat": 4,
 "nbformat_minor": 2
}
