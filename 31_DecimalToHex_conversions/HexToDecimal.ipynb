{
 "cells": [
  {
   "attachments": {},
   "cell_type": "markdown",
   "metadata": {},
   "source": [
    "# Converting from Base 16 to Base 10 [Hexadecimal to Decimal]"
   ]
  },
  {
   "cell_type": "code",
   "execution_count": 1,
   "metadata": {},
   "outputs": [
    {
     "name": "stdout",
     "output_type": "stream",
     "text": [
      "18\n"
     ]
    }
   ],
   "source": [
    "def hexa_to_decimal(hexa):\n",
    "    return int(hexa, 16)\n",
    "\n",
    "hexa_number = '12'\n",
    "decimal_number = hexa_to_decimal(hexa_number)\n",
    "print(decimal_number)"
   ]
  },
  {
   "cell_type": "code",
   "execution_count": 2,
   "metadata": {},
   "outputs": [
    {
     "name": "stdout",
     "output_type": "stream",
     "text": [
      "-18\n"
     ]
    }
   ],
   "source": [
    "hexa_number = '-12'\n",
    "decimal_number = hexa_to_decimal(hexa_number)\n",
    "print(decimal_number)"
   ]
  },
  {
   "attachments": {},
   "cell_type": "markdown",
   "metadata": {},
   "source": [
    "Without using the in-built function"
   ]
  },
  {
   "cell_type": "code",
   "execution_count": 13,
   "metadata": {},
   "outputs": [
    {
     "name": "stdout",
     "output_type": "stream",
     "text": [
      "171\n"
     ]
    }
   ],
   "source": [
    "hex_num = \"AB\"\n",
    "decimal_num = 0\n",
    "hex_key = {'0': '0', '1': '1', '2': '2', '3': '3', '4': '4', '5': '5', '6': '6', '7': '7', '8': '8', '9': '9', 'A': '10', 'B': '11', 'C': '12', 'D': '13', 'E': '14', 'F': '15'}\n",
    "\n",
    "#check whether hex representation is positive or negative\n",
    "if hex_num[0] == '-':\n",
    "    hnum = hex_num[1:]\n",
    "    print(\"Negative Hexadecimal Representation\")\n",
    "\n",
    "    #check whether digits are 1's and 0's only also\n",
    "    for i, digit in enumerate(hnum[::-1]):\n",
    "        if not ((digit < '0' or digit > '9') and (digit < 'A' or digit > 'F')):\n",
    "            print(\"Invalid Hexadecimal Number\")\n",
    "            break #break to completely discard the hexadecimal to decimal conversion\n",
    "        else:\n",
    "            #print(i,digit)\n",
    "            #print(hex_key[digit])\n",
    "            dec_digit = hex_key[digit]\n",
    "            #print(dec_digit)\n",
    "            decimal_num = decimal_num +  int(dec_digit) * (16**i)\n",
    "            #print(decimal_num)\n",
    "\n",
    "else:\n",
    "    #check whether digits are 1's and 0's only also\n",
    "    for i, digit in enumerate(hex_num[::-1]):\n",
    "        if ((digit < '0' or digit > '9') and (digit < 'A' or digit > 'F')):\n",
    "            print(\"Invalid Hexadecimal Number\")\n",
    "            break #break to completely discard the hexadecimal to decimal conversion\n",
    "        else:\n",
    "            #print(i,digit)\n",
    "            #print(hex_key[digit])\n",
    "            dec_digit = hex_key[digit]\n",
    "            #print(dec_digit)\n",
    "            decimal_num = decimal_num +  int(dec_digit) * (16**i)\n",
    "            #print(decimal_num)\n",
    "\n",
    "\n",
    "#it ignores the invalid hex representation and calculates the decimal equivalent of valid binary representations [1 and 0], unless break is in operation\n",
    "#print(binary_num)\n",
    "if(hex_num[0] == '-'):\n",
    "    decimal_num = -decimal_num\n",
    "    print(decimal_num)\n",
    "else:\n",
    "    print(decimal_num)"
   ]
  },
  {
   "cell_type": "code",
   "execution_count": null,
   "metadata": {},
   "outputs": [],
   "source": []
  }
 ],
 "metadata": {
  "kernelspec": {
   "display_name": "Python 3",
   "language": "python",
   "name": "python3"
  },
  "language_info": {
   "codemirror_mode": {
    "name": "ipython",
    "version": 3
   },
   "file_extension": ".py",
   "mimetype": "text/x-python",
   "name": "python",
   "nbconvert_exporter": "python",
   "pygments_lexer": "ipython3",
   "version": "3.10.7"
  },
  "orig_nbformat": 4,
  "vscode": {
   "interpreter": {
    "hash": "fbfacf25abbc4466cbf6a4ec94f71aa428570133f008ac9f4c86deb26a69bb88"
   }
  }
 },
 "nbformat": 4,
 "nbformat_minor": 2
}
