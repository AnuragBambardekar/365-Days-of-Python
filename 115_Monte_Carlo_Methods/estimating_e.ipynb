{
 "cells": [
  {
   "attachments": {},
   "cell_type": "markdown",
   "metadata": {},
   "source": [
    "# Estimating e [Euler's number]"
   ]
  },
  {
   "attachments": {},
   "cell_type": "markdown",
   "metadata": {},
   "source": [
    "e (Euler's number) is a mathematical constant that is approximately equal to 2.71828. It is a very important number in calculus, as it appears in a wide range of mathematical formulas and models."
   ]
  },
  {
   "attachments": {},
   "cell_type": "markdown",
   "metadata": {},
   "source": [
    "## Algorithm\n",
    "\n",
    "Here are the rules:\n",
    "\n",
    "Start with A = 0 and B = 0.\n",
    "\n",
    "If A is less than 1, add a random value between 0 and 1 to A. Increment B by one.\n",
    "\n",
    "Repeat step 2 until A \"busts\", or becomes greater than one, and append the integer B to a list.\n",
    "\n",
    "Repeat steps 1-3 many times.\n",
    "\n",
    "Determine the average and 95% confidence interval, for how many values can be added until A \"busts\", and plot them as a function of number of iterations of the simulation.\n",
    "\n",
    "The expected number of random values between 0 and 1 to make the value bust is Euler's Number, meaning the more times we try the above process, the closer our estimated value gets to the true value of e, and the smaller our confidence interval becomes."
   ]
  },
  {
   "cell_type": "code",
   "execution_count": 10,
   "metadata": {},
   "outputs": [
    {
     "name": "stdout",
     "output_type": "stream",
     "text": [
      "Mean value of iterations: 2.7244\n",
      "95% confidence interval: (2.707041844814107, 2.7417581551858934)\n"
     ]
    }
   ],
   "source": [
    "import random\n",
    "import statistics\n",
    "\n",
    "def estimate_euler_number(num_simulations):\n",
    "    results = []\n",
    "    for i in range(num_simulations):\n",
    "        A, B = 0, 0\n",
    "        while A < 1:\n",
    "            A += random.random()\n",
    "            B += 1\n",
    "        results.append(B)\n",
    "    mean = statistics.mean(results)\n",
    "    std_dev = statistics.stdev(results)\n",
    "    conf_int = (mean - 1.96*std_dev/num_simulations**0.5, mean + 1.96*std_dev/num_simulations**0.5)\n",
    "    return mean, conf_int\n",
    "\n",
    "# Example usage\n",
    "mean, conf_int = estimate_euler_number(10000)\n",
    "print(f\"Mean value of iterations: {mean}\")\n",
    "print(f\"95% confidence interval: {conf_int}\")\n"
   ]
  },
  {
   "cell_type": "code",
   "execution_count": null,
   "metadata": {},
   "outputs": [],
   "source": []
  }
 ],
 "metadata": {
  "kernelspec": {
   "display_name": "Python 3",
   "language": "python",
   "name": "python3"
  },
  "language_info": {
   "codemirror_mode": {
    "name": "ipython",
    "version": 3
   },
   "file_extension": ".py",
   "mimetype": "text/x-python",
   "name": "python",
   "nbconvert_exporter": "python",
   "pygments_lexer": "ipython3",
   "version": "3.10.8"
  },
  "orig_nbformat": 4
 },
 "nbformat": 4,
 "nbformat_minor": 2
}
