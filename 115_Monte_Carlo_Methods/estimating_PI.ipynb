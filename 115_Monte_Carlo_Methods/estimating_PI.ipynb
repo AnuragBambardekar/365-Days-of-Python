{
 "cells": [
  {
   "attachments": {},
   "cell_type": "markdown",
   "metadata": {},
   "source": [
    "# Estimating the value of Pi using Monte Carlo Methods"
   ]
  },
  {
   "attachments": {},
   "cell_type": "markdown",
   "metadata": {},
   "source": [
    "Monte Carlo methods, or Monte Carlo experiments, are a broad class of computational algorithms that rely on repeated random sampling to obtain numerical results. The underlying concept is to use randomness to solve problems that might be deterministic in principle. They are often used in physical and mathematical problems and are most useful when it is difficult or impossible to use other approaches. Monte Carlo methods are mainly used in three problem classes: optimization, numerical integration, and generating draws from a probability distribution. ~ [Wiki]"
   ]
  },
  {
   "attachments": {},
   "cell_type": "markdown",
   "metadata": {},
   "source": [
    "## Estimation of Pi\n",
    "\n",
    "The idea is to simulate random (x, y) points in a 2-D plane with domain as a square of side 2r units centered on (0,0). Imagine a circle inside the same domain with same radius r and inscribed into the square. We then calculate the ratio of number points that lied inside the circle and total number of generated points."
   ]
  },
  {
   "attachments": {},
   "cell_type": "markdown",
   "metadata": {},
   "source": [
    "The area of a square with radius $r$ is $4r^2$ unit sq, while the area of a circle is $\\pi r^2$.\n"
   ]
  },
  {
   "attachments": {},
   "cell_type": "markdown",
   "metadata": {},
   "source": [
    "The ratio of the area of a circle to the area of a square is $\\frac{\\pi r^2}{4r^2} = \\frac{\\pi}{4}$.\n"
   ]
  },
  {
   "attachments": {},
   "cell_type": "markdown",
   "metadata": {},
   "source": [
    "Now, for a very large number of generated points: $\\pi = 4 * \\frac{no. of points generated inside the circle}{no. of points generated inside the square}$.\n"
   ]
  },
  {
   "attachments": {},
   "cell_type": "markdown",
   "metadata": {},
   "source": [
    "We simply generate random (x, y) pairs and then check if $x^2 + y^2 \\leq 1$."
   ]
  },
  {
   "attachments": {},
   "cell_type": "markdown",
   "metadata": {},
   "source": [
    "If yes, we increment the number of points that appears inside the circle. In randomized and simulation algorithms like Monte Carlo, the more the number of iterations, the more accurate the result is. \n",
    "\n",
    "Thus, the title is <span style=\"color:green\">\"Estimating the value of Pi\"</span> and not <span style=\"color:red\">\"Calculating the value of Pi\"</span>. "
   ]
  },
  {
   "cell_type": "code",
   "execution_count": 1,
   "metadata": {},
   "outputs": [
    {
     "name": "stdout",
     "output_type": "stream",
     "text": [
      "Final Estimation of Pi= 3.144476\n"
     ]
    }
   ],
   "source": [
    "import random\n",
    " \n",
    "INTERVAL = 1000\n",
    " \n",
    "circle_points = 0\n",
    "square_points = 0\n",
    " \n",
    "# Total Random numbers generated= possible x\n",
    "# values* possible y values\n",
    "for i in range(INTERVAL**2):\n",
    " \n",
    "    # Randomly generated x and y values from a\n",
    "    # uniform distribution\n",
    "    # Range of x and y values is -1 to 1\n",
    "    rand_x = random.uniform(-1, 1)\n",
    "    rand_y = random.uniform(-1, 1)\n",
    " \n",
    "    # Distance between (x, y) from the origin\n",
    "    origin_dist = rand_x**2 + rand_y**2\n",
    " \n",
    "    # Checking if (x, y) lies inside the circle\n",
    "    if origin_dist <= 1:\n",
    "        circle_points += 1\n",
    " \n",
    "    square_points += 1\n",
    " \n",
    "    # Estimating value of pi,\n",
    "    # pi= 4*(no. of points generated inside the\n",
    "    # circle)/ (no. of points generated inside the square)\n",
    "    pi = 4 * circle_points / square_points\n",
    " \n",
    "##    print(rand_x, rand_y, circle_points, square_points, \"-\", pi)\n",
    "# print(\"\\n\")\n",
    " \n",
    "print(\"Final Estimation of Pi=\", pi)"
   ]
  },
  {
   "attachments": {},
   "cell_type": "markdown",
   "metadata": {},
   "source": [
    "### Why do we want to estimate PI when it is already a well-known constant?\n",
    "\n",
    "There are situations where estimating pi using Monte Carlo simulations can be useful.\n",
    "\n",
    "Here are some examples:\n",
    "\n",
    "- Testing and verifying other algorithms: Monte Carlo simulations can be used to verify and test other algorithms used to compute pi. By comparing the results obtained from Monte Carlo simulations with the results obtained from other methods, researchers can verify the accuracy and reliability of other algorithms used to compute pi.\n",
    "\n",
    "- Educational purposes: Estimating pi using Monte Carlo simulations can be an effective way to teach students about probability and random processes. It can be a fun and engaging way to introduce students to the concept of pi and help them understand its properties.\n",
    "\n",
    "- High-dimensional integration: Monte Carlo simulations are often used to compute integrals of high-dimensional functions. The value of pi can be used as an example of such an integral. In these cases, estimating pi using Monte Carlo simulations can be a useful tool for researchers and scientists working in various fields.\n",
    "\n",
    "- Large-scale simulations: In some cases, estimating pi using Monte Carlo simulations can be faster and more efficient than using other methods to compute pi, especially for large-scale simulations.\n",
    "\n",
    "~[ChatGPT]"
   ]
  },
  {
   "attachments": {},
   "cell_type": "markdown",
   "metadata": {},
   "source": [
    "Another Implementation"
   ]
  },
  {
   "cell_type": "code",
   "execution_count": 3,
   "metadata": {},
   "outputs": [
    {
     "name": "stdout",
     "output_type": "stream",
     "text": [
      "Final Estimation of Pi =  3.14036\n"
     ]
    }
   ],
   "source": [
    "import random\n",
    "import time\n",
    " \n",
    "# Function to find estimated\n",
    "# value of PI using Monte\n",
    "# Carlo algorithm\n",
    "def monteCarlo(N):\n",
    " \n",
    "    # Stores X and Y coordinates\n",
    "    # of a random point\n",
    "    x = 0\n",
    "    y = 0\n",
    "     \n",
    "    # Stores distance of a random\n",
    "    # point from origin\n",
    "    d = 0\n",
    "     \n",
    "    # Stores number of points\n",
    "    # lying inside circle\n",
    "    pCircle = 0\n",
    "     \n",
    "    # Stores number of points\n",
    "    # lying inside square\n",
    "    pSquare = 0\n",
    "     \n",
    "    # Initializes random points\n",
    "    # with a seed\n",
    "    random.seed(time.time())\n",
    "     \n",
    "    for i in range(N):\n",
    "     \n",
    "        # Finds random X co-ordinate\n",
    "        x = random.random()\n",
    "     \n",
    "        # Finds random X co-ordinate\n",
    "        y = random.random()\n",
    "     \n",
    "        # Finds the square of distance\n",
    "        # of point (x, y) from origin\n",
    "        d = (x * x) + (y * y)\n",
    "     \n",
    "        # If d is less than or\n",
    "        # equal to 1\n",
    "        if d <= 1:\n",
    "            # Increment pCircle by 1\n",
    "            pCircle += 1\n",
    "     \n",
    "        # Increment pSquare by 1\n",
    "        pSquare += 1\n",
    " \n",
    "        # Stores the estimated value of PI\n",
    "        pi = 4.0 * (pCircle / pSquare)\n",
    "         \n",
    "    # Prints the value in pi\n",
    "    print(\"Final Estimation of Pi = \", pi)\n",
    " \n",
    "# Driver Code\n",
    " \n",
    "# Input\n",
    "N = 100000\n",
    " \n",
    "# Function call\n",
    "monteCarlo(N)"
   ]
  },
  {
   "cell_type": "code",
   "execution_count": null,
   "metadata": {},
   "outputs": [],
   "source": []
  }
 ],
 "metadata": {
  "kernelspec": {
   "display_name": "Python 3",
   "language": "python",
   "name": "python3"
  },
  "language_info": {
   "codemirror_mode": {
    "name": "ipython",
    "version": 3
   },
   "file_extension": ".py",
   "mimetype": "text/x-python",
   "name": "python",
   "nbconvert_exporter": "python",
   "pygments_lexer": "ipython3",
   "version": "3.10.8"
  },
  "orig_nbformat": 4
 },
 "nbformat": 4,
 "nbformat_minor": 2
}
