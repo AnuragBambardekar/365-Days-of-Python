{
 "cells": [
  {
   "attachments": {},
   "cell_type": "markdown",
   "metadata": {},
   "source": [
    "# Disarium Number"
   ]
  },
  {
   "attachments": {},
   "cell_type": "markdown",
   "metadata": {},
   "source": [
    "A disarium number is a number that can be expressed as the sum of its digits, raised to the power of their respective positions. For example, the number 135 is a disarium number because 1^1 + 3^2 + 5^3 = 135."
   ]
  },
  {
   "cell_type": "code",
   "execution_count": 6,
   "metadata": {},
   "outputs": [
    {
     "name": "stdout",
     "output_type": "stream",
     "text": [
      "True\n",
      "True\n",
      "True\n",
      "False\n"
     ]
    }
   ],
   "source": [
    "def is_disarium(num):\n",
    "    n = num\n",
    "    digits = []\n",
    "    while n > 0:\n",
    "        digits.append(n % 10) # get the digits\n",
    "        n = n // 10\n",
    "    length = len(digits)\n",
    "    sum = 0\n",
    "    for i in range(length):\n",
    "        #print(digits[i])\n",
    "        sum += digits[i] ** (length - i) #last digit ^ index of last digit\n",
    "        #print(sum)\n",
    "    #print(num)\n",
    "    return sum == num\n",
    "\n",
    "print(is_disarium(135)) # True\n",
    "print(is_disarium(89)) # True\n",
    "print(is_disarium(175)) # True\n",
    "print(is_disarium(33)) # True\n"
   ]
  },
  {
   "attachments": {},
   "cell_type": "markdown",
   "metadata": {},
   "source": [
    "### Disarium Numbers upto 1000"
   ]
  },
  {
   "cell_type": "code",
   "execution_count": 8,
   "metadata": {},
   "outputs": [
    {
     "name": "stdout",
     "output_type": "stream",
     "text": [
      "1\n",
      "2\n",
      "3\n",
      "4\n",
      "5\n",
      "6\n",
      "7\n",
      "8\n",
      "9\n",
      "89\n",
      "135\n",
      "175\n",
      "518\n",
      "598\n"
     ]
    }
   ],
   "source": [
    "def print_disarium_numbers(start, end):\n",
    "    for i in range(start, end + 1):\n",
    "        if is_disarium(i):\n",
    "            print(i)\n",
    "\n",
    "# Test\n",
    "print_disarium_numbers(1, 1000)\n"
   ]
  }
 ],
 "metadata": {
  "kernelspec": {
   "display_name": "Python 3",
   "language": "python",
   "name": "python3"
  },
  "language_info": {
   "codemirror_mode": {
    "name": "ipython",
    "version": 3
   },
   "file_extension": ".py",
   "mimetype": "text/x-python",
   "name": "python",
   "nbconvert_exporter": "python",
   "pygments_lexer": "ipython3",
   "version": "3.10.7"
  },
  "orig_nbformat": 4,
  "vscode": {
   "interpreter": {
    "hash": "fbfacf25abbc4466cbf6a4ec94f71aa428570133f008ac9f4c86deb26a69bb88"
   }
  }
 },
 "nbformat": 4,
 "nbformat_minor": 2
}
