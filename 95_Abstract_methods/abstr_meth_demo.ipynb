{
 "cells": [
  {
   "attachments": {},
   "cell_type": "markdown",
   "metadata": {},
   "source": [
    "# Abstract Methods in Python"
   ]
  },
  {
   "attachments": {},
   "cell_type": "markdown",
   "metadata": {},
   "source": [
    "In Python, an abstract method is a method that has a declaration in a base class, but does not have any implementation. This means that any class that inherits from the base class must implement the abstract method in its own class."
   ]
  },
  {
   "cell_type": "code",
   "execution_count": 1,
   "metadata": {},
   "outputs": [
    {
     "name": "stdout",
     "output_type": "stream",
     "text": [
      "Doing something in MyClass\n"
     ]
    }
   ],
   "source": [
    "import abc\n",
    "\n",
    "class MyABC(metaclass=abc.ABCMeta):\n",
    "\n",
    "    @abc.abstractmethod\n",
    "    def do_something(self):\n",
    "        pass\n",
    "\n",
    "class MyClass(MyABC):\n",
    "\n",
    "    def do_something(self):\n",
    "        print(\"Doing something in MyClass\")\n",
    "\n",
    "obj = MyClass()\n",
    "obj.do_something()\n"
   ]
  },
  {
   "cell_type": "code",
   "execution_count": 3,
   "metadata": {},
   "outputs": [],
   "source": [
    "from abc import ABC, abstractmethod\n",
    "\n",
    "class Phone(ABC):\n",
    "    def __init__(self, model:str):\n",
    "        self.model = model\n",
    "\n",
    "\n",
    "    def power(self):\n",
    "        raise NotImplementedError\n",
    "\n",
    "\n",
    "    def call_target(self, name: str):\n",
    "        raise NotImplementedError\n",
    "\n",
    "\n",
    "phone = Phone(\"iBanana\")"
   ]
  },
  {
   "cell_type": "code",
   "execution_count": 4,
   "metadata": {},
   "outputs": [
    {
     "ename": "TypeError",
     "evalue": "Can't instantiate abstract class Phone with abstract methods call_target, power",
     "output_type": "error",
     "traceback": [
      "\u001b[1;31m---------------------------------------------------------------------------\u001b[0m",
      "\u001b[1;31mTypeError\u001b[0m                                 Traceback (most recent call last)",
      "\u001b[1;32mc:\\Users\\anura\\Documents\\VSCode_Workspace\\365-Days-of-Python\\95_Abstract_methods\\abstr_meth_demo.ipynb Cell 5\u001b[0m in \u001b[0;36m1\n\u001b[0;32m     <a href='vscode-notebook-cell:/c%3A/Users/anura/Documents/VSCode_Workspace/365-Days-of-Python/95_Abstract_methods/abstr_meth_demo.ipynb#W3sZmlsZQ%3D%3D?line=11'>12</a>\u001b[0m     \u001b[39m@abstractmethod\u001b[39m\n\u001b[0;32m     <a href='vscode-notebook-cell:/c%3A/Users/anura/Documents/VSCode_Workspace/365-Days-of-Python/95_Abstract_methods/abstr_meth_demo.ipynb#W3sZmlsZQ%3D%3D?line=12'>13</a>\u001b[0m     \u001b[39mdef\u001b[39;00m \u001b[39mcall_target\u001b[39m(\u001b[39mself\u001b[39m, name: \u001b[39mstr\u001b[39m):\n\u001b[0;32m     <a href='vscode-notebook-cell:/c%3A/Users/anura/Documents/VSCode_Workspace/365-Days-of-Python/95_Abstract_methods/abstr_meth_demo.ipynb#W3sZmlsZQ%3D%3D?line=13'>14</a>\u001b[0m         \u001b[39m.\u001b[39m\u001b[39m.\u001b[39m\u001b[39m.\u001b[39m\n\u001b[1;32m---> <a href='vscode-notebook-cell:/c%3A/Users/anura/Documents/VSCode_Workspace/365-Days-of-Python/95_Abstract_methods/abstr_meth_demo.ipynb#W3sZmlsZQ%3D%3D?line=16'>17</a>\u001b[0m phone \u001b[39m=\u001b[39m Phone(\u001b[39m\"\u001b[39m\u001b[39mBanana\u001b[39m\u001b[39m\"\u001b[39m)\n",
      "\u001b[1;31mTypeError\u001b[0m: Can't instantiate abstract class Phone with abstract methods call_target, power"
     ]
    }
   ],
   "source": [
    "from abc import ABC, abstractmethod\n",
    "\n",
    "class Phone(ABC):\n",
    "    def __init__(self, model:str):\n",
    "        self.model = model\n",
    "\n",
    "    @property\n",
    "    @abstractmethod\n",
    "    def power(self):\n",
    "        ...\n",
    "\n",
    "    @abstractmethod\n",
    "    def call_target(self, name: str):\n",
    "        ...\n",
    "\n",
    "\n",
    "phone = Phone(\"Banana\")"
   ]
  },
  {
   "attachments": {},
   "cell_type": "markdown",
   "metadata": {},
   "source": [
    "Have to create a subclass to instantiate it"
   ]
  },
  {
   "cell_type": "code",
   "execution_count": 5,
   "metadata": {},
   "outputs": [
    {
     "ename": "TypeError",
     "evalue": "Can't instantiate abstract class iBanana with abstract methods call_target, power",
     "output_type": "error",
     "traceback": [
      "\u001b[1;31m---------------------------------------------------------------------------\u001b[0m",
      "\u001b[1;31mTypeError\u001b[0m                                 Traceback (most recent call last)",
      "\u001b[1;32mc:\\Users\\anura\\Documents\\VSCode_Workspace\\365-Days-of-Python\\95_Abstract_methods\\abstr_meth_demo.ipynb Cell 7\u001b[0m in \u001b[0;36m2\n\u001b[0;32m     <a href='vscode-notebook-cell:/c%3A/Users/anura/Documents/VSCode_Workspace/365-Days-of-Python/95_Abstract_methods/abstr_meth_demo.ipynb#W5sZmlsZQ%3D%3D?line=16'>17</a>\u001b[0m     \u001b[39mdef\u001b[39;00m \u001b[39m__init__\u001b[39m(\u001b[39mself\u001b[39m, model:\u001b[39mstr\u001b[39m):\n\u001b[0;32m     <a href='vscode-notebook-cell:/c%3A/Users/anura/Documents/VSCode_Workspace/365-Days-of-Python/95_Abstract_methods/abstr_meth_demo.ipynb#W5sZmlsZQ%3D%3D?line=17'>18</a>\u001b[0m         \u001b[39msuper\u001b[39m()\u001b[39m.\u001b[39m\u001b[39m__init__\u001b[39m(model)\n\u001b[1;32m---> <a href='vscode-notebook-cell:/c%3A/Users/anura/Documents/VSCode_Workspace/365-Days-of-Python/95_Abstract_methods/abstr_meth_demo.ipynb#W5sZmlsZQ%3D%3D?line=19'>20</a>\u001b[0m ibanana \u001b[39m=\u001b[39m iBanana(\u001b[39m\"\u001b[39m\u001b[39miBanana\u001b[39m\u001b[39m\"\u001b[39m)\n",
      "\u001b[1;31mTypeError\u001b[0m: Can't instantiate abstract class iBanana with abstract methods call_target, power"
     ]
    }
   ],
   "source": [
    "from abc import ABC, abstractmethod\n",
    "\n",
    "class Phone(ABC):\n",
    "    def __init__(self, model:str):\n",
    "        self.model = model\n",
    "\n",
    "    @property\n",
    "    @abstractmethod\n",
    "    def power(self):\n",
    "        ...\n",
    "\n",
    "    @abstractmethod\n",
    "    def call_target(self, name: str):\n",
    "        ...\n",
    "\n",
    "class iBanana(Phone):\n",
    "    def __init__(self, model:str):\n",
    "        super().__init__(model)\n",
    "\n",
    "ibanana = iBanana(\"iBanana\")"
   ]
  },
  {
   "cell_type": "code",
   "execution_count": 9,
   "metadata": {},
   "outputs": [
    {
     "name": "stdout",
     "output_type": "stream",
     "text": [
      "50% battery remaining!\n"
     ]
    }
   ],
   "source": [
    "from abc import ABC, abstractmethod\n",
    "\n",
    "class Phone(ABC):\n",
    "    def __init__(self, model:str):\n",
    "        self.model = model\n",
    "\n",
    "    @property\n",
    "    @abstractmethod\n",
    "    def power(self):\n",
    "        ...\n",
    "\n",
    "    @abstractmethod\n",
    "    def call_target(self, name: str):\n",
    "        ...\n",
    "\n",
    "class iBanana(Phone):\n",
    "    def __init__(self, model:str):\n",
    "        super().__init__(model)\n",
    "\n",
    "    @property\n",
    "    def power(self):\n",
    "        return '50% battery remaining!'\n",
    "\n",
    "    def call_target(self, name: str):\n",
    "        raise NotImplementedError('Code Missing!')\n",
    "\n",
    "\n",
    "ibanana = iBanana(\"iBanana\")\n",
    "print(ibanana.power)\n"
   ]
  },
  {
   "cell_type": "code",
   "execution_count": 10,
   "metadata": {},
   "outputs": [
    {
     "ename": "NotImplementedError",
     "evalue": "Code Missing!",
     "output_type": "error",
     "traceback": [
      "\u001b[1;31m---------------------------------------------------------------------------\u001b[0m",
      "\u001b[1;31mNotImplementedError\u001b[0m                       Traceback (most recent call last)",
      "\u001b[1;32mc:\\Users\\anura\\Documents\\VSCode_Workspace\\365-Days-of-Python\\95_Abstract_methods\\abstr_meth_demo.ipynb Cell 9\u001b[0m in \u001b[0;36m1\n\u001b[1;32m----> <a href='vscode-notebook-cell:/c%3A/Users/anura/Documents/VSCode_Workspace/365-Days-of-Python/95_Abstract_methods/abstr_meth_demo.ipynb#X11sZmlsZQ%3D%3D?line=0'>1</a>\u001b[0m ibanana\u001b[39m.\u001b[39mcall_target(\u001b[39m'\u001b[39m\u001b[39mLuigi\u001b[39m\u001b[39m'\u001b[39m)\n",
      "\u001b[1;32mc:\\Users\\anura\\Documents\\VSCode_Workspace\\365-Days-of-Python\\95_Abstract_methods\\abstr_meth_demo.ipynb Cell 9\u001b[0m in \u001b[0;36m2\n\u001b[0;32m     <a href='vscode-notebook-cell:/c%3A/Users/anura/Documents/VSCode_Workspace/365-Days-of-Python/95_Abstract_methods/abstr_meth_demo.ipynb#X11sZmlsZQ%3D%3D?line=23'>24</a>\u001b[0m \u001b[39mdef\u001b[39;00m \u001b[39mcall_target\u001b[39m(\u001b[39mself\u001b[39m, name: \u001b[39mstr\u001b[39m):\n\u001b[1;32m---> <a href='vscode-notebook-cell:/c%3A/Users/anura/Documents/VSCode_Workspace/365-Days-of-Python/95_Abstract_methods/abstr_meth_demo.ipynb#X11sZmlsZQ%3D%3D?line=24'>25</a>\u001b[0m     \u001b[39mraise\u001b[39;00m \u001b[39mNotImplementedError\u001b[39;00m(\u001b[39m'\u001b[39m\u001b[39mCode Missing!\u001b[39m\u001b[39m'\u001b[39m)\n",
      "\u001b[1;31mNotImplementedError\u001b[0m: Code Missing!"
     ]
    }
   ],
   "source": [
    "ibanana.call_target('Luigi')"
   ]
  },
  {
   "attachments": {},
   "cell_type": "markdown",
   "metadata": {},
   "source": [
    "## An Example use case:"
   ]
  },
  {
   "cell_type": "code",
   "execution_count": 12,
   "metadata": {},
   "outputs": [
    {
     "name": "stdout",
     "output_type": "stream",
     "text": [
      "I can walk and run\n",
      "I can crawl\n",
      "I can bark\n"
     ]
    }
   ],
   "source": [
    "from abc import ABC, abstractmethod \n",
    "\n",
    "class Animal(ABC): \n",
    "  \n",
    "    @abstractmethod \n",
    "    def move(self): \n",
    "        pass\n",
    "  \n",
    "class Human(Animal): \n",
    "  \n",
    "    def move(self): \n",
    "        print(\"I can walk and run\") \n",
    "  \n",
    "class Snake(Animal): \n",
    "  \n",
    "    def move(self): \n",
    "        print(\"I can crawl\") \n",
    "  \n",
    "class Dog(Animal): \n",
    "  \n",
    "    def move(self): \n",
    "        print(\"I can bark\") \n",
    "  \n",
    "R = Human() \n",
    "R.move() \n",
    "  \n",
    "K = Snake() \n",
    "K.move() \n",
    "  \n",
    "R = Dog() \n",
    "R.move()"
   ]
  }
 ],
 "metadata": {
  "kernelspec": {
   "display_name": "Python 3",
   "language": "python",
   "name": "python3"
  },
  "language_info": {
   "codemirror_mode": {
    "name": "ipython",
    "version": 3
   },
   "file_extension": ".py",
   "mimetype": "text/x-python",
   "name": "python",
   "nbconvert_exporter": "python",
   "pygments_lexer": "ipython3",
   "version": "3.10.8"
  },
  "orig_nbformat": 4
 },
 "nbformat": 4,
 "nbformat_minor": 2
}
