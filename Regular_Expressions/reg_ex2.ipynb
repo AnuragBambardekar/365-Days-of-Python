{
 "cells": [
  {
   "attachments": {},
   "cell_type": "markdown",
   "metadata": {},
   "source": [
    "# More Practice on Regular Expressions"
   ]
  },
  {
   "cell_type": "code",
   "execution_count": 1,
   "metadata": {},
   "outputs": [],
   "source": [
    "import re"
   ]
  },
  {
   "cell_type": "code",
   "execution_count": 12,
   "metadata": {},
   "outputs": [],
   "source": [
    "pattern = re.compile(\"^[A-Z]+$\") #Uppercase word, one or more\n",
    "pattern1 = re.compile(\"^[a-z]+$\")\n",
    "pattern2 = re.compile(\"[A-Z]\")"
   ]
  },
  {
   "cell_type": "code",
   "execution_count": 13,
   "metadata": {},
   "outputs": [
    {
     "name": "stdout",
     "output_type": "stream",
     "text": [
      "None\n",
      "None\n",
      "<re.Match object; span=(0, 10), match='HELLOWORLD'>\n",
      "<re.Match object; span=(0, 1), match='H'>\n",
      "None\n"
     ]
    }
   ],
   "source": [
    "print(pattern.search(\"Hello World\"))\n",
    "print(pattern.search(\"HELLo WORLD\"))\n",
    "print(pattern.search(\"HELLOWORLD\"))\n",
    "print(pattern.search(\"H\"))\n",
    "print(pattern.search(\"helloworld\"))"
   ]
  },
  {
   "cell_type": "code",
   "execution_count": 14,
   "metadata": {},
   "outputs": [
    {
     "name": "stdout",
     "output_type": "stream",
     "text": [
      "None\n",
      "None\n",
      "None\n",
      "None\n",
      "<re.Match object; span=(0, 10), match='helloworld'>\n"
     ]
    }
   ],
   "source": [
    "print(pattern1.search(\"Hello World\"))\n",
    "print(pattern1.search(\"HELLo WORLD\"))\n",
    "print(pattern1.search(\"HELLOWORLD\"))\n",
    "print(pattern1.search(\"H\"))\n",
    "print(pattern1.search(\"helloworld\"))"
   ]
  },
  {
   "cell_type": "code",
   "execution_count": 15,
   "metadata": {},
   "outputs": [
    {
     "name": "stdout",
     "output_type": "stream",
     "text": [
      "<re.Match object; span=(0, 1), match='H'>\n",
      "<re.Match object; span=(0, 1), match='H'>\n",
      "<re.Match object; span=(0, 1), match='H'>\n",
      "<re.Match object; span=(0, 1), match='H'>\n",
      "None\n"
     ]
    }
   ],
   "source": [
    "print(pattern2.search(\"Hello World\"))\n",
    "print(pattern2.search(\"HELLo WORLD\"))\n",
    "print(pattern2.search(\"HELLOWORLD\"))\n",
    "print(pattern2.search(\"H\"))\n",
    "print(pattern2.search(\"helloworld\"))"
   ]
  },
  {
   "attachments": {},
   "cell_type": "markdown",
   "metadata": {},
   "source": [
    "match function vs search function"
   ]
  },
  {
   "cell_type": "code",
   "execution_count": 16,
   "metadata": {},
   "outputs": [],
   "source": [
    "pattern3 = re.compile(\"[a-z]+\")"
   ]
  },
  {
   "cell_type": "code",
   "execution_count": 18,
   "metadata": {},
   "outputs": [
    {
     "name": "stdout",
     "output_type": "stream",
     "text": [
      "None\n",
      "None\n",
      "None\n",
      "None\n",
      "<re.Match object; span=(0, 5), match='hello'>\n",
      "<re.Match object; span=(0, 10), match='helloworld'>\n"
     ]
    }
   ],
   "source": [
    "print(pattern3.match(\"Hello World\"))\n",
    "print(pattern3.match(\"HELLo WORLD\"))\n",
    "print(pattern3.match(\"HELLOWORLD\"))\n",
    "print(pattern3.match(\"H\"))\n",
    "print(pattern3.match(\"hello world\"))\n",
    "print(pattern3.match(\"helloworld\"))"
   ]
  },
  {
   "cell_type": "code",
   "execution_count": 19,
   "metadata": {},
   "outputs": [
    {
     "name": "stdout",
     "output_type": "stream",
     "text": [
      "<re.Match object; span=(1, 5), match='ello'>\n",
      "<re.Match object; span=(4, 5), match='o'>\n",
      "None\n",
      "None\n",
      "<re.Match object; span=(0, 5), match='hello'>\n",
      "<re.Match object; span=(0, 10), match='helloworld'>\n"
     ]
    }
   ],
   "source": [
    "print(pattern3.search(\"Hello World\"))\n",
    "print(pattern3.search(\"HELLo WORLD\"))\n",
    "print(pattern3.search(\"HELLOWORLD\"))\n",
    "print(pattern3.search(\"H\"))\n",
    "print(pattern3.search(\"hello world\"))\n",
    "print(pattern3.search(\"helloworld\"))"
   ]
  },
  {
   "attachments": {},
   "cell_type": "markdown",
   "metadata": {},
   "source": [
    "However if we put ^[a-z]+$, and use search function, then search string should conform to search pattern."
   ]
  },
  {
   "cell_type": "code",
   "execution_count": 20,
   "metadata": {},
   "outputs": [],
   "source": [
    "pattern4 = re.compile(\"^[a-zA-Z\\s]+$\") #lowercase, uppercase, sapce"
   ]
  },
  {
   "cell_type": "code",
   "execution_count": 21,
   "metadata": {},
   "outputs": [
    {
     "name": "stdout",
     "output_type": "stream",
     "text": [
      "<re.Match object; span=(0, 11), match='Hello World'>\n",
      "<re.Match object; span=(0, 11), match='HELLo WORLD'>\n",
      "<re.Match object; span=(0, 10), match='HELLOWORLD'>\n",
      "<re.Match object; span=(0, 1), match='H'>\n",
      "<re.Match object; span=(0, 11), match='hello world'>\n",
      "<re.Match object; span=(0, 10), match='helloworld'>\n",
      "None\n"
     ]
    }
   ],
   "source": [
    "print(pattern4.search(\"Hello World\"))\n",
    "print(pattern4.search(\"HELLo WORLD\"))\n",
    "print(pattern4.search(\"HELLOWORLD\"))\n",
    "print(pattern4.search(\"H\"))\n",
    "print(pattern4.search(\"hello world\"))\n",
    "print(pattern4.search(\"helloworld\"))\n",
    "print(pattern4.search(\"hello w8rld\"))"
   ]
  },
  {
   "attachments": {},
   "cell_type": "markdown",
   "metadata": {},
   "source": [
    "### Check for this pattern with RegEx: <br>3 lower case letter, 3-5 digits, one symbol, up to two uppercase characters (optional)"
   ]
  },
  {
   "cell_type": "code",
   "execution_count": 22,
   "metadata": {},
   "outputs": [],
   "source": [
    "pattern5 = re.compile(\"^[a-z]{3}[0-9]{3,5}[^a-zA-Z0-9]{1}[A-Z]{0,2}$\")"
   ]
  },
  {
   "cell_type": "code",
   "execution_count": 25,
   "metadata": {},
   "outputs": [
    {
     "name": "stdout",
     "output_type": "stream",
     "text": [
      "<re.Match object; span=(0, 10), match='ahb3456#AB'>\n",
      "None\n",
      "None\n",
      "<re.Match object; span=(0, 11), match='lll44432#AB'>\n",
      "<re.Match object; span=(0, 10), match='ahb3456#AB'>\n"
     ]
    }
   ],
   "source": [
    "print(pattern5.search(\"ahb3456#AB\"))\n",
    "print(pattern5.search(\"lll22424,4\"))\n",
    "print(pattern5.search(\"lll22424,l\"))\n",
    "print(pattern5.search(\"lll44432#AB\"))\n",
    "print(pattern5.search(\"ahb3456#AB\"))"
   ]
  },
  {
   "cell_type": "code",
   "execution_count": 26,
   "metadata": {},
   "outputs": [],
   "source": [
    "pattern6 = re.compile(\"^.{10}$\")"
   ]
  },
  {
   "cell_type": "code",
   "execution_count": 27,
   "metadata": {},
   "outputs": [
    {
     "name": "stdout",
     "output_type": "stream",
     "text": [
      "<re.Match object; span=(0, 10), match='abcdefghij'>\n",
      "<re.Match object; span=(0, 10), match='0123456789'>\n",
      "<re.Match object; span=(0, 10), match='0.2#4JJ 89'>\n",
      "None\n",
      "None\n"
     ]
    }
   ],
   "source": [
    "print(pattern6.search(\"abcdefghij\"))\n",
    "print(pattern6.search(\"0123456789\"))\n",
    "print(pattern6.search(\"0.2#4JJ 89\"))\n",
    "print(pattern6.search(\"abcdefghijk\"))\n",
    "print(pattern6.search(\"abcdefghi\"))"
   ]
  },
  {
   "attachments": {},
   "cell_type": "markdown",
   "metadata": {},
   "source": [
    "#### Validating Emails"
   ]
  },
  {
   "cell_type": "code",
   "execution_count": 42,
   "metadata": {},
   "outputs": [],
   "source": [
    "pattern7 = re.compile(\"[a-zA-Z0-9_.+-]+@[a-zA-Z0-9-]+\\.{1}[a-zA-Z0-9-.]+\")"
   ]
  },
  {
   "cell_type": "code",
   "execution_count": 43,
   "metadata": {},
   "outputs": [
    {
     "name": "stdout",
     "output_type": "stream",
     "text": [
      "<re.Match object; span=(0, 14), match='mail@bamba.com'>\n",
      "<re.Match object; span=(0, 13), match='mail@test.com'>\n",
      "<re.Match object; span=(0, 21), match='mai_l.e-mail@bamba.fr'>\n",
      "<re.Match object; span=(0, 22), match='something@bdsdamba.com'>\n",
      "None\n",
      "<re.Match object; span=(0, 18), match='mail@bdsdamba.game'>\n",
      "None\n",
      "<re.Match object; span=(0, 19), match='mail@bdsdamba..game'>\n"
     ]
    }
   ],
   "source": [
    "print(pattern7.search(\"mail@bamba.com\"))\n",
    "print(pattern7.search(\"mail@test.com\"))\n",
    "print(pattern7.search(\"mai_l.e-mail@bamba.fr\"))\n",
    "print(pattern7.search(\"something@bdsdamba.com\"))\n",
    "print(pattern7.search(\"mail@bdsdambacom\"))\n",
    "print(pattern7.search(\"mail@bdsdamba.game\"))\n",
    "print(pattern7.search(\"mail@@bdsdamba.game\"))\n",
    "print(pattern7.search(\"mail@bdsdamba..game\"))"
   ]
  },
  {
   "cell_type": "code",
   "execution_count": 44,
   "metadata": {},
   "outputs": [],
   "source": [
    "pattern8 = re.compile(\"[a-zA-Z0-9_.+-]+@{1}[a-zA-Z0-9-]+\\.{1}[a-zA-Z0-9-.]{2,3}\")"
   ]
  },
  {
   "cell_type": "code",
   "execution_count": 45,
   "metadata": {},
   "outputs": [
    {
     "name": "stdout",
     "output_type": "stream",
     "text": [
      "<re.Match object; span=(0, 14), match='mail@bamba.com'>\n",
      "<re.Match object; span=(0, 13), match='mail@test.com'>\n",
      "<re.Match object; span=(0, 21), match='mai_l.e-mail@bamba.fr'>\n",
      "<re.Match object; span=(0, 22), match='something@bdsdamba.com'>\n",
      "None\n",
      "<re.Match object; span=(0, 18), match='mail@bdsdamba.game'>\n",
      "None\n",
      "<re.Match object; span=(0, 19), match='mail@bdsdamba..game'>\n"
     ]
    }
   ],
   "source": [
    "print(pattern7.search(\"mail@bamba.com\"))\n",
    "print(pattern7.search(\"mail@test.com\"))\n",
    "print(pattern7.search(\"mai_l.e-mail@bamba.fr\"))\n",
    "print(pattern7.search(\"something@bdsdamba.com\"))\n",
    "print(pattern7.search(\"mail@bdsdambacom\"))\n",
    "print(pattern7.search(\"mail@bdsdamba.game\"))\n",
    "print(pattern7.search(\"mail@@bdsdamba.game\"))\n",
    "print(pattern7.search(\"mail@bdsdamba..game\"))"
   ]
  }
 ],
 "metadata": {
  "kernelspec": {
   "display_name": "Python 3",
   "language": "python",
   "name": "python3"
  },
  "language_info": {
   "codemirror_mode": {
    "name": "ipython",
    "version": 3
   },
   "file_extension": ".py",
   "mimetype": "text/x-python",
   "name": "python",
   "nbconvert_exporter": "python",
   "pygments_lexer": "ipython3",
   "version": "3.10.7"
  },
  "orig_nbformat": 4,
  "vscode": {
   "interpreter": {
    "hash": "fbfacf25abbc4466cbf6a4ec94f71aa428570133f008ac9f4c86deb26a69bb88"
   }
  }
 },
 "nbformat": 4,
 "nbformat_minor": 2
}
