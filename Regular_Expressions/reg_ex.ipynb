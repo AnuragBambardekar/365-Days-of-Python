{
 "cells": [
  {
   "attachments": {},
   "cell_type": "markdown",
   "metadata": {},
   "source": [
    "# Regular Expressions"
   ]
  },
  {
   "cell_type": "code",
   "execution_count": 8,
   "metadata": {},
   "outputs": [],
   "source": [
    "import re\n",
    "\n",
    "names = [\"Finn Allen\",\n",
    "         \"Romario Shepherd\",\n",
    "         \"Kane Williamson\",\n",
    "         \"Nicholas Pooran\",\n",
    "         \"Chris    Gayle\",\n",
    "         \"AB de Villiers\",\n",
    "         \"Adele\",\n",
    "         \"Christopher Columbus\",\n",
    "         \"Brian Pillsbury\",\n",
    "         \"m!sha\"]"
   ]
  },
  {
   "cell_type": "code",
   "execution_count": 9,
   "metadata": {},
   "outputs": [
    {
     "name": "stdout",
     "output_type": "stream",
     "text": [
      "<re.Match object; span=(0, 10), match='Finn Allen'>\n",
      "Finn Allen\n",
      "<re.Match object; span=(0, 16), match='Romario Shepherd'>\n",
      "Romario Shepherd\n",
      "<re.Match object; span=(0, 15), match='Kane Williamson'>\n",
      "Kane Williamson\n",
      "<re.Match object; span=(0, 15), match='Nicholas Pooran'>\n",
      "Nicholas Pooran\n",
      "<re.Match object; span=(0, 14), match='Chris    Gayle'>\n",
      "Chris    Gayle\n",
      "<re.Match object; span=(0, 20), match='Christopher Columbus'>\n",
      "Christopher Columbus\n",
      "<re.Match object; span=(0, 15), match='Brian Pillsbury'>\n",
      "Brian Pillsbury\n"
     ]
    }
   ],
   "source": [
    "#Find people with first and last name only\n",
    "regex = '^\\w+\\s+\\w+$'\n",
    "for name in names:\n",
    "    result = re.search(regex, name)\n",
    "    if result:\n",
    "        print(result)\n",
    "        print(name)"
   ]
  },
  {
   "cell_type": "code",
   "execution_count": 10,
   "metadata": {},
   "outputs": [
    {
     "name": "stdout",
     "output_type": "stream",
     "text": [
      "<re.Match object; span=(0, 5), match='Chris'>\n",
      "Chris    Gayle\n",
      "0\n",
      "5\n",
      "(0, 5)\n",
      "Chris\n",
      "<re.Match object; span=(0, 11), match='Christopher'>\n",
      "Christopher Columbus\n",
      "0\n",
      "11\n",
      "(0, 11)\n",
      "Christopher\n"
     ]
    }
   ],
   "source": [
    "#Search for word char sequence starting with C\n",
    "regex = 'C\\w*'\n",
    "for name in names:\n",
    "    result1 = re.search(regex, name)\n",
    "    if result1:\n",
    "        print(result1)\n",
    "        print(name)\n",
    "        print(result1.start())\n",
    "        print(result1.end())\n",
    "        print(result1.span())\n",
    "        print(result1.group())"
   ]
  },
  {
   "attachments": {},
   "cell_type": "markdown",
   "metadata": {},
   "source": [
    "Access the first and last names"
   ]
  },
  {
   "cell_type": "code",
   "execution_count": 13,
   "metadata": {},
   "outputs": [
    {
     "name": "stdout",
     "output_type": "stream",
     "text": [
      "<re.Match object; span=(0, 10), match='Finn Allen'>\n",
      "Finn Allen\n",
      "Finn\n",
      "Allen\n",
      "<re.Match object; span=(0, 16), match='Romario Shepherd'>\n",
      "Romario Shepherd\n",
      "Romario\n",
      "Shepherd\n",
      "<re.Match object; span=(0, 15), match='Kane Williamson'>\n",
      "Kane Williamson\n",
      "Kane\n",
      "Williamson\n",
      "<re.Match object; span=(0, 15), match='Nicholas Pooran'>\n",
      "Nicholas Pooran\n",
      "Nicholas\n",
      "Pooran\n",
      "<re.Match object; span=(0, 14), match='Chris    Gayle'>\n",
      "Chris    Gayle\n",
      "Chris\n",
      "Gayle\n",
      "<re.Match object; span=(0, 20), match='Christopher Columbus'>\n",
      "Christopher Columbus\n",
      "Christopher\n",
      "Columbus\n",
      "<re.Match object; span=(0, 15), match='Brian Pillsbury'>\n",
      "Brian Pillsbury\n",
      "Brian\n",
      "Pillsbury\n"
     ]
    }
   ],
   "source": [
    "#Test for first and last name\n",
    "regex = '^(\\w+)\\s+(\\w+$)'\n",
    "for name in names:\n",
    "    result = re.search(regex, name)\n",
    "    if result:\n",
    "        print(result)\n",
    "        print(name)\n",
    "        print(result.group(1))\n",
    "        print(result.group(2))"
   ]
  },
  {
   "cell_type": "code",
   "execution_count": 14,
   "metadata": {},
   "outputs": [
    {
     "name": "stdout",
     "output_type": "stream",
     "text": [
      "<re.Match object; span=(0, 10), match='Finn Allen'>\n",
      "Finn Allen\n",
      "Finn\n",
      "Allen\n",
      "<re.Match object; span=(0, 16), match='Romario Shepherd'>\n",
      "Romario Shepherd\n",
      "Romario\n",
      "Shepherd\n",
      "<re.Match object; span=(0, 15), match='Kane Williamson'>\n",
      "Kane Williamson\n",
      "Kane\n",
      "Williamson\n",
      "<re.Match object; span=(0, 15), match='Nicholas Pooran'>\n",
      "Nicholas Pooran\n",
      "Nicholas\n",
      "Pooran\n",
      "<re.Match object; span=(0, 14), match='Chris    Gayle'>\n",
      "Chris    Gayle\n",
      "Chris\n",
      "Gayle\n",
      "<re.Match object; span=(0, 20), match='Christopher Columbus'>\n",
      "Christopher Columbus\n",
      "Christopher\n",
      "Columbus\n",
      "<re.Match object; span=(0, 15), match='Brian Pillsbury'>\n",
      "Brian Pillsbury\n",
      "Brian\n",
      "Pillsbury\n"
     ]
    }
   ],
   "source": [
    "#Test for first and last name\n",
    "regex = '^(?P<fn>\\w+)\\s+(?P<ln>\\w+$)'\n",
    "for name in names:\n",
    "    result = re.search(regex, name)\n",
    "    if result:\n",
    "        print(result)\n",
    "        print(name)\n",
    "        print(result.group('fn'))\n",
    "        print(result.group('ln'))"
   ]
  },
  {
   "cell_type": "code",
   "execution_count": 18,
   "metadata": {},
   "outputs": [
    {
     "name": "stdout",
     "output_type": "stream",
     "text": [
      "<re.Match object; span=(0, 5), match='Adele'>\n",
      "Adele\n",
      "<re.Match object; span=(0, 5), match='m!sha'>\n",
      "m!sha\n"
     ]
    }
   ],
   "source": [
    "#Test for first and last name\n",
    "regex = '^([a-zA-Z!])+$'\n",
    "for name in names:\n",
    "    result = re.search(regex, name)\n",
    "    if result:\n",
    "        print(result)\n",
    "        print(name)"
   ]
  },
  {
   "cell_type": "code",
   "execution_count": 19,
   "metadata": {},
   "outputs": [
    {
     "name": "stdout",
     "output_type": "stream",
     "text": [
      "['inn', 'llen']\n",
      "['omario', 'hepherd']\n",
      "['ane', 'illiamson']\n",
      "['icholas', 'ooran']\n",
      "['hris', 'ayle']\n",
      "['de', 'illiers']\n",
      "['dele']\n",
      "['hristopher', 'olumbus']\n",
      "['rian', 'illsbury']\n",
      "['m', 'sha']\n"
     ]
    }
   ],
   "source": [
    "#Scan for lower case letters\n",
    "regex = '[a-z]+'\n",
    "for name in names:\n",
    "    result = re.findall(regex, name)\n",
    "    if result:\n",
    "        print(result)"
   ]
  },
  {
   "cell_type": "code",
   "execution_count": 21,
   "metadata": {},
   "outputs": [
    {
     "name": "stdout",
     "output_type": "stream",
     "text": [
      "<re.Match object; span=(1, 4), match='inn'>\n",
      "<re.Match object; span=(6, 10), match='llen'>\n",
      "<re.Match object; span=(1, 7), match='omario'>\n",
      "<re.Match object; span=(9, 16), match='hepherd'>\n",
      "<re.Match object; span=(1, 4), match='ane'>\n",
      "<re.Match object; span=(6, 15), match='illiamson'>\n",
      "<re.Match object; span=(1, 8), match='icholas'>\n",
      "<re.Match object; span=(10, 15), match='ooran'>\n",
      "<re.Match object; span=(1, 5), match='hris'>\n",
      "<re.Match object; span=(10, 14), match='ayle'>\n",
      "<re.Match object; span=(3, 5), match='de'>\n",
      "<re.Match object; span=(7, 14), match='illiers'>\n",
      "<re.Match object; span=(1, 5), match='dele'>\n",
      "<re.Match object; span=(1, 11), match='hristopher'>\n",
      "<re.Match object; span=(13, 20), match='olumbus'>\n",
      "<re.Match object; span=(1, 5), match='rian'>\n",
      "<re.Match object; span=(7, 15), match='illsbury'>\n",
      "<re.Match object; span=(0, 1), match='m'>\n",
      "<re.Match object; span=(2, 5), match='sha'>\n"
     ]
    }
   ],
   "source": [
    "#Scan for lower case letters\n",
    "regex = '[a-z]+'\n",
    "for name in names:\n",
    "    result = re.finditer(regex, name)\n",
    "    for res in result:\n",
    "        print(res)"
   ]
  },
  {
   "cell_type": "code",
   "execution_count": 23,
   "metadata": {},
   "outputs": [],
   "source": [
    "import re\n",
    "\n",
    "values =['https://www.google.com',\n",
    "            'http://bamba.com',\n",
    "            'https://youtube.com',\n",
    "            'https://www.nasa.gov',\n",
    "            'com.bamba.www_https://']\n",
    "\n"
   ]
  },
  {
   "cell_type": "code",
   "execution_count": 26,
   "metadata": {},
   "outputs": [
    {
     "name": "stdout",
     "output_type": "stream",
     "text": [
      "https://www.google.com\n",
      "http://bamba.com\n",
      "https://youtube.com\n",
      "https://www.nasa.gov\n"
     ]
    }
   ],
   "source": [
    "#Test if string starts with http or https\n",
    "regex = 'https?'\n",
    "for val in values:\n",
    "    if re.match(regex, val):\n",
    "        print(val)"
   ]
  },
  {
   "cell_type": "code",
   "execution_count": 28,
   "metadata": {},
   "outputs": [
    {
     "name": "stdout",
     "output_type": "stream",
     "text": [
      "https://www.google.com\n"
     ]
    }
   ],
   "source": [
    "#Test if string starts with https://www.\n",
    "regex = 'https?://w{3}.\\w+.(org|com)'\n",
    "for val in values:\n",
    "    if re.fullmatch(regex, val):\n",
    "        print(val)"
   ]
  },
  {
   "cell_type": "code",
   "execution_count": 32,
   "metadata": {},
   "outputs": [
    {
     "name": "stdout",
     "output_type": "stream",
     "text": [
      "https://www.google.com\n",
      "http://bamba.com\n",
      "https://youtube.com\n",
      "https://www.nasa.gov\n"
     ]
    }
   ],
   "source": [
    "regex = 'https?://(www\\.)?(\\w+)(\\.\\w+)'\n",
    "for val in values:\n",
    "    if re.fullmatch(regex, val):\n",
    "        print(val)"
   ]
  }
 ],
 "metadata": {
  "kernelspec": {
   "display_name": "Python 3",
   "language": "python",
   "name": "python3"
  },
  "language_info": {
   "codemirror_mode": {
    "name": "ipython",
    "version": 3
   },
   "file_extension": ".py",
   "mimetype": "text/x-python",
   "name": "python",
   "nbconvert_exporter": "python",
   "pygments_lexer": "ipython3",
   "version": "3.10.7"
  },
  "orig_nbformat": 4,
  "vscode": {
   "interpreter": {
    "hash": "fbfacf25abbc4466cbf6a4ec94f71aa428570133f008ac9f4c86deb26a69bb88"
   }
  }
 },
 "nbformat": 4,
 "nbformat_minor": 2
}
