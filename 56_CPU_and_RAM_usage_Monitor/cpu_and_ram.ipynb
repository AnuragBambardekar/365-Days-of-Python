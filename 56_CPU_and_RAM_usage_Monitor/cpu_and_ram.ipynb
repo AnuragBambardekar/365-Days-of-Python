{
 "cells": [
  {
   "attachments": {},
   "cell_type": "markdown",
   "metadata": {},
   "source": [
    "# CPU and RAM usage Monitor"
   ]
  },
  {
   "cell_type": "code",
   "execution_count": 1,
   "metadata": {},
   "outputs": [],
   "source": [
    "import time\n",
    "import psutil"
   ]
  },
  {
   "attachments": {},
   "cell_type": "markdown",
   "metadata": {},
   "source": [
    "CPU usage"
   ]
  },
  {
   "cell_type": "code",
   "execution_count": 2,
   "metadata": {},
   "outputs": [
    {
     "name": "stdout",
     "output_type": "stream",
     "text": [
      "7.0\n"
     ]
    }
   ],
   "source": [
    "print(psutil.cpu_percent())"
   ]
  },
  {
   "attachments": {},
   "cell_type": "markdown",
   "metadata": {},
   "source": [
    "Memory usage"
   ]
  },
  {
   "cell_type": "code",
   "execution_count": 3,
   "metadata": {},
   "outputs": [
    {
     "name": "stdout",
     "output_type": "stream",
     "text": [
      "57.2\n"
     ]
    }
   ],
   "source": [
    "print(psutil.virtual_memory().percent)"
   ]
  },
  {
   "cell_type": "code",
   "execution_count": 6,
   "metadata": {},
   "outputs": [
    {
     "name": "stdout",
     "output_type": "stream",
     "text": [
      "CPU %:  2.2\n",
      "Memory %:  57.1\n",
      "\n",
      "CPU %:  4.1\n",
      "Memory %:  57.2\n",
      "\n",
      "CPU %:  2.0\n",
      "Memory %:  57.2\n",
      "\n",
      "CPU %:  3.4\n",
      "Memory %:  57.2\n",
      "\n",
      "CPU %:  4.5\n",
      "Memory %:  57.4\n",
      "\n",
      "CPU %:  8.3\n",
      "Memory %:  58.0\n",
      "\n",
      "CPU %:  3.1\n",
      "Memory %:  58.0\n",
      "\n",
      "CPU %:  4.1\n",
      "Memory %:  58.0\n",
      "\n",
      "CPU %:  2.1\n",
      "Memory %:  58.0\n",
      "\n",
      "CPU %:  3.2\n",
      "Memory %:  57.6\n",
      "\n"
     ]
    }
   ],
   "source": [
    "i = 0\n",
    "while(i<10):\n",
    "    print(\"CPU %: \",psutil.cpu_percent())\n",
    "    print(\"Memory %: \",psutil.virtual_memory().percent)\n",
    "    print()\n",
    "    i+=1\n",
    "    time.sleep(1)"
   ]
  },
  {
   "cell_type": "code",
   "execution_count": 7,
   "metadata": {},
   "outputs": [],
   "source": [
    "def display_usage(cpu_usage, mem_usage, bars=50): # 1 bar for 2% points\n",
    "    cpu_percent = (cpu_usage/100.0) # cpu_usage = 6%, cpu_percent=0.06\n",
    "    mem_percent = (mem_usage/100.0)\n",
    "\n",
    "    cpu_bar = '█' * int(cpu_percent * bars) + '-' * (bars - int(cpu_percent * bars)) # ALT + 219\n",
    "    mem_bar = '█' * int(mem_percent * bars) + '-' * (bars - int(mem_percent * bars))\n",
    "\n",
    "    print(f\"\\rCPU Usage: |{cpu_bar}| {cpu_usage:.2f}%  \", end=\"\")\n",
    "    print(f\"\\rMEM Usage: |{mem_bar}| {mem_usage:.2f}%  \", end=\"\\r\")\n",
    "\n",
    "    "
   ]
  },
  {
   "cell_type": "code",
   "execution_count": 8,
   "metadata": {},
   "outputs": [
    {
     "name": "stdout",
     "output_type": "stream",
     "text": [
      "MEM Usage: |█████████████████-------------| 56.80%  \r"
     ]
    },
    {
     "ename": "KeyboardInterrupt",
     "evalue": "",
     "output_type": "error",
     "traceback": [
      "\u001b[1;31m---------------------------------------------------------------------------\u001b[0m",
      "\u001b[1;31mKeyboardInterrupt\u001b[0m                         Traceback (most recent call last)",
      "Cell \u001b[1;32mIn [8], line 3\u001b[0m\n\u001b[0;32m      1\u001b[0m \u001b[39mwhile\u001b[39;00m(\u001b[39mTrue\u001b[39;00m):\n\u001b[0;32m      2\u001b[0m     display_usage(psutil\u001b[39m.\u001b[39mcpu_percent(), psutil\u001b[39m.\u001b[39mvirtual_memory()\u001b[39m.\u001b[39mpercent,\u001b[39m30\u001b[39m)\n\u001b[1;32m----> 3\u001b[0m     time\u001b[39m.\u001b[39msleep(\u001b[39m0.5\u001b[39m)\n",
      "\u001b[1;31mKeyboardInterrupt\u001b[0m: "
     ]
    }
   ],
   "source": [
    "while(True):\n",
    "    display_usage(psutil.cpu_percent(), psutil.virtual_memory().percent,30)\n",
    "    time.sleep(0.5)"
   ]
  },
  {
   "cell_type": "code",
   "execution_count": null,
   "metadata": {},
   "outputs": [],
   "source": []
  }
 ],
 "metadata": {
  "kernelspec": {
   "display_name": "Python 3",
   "language": "python",
   "name": "python3"
  },
  "language_info": {
   "codemirror_mode": {
    "name": "ipython",
    "version": 3
   },
   "file_extension": ".py",
   "mimetype": "text/x-python",
   "name": "python",
   "nbconvert_exporter": "python",
   "pygments_lexer": "ipython3",
   "version": "3.10.8"
  },
  "orig_nbformat": 4,
  "vscode": {
   "interpreter": {
    "hash": "fbfacf25abbc4466cbf6a4ec94f71aa428570133f008ac9f4c86deb26a69bb88"
   }
  }
 },
 "nbformat": 4,
 "nbformat_minor": 2
}
