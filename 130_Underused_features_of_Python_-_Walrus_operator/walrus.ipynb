{
 "cells": [
  {
   "attachments": {},
   "cell_type": "markdown",
   "metadata": {},
   "source": [
    "# Walrus Operator"
   ]
  },
  {
   "attachments": {},
   "cell_type": "markdown",
   "metadata": {},
   "source": [
    "The walrus operator, also known as the \"assignment expression,\" is a new feature in Python 3.8 that allows you to assign a value to a variable as part of an expression.\n",
    "\n",
    "The operator is represented by the := symbol, and it can be used in a variety of ways."
   ]
  },
  {
   "cell_type": "code",
   "execution_count": 1,
   "metadata": {},
   "outputs": [
    {
     "name": "stdout",
     "output_type": "stream",
     "text": [
      "10\n"
     ]
    }
   ],
   "source": [
    "myvalue = 10\n",
    "print(myvalue)"
   ]
  },
  {
   "attachments": {},
   "cell_type": "markdown",
   "metadata": {},
   "source": [
    "This is invalid"
   ]
  },
  {
   "cell_type": "code",
   "execution_count": 2,
   "metadata": {},
   "outputs": [
    {
     "ename": "TypeError",
     "evalue": "'myvalue' is an invalid keyword argument for print()",
     "output_type": "error",
     "traceback": [
      "\u001b[1;31m---------------------------------------------------------------------------\u001b[0m",
      "\u001b[1;31mTypeError\u001b[0m                                 Traceback (most recent call last)",
      "\u001b[1;32mc:\\Users\\anura\\Documents\\VSCode_Workspace\\365-Days-of-Python\\130_Underused_features_of_Python_-_Walrus_operator\\walrus.ipynb Cell 4\u001b[0m in \u001b[0;36m1\n\u001b[1;32m----> <a href='vscode-notebook-cell:/c%3A/Users/anura/Documents/VSCode_Workspace/365-Days-of-Python/130_Underused_features_of_Python_-_Walrus_operator/walrus.ipynb#W3sZmlsZQ%3D%3D?line=0'>1</a>\u001b[0m \u001b[39mprint\u001b[39m(myvalue \u001b[39m=\u001b[39m \u001b[39m10\u001b[39m)\n",
      "\u001b[1;31mTypeError\u001b[0m: 'myvalue' is an invalid keyword argument for print()"
     ]
    }
   ],
   "source": [
    "print(myvalue = 10)"
   ]
  },
  {
   "attachments": {},
   "cell_type": "markdown",
   "metadata": {},
   "source": [
    "This is valid"
   ]
  },
  {
   "cell_type": "code",
   "execution_count": 3,
   "metadata": {},
   "outputs": [],
   "source": [
    "def myfunc(param=None):\n",
    "    pass\n",
    "\n",
    "myfunc(param=10)"
   ]
  },
  {
   "attachments": {},
   "cell_type": "markdown",
   "metadata": {},
   "source": [
    "Enter.... Walrus Operator :="
   ]
  },
  {
   "cell_type": "code",
   "execution_count": 4,
   "metadata": {},
   "outputs": [
    {
     "name": "stdout",
     "output_type": "stream",
     "text": [
      "10\n"
     ]
    }
   ],
   "source": [
    "# returns and assigns at the same time\n",
    "print(myvalue := 10)"
   ]
  },
  {
   "attachments": {},
   "cell_type": "markdown",
   "metadata": {},
   "source": [
    "A while loop with a walrus operator.\n",
    "\n",
    "The walrus operator assigns the value returned by the input() function to the user_input variable, and then checks if it's not equal to the string \"quit\" in the same line. If it's not equal to \"quit\", the loop will continue"
   ]
  },
  {
   "cell_type": "code",
   "execution_count": 5,
   "metadata": {},
   "outputs": [
    {
     "name": "stdout",
     "output_type": "stream",
     "text": [
      "You entered 1\n",
      "You entered 2\n",
      "You entered 10\n"
     ]
    }
   ],
   "source": [
    "while (user_input := input(\"Enter a number: \")) != \"quit\":\n",
    "    print(f\"You entered {user_input}\")"
   ]
  },
  {
   "attachments": {},
   "cell_type": "markdown",
   "metadata": {},
   "source": [
    "## Use case - Menus"
   ]
  },
  {
   "cell_type": "code",
   "execution_count": 6,
   "metadata": {},
   "outputs": [
    {
     "name": "stdout",
     "output_type": "stream",
     "text": [
      "Your command was hey\n",
      "Your command was whatsup\n"
     ]
    }
   ],
   "source": [
    "done = False\n",
    "while not done:\n",
    "    command = input(\"Please enter a command: ('q' for quit): \")\n",
    "    if command == 'q':\n",
    "        done = True\n",
    "    else:\n",
    "        print(f\"Your command was {command}\")\n"
   ]
  },
  {
   "attachments": {},
   "cell_type": "markdown",
   "metadata": {},
   "source": [
    "Enter.... Walrus :="
   ]
  },
  {
   "cell_type": "code",
   "execution_count": 7,
   "metadata": {},
   "outputs": [
    {
     "name": "stdout",
     "output_type": "stream",
     "text": [
      "Your command was yo\n",
      "Your command was whatsup I'm a walrus\n"
     ]
    }
   ],
   "source": [
    "while (command := input(\"Please enter a command ('q' = quit): \")) != 'q':\n",
    "    print(f\"Your command was {command}\")"
   ]
  },
  {
   "attachments": {},
   "cell_type": "markdown",
   "metadata": {},
   "source": [
    "Wow!!"
   ]
  },
  {
   "attachments": {},
   "cell_type": "markdown",
   "metadata": {},
   "source": [
    "## Use Case - List Comprehension"
   ]
  },
  {
   "cell_type": "code",
   "execution_count": 9,
   "metadata": {},
   "outputs": [
    {
     "name": "stdout",
     "output_type": "stream",
     "text": [
      "[30, 54, 14, 9, 69, 41]\n"
     ]
    }
   ],
   "source": [
    "nums = [34,5,7,3,2,56,8,6,84]\n",
    "\n",
    "def process_nums(n):\n",
    "    return n ** 2 + 5 # Simulate long process\n",
    "\n",
    "# result = [process_nums(x) for x in nums if x < 100]\n",
    "\n",
    "# But what f i want to know if result < 100 and then only store it in list\n",
    "result = [process_nums(x) for x in nums if process_nums(x) < 100]\n",
    "# This calls function twice though\n",
    "\n",
    "# Another long-form way....boring\n",
    "# result = []\n",
    "# for x in nums:\n",
    "#     result = process_nums(x)\n",
    "#     if result < 100:\n",
    "#         result.append(result)\n",
    "\n",
    "print(result)"
   ]
  },
  {
   "attachments": {},
   "cell_type": "markdown",
   "metadata": {},
   "source": [
    "Enter... Walrus Operator :="
   ]
  },
  {
   "cell_type": "code",
   "execution_count": 10,
   "metadata": {},
   "outputs": [
    {
     "name": "stdout",
     "output_type": "stream",
     "text": [
      "[30, 54, 14, 9, 69, 41]\n"
     ]
    }
   ],
   "source": [
    "nums = [34,5,7,3,2,56,8,6,84]\n",
    "\n",
    "def process_nums(n):\n",
    "    return n ** 2 + 5 # Simulate long process\n",
    "\n",
    "result = [res for x in nums if (res := process_nums(x))<100]\n",
    "\n",
    "print(result)"
   ]
  },
  {
   "attachments": {},
   "cell_type": "markdown",
   "metadata": {},
   "source": [
    "We don't see much difference in execution speed because the function is simple, if it were a complex function then we might see a difference."
   ]
  },
  {
   "attachments": {},
   "cell_type": "markdown",
   "metadata": {},
   "source": [
    "Another use case: Check length of a list"
   ]
  },
  {
   "cell_type": "code",
   "execution_count": 11,
   "metadata": {},
   "outputs": [
    {
     "name": "stdout",
     "output_type": "stream",
     "text": [
      "The list has 9 items\n"
     ]
    }
   ],
   "source": [
    "if (num_items := len(nums)) > 0:\n",
    "    print(f\"The list has {num_items} items\")\n"
   ]
  },
  {
   "attachments": {},
   "cell_type": "markdown",
   "metadata": {},
   "source": [
    "Check presence of a substring"
   ]
  },
  {
   "cell_type": "code",
   "execution_count": 13,
   "metadata": {},
   "outputs": [
    {
     "name": "stdout",
     "output_type": "stream",
     "text": [
      "Found needle at index 11\n"
     ]
    }
   ],
   "source": [
    "my_string = \"inahaystackneedlehaystack\"\n",
    "if (index := my_string.find(\"needle\")) != -1:\n",
    "    print(f\"Found needle at index {index}\")\n"
   ]
  },
  {
   "attachments": {},
   "cell_type": "markdown",
   "metadata": {},
   "source": [
    "Assignment on condition being met"
   ]
  },
  {
   "cell_type": "code",
   "execution_count": 14,
   "metadata": {},
   "outputs": [
    {
     "name": "stdout",
     "output_type": "stream",
     "text": [
      "20\n"
     ]
    }
   ],
   "source": [
    "x = 10\n",
    "if (y := x * 2) > 15:\n",
    "    print(y)\n"
   ]
  },
  {
   "attachments": {},
   "cell_type": "markdown",
   "metadata": {},
   "source": [
    "With any() function"
   ]
  },
  {
   "cell_type": "code",
   "execution_count": 15,
   "metadata": {},
   "outputs": [
    {
     "name": "stdout",
     "output_type": "stream",
     "text": [
      "banana\n"
     ]
    }
   ],
   "source": [
    "my_list = [\"apple\", \"banana\", \"cherry\"]\n",
    "if any((fruit := x) == \"banana\" for x in my_list):\n",
    "    print(fruit)\n"
   ]
  }
 ],
 "metadata": {
  "kernelspec": {
   "display_name": "Python 3",
   "language": "python",
   "name": "python3"
  },
  "language_info": {
   "codemirror_mode": {
    "name": "ipython",
    "version": 3
   },
   "file_extension": ".py",
   "mimetype": "text/x-python",
   "name": "python",
   "nbconvert_exporter": "python",
   "pygments_lexer": "ipython3",
   "version": "3.10.8"
  },
  "orig_nbformat": 4
 },
 "nbformat": 4,
 "nbformat_minor": 2
}
