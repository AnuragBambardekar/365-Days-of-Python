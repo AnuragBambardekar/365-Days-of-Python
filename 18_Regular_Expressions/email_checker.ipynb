{
 "cells": [
  {
   "attachments": {},
   "cell_type": "markdown",
   "metadata": {},
   "source": [
    "# Validating Emails using Regular Expressions"
   ]
  },
  {
   "cell_type": "code",
   "execution_count": 1,
   "metadata": {},
   "outputs": [],
   "source": [
    "import re"
   ]
  },
  {
   "cell_type": "code",
   "execution_count": 2,
   "metadata": {},
   "outputs": [],
   "source": [
    "pattern7 = re.compile(\"[a-zA-Z0-9_.+-]+@[a-zA-Z0-9-]+\\.{1}[a-zA-Z0-9-.]+\")"
   ]
  },
  {
   "cell_type": "code",
   "execution_count": 3,
   "metadata": {},
   "outputs": [
    {
     "name": "stdout",
     "output_type": "stream",
     "text": [
      "<re.Match object; span=(0, 14), match='mail@bamba.com'>\n",
      "<re.Match object; span=(0, 13), match='mail@test.com'>\n",
      "<re.Match object; span=(0, 21), match='mai_l.e-mail@bamba.fr'>\n",
      "<re.Match object; span=(0, 22), match='something@bdsdamba.com'>\n",
      "None\n",
      "<re.Match object; span=(0, 18), match='mail@bdsdamba.game'>\n",
      "None\n",
      "<re.Match object; span=(0, 19), match='mail@bdsdamba..game'>\n"
     ]
    }
   ],
   "source": [
    "print(pattern7.search(\"mail@bamba.com\"))\n",
    "print(pattern7.search(\"mail@test.com\"))\n",
    "print(pattern7.search(\"mai_l.e-mail@bamba.fr\"))\n",
    "print(pattern7.search(\"something@bdsdamba.com\"))\n",
    "print(pattern7.search(\"mail@bdsdambacom\"))\n",
    "print(pattern7.search(\"mail@bdsdamba.game\"))\n",
    "print(pattern7.search(\"mail@@bdsdamba.game\"))\n",
    "print(pattern7.search(\"mail@bdsdamba..game\"))"
   ]
  },
  {
   "cell_type": "code",
   "execution_count": null,
   "metadata": {},
   "outputs": [],
   "source": []
  }
 ],
 "metadata": {
  "kernelspec": {
   "display_name": "Python 3",
   "language": "python",
   "name": "python3"
  },
  "language_info": {
   "codemirror_mode": {
    "name": "ipython",
    "version": 3
   },
   "file_extension": ".py",
   "mimetype": "text/x-python",
   "name": "python",
   "nbconvert_exporter": "python",
   "pygments_lexer": "ipython3",
   "version": "3.10.7 (tags/v3.10.7:6cc6b13, Sep  5 2022, 14:08:36) [MSC v.1933 64 bit (AMD64)]"
  },
  "orig_nbformat": 4,
  "vscode": {
   "interpreter": {
    "hash": "fbfacf25abbc4466cbf6a4ec94f71aa428570133f008ac9f4c86deb26a69bb88"
   }
  }
 },
 "nbformat": 4,
 "nbformat_minor": 2
}
