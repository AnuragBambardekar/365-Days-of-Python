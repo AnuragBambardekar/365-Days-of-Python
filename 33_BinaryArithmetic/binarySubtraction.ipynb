{
 "cells": [
  {
   "attachments": {},
   "cell_type": "markdown",
   "metadata": {},
   "source": [
    "# Binary Subtraction"
   ]
  },
  {
   "cell_type": "code",
   "execution_count": 1,
   "metadata": {},
   "outputs": [
    {
     "name": "stdout",
     "output_type": "stream",
     "text": [
      "111\n",
      "7\n"
     ]
    }
   ],
   "source": [
    "def binary_sub(a, b):\n",
    "    # return bin(int(a, 2) + int(b, 2))\n",
    "    return format(int(a, 2) - int(b, 2), 'b')\n",
    "\n",
    "a = '1101' #\n",
    "b = '0110'\n",
    "result = binary_sub(a,b)\n",
    "print(result) # 111\n",
    "print(int(result,2)) # 111\n"
   ]
  },
  {
   "cell_type": "code",
   "execution_count": 8,
   "metadata": {},
   "outputs": [
    {
     "name": "stdout",
     "output_type": "stream",
     "text": [
      "0111\n"
     ]
    }
   ],
   "source": [
    "def binary_subtract(a, b):\n",
    "    max_len = max(len(a), len(b))\n",
    "    a = a.zfill(max_len)\n",
    "    b = b.zfill(max_len)\n",
    "\n",
    "    # Find 1's complement of b\n",
    "    b = \"\".join([\"1\" if x==\"0\" else \"0\" for x in b])\n",
    "    \n",
    "    # Add a and b\n",
    "    result = format(int(a, 2) + int(b, 2), 'b')\n",
    "    carry = result[0]\n",
    "    result = result[1:].zfill(max_len)\n",
    "    \n",
    "    # add the carry if exist\n",
    "    if carry == \"1\":\n",
    "        result = format(int(result, 2) + 1, 'b').zfill(max_len)\n",
    "    return result\n",
    "\n",
    "print(binary_subtract('1101', '0110')) # 0011\n"
   ]
  }
 ],
 "metadata": {
  "kernelspec": {
   "display_name": "Python 3",
   "language": "python",
   "name": "python3"
  },
  "language_info": {
   "codemirror_mode": {
    "name": "ipython",
    "version": 3
   },
   "file_extension": ".py",
   "mimetype": "text/x-python",
   "name": "python",
   "nbconvert_exporter": "python",
   "pygments_lexer": "ipython3",
   "version": "3.10.7"
  },
  "orig_nbformat": 4,
  "vscode": {
   "interpreter": {
    "hash": "fbfacf25abbc4466cbf6a4ec94f71aa428570133f008ac9f4c86deb26a69bb88"
   }
  }
 },
 "nbformat": 4,
 "nbformat_minor": 2
}
