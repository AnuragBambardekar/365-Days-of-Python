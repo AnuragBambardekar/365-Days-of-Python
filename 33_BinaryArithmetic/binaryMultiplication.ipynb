{
 "cells": [
  {
   "attachments": {},
   "cell_type": "markdown",
   "metadata": {},
   "source": [
    "# Binary Multiplication"
   ]
  },
  {
   "cell_type": "code",
   "execution_count": 18,
   "metadata": {},
   "outputs": [
    {
     "name": "stdout",
     "output_type": "stream",
     "text": [
      "110010\n",
      "50\n"
     ]
    }
   ],
   "source": [
    "def binary_mul(a, b):\n",
    "    # return bin(int(a, 2) + int(b, 2))\n",
    "    return format(int(a, 2) * int(b, 2), 'b')\n",
    "\n",
    "a = '1010' #\n",
    "b = '101'\n",
    "result = binary_mul(a,b)\n",
    "print(result) # 111\n",
    "print(int(result,2)) # 111"
   ]
  },
  {
   "cell_type": "code",
   "execution_count": 19,
   "metadata": {},
   "outputs": [
    {
     "name": "stdout",
     "output_type": "stream",
     "text": [
      "110010\n"
     ]
    }
   ],
   "source": [
    "def binary_multiply(a, b):\n",
    "    decimal_a = int(a, 2)\n",
    "    decimal_b = int(b, 2)\n",
    "    decimal_result = decimal_a * decimal_b\n",
    "    binary_result = bin(decimal_result)[2:]\n",
    "    return binary_result\n",
    "\n",
    "result = binary_multiply(\"1010\", \"101\")\n",
    "print(result)\n"
   ]
  },
  {
   "attachments": {},
   "cell_type": "markdown",
   "metadata": {},
   "source": [
    "Haven't fully understood this, need to debug step by step"
   ]
  },
  {
   "cell_type": "code",
   "execution_count": 37,
   "metadata": {},
   "outputs": [],
   "source": [
    "def binaryProduct(binaryOne, binaryTwo):\n",
    "    i = 0\n",
    "    remainder = 0\n",
    "    sum = []\n",
    "    binaryProd = 0\n",
    " \n",
    "    # if firstBinary number or second Binary number is not\n",
    "    # zero then calculate the product of two Binary numbers\n",
    "    while binaryOne != 0 or binaryTwo != 0:\n",
    "        sum.insert(i, (((binaryOne % 10) + (binaryTwo % 10) + remainder) % 2))\n",
    "        remainder = int(((binaryOne % 10) + (binaryTwo % 10) + remainder) / 2)\n",
    "        binaryOne = int(binaryOne/10)\n",
    "        binaryTwo = int(binaryTwo/10)\n",
    "        i = i+1\n",
    " \n",
    "    # if remainder value is not equal to\n",
    "    # zero then insert the digit to sum array\n",
    "    if remainder != 0:\n",
    "        sum.insert(i, remainder)\n",
    "        i = i+1\n",
    "    i = i-1\n",
    "    while i >= 0:\n",
    "        binaryProd = (binaryProd * 10) + sum[i]\n",
    "        i = i-1\n",
    "    return binaryProd"
   ]
  },
  {
   "cell_type": "code",
   "execution_count": 40,
   "metadata": {},
   "outputs": [
    {
     "name": "stdout",
     "output_type": "stream",
     "text": [
      "\n",
      "Multiplication Result = 110010\n"
     ]
    }
   ],
   "source": [
    "binaryMultiply = 0\n",
    "factor = 1\n",
    "firstBinary = 1010\n",
    "secondBinary = 101\n",
    " \n",
    "# Now check if secondbinary number have any\n",
    "# digit or not and continue multiplying\n",
    "# each digit of the second binary number with\n",
    "# first binary number till the last digit of\n",
    "# second binary number\n",
    "while secondBinary != 0:\n",
    "    digit = secondBinary % 10\n",
    "    if digit == 1:\n",
    "        firstBinary = firstBinary * factor\n",
    "        binaryMultiply = binaryProduct(firstBinary, binaryMultiply)\n",
    "    else:\n",
    "        firstBinary = firstBinary * factor\n",
    "    secondBinary = int(secondBinary/10)\n",
    "    factor = 10\n",
    "print(\"\\nMultiplication Result = \" + str(binaryMultiply))"
   ]
  }
 ],
 "metadata": {
  "kernelspec": {
   "display_name": "Python 3",
   "language": "python",
   "name": "python3"
  },
  "language_info": {
   "codemirror_mode": {
    "name": "ipython",
    "version": 3
   },
   "file_extension": ".py",
   "mimetype": "text/x-python",
   "name": "python",
   "nbconvert_exporter": "python",
   "pygments_lexer": "ipython3",
   "version": "3.10.7 (tags/v3.10.7:6cc6b13, Sep  5 2022, 14:08:36) [MSC v.1933 64 bit (AMD64)]"
  },
  "orig_nbformat": 4,
  "vscode": {
   "interpreter": {
    "hash": "fbfacf25abbc4466cbf6a4ec94f71aa428570133f008ac9f4c86deb26a69bb88"
   }
  }
 },
 "nbformat": 4,
 "nbformat_minor": 2
}
