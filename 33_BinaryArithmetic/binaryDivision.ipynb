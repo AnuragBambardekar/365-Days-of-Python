{
 "cells": [
  {
   "attachments": {},
   "cell_type": "markdown",
   "metadata": {},
   "source": [
    "# Binary Division"
   ]
  },
  {
   "cell_type": "code",
   "execution_count": 2,
   "metadata": {},
   "outputs": [
    {
     "name": "stdout",
     "output_type": "stream",
     "text": [
      "10\n",
      "2\n"
     ]
    }
   ],
   "source": [
    "def binary_div(a, b):\n",
    "    # return bin(int(a, 2) + int(b, 2))\n",
    "    return format(int(a, 2) // int(b, 2), 'b')\n",
    "\n",
    "a = '1010'\n",
    "b = '101'\n",
    "result = binary_div(a,b)\n",
    "print(result) # 111\n",
    "print(int(result,2)) # 111"
   ]
  },
  {
   "attachments": {},
   "cell_type": "markdown",
   "metadata": {},
   "source": [
    "Still Unclear, debugging required to Understand"
   ]
  },
  {
   "cell_type": "code",
   "execution_count": 3,
   "metadata": {},
   "outputs": [],
   "source": [
    "def binary_divide(dividend, divisor):\n",
    "    quotient = \"\"\n",
    "    remainder = \"\"\n",
    "    for i in range(len(dividend)):\n",
    "        remainder += dividend[i]\n",
    "        quotient += \"0\"\n",
    "        if int(remainder, 2) >= int(divisor, 2):\n",
    "            remainder = bin(int(remainder, 2) - int(divisor, 2))[2:]\n",
    "            quotient = quotient[:-1] + \"1\"\n",
    "    return quotient, remainder"
   ]
  },
  {
   "cell_type": "code",
   "execution_count": 4,
   "metadata": {},
   "outputs": [
    {
     "name": "stdout",
     "output_type": "stream",
     "text": [
      "Quotient: 0010\n",
      "Remainder: 11\n"
     ]
    }
   ],
   "source": [
    "dividend = \"1101\"\n",
    "divisor = \"101\"\n",
    "quotient, remainder = binary_divide(dividend, divisor)\n",
    "print(\"Quotient:\", quotient)\n",
    "print(\"Remainder:\", remainder)"
   ]
  }
 ],
 "metadata": {
  "kernelspec": {
   "display_name": "Python 3",
   "language": "python",
   "name": "python3"
  },
  "language_info": {
   "codemirror_mode": {
    "name": "ipython",
    "version": 3
   },
   "file_extension": ".py",
   "mimetype": "text/x-python",
   "name": "python",
   "nbconvert_exporter": "python",
   "pygments_lexer": "ipython3",
   "version": "3.10.7"
  },
  "orig_nbformat": 4,
  "vscode": {
   "interpreter": {
    "hash": "fbfacf25abbc4466cbf6a4ec94f71aa428570133f008ac9f4c86deb26a69bb88"
   }
  }
 },
 "nbformat": 4,
 "nbformat_minor": 2
}
