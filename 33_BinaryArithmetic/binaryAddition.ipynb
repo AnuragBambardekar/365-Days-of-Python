{
 "cells": [
  {
   "attachments": {},
   "cell_type": "markdown",
   "metadata": {},
   "source": [
    "# Binary Addition"
   ]
  },
  {
   "cell_type": "code",
   "execution_count": 14,
   "metadata": {},
   "outputs": [
    {
     "name": "stdout",
     "output_type": "stream",
     "text": [
      "10011\n",
      "19\n"
     ]
    }
   ],
   "source": [
    "def binary_add(a, b):\n",
    "    # return bin(int(a, 2) + int(b, 2))\n",
    "    return format(int(a, 2) + int(b, 2), 'b')\n",
    "\n",
    "a = '1101'\n",
    "b = '0110'\n",
    "result = binary_add(a,b)\n",
    "print(result) # 1011\n",
    "print(int(result,2)) # 1011\n"
   ]
  },
  {
   "cell_type": "code",
   "execution_count": 2,
   "metadata": {},
   "outputs": [
    {
     "name": "stdout",
     "output_type": "stream",
     "text": [
      "10011\n",
      "19\n"
     ]
    }
   ],
   "source": [
    "a = \"1101\"\n",
    "b = \"0110\"\n",
    "max_len = max(len(a), len(b)) #get the longest binary representation\n",
    "#padding the binary number, if less than the length of the larger binary representation\n",
    "a = a.zfill(max_len) \n",
    "b = b.zfill(max_len)\n",
    " \n",
    "# Initialize the result\n",
    "result = ''\n",
    " \n",
    "# Initialize the carry\n",
    "carry = 0\n",
    " \n",
    "# Traverse the string by getting the last number and decrementing by 1 in further iterations\n",
    "for i in range(max_len - 1, -1, -1):\n",
    "    r = carry\n",
    "    r += 1 if a[i] == '1' else 0\n",
    "    r += 1 if b[i] == '1' else 0\n",
    "    result = ('1' if r % 2 == 1 else '0') + result\n",
    " \n",
    "    # Compute the carry.\n",
    "    carry = 0 if r < 2 else 1\n",
    " \n",
    "if carry != 0:\n",
    "    result = '1' + result\n",
    " \n",
    "print(result.zfill(max_len))\n",
    "print(int(result.zfill(max_len),2))"
   ]
  },
  {
   "cell_type": "code",
   "execution_count": null,
   "metadata": {},
   "outputs": [],
   "source": []
  }
 ],
 "metadata": {
  "kernelspec": {
   "display_name": "Python 3",
   "language": "python",
   "name": "python3"
  },
  "language_info": {
   "codemirror_mode": {
    "name": "ipython",
    "version": 3
   },
   "file_extension": ".py",
   "mimetype": "text/x-python",
   "name": "python",
   "nbconvert_exporter": "python",
   "pygments_lexer": "ipython3",
   "version": "3.10.7"
  },
  "orig_nbformat": 4,
  "vscode": {
   "interpreter": {
    "hash": "fbfacf25abbc4466cbf6a4ec94f71aa428570133f008ac9f4c86deb26a69bb88"
   }
  }
 },
 "nbformat": 4,
 "nbformat_minor": 2
}
