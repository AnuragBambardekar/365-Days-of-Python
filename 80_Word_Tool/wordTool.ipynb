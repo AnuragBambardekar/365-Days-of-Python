{
 "cells": [
  {
   "attachments": {},
   "cell_type": "markdown",
   "metadata": {},
   "source": [
    "# Word Tool"
   ]
  },
  {
   "cell_type": "code",
   "execution_count": 1,
   "metadata": {},
   "outputs": [
    {
     "name": "stdout",
     "output_type": "stream",
     "text": [
      "Word count: 5\n"
     ]
    }
   ],
   "source": [
    "def word_count(sentence):\n",
    "    # Split the sentence into words\n",
    "    words = sentence.split()\n",
    "    # Count the number of words\n",
    "    count = len(words)\n",
    "    # Return the word count\n",
    "    return count\n",
    "\n",
    "# Example usage\n",
    "sentence = \"My name is Anurag Bambardekar.\"\n",
    "count = word_count(sentence)\n",
    "print(\"Word count:\", count)"
   ]
  },
  {
   "attachments": {},
   "cell_type": "markdown",
   "metadata": {},
   "source": [
    "# An Advanced Word Tool"
   ]
  },
  {
   "cell_type": "code",
   "execution_count": 2,
   "metadata": {},
   "outputs": [
    {
     "name": "stdout",
     "output_type": "stream",
     "text": [
      "Word count: 178\n",
      "Character count: 1165\n",
      "Character count (excluding spaces): 989\n",
      "Syllable count: 365\n",
      "Sentence count: 22\n",
      "Paragraph count: 2\n"
     ]
    }
   ],
   "source": [
    "import re\n",
    "\n",
    "def count_words(text):\n",
    "    words = text.split()\n",
    "    return len(words)\n",
    "\n",
    "def count_characters(text):\n",
    "    return len(text)\n",
    "\n",
    "def count_characters_no_spaces(text):\n",
    "    return len(text.replace(\" \", \"\"))\n",
    "\n",
    "def count_syllables(text):\n",
    "    vowels = \"aeiouy\"\n",
    "    syllables = 0\n",
    "    text = text.lower().strip(\".:;?!\")\n",
    "    if text[-1] in \".:;?\":\n",
    "        text = text[:-1]\n",
    "    if len(text) == 0:\n",
    "        return 0\n",
    "    if text[0] in vowels:\n",
    "        syllables += 1\n",
    "    for i in range(1, len(text)):\n",
    "        if text[i] in vowels and text[i-1] not in vowels:\n",
    "            syllables += 1\n",
    "    if text.endswith(\"e\"):\n",
    "        syllables -= 1\n",
    "    if text.endswith(\"le\"):\n",
    "        syllables += 1\n",
    "    if syllables == 0:\n",
    "        syllables = 1\n",
    "    return syllables\n",
    "\n",
    "def count_sentences(text):\n",
    "    sentences = re.split(r'[.!?]+', text)\n",
    "    return len(sentences)\n",
    "\n",
    "def count_paragraphs(text):\n",
    "    paragraphs = re.split(r'\\n\\s*\\n', text)\n",
    "    return len(paragraphs)\n",
    "\n",
    "# Read in the text file\n",
    "filename = input(\"Enter the filename: \")\n",
    "with open(filename, \"r\") as file:\n",
    "    text = file.read()\n",
    "\n",
    "# Count the words, characters, characters without spaces, syllables, sentences, and paragraphs\n",
    "word_count = count_words(text)\n",
    "char_count = count_characters(text)\n",
    "char_count_no_spaces = count_characters_no_spaces(text)\n",
    "syllable_count = count_syllables(text)\n",
    "sentence_count = count_sentences(text)\n",
    "paragraph_count = count_paragraphs(text)\n",
    "\n",
    "# Print the results\n",
    "print(\"Word count:\", word_count)\n",
    "print(\"Character count:\", char_count)\n",
    "print(\"Character count (excluding spaces):\", char_count_no_spaces)\n",
    "print(\"Syllable count:\", syllable_count)\n",
    "print(\"Sentence count:\", sentence_count)\n",
    "print(\"Paragraph count:\", paragraph_count)"
   ]
  }
 ],
 "metadata": {
  "kernelspec": {
   "display_name": "Python 3",
   "language": "python",
   "name": "python3"
  },
  "language_info": {
   "codemirror_mode": {
    "name": "ipython",
    "version": 3
   },
   "file_extension": ".py",
   "mimetype": "text/x-python",
   "name": "python",
   "nbconvert_exporter": "python",
   "pygments_lexer": "ipython3",
   "version": "3.10.8"
  },
  "orig_nbformat": 4
 },
 "nbformat": 4,
 "nbformat_minor": 2
}
