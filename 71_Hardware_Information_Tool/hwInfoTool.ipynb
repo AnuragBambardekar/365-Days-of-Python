{
 "cells": [
  {
   "attachments": {},
   "cell_type": "markdown",
   "metadata": {},
   "source": [
    "# Hardware Information Tool"
   ]
  },
  {
   "cell_type": "code",
   "execution_count": null,
   "metadata": {},
   "outputs": [],
   "source": [
    "import platform\n",
    "import psutil\n",
    "import cpuinfo\n",
    "import wmi"
   ]
  },
  {
   "attachments": {},
   "cell_type": "markdown",
   "metadata": {},
   "source": [
    "## Information About My CPU"
   ]
  },
  {
   "cell_type": "code",
   "execution_count": null,
   "metadata": {},
   "outputs": [],
   "source": [
    "print(f\"Architecture: {platform.architecture()}\")\n",
    "print(f\"Network Name: {platform.node()}\")\n",
    "print(f\"Operating System: {platform.platform()}\")\n",
    "print(f\"Processor: {platform.processor()}\\n\")\n",
    "\n",
    "my_CPU_info = cpuinfo.get_cpu_info()\n",
    "print(my_CPU_info,\"\\n\")\n",
    "\n",
    "print(f\"Full CPU Name: {my_CPU_info['brand_raw']}\")\n",
    "print(f\"Frequency: {my_CPU_info['hz_actual_friendly']}\")\n",
    "print(f\"Frequency: {my_CPU_info['hz_advertised_friendly']}\\n\")\n",
    "\n",
    "print(my_CPU_info.keys())"
   ]
  },
  {
   "cell_type": "code",
   "execution_count": null,
   "metadata": {},
   "outputs": [],
   "source": [
    "print(\"Machine: \", platform.machine())\n",
    "print(\"System: \", platform.system())\n",
    "print(\"Release: \", platform.release())"
   ]
  },
  {
   "cell_type": "code",
   "execution_count": null,
   "metadata": {},
   "outputs": [],
   "source": [
    "print(\"\\nPython Interpreter Information:\")\n",
    "print(\"Python Implementation: \", platform.python_implementation())\n",
    "print(\"Python Version: \", platform.python_version())\n",
    "print(\"Python Compiler: \", platform.python_compiler())"
   ]
  },
  {
   "attachments": {},
   "cell_type": "markdown",
   "metadata": {},
   "source": [
    "## My RAM Info"
   ]
  },
  {
   "cell_type": "code",
   "execution_count": null,
   "metadata": {},
   "outputs": [],
   "source": [
    "print(psutil.virtual_memory().total) # in bytes\n",
    "print(psutil.virtual_memory().total/1024/1024/1024) # in Gigabytes\n",
    "print(f\"Total RAM: {psutil.virtual_memory().total/1024/1024/1024:.2f} GB\") # in Gigabytes"
   ]
  },
  {
   "attachments": {},
   "cell_type": "markdown",
   "metadata": {},
   "source": [
    "## WMI Library"
   ]
  },
  {
   "cell_type": "code",
   "execution_count": null,
   "metadata": {},
   "outputs": [],
   "source": [
    "pc = wmi.WMI()\n",
    "os_info = pc.Win32_OperatingSystem()[0]\n",
    "print(os_info)"
   ]
  },
  {
   "attachments": {},
   "cell_type": "markdown",
   "metadata": {},
   "source": [
    "## Processor Info"
   ]
  },
  {
   "cell_type": "code",
   "execution_count": null,
   "metadata": {},
   "outputs": [],
   "source": [
    "print(pc.Win32_Processor()[0].name)"
   ]
  },
  {
   "cell_type": "code",
   "execution_count": null,
   "metadata": {},
   "outputs": [],
   "source": [
    "print(pc.Win32_Processor()[0])"
   ]
  },
  {
   "attachments": {},
   "cell_type": "markdown",
   "metadata": {},
   "source": [
    "## GPU Info"
   ]
  },
  {
   "cell_type": "code",
   "execution_count": null,
   "metadata": {},
   "outputs": [],
   "source": [
    "print(pc.Win32_VideoController()[0].name)"
   ]
  },
  {
   "cell_type": "code",
   "execution_count": null,
   "metadata": {},
   "outputs": [],
   "source": [
    "print(pc.Win32_VideoController()[0])"
   ]
  },
  {
   "attachments": {},
   "cell_type": "markdown",
   "metadata": {},
   "source": [
    "## Disk Drive Information"
   ]
  },
  {
   "cell_type": "code",
   "execution_count": null,
   "metadata": {},
   "outputs": [],
   "source": [
    "wmi_service = wmi.WMI()\n",
    "disk_drives = wmi_service.Win32_DiskDrive()\n",
    "print(\"Disk Drive Information:\")\n",
    "for disk_drive in disk_drives:\n",
    "    print(\"Model: \", disk_drive.Model)\n",
    "    print(\"Serial Number: \", disk_drive.SerialNumber)\n",
    "    print(\"Size: \", round(int(disk_drive.Size)/1024**3, 2), \"GB\")\n",
    "    print()"
   ]
  },
  {
   "attachments": {},
   "cell_type": "markdown",
   "metadata": {},
   "source": [
    "## Processor Information"
   ]
  },
  {
   "cell_type": "code",
   "execution_count": null,
   "metadata": {},
   "outputs": [],
   "source": [
    "processors = wmi_service.Win32_Processor()\n",
    "print(\"Processor Information:\")\n",
    "for processor in processors:\n",
    "    print(\"Name: \", processor.Name)\n",
    "    print(\"Manufacturer: \", processor.Manufacturer)\n",
    "    print(\"Max Clock Speed: \", processor.MaxClockSpeed, \"MHz\")\n",
    "    print(\"Number of Cores: \", processor.NumberOfCores)\n",
    "    print()"
   ]
  },
  {
   "cell_type": "code",
   "execution_count": null,
   "metadata": {},
   "outputs": [],
   "source": []
  }
 ],
 "metadata": {
  "kernelspec": {
   "display_name": "Python 3",
   "language": "python",
   "name": "python3"
  },
  "language_info": {
   "codemirror_mode": {
    "name": "ipython",
    "version": 3
   },
   "file_extension": ".py",
   "mimetype": "text/x-python",
   "name": "python",
   "nbconvert_exporter": "python",
   "pygments_lexer": "ipython3",
   "version": "3.10.8"
  },
  "orig_nbformat": 4
 },
 "nbformat": 4,
 "nbformat_minor": 2
}
