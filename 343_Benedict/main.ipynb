{
 "cells": [
  {
   "cell_type": "markdown",
   "metadata": {},
   "source": [
    "# Benedict = Dictionary on Steroids"
   ]
  },
  {
   "cell_type": "markdown",
   "metadata": {},
   "source": [
    "**pip install \"python-benedict[all]\"**"
   ]
  },
  {
   "cell_type": "code",
   "execution_count": 1,
   "metadata": {},
   "outputs": [],
   "source": [
    "from benedict import benedict"
   ]
  },
  {
   "cell_type": "code",
   "execution_count": 2,
   "metadata": {},
   "outputs": [
    {
     "name": "stdout",
     "output_type": "stream",
     "text": [
      "10\n"
     ]
    }
   ],
   "source": [
    "normal_dict = {'a':{'b':{'c':10}}}\n",
    "print(normal_dict['a']['b']['c'])"
   ]
  },
  {
   "cell_type": "code",
   "execution_count": 3,
   "metadata": {},
   "outputs": [],
   "source": [
    "special_dict = benedict(normal_dict)"
   ]
  },
  {
   "cell_type": "code",
   "execution_count": 4,
   "metadata": {},
   "outputs": [
    {
     "name": "stdout",
     "output_type": "stream",
     "text": [
      "{'a': {'b': {'c': 10}}}\n"
     ]
    }
   ],
   "source": [
    "print(special_dict)"
   ]
  },
  {
   "cell_type": "code",
   "execution_count": 5,
   "metadata": {},
   "outputs": [
    {
     "name": "stdout",
     "output_type": "stream",
     "text": [
      "10\n"
     ]
    }
   ],
   "source": [
    "print(special_dict.a.b.c)"
   ]
  },
  {
   "cell_type": "code",
   "execution_count": 6,
   "metadata": {},
   "outputs": [
    {
     "name": "stdout",
     "output_type": "stream",
     "text": [
      "{'a': {'b': {'c': 10}}, 'x': {'y': {'z': 20}}}\n"
     ]
    }
   ],
   "source": [
    "special_dict['x','y','z'] = 20\n",
    "print(special_dict)"
   ]
  },
  {
   "cell_type": "code",
   "execution_count": 7,
   "metadata": {},
   "outputs": [
    {
     "name": "stdout",
     "output_type": "stream",
     "text": [
      "{'a': {'b': {'c': 10}}}\n"
     ]
    }
   ],
   "source": [
    "normal_dict = {'a':{'b':{'c':10}}}\n",
    "print(normal_dict)"
   ]
  },
  {
   "cell_type": "code",
   "execution_count": 8,
   "metadata": {},
   "outputs": [
    {
     "name": "stdout",
     "output_type": "stream",
     "text": [
      "{'a': {'b': {'c': {'d': {'e': {'f': 100}}}}}}\n"
     ]
    }
   ],
   "source": [
    "special_dict2 = benedict(keyattr_dynamic=True)\n",
    "special_dict2.a.b.c.d.e.f = 100\n",
    "print(special_dict2)"
   ]
  },
  {
   "cell_type": "markdown",
   "metadata": {},
   "source": [
    "Can use different file formats"
   ]
  },
  {
   "cell_type": "code",
   "execution_count": 9,
   "metadata": {},
   "outputs": [
    {
     "name": "stdout",
     "output_type": "stream",
     "text": [
      "{'values': [{'id': '1', 'name': 'alice', 'age': '30'}, {'id': '2', 'name': 'bob', 'age': '28'}, {'id': '3', 'name': 'charlie', 'age': '45'}]}\n"
     ]
    }
   ],
   "source": [
    "print(benedict.from_csv('data.csv'))"
   ]
  },
  {
   "cell_type": "code",
   "execution_count": 11,
   "metadata": {},
   "outputs": [
    {
     "name": "stdout",
     "output_type": "stream",
     "text": [
      "{'employees': [{'id': 1, 'name': 'alice', 'age': 30}, {'id': 2, 'name': 'bob', 'age': 35}, {'id': 3, 'name': 'charlie', 'age': 40}]}\n"
     ]
    }
   ],
   "source": [
    "print(benedict.from_json('data.json'))"
   ]
  },
  {
   "cell_type": "code",
   "execution_count": 15,
   "metadata": {},
   "outputs": [
    {
     "name": "stdout",
     "output_type": "stream",
     "text": [
      "{'employees': {'employee': [{'id': '1', 'name': 'alice', 'age': '30'}, {'id': '2', 'name': 'bob', 'age': '35'}, {'id': '3', 'name': 'charlie', 'age': '40'}]}}\n"
     ]
    }
   ],
   "source": [
    "print(benedict.from_xml('data.xml'))"
   ]
  },
  {
   "cell_type": "code",
   "execution_count": 17,
   "metadata": {},
   "outputs": [
    {
     "name": "stdout",
     "output_type": "stream",
     "text": [
      "<?xml version=\"1.0\" encoding=\"utf-8\"?>\n",
      "<a><b><c><d><e><f>100</f></e></d></c></b></a>\n"
     ]
    }
   ],
   "source": [
    "print(special_dict2.to_xml())"
   ]
  },
  {
   "cell_type": "code",
   "execution_count": 19,
   "metadata": {},
   "outputs": [
    {
     "name": "stdout",
     "output_type": "stream",
     "text": [
      "{'a': 1, 'c': 30}\n"
     ]
    }
   ],
   "source": [
    "test = benedict({'a':1,'b':20,'c':30})\n",
    "print(test.filter(lambda k, v: v > 25 or v < 15))"
   ]
  },
  {
   "cell_type": "code",
   "execution_count": 20,
   "metadata": {},
   "outputs": [],
   "source": [
    "data = {\n",
    "    \"people\": [\n",
    "        {\"name\":\"alice\", \"country_code\":'US'},\n",
    "        {\"name\":\"bob\", \"country_code\":'US'},\n",
    "        {\"name\":\"charlie\", \"country_code\":'MX'},\n",
    "        {\"name\":\"daniela\", \"country_code\":'MX'},\n",
    "        {\"name\":\"erik\", \"country_code\":'DE'}\n",
    "    ]\n",
    "}"
   ]
  },
  {
   "cell_type": "code",
   "execution_count": 21,
   "metadata": {},
   "outputs": [],
   "source": [
    "d = benedict(data)"
   ]
  },
  {
   "cell_type": "code",
   "execution_count": 23,
   "metadata": {},
   "outputs": [
    {
     "name": "stdout",
     "output_type": "stream",
     "text": [
      "{'US': [{'name': 'alice', 'country_code': 'US'}, {'name': 'bob', 'country_code': 'US'}], 'MX': [{'name': 'charlie', 'country_code': 'MX'}, {'name': 'daniela', 'country_code': 'MX'}], 'DE': [{'name': 'erik', 'country_code': 'DE'}]}\n"
     ]
    }
   ],
   "source": [
    "print(d.groupby('people', by_key='country_code'))"
   ]
  }
 ],
 "metadata": {
  "kernelspec": {
   "display_name": "Python 3",
   "language": "python",
   "name": "python3"
  },
  "language_info": {
   "codemirror_mode": {
    "name": "ipython",
    "version": 3
   },
   "file_extension": ".py",
   "mimetype": "text/x-python",
   "name": "python",
   "nbconvert_exporter": "python",
   "pygments_lexer": "ipython3",
   "version": "3.10.8"
  }
 },
 "nbformat": 4,
 "nbformat_minor": 2
}
