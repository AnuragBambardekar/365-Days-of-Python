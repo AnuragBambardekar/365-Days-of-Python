{
 "cells": [
  {
   "cell_type": "markdown",
   "metadata": {},
   "source": [
    "# Polars Demo"
   ]
  },
  {
   "cell_type": "code",
   "execution_count": 1,
   "metadata": {},
   "outputs": [],
   "source": [
    "import numpy as np\n",
    "import polars as pl\n",
    "\n",
    "num_rows = 5000\n",
    "rng = np.random.default_rng(seed=7)\n",
    "\n",
    "buildings_data = {\n",
    "    \"sqft\":rng.exponential(scale=1000, size=num_rows),\n",
    "    \"year\":rng.integers(low=1995, high=2023, size=num_rows),\n",
    "    \"building_type\":rng.choice([\"A\",\"B\",\"C\"], size=num_rows)\n",
    "}"
   ]
  },
  {
   "cell_type": "code",
   "execution_count": 2,
   "metadata": {},
   "outputs": [
    {
     "data": {
      "text/html": [
       "<div><style>\n",
       ".dataframe > thead > tr,\n",
       ".dataframe > tbody > tr {\n",
       "  text-align: right;\n",
       "  white-space: pre-wrap;\n",
       "}\n",
       "</style>\n",
       "<small>shape: (5_000, 3)</small><table border=\"1\" class=\"dataframe\"><thead><tr><th>sqft</th><th>year</th><th>building_type</th></tr><tr><td>f64</td><td>i64</td><td>str</td></tr></thead><tbody><tr><td>707.529256</td><td>1996</td><td>&quot;C&quot;</td></tr><tr><td>1025.203348</td><td>2020</td><td>&quot;C&quot;</td></tr><tr><td>568.548657</td><td>2012</td><td>&quot;A&quot;</td></tr><tr><td>895.109864</td><td>2000</td><td>&quot;A&quot;</td></tr><tr><td>206.532754</td><td>2011</td><td>&quot;A&quot;</td></tr><tr><td>3383.637351</td><td>2018</td><td>&quot;B&quot;</td></tr><tr><td>9.753627</td><td>2007</td><td>&quot;A&quot;</td></tr><tr><td>2809.215763</td><td>2004</td><td>&quot;B&quot;</td></tr><tr><td>575.332756</td><td>2021</td><td>&quot;A&quot;</td></tr><tr><td>300.534013</td><td>2003</td><td>&quot;A&quot;</td></tr><tr><td>541.135894</td><td>2017</td><td>&quot;A&quot;</td></tr><tr><td>312.145612</td><td>2014</td><td>&quot;B&quot;</td></tr><tr><td>&hellip;</td><td>&hellip;</td><td>&hellip;</td></tr><tr><td>1231.193702</td><td>2003</td><td>&quot;C&quot;</td></tr><tr><td>130.880251</td><td>2011</td><td>&quot;A&quot;</td></tr><tr><td>197.842124</td><td>2003</td><td>&quot;A&quot;</td></tr><tr><td>1230.728039</td><td>2012</td><td>&quot;C&quot;</td></tr><tr><td>90.221593</td><td>2006</td><td>&quot;B&quot;</td></tr><tr><td>932.780032</td><td>2002</td><td>&quot;A&quot;</td></tr><tr><td>18.457988</td><td>2015</td><td>&quot;B&quot;</td></tr><tr><td>710.435755</td><td>2003</td><td>&quot;C&quot;</td></tr><tr><td>408.872783</td><td>2009</td><td>&quot;C&quot;</td></tr><tr><td>57.562059</td><td>2019</td><td>&quot;C&quot;</td></tr><tr><td>3728.088949</td><td>2020</td><td>&quot;C&quot;</td></tr><tr><td>686.678345</td><td>2011</td><td>&quot;C&quot;</td></tr></tbody></table></div>"
      ],
      "text/plain": [
       "shape: (5_000, 3)\n",
       "┌─────────────┬──────┬───────────────┐\n",
       "│ sqft        ┆ year ┆ building_type │\n",
       "│ ---         ┆ ---  ┆ ---           │\n",
       "│ f64         ┆ i64  ┆ str           │\n",
       "╞═════════════╪══════╪═══════════════╡\n",
       "│ 707.529256  ┆ 1996 ┆ C             │\n",
       "│ 1025.203348 ┆ 2020 ┆ C             │\n",
       "│ 568.548657  ┆ 2012 ┆ A             │\n",
       "│ 895.109864  ┆ 2000 ┆ A             │\n",
       "│ …           ┆ …    ┆ …             │\n",
       "│ 408.872783  ┆ 2009 ┆ C             │\n",
       "│ 57.562059   ┆ 2019 ┆ C             │\n",
       "│ 3728.088949 ┆ 2020 ┆ C             │\n",
       "│ 686.678345  ┆ 2011 ┆ C             │\n",
       "└─────────────┴──────┴───────────────┘"
      ]
     },
     "execution_count": 2,
     "metadata": {},
     "output_type": "execute_result"
    }
   ],
   "source": [
    "buildings = pl.DataFrame(buildings_data)\n",
    "buildings"
   ]
  },
  {
   "cell_type": "code",
   "execution_count": 3,
   "metadata": {},
   "outputs": [
    {
     "data": {
      "text/plain": [
       "OrderedDict([('sqft', Float64), ('year', Int64), ('building_type', Utf8)])"
      ]
     },
     "execution_count": 3,
     "metadata": {},
     "output_type": "execute_result"
    }
   ],
   "source": [
    "buildings.schema"
   ]
  },
  {
   "cell_type": "code",
   "execution_count": 4,
   "metadata": {},
   "outputs": [
    {
     "data": {
      "text/html": [
       "<div><style>\n",
       ".dataframe > thead > tr,\n",
       ".dataframe > tbody > tr {\n",
       "  text-align: right;\n",
       "  white-space: pre-wrap;\n",
       "}\n",
       "</style>\n",
       "<small>shape: (5, 3)</small><table border=\"1\" class=\"dataframe\"><thead><tr><th>sqft</th><th>year</th><th>building_type</th></tr><tr><td>f64</td><td>i64</td><td>str</td></tr></thead><tbody><tr><td>707.529256</td><td>1996</td><td>&quot;C&quot;</td></tr><tr><td>1025.203348</td><td>2020</td><td>&quot;C&quot;</td></tr><tr><td>568.548657</td><td>2012</td><td>&quot;A&quot;</td></tr><tr><td>895.109864</td><td>2000</td><td>&quot;A&quot;</td></tr><tr><td>206.532754</td><td>2011</td><td>&quot;A&quot;</td></tr></tbody></table></div>"
      ],
      "text/plain": [
       "shape: (5, 3)\n",
       "┌─────────────┬──────┬───────────────┐\n",
       "│ sqft        ┆ year ┆ building_type │\n",
       "│ ---         ┆ ---  ┆ ---           │\n",
       "│ f64         ┆ i64  ┆ str           │\n",
       "╞═════════════╪══════╪═══════════════╡\n",
       "│ 707.529256  ┆ 1996 ┆ C             │\n",
       "│ 1025.203348 ┆ 2020 ┆ C             │\n",
       "│ 568.548657  ┆ 2012 ┆ A             │\n",
       "│ 895.109864  ┆ 2000 ┆ A             │\n",
       "│ 206.532754  ┆ 2011 ┆ A             │\n",
       "└─────────────┴──────┴───────────────┘"
      ]
     },
     "execution_count": 4,
     "metadata": {},
     "output_type": "execute_result"
    }
   ],
   "source": [
    "buildings.head()"
   ]
  },
  {
   "cell_type": "code",
   "execution_count": 5,
   "metadata": {},
   "outputs": [
    {
     "data": {
      "text/html": [
       "<div><style>\n",
       ".dataframe > thead > tr,\n",
       ".dataframe > tbody > tr {\n",
       "  text-align: right;\n",
       "  white-space: pre-wrap;\n",
       "}\n",
       "</style>\n",
       "<small>shape: (9, 4)</small><table border=\"1\" class=\"dataframe\"><thead><tr><th>describe</th><th>sqft</th><th>year</th><th>building_type</th></tr><tr><td>str</td><td>f64</td><td>f64</td><td>str</td></tr></thead><tbody><tr><td>&quot;count&quot;</td><td>5000.0</td><td>5000.0</td><td>&quot;5000&quot;</td></tr><tr><td>&quot;null_count&quot;</td><td>0.0</td><td>0.0</td><td>&quot;0&quot;</td></tr><tr><td>&quot;mean&quot;</td><td>994.094456</td><td>2008.5258</td><td>null</td></tr><tr><td>&quot;std&quot;</td><td>1016.641569</td><td>8.062353</td><td>null</td></tr><tr><td>&quot;min&quot;</td><td>1.133256</td><td>1995.0</td><td>&quot;A&quot;</td></tr><tr><td>&quot;25%&quot;</td><td>286.807549</td><td>2001.0</td><td>null</td></tr><tr><td>&quot;50%&quot;</td><td>669.406964</td><td>2009.0</td><td>null</td></tr><tr><td>&quot;75%&quot;</td><td>1343.539279</td><td>2015.0</td><td>null</td></tr><tr><td>&quot;max&quot;</td><td>9307.793917</td><td>2022.0</td><td>&quot;C&quot;</td></tr></tbody></table></div>"
      ],
      "text/plain": [
       "shape: (9, 4)\n",
       "┌────────────┬─────────────┬───────────┬───────────────┐\n",
       "│ describe   ┆ sqft        ┆ year      ┆ building_type │\n",
       "│ ---        ┆ ---         ┆ ---       ┆ ---           │\n",
       "│ str        ┆ f64         ┆ f64       ┆ str           │\n",
       "╞════════════╪═════════════╪═══════════╪═══════════════╡\n",
       "│ count      ┆ 5000.0      ┆ 5000.0    ┆ 5000          │\n",
       "│ null_count ┆ 0.0         ┆ 0.0       ┆ 0             │\n",
       "│ mean       ┆ 994.094456  ┆ 2008.5258 ┆ null          │\n",
       "│ std        ┆ 1016.641569 ┆ 8.062353  ┆ null          │\n",
       "│ min        ┆ 1.133256    ┆ 1995.0    ┆ A             │\n",
       "│ 25%        ┆ 286.807549  ┆ 2001.0    ┆ null          │\n",
       "│ 50%        ┆ 669.406964  ┆ 2009.0    ┆ null          │\n",
       "│ 75%        ┆ 1343.539279 ┆ 2015.0    ┆ null          │\n",
       "│ max        ┆ 9307.793917 ┆ 2022.0    ┆ C             │\n",
       "└────────────┴─────────────┴───────────┴───────────────┘"
      ]
     },
     "execution_count": 5,
     "metadata": {},
     "output_type": "execute_result"
    }
   ],
   "source": [
    "buildings.describe()"
   ]
  },
  {
   "cell_type": "code",
   "execution_count": 6,
   "metadata": {},
   "outputs": [
    {
     "data": {
      "text/html": [
       "<div><style>\n",
       ".dataframe > thead > tr,\n",
       ".dataframe > tbody > tr {\n",
       "  text-align: right;\n",
       "  white-space: pre-wrap;\n",
       "}\n",
       "</style>\n",
       "<small>shape: (5_000, 1)</small><table border=\"1\" class=\"dataframe\"><thead><tr><th>sqft</th></tr><tr><td>f64</td></tr></thead><tbody><tr><td>707.529256</td></tr><tr><td>1025.203348</td></tr><tr><td>568.548657</td></tr><tr><td>895.109864</td></tr><tr><td>206.532754</td></tr><tr><td>3383.637351</td></tr><tr><td>9.753627</td></tr><tr><td>2809.215763</td></tr><tr><td>575.332756</td></tr><tr><td>300.534013</td></tr><tr><td>541.135894</td></tr><tr><td>312.145612</td></tr><tr><td>&hellip;</td></tr><tr><td>1231.193702</td></tr><tr><td>130.880251</td></tr><tr><td>197.842124</td></tr><tr><td>1230.728039</td></tr><tr><td>90.221593</td></tr><tr><td>932.780032</td></tr><tr><td>18.457988</td></tr><tr><td>710.435755</td></tr><tr><td>408.872783</td></tr><tr><td>57.562059</td></tr><tr><td>3728.088949</td></tr><tr><td>686.678345</td></tr></tbody></table></div>"
      ],
      "text/plain": [
       "shape: (5_000, 1)\n",
       "┌─────────────┐\n",
       "│ sqft        │\n",
       "│ ---         │\n",
       "│ f64         │\n",
       "╞═════════════╡\n",
       "│ 707.529256  │\n",
       "│ 1025.203348 │\n",
       "│ 568.548657  │\n",
       "│ 895.109864  │\n",
       "│ …           │\n",
       "│ 408.872783  │\n",
       "│ 57.562059   │\n",
       "│ 3728.088949 │\n",
       "│ 686.678345  │\n",
       "└─────────────┘"
      ]
     },
     "execution_count": 6,
     "metadata": {},
     "output_type": "execute_result"
    }
   ],
   "source": [
    "# Contexts\n",
    "buildings.select(\"sqft\")"
   ]
  },
  {
   "cell_type": "code",
   "execution_count": 7,
   "metadata": {},
   "outputs": [
    {
     "data": {
      "text/html": [
       "<div><style>\n",
       ".dataframe > thead > tr,\n",
       ".dataframe > tbody > tr {\n",
       "  text-align: right;\n",
       "  white-space: pre-wrap;\n",
       "}\n",
       "</style>\n",
       "<small>shape: (5_000, 1)</small><table border=\"1\" class=\"dataframe\"><thead><tr><th>sqft</th></tr><tr><td>f64</td></tr></thead><tbody><tr><td>707.529256</td></tr><tr><td>1025.203348</td></tr><tr><td>568.548657</td></tr><tr><td>895.109864</td></tr><tr><td>206.532754</td></tr><tr><td>3383.637351</td></tr><tr><td>9.753627</td></tr><tr><td>2809.215763</td></tr><tr><td>575.332756</td></tr><tr><td>300.534013</td></tr><tr><td>541.135894</td></tr><tr><td>312.145612</td></tr><tr><td>&hellip;</td></tr><tr><td>1231.193702</td></tr><tr><td>130.880251</td></tr><tr><td>197.842124</td></tr><tr><td>1230.728039</td></tr><tr><td>90.221593</td></tr><tr><td>932.780032</td></tr><tr><td>18.457988</td></tr><tr><td>710.435755</td></tr><tr><td>408.872783</td></tr><tr><td>57.562059</td></tr><tr><td>3728.088949</td></tr><tr><td>686.678345</td></tr></tbody></table></div>"
      ],
      "text/plain": [
       "shape: (5_000, 1)\n",
       "┌─────────────┐\n",
       "│ sqft        │\n",
       "│ ---         │\n",
       "│ f64         │\n",
       "╞═════════════╡\n",
       "│ 707.529256  │\n",
       "│ 1025.203348 │\n",
       "│ 568.548657  │\n",
       "│ 895.109864  │\n",
       "│ …           │\n",
       "│ 408.872783  │\n",
       "│ 57.562059   │\n",
       "│ 3728.088949 │\n",
       "│ 686.678345  │\n",
       "└─────────────┘"
      ]
     },
     "execution_count": 7,
     "metadata": {},
     "output_type": "execute_result"
    }
   ],
   "source": [
    "buildings.select(pl.col(\"sqft\")) # more powerful"
   ]
  },
  {
   "cell_type": "code",
   "execution_count": 8,
   "metadata": {},
   "outputs": [
    {
     "data": {
      "text/html": [
       "<div><style>\n",
       ".dataframe > thead > tr,\n",
       ".dataframe > tbody > tr {\n",
       "  text-align: right;\n",
       "  white-space: pre-wrap;\n",
       "}\n",
       "</style>\n",
       "<small>shape: (5_000, 1)</small><table border=\"1\" class=\"dataframe\"><thead><tr><th>sqft</th></tr><tr><td>f64</td></tr></thead><tbody><tr><td>0.001133</td></tr><tr><td>0.001152</td></tr><tr><td>0.001429</td></tr><tr><td>0.001439</td></tr><tr><td>0.001505</td></tr><tr><td>0.001597</td></tr><tr><td>0.001747</td></tr><tr><td>0.00195</td></tr><tr><td>0.002005</td></tr><tr><td>0.002024</td></tr><tr><td>0.002132</td></tr><tr><td>0.002165</td></tr><tr><td>&hellip;</td></tr><tr><td>6.276962</td></tr><tr><td>6.371619</td></tr><tr><td>6.376519</td></tr><tr><td>6.49438</td></tr><tr><td>6.529119</td></tr><tr><td>6.585621</td></tr><tr><td>6.692962</td></tr><tr><td>6.931917</td></tr><tr><td>7.247539</td></tr><tr><td>7.629569</td></tr><tr><td>8.313942</td></tr><tr><td>9.307794</td></tr></tbody></table></div>"
      ],
      "text/plain": [
       "shape: (5_000, 1)\n",
       "┌──────────┐\n",
       "│ sqft     │\n",
       "│ ---      │\n",
       "│ f64      │\n",
       "╞══════════╡\n",
       "│ 0.001133 │\n",
       "│ 0.001152 │\n",
       "│ 0.001429 │\n",
       "│ 0.001439 │\n",
       "│ …        │\n",
       "│ 7.247539 │\n",
       "│ 7.629569 │\n",
       "│ 8.313942 │\n",
       "│ 9.307794 │\n",
       "└──────────┘"
      ]
     },
     "execution_count": 8,
     "metadata": {},
     "output_type": "execute_result"
    }
   ],
   "source": [
    "buildings.select(pl.col(\"sqft\").sort() / 1000)"
   ]
  },
  {
   "cell_type": "code",
   "execution_count": 9,
   "metadata": {},
   "outputs": [
    {
     "data": {
      "text/html": [
       "<div><style>\n",
       ".dataframe > thead > tr,\n",
       ".dataframe > tbody > tr {\n",
       "  text-align: right;\n",
       "  white-space: pre-wrap;\n",
       "}\n",
       "</style>\n",
       "<small>shape: (1_230, 3)</small><table border=\"1\" class=\"dataframe\"><thead><tr><th>sqft</th><th>year</th><th>building_type</th></tr><tr><td>f64</td><td>i64</td><td>str</td></tr></thead><tbody><tr><td>1025.203348</td><td>2020</td><td>&quot;C&quot;</td></tr><tr><td>3383.637351</td><td>2018</td><td>&quot;B&quot;</td></tr><tr><td>575.332756</td><td>2021</td><td>&quot;A&quot;</td></tr><tr><td>541.135894</td><td>2017</td><td>&quot;A&quot;</td></tr><tr><td>735.857274</td><td>2021</td><td>&quot;A&quot;</td></tr><tr><td>60.046343</td><td>2017</td><td>&quot;C&quot;</td></tr><tr><td>2195.964802</td><td>2017</td><td>&quot;C&quot;</td></tr><tr><td>250.345347</td><td>2018</td><td>&quot;C&quot;</td></tr><tr><td>3795.412485</td><td>2019</td><td>&quot;B&quot;</td></tr><tr><td>1748.099214</td><td>2021</td><td>&quot;A&quot;</td></tr><tr><td>144.946517</td><td>2018</td><td>&quot;B&quot;</td></tr><tr><td>302.553827</td><td>2018</td><td>&quot;C&quot;</td></tr><tr><td>&hellip;</td><td>&hellip;</td><td>&hellip;</td></tr><tr><td>506.115276</td><td>2021</td><td>&quot;C&quot;</td></tr><tr><td>58.079191</td><td>2018</td><td>&quot;C&quot;</td></tr><tr><td>429.257142</td><td>2020</td><td>&quot;C&quot;</td></tr><tr><td>447.423351</td><td>2020</td><td>&quot;B&quot;</td></tr><tr><td>300.07268</td><td>2022</td><td>&quot;A&quot;</td></tr><tr><td>563.562963</td><td>2018</td><td>&quot;A&quot;</td></tr><tr><td>2158.685557</td><td>2016</td><td>&quot;A&quot;</td></tr><tr><td>318.872944</td><td>2020</td><td>&quot;B&quot;</td></tr><tr><td>1722.493329</td><td>2018</td><td>&quot;C&quot;</td></tr><tr><td>2468.151508</td><td>2022</td><td>&quot;B&quot;</td></tr><tr><td>57.562059</td><td>2019</td><td>&quot;C&quot;</td></tr><tr><td>3728.088949</td><td>2020</td><td>&quot;C&quot;</td></tr></tbody></table></div>"
      ],
      "text/plain": [
       "shape: (1_230, 3)\n",
       "┌─────────────┬──────┬───────────────┐\n",
       "│ sqft        ┆ year ┆ building_type │\n",
       "│ ---         ┆ ---  ┆ ---           │\n",
       "│ f64         ┆ i64  ┆ str           │\n",
       "╞═════════════╪══════╪═══════════════╡\n",
       "│ 1025.203348 ┆ 2020 ┆ C             │\n",
       "│ 3383.637351 ┆ 2018 ┆ B             │\n",
       "│ 575.332756  ┆ 2021 ┆ A             │\n",
       "│ 541.135894  ┆ 2017 ┆ A             │\n",
       "│ …           ┆ …    ┆ …             │\n",
       "│ 1722.493329 ┆ 2018 ┆ C             │\n",
       "│ 2468.151508 ┆ 2022 ┆ B             │\n",
       "│ 57.562059   ┆ 2019 ┆ C             │\n",
       "│ 3728.088949 ┆ 2020 ┆ C             │\n",
       "└─────────────┴──────┴───────────────┘"
      ]
     },
     "execution_count": 9,
     "metadata": {},
     "output_type": "execute_result"
    }
   ],
   "source": [
    "after_2015 = buildings.filter(pl.col(\"year\") > 2015)\n",
    "after_2015"
   ]
  },
  {
   "cell_type": "code",
   "execution_count": 10,
   "metadata": {},
   "outputs": [
    {
     "data": {
      "text/html": [
       "<div><style>\n",
       ".dataframe > thead > tr,\n",
       ".dataframe > tbody > tr {\n",
       "  text-align: right;\n",
       "  white-space: pre-wrap;\n",
       "}\n",
       "</style>\n",
       "<small>shape: (1, 1)</small><table border=\"1\" class=\"dataframe\"><thead><tr><th>year</th></tr><tr><td>i64</td></tr></thead><tbody><tr><td>2016</td></tr></tbody></table></div>"
      ],
      "text/plain": [
       "shape: (1, 1)\n",
       "┌──────┐\n",
       "│ year │\n",
       "│ ---  │\n",
       "│ i64  │\n",
       "╞══════╡\n",
       "│ 2016 │\n",
       "└──────┘"
      ]
     },
     "execution_count": 10,
     "metadata": {},
     "output_type": "execute_result"
    }
   ],
   "source": [
    "after_2015.select(pl.col(\"year\").min())"
   ]
  },
  {
   "cell_type": "code",
   "execution_count": 11,
   "metadata": {},
   "outputs": [
    {
     "name": "stderr",
     "output_type": "stream",
     "text": [
      "C:\\Users\\anura\\AppData\\Local\\Temp\\ipykernel_47072\\2391365277.py:1: DeprecationWarning: `groupby` is deprecated. It has been renamed to `group_by`.\n",
      "  buildings.groupby(\"building_type\").agg(\n"
     ]
    },
    {
     "data": {
      "text/html": [
       "<div><style>\n",
       ".dataframe > thead > tr,\n",
       ".dataframe > tbody > tr {\n",
       "  text-align: right;\n",
       "  white-space: pre-wrap;\n",
       "}\n",
       "</style>\n",
       "<small>shape: (3, 4)</small><table border=\"1\" class=\"dataframe\"><thead><tr><th>building_type</th><th>mean_sqft</th><th>median_year</th><th>count</th></tr><tr><td>str</td><td>f64</td><td>f64</td><td>u32</td></tr></thead><tbody><tr><td>&quot;C&quot;</td><td>999.854722</td><td>2009.0</td><td>1692</td></tr><tr><td>&quot;B&quot;</td><td>992.754444</td><td>2009.0</td><td>1655</td></tr><tr><td>&quot;A&quot;</td><td>989.539918</td><td>2009.0</td><td>1653</td></tr></tbody></table></div>"
      ],
      "text/plain": [
       "shape: (3, 4)\n",
       "┌───────────────┬────────────┬─────────────┬───────┐\n",
       "│ building_type ┆ mean_sqft  ┆ median_year ┆ count │\n",
       "│ ---           ┆ ---        ┆ ---         ┆ ---   │\n",
       "│ str           ┆ f64        ┆ f64         ┆ u32   │\n",
       "╞═══════════════╪════════════╪═════════════╪═══════╡\n",
       "│ C             ┆ 999.854722 ┆ 2009.0      ┆ 1692  │\n",
       "│ B             ┆ 992.754444 ┆ 2009.0      ┆ 1655  │\n",
       "│ A             ┆ 989.539918 ┆ 2009.0      ┆ 1653  │\n",
       "└───────────────┴────────────┴─────────────┴───────┘"
      ]
     },
     "execution_count": 11,
     "metadata": {},
     "output_type": "execute_result"
    }
   ],
   "source": [
    "buildings.groupby(\"building_type\").agg(\n",
    "    [\n",
    "        pl.mean(\"sqft\").alias(\"mean_sqft\"),\n",
    "        pl.median(\"year\").alias(\"median_year\"),\n",
    "        pl.count(),\n",
    "    ]\n",
    ")"
   ]
  },
  {
   "cell_type": "markdown",
   "metadata": {},
   "source": [
    "## The Lazy API\n",
    "\n",
    "With the lazy API, you can specify a sequence of operations without immediately running them. Instead, these operations are saved as a computational graph and only run when necessary. This allows Polars to optimize queries before execution, catch schema errors before the data is processed, and perform memory-efficient queries on datasets that don’t fit into memory."
   ]
  },
  {
   "cell_type": "code",
   "execution_count": 12,
   "metadata": {},
   "outputs": [
    {
     "data": {
      "text/html": [
       "<h4>NAIVE QUERY PLAN</h4><p>run <b>LazyFrame.show_graph()</b> to see the optimized version</p><?xml version=\"1.0\" encoding=\"UTF-8\" standalone=\"no\"?>\r\n",
       "<!DOCTYPE svg PUBLIC \"-//W3C//DTD SVG 1.1//EN\"\r\n",
       " \"http://www.w3.org/Graphics/SVG/1.1/DTD/svg11.dtd\">\r\n",
       "<!-- Generated by graphviz version 9.0.0 (20230911.1827)\r\n",
       " -->\r\n",
       "<!-- Title: polars_query Pages: 1 -->\r\n",
       "<svg width=\"73pt\" height=\"63pt\"\r\n",
       " viewBox=\"0.00 0.00 72.75 63.25\" xmlns=\"http://www.w3.org/2000/svg\" xmlns:xlink=\"http://www.w3.org/1999/xlink\">\r\n",
       "<g id=\"graph0\" class=\"graph\" transform=\"scale(1 1) rotate(0) translate(4 59.25)\">\r\n",
       "<title>polars_query</title>\r\n",
       "<polygon fill=\"white\" stroke=\"none\" points=\"-4,4 -4,-59.25 68.75,-59.25 68.75,4 -4,4\"/>\r\n",
       "<!-- [TABLE\r\n",
       "π */4;\r\n",
       "σ &#45;;] -->\r\n",
       "<g id=\"node1\" class=\"node\">\r\n",
       "<title>[TABLE\r\n",
       "π */4;\r\n",
       "σ &#45;;]</title>\r\n",
       "<polygon fill=\"none\" stroke=\"black\" points=\"64.75,-55.25 0,-55.25 0,0 64.75,0 64.75,-55.25\"/>\r\n",
       "<text text-anchor=\"middle\" x=\"32.38\" y=\"-37.95\" font-family=\"Times New Roman,serif\" font-size=\"14.00\">[TABLE</text>\r\n",
       "<text text-anchor=\"middle\" x=\"32.38\" y=\"-22.2\" font-family=\"Times New Roman,serif\" font-size=\"14.00\">π */4;</text>\r\n",
       "<text text-anchor=\"middle\" x=\"32.38\" y=\"-6.45\" font-family=\"Times New Roman,serif\" font-size=\"14.00\">σ &#45;;]</text>\r\n",
       "</g>\r\n",
       "</g>\r\n",
       "</svg>\r\n"
      ],
      "text/plain": [
       "<LazyFrame [4 cols, {\"sqft\": Float64 … \"building_type\": Utf8}] at 0x28A021D3B20>"
      ]
     },
     "execution_count": 12,
     "metadata": {},
     "output_type": "execute_result"
    }
   ],
   "source": [
    "num_rows = 5000\n",
    "rng = np.random.default_rng(seed=7)\n",
    "\n",
    "buildings = {\n",
    "   \"sqft\": rng.exponential(scale=1000, size=num_rows),\n",
    "   \"price\": rng.exponential(scale=100_000, size=num_rows),\n",
    "   \"year\": rng.integers(low=1995, high=2023, size=num_rows),\n",
    "   \"building_type\": rng.choice([\"A\", \"B\", \"C\"], size=num_rows),\n",
    "}\n",
    "buildings_lazy = pl.LazyFrame(buildings)\n",
    "buildings_lazy"
   ]
  },
  {
   "cell_type": "code",
   "execution_count": 13,
   "metadata": {},
   "outputs": [
    {
     "data": {
      "text/html": [
       "<h4>NAIVE QUERY PLAN</h4><p>run <b>LazyFrame.show_graph()</b> to see the optimized version</p><?xml version=\"1.0\" encoding=\"UTF-8\" standalone=\"no\"?>\r\n",
       "<!DOCTYPE svg PUBLIC \"-//W3C//DTD SVG 1.1//EN\"\r\n",
       " \"http://www.w3.org/Graphics/SVG/1.1/DTD/svg11.dtd\">\r\n",
       "<!-- Generated by graphviz version 9.0.0 (20230911.1827)\r\n",
       " -->\r\n",
       "<!-- Title: polars_query Pages: 1 -->\r\n",
       "<svg width=\"251pt\" height=\"279pt\"\r\n",
       " viewBox=\"0.00 0.00 251.25 279.25\" xmlns=\"http://www.w3.org/2000/svg\" xmlns:xlink=\"http://www.w3.org/1999/xlink\">\r\n",
       "<g id=\"graph0\" class=\"graph\" transform=\"scale(1 1) rotate(0) translate(4 275.25)\">\r\n",
       "<title>polars_query</title>\r\n",
       "<polygon fill=\"white\" stroke=\"none\" points=\"-4,4 -4,-275.25 247.25,-275.25 247.25,4 -4,4\"/>\r\n",
       "<!-- FILTER BY (col(&quot;year&quot;)) &lt; (2010) [(0, 0)] -->\r\n",
       "<g id=\"node1\" class=\"node\">\r\n",
       "<title>FILTER BY (col(&quot;year&quot;)) &lt; (2010) [(0, 0)]</title>\r\n",
       "<polygon fill=\"none\" stroke=\"black\" points=\"227.88,-271.25 15.38,-271.25 15.38,-235.25 227.88,-235.25 227.88,-271.25\"/>\r\n",
       "<text text-anchor=\"middle\" x=\"121.62\" y=\"-247.82\" font-family=\"Times New Roman,serif\" font-size=\"14.00\">FILTER BY (col(&quot;year&quot;)) &lt; (2010)</text>\r\n",
       "</g>\r\n",
       "<!-- FILTER BY (col(&quot;price_per_sqft&quot;)) &gt;... [(0, 1)] -->\r\n",
       "<g id=\"node2\" class=\"node\">\r\n",
       "<title>FILTER BY (col(&quot;price_per_sqft&quot;)) &gt;... [(0, 1)]</title>\r\n",
       "<polygon fill=\"none\" stroke=\"black\" points=\"243.25,-199.25 0,-199.25 0,-163.25 243.25,-163.25 243.25,-199.25\"/>\r\n",
       "<text text-anchor=\"middle\" x=\"121.62\" y=\"-175.82\" font-family=\"Times New Roman,serif\" font-size=\"14.00\">FILTER BY (col(&quot;price_per_sqft&quot;)) &gt;...</text>\r\n",
       "</g>\r\n",
       "<!-- FILTER BY (col(&quot;year&quot;)) &lt; (2010) [(0, 0)]&#45;&#45;FILTER BY (col(&quot;price_per_sqft&quot;)) &gt;... [(0, 1)] -->\r\n",
       "<g id=\"edge1\" class=\"edge\">\r\n",
       "<title>FILTER BY (col(&quot;year&quot;)) &lt; (2010) [(0, 0)]&#45;&#45;FILTER BY (col(&quot;price_per_sqft&quot;)) &gt;... [(0, 1)]</title>\r\n",
       "<path fill=\"none\" stroke=\"black\" d=\"M121.62,-234.95C121.62,-224.1 121.62,-210.17 121.62,-199.35\"/>\r\n",
       "</g>\r\n",
       "<!-- WITH COLUMNS [&quot;price_per_sqft&quot;] [(0, 2)] -->\r\n",
       "<g id=\"node3\" class=\"node\">\r\n",
       "<title>WITH COLUMNS [&quot;price_per_sqft&quot;] [(0, 2)]</title>\r\n",
       "<polygon fill=\"none\" stroke=\"black\" points=\"237.62,-127.25 5.62,-127.25 5.62,-91.25 237.62,-91.25 237.62,-127.25\"/>\r\n",
       "<text text-anchor=\"middle\" x=\"121.62\" y=\"-103.83\" font-family=\"Times New Roman,serif\" font-size=\"14.00\">WITH COLUMNS [&quot;price_per_sqft&quot;]</text>\r\n",
       "</g>\r\n",
       "<!-- FILTER BY (col(&quot;price_per_sqft&quot;)) &gt;... [(0, 1)]&#45;&#45;WITH COLUMNS [&quot;price_per_sqft&quot;] [(0, 2)] -->\r\n",
       "<g id=\"edge2\" class=\"edge\">\r\n",
       "<title>FILTER BY (col(&quot;price_per_sqft&quot;)) &gt;... [(0, 1)]&#45;&#45;WITH COLUMNS [&quot;price_per_sqft&quot;] [(0, 2)]</title>\r\n",
       "<path fill=\"none\" stroke=\"black\" d=\"M121.62,-162.95C121.62,-152.1 121.62,-138.17 121.62,-127.35\"/>\r\n",
       "</g>\r\n",
       "<!-- TABLE\r\n",
       "π */4;\r\n",
       "σ &#45;; [(0, 3)] -->\r\n",
       "<g id=\"node4\" class=\"node\">\r\n",
       "<title>TABLE\r\n",
       "π */4;\r\n",
       "σ &#45;; [(0, 3)]</title>\r\n",
       "<polygon fill=\"none\" stroke=\"black\" points=\"151.75,-55.25 91.5,-55.25 91.5,0 151.75,0 151.75,-55.25\"/>\r\n",
       "<text text-anchor=\"middle\" x=\"121.62\" y=\"-37.95\" font-family=\"Times New Roman,serif\" font-size=\"14.00\">TABLE</text>\r\n",
       "<text text-anchor=\"middle\" x=\"121.62\" y=\"-22.2\" font-family=\"Times New Roman,serif\" font-size=\"14.00\">π */4;</text>\r\n",
       "<text text-anchor=\"middle\" x=\"121.62\" y=\"-6.45\" font-family=\"Times New Roman,serif\" font-size=\"14.00\">σ &#45;;</text>\r\n",
       "</g>\r\n",
       "<!-- WITH COLUMNS [&quot;price_per_sqft&quot;] [(0, 2)]&#45;&#45;TABLE\r\n",
       "π */4;\r\n",
       "σ &#45;; [(0, 3)] -->\r\n",
       "<g id=\"edge3\" class=\"edge\">\r\n",
       "<title>WITH COLUMNS [&quot;price_per_sqft&quot;] [(0, 2)]&#45;&#45;TABLE\r\n",
       "π */4;\r\n",
       "σ &#45;; [(0, 3)]</title>\r\n",
       "<path fill=\"none\" stroke=\"black\" d=\"M121.62,-90.97C121.62,-80.64 121.62,-67.28 121.62,-55.58\"/>\r\n",
       "</g>\r\n",
       "</g>\r\n",
       "</svg>\r\n"
      ],
      "text/plain": [
       "<LazyFrame [5 cols, {\"sqft\": Float64 … \"price_per_sqft\": Float64}] at 0x28A21B59C90>"
      ]
     },
     "execution_count": 13,
     "metadata": {},
     "output_type": "execute_result"
    }
   ],
   "source": [
    "lazy_query = (\n",
    "   buildings_lazy\n",
    "   .with_columns(\n",
    "       (pl.col(\"price\") / pl.col(\"sqft\")).alias(\"price_per_sqft\")\n",
    "   )\n",
    "   .filter(pl.col(\"price_per_sqft\") > 100)\n",
    "   .filter(pl.col(\"year\") < 2010)\n",
    ")\n",
    "lazy_query"
   ]
  },
  {
   "cell_type": "code",
   "execution_count": 14,
   "metadata": {},
   "outputs": [
    {
     "data": {
      "image/svg+xml": [
       "<svg xmlns=\"http://www.w3.org/2000/svg\" xmlns:xlink=\"http://www.w3.org/1999/xlink\" width=\"251pt\" height=\"207pt\" viewBox=\"0.00 0.00 251.25 207.25\">\n",
       "<g id=\"graph0\" class=\"graph\" transform=\"scale(1 1) rotate(0) translate(4 203.25)\">\n",
       "<title>polars_query</title>\n",
       "<polygon fill=\"white\" stroke=\"none\" points=\"-4,4 -4,-203.25 247.25,-203.25 247.25,4 -4,4\"/>\n",
       "<!-- FILTER BY (col(&quot;price_per_sqft&quot;)) &gt;... [(0, 0)] -->\n",
       "<g id=\"node1\" class=\"node\">\n",
       "<title>FILTER BY (col(&quot;price_per_sqft&quot;)) &gt;... [(0, 0)]</title>\n",
       "<polygon fill=\"none\" stroke=\"black\" points=\"243.25,-199.25 0,-199.25 0,-163.25 243.25,-163.25 243.25,-199.25\"/>\n",
       "<text text-anchor=\"middle\" x=\"121.62\" y=\"-175.82\" font-family=\"Times New Roman,serif\" font-size=\"14.00\">FILTER BY (col(&quot;price_per_sqft&quot;)) &gt;...</text>\n",
       "</g>\n",
       "<!-- WITH COLUMNS [&quot;price_per_sqft&quot;] [(0, 1)] -->\n",
       "<g id=\"node2\" class=\"node\">\n",
       "<title>WITH COLUMNS [&quot;price_per_sqft&quot;] [(0, 1)]</title>\n",
       "<polygon fill=\"none\" stroke=\"black\" points=\"237.62,-127.25 5.62,-127.25 5.62,-91.25 237.62,-91.25 237.62,-127.25\"/>\n",
       "<text text-anchor=\"middle\" x=\"121.62\" y=\"-103.83\" font-family=\"Times New Roman,serif\" font-size=\"14.00\">WITH COLUMNS [&quot;price_per_sqft&quot;]</text>\n",
       "</g>\n",
       "<!-- FILTER BY (col(&quot;price_per_sqft&quot;)) &gt;... [(0, 0)]&#45;&#45;WITH COLUMNS [&quot;price_per_sqft&quot;] [(0, 1)] -->\n",
       "<g id=\"edge1\" class=\"edge\">\n",
       "<title>FILTER BY (col(&quot;price_per_sqft&quot;)) &gt;... [(0, 0)]--WITH COLUMNS [&quot;price_per_sqft&quot;] [(0, 1)]</title>\n",
       "<path fill=\"none\" stroke=\"black\" d=\"M121.62,-162.95C121.62,-152.1 121.62,-138.17 121.62,-127.35\"/>\n",
       "</g>\n",
       "<!-- TABLE\n",
       "π */4;\n",
       "σ (col(&quot;year&quot;)) &lt; (2010); [(0, 2)] -->\n",
       "<g id=\"node3\" class=\"node\">\n",
       "<title>TABLE\n",
       "π */4;\n",
       "σ (col(&quot;year&quot;)) &lt; (2010); [(0, 2)]</title>\n",
       "<polygon fill=\"none\" stroke=\"black\" points=\"198.25,-55.25 45,-55.25 45,0 198.25,0 198.25,-55.25\"/>\n",
       "<text text-anchor=\"middle\" x=\"121.62\" y=\"-37.95\" font-family=\"Times New Roman,serif\" font-size=\"14.00\">TABLE</text>\n",
       "<text text-anchor=\"middle\" x=\"121.62\" y=\"-22.2\" font-family=\"Times New Roman,serif\" font-size=\"14.00\">π */4;</text>\n",
       "<text text-anchor=\"middle\" x=\"121.62\" y=\"-6.45\" font-family=\"Times New Roman,serif\" font-size=\"14.00\">σ (col(&quot;year&quot;)) &lt; (2010);</text>\n",
       "</g>\n",
       "<!-- WITH COLUMNS [&quot;price_per_sqft&quot;] [(0, 1)]&#45;&#45;TABLE\n",
       "π */4;\n",
       "σ (col(&quot;year&quot;)) &lt; (2010); [(0, 2)] -->\n",
       "<g id=\"edge2\" class=\"edge\">\n",
       "<title>WITH COLUMNS [&quot;price_per_sqft&quot;] [(0, 1)]--TABLE\n",
       "π */4;\n",
       "σ (col(&quot;year&quot;)) &lt; (2010); [(0, 2)]</title>\n",
       "<path fill=\"none\" stroke=\"black\" d=\"M121.62,-90.97C121.62,-80.64 121.62,-67.28 121.62,-55.58\"/>\n",
       "</g>\n",
       "</g>\n",
       "</svg>"
      ],
      "text/plain": [
       "<IPython.core.display.SVG object>"
      ]
     },
     "metadata": {},
     "output_type": "display_data"
    }
   ],
   "source": [
    "lazy_query.show_graph()"
   ]
  },
  {
   "cell_type": "markdown",
   "metadata": {},
   "source": [
    "You read query plan graphs from bottom to top in Polars, and each box corresponds to a stage in the query plan. Sigma (σ) and pi (π) are symbols from relational algebra, and they tell you the operation that you’re performing on the data.\n",
    "\n",
    "In this example, π */4 says that you’re working with all four columns of the DataFrame, and σ(col(“year”)) < 2010 tells you that you’re only processing rows with a year less than 2010. You can interpret the full query plan with these steps:\n",
    "\n",
    "Use the four columns of buildings_lazy, and filter buildings_lazy to rows where year is less than 2010.\n",
    "Create the price_per_sqft column.\n",
    "Filter buildings_lazy to all rows where price_per_sqft is greater than 100."
   ]
  },
  {
   "cell_type": "code",
   "execution_count": 15,
   "metadata": {},
   "outputs": [
    {
     "name": "stdout",
     "output_type": "stream",
     "text": [
      "FILTER [(col(\"price_per_sqft\")) > (100.0)] FROM\n",
      " WITH_COLUMNS:\n",
      " [[(col(\"price\")) / (col(\"sqft\"))].alias(\"price_per_sqft\")]\n",
      "  DF [\"sqft\", \"price\", \"year\", \"building_type\"]; PROJECT */4 COLUMNS; SELECTION: \"[(col(\\\"year\\\")) < (2010)]\"\n"
     ]
    }
   ],
   "source": [
    "print(lazy_query.explain())"
   ]
  },
  {
   "cell_type": "code",
   "execution_count": 16,
   "metadata": {},
   "outputs": [
    {
     "data": {
      "text/plain": [
       "'FILTER [(col(\"price_per_sqft\")) > (100.0)] FROM\\n WITH_COLUMNS:\\n [[(col(\"price\")) / (col(\"sqft\"))].alias(\"price_per_sqft\")]\\n  DF [\"sqft\", \"price\", \"year\", \"building_type\"]; PROJECT */4 COLUMNS; SELECTION: \"[(col(\\\\\"year\\\\\")) < (2010)]\"'"
      ]
     },
     "execution_count": 16,
     "metadata": {},
     "output_type": "execute_result"
    }
   ],
   "source": [
    "lazy_query.explain()"
   ]
  },
  {
   "cell_type": "markdown",
   "metadata": {},
   "source": [
    "Run the lazy query"
   ]
  },
  {
   "cell_type": "code",
   "execution_count": 17,
   "metadata": {},
   "outputs": [
    {
     "data": {
      "text/html": [
       "<div><style>\n",
       ".dataframe > thead > tr,\n",
       ".dataframe > tbody > tr {\n",
       "  text-align: right;\n",
       "  white-space: pre-wrap;\n",
       "}\n",
       "</style>\n",
       "<small>shape: (1_317, 2)</small><table border=\"1\" class=\"dataframe\"><thead><tr><th>price_per_sqft</th><th>year</th></tr><tr><td>f64</td><td>i64</td></tr></thead><tbody><tr><td>3268.19045</td><td>1996</td></tr><tr><td>274.339166</td><td>2000</td></tr><tr><td>296.979717</td><td>2004</td></tr><tr><td>378.86472</td><td>2002</td></tr><tr><td>127.302589</td><td>1995</td></tr><tr><td>218.687856</td><td>2003</td></tr><tr><td>1428.856343</td><td>2001</td></tr><tr><td>212.692019</td><td>2007</td></tr><tr><td>158.084142</td><td>1997</td></tr><tr><td>274.965563</td><td>2004</td></tr><tr><td>59257.117469</td><td>2009</td></tr><tr><td>324.053954</td><td>1998</td></tr><tr><td>&hellip;</td><td>&hellip;</td></tr><tr><td>33657.925824</td><td>2004</td></tr><tr><td>644.117851</td><td>1996</td></tr><tr><td>680.122571</td><td>2006</td></tr><tr><td>15099.734192</td><td>2009</td></tr><tr><td>134.210079</td><td>2000</td></tr><tr><td>186.927583</td><td>2004</td></tr><tr><td>101.600996</td><td>1998</td></tr><tr><td>265.702962</td><td>2008</td></tr><tr><td>2481.810063</td><td>2009</td></tr><tr><td>698.203822</td><td>2008</td></tr><tr><td>541.067767</td><td>2005</td></tr><tr><td>107.170005</td><td>1995</td></tr></tbody></table></div>"
      ],
      "text/plain": [
       "shape: (1_317, 2)\n",
       "┌────────────────┬──────┐\n",
       "│ price_per_sqft ┆ year │\n",
       "│ ---            ┆ ---  │\n",
       "│ f64            ┆ i64  │\n",
       "╞════════════════╪══════╡\n",
       "│ 3268.19045     ┆ 1996 │\n",
       "│ 274.339166     ┆ 2000 │\n",
       "│ 296.979717     ┆ 2004 │\n",
       "│ 378.86472      ┆ 2002 │\n",
       "│ …              ┆ …    │\n",
       "│ 2481.810063    ┆ 2009 │\n",
       "│ 698.203822     ┆ 2008 │\n",
       "│ 541.067767     ┆ 2005 │\n",
       "│ 107.170005     ┆ 1995 │\n",
       "└────────────────┴──────┘"
      ]
     },
     "execution_count": 17,
     "metadata": {},
     "output_type": "execute_result"
    }
   ],
   "source": [
    "(\n",
    "    lazy_query\n",
    "    .collect()\n",
    "    .select(pl.col([\"price_per_sqft\", \"year\"]))\n",
    ")"
   ]
  },
  {
   "cell_type": "code",
   "execution_count": 18,
   "metadata": {},
   "outputs": [
    {
     "data": {
      "text/html": [
       "<div><style>\n",
       ".dataframe > thead > tr,\n",
       ".dataframe > tbody > tr {\n",
       "  text-align: right;\n",
       "  white-space: pre-wrap;\n",
       "}\n",
       "</style>\n",
       "<small>shape: (9, 3)</small><table border=\"1\" class=\"dataframe\"><thead><tr><th>describe</th><th>price_per_sqft</th><th>year</th></tr><tr><td>str</td><td>f64</td><td>f64</td></tr></thead><tbody><tr><td>&quot;count&quot;</td><td>1317.0</td><td>1317.0</td></tr><tr><td>&quot;null_count&quot;</td><td>0.0</td><td>0.0</td></tr><tr><td>&quot;mean&quot;</td><td>1400.622815</td><td>2002.003037</td></tr><tr><td>&quot;std&quot;</td><td>5755.888716</td><td>4.324595</td></tr><tr><td>&quot;min&quot;</td><td>100.02061</td><td>1995.0</td></tr><tr><td>&quot;25%&quot;</td><td>166.351274</td><td>1998.0</td></tr><tr><td>&quot;50%&quot;</td><td>296.71958</td><td>2002.0</td></tr><tr><td>&quot;75%&quot;</td><td>744.552161</td><td>2006.0</td></tr><tr><td>&quot;max&quot;</td><td>90314.966163</td><td>2009.0</td></tr></tbody></table></div>"
      ],
      "text/plain": [
       "shape: (9, 3)\n",
       "┌────────────┬────────────────┬─────────────┐\n",
       "│ describe   ┆ price_per_sqft ┆ year        │\n",
       "│ ---        ┆ ---            ┆ ---         │\n",
       "│ str        ┆ f64            ┆ f64         │\n",
       "╞════════════╪════════════════╪═════════════╡\n",
       "│ count      ┆ 1317.0         ┆ 1317.0      │\n",
       "│ null_count ┆ 0.0            ┆ 0.0         │\n",
       "│ mean       ┆ 1400.622815    ┆ 2002.003037 │\n",
       "│ std        ┆ 5755.888716    ┆ 4.324595    │\n",
       "│ min        ┆ 100.02061      ┆ 1995.0      │\n",
       "│ 25%        ┆ 166.351274     ┆ 1998.0      │\n",
       "│ 50%        ┆ 296.71958      ┆ 2002.0      │\n",
       "│ 75%        ┆ 744.552161     ┆ 2006.0      │\n",
       "│ max        ┆ 90314.966163   ┆ 2009.0      │\n",
       "└────────────┴────────────────┴─────────────┘"
      ]
     },
     "execution_count": 18,
     "metadata": {},
     "output_type": "execute_result"
    }
   ],
   "source": [
    "(\n",
    "    lazy_query\n",
    "    .collect()\n",
    "    .select(pl.col([\"price_per_sqft\", \"year\"]))\n",
    "    .describe()\n",
    ")"
   ]
  },
  {
   "cell_type": "markdown",
   "metadata": {},
   "source": [
    "## Scanning Data with Lazy Frames"
   ]
  },
  {
   "cell_type": "code",
   "execution_count": 19,
   "metadata": {},
   "outputs": [],
   "source": [
    "# downloads.py\n",
    "\n",
    "import requests\n",
    "import pathlib\n",
    "\n",
    "def download_file(file_url: str, local_file_path: pathlib.Path) -> None:\n",
    "    \"\"\"Download a file and save it with the specified file name.\"\"\"\n",
    "    response = requests.get(file_url)\n",
    "    if response:\n",
    "        local_file_path.write_bytes(response.content)\n",
    "        print(f\"File successfully downloaded and stored at: {local_file_path}\")\n",
    "    else:\n",
    "        raise requests.exceptions.RequestException(\n",
    "            f\"Failed to download the file. Status code: {response.status_code}\"\n",
    "        )"
   ]
  },
  {
   "cell_type": "code",
   "execution_count": 20,
   "metadata": {},
   "outputs": [
    {
     "name": "stdout",
     "output_type": "stream",
     "text": [
      "File successfully downloaded and stored at: electric_cars.csv\n"
     ]
    }
   ],
   "source": [
    "import pathlib\n",
    "\n",
    "url = \"https://data.wa.gov/api/views/f6w7-q2d2/rows.csv?accessType=DOWNLOAD\"\n",
    "local_file_path = pathlib.Path(\"electric_cars.csv\")\n",
    "\n",
    "download_file(url, local_file_path)"
   ]
  },
  {
   "cell_type": "code",
   "execution_count": 21,
   "metadata": {},
   "outputs": [],
   "source": [
    "lazy_car_data = pl.scan_csv(local_file_path)"
   ]
  },
  {
   "cell_type": "code",
   "execution_count": 22,
   "metadata": {},
   "outputs": [
    {
     "data": {
      "text/plain": [
       "OrderedDict([('VIN (1-10)', Utf8),\n",
       "             ('County', Utf8),\n",
       "             ('City', Utf8),\n",
       "             ('State', Utf8),\n",
       "             ('Postal Code', Int64),\n",
       "             ('Model Year', Int64),\n",
       "             ('Make', Utf8),\n",
       "             ('Model', Utf8),\n",
       "             ('Electric Vehicle Type', Utf8),\n",
       "             ('Clean Alternative Fuel Vehicle (CAFV) Eligibility', Utf8),\n",
       "             ('Electric Range', Int64),\n",
       "             ('Base MSRP', Int64),\n",
       "             ('Legislative District', Int64),\n",
       "             ('DOL Vehicle ID', Int64),\n",
       "             ('Vehicle Location', Utf8),\n",
       "             ('Electric Utility', Utf8),\n",
       "             ('2020 Census Tract', Int64)])"
      ]
     },
     "execution_count": 22,
     "metadata": {},
     "output_type": "execute_result"
    }
   ],
   "source": [
    "lazy_car_data.schema"
   ]
  },
  {
   "cell_type": "code",
   "execution_count": 23,
   "metadata": {},
   "outputs": [
    {
     "name": "stderr",
     "output_type": "stream",
     "text": [
      "C:\\Users\\anura\\AppData\\Local\\Temp\\ipykernel_47072\\318446304.py:7: DeprecationWarning: `groupby` is deprecated. It has been renamed to `group_by`.\n",
      "  .groupby([\"State\", \"Make\"])\n"
     ]
    }
   ],
   "source": [
    "lazy_car_query = (\n",
    "    lazy_car_data\n",
    "    .filter((pl.col(\"Model Year\") >= 2018))\n",
    "    .filter(\n",
    "        pl.col(\"Electric Vehicle Type\") == \"Battery Electric Vehicle (BEV)\"\n",
    "    )\n",
    "    .groupby([\"State\", \"Make\"])\n",
    "    .agg(\n",
    "        pl.mean(\"Electric Range\").alias(\"Average Electric Range\"),\n",
    "        pl.min(\"Model Year\").alias(\"Oldest Model Year\"),\n",
    "        pl.count().alias(\"Number of Cars\"),\n",
    "    )\n",
    "    .filter(pl.col(\"Average Electric Range\") > 0)\n",
    "    .filter(pl.col(\"Number of Cars\") > 5)\n",
    "    .sort(pl.col(\"Number of Cars\"), descending=True)\n",
    ")"
   ]
  },
  {
   "cell_type": "code",
   "execution_count": 24,
   "metadata": {},
   "outputs": [
    {
     "data": {
      "text/html": [
       "<div><style>\n",
       ".dataframe > thead > tr,\n",
       ".dataframe > tbody > tr {\n",
       "  text-align: right;\n",
       "  white-space: pre-wrap;\n",
       "}\n",
       "</style>\n",
       "<small>shape: (21, 5)</small><table border=\"1\" class=\"dataframe\"><thead><tr><th>State</th><th>Make</th><th>Average Electric Range</th><th>Oldest Model Year</th><th>Number of Cars</th></tr><tr><td>str</td><td>str</td><td>f64</td><td>i64</td><td>u32</td></tr></thead><tbody><tr><td>&quot;WA&quot;</td><td>&quot;TESLA&quot;</td><td>73.887368</td><td>2018</td><td>66340</td></tr><tr><td>&quot;WA&quot;</td><td>&quot;NISSAN&quot;</td><td>82.384678</td><td>2018</td><td>6096</td></tr><tr><td>&quot;WA&quot;</td><td>&quot;CHEVROLET&quot;</td><td>103.472937</td><td>2018</td><td>6060</td></tr><tr><td>&quot;WA&quot;</td><td>&quot;FORD&quot;</td><td>0.146663</td><td>2018</td><td>4091</td></tr><tr><td>&quot;WA&quot;</td><td>&quot;KIA&quot;</td><td>53.037093</td><td>2018</td><td>3963</td></tr><tr><td>&quot;WA&quot;</td><td>&quot;VOLKSWAGEN&quot;</td><td>17.925736</td><td>2018</td><td>3905</td></tr><tr><td>&quot;WA&quot;</td><td>&quot;HYUNDAI&quot;</td><td>19.420546</td><td>2018</td><td>3115</td></tr><tr><td>&quot;WA&quot;</td><td>&quot;AUDI&quot;</td><td>78.361895</td><td>2019</td><td>1879</td></tr><tr><td>&quot;WA&quot;</td><td>&quot;BMW&quot;</td><td>15.488038</td><td>2018</td><td>1672</td></tr><tr><td>&quot;WA&quot;</td><td>&quot;POLESTAR&quot;</td><td>36.560399</td><td>2021</td><td>803</td></tr><tr><td>&quot;WA&quot;</td><td>&quot;MINI&quot;</td><td>22.512479</td><td>2021</td><td>601</td></tr><tr><td>&quot;WA&quot;</td><td>&quot;PORSCHE&quot;</td><td>73.695876</td><td>2020</td><td>582</td></tr><tr><td>&quot;WA&quot;</td><td>&quot;JAGUAR&quot;</td><td>206.345455</td><td>2019</td><td>220</td></tr><tr><td>&quot;WA&quot;</td><td>&quot;FIAT&quot;</td><td>84.0</td><td>2018</td><td>67</td></tr><tr><td>&quot;WA&quot;</td><td>&quot;SMART&quot;</td><td>58.0</td><td>2018</td><td>56</td></tr><tr><td>&quot;CA&quot;</td><td>&quot;TESLA&quot;</td><td>79.545455</td><td>2018</td><td>44</td></tr><tr><td>&quot;VA&quot;</td><td>&quot;TESLA&quot;</td><td>84.5</td><td>2018</td><td>14</td></tr><tr><td>&quot;MD&quot;</td><td>&quot;TESLA&quot;</td><td>50.6</td><td>2018</td><td>10</td></tr><tr><td>&quot;TX&quot;</td><td>&quot;TESLA&quot;</td><td>94.625</td><td>2018</td><td>8</td></tr><tr><td>&quot;NC&quot;</td><td>&quot;TESLA&quot;</td><td>26.875</td><td>2018</td><td>8</td></tr><tr><td>&quot;IL&quot;</td><td>&quot;TESLA&quot;</td><td>162.0</td><td>2018</td><td>6</td></tr></tbody></table></div>"
      ],
      "text/plain": [
       "shape: (21, 5)\n",
       "┌───────┬───────────┬────────────────────────┬───────────────────┬────────────────┐\n",
       "│ State ┆ Make      ┆ Average Electric Range ┆ Oldest Model Year ┆ Number of Cars │\n",
       "│ ---   ┆ ---       ┆ ---                    ┆ ---               ┆ ---            │\n",
       "│ str   ┆ str       ┆ f64                    ┆ i64               ┆ u32            │\n",
       "╞═══════╪═══════════╪════════════════════════╪═══════════════════╪════════════════╡\n",
       "│ WA    ┆ TESLA     ┆ 73.887368              ┆ 2018              ┆ 66340          │\n",
       "│ WA    ┆ NISSAN    ┆ 82.384678              ┆ 2018              ┆ 6096           │\n",
       "│ WA    ┆ CHEVROLET ┆ 103.472937             ┆ 2018              ┆ 6060           │\n",
       "│ WA    ┆ FORD      ┆ 0.146663               ┆ 2018              ┆ 4091           │\n",
       "│ …     ┆ …         ┆ …                      ┆ …                 ┆ …              │\n",
       "│ MD    ┆ TESLA     ┆ 50.6                   ┆ 2018              ┆ 10             │\n",
       "│ TX    ┆ TESLA     ┆ 94.625                 ┆ 2018              ┆ 8              │\n",
       "│ NC    ┆ TESLA     ┆ 26.875                 ┆ 2018              ┆ 8              │\n",
       "│ IL    ┆ TESLA     ┆ 162.0                  ┆ 2018              ┆ 6              │\n",
       "└───────┴───────────┴────────────────────────┴───────────────────┴────────────────┘"
      ]
     },
     "execution_count": 24,
     "metadata": {},
     "output_type": "execute_result"
    }
   ],
   "source": [
    "lazy_car_query.collect()"
   ]
  },
  {
   "cell_type": "code",
   "execution_count": null,
   "metadata": {},
   "outputs": [],
   "source": []
  }
 ],
 "metadata": {
  "kernelspec": {
   "display_name": "Python 3",
   "language": "python",
   "name": "python3"
  },
  "language_info": {
   "codemirror_mode": {
    "name": "ipython",
    "version": 3
   },
   "file_extension": ".py",
   "mimetype": "text/x-python",
   "name": "python",
   "nbconvert_exporter": "python",
   "pygments_lexer": "ipython3",
   "version": "3.10.8"
  }
 },
 "nbformat": 4,
 "nbformat_minor": 2
}
