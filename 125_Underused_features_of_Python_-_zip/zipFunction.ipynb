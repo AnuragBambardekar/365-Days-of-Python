{
 "cells": [
  {
   "attachments": {},
   "cell_type": "markdown",
   "metadata": {},
   "source": [
    "# Underused/Lesser known features of Python - zip() "
   ]
  },
  {
   "attachments": {},
   "cell_type": "markdown",
   "metadata": {},
   "source": [
    "The zip() function in Python is used to combine two or more iterables (e.g., lists, tuples, or sets) into a single iterable object, called a zip object. It returns an iterator of tuples where the i-th tuple contains the i-th element from each of the argument sequences or iterables."
   ]
  },
  {
   "cell_type": "code",
   "execution_count": 1,
   "metadata": {},
   "outputs": [],
   "source": [
    "names = [\"John\",\"Bob\",\"Jane\",\"Mike\",\"Julia\"]\n",
    "ages = [18,25,30,15,78]\n",
    "\n",
    "# we have separate lists now -> no connection"
   ]
  },
  {
   "attachments": {},
   "cell_type": "markdown",
   "metadata": {},
   "source": [
    "To iterate over both lists: (make them connect)"
   ]
  },
  {
   "cell_type": "code",
   "execution_count": 2,
   "metadata": {},
   "outputs": [
    {
     "name": "stdout",
     "output_type": "stream",
     "text": [
      "Name: John, Age: 18\n",
      "Name: Bob, Age: 25\n",
      "Name: Jane, Age: 30\n",
      "Name: Mike, Age: 15\n",
      "Name: Julia, Age: 78\n"
     ]
    }
   ],
   "source": [
    "for i in range(len(names)):\n",
    "    print(f\"Name: {names[i]}, Age: {ages[i]}\")"
   ]
  },
  {
   "attachments": {},
   "cell_type": "markdown",
   "metadata": {},
   "source": [
    "Not the cleanest way to do it, just use ---> zip"
   ]
  },
  {
   "cell_type": "code",
   "execution_count": 3,
   "metadata": {},
   "outputs": [
    {
     "name": "stdout",
     "output_type": "stream",
     "text": [
      "[('John', 18), ('Bob', 25), ('Jane', 30), ('Mike', 15), ('Julia', 78)]\n"
     ]
    }
   ],
   "source": [
    "print(list(zip(names,ages)))"
   ]
  },
  {
   "attachments": {},
   "cell_type": "markdown",
   "metadata": {},
   "source": [
    "It created a list of tuples"
   ]
  },
  {
   "cell_type": "code",
   "execution_count": 5,
   "metadata": {},
   "outputs": [
    {
     "name": "stdout",
     "output_type": "stream",
     "text": [
      "Name: John, Age: 18\n",
      "Name: Bob, Age: 25\n",
      "Name: Jane, Age: 30\n",
      "Name: Mike, Age: 15\n",
      "Name: Julia, Age: 78\n"
     ]
    }
   ],
   "source": [
    "for name, age in zip(names, ages):\n",
    "    print(f\"Name: {name}, Age: {age}\")"
   ]
  },
  {
   "attachments": {},
   "cell_type": "markdown",
   "metadata": {},
   "source": [
    "### Use cases"
   ]
  },
  {
   "cell_type": "code",
   "execution_count": 8,
   "metadata": {},
   "outputs": [
    {
     "name": "stdout",
     "output_type": "stream",
     "text": [
      "Profits for each day...\n",
      "300\n",
      "500\n",
      "77\n",
      "-500\n",
      "650\n"
     ]
    }
   ],
   "source": [
    "sales = [500, 1000, 300, 2500, 700]\n",
    "costs = [200, 500, 223, 3000, 50]\n",
    "\n",
    "print(\"Profits for each day...\")\n",
    "\n",
    "for sale, cost in zip(sales, costs):\n",
    "    print(sale-cost)"
   ]
  },
  {
   "attachments": {},
   "cell_type": "markdown",
   "metadata": {},
   "source": [
    "### We can also un-zip"
   ]
  },
  {
   "cell_type": "code",
   "execution_count": 10,
   "metadata": {},
   "outputs": [
    {
     "name": "stdout",
     "output_type": "stream",
     "text": [
      "['John', 'Bob', 'Jane', 'Mike', 'Julia']\n",
      "[18, 25, 30, 15, 78]\n"
     ]
    }
   ],
   "source": [
    "zipped = [('John', 18), ('Bob', 25), ('Jane', 30), ('Mike', 15), ('Julia', 78)]\n",
    "\n",
    "# unzip to separate lists\n",
    "names1, ages1 = zip(*zipped)\n",
    "\n",
    "print(list(names1))\n",
    "print(list(ages1))"
   ]
  },
  {
   "attachments": {},
   "cell_type": "markdown",
   "metadata": {},
   "source": [
    "### Another use case"
   ]
  },
  {
   "cell_type": "code",
   "execution_count": 12,
   "metadata": {},
   "outputs": [
    {
     "name": "stdout",
     "output_type": "stream",
     "text": [
      "[('a', 5), ('b', 3), ('c', 1), ('d', 4)]\n",
      "[(1, 'c'), (3, 'b'), (4, 'd'), (5, 'a')]\n"
     ]
    }
   ],
   "source": [
    "letters = ['b','d','a','c']\n",
    "numbers = [3, 4, 5, 1]\n",
    "\n",
    "data = sorted(zip(letters, numbers)) # sorted by letters\n",
    "print(data)\n",
    "\n",
    "data1 = sorted(zip(numbers, letters)) # sorted by numbers\n",
    "print(data1)"
   ]
  },
  {
   "cell_type": "code",
   "execution_count": 13,
   "metadata": {},
   "outputs": [
    {
     "name": "stdout",
     "output_type": "stream",
     "text": [
      "(1, 3, 4, 5)\n",
      "('c', 'b', 'd', 'a')\n"
     ]
    }
   ],
   "source": [
    "letters1, numbers1 = zip(*data1)\n",
    "print(letters1)\n",
    "print(numbers1)"
   ]
  },
  {
   "attachments": {},
   "cell_type": "markdown",
   "metadata": {},
   "source": [
    "### Convert two lists to a dictionary"
   ]
  },
  {
   "cell_type": "code",
   "execution_count": 14,
   "metadata": {},
   "outputs": [
    {
     "name": "stdout",
     "output_type": "stream",
     "text": [
      "{'b': 3, 'd': 4, 'a': 5, 'c': 1}\n"
     ]
    }
   ],
   "source": [
    "letters2 = ['b','d','a','c']\n",
    "numbers2 = [3, 4, 5, 1]\n",
    "\n",
    "mydict = dict(zip(letters2, numbers2))\n",
    "print(mydict)"
   ]
  },
  {
   "cell_type": "code",
   "execution_count": 15,
   "metadata": {},
   "outputs": [
    {
     "name": "stdout",
     "output_type": "stream",
     "text": [
      "{3: 'b', 4: 'd', 5: 'a', 1: 'c'}\n"
     ]
    }
   ],
   "source": [
    "mydict2 = dict(zip(numbers2, letters2))\n",
    "print(mydict2)"
   ]
  },
  {
   "attachments": {},
   "cell_type": "markdown",
   "metadata": {},
   "source": [
    "### Transposing a Matrix"
   ]
  },
  {
   "cell_type": "code",
   "execution_count": 16,
   "metadata": {},
   "outputs": [
    {
     "name": "stdout",
     "output_type": "stream",
     "text": [
      "[(1, 4, 7), (2, 5, 8), (3, 6, 9)]\n"
     ]
    }
   ],
   "source": [
    "matrix = [[1, 2, 3],\n",
    "    [4, 5, 6],\n",
    "    [7, 8, 9]\n",
    "]\n",
    "\n",
    "transposed_matrix = list(zip(*matrix))\n",
    "print(transposed_matrix)"
   ]
  },
  {
   "attachments": {},
   "cell_type": "markdown",
   "metadata": {},
   "source": [
    "### Merging dictionaries"
   ]
  },
  {
   "cell_type": "code",
   "execution_count": 22,
   "metadata": {},
   "outputs": [
    {
     "name": "stdout",
     "output_type": "stream",
     "text": [
      "{'a': 1, 'b': 2, 'c': 3, 'd': 4}\n"
     ]
    }
   ],
   "source": [
    "# Create two dictionaries\n",
    "dict1 = {'a': 1, 'b': 2}\n",
    "dict2 = {'c': 3, 'd': 4}\n",
    "\n",
    "# Merge the dictionaries using zip\n",
    "merged_dict = {**dict1, **dict2}\n",
    "\n",
    "# Print the merged dictionary\n",
    "print(merged_dict)\n"
   ]
  },
  {
   "attachments": {},
   "cell_type": "markdown",
   "metadata": {},
   "source": [
    "### Equality of lists"
   ]
  },
  {
   "cell_type": "code",
   "execution_count": 18,
   "metadata": {},
   "outputs": [
    {
     "name": "stdout",
     "output_type": "stream",
     "text": [
      "False\n"
     ]
    }
   ],
   "source": [
    "list1 = [1, 2, 3]\n",
    "list2 = [1, 2, 4]\n",
    "\n",
    "is_equal = all(x == y for x, y in zip(list1, list2))\n",
    "\n",
    "print(is_equal)"
   ]
  }
 ],
 "metadata": {
  "kernelspec": {
   "display_name": "Python 3",
   "language": "python",
   "name": "python3"
  },
  "language_info": {
   "codemirror_mode": {
    "name": "ipython",
    "version": 3
   },
   "file_extension": ".py",
   "mimetype": "text/x-python",
   "name": "python",
   "nbconvert_exporter": "python",
   "pygments_lexer": "ipython3",
   "version": "3.10.8"
  },
  "orig_nbformat": 4
 },
 "nbformat": 4,
 "nbformat_minor": 2
}
