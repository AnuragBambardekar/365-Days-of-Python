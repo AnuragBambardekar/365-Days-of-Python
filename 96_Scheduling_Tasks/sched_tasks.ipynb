{
 "cells": [
  {
   "attachments": {},
   "cell_type": "markdown",
   "metadata": {},
   "source": [
    "# Scheduling Tasks"
   ]
  },
  {
   "attachments": {},
   "cell_type": "markdown",
   "metadata": {},
   "source": [
    "pip install schedule"
   ]
  },
  {
   "attachments": {},
   "cell_type": "markdown",
   "metadata": {},
   "source": [
    "Prints every 5 seconds"
   ]
  },
  {
   "cell_type": "code",
   "execution_count": 1,
   "metadata": {},
   "outputs": [
    {
     "name": "stdout",
     "output_type": "stream",
     "text": [
      "Doing a task... 06:12:26 (30/03/23)\n",
      "Doing a task... 06:12:31 (30/03/23)\n"
     ]
    },
    {
     "ename": "KeyboardInterrupt",
     "evalue": "",
     "output_type": "error",
     "traceback": [
      "\u001b[1;31m---------------------------------------------------------------------------\u001b[0m",
      "\u001b[1;31mKeyboardInterrupt\u001b[0m                         Traceback (most recent call last)",
      "\u001b[1;32mc:\\Users\\anura\\Documents\\VSCode_Workspace\\365-Days-of-Python\\96_Scheduling_Tasks\\sched_tasks.ipynb Cell 3\u001b[0m in \u001b[0;36m1\n\u001b[0;32m      <a href='vscode-notebook-cell:/c%3A/Users/anura/Documents/VSCode_Workspace/365-Days-of-Python/96_Scheduling_Tasks/sched_tasks.ipynb#W0sZmlsZQ%3D%3D?line=7'>8</a>\u001b[0m schedule\u001b[39m.\u001b[39mevery(\u001b[39m5\u001b[39m)\u001b[39m.\u001b[39mseconds\u001b[39m.\u001b[39mdo(task)\n\u001b[0;32m     <a href='vscode-notebook-cell:/c%3A/Users/anura/Documents/VSCode_Workspace/365-Days-of-Python/96_Scheduling_Tasks/sched_tasks.ipynb#W0sZmlsZQ%3D%3D?line=9'>10</a>\u001b[0m \u001b[39mwhile\u001b[39;00m(\u001b[39mTrue\u001b[39;00m):\n\u001b[1;32m---> <a href='vscode-notebook-cell:/c%3A/Users/anura/Documents/VSCode_Workspace/365-Days-of-Python/96_Scheduling_Tasks/sched_tasks.ipynb#W0sZmlsZQ%3D%3D?line=10'>11</a>\u001b[0m     schedule\u001b[39m.\u001b[39mrun_pending()\n",
      "File \u001b[1;32mc:\\Users\\anura\\AppData\\Local\\Programs\\Python\\Python310\\lib\\site-packages\\schedule\\__init__.py:780\u001b[0m, in \u001b[0;36mrun_pending\u001b[1;34m()\u001b[0m\n\u001b[0;32m    776\u001b[0m \u001b[39mdef\u001b[39;00m \u001b[39mrun_pending\u001b[39m() \u001b[39m-\u001b[39m\u001b[39m>\u001b[39m \u001b[39mNone\u001b[39;00m:\n\u001b[0;32m    777\u001b[0m \u001b[39m    \u001b[39m\u001b[39m\"\"\"Calls :meth:`run_pending <Scheduler.run_pending>` on the\u001b[39;00m\n\u001b[0;32m    778\u001b[0m \u001b[39m    :data:`default scheduler instance <default_scheduler>`.\u001b[39;00m\n\u001b[0;32m    779\u001b[0m \u001b[39m    \"\"\"\u001b[39;00m\n\u001b[1;32m--> 780\u001b[0m     default_scheduler\u001b[39m.\u001b[39;49mrun_pending()\n",
      "File \u001b[1;32mc:\\Users\\anura\\AppData\\Local\\Programs\\Python\\Python310\\lib\\site-packages\\schedule\\__init__.py:98\u001b[0m, in \u001b[0;36mScheduler.run_pending\u001b[1;34m(self)\u001b[0m\n\u001b[0;32m     88\u001b[0m \u001b[39mdef\u001b[39;00m \u001b[39mrun_pending\u001b[39m(\u001b[39mself\u001b[39m) \u001b[39m-\u001b[39m\u001b[39m>\u001b[39m \u001b[39mNone\u001b[39;00m:\n\u001b[0;32m     89\u001b[0m \u001b[39m    \u001b[39m\u001b[39m\"\"\"\u001b[39;00m\n\u001b[0;32m     90\u001b[0m \u001b[39m    Run all jobs that are scheduled to run.\u001b[39;00m\n\u001b[0;32m     91\u001b[0m \n\u001b[1;32m   (...)\u001b[0m\n\u001b[0;32m     96\u001b[0m \u001b[39m    between but only once.\u001b[39;00m\n\u001b[0;32m     97\u001b[0m \u001b[39m    \"\"\"\u001b[39;00m\n\u001b[1;32m---> 98\u001b[0m     runnable_jobs \u001b[39m=\u001b[39m (job \u001b[39mfor\u001b[39;00m job \u001b[39min\u001b[39;00m \u001b[39mself\u001b[39m\u001b[39m.\u001b[39mjobs \u001b[39mif\u001b[39;00m job\u001b[39m.\u001b[39mshould_run)\n\u001b[0;32m     99\u001b[0m     \u001b[39mfor\u001b[39;00m job \u001b[39min\u001b[39;00m \u001b[39msorted\u001b[39m(runnable_jobs):\n\u001b[0;32m    100\u001b[0m         \u001b[39mself\u001b[39m\u001b[39m.\u001b[39m_run_job(job)\n",
      "\u001b[1;31mKeyboardInterrupt\u001b[0m: "
     ]
    }
   ],
   "source": [
    "import helper\n",
    "import schedule\n",
    "import time\n",
    "\n",
    "def task():\n",
    "    print(\"Doing a task...\", helper.get_time())\n",
    "\n",
    "schedule.every(5).seconds.do(task)\n",
    "\n",
    "while(True):\n",
    "    schedule.run_pending()"
   ]
  },
  {
   "cell_type": "code",
   "execution_count": 2,
   "metadata": {},
   "outputs": [],
   "source": [
    "# You can use minutes, hours, days or weeks as and when required.\n",
    "# schedule.every(5).minutes.do(task)\n",
    "# schedule.every(5).hours.do(task)\n",
    "# schedule.every(5).days.do(task)\n",
    "# schedule.every(5).weeks.do(task)"
   ]
  },
  {
   "cell_type": "code",
   "execution_count": 3,
   "metadata": {},
   "outputs": [
    {
     "data": {
      "text/plain": [
       "Every 1 minute at 00:00:15 do task() (last run: [never], next run: 2023-03-30 06:14:15)"
      ]
     },
     "execution_count": 3,
     "metadata": {},
     "output_type": "execute_result"
    }
   ],
   "source": [
    "schedule.every().minute.at(':15').do(task)"
   ]
  },
  {
   "cell_type": "code",
   "execution_count": 4,
   "metadata": {},
   "outputs": [
    {
     "data": {
      "text/plain": [
       "Every 1 hour at 00:15:00 do task() (last run: [never], next run: 2023-03-30 06:15:00)"
      ]
     },
     "execution_count": 4,
     "metadata": {},
     "output_type": "execute_result"
    }
   ],
   "source": [
    "schedule.every().hour.at(':15').do(task)"
   ]
  },
  {
   "cell_type": "code",
   "execution_count": 5,
   "metadata": {},
   "outputs": [
    {
     "data": {
      "text/plain": [
       "Every 10 hours at 00:15:00 do task() (last run: [never], next run: 2023-03-30 15:15:00)"
      ]
     },
     "execution_count": 5,
     "metadata": {},
     "output_type": "execute_result"
    }
   ],
   "source": [
    "schedule.every(10).hours.at(':15').do(task)"
   ]
  },
  {
   "cell_type": "code",
   "execution_count": 6,
   "metadata": {},
   "outputs": [
    {
     "data": {
      "text/plain": [
       "Every 1 day at 15:15:00 do task() (last run: [never], next run: 2023-03-30 15:15:00)"
      ]
     },
     "execution_count": 6,
     "metadata": {},
     "output_type": "execute_result"
    }
   ],
   "source": [
    "schedule.every().day.at('15:15').do(task)"
   ]
  },
  {
   "cell_type": "code",
   "execution_count": 7,
   "metadata": {},
   "outputs": [
    {
     "data": {
      "text/plain": [
       "Every 1 week at 15:15:00 do task() (last run: [never], next run: 2023-04-03 15:15:00)"
      ]
     },
     "execution_count": 7,
     "metadata": {},
     "output_type": "execute_result"
    }
   ],
   "source": [
    "schedule.every().monday.at('15:15').do(task)"
   ]
  },
  {
   "attachments": {},
   "cell_type": "markdown",
   "metadata": {},
   "source": [
    "Running Jobs at random time intervals"
   ]
  },
  {
   "cell_type": "code",
   "execution_count": 19,
   "metadata": {},
   "outputs": [
    {
     "name": "stdout",
     "output_type": "stream",
     "text": [
      "Doing a task... 06:24:15 (30/03/23)\n",
      "Doing a task... 06:24:15 (30/03/23)\n",
      "Doing a task... 06:24:16 (30/03/23)\n"
     ]
    },
    {
     "ename": "KeyboardInterrupt",
     "evalue": "",
     "output_type": "error",
     "traceback": [
      "\u001b[1;31m---------------------------------------------------------------------------\u001b[0m",
      "\u001b[1;31mKeyboardInterrupt\u001b[0m                         Traceback (most recent call last)",
      "\u001b[1;32mc:\\Users\\anura\\Documents\\VSCode_Workspace\\365-Days-of-Python\\96_Scheduling_Tasks\\sched_tasks.ipynb Cell 27\u001b[0m in \u001b[0;36m7\n\u001b[0;32m      <a href='vscode-notebook-cell:/c%3A/Users/anura/Documents/VSCode_Workspace/365-Days-of-Python/96_Scheduling_Tasks/sched_tasks.ipynb#X42sZmlsZQ%3D%3D?line=3'>4</a>\u001b[0m schedule\u001b[39m.\u001b[39mevery(\u001b[39m1\u001b[39m)\u001b[39m.\u001b[39mto(\u001b[39m10\u001b[39m)\u001b[39m.\u001b[39mseconds\u001b[39m.\u001b[39mdo(task)\n\u001b[0;32m      <a href='vscode-notebook-cell:/c%3A/Users/anura/Documents/VSCode_Workspace/365-Days-of-Python/96_Scheduling_Tasks/sched_tasks.ipynb#X42sZmlsZQ%3D%3D?line=5'>6</a>\u001b[0m \u001b[39mwhile\u001b[39;00m(\u001b[39mTrue\u001b[39;00m):\n\u001b[1;32m----> <a href='vscode-notebook-cell:/c%3A/Users/anura/Documents/VSCode_Workspace/365-Days-of-Python/96_Scheduling_Tasks/sched_tasks.ipynb#X42sZmlsZQ%3D%3D?line=6'>7</a>\u001b[0m     schedule\u001b[39m.\u001b[39mrun_pending()\n",
      "File \u001b[1;32mc:\\Users\\anura\\AppData\\Local\\Programs\\Python\\Python310\\lib\\site-packages\\schedule\\__init__.py:780\u001b[0m, in \u001b[0;36mrun_pending\u001b[1;34m()\u001b[0m\n\u001b[0;32m    776\u001b[0m \u001b[39mdef\u001b[39;00m \u001b[39mrun_pending\u001b[39m() \u001b[39m-\u001b[39m\u001b[39m>\u001b[39m \u001b[39mNone\u001b[39;00m:\n\u001b[0;32m    777\u001b[0m \u001b[39m    \u001b[39m\u001b[39m\"\"\"Calls :meth:`run_pending <Scheduler.run_pending>` on the\u001b[39;00m\n\u001b[0;32m    778\u001b[0m \u001b[39m    :data:`default scheduler instance <default_scheduler>`.\u001b[39;00m\n\u001b[0;32m    779\u001b[0m \u001b[39m    \"\"\"\u001b[39;00m\n\u001b[1;32m--> 780\u001b[0m     default_scheduler\u001b[39m.\u001b[39;49mrun_pending()\n",
      "File \u001b[1;32mc:\\Users\\anura\\AppData\\Local\\Programs\\Python\\Python310\\lib\\site-packages\\schedule\\__init__.py:99\u001b[0m, in \u001b[0;36mScheduler.run_pending\u001b[1;34m(self)\u001b[0m\n\u001b[0;32m     89\u001b[0m \u001b[39m\u001b[39m\u001b[39m\"\"\"\u001b[39;00m\n\u001b[0;32m     90\u001b[0m \u001b[39mRun all jobs that are scheduled to run.\u001b[39;00m\n\u001b[0;32m     91\u001b[0m \n\u001b[1;32m   (...)\u001b[0m\n\u001b[0;32m     96\u001b[0m \u001b[39mbetween but only once.\u001b[39;00m\n\u001b[0;32m     97\u001b[0m \u001b[39m\"\"\"\u001b[39;00m\n\u001b[0;32m     98\u001b[0m runnable_jobs \u001b[39m=\u001b[39m (job \u001b[39mfor\u001b[39;00m job \u001b[39min\u001b[39;00m \u001b[39mself\u001b[39m\u001b[39m.\u001b[39mjobs \u001b[39mif\u001b[39;00m job\u001b[39m.\u001b[39mshould_run)\n\u001b[1;32m---> 99\u001b[0m \u001b[39mfor\u001b[39;00m job \u001b[39min\u001b[39;00m \u001b[39msorted\u001b[39;49m(runnable_jobs):\n\u001b[0;32m    100\u001b[0m     \u001b[39mself\u001b[39m\u001b[39m.\u001b[39m_run_job(job)\n",
      "File \u001b[1;32mc:\\Users\\anura\\AppData\\Local\\Programs\\Python\\Python310\\lib\\site-packages\\schedule\\__init__.py:98\u001b[0m, in \u001b[0;36m<genexpr>\u001b[1;34m(.0)\u001b[0m\n\u001b[0;32m     88\u001b[0m \u001b[39mdef\u001b[39;00m \u001b[39mrun_pending\u001b[39m(\u001b[39mself\u001b[39m) \u001b[39m-\u001b[39m\u001b[39m>\u001b[39m \u001b[39mNone\u001b[39;00m:\n\u001b[0;32m     89\u001b[0m \u001b[39m    \u001b[39m\u001b[39m\"\"\"\u001b[39;00m\n\u001b[0;32m     90\u001b[0m \u001b[39m    Run all jobs that are scheduled to run.\u001b[39;00m\n\u001b[0;32m     91\u001b[0m \n\u001b[1;32m   (...)\u001b[0m\n\u001b[0;32m     96\u001b[0m \u001b[39m    between but only once.\u001b[39;00m\n\u001b[0;32m     97\u001b[0m \u001b[39m    \"\"\"\u001b[39;00m\n\u001b[1;32m---> 98\u001b[0m     runnable_jobs \u001b[39m=\u001b[39m (job \u001b[39mfor\u001b[39;00m job \u001b[39min\u001b[39;00m \u001b[39mself\u001b[39m\u001b[39m.\u001b[39mjobs \u001b[39mif\u001b[39;00m job\u001b[39m.\u001b[39;49mshould_run)\n\u001b[0;32m     99\u001b[0m     \u001b[39mfor\u001b[39;00m job \u001b[39min\u001b[39;00m \u001b[39msorted\u001b[39m(runnable_jobs):\n\u001b[0;32m    100\u001b[0m         \u001b[39mself\u001b[39m\u001b[39m.\u001b[39m_run_job(job)\n",
      "File \u001b[1;32mc:\\Users\\anura\\AppData\\Local\\Programs\\Python\\Python310\\lib\\site-packages\\schedule\\__init__.py:641\u001b[0m, in \u001b[0;36mJob.should_run\u001b[1;34m(self)\u001b[0m\n\u001b[0;32m    636\u001b[0m \u001b[39m@property\u001b[39m\n\u001b[0;32m    637\u001b[0m \u001b[39mdef\u001b[39;00m \u001b[39mshould_run\u001b[39m(\u001b[39mself\u001b[39m) \u001b[39m-\u001b[39m\u001b[39m>\u001b[39m \u001b[39mbool\u001b[39m:\n\u001b[0;32m    638\u001b[0m \u001b[39m    \u001b[39m\u001b[39m\"\"\"\u001b[39;00m\n\u001b[0;32m    639\u001b[0m \u001b[39m    :return: ``True`` if the job should be run now.\u001b[39;00m\n\u001b[0;32m    640\u001b[0m \u001b[39m    \"\"\"\u001b[39;00m\n\u001b[1;32m--> 641\u001b[0m     \u001b[39massert\u001b[39;00m \u001b[39mself\u001b[39;49m\u001b[39m.\u001b[39;49mnext_run \u001b[39mis\u001b[39;49;00m \u001b[39mnot\u001b[39;49;00m \u001b[39mNone\u001b[39;49;00m, \u001b[39m\"\u001b[39m\u001b[39mmust run _schedule_next_run before\u001b[39m\u001b[39m\"\u001b[39m\n\u001b[0;32m    642\u001b[0m     \u001b[39mreturn\u001b[39;00m datetime\u001b[39m.\u001b[39mdatetime\u001b[39m.\u001b[39mnow() \u001b[39m>\u001b[39m\u001b[39m=\u001b[39m \u001b[39mself\u001b[39m\u001b[39m.\u001b[39mnext_run\n",
      "\u001b[1;31mKeyboardInterrupt\u001b[0m: "
     ]
    }
   ],
   "source": [
    "def task1():\n",
    "    print(\"Doing a task...\", helper.get_time())\n",
    "\n",
    "schedule.every(1).to(10).seconds.do(task)\n",
    "\n",
    "while(True):\n",
    "    schedule.run_pending()"
   ]
  },
  {
   "attachments": {},
   "cell_type": "markdown",
   "metadata": {},
   "source": [
    "Schedule the job at a certain time"
   ]
  },
  {
   "cell_type": "code",
   "execution_count": 21,
   "metadata": {},
   "outputs": [
    {
     "name": "stdout",
     "output_type": "stream",
     "text": [
      "Doing a task... 06:28:24 (30/03/23)\n",
      "Doing a task... 06:28:25 (30/03/23)\n",
      "Doing a task... 06:28:26 (30/03/23)\n",
      "Doing a task... 06:28:27 (30/03/23)\n",
      "Doing a task... 06:28:28 (30/03/23)\n"
     ]
    },
    {
     "ename": "KeyboardInterrupt",
     "evalue": "",
     "output_type": "error",
     "traceback": [
      "\u001b[1;31m---------------------------------------------------------------------------\u001b[0m",
      "\u001b[1;31mKeyboardInterrupt\u001b[0m                         Traceback (most recent call last)",
      "\u001b[1;32mc:\\Users\\anura\\Documents\\VSCode_Workspace\\365-Days-of-Python\\96_Scheduling_Tasks\\sched_tasks.ipynb Cell 29\u001b[0m in \u001b[0;36m1\n\u001b[0;32m      <a href='vscode-notebook-cell:/c%3A/Users/anura/Documents/VSCode_Workspace/365-Days-of-Python/96_Scheduling_Tasks/sched_tasks.ipynb#X43sZmlsZQ%3D%3D?line=7'>8</a>\u001b[0m schedule\u001b[39m.\u001b[39mrun_all(delay_seconds\u001b[39m=\u001b[39m\u001b[39m1\u001b[39m) \u001b[39m# Waits for one process to terminate\u001b[39;00m\n\u001b[0;32m     <a href='vscode-notebook-cell:/c%3A/Users/anura/Documents/VSCode_Workspace/365-Days-of-Python/96_Scheduling_Tasks/sched_tasks.ipynb#X43sZmlsZQ%3D%3D?line=9'>10</a>\u001b[0m \u001b[39mwhile\u001b[39;00m(\u001b[39mTrue\u001b[39;00m):\n\u001b[1;32m---> <a href='vscode-notebook-cell:/c%3A/Users/anura/Documents/VSCode_Workspace/365-Days-of-Python/96_Scheduling_Tasks/sched_tasks.ipynb#X43sZmlsZQ%3D%3D?line=10'>11</a>\u001b[0m     schedule\u001b[39m.\u001b[39mrun_pending()\n",
      "\u001b[1;31mKeyboardInterrupt\u001b[0m: "
     ]
    }
   ],
   "source": [
    "import datetime\n",
    "def task1():\n",
    "    print(\"Doing a task...\", helper.get_time())\n",
    "\n",
    "schedule.every().monday.at('10:00').do(task)\n",
    "schedule.every().tuesday.at('15:00').do(task)\n",
    "\n",
    "schedule.run_all(delay_seconds=1) # Waits for one process to terminate\n",
    "\n",
    "while(True):\n",
    "    schedule.run_pending()"
   ]
  },
  {
   "attachments": {},
   "cell_type": "markdown",
   "metadata": {},
   "source": [
    "Blocking Tasks"
   ]
  },
  {
   "cell_type": "code",
   "execution_count": 22,
   "metadata": {},
   "outputs": [
    {
     "name": "stdout",
     "output_type": "stream",
     "text": [
      "Doing a task... 06:29:19 (30/03/23)\n"
     ]
    },
    {
     "ename": "KeyboardInterrupt",
     "evalue": "",
     "output_type": "error",
     "traceback": [
      "\u001b[1;31m---------------------------------------------------------------------------\u001b[0m",
      "\u001b[1;31mKeyboardInterrupt\u001b[0m                         Traceback (most recent call last)",
      "\u001b[1;32mc:\\Users\\anura\\Documents\\VSCode_Workspace\\365-Days-of-Python\\96_Scheduling_Tasks\\sched_tasks.ipynb Cell 31\u001b[0m in \u001b[0;36m9\n\u001b[0;32m      <a href='vscode-notebook-cell:/c%3A/Users/anura/Documents/VSCode_Workspace/365-Days-of-Python/96_Scheduling_Tasks/sched_tasks.ipynb#X45sZmlsZQ%3D%3D?line=5'>6</a>\u001b[0m schedule\u001b[39m.\u001b[39mevery(\u001b[39m1\u001b[39m)\u001b[39m.\u001b[39mseconds\u001b[39m.\u001b[39mdo(task)\n\u001b[0;32m      <a href='vscode-notebook-cell:/c%3A/Users/anura/Documents/VSCode_Workspace/365-Days-of-Python/96_Scheduling_Tasks/sched_tasks.ipynb#X45sZmlsZQ%3D%3D?line=7'>8</a>\u001b[0m \u001b[39mwhile\u001b[39;00m(\u001b[39mTrue\u001b[39;00m):\n\u001b[1;32m----> <a href='vscode-notebook-cell:/c%3A/Users/anura/Documents/VSCode_Workspace/365-Days-of-Python/96_Scheduling_Tasks/sched_tasks.ipynb#X45sZmlsZQ%3D%3D?line=8'>9</a>\u001b[0m     schedule\u001b[39m.\u001b[39mrun_pending()\n",
      "File \u001b[1;32mc:\\Users\\anura\\AppData\\Local\\Programs\\Python\\Python310\\lib\\site-packages\\schedule\\__init__.py:780\u001b[0m, in \u001b[0;36mrun_pending\u001b[1;34m()\u001b[0m\n\u001b[0;32m    776\u001b[0m \u001b[39mdef\u001b[39;00m \u001b[39mrun_pending\u001b[39m() \u001b[39m-\u001b[39m\u001b[39m>\u001b[39m \u001b[39mNone\u001b[39;00m:\n\u001b[0;32m    777\u001b[0m \u001b[39m    \u001b[39m\u001b[39m\"\"\"Calls :meth:`run_pending <Scheduler.run_pending>` on the\u001b[39;00m\n\u001b[0;32m    778\u001b[0m \u001b[39m    :data:`default scheduler instance <default_scheduler>`.\u001b[39;00m\n\u001b[0;32m    779\u001b[0m \u001b[39m    \"\"\"\u001b[39;00m\n\u001b[1;32m--> 780\u001b[0m     default_scheduler\u001b[39m.\u001b[39;49mrun_pending()\n",
      "File \u001b[1;32mc:\\Users\\anura\\AppData\\Local\\Programs\\Python\\Python310\\lib\\site-packages\\schedule\\__init__.py:99\u001b[0m, in \u001b[0;36mScheduler.run_pending\u001b[1;34m(self)\u001b[0m\n\u001b[0;32m     89\u001b[0m \u001b[39m\u001b[39m\u001b[39m\"\"\"\u001b[39;00m\n\u001b[0;32m     90\u001b[0m \u001b[39mRun all jobs that are scheduled to run.\u001b[39;00m\n\u001b[0;32m     91\u001b[0m \n\u001b[1;32m   (...)\u001b[0m\n\u001b[0;32m     96\u001b[0m \u001b[39mbetween but only once.\u001b[39;00m\n\u001b[0;32m     97\u001b[0m \u001b[39m\"\"\"\u001b[39;00m\n\u001b[0;32m     98\u001b[0m runnable_jobs \u001b[39m=\u001b[39m (job \u001b[39mfor\u001b[39;00m job \u001b[39min\u001b[39;00m \u001b[39mself\u001b[39m\u001b[39m.\u001b[39mjobs \u001b[39mif\u001b[39;00m job\u001b[39m.\u001b[39mshould_run)\n\u001b[1;32m---> 99\u001b[0m \u001b[39mfor\u001b[39;00m job \u001b[39min\u001b[39;00m \u001b[39msorted\u001b[39;49m(runnable_jobs):\n\u001b[0;32m    100\u001b[0m     \u001b[39mself\u001b[39m\u001b[39m.\u001b[39m_run_job(job)\n",
      "File \u001b[1;32mc:\\Users\\anura\\AppData\\Local\\Programs\\Python\\Python310\\lib\\site-packages\\schedule\\__init__.py:98\u001b[0m, in \u001b[0;36m<genexpr>\u001b[1;34m(.0)\u001b[0m\n\u001b[0;32m     88\u001b[0m \u001b[39mdef\u001b[39;00m \u001b[39mrun_pending\u001b[39m(\u001b[39mself\u001b[39m) \u001b[39m-\u001b[39m\u001b[39m>\u001b[39m \u001b[39mNone\u001b[39;00m:\n\u001b[0;32m     89\u001b[0m \u001b[39m    \u001b[39m\u001b[39m\"\"\"\u001b[39;00m\n\u001b[0;32m     90\u001b[0m \u001b[39m    Run all jobs that are scheduled to run.\u001b[39;00m\n\u001b[0;32m     91\u001b[0m \n\u001b[1;32m   (...)\u001b[0m\n\u001b[0;32m     96\u001b[0m \u001b[39m    between but only once.\u001b[39;00m\n\u001b[0;32m     97\u001b[0m \u001b[39m    \"\"\"\u001b[39;00m\n\u001b[1;32m---> 98\u001b[0m     runnable_jobs \u001b[39m=\u001b[39m (job \u001b[39mfor\u001b[39;00m job \u001b[39min\u001b[39;00m \u001b[39mself\u001b[39m\u001b[39m.\u001b[39mjobs \u001b[39mif\u001b[39;00m job\u001b[39m.\u001b[39mshould_run)\n\u001b[0;32m     99\u001b[0m     \u001b[39mfor\u001b[39;00m job \u001b[39min\u001b[39;00m \u001b[39msorted\u001b[39m(runnable_jobs):\n\u001b[0;32m    100\u001b[0m         \u001b[39mself\u001b[39m\u001b[39m.\u001b[39m_run_job(job)\n",
      "\u001b[1;31mKeyboardInterrupt\u001b[0m: "
     ]
    }
   ],
   "source": [
    "import datetime\n",
    "def task1():\n",
    "    print(\"Doing a task...\", helper.get_time())\n",
    "    time.sleep(5) # blocking\n",
    "\n",
    "schedule.every(1).seconds.do(task)\n",
    "\n",
    "while(True):\n",
    "    schedule.run_pending()"
   ]
  },
  {
   "attachments": {},
   "cell_type": "markdown",
   "metadata": {},
   "source": [
    "Solution is to use threading"
   ]
  },
  {
   "cell_type": "code",
   "execution_count": 23,
   "metadata": {},
   "outputs": [
    {
     "name": "stdout",
     "output_type": "stream",
     "text": [
      "Doing a task... 06:31:13 (30/03/23)\n"
     ]
    },
    {
     "ename": "KeyboardInterrupt",
     "evalue": "",
     "output_type": "error",
     "traceback": [
      "\u001b[1;31m---------------------------------------------------------------------------\u001b[0m",
      "\u001b[1;31mKeyboardInterrupt\u001b[0m                         Traceback (most recent call last)",
      "\u001b[1;32mc:\\Users\\anura\\Documents\\VSCode_Workspace\\365-Days-of-Python\\96_Scheduling_Tasks\\sched_tasks.ipynb Cell 33\u001b[0m in \u001b[0;36m1\n\u001b[0;32m     <a href='vscode-notebook-cell:/c%3A/Users/anura/Documents/VSCode_Workspace/365-Days-of-Python/96_Scheduling_Tasks/sched_tasks.ipynb#X52sZmlsZQ%3D%3D?line=9'>10</a>\u001b[0m schedule\u001b[39m.\u001b[39mevery(\u001b[39m1\u001b[39m)\u001b[39m.\u001b[39mseconds\u001b[39m.\u001b[39mdo(task)\n\u001b[0;32m     <a href='vscode-notebook-cell:/c%3A/Users/anura/Documents/VSCode_Workspace/365-Days-of-Python/96_Scheduling_Tasks/sched_tasks.ipynb#X52sZmlsZQ%3D%3D?line=11'>12</a>\u001b[0m \u001b[39mwhile\u001b[39;00m(\u001b[39mTrue\u001b[39;00m):\n\u001b[1;32m---> <a href='vscode-notebook-cell:/c%3A/Users/anura/Documents/VSCode_Workspace/365-Days-of-Python/96_Scheduling_Tasks/sched_tasks.ipynb#X52sZmlsZQ%3D%3D?line=12'>13</a>\u001b[0m     schedule\u001b[39m.\u001b[39mrun_pending()\n",
      "File \u001b[1;32mc:\\Users\\anura\\AppData\\Local\\Programs\\Python\\Python310\\lib\\site-packages\\schedule\\__init__.py:780\u001b[0m, in \u001b[0;36mrun_pending\u001b[1;34m()\u001b[0m\n\u001b[0;32m    776\u001b[0m \u001b[39mdef\u001b[39;00m \u001b[39mrun_pending\u001b[39m() \u001b[39m-\u001b[39m\u001b[39m>\u001b[39m \u001b[39mNone\u001b[39;00m:\n\u001b[0;32m    777\u001b[0m \u001b[39m    \u001b[39m\u001b[39m\"\"\"Calls :meth:`run_pending <Scheduler.run_pending>` on the\u001b[39;00m\n\u001b[0;32m    778\u001b[0m \u001b[39m    :data:`default scheduler instance <default_scheduler>`.\u001b[39;00m\n\u001b[0;32m    779\u001b[0m \u001b[39m    \"\"\"\u001b[39;00m\n\u001b[1;32m--> 780\u001b[0m     default_scheduler\u001b[39m.\u001b[39;49mrun_pending()\n",
      "File \u001b[1;32mc:\\Users\\anura\\AppData\\Local\\Programs\\Python\\Python310\\lib\\site-packages\\schedule\\__init__.py:88\u001b[0m, in \u001b[0;36mScheduler.run_pending\u001b[1;34m(self)\u001b[0m\n\u001b[0;32m     85\u001b[0m \u001b[39mdef\u001b[39;00m \u001b[39m__init__\u001b[39m(\u001b[39mself\u001b[39m) \u001b[39m-\u001b[39m\u001b[39m>\u001b[39m \u001b[39mNone\u001b[39;00m:\n\u001b[0;32m     86\u001b[0m     \u001b[39mself\u001b[39m\u001b[39m.\u001b[39mjobs: List[Job] \u001b[39m=\u001b[39m []\n\u001b[1;32m---> 88\u001b[0m \u001b[39mdef\u001b[39;00m \u001b[39mrun_pending\u001b[39m(\u001b[39mself\u001b[39m) \u001b[39m-\u001b[39m\u001b[39m>\u001b[39m \u001b[39mNone\u001b[39;00m:\n\u001b[0;32m     89\u001b[0m \u001b[39m    \u001b[39m\u001b[39m\"\"\"\u001b[39;00m\n\u001b[0;32m     90\u001b[0m \u001b[39m    Run all jobs that are scheduled to run.\u001b[39;00m\n\u001b[0;32m     91\u001b[0m \n\u001b[1;32m   (...)\u001b[0m\n\u001b[0;32m     96\u001b[0m \u001b[39m    between but only once.\u001b[39;00m\n\u001b[0;32m     97\u001b[0m \u001b[39m    \"\"\"\u001b[39;00m\n\u001b[0;32m     98\u001b[0m     runnable_jobs \u001b[39m=\u001b[39m (job \u001b[39mfor\u001b[39;00m job \u001b[39min\u001b[39;00m \u001b[39mself\u001b[39m\u001b[39m.\u001b[39mjobs \u001b[39mif\u001b[39;00m job\u001b[39m.\u001b[39mshould_run)\n",
      "\u001b[1;31mKeyboardInterrupt\u001b[0m: "
     ]
    }
   ],
   "source": [
    "import threading\n",
    "def task1():\n",
    "    print(\"Doing a task...\", helper.get_time())\n",
    "    time.sleep(5)\n",
    "\n",
    "def start_thread(func):\n",
    "    job_one = threading.Thread(target=func)\n",
    "    job_one.start()\n",
    "\n",
    "schedule.every(1).seconds.do(task)\n",
    "\n",
    "while(True):\n",
    "    schedule.run_pending()\n"
   ]
  },
  {
   "cell_type": "markdown",
   "metadata": {},
   "source": []
  }
 ],
 "metadata": {
  "kernelspec": {
   "display_name": "Python 3",
   "language": "python",
   "name": "python3"
  },
  "language_info": {
   "codemirror_mode": {
    "name": "ipython",
    "version": 3
   },
   "file_extension": ".py",
   "mimetype": "text/x-python",
   "name": "python",
   "nbconvert_exporter": "python",
   "pygments_lexer": "ipython3",
   "version": "3.10.8"
  },
  "orig_nbformat": 4
 },
 "nbformat": 4,
 "nbformat_minor": 2
}
