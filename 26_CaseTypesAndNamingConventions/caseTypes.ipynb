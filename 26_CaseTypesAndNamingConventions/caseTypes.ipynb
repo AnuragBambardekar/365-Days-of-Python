{
 "cells": [
  {
   "attachments": {},
   "cell_type": "markdown",
   "metadata": {},
   "source": [
    "# Case Types and Naming Conventions in Python"
   ]
  },
  {
   "attachments": {},
   "cell_type": "markdown",
   "metadata": {},
   "source": [
    "https://peps.python.org/pep-0008/ <br>\n",
    "This document gives coding conventions for the Python code comprising the standard library in the main Python distribution."
   ]
  },
  {
   "attachments": {},
   "cell_type": "markdown",
   "metadata": {},
   "source": [
    "- Camel case: myVariableName (for naming variable names and used by some packages)\n",
    "- Snake case: my_variable_name, my_function_name (for naming functions)\n",
    "- Pascal case (Capital Camel case): MyVariableName (used for naming classes)\n",
    "- Kebap case (lisp, caterpillar case): my-variable-name (used while installing packages pip install opencv-python)\n",
    "- Upper Snake case: MY_VARIABLE_NAME (used for naming constants,API Keys)\n",
    "- Flat case: myvariablename \n",
    "- Cobol case: MY-VARIABLE-NAME\n"
   ]
  },
  {
   "attachments": {},
   "cell_type": "markdown",
   "metadata": {},
   "source": [
    "pip install opencv-python #Kebap case\n",
    "\n",
    "import cv2 #snake case\n",
    "\n",
    "SCREEN_WIDTH = 1920 #upper snake case\n",
    "SCREEN_HEIGHT = 1080 #upper snake case"
   ]
  },
  {
   "cell_type": "code",
   "execution_count": 2,
   "metadata": {},
   "outputs": [],
   "source": [
    "class MyVisualization: #Pascal case\n",
    "    def __init__(self, width, height):\n",
    "        self.width = width\n",
    "        self.height = height\n",
    "\n",
    "    def do_visualization(self): # snake case <br> \n",
    "        some_calculated_val = self.height * 2 + self.width / 2"
   ]
  },
  {
   "cell_type": "code",
   "execution_count": null,
   "metadata": {},
   "outputs": [],
   "source": []
  }
 ],
 "metadata": {
  "kernelspec": {
   "display_name": "Python 3",
   "language": "python",
   "name": "python3"
  },
  "language_info": {
   "codemirror_mode": {
    "name": "ipython",
    "version": 3
   },
   "file_extension": ".py",
   "mimetype": "text/x-python",
   "name": "python",
   "nbconvert_exporter": "python",
   "pygments_lexer": "ipython3",
   "version": "3.10.7"
  },
  "orig_nbformat": 4,
  "vscode": {
   "interpreter": {
    "hash": "fbfacf25abbc4466cbf6a4ec94f71aa428570133f008ac9f4c86deb26a69bb88"
   }
  }
 },
 "nbformat": 4,
 "nbformat_minor": 2
}
