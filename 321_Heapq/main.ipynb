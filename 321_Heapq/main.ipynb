{
 "cells": [
  {
   "cell_type": "markdown",
   "metadata": {},
   "source": [
    "# heapq Module"
   ]
  },
  {
   "cell_type": "markdown",
   "metadata": {},
   "source": [
    "For problems that involve finding the best element in a dataset, **heaps** and **priority queues** offer a solution that's easy to use and highly effective."
   ]
  },
  {
   "cell_type": "markdown",
   "metadata": {},
   "source": [
    "## Heaps and Priority queues\n",
    "- Heaps are **concrete** data structures. [defines implementation]\n",
    "- Priority Queues are **abstract** data structures. [defines interface]\n",
    "\n",
    "Concrete data structures specify performance guarantees (define relationship between the size of the structure and the time operations take)\n",
    "\n",
    "Abstract data structures specify operations and the relationships between them.\n",
    "\n",
    "The priority queue abstract data structure supports 3 operations:\n",
    "- *is_empty* checks whether the queue is empty.\n",
    "- *add_element* adds an element to the queue.\n",
    "- *pop_element* pops the element with the highest priority.\n",
    "\n",
    "- Priority Queues are commonly used for optimizing task execution, in which the goal is to work on the task with the highest priority. After a task is completed, its priority is lowered, and it's returned to the queue.\n",
    "    - There are 2 different conventions for determining the priority of an element:\n",
    "        - The largest element has the highest priority\n",
    "        - The smallest element has the highest priority\n",
    "\n",
    "The Python *heapq* module uses the second convention (smallest element has highest priority)\n",
    "\n",
    "The heap implementation of the priority queue guarantees that both pushing (adding) and popping (removing) elements are *logarithmic* time operations."
   ]
  },
  {
   "cell_type": "markdown",
   "metadata": {},
   "source": [
    "## Implementation of Heaps\n",
    "\n",
    "- A heap implements a priority queue as a **complete binary tree**.\n",
    "- In a binary tree, each node will have at most 2 children.\n",
    "- In a complete binary tree, all levels except possibly the deepest one are full at all times.\n",
    "- If the deepest level is incomplete, then it will have the nodes as far to the left as possible.\n",
    "\n",
    "- In a heap tree, the value in a node is always smaller than both of its children. This is called the **heap property**. \n",
    "- This is different from a Binary Search Tree, in which only the left node will be smaller than the value of its parent."
   ]
  },
  {
   "cell_type": "markdown",
   "metadata": {},
   "source": [
    "## Use Cases\n",
    "\n",
    "We can use a priority queue for any of the following tasks:\n",
    "\n",
    "- Getting the three most popular blog posts from hit data\n",
    "- Finding the fastest way to get from one point to the other\n",
    "- Predicting which bus will be the first to arrive at a station based on arrival frequency\n",
    "- Scheduling emails, each of which needs to be sent at a certain frequency."
   ]
  },
  {
   "attachments": {
    "heap-list.webp": {
     "image/webp": "[encoded data removed]"
    }
   },
   "cell_type": "markdown",
   "metadata": {},
   "source": [
    "**heaps can be implemented as a list.**\n",
    "There are three rules that determine the relationship between the element at the index k and its surrounding elements:\n",
    "\n",
    "- Its first child is at 2*k + 1.\n",
    "- Its second child is at 2*k + 2.\n",
    "- Its parent is at (k - 1) // 2.\n",
    "\n",
    "\n",
    "![heap-list.webp](attachment:heap-list.webp)"
   ]
  },
  {
   "cell_type": "code",
   "execution_count": 1,
   "metadata": {},
   "outputs": [
    {
     "data": {
      "text/plain": [
       "[1, 2, 3, 5, 6, 8, 7]"
      ]
     },
     "execution_count": 1,
     "metadata": {},
     "output_type": "execute_result"
    }
   ],
   "source": [
    "# Basic Operations\n",
    "import heapq\n",
    "a = [3,5,1,2,6,8,7]\n",
    "heapq.heapify(a) # modifies list in-place but doesn't sort it\n",
    "a"
   ]
  },
  {
   "cell_type": "code",
   "execution_count": 2,
   "metadata": {},
   "outputs": [
    {
     "data": {
      "text/plain": [
       "1"
      ]
     },
     "execution_count": 2,
     "metadata": {},
     "output_type": "execute_result"
    }
   ],
   "source": [
    "a = [1,2,3,5,6,8,7]\n",
    "heapq.heappop(a)"
   ]
  },
  {
   "cell_type": "code",
   "execution_count": 3,
   "metadata": {},
   "outputs": [
    {
     "data": {
      "text/plain": [
       "[2, 5, 3, 7, 6, 8]"
      ]
     },
     "execution_count": 3,
     "metadata": {},
     "output_type": "execute_result"
    }
   ],
   "source": [
    "a"
   ]
  },
  {
   "cell_type": "code",
   "execution_count": 4,
   "metadata": {},
   "outputs": [
    {
     "data": {
      "text/plain": [
       "[2, 5, 3, 7, 6, 8, 4]"
      ]
     },
     "execution_count": 4,
     "metadata": {},
     "output_type": "execute_result"
    }
   ],
   "source": [
    "a = [2,5,3,7,6,8]\n",
    "heapq.heappush(a,4)\n",
    "a"
   ]
  },
  {
   "cell_type": "code",
   "execution_count": 5,
   "metadata": {},
   "outputs": [
    {
     "data": {
      "text/plain": [
       "2"
      ]
     },
     "execution_count": 5,
     "metadata": {},
     "output_type": "execute_result"
    }
   ],
   "source": [
    "heapq.heappop(a)"
   ]
  },
  {
   "cell_type": "code",
   "execution_count": 6,
   "metadata": {},
   "outputs": [
    {
     "data": {
      "text/plain": [
       "3"
      ]
     },
     "execution_count": 6,
     "metadata": {},
     "output_type": "execute_result"
    }
   ],
   "source": [
    "heapq.heappop(a)"
   ]
  },
  {
   "cell_type": "code",
   "execution_count": 8,
   "metadata": {},
   "outputs": [
    {
     "data": {
      "text/plain": [
       "4"
      ]
     },
     "execution_count": 8,
     "metadata": {},
     "output_type": "execute_result"
    }
   ],
   "source": [
    "heapq.heappop(a)"
   ]
  },
  {
   "cell_type": "markdown",
   "metadata": {},
   "source": [
    "The Python heapq module also defines two more operations:\n",
    "\n",
    "- heapreplace() is equivalent to heappop() followed by heappush().\n",
    "- heappushpop() is equivalent to heappush() followed by heappop()."
   ]
  },
  {
   "cell_type": "markdown",
   "metadata": {},
   "source": [
    "## Email Scheduler Implementation"
   ]
  },
  {
   "cell_type": "code",
   "execution_count": 9,
   "metadata": {},
   "outputs": [],
   "source": [
    "import datetime\n",
    "import heapq\n",
    "\n",
    "def email(frequency, details):\n",
    "    current = datetime.datetime.now()\n",
    "    while True:\n",
    "        current += frequency\n",
    "        yield current, details\n",
    "    \n",
    "fast_email = email(datetime.timedelta(minutes=15), \"fast email\")\n",
    "slow_email = email(datetime.timedelta(minutes=40), \"slow email\")\n",
    "\n",
    "unified = heapq.merge(fast_email, slow_email)"
   ]
  },
  {
   "cell_type": "code",
   "execution_count": 10,
   "metadata": {},
   "outputs": [
    {
     "name": "stdout",
     "output_type": "stream",
     "text": [
      "Email 1: (datetime.datetime(2023, 11, 17, 8, 15, 11, 124589), 'fast email')\n",
      "Email 2: (datetime.datetime(2023, 11, 17, 8, 30, 11, 124589), 'fast email')\n",
      "Email 3: (datetime.datetime(2023, 11, 17, 8, 40, 11, 124589), 'slow email')\n",
      "Email 4: (datetime.datetime(2023, 11, 17, 8, 45, 11, 124589), 'fast email')\n",
      "Email 5: (datetime.datetime(2023, 11, 17, 9, 0, 11, 124589), 'fast email')\n",
      "Email 6: (datetime.datetime(2023, 11, 17, 9, 15, 11, 124589), 'fast email')\n",
      "Email 7: (datetime.datetime(2023, 11, 17, 9, 20, 11, 124589), 'slow email')\n",
      "Email 8: (datetime.datetime(2023, 11, 17, 9, 30, 11, 124589), 'fast email')\n",
      "Email 9: (datetime.datetime(2023, 11, 17, 9, 45, 11, 124589), 'fast email')\n",
      "Email 10: (datetime.datetime(2023, 11, 17, 10, 0, 11, 124589), 'fast email')\n"
     ]
    }
   ],
   "source": [
    "for i in range(10):\n",
    "    next_email = next(unified)\n",
    "    print(f\"Email {i + 1}: {next_email}\")"
   ]
  },
  {
   "cell_type": "markdown",
   "metadata": {},
   "source": [
    "*fast email* is scheduled every 15 minutes, the *slow email* is scheduled every 40, and the emails are properly interleaved so that they’re arranged in the order of their timestamps."
   ]
  },
  {
   "cell_type": "markdown",
   "metadata": {},
   "source": [
    "**We can also use heaps to identify the top n or bottom n things**"
   ]
  },
  {
   "cell_type": "code",
   "execution_count": 11,
   "metadata": {},
   "outputs": [
    {
     "name": "stdout",
     "output_type": "stream",
     "text": [
      "Elaine Thompson          10.71\n",
      "Tori Bowie               10.83\n",
      "Marie-Josee Ta Lou       10.86\n"
     ]
    }
   ],
   "source": [
    "import heapq\n",
    "\n",
    "results=\"\"\"\\\n",
    "Christania Williams      11.80\n",
    "Marie-Josee Ta Lou       10.86\n",
    "Elaine Thompson          10.71\n",
    "Tori Bowie               10.83\n",
    "Shelly-Ann Fraser-Pryce  10.86\n",
    "English Gardner          10.94\n",
    "Michelle-Lee Ahye        10.92\n",
    "Dafne Schippers          10.90\n",
    "\"\"\"\n",
    "\n",
    "top_3 = heapq.nsmallest(\n",
    "    3, results.splitlines(), key=lambda x: float(x.split()[-1])\n",
    ")\n",
    "print(\"\\n\".join(top_3))"
   ]
  },
  {
   "cell_type": "code",
   "execution_count": null,
   "metadata": {},
   "outputs": [],
   "source": []
  }
 ],
 "metadata": {
  "kernelspec": {
   "display_name": "Python 3",
   "language": "python",
   "name": "python3"
  },
  "language_info": {
   "codemirror_mode": {
    "name": "ipython",
    "version": 3
   },
   "file_extension": ".py",
   "mimetype": "text/x-python",
   "name": "python",
   "nbconvert_exporter": "python",
   "pygments_lexer": "ipython3",
   "version": "3.10.8"
  }
 },
 "nbformat": 4,
 "nbformat_minor": 2
}
