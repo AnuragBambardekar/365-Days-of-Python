{
 "cells": [
  {
   "attachments": {},
   "cell_type": "markdown",
   "metadata": {},
   "source": [
    "# Python Secrets Module"
   ]
  },
  {
   "attachments": {},
   "cell_type": "markdown",
   "metadata": {},
   "source": [
    "A secure way to generate cryptographically strong random numbers and strings."
   ]
  },
  {
   "cell_type": "code",
   "execution_count": 1,
   "metadata": {},
   "outputs": [],
   "source": [
    "import secrets"
   ]
  },
  {
   "cell_type": "code",
   "execution_count": 2,
   "metadata": {},
   "outputs": [
    {
     "name": "stdout",
     "output_type": "stream",
     "text": [
      "85\n"
     ]
    }
   ],
   "source": [
    "random = secrets.randbelow(100)\n",
    "print(random)"
   ]
  },
  {
   "cell_type": "code",
   "execution_count": 6,
   "metadata": {},
   "outputs": [
    {
     "name": "stdout",
     "output_type": "stream",
     "text": [
      "5\n"
     ]
    }
   ],
   "source": [
    "randomChoice = secrets.choice([1,2,3,4,5])\n",
    "print(randomChoice)"
   ]
  },
  {
   "cell_type": "code",
   "execution_count": 19,
   "metadata": {},
   "outputs": [
    {
     "name": "stdout",
     "output_type": "stream",
     "text": [
      "[5, 1, 4, 3, 2]\n"
     ]
    }
   ],
   "source": [
    "# Define a list of items to shuffle\n",
    "my_list = [1, 2, 3, 4, 5]\n",
    "\n",
    "# Shuffle the list randomly\n",
    "secrets.SystemRandom().shuffle(my_list)\n",
    "print(my_list)\n"
   ]
  },
  {
   "attachments": {},
   "cell_type": "markdown",
   "metadata": {},
   "source": [
    "Generating Passwords"
   ]
  },
  {
   "cell_type": "code",
   "execution_count": 8,
   "metadata": {},
   "outputs": [
    {
     "name": "stdout",
     "output_type": "stream",
     "text": [
      "Generated Password: 5!Aq-cT%\n"
     ]
    }
   ],
   "source": [
    "import string\n",
    "\n",
    "def generate_passsword(length: int):\n",
    "    chars: str = string.ascii_letters + string.digits + string.punctuation\n",
    "    password: str = ''.join(secrets.choice(chars) for _ in range(length))\n",
    "\n",
    "    print('Generated Password:', password)\n",
    "\n",
    "generate_passsword(8)"
   ]
  },
  {
   "cell_type": "code",
   "execution_count": 9,
   "metadata": {},
   "outputs": [
    {
     "name": "stdout",
     "output_type": "stream",
     "text": [
      "37116\n"
     ]
    }
   ],
   "source": [
    "random1 = secrets.randbits(16)\n",
    "print(random1)"
   ]
  },
  {
   "cell_type": "code",
   "execution_count": 10,
   "metadata": {},
   "outputs": [
    {
     "name": "stdout",
     "output_type": "stream",
     "text": [
      "45\n"
     ]
    }
   ],
   "source": [
    "random2 = secrets.randbits(8)\n",
    "print(random2)"
   ]
  },
  {
   "attachments": {},
   "cell_type": "markdown",
   "metadata": {},
   "source": [
    "Tokens"
   ]
  },
  {
   "cell_type": "code",
   "execution_count": 11,
   "metadata": {},
   "outputs": [
    {
     "name": "stdout",
     "output_type": "stream",
     "text": [
      "b'y\\x89\\xf2g\\x86\\xd4`\\xed\\x80\\xbc\\xd1\\xc8\\xc8\\x8aGO~\\xddvr@o\\xea1a\\x95\\xbe\\xd6J\\x11G\\xcf'\n"
     ]
    }
   ],
   "source": [
    "token = secrets.token_bytes(32) # Return a random byte string containing *nbytes* bytes.\n",
    "print(token)"
   ]
  },
  {
   "cell_type": "code",
   "execution_count": 12,
   "metadata": {},
   "outputs": [
    {
     "name": "stdout",
     "output_type": "stream",
     "text": [
      "1177f209044c5b8e50d08860d506f15bf25d51ab9cfdefd99a024b738ba38d1c\n"
     ]
    }
   ],
   "source": [
    "token = secrets.token_hex(32) # Return a random byte string containing *nbytes* bytes.\n",
    "print(token)"
   ]
  },
  {
   "cell_type": "code",
   "execution_count": 14,
   "metadata": {},
   "outputs": [
    {
     "name": "stdout",
     "output_type": "stream",
     "text": [
      "www.website.com/authenticate/GF2XBe2Ym8Oav-ZSjrNGpw\n"
     ]
    }
   ],
   "source": [
    "token = secrets.token_urlsafe(16)\n",
    "print(f'www.website.com/authenticate/{token}')"
   ]
  },
  {
   "attachments": {},
   "cell_type": "markdown",
   "metadata": {},
   "source": [
    "Naive Method - Comparison [vulnerable to timing attacks]"
   ]
  },
  {
   "cell_type": "code",
   "execution_count": 15,
   "metadata": {},
   "outputs": [
    {
     "name": "stdout",
     "output_type": "stream",
     "text": [
      "Logged In!\n"
     ]
    }
   ],
   "source": [
    "user_input = 'abc123'\n",
    "password = 'abc123'\n",
    "\n",
    "if user_input == password:\n",
    "    print(\"Logged In!\")"
   ]
  },
  {
   "attachments": {},
   "cell_type": "markdown",
   "metadata": {},
   "source": [
    "More secured than previous method - Hacker might only know the type and length of the credentials"
   ]
  },
  {
   "cell_type": "code",
   "execution_count": 16,
   "metadata": {},
   "outputs": [
    {
     "name": "stdout",
     "output_type": "stream",
     "text": [
      "Logged In!\n"
     ]
    }
   ],
   "source": [
    "user_input = 'abc123'\n",
    "password = 'abc123'\n",
    "\n",
    "if secrets.compare_digest(user_input, password):\n",
    "    print(\"Logged In!\")"
   ]
  },
  {
   "attachments": {},
   "cell_type": "markdown",
   "metadata": {},
   "source": [
    " The random module in Python provides functions for generating random numbers, but the SystemRandom class provides a more secure way to generate random numbers, by using the os.urandom() function.\n",
    "\n",
    "The os.urandom() function generates a string of random bytes using the operating system's random number generator. The SystemRandom class uses this function to generate random numbers for its random() method."
   ]
  },
  {
   "cell_type": "code",
   "execution_count": 18,
   "metadata": {},
   "outputs": [
    {
     "name": "stdout",
     "output_type": "stream",
     "text": [
      "1\n"
     ]
    }
   ],
   "source": [
    "# Use SystemRandom to generate a random integer between 1 and 10\n",
    "rand_int = secrets.SystemRandom().randint(1, 10)\n",
    "print(rand_int)\n"
   ]
  }
 ],
 "metadata": {
  "kernelspec": {
   "display_name": "Python 3",
   "language": "python",
   "name": "python3"
  },
  "language_info": {
   "codemirror_mode": {
    "name": "ipython",
    "version": 3
   },
   "file_extension": ".py",
   "mimetype": "text/x-python",
   "name": "python",
   "nbconvert_exporter": "python",
   "pygments_lexer": "ipython3",
   "version": "3.10.8"
  },
  "orig_nbformat": 4
 },
 "nbformat": 4,
 "nbformat_minor": 2
}
