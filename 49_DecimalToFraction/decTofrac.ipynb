{
 "cells": [
  {
   "attachments": {},
   "cell_type": "markdown",
   "metadata": {},
   "source": [
    "# Decimal To Fraction Conversion"
   ]
  },
  {
   "cell_type": "code",
   "execution_count": 2,
   "metadata": {},
   "outputs": [
    {
     "name": "stdout",
     "output_type": "stream",
     "text": [
      "81/8\n"
     ]
    }
   ],
   "source": [
    "def decimal_to_fraction(decimal):\n",
    "    n = 10\n",
    "    while (n * decimal) % 1 != 0:\n",
    "        n *= 10\n",
    "    numerator = int(n * decimal)\n",
    "    denominator = n\n",
    "    gcd = greatest_common_denominator(numerator, denominator)\n",
    "    return numerator // gcd, denominator // gcd\n",
    "\n",
    "def greatest_common_denominator(a, b):\n",
    "    while b:\n",
    "        a, b = b, a % b\n",
    "    return a\n",
    "\n",
    "numerator, denominator = decimal_to_fraction(10.125)\n",
    "print(f\"{numerator}/{denominator}\")\n"
   ]
  },
  {
   "cell_type": "code",
   "execution_count": 5,
   "metadata": {},
   "outputs": [
    {
     "data": {
      "image/png": "[encoded data removed]",
      "text/latex": [
       "$\\displaystyle \\frac{1}{2}$"
      ],
      "text/plain": [
       "1/2"
      ]
     },
     "metadata": {},
     "output_type": "display_data"
    },
    {
     "data": {
      "image/png": "[encoded data removed]",
      "text/latex": [
       "$\\displaystyle \\frac{1}{4}$"
      ],
      "text/plain": [
       "1/4"
      ]
     },
     "metadata": {},
     "output_type": "display_data"
    },
    {
     "data": {
      "image/png": "[encoded data removed]",
      "text/latex": [
       "$\\displaystyle \\frac{1}{8}$"
      ],
      "text/plain": [
       "1/8"
      ]
     },
     "metadata": {},
     "output_type": "display_data"
    },
    {
     "data": {
      "image/png": "[encoded data removed]",
      "text/latex": [
       "$\\displaystyle \\frac{81}{8}$"
      ],
      "text/plain": [
       "81/8"
      ]
     },
     "metadata": {},
     "output_type": "display_data"
    }
   ],
   "source": [
    "from sympy.interactive import printing\n",
    "printing.init_printing(use_latex = True)\n",
    "from fractions import Fraction\n",
    "import sympy as sp\n",
    "\n",
    "def decimal_to_fraction(decimal):\n",
    "    x = sp.Rational(decimal)\n",
    "    return x\n",
    "\n",
    "# Test the function\n",
    "display(decimal_to_fraction(0.5))\n",
    "display(decimal_to_fraction(0.25))\n",
    "display(decimal_to_fraction(0.125))\n",
    "display(decimal_to_fraction(10.125))\n"
   ]
  },
  {
   "cell_type": "code",
   "execution_count": 4,
   "metadata": {},
   "outputs": [
    {
     "data": {
      "image/png": "[encoded data removed]",
      "text/latex": [
       "$\\displaystyle \\left( 0, \\  1/2\\right)$"
      ],
      "text/plain": [
       "(0, 1/2)"
      ]
     },
     "metadata": {},
     "output_type": "display_data"
    },
    {
     "data": {
      "image/png": "[encoded data removed]",
      "text/latex": [
       "$\\displaystyle \\left( 0, \\  1/4\\right)$"
      ],
      "text/plain": [
       "(0, 1/4)"
      ]
     },
     "metadata": {},
     "output_type": "display_data"
    },
    {
     "data": {
      "image/png": "[encoded data removed]",
      "text/latex": [
       "$\\displaystyle \\left( 0, \\  1/8\\right)$"
      ],
      "text/plain": [
       "(0, 1/8)"
      ]
     },
     "metadata": {},
     "output_type": "display_data"
    },
    {
     "data": {
      "image/png": "[encoded data removed]",
      "text/latex": [
       "$\\displaystyle \\left( 12, \\  1/8\\right)$"
      ],
      "text/plain": [
       "(12, 1/8)"
      ]
     },
     "metadata": {},
     "output_type": "display_data"
    }
   ],
   "source": [
    "from sympy import *\n",
    "\n",
    "def decimal_to_mixed_fraction(decimal):\n",
    "    fraction = sp.Rational(decimal)\n",
    "    whole_part = int(fraction)\n",
    "    fractional_part = fraction - whole_part\n",
    "    x = sp.symbols(str(whole_part))\n",
    "    y = sp.symbols(str(fractional_part))\n",
    "    # display(x,y)\n",
    "    return x,y\n",
    "\n",
    "# Test the function\n",
    "display(decimal_to_mixed_fraction(0.5))\n",
    "display(decimal_to_mixed_fraction(0.25))\n",
    "display(decimal_to_mixed_fraction(0.125))\n",
    "display(decimal_to_mixed_fraction(12.125))\n"
   ]
  }
 ],
 "metadata": {
  "kernelspec": {
   "display_name": "Python 3",
   "language": "python",
   "name": "python3"
  },
  "language_info": {
   "codemirror_mode": {
    "name": "ipython",
    "version": 3
   },
   "file_extension": ".py",
   "mimetype": "text/x-python",
   "name": "python",
   "nbconvert_exporter": "python",
   "pygments_lexer": "ipython3",
   "version": "3.10.7"
  },
  "orig_nbformat": 4,
  "vscode": {
   "interpreter": {
    "hash": "fbfacf25abbc4466cbf6a4ec94f71aa428570133f008ac9f4c86deb26a69bb88"
   }
  }
 },
 "nbformat": 4,
 "nbformat_minor": 2
}
