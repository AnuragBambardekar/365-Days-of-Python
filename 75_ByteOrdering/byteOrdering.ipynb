{
 "cells": [
  {
   "attachments": {},
   "cell_type": "markdown",
   "metadata": {},
   "source": [
    "# Byte Ordering"
   ]
  },
  {
   "attachments": {},
   "cell_type": "markdown",
   "metadata": {},
   "source": [
    "In computing, byte order refers to the way in which bytes are arranged in a multi-byte data type, such as an integer or a float. There are two common byte orders: big-endian and little-endian. In big-endian byte order, the most significant byte (the byte with the highest value) comes first, while in little-endian byte order, the least significant byte (the byte with the lowest value) comes first."
   ]
  },
  {
   "attachments": {},
   "cell_type": "markdown",
   "metadata": {},
   "source": [
    "## Finding my systems Byte Ordering"
   ]
  },
  {
   "cell_type": "code",
   "execution_count": 3,
   "metadata": {},
   "outputs": [
    {
     "name": "stdout",
     "output_type": "stream",
     "text": [
      "Little-endian byte order\n"
     ]
    }
   ],
   "source": [
    "import sys\n",
    "\n",
    "if sys.byteorder == 'little':\n",
    "    print(\"Little-endian byte order\")\n",
    "else:\n",
    "    print(\"Big-endian byte order\")\n"
   ]
  },
  {
   "attachments": {},
   "cell_type": "markdown",
   "metadata": {},
   "source": [
    "## Big Endian"
   ]
  },
  {
   "cell_type": "code",
   "execution_count": 1,
   "metadata": {},
   "outputs": [
    {
     "name": "stdout",
     "output_type": "stream",
     "text": [
      "12345678\n",
      "305419896\n"
     ]
    }
   ],
   "source": [
    "import struct\n",
    "\n",
    "# Create a 4-byte integer value in big-endian byte order\n",
    "value = 0x12345678\n",
    "packed_value = struct.pack('>I', value)\n",
    "\n",
    "# Print the packed value in hexadecimal format\n",
    "print(packed_value.hex())\n",
    "\n",
    "# Unpack the packed value and print the integer value\n",
    "unpacked_value = struct.unpack('>I', packed_value)\n",
    "print(unpacked_value[0])\n"
   ]
  },
  {
   "attachments": {},
   "cell_type": "markdown",
   "metadata": {},
   "source": [
    "In the above example, we use the struct module in Python to pack a 4-byte integer value (0x12345678) into a byte string in big-endian byte order (>I). We then print the packed value in hexadecimal format (12345678). Finally, we use the struct module again to unpack the packed value back into an integer value in Python and print it (305419896). Note that the unpacked value is different from the original value because it is in the machine's native byte order (which is typically little-endian)."
   ]
  },
  {
   "attachments": {},
   "cell_type": "markdown",
   "metadata": {},
   "source": [
    "## Little Endian"
   ]
  },
  {
   "cell_type": "code",
   "execution_count": 2,
   "metadata": {},
   "outputs": [
    {
     "name": "stdout",
     "output_type": "stream",
     "text": [
      "78563412\n",
      "305419896\n"
     ]
    }
   ],
   "source": [
    "import struct\n",
    "\n",
    "# Create a 4-byte integer value in little-endian byte order\n",
    "value = 0x12345678\n",
    "packed_value = struct.pack('<I', value)\n",
    "\n",
    "# Print the packed value in hexadecimal format\n",
    "print(packed_value.hex())\n",
    "\n",
    "# Unpack the packed value and print the integer value\n",
    "unpacked_value = struct.unpack('<I', packed_value)\n",
    "print(unpacked_value[0])\n"
   ]
  },
  {
   "attachments": {},
   "cell_type": "markdown",
   "metadata": {},
   "source": [
    "In the above example, we use the struct module again to pack the same 4-byte integer value (0x12345678) into a byte string, but this time in little-endian byte order (<I). We then print the packed value in hexadecimal format (78563412). Finally, we use the struct module again to unpack the packed value back into an integer value in Python and print it (305419896). Note that the unpacked value is the same as in the previous example, but the packed value is different because the byte order is different."
   ]
  }
 ],
 "metadata": {
  "kernelspec": {
   "display_name": "Python 3",
   "language": "python",
   "name": "python3"
  },
  "language_info": {
   "codemirror_mode": {
    "name": "ipython",
    "version": 3
   },
   "file_extension": ".py",
   "mimetype": "text/x-python",
   "name": "python",
   "nbconvert_exporter": "python",
   "pygments_lexer": "ipython3",
   "version": "3.10.8"
  },
  "orig_nbformat": 4
 },
 "nbformat": 4,
 "nbformat_minor": 2
}
