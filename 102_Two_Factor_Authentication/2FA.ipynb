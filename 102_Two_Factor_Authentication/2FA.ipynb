{
 "cells": [
  {
   "attachments": {},
   "cell_type": "markdown",
   "metadata": {},
   "source": [
    "# Two-Factor Authentication"
   ]
  },
  {
   "attachments": {},
   "cell_type": "markdown",
   "metadata": {},
   "source": [
    "pip install pyotp"
   ]
  },
  {
   "cell_type": "code",
   "execution_count": 2,
   "metadata": {},
   "outputs": [
    {
     "name": "stdout",
     "output_type": "stream",
     "text": [
      "CHI5ZWVF4HA72YGGQ4S2HQQRWGEHOG34\n"
     ]
    }
   ],
   "source": [
    "import time\n",
    "import pyotp\n",
    "\n",
    "key = pyotp.random_base32()\n",
    "\n",
    "print(key)"
   ]
  },
  {
   "attachments": {},
   "cell_type": "markdown",
   "metadata": {},
   "source": [
    "Can also define your own key like this:"
   ]
  },
  {
   "cell_type": "code",
   "execution_count": 3,
   "metadata": {},
   "outputs": [],
   "source": [
    "Newkey = \"mysupersecretkey\""
   ]
  },
  {
   "attachments": {},
   "cell_type": "markdown",
   "metadata": {},
   "source": [
    "Every 30 seconds get new Password"
   ]
  },
  {
   "cell_type": "code",
   "execution_count": 4,
   "metadata": {},
   "outputs": [
    {
     "name": "stdout",
     "output_type": "stream",
     "text": [
      "845976\n"
     ]
    }
   ],
   "source": [
    "totp = pyotp.TOTP(key)\n",
    "print(totp.now())"
   ]
  },
  {
   "cell_type": "code",
   "execution_count": 5,
   "metadata": {},
   "outputs": [
    {
     "name": "stdout",
     "output_type": "stream",
     "text": [
      "797266\n"
     ]
    }
   ],
   "source": [
    "time.sleep(30)\n",
    "print(totp.now())"
   ]
  },
  {
   "attachments": {},
   "cell_type": "markdown",
   "metadata": {},
   "source": [
    "Here's how it works, the code remains valid for 30 seconds"
   ]
  },
  {
   "cell_type": "code",
   "execution_count": 6,
   "metadata": {},
   "outputs": [
    {
     "name": "stdout",
     "output_type": "stream",
     "text": [
      "797266\n"
     ]
    },
    {
     "data": {
      "text/plain": [
       "False"
      ]
     },
     "execution_count": 6,
     "metadata": {},
     "output_type": "execute_result"
    }
   ],
   "source": [
    "print(totp.now())\n",
    "input_code = input(\"Enter 2FA code:\")\n",
    "totp.verify(input_code)"
   ]
  },
  {
   "attachments": {},
   "cell_type": "markdown",
   "metadata": {},
   "source": [
    "Counter based password"
   ]
  },
  {
   "cell_type": "code",
   "execution_count": 7,
   "metadata": {},
   "outputs": [
    {
     "name": "stdout",
     "output_type": "stream",
     "text": [
      "042132\n",
      "571294\n",
      "464017\n"
     ]
    }
   ],
   "source": [
    "hotp = pyotp.HOTP(key)\n",
    "print(hotp.at(0))\n",
    "print(hotp.at(1))\n",
    "print(hotp.at(2))"
   ]
  },
  {
   "cell_type": "code",
   "execution_count": 8,
   "metadata": {},
   "outputs": [
    {
     "name": "stdout",
     "output_type": "stream",
     "text": [
      "042132\n",
      "571294\n",
      "464017\n",
      "898417\n",
      "348717\n",
      "True\n",
      "True\n",
      "False\n",
      "False\n",
      "True\n"
     ]
    }
   ],
   "source": [
    "counter = 0\n",
    "hotp = pyotp.HOTP(key)\n",
    "print(hotp.at(0))\n",
    "print(hotp.at(1))\n",
    "print(hotp.at(2))\n",
    "print(hotp.at(3))\n",
    "print(hotp.at(4))\n",
    "for _ in range(5):\n",
    "    print(hotp.verify(input(\"Enter code:\"), counter))\n",
    "    counter += 1"
   ]
  },
  {
   "attachments": {},
   "cell_type": "markdown",
   "metadata": {},
   "source": [
    "pip install qrcode"
   ]
  },
  {
   "cell_type": "code",
   "execution_count": 9,
   "metadata": {},
   "outputs": [
    {
     "name": "stdout",
     "output_type": "stream",
     "text": [
      "otpauth://totp/BAMBA-APP:bamba98?secret=CHI5ZWVF4HA72YGGQ4S2HQQRWGEHOG34&issuer=BAMBA-APP\n"
     ]
    }
   ],
   "source": [
    "uri = pyotp.totp.TOTP(key).provisioning_uri(name=\"bamba98\",\n",
    "                                            issuer_name=\"BAMBA-APP\")\n",
    "print(uri)"
   ]
  },
  {
   "cell_type": "code",
   "execution_count": 10,
   "metadata": {},
   "outputs": [],
   "source": [
    "import qrcode\n",
    "\n",
    "qrcode.make(uri).save(\"totp.png\")"
   ]
  },
  {
   "attachments": {},
   "cell_type": "markdown",
   "metadata": {},
   "source": [
    "You can then verify the code here, after reading the QRcode from your phone."
   ]
  },
  {
   "cell_type": "code",
   "execution_count": 11,
   "metadata": {},
   "outputs": [
    {
     "name": "stdout",
     "output_type": "stream",
     "text": [
      "False\n",
      "False\n",
      "False\n",
      "False\n",
      "False\n"
     ]
    }
   ],
   "source": [
    "totp = pyotp.TOTP(key)\n",
    "while True:\n",
    "    print(totp.verify(input(\"Enter code:\")))"
   ]
  },
  {
   "cell_type": "code",
   "execution_count": null,
   "metadata": {},
   "outputs": [],
   "source": []
  }
 ],
 "metadata": {
  "kernelspec": {
   "display_name": "Python 3",
   "language": "python",
   "name": "python3"
  },
  "language_info": {
   "codemirror_mode": {
    "name": "ipython",
    "version": 3
   },
   "file_extension": ".py",
   "mimetype": "text/x-python",
   "name": "python",
   "nbconvert_exporter": "python",
   "pygments_lexer": "ipython3",
   "version": "3.10.8"
  },
  "orig_nbformat": 4
 },
 "nbformat": 4,
 "nbformat_minor": 2
}
