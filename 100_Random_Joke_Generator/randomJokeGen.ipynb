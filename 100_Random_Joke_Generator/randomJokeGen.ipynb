{
 "cells": [
  {
   "attachments": {},
   "cell_type": "markdown",
   "metadata": {},
   "source": [
    "# Random Joke Generator"
   ]
  },
  {
   "cell_type": "code",
   "execution_count": 1,
   "metadata": {},
   "outputs": [
    {
     "name": "stdout",
     "output_type": "stream",
     "text": [
      "Why did the tomato turn red?\n",
      "Because it saw the salad dressing.\n"
     ]
    }
   ],
   "source": [
    "import random\n",
    "\n",
    "jokes = [\n",
    "    {\n",
    "        \"setup\": \"Why did the programmer quit his job?\",\n",
    "        \"punchline\": \"He didn't get arrays!\"\n",
    "    },\n",
    "    {\n",
    "        \"setup\": \"Why do programmers prefer dark mode?\",\n",
    "        \"punchline\": \"Because light attracts bugs!\"\n",
    "    },\n",
    "    {\n",
    "        \"setup\": \"What do you get when you cross a snowman and a vampire?\",\n",
    "        \"punchline\": \"Frostbite!\"\n",
    "    },\n",
    "    {\n",
    "        \"setup\": \"Why was the math book sad?\",\n",
    "        \"punchline\": \"Because it had too many problems.\"\n",
    "    },\n",
    "    {\n",
    "        \"setup\": \"Why did the tomato turn red?\",\n",
    "        \"punchline\": \"Because it saw the salad dressing.\"\n",
    "    }\n",
    "]\n",
    "\n",
    "class Joke:\n",
    "    def __init__(self, setup, punchline):\n",
    "        self.setup = setup\n",
    "        self.punchline = punchline\n",
    "\n",
    "    def __str__(self):\n",
    "        return f\"{self.setup}/n{self.punchline}\"\n",
    "\n",
    "    def __repr__(self):\n",
    "        return f\"Joke(setup='{self.setup}', punchline='{self.punchline}')\"\n",
    "\n",
    "random_joke = Joke(**random.choice(jokes))\n",
    "\n",
    "print(random_joke)\n"
   ]
  },
  {
   "attachments": {},
   "cell_type": "markdown",
   "metadata": {},
   "source": [
    "The get_random_joke method now accepts an optional category parameter and returns a random joke from the specified category, or a random joke from any category if no category is specified. If no joke is found in the specified category, None is returned.\n",
    "\n",
    "The add_joke and remove_joke methods allow jokes to be added and removed from the generator's collection of jokes, respectively."
   ]
  },
  {
   "cell_type": "code",
   "execution_count": 2,
   "metadata": {},
   "outputs": [
    {
     "name": "stdout",
     "output_type": "stream",
     "text": [
      "Random joke:\n",
      "Why did the programmer quit his job?\n",
      "He didn't get arrays!\n",
      "Category: General\n",
      "\n",
      "Pun:\n",
      "What do you get when you cross a snowman and a vampire?\n",
      "Frostbite!\n",
      "Category: Puns\n",
      "\n",
      "Adding joke:\n",
      "Why did the chicken cross the playground?\n",
      "To get to the other slide.\n",
      "Category: Puns\n",
      "\n",
      "Removing joke:\n",
      "What do you get when you cross a snowman and a vampire?\n",
      "Frostbite!\n",
      "Category: Puns\n"
     ]
    }
   ],
   "source": [
    "import random\n",
    "\n",
    "class Joke:\n",
    "    def __init__(self, setup, punchline, category=\"General\"):\n",
    "        self.setup = setup\n",
    "        self.punchline = punchline\n",
    "        self.category = category\n",
    "\n",
    "    def __str__(self):\n",
    "        return f\"{self.setup}/n{self.punchline}/nCategory: {self.category}\"\n",
    "\n",
    "    def __repr__(self):\n",
    "        return f\"Joke(setup='{self.setup}', punchline='{self.punchline}', category='{self.category}')\"\n",
    "\n",
    "class JokeGenerator:\n",
    "    def __init__(self, jokes):\n",
    "        self.jokes = jokes\n",
    "\n",
    "    def get_random_joke(self, category=None):\n",
    "        if category:\n",
    "            category_jokes = [joke for joke in self.jokes if joke.category == category]\n",
    "            if category_jokes:\n",
    "                return random.choice(category_jokes)\n",
    "            else:\n",
    "                return None\n",
    "        else:\n",
    "            return random.choice(self.jokes)\n",
    "\n",
    "    def add_joke(self, joke):\n",
    "        self.jokes.append(joke)\n",
    "\n",
    "    def remove_joke(self, joke):\n",
    "        self.jokes.remove(joke)\n",
    "\n",
    "jokes = [\n",
    "    Joke(\"Why did the programmer quit his job?\", \"He didn't get arrays!\"),\n",
    "    Joke(\"Why do programmers prefer dark mode?\", \"Because light attracts bugs!\"),\n",
    "    Joke(\"What do you get when you cross a snowman and a vampire?\", \"Frostbite!\", \"Puns\"),\n",
    "    Joke(\"Why was the math book sad?\", \"Because it had too many problems.\", \"Math\"),\n",
    "    Joke(\"Why did the tomato turn red?\", \"Because it saw the salad dressing.\")\n",
    "]\n",
    "\n",
    "generator = JokeGenerator(jokes)\n",
    "\n",
    "print(\"Random joke:\")\n",
    "print(generator.get_random_joke())\n",
    "print(\"\")\n",
    "\n",
    "print(\"Pun:\")\n",
    "print(generator.get_random_joke(\"Puns\"))\n",
    "print(\"\")\n",
    "\n",
    "print(\"Adding joke:\")\n",
    "new_joke = Joke(\"Why did the chicken cross the playground?\", \"To get to the other slide.\", \"Puns\")\n",
    "generator.add_joke(new_joke)\n",
    "print(generator.get_random_joke(\"Puns\"))\n",
    "print(\"\")\n",
    "\n",
    "print(\"Removing joke:\")\n",
    "generator.remove_joke(new_joke)\n",
    "print(generator.get_random_joke(\"Puns\"))\n"
   ]
  },
  {
   "attachments": {},
   "cell_type": "markdown",
   "metadata": {},
   "source": [
    "## Fetch Joke From CSV file"
   ]
  },
  {
   "cell_type": "code",
   "execution_count": 4,
   "metadata": {},
   "outputs": [
    {
     "name": "stdout",
     "output_type": "stream",
     "text": [
      "Q: What is the first thing that President Clinton says after waking up? A: \"Good morning Bill.\"\n"
     ]
    }
   ],
   "source": [
    "import csv\n",
    "import random\n",
    "\n",
    "# Open the CSV file\n",
    "with open('C:/Users/anura/Documents/VSCode_Workspace/365-Days-of-Python/100_Random_Joke_Generator/Jokes/funjokes.csv', mode='r') as file:\n",
    "    reader = csv.reader(file)\n",
    "    # Skip the header row\n",
    "    next(reader)\n",
    "    # Store the jokes in a list\n",
    "    jokes = list(reader)\n",
    "\n",
    "# Select a random joke\n",
    "random_joke = random.choice(jokes)\n",
    "\n",
    "# Print the ID and joke with punchline\n",
    "print(f\"{random_joke[1]}\")\n"
   ]
  }
 ],
 "metadata": {
  "kernelspec": {
   "display_name": "Python 3",
   "language": "python",
   "name": "python3"
  },
  "language_info": {
   "codemirror_mode": {
    "name": "ipython",
    "version": 3
   },
   "file_extension": ".py",
   "mimetype": "text/x-python",
   "name": "python",
   "nbconvert_exporter": "python",
   "pygments_lexer": "ipython3",
   "version": "3.10.8"
  },
  "orig_nbformat": 4
 },
 "nbformat": 4,
 "nbformat_minor": 2
}
