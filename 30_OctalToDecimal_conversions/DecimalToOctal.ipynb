{
 "cells": [
  {
   "attachments": {},
   "cell_type": "markdown",
   "metadata": {},
   "source": [
    "# Converting from Base 10 to Base 8 [Decimal to Binary]"
   ]
  },
  {
   "cell_type": "code",
   "execution_count": 3,
   "metadata": {},
   "outputs": [
    {
     "name": "stdout",
     "output_type": "stream",
     "text": [
      "10\n"
     ]
    }
   ],
   "source": [
    "def decimal_to_octal(decimal):\n",
    "    return oct(decimal)[2:]\n",
    "\n",
    "decimal_number = 8\n",
    "octal_number = decimal_to_octal(decimal_number)\n",
    "print(octal_number)"
   ]
  },
  {
   "cell_type": "code",
   "execution_count": 9,
   "metadata": {},
   "outputs": [
    {
     "name": "stdout",
     "output_type": "stream",
     "text": [
      "o10\n"
     ]
    }
   ],
   "source": [
    "decimal_number = -8\n",
    "octal_number = decimal_to_octal(decimal_number)\n",
    "print(octal_number)"
   ]
  },
  {
   "attachments": {},
   "cell_type": "markdown",
   "metadata": {},
   "source": [
    "Without using oct()"
   ]
  },
  {
   "cell_type": "code",
   "execution_count": 14,
   "metadata": {},
   "outputs": [
    {
     "name": "stdout",
     "output_type": "stream",
     "text": [
      "10\n"
     ]
    }
   ],
   "source": [
    "decimal_number = 8\n",
    "octal_number = \"\"\n",
    "while decimal_number > 0:\n",
    "    octal_number = str(decimal_number % 8) + octal_number\n",
    "    decimal_number = decimal_number // 8 #returns non floating point result\n",
    "print(octal_number)\n"
   ]
  },
  {
   "cell_type": "code",
   "execution_count": 38,
   "metadata": {},
   "outputs": [
    {
     "name": "stdout",
     "output_type": "stream",
     "text": [
      "- 17\n"
     ]
    }
   ],
   "source": [
    "decimal_number = -15\n",
    "octal_number = \"\"\n",
    "if decimal_number < 0:\n",
    "    dec = abs(decimal_number)\n",
    "while dec > 0:\n",
    "    octal_number = octal_number + str(dec % 8) \n",
    "    dec = dec // 8\n",
    "\n",
    "octal_number = octal_number[::-1]\n",
    "# print(decimal_number)\n",
    "if decimal_number < 0:\n",
    "    print(\"-\",octal_number)\n",
    "else:\n",
    "    print(octal_number)\n"
   ]
  }
 ],
 "metadata": {
  "kernelspec": {
   "display_name": "Python 3",
   "language": "python",
   "name": "python3"
  },
  "language_info": {
   "codemirror_mode": {
    "name": "ipython",
    "version": 3
   },
   "file_extension": ".py",
   "mimetype": "text/x-python",
   "name": "python",
   "nbconvert_exporter": "python",
   "pygments_lexer": "ipython3",
   "version": "3.10.7"
  },
  "orig_nbformat": 4,
  "vscode": {
   "interpreter": {
    "hash": "fbfacf25abbc4466cbf6a4ec94f71aa428570133f008ac9f4c86deb26a69bb88"
   }
  }
 },
 "nbformat": 4,
 "nbformat_minor": 2
}
