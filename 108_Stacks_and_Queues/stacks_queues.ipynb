{
 "cells": [
  {
   "attachments": {},
   "cell_type": "markdown",
   "metadata": {},
   "source": [
    "# Stacks & Queues"
   ]
  },
  {
   "attachments": {},
   "cell_type": "markdown",
   "metadata": {},
   "source": [
    "Stacks and queues are two fundamental data structures in computer science that are used to store and manage collections of items.\n",
    "\n",
    "A stack is a data structure that follows the \"Last-In-First-Out\" (LIFO) principle. This means that the last item added to the stack is the first item to be removed. The stack has two main operations: push, which adds an item to the top of the stack, and pop, which removes the top item from the stack.\n",
    "\n",
    "Imagine a stack of books. You can only add or remove a book from the top of the stack. The last book that you put on the stack will be the first one to come off when you start removing books."
   ]
  },
  {
   "attachments": {},
   "cell_type": "markdown",
   "metadata": {},
   "source": [
    "A queue, on the other hand, follows the \"First-In-First-Out\" (FIFO) principle. This means that the first item added to the queue is the first item to be removed. The queue also has two main operations: enqueue, which adds an item to the back of the queue, and dequeue, which removes the front item from the queue.\n",
    "\n",
    "Imagine a line of people waiting to buy tickets. The person who arrives first is the first one to buy a ticket. As more people arrive, they get added to the back of the line. When it's time to buy a ticket, the person at the front of the line gets served first."
   ]
  },
  {
   "attachments": {},
   "cell_type": "markdown",
   "metadata": {},
   "source": [
    "\n",
    "Stacks and queues are commonly used in programming to implement algorithms and data structures such as expression evaluation, tree traversal, breadth-first search, and more. They are also useful for managing resources, such as memory allocation in computer systems."
   ]
  },
  {
   "attachments": {},
   "cell_type": "markdown",
   "metadata": {},
   "source": [
    "## Palindrome checker using a stack"
   ]
  },
  {
   "cell_type": "code",
   "execution_count": 1,
   "metadata": {},
   "outputs": [],
   "source": [
    "def is_palindrome(word):\n",
    "    stack = []\n",
    "    for letter in word:\n",
    "        stack.append(letter)\n",
    "    reverse_word = ''\n",
    "    while len(stack) > 0:\n",
    "        reverse_word += stack.pop()\n",
    "    if word == reverse_word:\n",
    "        return True\n",
    "    else:\n",
    "        return False\n"
   ]
  },
  {
   "cell_type": "code",
   "execution_count": 2,
   "metadata": {},
   "outputs": [
    {
     "data": {
      "text/plain": [
       "True"
      ]
     },
     "execution_count": 2,
     "metadata": {},
     "output_type": "execute_result"
    }
   ],
   "source": [
    "is_palindrome(\"racecar\")"
   ]
  },
  {
   "attachments": {},
   "cell_type": "markdown",
   "metadata": {},
   "source": [
    "## Reverse a string using stacks [stack implemented using list]"
   ]
  },
  {
   "cell_type": "code",
   "execution_count": 3,
   "metadata": {},
   "outputs": [],
   "source": [
    "def reverse_string(string):\n",
    "    stack = []\n",
    "    for letter in string:\n",
    "        stack.append(letter)\n",
    "    reversed_string = ''\n",
    "    while len(stack) > 0:\n",
    "        reversed_string += stack.pop()\n",
    "    return reversed_string\n"
   ]
  },
  {
   "cell_type": "code",
   "execution_count": 4,
   "metadata": {},
   "outputs": [
    {
     "data": {
      "text/plain": [
       "'abmab'"
      ]
     },
     "execution_count": 4,
     "metadata": {},
     "output_type": "execute_result"
    }
   ],
   "source": [
    "reverse_string(\"bamba\")"
   ]
  },
  {
   "attachments": {},
   "cell_type": "markdown",
   "metadata": {},
   "source": [
    "# Queues"
   ]
  },
  {
   "cell_type": "code",
   "execution_count": 13,
   "metadata": {},
   "outputs": [],
   "source": [
    "class Queue:\n",
    "    def __init__(self):\n",
    "        self.items = []\n",
    "\n",
    "    def is_empty(self):\n",
    "        return self.items == []\n",
    "\n",
    "    def enqueue(self, item):\n",
    "        self.items.append(item)\n",
    "\n",
    "    def dequeue(self):\n",
    "        return self.items.pop(0)\n"
   ]
  },
  {
   "cell_type": "code",
   "execution_count": 14,
   "metadata": {},
   "outputs": [
    {
     "name": "stdout",
     "output_type": "stream",
     "text": [
      "1\n",
      "2\n",
      "3\n"
     ]
    }
   ],
   "source": [
    "# create a new Queue object\n",
    "my_queue = Queue()\n",
    "\n",
    "# enqueue some items\n",
    "my_queue.enqueue(1)\n",
    "my_queue.enqueue(2)\n",
    "my_queue.enqueue(3)\n",
    "\n",
    "# dequeue items and print them\n",
    "print(my_queue.dequeue()) # Output: 1\n",
    "print(my_queue.dequeue()) # Output: 2\n",
    "print(my_queue.dequeue()) # Output: 3\n"
   ]
  },
  {
   "attachments": {},
   "cell_type": "markdown",
   "metadata": {},
   "source": [
    "## Breadth-first search algorithm"
   ]
  },
  {
   "cell_type": "code",
   "execution_count": 15,
   "metadata": {},
   "outputs": [
    {
     "name": "stdout",
     "output_type": "stream",
     "text": [
      "A\n",
      "B\n",
      "C\n",
      "D\n",
      "E\n",
      "F\n"
     ]
    }
   ],
   "source": [
    "from collections import deque\n",
    "\n",
    "# adjacency list representation of a graph\n",
    "graph = {\n",
    "    'A': ['B', 'C'],\n",
    "    'B': ['D', 'E'],\n",
    "    'C': ['F'],\n",
    "    'D': [],\n",
    "    'E': ['F'],\n",
    "    'F': []\n",
    "}\n",
    "\n",
    "def bfs(start_node):\n",
    "    visited = set()\n",
    "    queue = deque()\n",
    "    queue.append(start_node)\n",
    "    visited.add(start_node)\n",
    "    while queue:\n",
    "        node = queue.popleft()\n",
    "        print(node)\n",
    "        for neighbor in graph[node]:\n",
    "            if neighbor not in visited:\n",
    "                visited.add(neighbor)\n",
    "                queue.append(neighbor)\n",
    "\n",
    "# call the bfs function starting at node 'A'\n",
    "bfs('A')\n"
   ]
  },
  {
   "attachments": {},
   "cell_type": "markdown",
   "metadata": {},
   "source": [
    "## Circular buffer"
   ]
  },
  {
   "cell_type": "code",
   "execution_count": 16,
   "metadata": {},
   "outputs": [
    {
     "name": "stdout",
     "output_type": "stream",
     "text": [
      "1\n",
      "2\n",
      "3\n"
     ]
    }
   ],
   "source": [
    "class CircularBuffer:\n",
    "    def __init__(self, capacity):\n",
    "        self.capacity = capacity\n",
    "        self.buffer = [None] * capacity\n",
    "        self.head = 0\n",
    "        self.tail = 0\n",
    "\n",
    "    def enqueue(self, item):\n",
    "        if self.buffer[self.tail] is not None:\n",
    "            self.head = (self.head + 1) % self.capacity\n",
    "        self.buffer[self.tail] = item\n",
    "        self.tail = (self.tail + 1) % self.capacity\n",
    "\n",
    "    def dequeue(self):\n",
    "        if self.buffer[self.head] is None:\n",
    "            return None\n",
    "        item = self.buffer[self.head]\n",
    "        self.buffer[self.head] = None\n",
    "        self.head = (self.head + 1) % self.capacity\n",
    "        return item\n",
    "\n",
    "# create a new circular buffer with a capacity of 3\n",
    "cb = CircularBuffer(3)\n",
    "\n",
    "# enqueue some items\n",
    "cb.enqueue(1)\n",
    "cb.enqueue(2)\n",
    "cb.enqueue(3)\n",
    "\n",
    "# dequeue items and print them\n",
    "print(cb.dequeue()) # Output: 1\n",
    "print(cb.dequeue()) # Output: 2\n",
    "print(cb.dequeue()) # Output: 3\n"
   ]
  }
 ],
 "metadata": {
  "kernelspec": {
   "display_name": "Python 3",
   "language": "python",
   "name": "python3"
  },
  "language_info": {
   "codemirror_mode": {
    "name": "ipython",
    "version": 3
   },
   "file_extension": ".py",
   "mimetype": "text/x-python",
   "name": "python",
   "nbconvert_exporter": "python",
   "pygments_lexer": "ipython3",
   "version": "3.10.8"
  },
  "orig_nbformat": 4
 },
 "nbformat": 4,
 "nbformat_minor": 2
}
